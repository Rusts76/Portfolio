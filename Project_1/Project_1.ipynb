{
 "cells": [
  {
   "cell_type": "markdown",
   "metadata": {},
   "source": [
    "> Привет! \n",
    "\n",
    "Меня зовут Элина Сидоренко, и я буду проверять твой проект. Предлагаю общаться на «ты» :) Но если это не удобно - мы можем перейти на \"вы\". Моя основная цель — не указать на совершенные тобою ошибки, а помочь тебе с обучением.\n",
    "\n",
    "Мне понравился твой проект, все ключевые этапы в работе сделаны отлично, так что можно сказать, задача выполнена. Есть несколько моментов, на которые стоит обратить внимание. \n",
    "Комментарии по ним помечены  **красным** цветом. После их доработки проект будет принят. Осталось совсем немного, буду ждать твою работу на повторное ревью 🙂\n",
    "\n",
    "**Зелёным** цветом отмечены удачные и элегантные решения, на которые можно опираться в будущих проектах. **Жёлтым** цветом выделено то, что в следующий раз можно сделать по-другому. Ты можешь учесть эти комментарии при выполнении будущих заданий или доработать проект сейчас (однако это не обязательно).\n",
    "\n",
    "Давай работать над проектом в диалоге: если ты что-то меняешь в проекте по моим рекомендациям — пиши об этом. Выбери для своих комментариев какой-то заметный цвет, так мне будет легче отследить изменения. Пожалуйста, не перемещай, не изменяй и не удаляй мои комментарии. Всё это поможет выполнить повторную проверку твоего проекта оперативнее"
   ]
  },
  {
   "cell_type": "markdown",
   "metadata": {},
   "source": [
    "<div class=\"alert alert-info\"> <b>Комментарий студента:</b> Привет, Элина! Поправил все, что было помечено. Спасибо за проверку и добрые слова. </div>"
   ]
  },
  {
   "cell_type": "markdown",
   "metadata": {
    "id": "E0vqbgi9ay0H"
   },
   "source": [
    "# Яндекс.Музыка"
   ]
  },
  {
   "cell_type": "markdown",
   "metadata": {
    "id": "VUC88oWjTJw2"
   },
   "source": [
    "Сравнение Москвы и Петербурга окружено мифами. Например:\n",
    " * Москва — мегаполис, подчинённый жёсткому ритму рабочей недели;\n",
    " * Петербург — культурная столица, со своими вкусами.\n",
    "\n",
    "На данных Яндекс.Музыки вы сравните поведение пользователей двух столиц.\n",
    "\n",
    "**Цель исследования** — проверьте три гипотезы:\n",
    "1. Активность пользователей зависит от дня недели. Причём в Москве и Петербурге это проявляется по-разному.\n",
    "2. В понедельник утром в Москве преобладают одни жанры, а в Петербурге — другие. Так же и вечером пятницы преобладают разные жанры — в зависимости от города. \n",
    "3. Москва и Петербург предпочитают разные жанры музыки. В Москве чаще слушают поп-музыку, в Петербурге — русский рэп.\n",
    "\n",
    "**Ход исследования**\n",
    "\n",
    "Данные о поведении пользователей вы получите из файла `yandex_music_project.csv`. О качестве данных ничего не известно. Поэтому перед проверкой гипотез понадобится обзор данных. \n",
    "\n",
    "Вы проверите данные на ошибки и оцените их влияние на исследование. Затем, на этапе предобработки вы поищете возможность исправить самые критичные ошибки данных.\n",
    " \n",
    "Таким образом, исследование пройдёт в три этапа:\n",
    " 1. Обзор данных.\n",
    " 2. Предобработка данных.\n",
    " 3. Проверка гипотез.\n",
    "\n"
   ]
  },
  {
   "cell_type": "markdown",
   "metadata": {},
   "source": [
    "<div class=\"alert alert-success\">\n",
    "<h2> Комментарий ревьюера - ОК </h2>\n",
    "Хорошая практика начинать проект с контекста, описания задачи, возможного хода/плана исследования, а также описания имеющихся данных. Очень надеюсь, что ты будешь уделять этому внимание и в последующих проектах  \n",
    "</div>"
   ]
  },
  {
   "cell_type": "markdown",
   "metadata": {
    "id": "Ml1hmfXC_Zcs"
   },
   "source": [
    "## Обзор данных\n",
    "\n",
    "Составьте первое представление о данных Яндекс.Музыки.\n",
    "\n",
    "\n"
   ]
  },
  {
   "cell_type": "markdown",
   "metadata": {
    "id": "57eAOGIz_Zcs"
   },
   "source": [
    "Основной инструмент аналитика — `pandas`. Импортируйте эту библиотеку."
   ]
  },
  {
   "cell_type": "code",
   "execution_count": 1,
   "metadata": {
    "id": "AXN7PHPN_Zcs"
   },
   "outputs": [],
   "source": [
    "# импорт библиотеки pandas\n",
    "import pandas as pd"
   ]
  },
  {
   "cell_type": "markdown",
   "metadata": {},
   "source": [
    "<div class=\"alert alert-success\">\n",
    "<h2> Комментарий ревьюера - ОК </h2>\n",
    "Молодец, что используешь сокращение pd - это общепринятое сокращение для библиотеки Pandas для удобной дальнейшей работы   \n",
    "</div>"
   ]
  },
  {
   "cell_type": "markdown",
   "metadata": {
    "id": "SG23P8tt_Zcs"
   },
   "source": [
    "Прочитайте файл `yandex_music_project.csv` из папки `/datasets` и сохраните его в переменной `df`:"
   ]
  },
  {
   "cell_type": "code",
   "execution_count": 2,
   "metadata": {
    "id": "fFVu7vqh_Zct"
   },
   "outputs": [],
   "source": [
    "# чтение файла с данными и сохранение в df\n",
    "df = pd.read_csv('/datasets/yandex_music_project.csv')"
   ]
  },
  {
   "cell_type": "markdown",
   "metadata": {},
   "source": [
    "<div class=\"alert alert-success\">\n",
    "<h2> Комментарий ревьюера - ОК </h2>\n",
    "путь к файлу указан верно, чтение файла прошло успешно  \n",
    "</div>"
   ]
  },
  {
   "cell_type": "markdown",
   "metadata": {
    "id": "rDoOMd3uTqnZ"
   },
   "source": [
    "Выведите на экран первые десять строк таблицы:"
   ]
  },
  {
   "cell_type": "code",
   "execution_count": 3,
   "metadata": {
    "id": "oWTVX3gW_Zct"
   },
   "outputs": [
    {
     "data": {
      "text/html": [
       "<div>\n",
       "<style scoped>\n",
       "    .dataframe tbody tr th:only-of-type {\n",
       "        vertical-align: middle;\n",
       "    }\n",
       "\n",
       "    .dataframe tbody tr th {\n",
       "        vertical-align: top;\n",
       "    }\n",
       "\n",
       "    .dataframe thead th {\n",
       "        text-align: right;\n",
       "    }\n",
       "</style>\n",
       "<table border=\"1\" class=\"dataframe\">\n",
       "  <thead>\n",
       "    <tr style=\"text-align: right;\">\n",
       "      <th></th>\n",
       "      <th>userID</th>\n",
       "      <th>Track</th>\n",
       "      <th>artist</th>\n",
       "      <th>genre</th>\n",
       "      <th>City</th>\n",
       "      <th>time</th>\n",
       "      <th>Day</th>\n",
       "    </tr>\n",
       "  </thead>\n",
       "  <tbody>\n",
       "    <tr>\n",
       "      <th>0</th>\n",
       "      <td>FFB692EC</td>\n",
       "      <td>Kamigata To Boots</td>\n",
       "      <td>The Mass Missile</td>\n",
       "      <td>rock</td>\n",
       "      <td>Saint-Petersburg</td>\n",
       "      <td>20:28:33</td>\n",
       "      <td>Wednesday</td>\n",
       "    </tr>\n",
       "    <tr>\n",
       "      <th>1</th>\n",
       "      <td>55204538</td>\n",
       "      <td>Delayed Because of Accident</td>\n",
       "      <td>Andreas Rönnberg</td>\n",
       "      <td>rock</td>\n",
       "      <td>Moscow</td>\n",
       "      <td>14:07:09</td>\n",
       "      <td>Friday</td>\n",
       "    </tr>\n",
       "    <tr>\n",
       "      <th>2</th>\n",
       "      <td>20EC38</td>\n",
       "      <td>Funiculì funiculà</td>\n",
       "      <td>Mario Lanza</td>\n",
       "      <td>pop</td>\n",
       "      <td>Saint-Petersburg</td>\n",
       "      <td>20:58:07</td>\n",
       "      <td>Wednesday</td>\n",
       "    </tr>\n",
       "    <tr>\n",
       "      <th>3</th>\n",
       "      <td>A3DD03C9</td>\n",
       "      <td>Dragons in the Sunset</td>\n",
       "      <td>Fire + Ice</td>\n",
       "      <td>folk</td>\n",
       "      <td>Saint-Petersburg</td>\n",
       "      <td>08:37:09</td>\n",
       "      <td>Monday</td>\n",
       "    </tr>\n",
       "    <tr>\n",
       "      <th>4</th>\n",
       "      <td>E2DC1FAE</td>\n",
       "      <td>Soul People</td>\n",
       "      <td>Space Echo</td>\n",
       "      <td>dance</td>\n",
       "      <td>Moscow</td>\n",
       "      <td>08:34:34</td>\n",
       "      <td>Monday</td>\n",
       "    </tr>\n",
       "    <tr>\n",
       "      <th>5</th>\n",
       "      <td>842029A1</td>\n",
       "      <td>Преданная</td>\n",
       "      <td>IMPERVTOR</td>\n",
       "      <td>rusrap</td>\n",
       "      <td>Saint-Petersburg</td>\n",
       "      <td>13:09:41</td>\n",
       "      <td>Friday</td>\n",
       "    </tr>\n",
       "    <tr>\n",
       "      <th>6</th>\n",
       "      <td>4CB90AA5</td>\n",
       "      <td>True</td>\n",
       "      <td>Roman Messer</td>\n",
       "      <td>dance</td>\n",
       "      <td>Moscow</td>\n",
       "      <td>13:00:07</td>\n",
       "      <td>Wednesday</td>\n",
       "    </tr>\n",
       "    <tr>\n",
       "      <th>7</th>\n",
       "      <td>F03E1C1F</td>\n",
       "      <td>Feeling This Way</td>\n",
       "      <td>Polina Griffith</td>\n",
       "      <td>dance</td>\n",
       "      <td>Moscow</td>\n",
       "      <td>20:47:49</td>\n",
       "      <td>Wednesday</td>\n",
       "    </tr>\n",
       "    <tr>\n",
       "      <th>8</th>\n",
       "      <td>8FA1D3BE</td>\n",
       "      <td>И вновь продолжается бой</td>\n",
       "      <td>NaN</td>\n",
       "      <td>ruspop</td>\n",
       "      <td>Moscow</td>\n",
       "      <td>09:17:40</td>\n",
       "      <td>Friday</td>\n",
       "    </tr>\n",
       "    <tr>\n",
       "      <th>9</th>\n",
       "      <td>E772D5C0</td>\n",
       "      <td>Pessimist</td>\n",
       "      <td>NaN</td>\n",
       "      <td>dance</td>\n",
       "      <td>Saint-Petersburg</td>\n",
       "      <td>21:20:49</td>\n",
       "      <td>Wednesday</td>\n",
       "    </tr>\n",
       "  </tbody>\n",
       "</table>\n",
       "</div>"
      ],
      "text/plain": [
       "     userID                        Track            artist   genre  \\\n",
       "0  FFB692EC            Kamigata To Boots  The Mass Missile    rock   \n",
       "1  55204538  Delayed Because of Accident  Andreas Rönnberg    rock   \n",
       "2    20EC38            Funiculì funiculà       Mario Lanza     pop   \n",
       "3  A3DD03C9        Dragons in the Sunset        Fire + Ice    folk   \n",
       "4  E2DC1FAE                  Soul People        Space Echo   dance   \n",
       "5  842029A1                    Преданная         IMPERVTOR  rusrap   \n",
       "6  4CB90AA5                         True      Roman Messer   dance   \n",
       "7  F03E1C1F             Feeling This Way   Polina Griffith   dance   \n",
       "8  8FA1D3BE     И вновь продолжается бой               NaN  ruspop   \n",
       "9  E772D5C0                    Pessimist               NaN   dance   \n",
       "\n",
       "             City        time        Day  \n",
       "0  Saint-Petersburg  20:28:33  Wednesday  \n",
       "1            Moscow  14:07:09     Friday  \n",
       "2  Saint-Petersburg  20:58:07  Wednesday  \n",
       "3  Saint-Petersburg  08:37:09     Monday  \n",
       "4            Moscow  08:34:34     Monday  \n",
       "5  Saint-Petersburg  13:09:41     Friday  \n",
       "6            Moscow  13:00:07  Wednesday  \n",
       "7            Moscow  20:47:49  Wednesday  \n",
       "8            Moscow  09:17:40     Friday  \n",
       "9  Saint-Petersburg  21:20:49  Wednesday  "
      ]
     },
     "metadata": {},
     "output_type": "display_data"
    }
   ],
   "source": [
    "# получение первых 10 строк таблицы df\n",
    "display(df.head(10))"
   ]
  },
  {
   "cell_type": "markdown",
   "metadata": {
    "id": "EO73Kwic_Zct"
   },
   "source": [
    "Одной командой получить общую информацию о таблице:"
   ]
  },
  {
   "cell_type": "code",
   "execution_count": 4,
   "metadata": {
    "id": "DSf2kIb-_Zct"
   },
   "outputs": [
    {
     "name": "stdout",
     "output_type": "stream",
     "text": [
      "<class 'pandas.core.frame.DataFrame'>\n",
      "RangeIndex: 65079 entries, 0 to 65078\n",
      "Data columns (total 7 columns):\n",
      " #   Column    Non-Null Count  Dtype \n",
      "---  ------    --------------  ----- \n",
      " 0     userID  65079 non-null  object\n",
      " 1   Track     63848 non-null  object\n",
      " 2   artist    57876 non-null  object\n",
      " 3   genre     63881 non-null  object\n",
      " 4     City    65079 non-null  object\n",
      " 5   time      65079 non-null  object\n",
      " 6   Day       65079 non-null  object\n",
      "dtypes: object(7)\n",
      "memory usage: 3.5+ MB\n"
     ]
    }
   ],
   "source": [
    "# получение общей информации о данных в таблице df\n",
    "df.info()"
   ]
  },
  {
   "cell_type": "markdown",
   "metadata": {},
   "source": [
    "<div class=\"alert alert-warning\">\n",
    "<h2> Комментарий ревьюера - можно лучше</h2>\n",
    "Для вывода результата на экран здесь не нужно использовать функцию print(): результат и так будет выведен, так как это последняя строчка ячейки.\n",
    "</div>  "
   ]
  },
  {
   "cell_type": "markdown",
   "metadata": {},
   "source": [
    "<div class=\"alert alert-info\"> <b>Комментарий студента:</b> Убрал функцию 'print', без нее работает.</div>"
   ]
  },
  {
   "cell_type": "markdown",
   "metadata": {},
   "source": [
    "<div class=\"alert alert-success\">\n",
    "<h2> Комментарий ревьюера - ОК </h2>\n",
    "Ты правильно используешь методы head() и info(). Первое представление о датасете мы получили. \n",
    "</div>"
   ]
  },
  {
   "cell_type": "markdown",
   "metadata": {
    "id": "TaQ2Iwbr_Zct"
   },
   "source": [
    "Итак, в таблице семь столбцов. Тип данных во всех столбцах — `object`.\n",
    "\n",
    "Согласно документации к данным:\n",
    "* `userID` — идентификатор пользователя;\n",
    "* `Track` — название трека;  \n",
    "* `artist` — имя исполнителя;\n",
    "* `genre` — название жанра;\n",
    "* `City` — город пользователя;\n",
    "* `time` — время начала прослушивания;\n",
    "* `Day` — день недели.\n",
    "\n",
    "В названиях колонок видны три нарушения стиля:\n",
    "1. Строчные буквы сочетаются с прописными.\n",
    "2. Встречаются пробелы.\n",
    "3. UserID правильнее писать с нижним подчеркиванием, в \"змеином регистре\"\n",
    "\n",
    "Количество значений в столбцах различается. Значит, в данных есть пропущенные значения.\n"
   ]
  },
  {
   "cell_type": "markdown",
   "metadata": {},
   "source": [
    "<div class=\"alert alert-warning\">\n",
    "<h2> Комментарий ревьюера - можно лучше</h2>\n",
    "<s>Про «змеиный_регистр» верно подмечено! Только нужно убрать из пункта 3 текст задания: \"Найдите ещё одну проблему в названии колонок и опишите её в этом пункте\" и вставить твой ответ</s> Выполнено!\n",
    "</div>  "
   ]
  },
  {
   "cell_type": "markdown",
   "metadata": {},
   "source": [
    "<div class=\"alert alert-info\"> <b>Комментарий студента:</b> Исправил пункт 3.</div>"
   ]
  },
  {
   "cell_type": "markdown",
   "metadata": {
    "id": "MCB6-dXG_Zct"
   },
   "source": [
    "**Выводы**\n",
    "\n",
    "В каждой строке таблицы — данные о прослушанном треке. Часть колонок описывает саму композицию: название, исполнителя и жанр. Остальные данные рассказывают о пользователе: из какого он города, когда он слушал музыку. \n",
    "\n",
    "Предварительно можно утверждать, что, данных достаточно для проверки гипотез. Но встречаются пропуски в данных, а в названиях колонок — расхождения с хорошим стилем.\n",
    "\n",
    "Чтобы двигаться дальше, нужно устранить проблемы в данных."
   ]
  },
  {
   "cell_type": "markdown",
   "metadata": {},
   "source": [
    "<div class=\"alert alert-success\">\n",
    "<h2> Комментарий ревьюера - ОК </h2>\n",
    "Обзор данных проведен. Поехали дальше!\n",
    "</div>"
   ]
  },
  {
   "cell_type": "markdown",
   "metadata": {
    "id": "SjYF6Ub9_Zct"
   },
   "source": [
    "## Предобработка данных\n",
    "Исправьте стиль в заголовках столбцов, исключите пропуски. Затем проверьте данные на дубликаты."
   ]
  },
  {
   "cell_type": "markdown",
   "metadata": {
    "id": "dIaKXr29_Zct"
   },
   "source": [
    "### Стиль заголовков\n",
    "Выведите на экран названия столбцов:"
   ]
  },
  {
   "cell_type": "code",
   "execution_count": 5,
   "metadata": {
    "id": "oKOTdF_Q_Zct"
   },
   "outputs": [
    {
     "name": "stdout",
     "output_type": "stream",
     "text": [
      "Index(['  userID', 'Track', 'artist', 'genre', '  City  ', 'time', 'Day'], dtype='object')\n"
     ]
    }
   ],
   "source": [
    "# перечень названий столбцов таблицы df\n",
    "print(df.columns)"
   ]
  },
  {
   "cell_type": "markdown",
   "metadata": {
    "id": "zj5534cv_Zct"
   },
   "source": [
    "Приведите названия в соответствие с хорошим стилем:\n",
    "* несколько слов в названии запишите в «змеином_регистре»,\n",
    "* все символы сделайте строчными,\n",
    "* устраните пробелы.\n",
    "\n",
    "Для этого переименуйте колонки так:\n",
    "* `'  userID'` → `'user_id'`;\n",
    "* `'Track'` → `'track'`;\n",
    "* `'  City  '` → `'city'`;\n",
    "* `'Day'` → `'day'`."
   ]
  },
  {
   "cell_type": "code",
   "execution_count": 6,
   "metadata": {
    "id": "ISlFqs5y_Zct"
   },
   "outputs": [],
   "source": [
    "# переименование столбцов\n",
    "df = df.rename(\n",
    "    columns={\n",
    "        '  userID': 'user_id',\n",
    "        'Track': 'track',\n",
    "        '  City  ': 'city',\n",
    "        'Day': 'day'\n",
    "    }\n",
    ")"
   ]
  },
  {
   "cell_type": "markdown",
   "metadata": {},
   "source": [
    "<div class=\"alert alert-success\">\n",
    "<h2> Комментарий ревьюера - ОК </h2>\n",
    "Хороший выбор метода - rename сработает без ошибок, даже если изменится порядок столбцов.\n",
    "</div>"
   ]
  },
  {
   "cell_type": "markdown",
   "metadata": {
    "id": "1dqbh00J_Zct"
   },
   "source": [
    "Проверьте результат. Для этого ещё раз выведите на экран названия столбцов:"
   ]
  },
  {
   "cell_type": "code",
   "execution_count": 7,
   "metadata": {
    "id": "d4NOAmTW_Zct"
   },
   "outputs": [
    {
     "name": "stdout",
     "output_type": "stream",
     "text": [
      "Index(['user_id', 'track', 'artist', 'genre', 'city', 'time', 'day'], dtype='object')\n"
     ]
    }
   ],
   "source": [
    "# проверка результатов - перечень названий столбцов\n",
    "print(df.columns)"
   ]
  },
  {
   "cell_type": "markdown",
   "metadata": {},
   "source": [
    "<div class=\"alert alert-success\">\n",
    "<h2> Комментарий ревьюера - ОК </h2>\n",
    "Столбцы успешно переименованы, теперь они в едином стиле. Работать с ними будет удобнее. \n",
    "</div>"
   ]
  },
  {
   "cell_type": "markdown",
   "metadata": {
    "id": "5ISfbcfY_Zct"
   },
   "source": [
    "### Пропуски значений\n",
    "Сначала посчитайте, сколько в таблице пропущенных значений. Для этого достаточно двух методов `pandas`:"
   ]
  },
  {
   "cell_type": "code",
   "execution_count": 8,
   "metadata": {
    "id": "RskX29qr_Zct"
   },
   "outputs": [
    {
     "name": "stdout",
     "output_type": "stream",
     "text": [
      "user_id       0\n",
      "track      1231\n",
      "artist     7203\n",
      "genre      1198\n",
      "city          0\n",
      "time          0\n",
      "day           0\n",
      "dtype: int64\n"
     ]
    }
   ],
   "source": [
    "# подсчёт пропусков\n",
    "print(df.isna().sum())"
   ]
  },
  {
   "cell_type": "markdown",
   "metadata": {},
   "source": [
    "<div class=\"alert alert-success\">\n",
    "<h2> Комментарий ревьюера - ОК </h2>\n",
    "Пропущенные значения подсчитаны верно. Молодец, что используешь метод isna() для поиска пропущенных значений. \n",
    "</div>"
   ]
  },
  {
   "cell_type": "markdown",
   "metadata": {
    "id": "qubhgnlO_Zct"
   },
   "source": [
    "Не все пропущенные значения влияют на исследование. Так в `track` и `artist` пропуски не важны для вашей работы. Достаточно заменить их явными обозначениями.\n",
    "\n",
    "Но пропуски в `genre` могут помешать сравнению музыкальных вкусов в Москве и Санкт-Петербурге. На практике было бы правильно установить причину пропусков и восстановить данные. Такой возможности нет в учебном проекте. Придётся:\n",
    "* заполнить и эти пропуски явными обозначениями,\n",
    "* оценить, насколько они повредят расчётам. "
   ]
  },
  {
   "cell_type": "markdown",
   "metadata": {
    "id": "fSv2laPA_Zct"
   },
   "source": [
    "Замените пропущенные значения в столбцах `track`, `artist` и `genre` на строку `'unknown'`. Для этого создайте список `columns_to_replace`, переберите его элементы циклом `for` и для каждого столбца выполните замену пропущенных значений:"
   ]
  },
  {
   "cell_type": "code",
   "execution_count": 9,
   "metadata": {
    "id": "KplB5qWs_Zct"
   },
   "outputs": [
    {
     "data": {
      "text/html": [
       "<div>\n",
       "<style scoped>\n",
       "    .dataframe tbody tr th:only-of-type {\n",
       "        vertical-align: middle;\n",
       "    }\n",
       "\n",
       "    .dataframe tbody tr th {\n",
       "        vertical-align: top;\n",
       "    }\n",
       "\n",
       "    .dataframe thead th {\n",
       "        text-align: right;\n",
       "    }\n",
       "</style>\n",
       "<table border=\"1\" class=\"dataframe\">\n",
       "  <thead>\n",
       "    <tr style=\"text-align: right;\">\n",
       "      <th></th>\n",
       "      <th>user_id</th>\n",
       "      <th>track</th>\n",
       "      <th>artist</th>\n",
       "      <th>genre</th>\n",
       "      <th>city</th>\n",
       "      <th>time</th>\n",
       "      <th>day</th>\n",
       "    </tr>\n",
       "  </thead>\n",
       "  <tbody>\n",
       "    <tr>\n",
       "      <th>0</th>\n",
       "      <td>FFB692EC</td>\n",
       "      <td>Kamigata To Boots</td>\n",
       "      <td>The Mass Missile</td>\n",
       "      <td>rock</td>\n",
       "      <td>Saint-Petersburg</td>\n",
       "      <td>20:28:33</td>\n",
       "      <td>Wednesday</td>\n",
       "    </tr>\n",
       "    <tr>\n",
       "      <th>1</th>\n",
       "      <td>55204538</td>\n",
       "      <td>Delayed Because of Accident</td>\n",
       "      <td>Andreas Rönnberg</td>\n",
       "      <td>rock</td>\n",
       "      <td>Moscow</td>\n",
       "      <td>14:07:09</td>\n",
       "      <td>Friday</td>\n",
       "    </tr>\n",
       "    <tr>\n",
       "      <th>2</th>\n",
       "      <td>20EC38</td>\n",
       "      <td>Funiculì funiculà</td>\n",
       "      <td>Mario Lanza</td>\n",
       "      <td>pop</td>\n",
       "      <td>Saint-Petersburg</td>\n",
       "      <td>20:58:07</td>\n",
       "      <td>Wednesday</td>\n",
       "    </tr>\n",
       "    <tr>\n",
       "      <th>3</th>\n",
       "      <td>A3DD03C9</td>\n",
       "      <td>Dragons in the Sunset</td>\n",
       "      <td>Fire + Ice</td>\n",
       "      <td>folk</td>\n",
       "      <td>Saint-Petersburg</td>\n",
       "      <td>08:37:09</td>\n",
       "      <td>Monday</td>\n",
       "    </tr>\n",
       "    <tr>\n",
       "      <th>4</th>\n",
       "      <td>E2DC1FAE</td>\n",
       "      <td>Soul People</td>\n",
       "      <td>Space Echo</td>\n",
       "      <td>dance</td>\n",
       "      <td>Moscow</td>\n",
       "      <td>08:34:34</td>\n",
       "      <td>Monday</td>\n",
       "    </tr>\n",
       "    <tr>\n",
       "      <th>5</th>\n",
       "      <td>842029A1</td>\n",
       "      <td>Преданная</td>\n",
       "      <td>IMPERVTOR</td>\n",
       "      <td>rusrap</td>\n",
       "      <td>Saint-Petersburg</td>\n",
       "      <td>13:09:41</td>\n",
       "      <td>Friday</td>\n",
       "    </tr>\n",
       "    <tr>\n",
       "      <th>6</th>\n",
       "      <td>4CB90AA5</td>\n",
       "      <td>True</td>\n",
       "      <td>Roman Messer</td>\n",
       "      <td>dance</td>\n",
       "      <td>Moscow</td>\n",
       "      <td>13:00:07</td>\n",
       "      <td>Wednesday</td>\n",
       "    </tr>\n",
       "    <tr>\n",
       "      <th>7</th>\n",
       "      <td>F03E1C1F</td>\n",
       "      <td>Feeling This Way</td>\n",
       "      <td>Polina Griffith</td>\n",
       "      <td>dance</td>\n",
       "      <td>Moscow</td>\n",
       "      <td>20:47:49</td>\n",
       "      <td>Wednesday</td>\n",
       "    </tr>\n",
       "    <tr>\n",
       "      <th>8</th>\n",
       "      <td>8FA1D3BE</td>\n",
       "      <td>И вновь продолжается бой</td>\n",
       "      <td>unknown</td>\n",
       "      <td>ruspop</td>\n",
       "      <td>Moscow</td>\n",
       "      <td>09:17:40</td>\n",
       "      <td>Friday</td>\n",
       "    </tr>\n",
       "    <tr>\n",
       "      <th>9</th>\n",
       "      <td>E772D5C0</td>\n",
       "      <td>Pessimist</td>\n",
       "      <td>unknown</td>\n",
       "      <td>dance</td>\n",
       "      <td>Saint-Petersburg</td>\n",
       "      <td>21:20:49</td>\n",
       "      <td>Wednesday</td>\n",
       "    </tr>\n",
       "  </tbody>\n",
       "</table>\n",
       "</div>"
      ],
      "text/plain": [
       "    user_id                        track            artist   genre  \\\n",
       "0  FFB692EC            Kamigata To Boots  The Mass Missile    rock   \n",
       "1  55204538  Delayed Because of Accident  Andreas Rönnberg    rock   \n",
       "2    20EC38            Funiculì funiculà       Mario Lanza     pop   \n",
       "3  A3DD03C9        Dragons in the Sunset        Fire + Ice    folk   \n",
       "4  E2DC1FAE                  Soul People        Space Echo   dance   \n",
       "5  842029A1                    Преданная         IMPERVTOR  rusrap   \n",
       "6  4CB90AA5                         True      Roman Messer   dance   \n",
       "7  F03E1C1F             Feeling This Way   Polina Griffith   dance   \n",
       "8  8FA1D3BE     И вновь продолжается бой           unknown  ruspop   \n",
       "9  E772D5C0                    Pessimist           unknown   dance   \n",
       "\n",
       "               city      time        day  \n",
       "0  Saint-Petersburg  20:28:33  Wednesday  \n",
       "1            Moscow  14:07:09     Friday  \n",
       "2  Saint-Petersburg  20:58:07  Wednesday  \n",
       "3  Saint-Petersburg  08:37:09     Monday  \n",
       "4            Moscow  08:34:34     Monday  \n",
       "5  Saint-Petersburg  13:09:41     Friday  \n",
       "6            Moscow  13:00:07  Wednesday  \n",
       "7            Moscow  20:47:49  Wednesday  \n",
       "8            Moscow  09:17:40     Friday  \n",
       "9  Saint-Petersburg  21:20:49  Wednesday  "
      ]
     },
     "metadata": {},
     "output_type": "display_data"
    }
   ],
   "source": [
    "# перебор названий столбцов в цикле и замена пропущенных значений на 'unknown'\n",
    "columns_to_replace = ['track','artist','genre']\n",
    "for elem in columns_to_replace:\n",
    "    df[columns_to_replace] = df[columns_to_replace].fillna('unknown')\n",
    "           \n",
    "display(df.head(10))"
   ]
  },
  {
   "cell_type": "markdown",
   "metadata": {},
   "source": [
    "<div class=\"alert alert-success\">\n",
    "<h2> Комментарий ревьюера - ОК </h2>\n",
    "Список columns_to_replace сформирован верно, цикл отработал без ошибок.\n",
    "</div>"
   ]
  },
  {
   "cell_type": "markdown",
   "metadata": {
    "id": "Ilsm-MZo_Zct"
   },
   "source": [
    "Убедитесь, что в таблице не осталось пропусков. Для этого ещё раз посчитайте пропущенные значения."
   ]
  },
  {
   "cell_type": "code",
   "execution_count": 10,
   "metadata": {
    "id": "Tq4nYRX4_Zct"
   },
   "outputs": [
    {
     "name": "stdout",
     "output_type": "stream",
     "text": [
      "user_id    0\n",
      "track      0\n",
      "artist     0\n",
      "genre      0\n",
      "city       0\n",
      "time       0\n",
      "day        0\n",
      "dtype: int64\n"
     ]
    }
   ],
   "source": [
    "# подсчёт пропусков\n",
    "print(df.isna().sum())"
   ]
  },
  {
   "cell_type": "markdown",
   "metadata": {},
   "source": [
    "<div class=\"alert alert-success\">\n",
    "<h2> Комментарий ревьюера - ОК </h2>\n",
    "Отлично, проблема с пропусками решена. Можно идти дальше.\n",
    "</div>"
   ]
  },
  {
   "cell_type": "markdown",
   "metadata": {
    "id": "BWKRtBJ3_Zct"
   },
   "source": [
    "### Дубликаты\n",
    "Посчитайте явные дубликаты в таблице одной командой:"
   ]
  },
  {
   "cell_type": "code",
   "execution_count": 11,
   "metadata": {
    "id": "36eES_S0_Zct"
   },
   "outputs": [
    {
     "data": {
      "text/plain": [
       "3826"
      ]
     },
     "execution_count": 11,
     "metadata": {},
     "output_type": "execute_result"
    }
   ],
   "source": [
    "# подсчёт явных дубликатов\n",
    "df.duplicated().sum()"
   ]
  },
  {
   "cell_type": "markdown",
   "metadata": {},
   "source": [
    "<div class=\"alert alert-success\">\n",
    "<h2> Комментарий ревьюера - ОК </h2>\n",
    "Дубликаты верно найдены и посчитаны оптимальными методами.\n",
    "</div>"
   ]
  },
  {
   "cell_type": "markdown",
   "metadata": {
    "id": "Ot25h6XR_Zct"
   },
   "source": [
    "Вызовите специальный метод `pandas`, чтобы удалить явные дубликаты:"
   ]
  },
  {
   "cell_type": "code",
   "execution_count": 12,
   "metadata": {
    "id": "exFHq6tt_Zct"
   },
   "outputs": [],
   "source": [
    "# удаление явных дубликатов (с удалением старых индексов и формированием новых)\n",
    "df = df.drop_duplicates().reset_index(drop=True)"
   ]
  },
  {
   "cell_type": "markdown",
   "metadata": {},
   "source": [
    "<div class=\"alert alert-success\">\n",
    "<h2> Комментарий ревьюера - ОК </h2>\n",
    "Молодец, что применяешь метод drop_duplicates() для удаления дубликатов.\n",
    "</div>"
   ]
  },
  {
   "cell_type": "markdown",
   "metadata": {
    "id": "Im2YwBEG_Zct"
   },
   "source": [
    "Ещё раз посчитайте явные дубликаты в таблице — убедитесь, что полностью от них избавились:"
   ]
  },
  {
   "cell_type": "code",
   "execution_count": 13,
   "metadata": {
    "id": "-8PuNWQ0_Zct"
   },
   "outputs": [
    {
     "data": {
      "text/plain": [
       "0"
      ]
     },
     "execution_count": 13,
     "metadata": {},
     "output_type": "execute_result"
    }
   ],
   "source": [
    "# проверка на отсутствие дубликатов\n",
    "df.duplicated().sum()"
   ]
  },
  {
   "cell_type": "markdown",
   "metadata": {},
   "source": [
    "<div class=\"alert alert-success\">\n",
    "<h2> Комментарий ревьюера - ОК </h2>\n",
    "Дубликаты удалены корректно\n",
    "</div>"
   ]
  },
  {
   "cell_type": "markdown",
   "metadata": {
    "id": "QlFBsxAr_Zct"
   },
   "source": [
    "Теперь избавьтесь от неявных дубликатов в колонке `genre`. Например, название одного и того же жанра может быть записано немного по-разному. Такие ошибки тоже повлияют на результат исследования."
   ]
  },
  {
   "cell_type": "markdown",
   "metadata": {
    "id": "eSjWwsOh_Zct"
   },
   "source": [
    "Выведите на экран список уникальных названий жанров, отсортированный в алфавитном порядке. Для этого:\n",
    "* извлеките нужный столбец датафрейма, \n",
    "* примените к нему метод сортировки,\n",
    "* для отсортированного столбца вызовите метод, который вернёт уникальные значения из столбца."
   ]
  },
  {
   "cell_type": "code",
   "execution_count": 14,
   "metadata": {
    "id": "JIUcqzZN_Zct"
   },
   "outputs": [
    {
     "data": {
      "text/plain": [
       "array(['acid', 'acoustic', 'action', 'adult', 'africa', 'afrikaans',\n",
       "       'alternative', 'alternativepunk', 'ambient', 'americana',\n",
       "       'animated', 'anime', 'arabesk', 'arabic', 'arena',\n",
       "       'argentinetango', 'art', 'audiobook', 'author', 'avantgarde',\n",
       "       'axé', 'baile', 'balkan', 'beats', 'bigroom', 'black', 'bluegrass',\n",
       "       'blues', 'bollywood', 'bossa', 'brazilian', 'breakbeat', 'breaks',\n",
       "       'broadway', 'cantautori', 'cantopop', 'canzone', 'caribbean',\n",
       "       'caucasian', 'celtic', 'chamber', 'chanson', 'children', 'chill',\n",
       "       'chinese', 'choral', 'christian', 'christmas', 'classical',\n",
       "       'classicmetal', 'club', 'colombian', 'comedy', 'conjazz',\n",
       "       'contemporary', 'country', 'cuban', 'dance', 'dancehall',\n",
       "       'dancepop', 'dark', 'death', 'deep', 'deutschrock', 'deutschspr',\n",
       "       'dirty', 'disco', 'dnb', 'documentary', 'downbeat', 'downtempo',\n",
       "       'drum', 'dub', 'dubstep', 'eastern', 'easy', 'electronic',\n",
       "       'electropop', 'emo', 'entehno', 'epicmetal', 'estrada', 'ethnic',\n",
       "       'eurofolk', 'european', 'experimental', 'extrememetal', 'fado',\n",
       "       'fairytail', 'film', 'fitness', 'flamenco', 'folk', 'folklore',\n",
       "       'folkmetal', 'folkrock', 'folktronica', 'forró', 'frankreich',\n",
       "       'französisch', 'french', 'funk', 'future', 'gangsta', 'garage',\n",
       "       'german', 'ghazal', 'gitarre', 'glitch', 'gospel', 'gothic',\n",
       "       'grime', 'grunge', 'gypsy', 'handsup', \"hard'n'heavy\", 'hardcore',\n",
       "       'hardstyle', 'hardtechno', 'hip', 'hip-hop', 'hiphop',\n",
       "       'historisch', 'holiday', 'hop', 'horror', 'house', 'hymn', 'idm',\n",
       "       'independent', 'indian', 'indie', 'indipop', 'industrial',\n",
       "       'inspirational', 'instrumental', 'international', 'irish', 'jam',\n",
       "       'japanese', 'jazz', 'jewish', 'jpop', 'jungle', 'k-pop',\n",
       "       'karadeniz', 'karaoke', 'kayokyoku', 'korean', 'laiko', 'latin',\n",
       "       'latino', 'leftfield', 'local', 'lounge', 'loungeelectronic',\n",
       "       'lovers', 'malaysian', 'mandopop', 'marschmusik', 'meditative',\n",
       "       'mediterranean', 'melodic', 'metal', 'metalcore', 'mexican',\n",
       "       'middle', 'minimal', 'miscellaneous', 'modern', 'mood', 'mpb',\n",
       "       'muslim', 'native', 'neoklassik', 'neue', 'new', 'newage',\n",
       "       'newwave', 'nu', 'nujazz', 'numetal', 'oceania', 'old', 'opera',\n",
       "       'orchestral', 'other', 'piano', 'podcasts', 'pop', 'popdance',\n",
       "       'popelectronic', 'popeurodance', 'poprussian', 'post',\n",
       "       'posthardcore', 'postrock', 'power', 'progmetal', 'progressive',\n",
       "       'psychedelic', 'punjabi', 'punk', 'quebecois', 'ragga', 'ram',\n",
       "       'rancheras', 'rap', 'rave', 'reggae', 'reggaeton', 'regional',\n",
       "       'relax', 'religious', 'retro', 'rhythm', 'rnb', 'rnr', 'rock',\n",
       "       'rockabilly', 'rockalternative', 'rockindie', 'rockother',\n",
       "       'romance', 'roots', 'ruspop', 'rusrap', 'rusrock', 'russian',\n",
       "       'salsa', 'samba', 'scenic', 'schlager', 'self', 'sertanejo',\n",
       "       'shanson', 'shoegazing', 'showtunes', 'singer', 'ska', 'skarock',\n",
       "       'slow', 'smooth', 'soft', 'soul', 'soulful', 'sound', 'soundtrack',\n",
       "       'southern', 'specialty', 'speech', 'spiritual', 'sport',\n",
       "       'stonerrock', 'surf', 'swing', 'synthpop', 'synthrock',\n",
       "       'sängerportrait', 'tango', 'tanzorchester', 'taraftar', 'tatar',\n",
       "       'tech', 'techno', 'teen', 'thrash', 'top', 'traditional',\n",
       "       'tradjazz', 'trance', 'tribal', 'trip', 'triphop', 'tropical',\n",
       "       'türk', 'türkçe', 'ukrrock', 'unknown', 'urban', 'uzbek',\n",
       "       'variété', 'vi', 'videogame', 'vocal', 'western', 'world',\n",
       "       'worldbeat', 'ïîï', 'электроника'], dtype=object)"
      ]
     },
     "execution_count": 14,
     "metadata": {},
     "output_type": "execute_result"
    }
   ],
   "source": [
    "# Просмотр уникальных названий жанров\n",
    "df['genre'].sort_values().unique()"
   ]
  },
  {
   "cell_type": "markdown",
   "metadata": {},
   "source": [
    "<div class=\"alert alert-warning\">\n",
    "<h2> Комментарий ревьюера - можно лучше</h2>\n",
    "На будущее методы unique() и sort_values() можно применять вместе. Например, так:\n",
    "    \n",
    "    df['genre'].sort_values().unique()\n",
    "</div>    "
   ]
  },
  {
   "cell_type": "markdown",
   "metadata": {},
   "source": [
    "<div class=\"alert alert-info\"> <b>Комментарий студента:</b> Изменил код, не знал что так можно, полезный комментарий</div>"
   ]
  },
  {
   "cell_type": "markdown",
   "metadata": {},
   "source": [
    "<div class=\"alert alert-success\">\n",
    "<h2> Комментарий ревьюера - ОК </h2>\n",
    "А так все отлично, отсортированный список жанров получен\n",
    "</div>"
   ]
  },
  {
   "cell_type": "markdown",
   "metadata": {
    "id": "qej-Qmuo_Zct"
   },
   "source": [
    "Просмотрите список и найдите неявные дубликаты названия `hiphop`. Это могут быть названия с ошибками или альтернативные названия того же жанра.\n",
    "\n",
    "Вы увидите следующие неявные дубликаты:\n",
    "* *hip*,\n",
    "* *hop*,\n",
    "* *hip-hop*.\n",
    "\n",
    "Чтобы очистить от них таблицу, напишите функцию `replace_wrong_genres()` с двумя параметрами: \n",
    "* `wrong_genres` — список дубликатов,\n",
    "* `correct_genre` — строка с правильным значением.\n",
    "\n",
    "Функция должна исправить колонку `genre` в таблице `df`: заменить каждое значение из списка `wrong_genres` на значение из `correct_genre`."
   ]
  },
  {
   "cell_type": "code",
   "execution_count": 15,
   "metadata": {
    "id": "ErNDkmns_Zct"
   },
   "outputs": [],
   "source": [
    "# Функция для замены неявных дубликатов\n",
    "def replace_wrong_genres(wrong_genres, correct_genre):\n",
    "    for elem in wrong_genres:\n",
    "        df['genre'] = df['genre'].replace(wrong_genres, correct_genre)"
   ]
  },
  {
   "cell_type": "markdown",
   "metadata": {
    "id": "aDoBJxbA_Zct"
   },
   "source": [
    "Вызовите `replace_wrong_genres()` и передайте ей такие аргументы, чтобы она устранила неявные дубликаты: вместо `hip`, `hop` и `hip-hop` в таблице должно быть значение `hiphop`:"
   ]
  },
  {
   "cell_type": "code",
   "execution_count": 16,
   "metadata": {
    "id": "YN5i2hpmSo09"
   },
   "outputs": [],
   "source": [
    "# Устранение неявных дубликатов\n",
    "replace_wrong_genres(['hip', 'hop','hip-hop'], 'hiphop')"
   ]
  },
  {
   "cell_type": "markdown",
   "metadata": {},
   "source": [
    "<div class=\"alert alert-success\">\n",
    "<h2> Комментарий ревьюера - ОК </h2>\n",
    "    Хорошая функция, аргументы в функции переданы правильно. \n",
    "</div>"
   ]
  },
  {
   "cell_type": "markdown",
   "metadata": {
    "id": "zQKF16_RG15m"
   },
   "source": [
    "Проверьте, что заменили неправильные названия:\n",
    "\n",
    "*   hip\n",
    "*   hop\n",
    "*   hip-hop\n",
    "\n",
    "Выведите отсортированный список уникальных значений столбца `genre`:"
   ]
  },
  {
   "cell_type": "code",
   "execution_count": 17,
   "metadata": {
    "id": "wvixALnFG15m"
   },
   "outputs": [
    {
     "data": {
      "text/plain": [
       "array(['acid', 'acoustic', 'action', 'adult', 'africa', 'afrikaans',\n",
       "       'alternative', 'alternativepunk', 'ambient', 'americana',\n",
       "       'animated', 'anime', 'arabesk', 'arabic', 'arena',\n",
       "       'argentinetango', 'art', 'audiobook', 'author', 'avantgarde',\n",
       "       'axé', 'baile', 'balkan', 'beats', 'bigroom', 'black', 'bluegrass',\n",
       "       'blues', 'bollywood', 'bossa', 'brazilian', 'breakbeat', 'breaks',\n",
       "       'broadway', 'cantautori', 'cantopop', 'canzone', 'caribbean',\n",
       "       'caucasian', 'celtic', 'chamber', 'chanson', 'children', 'chill',\n",
       "       'chinese', 'choral', 'christian', 'christmas', 'classical',\n",
       "       'classicmetal', 'club', 'colombian', 'comedy', 'conjazz',\n",
       "       'contemporary', 'country', 'cuban', 'dance', 'dancehall',\n",
       "       'dancepop', 'dark', 'death', 'deep', 'deutschrock', 'deutschspr',\n",
       "       'dirty', 'disco', 'dnb', 'documentary', 'downbeat', 'downtempo',\n",
       "       'drum', 'dub', 'dubstep', 'eastern', 'easy', 'electronic',\n",
       "       'electropop', 'emo', 'entehno', 'epicmetal', 'estrada', 'ethnic',\n",
       "       'eurofolk', 'european', 'experimental', 'extrememetal', 'fado',\n",
       "       'fairytail', 'film', 'fitness', 'flamenco', 'folk', 'folklore',\n",
       "       'folkmetal', 'folkrock', 'folktronica', 'forró', 'frankreich',\n",
       "       'französisch', 'french', 'funk', 'future', 'gangsta', 'garage',\n",
       "       'german', 'ghazal', 'gitarre', 'glitch', 'gospel', 'gothic',\n",
       "       'grime', 'grunge', 'gypsy', 'handsup', \"hard'n'heavy\", 'hardcore',\n",
       "       'hardstyle', 'hardtechno', 'hiphop', 'historisch', 'holiday',\n",
       "       'horror', 'house', 'hymn', 'idm', 'independent', 'indian', 'indie',\n",
       "       'indipop', 'industrial', 'inspirational', 'instrumental',\n",
       "       'international', 'irish', 'jam', 'japanese', 'jazz', 'jewish',\n",
       "       'jpop', 'jungle', 'k-pop', 'karadeniz', 'karaoke', 'kayokyoku',\n",
       "       'korean', 'laiko', 'latin', 'latino', 'leftfield', 'local',\n",
       "       'lounge', 'loungeelectronic', 'lovers', 'malaysian', 'mandopop',\n",
       "       'marschmusik', 'meditative', 'mediterranean', 'melodic', 'metal',\n",
       "       'metalcore', 'mexican', 'middle', 'minimal', 'miscellaneous',\n",
       "       'modern', 'mood', 'mpb', 'muslim', 'native', 'neoklassik', 'neue',\n",
       "       'new', 'newage', 'newwave', 'nu', 'nujazz', 'numetal', 'oceania',\n",
       "       'old', 'opera', 'orchestral', 'other', 'piano', 'podcasts', 'pop',\n",
       "       'popdance', 'popelectronic', 'popeurodance', 'poprussian', 'post',\n",
       "       'posthardcore', 'postrock', 'power', 'progmetal', 'progressive',\n",
       "       'psychedelic', 'punjabi', 'punk', 'quebecois', 'ragga', 'ram',\n",
       "       'rancheras', 'rap', 'rave', 'reggae', 'reggaeton', 'regional',\n",
       "       'relax', 'religious', 'retro', 'rhythm', 'rnb', 'rnr', 'rock',\n",
       "       'rockabilly', 'rockalternative', 'rockindie', 'rockother',\n",
       "       'romance', 'roots', 'ruspop', 'rusrap', 'rusrock', 'russian',\n",
       "       'salsa', 'samba', 'scenic', 'schlager', 'self', 'sertanejo',\n",
       "       'shanson', 'shoegazing', 'showtunes', 'singer', 'ska', 'skarock',\n",
       "       'slow', 'smooth', 'soft', 'soul', 'soulful', 'sound', 'soundtrack',\n",
       "       'southern', 'specialty', 'speech', 'spiritual', 'sport',\n",
       "       'stonerrock', 'surf', 'swing', 'synthpop', 'synthrock',\n",
       "       'sängerportrait', 'tango', 'tanzorchester', 'taraftar', 'tatar',\n",
       "       'tech', 'techno', 'teen', 'thrash', 'top', 'traditional',\n",
       "       'tradjazz', 'trance', 'tribal', 'trip', 'triphop', 'tropical',\n",
       "       'türk', 'türkçe', 'ukrrock', 'unknown', 'urban', 'uzbek',\n",
       "       'variété', 'vi', 'videogame', 'vocal', 'western', 'world',\n",
       "       'worldbeat', 'ïîï', 'электроника'], dtype=object)"
      ]
     },
     "execution_count": 17,
     "metadata": {},
     "output_type": "execute_result"
    }
   ],
   "source": [
    "# Проверка на неявные дубликаты\n",
    "df['genre'].sort_values().unique()"
   ]
  },
  {
   "cell_type": "markdown",
   "metadata": {},
   "source": [
    "<div class=\"alert alert-success\">\n",
    "<h2> Комментарий ревьюера - ОК </h2>\n",
    "    Отлично, уникальные значения жанров получены корректно\n",
    "</div>"
   ]
  },
  {
   "cell_type": "markdown",
   "metadata": {
    "id": "jz6a9-7HQUDd"
   },
   "source": [
    "**Выводы**\n",
    "\n",
    "Предобработка обнаружила три проблемы в данных:\n",
    "\n",
    "- нарушения в стиле заголовков,\n",
    "- пропущенные значения,\n",
    "- дубликаты — явные и неявные.\n",
    "\n",
    "Мы исправили заголовки, чтобы упростить работу с таблицей. Без дубликатов исследование станет более точным.\n",
    "\n",
    "Пропущенные значения мы заменили на `'unknown'`. Ещё предстоит увидеть, не повредят ли исследованию пропуски в колонке `genre`.\n",
    "\n",
    "Теперь можно перейти к проверке гипотез. "
   ]
  },
  {
   "cell_type": "markdown",
   "metadata": {},
   "source": [
    "<div class=\"alert alert-success\">\n",
    "<h2> Комментарий ревьюера - ОК </h2>\n",
    "<p>\n",
    "    По предобработке данных, как и в предыдущем пункте, все сделано на ура.\n",
    "Единственное, если в дальнейшем хочешь добавить этот проект в портфолио, в выводах местоимение \"вы\" лучше заменить на \"мы\". Например:\n",
    "    \n",
    ">Мы исправили заголовки, чтобы упростить работу с таблицей. Без дубликатов исследование станет более точным.\n",
    "<p> </div>"
   ]
  },
  {
   "cell_type": "markdown",
   "metadata": {
    "id": "WttZHXH0SqKk"
   },
   "source": [
    "## Проверка гипотез"
   ]
  },
  {
   "cell_type": "markdown",
   "metadata": {
    "id": "Im936VVi_Zcu"
   },
   "source": [
    "### Сравнение поведения пользователей двух столиц"
   ]
  },
  {
   "cell_type": "markdown",
   "metadata": {
    "id": "nwt_MuaL_Zcu"
   },
   "source": [
    "Первая гипотеза утверждает, что пользователи по-разному слушают музыку в Москве и Санкт-Петербурге. Проверьте это предположение по данным о трёх днях недели — понедельнике, среде и пятнице. Для этого:\n",
    "\n",
    "* Разделите пользователей Москвы и Санкт-Петербурга\n",
    "* Сравните, сколько треков послушала каждая группа пользователей в понедельник, среду и пятницу.\n"
   ]
  },
  {
   "cell_type": "markdown",
   "metadata": {
    "id": "8Dw_YMmT_Zcu"
   },
   "source": [
    "Для тренировки сначала выполните каждый из расчётов по отдельности. \n",
    "\n",
    "Оцените активность пользователей в каждом городе. Сгруппируйте данные по городу и посчитайте прослушивания в каждой группе.\n",
    "\n"
   ]
  },
  {
   "cell_type": "code",
   "execution_count": 18,
   "metadata": {
    "id": "0_Qs96oh_Zcu"
   },
   "outputs": [
    {
     "data": {
      "text/plain": [
       "city\n",
       "Moscow              42741\n",
       "Saint-Petersburg    18512\n",
       "Name: user_id, dtype: int64"
      ]
     },
     "execution_count": 18,
     "metadata": {},
     "output_type": "execute_result"
    }
   ],
   "source": [
    "# Подсчёт прослушиваний в каждом городе\n",
    "df.groupby('city')['user_id'].count()"
   ]
  },
  {
   "cell_type": "markdown",
   "metadata": {
    "id": "dzli3w8o_Zcu"
   },
   "source": [
    "В Москве прослушиваний больше, чем в Петербурге. Из этого не следует, что московские пользователи чаще слушают музыку. Просто самих пользователей в Москве больше.\n",
    "\n",
    "Теперь сгруппируйте данные по дню недели и подсчитайте прослушивания в понедельник, среду и пятницу. Учтите, что в данных есть информация только о прослушиваниях только за эти дни.\n"
   ]
  },
  {
   "cell_type": "code",
   "execution_count": 19,
   "metadata": {
    "id": "uZMKjiJz_Zcu"
   },
   "outputs": [
    {
     "data": {
      "text/plain": [
       "day\n",
       "Friday       21840\n",
       "Monday       21354\n",
       "Wednesday    18059\n",
       "Name: user_id, dtype: int64"
      ]
     },
     "execution_count": 19,
     "metadata": {},
     "output_type": "execute_result"
    }
   ],
   "source": [
    "# Подсчёт прослушиваний в каждый из трёх дней\n",
    "df.groupby('day')['user_id'].count()"
   ]
  },
  {
   "cell_type": "markdown",
   "metadata": {},
   "source": [
    "<div class=\"alert alert-success\">\n",
    "<h2> Комментарий ревьюера - ОК </h2>\n",
    "    Группировка по городам и по дням выполнена верна. Ты молодец!\n",
    "</div>"
   ]
  },
  {
   "cell_type": "markdown",
   "metadata": {
    "id": "cC2tNrlL_Zcu"
   },
   "source": [
    "В среднем пользователи из двух городов менее активны по средам. Но картина может измениться, если рассмотреть каждый город в отдельности."
   ]
  },
  {
   "cell_type": "markdown",
   "metadata": {
    "id": "POzs8bGa_Zcu"
   },
   "source": [
    "Вы видели, как работает группировка по городу и по дням недели. Теперь напишите функцию, которая объединит два эти расчёта.\n",
    "\n",
    "Создайте функцию `number_tracks()`, которая посчитает прослушивания для заданного дня и города. Ей понадобятся два параметра:\n",
    "* день недели,\n",
    "* название города.\n",
    "\n",
    "В функции сохраните в переменную строки исходной таблицы, у которых значение:\n",
    "  * в колонке `day` равно параметру `day`,\n",
    "  * в колонке `city` равно параметру `city`.\n",
    "\n",
    "Для этого примените последовательную фильтрацию с логической индексацией.\n",
    "\n",
    "Затем посчитайте значения в столбце `user_id` получившейся таблицы. Результат сохраните в новую переменную. Верните эту переменную из функции."
   ]
  },
  {
   "cell_type": "code",
   "execution_count": 20,
   "metadata": {
    "id": "Nz3GdQB1_Zcu"
   },
   "outputs": [],
   "source": [
    "# <создание функции number_tracks()>\n",
    "def number_tracks(day, city):\n",
    "    track_list = df[df['day'] == day]\n",
    "    track_list = track_list[track_list['city'] == city]\n",
    "    return track_list['user_id'].count()"
   ]
  },
  {
   "cell_type": "markdown",
   "metadata": {},
   "source": [
    "<div class=\"alert alert-warning\">\n",
    "<h2> Комментарий ревьюера - можно лучше</h2>\n",
    "На будущее: комментарии к коду лучше помещать над кодом, к которому они относятся.\n",
    "</div>"
   ]
  },
  {
   "cell_type": "markdown",
   "metadata": {},
   "source": [
    "<div class=\"alert alert-info\"> <b>Комментарий студента:</b> Удалил комментарии </div>"
   ]
  },
  {
   "cell_type": "markdown",
   "metadata": {
    "id": "ytf7xFrFJQ2r"
   },
   "source": [
    "Вызовите `number_tracks()` шесть раз, меняя значение параметров — так, чтобы получить данные для каждого города в каждый из трёх дней."
   ]
  },
  {
   "cell_type": "code",
   "execution_count": 21,
   "metadata": {
    "id": "rJcRATNQ_Zcu"
   },
   "outputs": [
    {
     "data": {
      "text/plain": [
       "15740"
      ]
     },
     "execution_count": 21,
     "metadata": {},
     "output_type": "execute_result"
    }
   ],
   "source": [
    "# количество прослушиваний в Москве по понедельникам\n",
    "number_tracks('Monday', 'Moscow')"
   ]
  },
  {
   "cell_type": "code",
   "execution_count": 22,
   "metadata": {
    "id": "hq_ncZ5T_Zcu"
   },
   "outputs": [
    {
     "data": {
      "text/plain": [
       "5614"
      ]
     },
     "execution_count": 22,
     "metadata": {},
     "output_type": "execute_result"
    }
   ],
   "source": [
    "# количество прослушиваний в Санкт-Петербурге по понедельникам\n",
    "number_tracks('Monday','Saint-Petersburg')"
   ]
  },
  {
   "cell_type": "code",
   "execution_count": 23,
   "metadata": {
    "id": "_NTy2VPU_Zcu"
   },
   "outputs": [
    {
     "data": {
      "text/plain": [
       "11056"
      ]
     },
     "execution_count": 23,
     "metadata": {},
     "output_type": "execute_result"
    }
   ],
   "source": [
    "# количество прослушиваний в Москве по средам\n",
    "number_tracks('Wednesday','Moscow')"
   ]
  },
  {
   "cell_type": "code",
   "execution_count": 24,
   "metadata": {
    "id": "j2y3TAwo_Zcu"
   },
   "outputs": [
    {
     "data": {
      "text/plain": [
       "7003"
      ]
     },
     "execution_count": 24,
     "metadata": {},
     "output_type": "execute_result"
    }
   ],
   "source": [
    "# количество прослушиваний в Санкт-Петербурге по средам\n",
    "number_tracks('Wednesday','Saint-Petersburg')"
   ]
  },
  {
   "cell_type": "code",
   "execution_count": 25,
   "metadata": {
    "id": "vYDw5u_K_Zcu"
   },
   "outputs": [
    {
     "data": {
      "text/plain": [
       "15945"
      ]
     },
     "execution_count": 25,
     "metadata": {},
     "output_type": "execute_result"
    }
   ],
   "source": [
    "# количество прослушиваний в Москве по пятницам\n",
    "number_tracks('Friday','Moscow')"
   ]
  },
  {
   "cell_type": "code",
   "execution_count": 26,
   "metadata": {
    "id": "8_yzFtW3_Zcu"
   },
   "outputs": [
    {
     "data": {
      "text/plain": [
       "5895"
      ]
     },
     "execution_count": 26,
     "metadata": {},
     "output_type": "execute_result"
    }
   ],
   "source": [
    "# количество прослушиваний в Санкт-Петербурге по пятницам\n",
    "number_tracks('Friday','Saint-Petersburg')"
   ]
  },
  {
   "cell_type": "markdown",
   "metadata": {},
   "source": [
    "<div class=\"alert alert-success\">\n",
    "<h2> Комментарий ревьюера - ОК </h2>\n",
    "    Функция работает, с поставленной задачей справляется. Полученные значения верны. \n",
    "</div>"
   ]
  },
  {
   "cell_type": "markdown",
   "metadata": {
    "id": "7QXffbO-_Zcu"
   },
   "source": [
    "Создайте c помощью конструктора `pd.DataFrame` таблицу, где\n",
    "* названия колонок — `['city', 'monday', 'wednesday', 'friday']`;\n",
    "* данные — результаты, которые вы получили с помощью `number_tracks`."
   ]
  },
  {
   "cell_type": "code",
   "execution_count": 27,
   "metadata": {
    "id": "APAcLpOr_Zcu"
   },
   "outputs": [
    {
     "data": {
      "text/html": [
       "<div>\n",
       "<style scoped>\n",
       "    .dataframe tbody tr th:only-of-type {\n",
       "        vertical-align: middle;\n",
       "    }\n",
       "\n",
       "    .dataframe tbody tr th {\n",
       "        vertical-align: top;\n",
       "    }\n",
       "\n",
       "    .dataframe thead th {\n",
       "        text-align: right;\n",
       "    }\n",
       "</style>\n",
       "<table border=\"1\" class=\"dataframe\">\n",
       "  <thead>\n",
       "    <tr style=\"text-align: right;\">\n",
       "      <th></th>\n",
       "      <th>city</th>\n",
       "      <th>monday</th>\n",
       "      <th>wednesday</th>\n",
       "      <th>friday</th>\n",
       "    </tr>\n",
       "  </thead>\n",
       "  <tbody>\n",
       "    <tr>\n",
       "      <th>0</th>\n",
       "      <td>Moscow</td>\n",
       "      <td>15740</td>\n",
       "      <td>11056</td>\n",
       "      <td>15945</td>\n",
       "    </tr>\n",
       "    <tr>\n",
       "      <th>1</th>\n",
       "      <td>Saint-Petersburg</td>\n",
       "      <td>5614</td>\n",
       "      <td>7003</td>\n",
       "      <td>5895</td>\n",
       "    </tr>\n",
       "  </tbody>\n",
       "</table>\n",
       "</div>"
      ],
      "text/plain": [
       "               city  monday  wednesday  friday\n",
       "0            Moscow   15740      11056   15945\n",
       "1  Saint-Petersburg    5614       7003    5895"
      ]
     },
     "metadata": {},
     "output_type": "display_data"
    }
   ],
   "source": [
    "# Таблица с результатами\n",
    "columns = ['city', 'monday', 'wednesday', 'friday']\n",
    "data = [\n",
    "    ['Moscow', 15740, 11056, 15945],\n",
    "    ['Saint-Petersburg', 5614, 7003, 5895]\n",
    "]\n",
    "table = pd.DataFrame(data=data, columns=columns)\n",
    "display(table)"
   ]
  },
  {
   "cell_type": "markdown",
   "metadata": {},
   "source": [
    "<div class=\"alert alert-success\">\n",
    "<h2> Комментарий ревьюера - ОК </h2>\n",
    "    Таблица с результатами создана верно. Молодец! \n",
    "</div>"
   ]
  },
  {
   "cell_type": "markdown",
   "metadata": {
    "id": "-EgPIHYu_Zcu"
   },
   "source": [
    "**Выводы**\n",
    "\n",
    "Данные показывают разницу поведения пользователей:\n",
    "\n",
    "- В Москве пик прослушиваний приходится на понедельник и пятницу, а в среду заметен спад.\n",
    "- В Петербурге, наоборот, больше слушают музыку по средам. Активность в понедельник и пятницу здесь почти в равной мере уступает среде.\n",
    "\n",
    "Значит, данные говорят в пользу первой гипотезы."
   ]
  },
  {
   "cell_type": "markdown",
   "metadata": {},
   "source": [
    "<div class=\"alert alert-success\">\n",
    "<h2> Комментарий ревьюера - ОК </h2>\n",
    "Отлично. С первой гипотезой справились.\n",
    "</div>"
   ]
  },
  {
   "cell_type": "markdown",
   "metadata": {
    "id": "atZAxtq4_Zcu"
   },
   "source": [
    "### Музыка в начале и в конце недели"
   ]
  },
  {
   "cell_type": "markdown",
   "metadata": {
    "id": "eXrQqXFH_Zcu"
   },
   "source": [
    "Согласно второй гипотезе, утром в понедельник в Москве преобладают одни жанры, а в Петербурге — другие. Так же и вечером пятницы преобладают разные жанры — в зависимости от города."
   ]
  },
  {
   "cell_type": "markdown",
   "metadata": {
    "id": "S8UcW6Hw_Zcu"
   },
   "source": [
    "Сохраните таблицы с данными в две переменные:\n",
    "* по Москве — в `moscow_general`;\n",
    "* по Санкт-Петербургу — в `spb_general`."
   ]
  },
  {
   "cell_type": "code",
   "execution_count": 28,
   "metadata": {
    "id": "qeaFfM_P_Zcu"
   },
   "outputs": [
    {
     "data": {
      "text/html": [
       "<div>\n",
       "<style scoped>\n",
       "    .dataframe tbody tr th:only-of-type {\n",
       "        vertical-align: middle;\n",
       "    }\n",
       "\n",
       "    .dataframe tbody tr th {\n",
       "        vertical-align: top;\n",
       "    }\n",
       "\n",
       "    .dataframe thead th {\n",
       "        text-align: right;\n",
       "    }\n",
       "</style>\n",
       "<table border=\"1\" class=\"dataframe\">\n",
       "  <thead>\n",
       "    <tr style=\"text-align: right;\">\n",
       "      <th></th>\n",
       "      <th>user_id</th>\n",
       "      <th>track</th>\n",
       "      <th>artist</th>\n",
       "      <th>genre</th>\n",
       "      <th>city</th>\n",
       "      <th>time</th>\n",
       "      <th>day</th>\n",
       "    </tr>\n",
       "  </thead>\n",
       "  <tbody>\n",
       "    <tr>\n",
       "      <th>1</th>\n",
       "      <td>55204538</td>\n",
       "      <td>Delayed Because of Accident</td>\n",
       "      <td>Andreas Rönnberg</td>\n",
       "      <td>rock</td>\n",
       "      <td>Moscow</td>\n",
       "      <td>14:07:09</td>\n",
       "      <td>Friday</td>\n",
       "    </tr>\n",
       "    <tr>\n",
       "      <th>4</th>\n",
       "      <td>E2DC1FAE</td>\n",
       "      <td>Soul People</td>\n",
       "      <td>Space Echo</td>\n",
       "      <td>dance</td>\n",
       "      <td>Moscow</td>\n",
       "      <td>08:34:34</td>\n",
       "      <td>Monday</td>\n",
       "    </tr>\n",
       "    <tr>\n",
       "      <th>6</th>\n",
       "      <td>4CB90AA5</td>\n",
       "      <td>True</td>\n",
       "      <td>Roman Messer</td>\n",
       "      <td>dance</td>\n",
       "      <td>Moscow</td>\n",
       "      <td>13:00:07</td>\n",
       "      <td>Wednesday</td>\n",
       "    </tr>\n",
       "    <tr>\n",
       "      <th>7</th>\n",
       "      <td>F03E1C1F</td>\n",
       "      <td>Feeling This Way</td>\n",
       "      <td>Polina Griffith</td>\n",
       "      <td>dance</td>\n",
       "      <td>Moscow</td>\n",
       "      <td>20:47:49</td>\n",
       "      <td>Wednesday</td>\n",
       "    </tr>\n",
       "    <tr>\n",
       "      <th>8</th>\n",
       "      <td>8FA1D3BE</td>\n",
       "      <td>И вновь продолжается бой</td>\n",
       "      <td>unknown</td>\n",
       "      <td>ruspop</td>\n",
       "      <td>Moscow</td>\n",
       "      <td>09:17:40</td>\n",
       "      <td>Friday</td>\n",
       "    </tr>\n",
       "    <tr>\n",
       "      <th>10</th>\n",
       "      <td>BC5A3A29</td>\n",
       "      <td>Gool la Mita</td>\n",
       "      <td>Shireen Abdul Wahab</td>\n",
       "      <td>world</td>\n",
       "      <td>Moscow</td>\n",
       "      <td>14:08:42</td>\n",
       "      <td>Monday</td>\n",
       "    </tr>\n",
       "    <tr>\n",
       "      <th>11</th>\n",
       "      <td>8B5192C0</td>\n",
       "      <td>Is There Anybody Out There? (Panoramic Paralys...</td>\n",
       "      <td>Pink Floyd Floydhead</td>\n",
       "      <td>electronic</td>\n",
       "      <td>Moscow</td>\n",
       "      <td>13:47:49</td>\n",
       "      <td>Monday</td>\n",
       "    </tr>\n",
       "    <tr>\n",
       "      <th>12</th>\n",
       "      <td>FF3FD2BD</td>\n",
       "      <td>Мина син генэ кирэк</td>\n",
       "      <td>Ильдар Хакимов</td>\n",
       "      <td>pop</td>\n",
       "      <td>Moscow</td>\n",
       "      <td>09:19:49</td>\n",
       "      <td>Monday</td>\n",
       "    </tr>\n",
       "    <tr>\n",
       "      <th>13</th>\n",
       "      <td>CC782B0F</td>\n",
       "      <td>After School Special</td>\n",
       "      <td>Detroit Grand Pubahs</td>\n",
       "      <td>dance</td>\n",
       "      <td>Moscow</td>\n",
       "      <td>20:04:12</td>\n",
       "      <td>Friday</td>\n",
       "    </tr>\n",
       "    <tr>\n",
       "      <th>15</th>\n",
       "      <td>E3C5756F</td>\n",
       "      <td>unknown</td>\n",
       "      <td>unknown</td>\n",
       "      <td>unknown</td>\n",
       "      <td>Moscow</td>\n",
       "      <td>09:24:51</td>\n",
       "      <td>Monday</td>\n",
       "    </tr>\n",
       "  </tbody>\n",
       "</table>\n",
       "</div>"
      ],
      "text/plain": [
       "     user_id                                              track  \\\n",
       "1   55204538                        Delayed Because of Accident   \n",
       "4   E2DC1FAE                                        Soul People   \n",
       "6   4CB90AA5                                               True   \n",
       "7   F03E1C1F                                   Feeling This Way   \n",
       "8   8FA1D3BE                           И вновь продолжается бой   \n",
       "10  BC5A3A29                                       Gool la Mita   \n",
       "11  8B5192C0  Is There Anybody Out There? (Panoramic Paralys...   \n",
       "12  FF3FD2BD                                Мина син генэ кирэк   \n",
       "13  CC782B0F                               After School Special   \n",
       "15  E3C5756F                                            unknown   \n",
       "\n",
       "                  artist       genre    city      time        day  \n",
       "1       Andreas Rönnberg        rock  Moscow  14:07:09     Friday  \n",
       "4             Space Echo       dance  Moscow  08:34:34     Monday  \n",
       "6           Roman Messer       dance  Moscow  13:00:07  Wednesday  \n",
       "7        Polina Griffith       dance  Moscow  20:47:49  Wednesday  \n",
       "8                unknown      ruspop  Moscow  09:17:40     Friday  \n",
       "10   Shireen Abdul Wahab       world  Moscow  14:08:42     Monday  \n",
       "11  Pink Floyd Floydhead  electronic  Moscow  13:47:49     Monday  \n",
       "12        Ильдар Хакимов         pop  Moscow  09:19:49     Monday  \n",
       "13  Detroit Grand Pubahs       dance  Moscow  20:04:12     Friday  \n",
       "15               unknown     unknown  Moscow  09:24:51     Monday  "
      ]
     },
     "metadata": {},
     "output_type": "display_data"
    }
   ],
   "source": [
    "# получение таблицы moscow_general из тех строк таблицы df, \n",
    "# для которых значение в столбце 'city' равно 'Moscow'\n",
    "moscow_general = df[df['city'] == 'Moscow']\n",
    "display(moscow_general.head(10))"
   ]
  },
  {
   "cell_type": "code",
   "execution_count": 29,
   "metadata": {
    "id": "ORaVRKto_Zcu",
    "scrolled": true
   },
   "outputs": [
    {
     "data": {
      "text/html": [
       "<div>\n",
       "<style scoped>\n",
       "    .dataframe tbody tr th:only-of-type {\n",
       "        vertical-align: middle;\n",
       "    }\n",
       "\n",
       "    .dataframe tbody tr th {\n",
       "        vertical-align: top;\n",
       "    }\n",
       "\n",
       "    .dataframe thead th {\n",
       "        text-align: right;\n",
       "    }\n",
       "</style>\n",
       "<table border=\"1\" class=\"dataframe\">\n",
       "  <thead>\n",
       "    <tr style=\"text-align: right;\">\n",
       "      <th></th>\n",
       "      <th>user_id</th>\n",
       "      <th>track</th>\n",
       "      <th>artist</th>\n",
       "      <th>genre</th>\n",
       "      <th>city</th>\n",
       "      <th>time</th>\n",
       "      <th>day</th>\n",
       "    </tr>\n",
       "  </thead>\n",
       "  <tbody>\n",
       "    <tr>\n",
       "      <th>0</th>\n",
       "      <td>FFB692EC</td>\n",
       "      <td>Kamigata To Boots</td>\n",
       "      <td>The Mass Missile</td>\n",
       "      <td>rock</td>\n",
       "      <td>Saint-Petersburg</td>\n",
       "      <td>20:28:33</td>\n",
       "      <td>Wednesday</td>\n",
       "    </tr>\n",
       "    <tr>\n",
       "      <th>2</th>\n",
       "      <td>20EC38</td>\n",
       "      <td>Funiculì funiculà</td>\n",
       "      <td>Mario Lanza</td>\n",
       "      <td>pop</td>\n",
       "      <td>Saint-Petersburg</td>\n",
       "      <td>20:58:07</td>\n",
       "      <td>Wednesday</td>\n",
       "    </tr>\n",
       "    <tr>\n",
       "      <th>3</th>\n",
       "      <td>A3DD03C9</td>\n",
       "      <td>Dragons in the Sunset</td>\n",
       "      <td>Fire + Ice</td>\n",
       "      <td>folk</td>\n",
       "      <td>Saint-Petersburg</td>\n",
       "      <td>08:37:09</td>\n",
       "      <td>Monday</td>\n",
       "    </tr>\n",
       "    <tr>\n",
       "      <th>5</th>\n",
       "      <td>842029A1</td>\n",
       "      <td>Преданная</td>\n",
       "      <td>IMPERVTOR</td>\n",
       "      <td>rusrap</td>\n",
       "      <td>Saint-Petersburg</td>\n",
       "      <td>13:09:41</td>\n",
       "      <td>Friday</td>\n",
       "    </tr>\n",
       "    <tr>\n",
       "      <th>9</th>\n",
       "      <td>E772D5C0</td>\n",
       "      <td>Pessimist</td>\n",
       "      <td>unknown</td>\n",
       "      <td>dance</td>\n",
       "      <td>Saint-Petersburg</td>\n",
       "      <td>21:20:49</td>\n",
       "      <td>Wednesday</td>\n",
       "    </tr>\n",
       "    <tr>\n",
       "      <th>14</th>\n",
       "      <td>94EB25C2</td>\n",
       "      <td>Make Love Whenever You Can</td>\n",
       "      <td>Arabesque</td>\n",
       "      <td>pop</td>\n",
       "      <td>Saint-Petersburg</td>\n",
       "      <td>13:22:08</td>\n",
       "      <td>Wednesday</td>\n",
       "    </tr>\n",
       "    <tr>\n",
       "      <th>16</th>\n",
       "      <td>81D05C7D</td>\n",
       "      <td>SLAVES OF FEAR</td>\n",
       "      <td>HEALTH</td>\n",
       "      <td>alternative</td>\n",
       "      <td>Saint-Petersburg</td>\n",
       "      <td>20:54:48</td>\n",
       "      <td>Monday</td>\n",
       "    </tr>\n",
       "    <tr>\n",
       "      <th>17</th>\n",
       "      <td>39DE290E</td>\n",
       "      <td>Веснянка</td>\n",
       "      <td>Веданъ Колодъ</td>\n",
       "      <td>folk</td>\n",
       "      <td>Saint-Petersburg</td>\n",
       "      <td>14:36:47</td>\n",
       "      <td>Monday</td>\n",
       "    </tr>\n",
       "    <tr>\n",
       "      <th>18</th>\n",
       "      <td>58AE138A</td>\n",
       "      <td>Pat-a-Cake</td>\n",
       "      <td>Mother Goose Club</td>\n",
       "      <td>children</td>\n",
       "      <td>Saint-Petersburg</td>\n",
       "      <td>20:04:56</td>\n",
       "      <td>Monday</td>\n",
       "    </tr>\n",
       "    <tr>\n",
       "      <th>22</th>\n",
       "      <td>B8E29C9C</td>\n",
       "      <td>Самота</td>\n",
       "      <td>unknown</td>\n",
       "      <td>folk</td>\n",
       "      <td>Saint-Petersburg</td>\n",
       "      <td>20:20:49</td>\n",
       "      <td>Wednesday</td>\n",
       "    </tr>\n",
       "  </tbody>\n",
       "</table>\n",
       "</div>"
      ],
      "text/plain": [
       "     user_id                       track             artist        genre  \\\n",
       "0   FFB692EC           Kamigata To Boots   The Mass Missile         rock   \n",
       "2     20EC38           Funiculì funiculà        Mario Lanza          pop   \n",
       "3   A3DD03C9       Dragons in the Sunset         Fire + Ice         folk   \n",
       "5   842029A1                   Преданная          IMPERVTOR       rusrap   \n",
       "9   E772D5C0                   Pessimist            unknown        dance   \n",
       "14  94EB25C2  Make Love Whenever You Can          Arabesque          pop   \n",
       "16  81D05C7D              SLAVES OF FEAR             HEALTH  alternative   \n",
       "17  39DE290E                    Веснянка      Веданъ Колодъ         folk   \n",
       "18  58AE138A                  Pat-a-Cake  Mother Goose Club     children   \n",
       "22  B8E29C9C                      Самота            unknown         folk   \n",
       "\n",
       "                city      time        day  \n",
       "0   Saint-Petersburg  20:28:33  Wednesday  \n",
       "2   Saint-Petersburg  20:58:07  Wednesday  \n",
       "3   Saint-Petersburg  08:37:09     Monday  \n",
       "5   Saint-Petersburg  13:09:41     Friday  \n",
       "9   Saint-Petersburg  21:20:49  Wednesday  \n",
       "14  Saint-Petersburg  13:22:08  Wednesday  \n",
       "16  Saint-Petersburg  20:54:48     Monday  \n",
       "17  Saint-Petersburg  14:36:47     Monday  \n",
       "18  Saint-Petersburg  20:04:56     Monday  \n",
       "22  Saint-Petersburg  20:20:49  Wednesday  "
      ]
     },
     "metadata": {},
     "output_type": "display_data"
    }
   ],
   "source": [
    "# получение таблицы spb_general из тех строк таблицы df,\n",
    "# для которых значение в столбце 'city' равно 'Saint-Petersburg'\n",
    "spb_general = df[df['city'] == 'Saint-Petersburg']\n",
    "display(spb_general.head(10))"
   ]
  },
  {
   "cell_type": "markdown",
   "metadata": {},
   "source": [
    "<div class=\"alert alert-success\">\n",
    "<h2> Комментарий ревьюера - ОК </h2>\n",
    "Данные для анализа собрали. Можно двигаться дальше\n",
    "</div>"
   ]
  },
  {
   "cell_type": "markdown",
   "metadata": {
    "id": "MEJV-CX2_Zcu"
   },
   "source": [
    "Создайте функцию `genre_weekday()` с четырьмя параметрами:\n",
    "* таблица (датафрейм) с данными,\n",
    "* день недели,\n",
    "* начальная временная метка в формате 'hh:mm', \n",
    "* последняя временная метка в формате 'hh:mm'.\n",
    "\n",
    "Функция должна вернуть информацию о топ-10 жанров тех треков, которые прослушивали в указанный день, в промежутке между двумя отметками времени."
   ]
  },
  {
   "cell_type": "code",
   "execution_count": 30,
   "metadata": {
    "id": "laJT9BYl_Zcu"
   },
   "outputs": [],
   "source": [
    "# Объявление функции genre_weekday() с параметрами table, day, time1, time2,\n",
    "# которая возвращает информацию о самых популярных жанрах в указанный день в\n",
    "# заданное время:\n",
    "# 1) в переменную genre_df сохраняются те строки переданного датафрейма table, для\n",
    "#    которых одновременно:\n",
    "#    - значение в столбце day равно значению аргумента day\n",
    "#    - значение в столбце time больше значения аргумента time1\n",
    "#    - значение в столбце time меньше значения аргумента time2\n",
    "#    Используйте последовательную фильтрацию с помощью логической индексации.\n",
    "# 2) сгруппировать датафрейм genre_df по столбцу genre, взять один из его\n",
    "#    столбцов и посчитать методом count() количество записей для каждого из\n",
    "#    присутствующих жанров, получившийся Series записать в переменную\n",
    "#    genre_df_count\n",
    "# 3) отсортировать genre_df_count по убыванию встречаемости и сохранить\n",
    "#    в переменную genre_df_sorted\n",
    "# 4) вернуть Series из 10 первых значений genre_df_sorted, это будут топ-10\n",
    "#    популярных жанров (в указанный день, в заданное время)\n",
    "def genre_weekday(table, day, time1, time2):\n",
    "    genre_df = table[table['day'] == day]\n",
    "    genre_df = genre_df[genre_df['time'] > time1]\n",
    "    genre_df = genre_df[genre_df['time'] < time2]\n",
    "    \n",
    "    genre_df_count = genre_df.groupby('genre')['genre'].count()\n",
    "\n",
    "    genre_df_sorted = genre_df_count.sort_values(ascending = False)\n",
    "    \n",
    "    result =  genre_df_sorted.head(10)\n",
    "    display(result)"
   ]
  },
  {
   "cell_type": "markdown",
   "metadata": {},
   "source": [
    "<div class=\"alert alert-success\">\n",
    "<h2> Комментарий ревьюера - ОК </h2>\n",
    "    Функция genre_weekday написана верна\n",
    "    \n",
    "</div>"
   ]
  },
  {
   "cell_type": "markdown",
   "metadata": {
    "id": "la2s2_PF_Zcu"
   },
   "source": [
    "Cравните результаты функции `genre_weekday()` для Москвы и Санкт-Петербурга в понедельник утром (с 7:00 до 11:00) и в пятницу вечером (с 17:00 до 23:00):"
   ]
  },
  {
   "cell_type": "code",
   "execution_count": 31,
   "metadata": {
    "id": "yz7itPUQ_Zcu"
   },
   "outputs": [
    {
     "data": {
      "text/plain": [
       "genre\n",
       "pop            781\n",
       "dance          549\n",
       "electronic     480\n",
       "rock           474\n",
       "hiphop         286\n",
       "ruspop         186\n",
       "world          181\n",
       "rusrap         175\n",
       "alternative    164\n",
       "unknown        161\n",
       "Name: genre, dtype: int64"
      ]
     },
     "metadata": {},
     "output_type": "display_data"
    }
   ],
   "source": [
    "# вызов функции для утра понедельника в Москве (вместо df — таблица moscow_general)\n",
    "# объекты, хранящие время, являются строками и сравниваются как строки\n",
    "# пример вызова: genre_weekday(moscow_general, 'Monday', '07:00', '11:00')\n",
    "genre_weekday(moscow_general, 'Monday', '07:00', '11:00')"
   ]
  },
  {
   "cell_type": "code",
   "execution_count": 32,
   "metadata": {
    "id": "kwUcHPdy_Zcu"
   },
   "outputs": [
    {
     "data": {
      "text/plain": [
       "genre\n",
       "pop            218\n",
       "dance          182\n",
       "rock           162\n",
       "electronic     147\n",
       "hiphop          80\n",
       "ruspop          64\n",
       "alternative     58\n",
       "rusrap          55\n",
       "jazz            44\n",
       "classical       40\n",
       "Name: genre, dtype: int64"
      ]
     },
     "metadata": {},
     "output_type": "display_data"
    }
   ],
   "source": [
    "# вызов функции для утра понедельника в Петербурге (вместо df — таблица spb_general)\n",
    "genre_weekday(spb_general, 'Monday', '07:00', '11:00')"
   ]
  },
  {
   "cell_type": "code",
   "execution_count": 33,
   "metadata": {
    "id": "EzXVRE1o_Zcu"
   },
   "outputs": [
    {
     "data": {
      "text/plain": [
       "genre\n",
       "pop            713\n",
       "rock           517\n",
       "dance          495\n",
       "electronic     482\n",
       "hiphop         273\n",
       "world          208\n",
       "ruspop         170\n",
       "alternative    163\n",
       "classical      163\n",
       "rusrap         142\n",
       "Name: genre, dtype: int64"
      ]
     },
     "metadata": {},
     "output_type": "display_data"
    }
   ],
   "source": [
    "# вызов функции для вечера пятницы в Москве\n",
    "genre_weekday(moscow_general, 'Friday', '17:00', '23:00')"
   ]
  },
  {
   "cell_type": "markdown",
   "metadata": {},
   "source": [
    "<div class=\"alert alert-danger\">\n",
    "<h2> Комментарий ревьюера - необходимо исправить </h2>\n",
    "<s>В данном случае, нужно вызвать функцию для вечера пятницы. Необходимо исправить 'Monday' на 'Friday'</s> Выполнено!\n",
    "</div>"
   ]
  },
  {
   "cell_type": "markdown",
   "metadata": {},
   "source": [
    "<div class=\"alert alert-info\"> <b>Комментарий студента:</b> Исправил ошибку в названии дня недели.</div>"
   ]
  },
  {
   "cell_type": "code",
   "execution_count": 34,
   "metadata": {
    "id": "JZaEKu5v_Zcu"
   },
   "outputs": [
    {
     "data": {
      "text/plain": [
       "genre\n",
       "pop            256\n",
       "electronic     216\n",
       "rock           216\n",
       "dance          210\n",
       "hiphop          97\n",
       "alternative     63\n",
       "jazz            61\n",
       "classical       60\n",
       "rusrap          59\n",
       "world           54\n",
       "Name: genre, dtype: int64"
      ]
     },
     "metadata": {},
     "output_type": "display_data"
    }
   ],
   "source": [
    "# вызов функции для вечера пятницы в Петербурге\n",
    "genre_weekday(spb_general, 'Friday', '17:00', '23:00')"
   ]
  },
  {
   "cell_type": "markdown",
   "metadata": {},
   "source": [
    "<div class=\"alert alert-danger\">\n",
    "<h2> Комментарий ревьюера - необходимо исправить </h2>\n",
    "<s>Аналогично, необходимо исправить 'Monday' на 'Friday'</s> Выполнено!\n",
    "</div>"
   ]
  },
  {
   "cell_type": "markdown",
   "metadata": {},
   "source": [
    "<div class=\"alert alert-info\"> <b>Комментарий студента:</b> Исправил ошибку в названии дня недели.</div>"
   ]
  },
  {
   "cell_type": "markdown",
   "metadata": {
    "id": "wrCe4MNX_Zcu"
   },
   "source": [
    "**Выводы**\n",
    "\n",
    "Если сравнить топ-10 жанров в понедельник утром, можно сделать такие выводы:\n",
    "\n",
    "1. В Москве и Петербурге слушают похожую музыку. Единственное отличие — в московский рейтинг вошёл жанр “world”, а в петербургский — джаз и классика.\n",
    "\n",
    "2. В Москве пропущенных значений оказалось так много, что значение `'unknown'` заняло десятое место среди самых популярных жанров. Значит, пропущенные значения занимают существенную долю в данных и угрожают достоверности исследования.\n",
    "\n",
    "Вечер пятницы не меняет эту картину. Некоторые жанры поднимаются немного выше, другие спускаются, но в целом топ-10 остаётся тем же самым.\n",
    "\n",
    "Таким образом, вторая гипотеза подтвердилась лишь частично:\n",
    "* Пользователи слушают похожую музыку в начале недели и в конце.\n",
    "* Разница между Москвой и Петербургом не слишком выражена. В Москве чаще слушают русскую популярную музыку, в Петербурге — джаз.\n",
    "\n",
    "Однако пропуски в данных ставят под сомнение этот результат. В Москве их так много, что рейтинг топ-10 мог бы выглядеть иначе, если бы не утерянные  данные о жанрах."
   ]
  },
  {
   "cell_type": "markdown",
   "metadata": {},
   "source": [
    "<div class=\"alert alert-success\">\n",
    "<h2> Комментарий ревьюера - ОК </h2>\n",
    "    Со 2 гипотезой в целом справились, поехали дальше\n",
    "    \n",
    "</div>"
   ]
  },
  {
   "cell_type": "markdown",
   "metadata": {
    "id": "JolODAqr_Zcu"
   },
   "source": [
    "### Жанровые предпочтения в Москве и Петербурге\n",
    "\n",
    "Гипотеза: Петербург — столица рэпа, музыку этого жанра там слушают чаще, чем в Москве.  А Москва — город контрастов, в котором, тем не менее, преобладает поп-музыка."
   ]
  },
  {
   "cell_type": "markdown",
   "metadata": {
    "id": "DlegSvaT_Zcu"
   },
   "source": [
    "Сгруппируйте таблицу `moscow_general` по жанру и посчитайте прослушивания треков каждого жанра методом `count()`. Затем отсортируйте результат в порядке убывания и сохраните его в таблице `moscow_genres`."
   ]
  },
  {
   "cell_type": "code",
   "execution_count": 35,
   "metadata": {
    "id": "r19lIPke_Zcu"
   },
   "outputs": [],
   "source": [
    "# одной строкой: группировка таблицы moscow_general по столбцу 'genre', \n",
    "# подсчёт числа значений 'genre' в этой группировке методом count(), \n",
    "# сортировка получившегося Series в порядке убывания и сохранение в moscow_genres\n",
    "moscow_genres = moscow_general.groupby('genre')['genre'].count()\n",
    "moscow_genres = moscow_genres.sort_values(ascending = False)"
   ]
  },
  {
   "cell_type": "markdown",
   "metadata": {},
   "source": [
    "<div class=\"alert alert-warning\">\n",
    "<h2> Комментарий ревьюера - можно лучше</h2>\n",
    "Здесь не обязательно выводить на экран список жанров, т.к. ниже мы выводим топ-10 (дублируется информация)\n",
    "</div>"
   ]
  },
  {
   "cell_type": "markdown",
   "metadata": {},
   "source": [
    "<div class=\"alert alert-info\"> <b>Комментарий студента:</b> Поправил. Просто удобно видеть результат после каждой операции.</div>"
   ]
  },
  {
   "cell_type": "markdown",
   "metadata": {
    "id": "6kMuomxTiIr8"
   },
   "source": [
    "Выведите на экран первые десять строк `moscow_genres`:"
   ]
  },
  {
   "cell_type": "code",
   "execution_count": 36,
   "metadata": {
    "id": "WhCSooF8_Zcv"
   },
   "outputs": [
    {
     "name": "stdout",
     "output_type": "stream",
     "text": [
      "genre\n",
      "pop            5892\n",
      "dance          4435\n",
      "rock           3965\n",
      "electronic     3786\n",
      "hiphop         2096\n",
      "classical      1616\n",
      "world          1432\n",
      "alternative    1379\n",
      "ruspop         1372\n",
      "rusrap         1161\n",
      "Name: genre, dtype: int64\n"
     ]
    }
   ],
   "source": [
    "print(moscow_genres.head(10))"
   ]
  },
  {
   "cell_type": "markdown",
   "metadata": {},
   "source": [
    "<div class=\"alert alert-success\">\n",
    "<h2> Комментарий ревьюера - ОК </h2>\n",
    "    Группировка сделана верно, данные по Москве получили   \n",
    "</div>"
   ]
  },
  {
   "cell_type": "markdown",
   "metadata": {
    "id": "cnPG2vnN_Zcv"
   },
   "source": [
    "Теперь повторите то же и для Петербурга.\n",
    "\n",
    "Сгруппируйте таблицу `spb_general` по жанру. Посчитайте прослушивания треков каждого жанра. Результат отсортируйте в порядке убывания и сохраните в таблице `spb_genres`:\n"
   ]
  },
  {
   "cell_type": "code",
   "execution_count": 37,
   "metadata": {
    "id": "gluLIpE7_Zcv"
   },
   "outputs": [],
   "source": [
    "# одной строкой: группировка таблицы spb_general по столбцу 'genre', \n",
    "# подсчёт числа значений 'genre' в этой группировке методом count(), \n",
    "# сортировка получившегося Series в порядке убывания и сохранение в spb_genres\n",
    "spb_genres = spb_general.groupby('genre')['genre'].count()\n",
    "spb_genres = spb_genres.sort_values(ascending = False)"
   ]
  },
  {
   "cell_type": "markdown",
   "metadata": {
    "id": "5Doha_ODgyQ8"
   },
   "source": [
    "Выведите на экран первые десять строк `spb_genres`:"
   ]
  },
  {
   "cell_type": "code",
   "execution_count": 38,
   "metadata": {
    "id": "uaGJHjVU_Zcv"
   },
   "outputs": [
    {
     "name": "stdout",
     "output_type": "stream",
     "text": [
      "genre\n",
      "pop            2431\n",
      "dance          1932\n",
      "rock           1879\n",
      "electronic     1736\n",
      "hiphop          960\n",
      "alternative     649\n",
      "classical       646\n",
      "rusrap          564\n",
      "ruspop          538\n",
      "world           515\n",
      "Name: genre, dtype: int64\n"
     ]
    }
   ],
   "source": [
    "# просмотр первых 10 строк spb_genres\n",
    "print(spb_genres.head(10))"
   ]
  },
  {
   "cell_type": "markdown",
   "metadata": {},
   "source": [
    "<div class=\"alert alert-success\">\n",
    "<h2> Комментарий ревьюера - ОК </h2>\n",
    "    Данные по Санкт-Петербургу корректны  \n",
    "</div>"
   ]
  },
  {
   "cell_type": "markdown",
   "metadata": {
    "id": "RY51YJYu_Zcv"
   },
   "source": [
    "**Выводы**"
   ]
  },
  {
   "cell_type": "markdown",
   "metadata": {
    "id": "nVhnJEm__Zcv"
   },
   "source": [
    "Гипотеза частично подтвердилась:\n",
    "* Поп-музыка — самый популярный жанр в Москве, как и предполагала гипотеза. Более того, в топ-10 жанров встречается близкий жанр — русская популярная музыка.\n",
    "* Вопреки ожиданиям, рэп одинаково популярен в Москве и Петербурге. \n"
   ]
  },
  {
   "cell_type": "markdown",
   "metadata": {},
   "source": [
    "<div class=\"alert alert-success\">\n",
    "<h2> Комментарий ревьюера - ОК </h2>\n",
    "    И с 3 гипотезой разобрались.     \n",
    "</div>"
   ]
  },
  {
   "cell_type": "markdown",
   "metadata": {
    "id": "ykKQ0N65_Zcv"
   },
   "source": [
    "## Итоги исследования"
   ]
  },
  {
   "cell_type": "markdown",
   "metadata": {
    "id": "tjUwbHb3_Zcv"
   },
   "source": [
    "Вы проверили три гипотезы и установили:\n",
    "\n",
    "1. День недели по-разному влияет на активность пользователей в Москве и Петербурге. \n",
    "\n",
    "Первая гипотеза полностью подтвердилась.\n",
    "\n",
    "2. Музыкальные предпочтения не сильно меняются в течение недели — будь то Москва или Петербург. Небольшие различия заметны в начале недели, по понедельникам:\n",
    "* в Москве слушают музыку жанра “world”,\n",
    "* в Петербурге — джаз и классику.\n",
    "\n",
    "Таким образом, вторая гипотеза подтвердилась лишь отчасти. Этот результат мог оказаться иным, если бы не пропуски в данных.\n",
    "\n",
    "3. Во вкусах пользователей Москвы и Петербурга больше общего чем различий. Вопреки ожиданиям, предпочтения жанров в Петербурге напоминают московские.\n",
    "\n",
    "Третья гипотеза не подтвердилась. Если различия в предпочтениях и существуют, на основной массе пользователей они незаметны.\n",
    "\n",
    "**На практике исследования содержат проверки статистических гипотез.**\n",
    "Из данных одного сервиса не всегда можно сделать вывод о всех жителях города.\n",
    "Проверки статистических гипотез покажут, насколько они достоверны, исходя из имеющихся данных. \n",
    "С методами проверок гипотез вы ещё познакомитесь в следующих темах."
   ]
  },
  {
   "cell_type": "markdown",
   "metadata": {},
   "source": [
    "<div class=\"alert alert-success\">\n",
    "<h2> Комментарий ревьюера - по заключительному выводу </h2>\n",
    "Вывод является важным этапом проведения анализа. В нем мы описываем основные итоги работы. Поэтому не забывай уделять ему особое внимание в последующих проектах.\n",
    "</div>"
   ]
  },
  {
   "cell_type": "markdown",
   "metadata": {},
   "source": [
    "<div class=\"alert alert-success\">\n",
    "<h2> Комментарий ревьюера - в целом по проекту </h2>\n",
    "Получился подробный и интересный проект. Проект выполнен аккуратно, структура сохранена. Я бы еще поработала над оформлением:\n",
    "    \n",
    "* комментарии стоит писать над кодом (особенно большие комментарии). То есть сначала комментируем что хотим сделать и потом уже делаем;\n",
    "* совсем короткие комментарии можно писать справа, но не забывай ставить пробел между кодом и пояснением;\n",
    "* не нужно использовать print для вывода результатов последней строки.\n",
    "    \n",
    "Тебе осталось исправить несколько замечаний и направить проект мне на повторную проверку.\n",
    "    \n",
    "Возможно, у тебя после проверки появятся доп. вопросы. Вопросы можешь оставить под моими комментариями, постараюсь на них ответить. \n",
    "    \n",
    "P.s. ниже оставлю шаблон для твоих комментариев.\n",
    "</div>"
   ]
  },
  {
   "cell_type": "markdown",
   "metadata": {},
   "source": [
    "<div class=\"alert alert-success\">\n",
    "<h2> Комментарий ревьюера v2 04/04/2022 </h2>\n",
    "\n",
    "Исправления внесены. Проект принят\n",
    "\n",
    "</div>"
   ]
  }
 ],
 "metadata": {
  "ExecuteTimeLog": [
   {
    "duration": 73,
    "start_time": "2022-03-19T12:53:17.247Z"
   },
   {
    "duration": 7,
    "start_time": "2022-03-19T12:53:42.523Z"
   },
   {
    "duration": 7,
    "start_time": "2022-03-19T12:53:52.454Z"
   },
   {
    "duration": 481,
    "start_time": "2022-03-19T12:54:06.367Z"
   },
   {
    "duration": 4,
    "start_time": "2022-03-19T12:54:09.625Z"
   },
   {
    "duration": 3,
    "start_time": "2022-03-19T12:54:23.838Z"
   },
   {
    "duration": 3,
    "start_time": "2022-03-19T12:54:30.390Z"
   },
   {
    "duration": 3,
    "start_time": "2022-03-19T12:54:34.439Z"
   },
   {
    "duration": 139,
    "start_time": "2022-03-19T12:54:37.982Z"
   },
   {
    "duration": 81,
    "start_time": "2022-03-19T12:54:54.299Z"
   },
   {
    "duration": 179,
    "start_time": "2022-03-19T12:55:47.426Z"
   },
   {
    "duration": 8,
    "start_time": "2022-03-19T12:56:01.624Z"
   },
   {
    "duration": 15,
    "start_time": "2022-03-19T12:56:16.603Z"
   },
   {
    "duration": 3,
    "start_time": "2022-03-19T12:56:28.300Z"
   },
   {
    "duration": 197,
    "start_time": "2022-03-19T12:56:37.276Z"
   },
   {
    "duration": 8,
    "start_time": "2022-03-19T12:56:46.083Z"
   },
   {
    "duration": 19,
    "start_time": "2022-03-19T12:57:04.329Z"
   },
   {
    "duration": 78,
    "start_time": "2022-03-19T18:26:29.219Z"
   },
   {
    "duration": 8,
    "start_time": "2022-03-19T18:26:38.919Z"
   },
   {
    "duration": 9,
    "start_time": "2022-03-19T18:27:10.149Z"
   },
   {
    "duration": 528,
    "start_time": "2022-03-19T18:27:16.364Z"
   },
   {
    "duration": 222,
    "start_time": "2022-03-19T18:27:19.556Z"
   },
   {
    "duration": 34,
    "start_time": "2022-03-19T18:27:22.646Z"
   },
   {
    "duration": 9,
    "start_time": "2022-03-19T18:27:25.939Z"
   },
   {
    "duration": 6,
    "start_time": "2022-03-19T18:27:49.590Z"
   },
   {
    "duration": 8,
    "start_time": "2022-03-19T18:30:47.445Z"
   },
   {
    "duration": 13,
    "start_time": "2022-03-19T18:32:00.643Z"
   },
   {
    "duration": 13,
    "start_time": "2022-03-19T18:32:26.822Z"
   },
   {
    "duration": 39,
    "start_time": "2022-03-19T18:33:31.561Z"
   },
   {
    "duration": 4,
    "start_time": "2022-03-19T18:36:48.493Z"
   },
   {
    "duration": 18,
    "start_time": "2022-03-19T18:43:21.756Z"
   },
   {
    "duration": 5,
    "start_time": "2022-03-19T18:43:33.753Z"
   },
   {
    "duration": 18,
    "start_time": "2022-03-19T18:44:00.266Z"
   },
   {
    "duration": 4,
    "start_time": "2022-03-19T18:44:03.321Z"
   },
   {
    "duration": 50,
    "start_time": "2022-03-20T09:34:55.797Z"
   },
   {
    "duration": 389,
    "start_time": "2022-03-20T09:35:11.254Z"
   },
   {
    "duration": 157,
    "start_time": "2022-03-20T09:35:11.646Z"
   },
   {
    "duration": 20,
    "start_time": "2022-03-20T09:35:11.805Z"
   },
   {
    "duration": 37,
    "start_time": "2022-03-20T09:35:11.834Z"
   },
   {
    "duration": 4,
    "start_time": "2022-03-20T09:35:11.872Z"
   },
   {
    "duration": 26,
    "start_time": "2022-03-20T09:35:11.878Z"
   },
   {
    "duration": 12,
    "start_time": "2022-03-20T09:35:11.906Z"
   },
   {
    "duration": 43,
    "start_time": "2022-03-20T09:35:11.920Z"
   },
   {
    "duration": 9,
    "start_time": "2022-03-20T09:35:11.965Z"
   },
   {
    "duration": 3,
    "start_time": "2022-03-20T09:35:11.978Z"
   },
   {
    "duration": 6,
    "start_time": "2022-03-20T09:35:11.982Z"
   },
   {
    "duration": 5,
    "start_time": "2022-03-20T09:35:11.990Z"
   },
   {
    "duration": 4,
    "start_time": "2022-03-20T09:35:11.997Z"
   },
   {
    "duration": 4,
    "start_time": "2022-03-20T09:35:12.003Z"
   },
   {
    "duration": 3,
    "start_time": "2022-03-20T09:35:12.033Z"
   },
   {
    "duration": 7,
    "start_time": "2022-03-20T09:35:12.037Z"
   },
   {
    "duration": 19,
    "start_time": "2022-03-20T09:35:12.046Z"
   },
   {
    "duration": 6,
    "start_time": "2022-03-20T09:35:12.067Z"
   },
   {
    "duration": 6,
    "start_time": "2022-03-20T09:35:12.075Z"
   },
   {
    "duration": 7,
    "start_time": "2022-03-20T09:35:12.083Z"
   },
   {
    "duration": 8,
    "start_time": "2022-03-20T09:35:12.092Z"
   },
   {
    "duration": 6,
    "start_time": "2022-03-20T09:35:12.102Z"
   },
   {
    "duration": 5,
    "start_time": "2022-03-20T09:35:12.110Z"
   },
   {
    "duration": 5,
    "start_time": "2022-03-20T09:35:12.116Z"
   },
   {
    "duration": 5,
    "start_time": "2022-03-20T09:35:12.123Z"
   },
   {
    "duration": 17,
    "start_time": "2022-03-20T09:35:12.135Z"
   },
   {
    "duration": 7,
    "start_time": "2022-03-20T09:35:12.154Z"
   },
   {
    "duration": 6,
    "start_time": "2022-03-20T09:35:12.164Z"
   },
   {
    "duration": 5,
    "start_time": "2022-03-20T09:35:12.171Z"
   },
   {
    "duration": 10,
    "start_time": "2022-03-20T09:35:12.178Z"
   },
   {
    "duration": 8,
    "start_time": "2022-03-20T09:35:12.190Z"
   },
   {
    "duration": 6,
    "start_time": "2022-03-20T09:35:12.200Z"
   },
   {
    "duration": 6,
    "start_time": "2022-03-20T09:35:12.208Z"
   },
   {
    "duration": 6,
    "start_time": "2022-03-20T09:35:12.216Z"
   },
   {
    "duration": 6,
    "start_time": "2022-03-20T09:35:12.223Z"
   },
   {
    "duration": 25,
    "start_time": "2022-03-20T09:35:12.230Z"
   },
   {
    "duration": 9,
    "start_time": "2022-03-20T09:35:12.256Z"
   },
   {
    "duration": 5,
    "start_time": "2022-03-20T09:35:12.266Z"
   },
   {
    "duration": 1650,
    "start_time": "2022-03-20T09:44:16.900Z"
   },
   {
    "duration": 23,
    "start_time": "2022-03-20T09:44:45.975Z"
   },
   {
    "duration": 8,
    "start_time": "2022-03-20T09:45:19.310Z"
   },
   {
    "duration": 1515,
    "start_time": "2022-03-20T09:46:07.092Z"
   },
   {
    "duration": 1639,
    "start_time": "2022-03-20T09:48:10.240Z"
   },
   {
    "duration": 7,
    "start_time": "2022-03-20T09:52:26.569Z"
   },
   {
    "duration": 11,
    "start_time": "2022-03-20T09:52:30.138Z"
   },
   {
    "duration": 10,
    "start_time": "2022-03-20T09:52:44.210Z"
   },
   {
    "duration": 79,
    "start_time": "2022-03-20T09:58:49.647Z"
   },
   {
    "duration": 90,
    "start_time": "2022-03-20T09:59:59.386Z"
   },
   {
    "duration": 85,
    "start_time": "2022-03-20T10:00:17.119Z"
   },
   {
    "duration": 96,
    "start_time": "2022-03-20T10:01:06.818Z"
   },
   {
    "duration": 96,
    "start_time": "2022-03-20T10:01:27.224Z"
   },
   {
    "duration": 13,
    "start_time": "2022-03-20T10:04:57.160Z"
   },
   {
    "duration": 7,
    "start_time": "2022-03-20T10:05:40.976Z"
   },
   {
    "duration": 13,
    "start_time": "2022-03-20T10:05:54.244Z"
   },
   {
    "duration": 13,
    "start_time": "2022-03-20T10:06:17.056Z"
   },
   {
    "duration": 11,
    "start_time": "2022-03-20T10:06:35.776Z"
   },
   {
    "duration": 11,
    "start_time": "2022-03-20T10:06:53.562Z"
   },
   {
    "duration": 14,
    "start_time": "2022-03-20T10:07:24.029Z"
   },
   {
    "duration": 21,
    "start_time": "2022-03-20T10:09:09.409Z"
   },
   {
    "duration": 14,
    "start_time": "2022-03-20T10:09:25.844Z"
   },
   {
    "duration": 11,
    "start_time": "2022-03-20T10:10:38.711Z"
   },
   {
    "duration": 14,
    "start_time": "2022-03-20T10:10:52.798Z"
   },
   {
    "duration": 11,
    "start_time": "2022-03-20T10:12:11.786Z"
   },
   {
    "duration": 14,
    "start_time": "2022-03-20T10:12:44.470Z"
   },
   {
    "duration": 39,
    "start_time": "2022-03-20T10:24:28.924Z"
   },
   {
    "duration": 23,
    "start_time": "2022-03-20T11:10:24.364Z"
   },
   {
    "duration": 62,
    "start_time": "2022-03-20T11:13:28.159Z"
   },
   {
    "duration": 73,
    "start_time": "2022-03-20T11:14:17.048Z"
   },
   {
    "duration": 54,
    "start_time": "2022-03-20T11:14:25.621Z"
   },
   {
    "duration": 7,
    "start_time": "2022-03-20T11:16:02.070Z"
   },
   {
    "duration": 10,
    "start_time": "2022-03-20T11:20:34.325Z"
   },
   {
    "duration": 59,
    "start_time": "2022-03-20T11:21:42.425Z"
   },
   {
    "duration": 41,
    "start_time": "2022-03-20T11:22:44.704Z"
   },
   {
    "duration": 7,
    "start_time": "2022-03-20T11:38:17.069Z"
   },
   {
    "duration": 3,
    "start_time": "2022-03-20T11:38:26.201Z"
   },
   {
    "duration": 8,
    "start_time": "2022-03-20T11:38:30.237Z"
   },
   {
    "duration": 15,
    "start_time": "2022-03-20T11:38:43.908Z"
   },
   {
    "duration": 30,
    "start_time": "2022-03-20T11:39:20.306Z"
   },
   {
    "duration": 39,
    "start_time": "2022-03-20T11:40:09.489Z"
   },
   {
    "duration": 38,
    "start_time": "2022-03-20T11:40:40.700Z"
   },
   {
    "duration": 85,
    "start_time": "2022-03-20T11:41:19.174Z"
   },
   {
    "duration": 3,
    "start_time": "2022-03-20T11:43:47.161Z"
   },
   {
    "duration": 36,
    "start_time": "2022-03-20T11:44:14.719Z"
   },
   {
    "duration": 40,
    "start_time": "2022-03-20T11:44:40.450Z"
   },
   {
    "duration": 39,
    "start_time": "2022-03-20T11:44:45.110Z"
   },
   {
    "duration": 75,
    "start_time": "2022-03-20T11:46:55.135Z"
   },
   {
    "duration": 2,
    "start_time": "2022-03-20T11:47:06.848Z"
   },
   {
    "duration": 13,
    "start_time": "2022-03-20T11:47:19.877Z"
   },
   {
    "duration": 12,
    "start_time": "2022-03-20T11:47:45.840Z"
   },
   {
    "duration": 5,
    "start_time": "2022-03-20T11:49:10.084Z"
   },
   {
    "duration": 6,
    "start_time": "2022-03-20T11:50:23.307Z"
   },
   {
    "duration": 13,
    "start_time": "2022-03-20T11:50:32.118Z"
   },
   {
    "duration": 12,
    "start_time": "2022-03-20T11:52:19.421Z"
   },
   {
    "duration": 38,
    "start_time": "2022-03-20T11:52:33.825Z"
   },
   {
    "duration": 16,
    "start_time": "2022-03-20T11:56:55.400Z"
   },
   {
    "duration": 3,
    "start_time": "2022-03-20T11:57:03.721Z"
   },
   {
    "duration": 14,
    "start_time": "2022-03-20T11:57:06.435Z"
   },
   {
    "duration": 8,
    "start_time": "2022-03-20T12:09:35.866Z"
   },
   {
    "duration": 3,
    "start_time": "2022-03-20T12:09:41.827Z"
   },
   {
    "duration": 10,
    "start_time": "2022-03-20T12:09:47.442Z"
   },
   {
    "duration": 9,
    "start_time": "2022-03-20T12:10:43.511Z"
   },
   {
    "duration": 3,
    "start_time": "2022-03-20T12:10:49.715Z"
   },
   {
    "duration": 13,
    "start_time": "2022-03-20T12:10:53.001Z"
   },
   {
    "duration": 87,
    "start_time": "2022-03-20T12:15:16.837Z"
   },
   {
    "duration": 68,
    "start_time": "2022-03-20T12:15:22.884Z"
   },
   {
    "duration": 4255,
    "start_time": "2022-03-20T12:19:04.720Z"
   },
   {
    "duration": 34,
    "start_time": "2022-03-20T12:56:52.150Z"
   },
   {
    "duration": 531,
    "start_time": "2022-03-20T18:31:30.746Z"
   },
   {
    "duration": 199,
    "start_time": "2022-03-20T18:31:31.280Z"
   },
   {
    "duration": 26,
    "start_time": "2022-03-20T18:31:31.481Z"
   },
   {
    "duration": 64,
    "start_time": "2022-03-20T18:31:31.510Z"
   },
   {
    "duration": 4,
    "start_time": "2022-03-20T18:31:31.576Z"
   },
   {
    "duration": 18,
    "start_time": "2022-03-20T18:31:31.583Z"
   },
   {
    "duration": 11,
    "start_time": "2022-03-20T18:31:31.604Z"
   },
   {
    "duration": 56,
    "start_time": "2022-03-20T18:31:31.617Z"
   },
   {
    "duration": 37,
    "start_time": "2022-03-20T18:31:31.676Z"
   },
   {
    "duration": 52,
    "start_time": "2022-03-20T18:31:31.716Z"
   },
   {
    "duration": 109,
    "start_time": "2022-03-20T18:31:31.770Z"
   },
   {
    "duration": 116,
    "start_time": "2022-03-20T18:31:31.881Z"
   },
   {
    "duration": 97,
    "start_time": "2022-03-20T18:31:31.999Z"
   },
   {
    "duration": 53,
    "start_time": "2022-03-20T18:31:32.099Z"
   },
   {
    "duration": 3,
    "start_time": "2022-03-20T18:31:32.167Z"
   },
   {
    "duration": 100,
    "start_time": "2022-03-20T18:31:32.172Z"
   },
   {
    "duration": 52,
    "start_time": "2022-03-20T18:31:32.274Z"
   },
   {
    "duration": 79,
    "start_time": "2022-03-20T18:31:32.328Z"
   },
   {
    "duration": 3,
    "start_time": "2022-03-20T18:31:32.410Z"
   },
   {
    "duration": 6,
    "start_time": "2022-03-20T18:31:32.415Z"
   },
   {
    "duration": 7,
    "start_time": "2022-03-20T18:31:32.423Z"
   },
   {
    "duration": 8,
    "start_time": "2022-03-20T18:31:32.432Z"
   },
   {
    "duration": 26,
    "start_time": "2022-03-20T18:31:32.441Z"
   },
   {
    "duration": 5,
    "start_time": "2022-03-20T18:31:32.469Z"
   },
   {
    "duration": 5,
    "start_time": "2022-03-20T18:31:32.476Z"
   },
   {
    "duration": 9,
    "start_time": "2022-03-20T18:31:32.483Z"
   },
   {
    "duration": 8,
    "start_time": "2022-03-20T18:31:32.494Z"
   },
   {
    "duration": 4,
    "start_time": "2022-03-20T18:31:32.508Z"
   },
   {
    "duration": 6,
    "start_time": "2022-03-20T18:31:32.514Z"
   },
   {
    "duration": 45,
    "start_time": "2022-03-20T18:31:32.522Z"
   },
   {
    "duration": 8,
    "start_time": "2022-03-20T18:31:32.570Z"
   },
   {
    "duration": 6,
    "start_time": "2022-03-20T18:31:32.580Z"
   },
   {
    "duration": 6,
    "start_time": "2022-03-20T18:31:32.588Z"
   },
   {
    "duration": 5,
    "start_time": "2022-03-20T18:31:32.597Z"
   },
   {
    "duration": 6,
    "start_time": "2022-03-20T18:31:32.604Z"
   },
   {
    "duration": 4,
    "start_time": "2022-03-20T18:31:32.612Z"
   },
   {
    "duration": 5,
    "start_time": "2022-03-20T18:31:32.618Z"
   },
   {
    "duration": 43,
    "start_time": "2022-03-20T18:31:32.625Z"
   },
   {
    "duration": 366,
    "start_time": "2022-03-21T17:08:21.695Z"
   },
   {
    "duration": 163,
    "start_time": "2022-03-21T17:08:22.063Z"
   },
   {
    "duration": 18,
    "start_time": "2022-03-21T17:08:22.228Z"
   },
   {
    "duration": 30,
    "start_time": "2022-03-21T17:08:22.249Z"
   },
   {
    "duration": 3,
    "start_time": "2022-03-21T17:08:22.281Z"
   },
   {
    "duration": 15,
    "start_time": "2022-03-21T17:08:22.286Z"
   },
   {
    "duration": 7,
    "start_time": "2022-03-21T17:08:22.303Z"
   },
   {
    "duration": 25,
    "start_time": "2022-03-21T17:08:22.338Z"
   },
   {
    "duration": 27,
    "start_time": "2022-03-21T17:08:22.366Z"
   },
   {
    "duration": 41,
    "start_time": "2022-03-21T17:08:22.397Z"
   },
   {
    "duration": 64,
    "start_time": "2022-03-21T17:08:22.440Z"
   },
   {
    "duration": 102,
    "start_time": "2022-03-21T17:08:22.506Z"
   },
   {
    "duration": 65,
    "start_time": "2022-03-21T17:08:22.609Z"
   },
   {
    "duration": 40,
    "start_time": "2022-03-21T17:08:22.676Z"
   },
   {
    "duration": 3,
    "start_time": "2022-03-21T17:08:22.717Z"
   },
   {
    "duration": 74,
    "start_time": "2022-03-21T17:08:22.737Z"
   },
   {
    "duration": 53,
    "start_time": "2022-03-21T17:08:22.813Z"
   },
   {
    "duration": 44,
    "start_time": "2022-03-21T17:08:22.868Z"
   },
   {
    "duration": 2,
    "start_time": "2022-03-21T17:08:22.914Z"
   },
   {
    "duration": 20,
    "start_time": "2022-03-21T17:08:22.918Z"
   },
   {
    "duration": 9,
    "start_time": "2022-03-21T17:08:22.939Z"
   },
   {
    "duration": 17,
    "start_time": "2022-03-21T17:08:22.949Z"
   },
   {
    "duration": 15,
    "start_time": "2022-03-21T17:08:22.968Z"
   },
   {
    "duration": 7,
    "start_time": "2022-03-21T17:08:22.984Z"
   },
   {
    "duration": 5,
    "start_time": "2022-03-21T17:08:22.993Z"
   },
   {
    "duration": 9,
    "start_time": "2022-03-21T17:08:22.999Z"
   },
   {
    "duration": 5,
    "start_time": "2022-03-21T17:08:23.010Z"
   },
   {
    "duration": 6,
    "start_time": "2022-03-21T17:08:23.018Z"
   },
   {
    "duration": 7,
    "start_time": "2022-03-21T17:08:23.026Z"
   },
   {
    "duration": 8,
    "start_time": "2022-03-21T17:08:23.035Z"
   },
   {
    "duration": 12,
    "start_time": "2022-03-21T17:08:23.044Z"
   },
   {
    "duration": 6,
    "start_time": "2022-03-21T17:08:23.058Z"
   },
   {
    "duration": 9,
    "start_time": "2022-03-21T17:08:23.065Z"
   },
   {
    "duration": 7,
    "start_time": "2022-03-21T17:08:23.076Z"
   },
   {
    "duration": 5,
    "start_time": "2022-03-21T17:08:23.084Z"
   },
   {
    "duration": 6,
    "start_time": "2022-03-21T17:08:23.091Z"
   },
   {
    "duration": 9,
    "start_time": "2022-03-21T17:08:23.099Z"
   },
   {
    "duration": 13,
    "start_time": "2022-03-21T17:08:23.110Z"
   },
   {
    "duration": 44,
    "start_time": "2022-03-21T17:10:29.939Z"
   },
   {
    "duration": 93,
    "start_time": "2022-03-21T17:18:12.926Z"
   },
   {
    "duration": 89,
    "start_time": "2022-03-21T17:18:23.469Z"
   },
   {
    "duration": 91,
    "start_time": "2022-03-21T17:18:37.641Z"
   },
   {
    "duration": 89,
    "start_time": "2022-03-21T17:21:54.134Z"
   },
   {
    "duration": 90,
    "start_time": "2022-03-21T17:22:18.323Z"
   },
   {
    "duration": 90,
    "start_time": "2022-03-21T17:24:41.825Z"
   },
   {
    "duration": 87,
    "start_time": "2022-03-21T17:26:10.431Z"
   },
   {
    "duration": 63,
    "start_time": "2022-03-21T17:27:42.757Z"
   },
   {
    "duration": 24,
    "start_time": "2022-03-21T17:28:02.682Z"
   },
   {
    "duration": 12,
    "start_time": "2022-03-21T17:28:32.331Z"
   },
   {
    "duration": 10,
    "start_time": "2022-03-21T17:40:32.443Z"
   },
   {
    "duration": 86,
    "start_time": "2022-03-21T17:40:51.148Z"
   },
   {
    "duration": 36,
    "start_time": "2022-03-21T17:41:10.492Z"
   },
   {
    "duration": 38,
    "start_time": "2022-03-21T17:41:15.382Z"
   },
   {
    "duration": 9,
    "start_time": "2022-03-21T17:41:28.045Z"
   },
   {
    "duration": 2,
    "start_time": "2022-03-21T17:41:46.009Z"
   },
   {
    "duration": 153,
    "start_time": "2022-03-21T17:41:49.642Z"
   },
   {
    "duration": 10,
    "start_time": "2022-03-21T17:41:55.200Z"
   },
   {
    "duration": 30,
    "start_time": "2022-03-21T17:41:59.641Z"
   },
   {
    "duration": 3,
    "start_time": "2022-03-21T17:42:09.273Z"
   },
   {
    "duration": 9,
    "start_time": "2022-03-21T17:42:16.010Z"
   },
   {
    "duration": 3,
    "start_time": "2022-03-21T17:42:19.013Z"
   },
   {
    "duration": 24,
    "start_time": "2022-03-21T17:42:24.250Z"
   },
   {
    "duration": 33,
    "start_time": "2022-03-21T17:42:29.439Z"
   },
   {
    "duration": 25,
    "start_time": "2022-03-21T17:42:37.600Z"
   },
   {
    "duration": 62,
    "start_time": "2022-03-21T17:42:41.441Z"
   },
   {
    "duration": 93,
    "start_time": "2022-03-21T17:42:44.929Z"
   },
   {
    "duration": 59,
    "start_time": "2022-03-21T17:42:48.660Z"
   },
   {
    "duration": 40,
    "start_time": "2022-03-21T17:42:52.306Z"
   },
   {
    "duration": 71,
    "start_time": "2022-03-21T17:44:25.624Z"
   },
   {
    "duration": 42,
    "start_time": "2022-03-21T17:44:29.137Z"
   },
   {
    "duration": 55,
    "start_time": "2022-03-21T17:44:45.594Z"
   },
   {
    "duration": 39,
    "start_time": "2022-03-21T17:44:56.653Z"
   },
   {
    "duration": 86,
    "start_time": "2022-03-21T17:46:53.477Z"
   },
   {
    "duration": 22,
    "start_time": "2022-03-21T17:47:54.224Z"
   },
   {
    "duration": 26,
    "start_time": "2022-03-21T17:48:29.357Z"
   },
   {
    "duration": 86,
    "start_time": "2022-03-21T17:50:53.383Z"
   },
   {
    "duration": 7,
    "start_time": "2022-03-21T17:52:27.486Z"
   },
   {
    "duration": 6,
    "start_time": "2022-03-21T17:52:38.784Z"
   },
   {
    "duration": 8,
    "start_time": "2022-03-21T17:52:44.655Z"
   },
   {
    "duration": 83,
    "start_time": "2022-03-21T17:53:35.212Z"
   },
   {
    "duration": 79,
    "start_time": "2022-03-21T17:54:02.999Z"
   },
   {
    "duration": 4,
    "start_time": "2022-03-21T17:56:49.387Z"
   },
   {
    "duration": 8,
    "start_time": "2022-03-21T17:56:54.518Z"
   },
   {
    "duration": 96,
    "start_time": "2022-03-21T17:57:44.752Z"
   },
   {
    "duration": 21,
    "start_time": "2022-03-21T17:58:09.811Z"
   },
   {
    "duration": 4,
    "start_time": "2022-03-21T17:59:00.966Z"
   },
   {
    "duration": 7,
    "start_time": "2022-03-21T17:59:06.393Z"
   },
   {
    "duration": 8,
    "start_time": "2022-03-21T17:59:27.235Z"
   },
   {
    "duration": 9,
    "start_time": "2022-03-21T18:00:15.483Z"
   },
   {
    "duration": 8,
    "start_time": "2022-03-21T18:00:18.786Z"
   },
   {
    "duration": 8,
    "start_time": "2022-03-21T18:00:31.302Z"
   },
   {
    "duration": 3,
    "start_time": "2022-03-21T18:01:38.839Z"
   },
   {
    "duration": 7,
    "start_time": "2022-03-21T18:01:42.191Z"
   },
   {
    "duration": 7,
    "start_time": "2022-03-21T18:01:48.660Z"
   },
   {
    "duration": 8,
    "start_time": "2022-03-21T18:02:05.147Z"
   },
   {
    "duration": 3,
    "start_time": "2022-03-21T18:02:08.911Z"
   },
   {
    "duration": 8,
    "start_time": "2022-03-21T18:02:11.912Z"
   },
   {
    "duration": 158,
    "start_time": "2022-03-22T10:13:29.059Z"
   },
   {
    "duration": 402,
    "start_time": "2022-03-22T10:13:34.951Z"
   },
   {
    "duration": 179,
    "start_time": "2022-03-22T10:13:35.356Z"
   },
   {
    "duration": 19,
    "start_time": "2022-03-22T10:13:35.537Z"
   },
   {
    "duration": 41,
    "start_time": "2022-03-22T10:13:35.558Z"
   },
   {
    "duration": 4,
    "start_time": "2022-03-22T10:13:35.601Z"
   },
   {
    "duration": 32,
    "start_time": "2022-03-22T10:13:35.607Z"
   },
   {
    "duration": 14,
    "start_time": "2022-03-22T10:13:35.641Z"
   },
   {
    "duration": 34,
    "start_time": "2022-03-22T10:13:35.657Z"
   },
   {
    "duration": 38,
    "start_time": "2022-03-22T10:13:35.693Z"
   },
   {
    "duration": 28,
    "start_time": "2022-03-22T10:13:35.734Z"
   },
   {
    "duration": 85,
    "start_time": "2022-03-22T10:13:35.763Z"
   },
   {
    "duration": 94,
    "start_time": "2022-03-22T10:13:35.850Z"
   },
   {
    "duration": 62,
    "start_time": "2022-03-22T10:13:35.946Z"
   },
   {
    "duration": 54,
    "start_time": "2022-03-22T10:13:36.010Z"
   },
   {
    "duration": 2,
    "start_time": "2022-03-22T10:13:36.066Z"
   },
   {
    "duration": 100,
    "start_time": "2022-03-22T10:13:36.070Z"
   },
   {
    "duration": 48,
    "start_time": "2022-03-22T10:13:36.172Z"
   },
   {
    "duration": 57,
    "start_time": "2022-03-22T10:13:36.222Z"
   },
   {
    "duration": 55,
    "start_time": "2022-03-22T10:13:36.281Z"
   },
   {
    "duration": 4,
    "start_time": "2022-03-22T10:13:36.338Z"
   },
   {
    "duration": 171,
    "start_time": "2022-03-22T10:13:36.343Z"
   },
   {
    "duration": 0,
    "start_time": "2022-03-22T10:13:36.516Z"
   },
   {
    "duration": 0,
    "start_time": "2022-03-22T10:13:36.517Z"
   },
   {
    "duration": 0,
    "start_time": "2022-03-22T10:13:36.518Z"
   },
   {
    "duration": 0,
    "start_time": "2022-03-22T10:13:36.520Z"
   },
   {
    "duration": 0,
    "start_time": "2022-03-22T10:13:36.521Z"
   },
   {
    "duration": 0,
    "start_time": "2022-03-22T10:13:36.522Z"
   },
   {
    "duration": 0,
    "start_time": "2022-03-22T10:13:36.523Z"
   },
   {
    "duration": 0,
    "start_time": "2022-03-22T10:13:36.525Z"
   },
   {
    "duration": 0,
    "start_time": "2022-03-22T10:13:36.526Z"
   },
   {
    "duration": 0,
    "start_time": "2022-03-22T10:13:36.528Z"
   },
   {
    "duration": 0,
    "start_time": "2022-03-22T10:13:36.529Z"
   },
   {
    "duration": 0,
    "start_time": "2022-03-22T10:13:36.531Z"
   },
   {
    "duration": 0,
    "start_time": "2022-03-22T10:13:36.532Z"
   },
   {
    "duration": 0,
    "start_time": "2022-03-22T10:13:36.534Z"
   },
   {
    "duration": 0,
    "start_time": "2022-03-22T10:13:36.535Z"
   },
   {
    "duration": 0,
    "start_time": "2022-03-22T10:13:36.537Z"
   },
   {
    "duration": 0,
    "start_time": "2022-03-22T10:13:36.538Z"
   },
   {
    "duration": 9,
    "start_time": "2022-03-22T10:13:54.418Z"
   },
   {
    "duration": 9,
    "start_time": "2022-03-22T10:14:35.065Z"
   },
   {
    "duration": 11,
    "start_time": "2022-03-22T10:14:59.370Z"
   },
   {
    "duration": 13,
    "start_time": "2022-03-22T10:15:18.282Z"
   },
   {
    "duration": 8,
    "start_time": "2022-03-22T10:15:38.442Z"
   },
   {
    "duration": 9,
    "start_time": "2022-03-22T10:15:56.473Z"
   },
   {
    "duration": 8,
    "start_time": "2022-03-22T10:21:40.317Z"
   },
   {
    "duration": 3,
    "start_time": "2022-03-22T10:21:44.774Z"
   },
   {
    "duration": 4740,
    "start_time": "2022-03-22T10:21:47.709Z"
   },
   {
    "duration": 3463,
    "start_time": "2022-03-22T10:21:53.445Z"
   },
   {
    "duration": 3546,
    "start_time": "2022-03-22T10:21:56.984Z"
   },
   {
    "duration": 4,
    "start_time": "2022-03-22T10:22:49.380Z"
   },
   {
    "duration": 8,
    "start_time": "2022-03-22T10:22:52.477Z"
   },
   {
    "duration": 8,
    "start_time": "2022-03-22T10:22:57.100Z"
   },
   {
    "duration": 4,
    "start_time": "2022-03-22T10:31:06.214Z"
   },
   {
    "duration": 9,
    "start_time": "2022-03-22T10:31:09.191Z"
   },
   {
    "duration": 9,
    "start_time": "2022-03-22T10:31:19.646Z"
   },
   {
    "duration": 3,
    "start_time": "2022-03-22T10:31:45.927Z"
   },
   {
    "duration": 11,
    "start_time": "2022-03-22T10:31:49.526Z"
   },
   {
    "duration": 4,
    "start_time": "2022-03-22T10:32:23.433Z"
   },
   {
    "duration": 10,
    "start_time": "2022-03-22T10:32:26.678Z"
   },
   {
    "duration": 11,
    "start_time": "2022-03-22T10:32:30.518Z"
   },
   {
    "duration": 4,
    "start_time": "2022-03-22T10:39:47.929Z"
   },
   {
    "duration": 10,
    "start_time": "2022-03-22T10:39:50.899Z"
   },
   {
    "duration": 9,
    "start_time": "2022-03-22T10:39:56.297Z"
   },
   {
    "duration": 4,
    "start_time": "2022-03-22T10:47:10.980Z"
   },
   {
    "duration": 9,
    "start_time": "2022-03-22T10:47:13.763Z"
   },
   {
    "duration": 3,
    "start_time": "2022-03-22T10:47:27.868Z"
   },
   {
    "duration": 9,
    "start_time": "2022-03-22T10:47:31.531Z"
   },
   {
    "duration": 7,
    "start_time": "2022-03-22T10:47:34.750Z"
   },
   {
    "duration": 4,
    "start_time": "2022-03-22T10:48:10.443Z"
   },
   {
    "duration": 8,
    "start_time": "2022-03-22T10:48:13.243Z"
   },
   {
    "duration": 4,
    "start_time": "2022-03-22T10:48:28.467Z"
   },
   {
    "duration": 9,
    "start_time": "2022-03-22T10:48:31.722Z"
   },
   {
    "duration": 4,
    "start_time": "2022-03-22T10:49:03.627Z"
   },
   {
    "duration": 20,
    "start_time": "2022-03-22T10:49:15.218Z"
   },
   {
    "duration": 19,
    "start_time": "2022-03-22T10:49:45.610Z"
   },
   {
    "duration": 19,
    "start_time": "2022-03-22T10:50:20.178Z"
   },
   {
    "duration": 3,
    "start_time": "2022-03-22T10:50:27.834Z"
   },
   {
    "duration": 9,
    "start_time": "2022-03-22T10:50:30.529Z"
   },
   {
    "duration": 4,
    "start_time": "2022-03-22T10:54:53.681Z"
   },
   {
    "duration": 9,
    "start_time": "2022-03-22T10:54:56.853Z"
   },
   {
    "duration": 3,
    "start_time": "2022-03-22T10:58:22.115Z"
   },
   {
    "duration": 8,
    "start_time": "2022-03-22T10:58:25.578Z"
   },
   {
    "duration": 8,
    "start_time": "2022-03-22T10:58:30.395Z"
   },
   {
    "duration": 3,
    "start_time": "2022-03-22T11:14:17.280Z"
   },
   {
    "duration": 10,
    "start_time": "2022-03-22T11:14:20.559Z"
   },
   {
    "duration": 4,
    "start_time": "2022-03-22T11:16:29.318Z"
   },
   {
    "duration": 2955,
    "start_time": "2022-03-22T11:16:32.006Z"
   },
   {
    "duration": 3,
    "start_time": "2022-03-22T11:16:52.694Z"
   },
   {
    "duration": 10,
    "start_time": "2022-03-22T11:16:55.998Z"
   },
   {
    "duration": 4,
    "start_time": "2022-03-22T11:18:01.925Z"
   },
   {
    "duration": 9,
    "start_time": "2022-03-22T11:18:04.525Z"
   },
   {
    "duration": 220,
    "start_time": "2022-03-22T11:18:43.972Z"
   },
   {
    "duration": 3,
    "start_time": "2022-03-22T11:19:00.636Z"
   },
   {
    "duration": 11,
    "start_time": "2022-03-22T11:19:03.860Z"
   },
   {
    "duration": 3,
    "start_time": "2022-03-22T11:19:40.212Z"
   },
   {
    "duration": 11,
    "start_time": "2022-03-22T11:19:43.524Z"
   },
   {
    "duration": 3,
    "start_time": "2022-03-22T11:19:56.580Z"
   },
   {
    "duration": 13,
    "start_time": "2022-03-22T11:20:00.139Z"
   },
   {
    "duration": 3,
    "start_time": "2022-03-22T11:21:45.898Z"
   },
   {
    "duration": 12,
    "start_time": "2022-03-22T11:21:49.098Z"
   },
   {
    "duration": 11,
    "start_time": "2022-03-22T11:24:22.577Z"
   },
   {
    "duration": 3,
    "start_time": "2022-03-22T11:33:21.507Z"
   },
   {
    "duration": 12,
    "start_time": "2022-03-22T11:33:24.091Z"
   },
   {
    "duration": 4,
    "start_time": "2022-03-22T12:14:50.887Z"
   },
   {
    "duration": 2622,
    "start_time": "2022-03-22T12:14:55.076Z"
   },
   {
    "duration": 4,
    "start_time": "2022-03-22T12:15:24.487Z"
   },
   {
    "duration": 2689,
    "start_time": "2022-03-22T12:15:28.575Z"
   },
   {
    "duration": 3,
    "start_time": "2022-03-22T12:16:40.621Z"
   },
   {
    "duration": 8,
    "start_time": "2022-03-22T12:16:45.096Z"
   },
   {
    "duration": 13,
    "start_time": "2022-03-22T12:16:52.700Z"
   },
   {
    "duration": 3,
    "start_time": "2022-03-22T12:16:58.352Z"
   },
   {
    "duration": 167,
    "start_time": "2022-03-22T12:16:58.358Z"
   },
   {
    "duration": 12,
    "start_time": "2022-03-22T12:16:58.527Z"
   },
   {
    "duration": 32,
    "start_time": "2022-03-22T12:16:58.541Z"
   },
   {
    "duration": 3,
    "start_time": "2022-03-22T12:16:58.576Z"
   },
   {
    "duration": 14,
    "start_time": "2022-03-22T12:16:58.581Z"
   },
   {
    "duration": 15,
    "start_time": "2022-03-22T12:16:58.597Z"
   },
   {
    "duration": 57,
    "start_time": "2022-03-22T12:16:58.613Z"
   },
   {
    "duration": 35,
    "start_time": "2022-03-22T12:16:58.672Z"
   },
   {
    "duration": 43,
    "start_time": "2022-03-22T12:16:58.710Z"
   },
   {
    "duration": 79,
    "start_time": "2022-03-22T12:16:58.755Z"
   },
   {
    "duration": 75,
    "start_time": "2022-03-22T12:16:58.836Z"
   },
   {
    "duration": 73,
    "start_time": "2022-03-22T12:16:58.913Z"
   },
   {
    "duration": 59,
    "start_time": "2022-03-22T12:16:58.988Z"
   },
   {
    "duration": 2,
    "start_time": "2022-03-22T12:16:59.049Z"
   },
   {
    "duration": 80,
    "start_time": "2022-03-22T12:16:59.053Z"
   },
   {
    "duration": 48,
    "start_time": "2022-03-22T12:16:59.135Z"
   },
   {
    "duration": 57,
    "start_time": "2022-03-22T12:16:59.185Z"
   },
   {
    "duration": 36,
    "start_time": "2022-03-22T12:16:59.243Z"
   },
   {
    "duration": 4,
    "start_time": "2022-03-22T12:16:59.280Z"
   },
   {
    "duration": 13,
    "start_time": "2022-03-22T12:16:59.286Z"
   },
   {
    "duration": 32,
    "start_time": "2022-03-22T12:16:59.301Z"
   },
   {
    "duration": 10,
    "start_time": "2022-03-22T12:16:59.335Z"
   },
   {
    "duration": 12,
    "start_time": "2022-03-22T12:16:59.347Z"
   },
   {
    "duration": 11,
    "start_time": "2022-03-22T12:16:59.361Z"
   },
   {
    "duration": 13,
    "start_time": "2022-03-22T12:16:59.373Z"
   },
   {
    "duration": 9,
    "start_time": "2022-03-22T12:16:59.388Z"
   },
   {
    "duration": 6,
    "start_time": "2022-03-22T12:16:59.400Z"
   },
   {
    "duration": 25,
    "start_time": "2022-03-22T12:16:59.408Z"
   },
   {
    "duration": 5,
    "start_time": "2022-03-22T12:16:59.435Z"
   },
   {
    "duration": 9,
    "start_time": "2022-03-22T12:16:59.442Z"
   },
   {
    "duration": 7,
    "start_time": "2022-03-22T12:16:59.452Z"
   },
   {
    "duration": 8,
    "start_time": "2022-03-22T12:16:59.461Z"
   },
   {
    "duration": 11,
    "start_time": "2022-03-22T12:16:59.471Z"
   },
   {
    "duration": 11,
    "start_time": "2022-03-22T12:16:59.483Z"
   },
   {
    "duration": 6,
    "start_time": "2022-03-22T12:16:59.495Z"
   },
   {
    "duration": 12,
    "start_time": "2022-03-22T12:16:59.503Z"
   },
   {
    "duration": 6,
    "start_time": "2022-03-22T12:16:59.517Z"
   },
   {
    "duration": 4,
    "start_time": "2022-03-22T12:17:08.228Z"
   },
   {
    "duration": 9,
    "start_time": "2022-03-22T12:17:12.068Z"
   },
   {
    "duration": 8,
    "start_time": "2022-03-22T12:20:05.370Z"
   },
   {
    "duration": 3,
    "start_time": "2022-03-22T12:20:41.354Z"
   },
   {
    "duration": 8,
    "start_time": "2022-03-22T12:20:47.738Z"
   },
   {
    "duration": 10,
    "start_time": "2022-03-22T12:21:16.482Z"
   },
   {
    "duration": 4,
    "start_time": "2022-03-22T12:25:15.010Z"
   },
   {
    "duration": 12,
    "start_time": "2022-03-22T12:25:18.487Z"
   },
   {
    "duration": 11,
    "start_time": "2022-03-22T12:25:50.647Z"
   },
   {
    "duration": 12,
    "start_time": "2022-03-22T12:25:54.583Z"
   },
   {
    "duration": 12,
    "start_time": "2022-03-22T12:25:57.622Z"
   },
   {
    "duration": 12,
    "start_time": "2022-03-22T12:25:59.774Z"
   },
   {
    "duration": 12,
    "start_time": "2022-03-22T12:26:02.254Z"
   },
   {
    "duration": 9,
    "start_time": "2022-03-22T12:27:27.246Z"
   },
   {
    "duration": 3,
    "start_time": "2022-03-22T12:27:40.453Z"
   },
   {
    "duration": 11,
    "start_time": "2022-03-22T12:27:43.557Z"
   },
   {
    "duration": 3,
    "start_time": "2022-03-22T12:28:34.844Z"
   },
   {
    "duration": 26,
    "start_time": "2022-03-22T12:28:37.845Z"
   },
   {
    "duration": 4,
    "start_time": "2022-03-22T12:29:08.948Z"
   },
   {
    "duration": 26,
    "start_time": "2022-03-22T12:29:11.637Z"
   },
   {
    "duration": 20,
    "start_time": "2022-03-22T12:29:23.333Z"
   },
   {
    "duration": 23,
    "start_time": "2022-03-22T12:29:27.436Z"
   },
   {
    "duration": 20,
    "start_time": "2022-03-22T12:29:29.916Z"
   },
   {
    "duration": 26,
    "start_time": "2022-03-22T12:29:33.347Z"
   },
   {
    "duration": 21,
    "start_time": "2022-03-22T12:29:35.916Z"
   },
   {
    "duration": 4,
    "start_time": "2022-03-22T12:30:03.387Z"
   },
   {
    "duration": 22,
    "start_time": "2022-03-22T12:30:05.955Z"
   },
   {
    "duration": 3,
    "start_time": "2022-03-22T12:30:23.532Z"
   },
   {
    "duration": 19,
    "start_time": "2022-03-22T12:30:25.979Z"
   },
   {
    "duration": 17,
    "start_time": "2022-03-22T12:30:28.747Z"
   },
   {
    "duration": 17,
    "start_time": "2022-03-22T12:30:31.331Z"
   },
   {
    "duration": 16,
    "start_time": "2022-03-22T12:30:34.171Z"
   },
   {
    "duration": 18,
    "start_time": "2022-03-22T12:30:37.340Z"
   },
   {
    "duration": 17,
    "start_time": "2022-03-22T12:30:39.579Z"
   },
   {
    "duration": 185,
    "start_time": "2022-03-22T12:34:45.418Z"
   },
   {
    "duration": 889,
    "start_time": "2022-03-22T12:35:04.482Z"
   },
   {
    "duration": 438,
    "start_time": "2022-03-22T16:42:17.805Z"
   },
   {
    "duration": 165,
    "start_time": "2022-03-22T16:42:18.245Z"
   },
   {
    "duration": 18,
    "start_time": "2022-03-22T16:42:18.412Z"
   },
   {
    "duration": 32,
    "start_time": "2022-03-22T16:42:18.433Z"
   },
   {
    "duration": 4,
    "start_time": "2022-03-22T16:42:18.467Z"
   },
   {
    "duration": 14,
    "start_time": "2022-03-22T16:42:18.501Z"
   },
   {
    "duration": 10,
    "start_time": "2022-03-22T16:42:18.517Z"
   },
   {
    "duration": 28,
    "start_time": "2022-03-22T16:42:18.529Z"
   },
   {
    "duration": 50,
    "start_time": "2022-03-22T16:42:18.559Z"
   },
   {
    "duration": 26,
    "start_time": "2022-03-22T16:42:18.613Z"
   },
   {
    "duration": 93,
    "start_time": "2022-03-22T16:42:18.641Z"
   },
   {
    "duration": 94,
    "start_time": "2022-03-22T16:42:18.737Z"
   },
   {
    "duration": 70,
    "start_time": "2022-03-22T16:42:18.833Z"
   },
   {
    "duration": 44,
    "start_time": "2022-03-22T16:42:18.904Z"
   },
   {
    "duration": 2,
    "start_time": "2022-03-22T16:42:18.950Z"
   },
   {
    "duration": 92,
    "start_time": "2022-03-22T16:42:18.954Z"
   },
   {
    "duration": 44,
    "start_time": "2022-03-22T16:42:19.048Z"
   },
   {
    "duration": 45,
    "start_time": "2022-03-22T16:42:19.102Z"
   },
   {
    "duration": 54,
    "start_time": "2022-03-22T16:42:19.149Z"
   },
   {
    "duration": 4,
    "start_time": "2022-03-22T16:42:19.204Z"
   },
   {
    "duration": 28,
    "start_time": "2022-03-22T16:42:19.209Z"
   },
   {
    "duration": 16,
    "start_time": "2022-03-22T16:42:19.239Z"
   },
   {
    "duration": 17,
    "start_time": "2022-03-22T16:42:19.257Z"
   },
   {
    "duration": 42,
    "start_time": "2022-03-22T16:42:19.275Z"
   },
   {
    "duration": 20,
    "start_time": "2022-03-22T16:42:19.319Z"
   },
   {
    "duration": 18,
    "start_time": "2022-03-22T16:42:19.341Z"
   },
   {
    "duration": 173,
    "start_time": "2022-03-22T16:42:19.361Z"
   },
   {
    "duration": 0,
    "start_time": "2022-03-22T16:42:19.536Z"
   },
   {
    "duration": 0,
    "start_time": "2022-03-22T16:42:19.537Z"
   },
   {
    "duration": 0,
    "start_time": "2022-03-22T16:42:19.539Z"
   },
   {
    "duration": 0,
    "start_time": "2022-03-22T16:42:19.540Z"
   },
   {
    "duration": 0,
    "start_time": "2022-03-22T16:42:19.541Z"
   },
   {
    "duration": 0,
    "start_time": "2022-03-22T16:42:19.542Z"
   },
   {
    "duration": 0,
    "start_time": "2022-03-22T16:42:19.543Z"
   },
   {
    "duration": 0,
    "start_time": "2022-03-22T16:42:19.544Z"
   },
   {
    "duration": 0,
    "start_time": "2022-03-22T16:42:19.545Z"
   },
   {
    "duration": 0,
    "start_time": "2022-03-22T16:42:19.547Z"
   },
   {
    "duration": 0,
    "start_time": "2022-03-22T16:42:19.547Z"
   },
   {
    "duration": 195,
    "start_time": "2022-03-22T16:44:30.740Z"
   },
   {
    "duration": 180,
    "start_time": "2022-03-22T16:45:14.145Z"
   },
   {
    "duration": 79,
    "start_time": "2022-03-22T16:49:31.705Z"
   },
   {
    "duration": 10,
    "start_time": "2022-03-22T16:50:18.299Z"
   },
   {
    "duration": 9,
    "start_time": "2022-03-22T16:51:28.101Z"
   },
   {
    "duration": 10,
    "start_time": "2022-03-22T16:52:28.401Z"
   },
   {
    "duration": 13,
    "start_time": "2022-03-22T16:54:02.901Z"
   },
   {
    "duration": 23,
    "start_time": "2022-03-22T16:54:37.244Z"
   },
   {
    "duration": 20,
    "start_time": "2022-03-22T16:55:16.302Z"
   },
   {
    "duration": 21,
    "start_time": "2022-03-22T16:55:27.589Z"
   },
   {
    "duration": 5,
    "start_time": "2022-03-22T17:19:42.012Z"
   },
   {
    "duration": 5,
    "start_time": "2022-03-22T17:19:52.202Z"
   },
   {
    "duration": 22,
    "start_time": "2022-03-22T17:20:55.488Z"
   },
   {
    "duration": 3,
    "start_time": "2022-03-22T17:21:04.966Z"
   },
   {
    "duration": 14,
    "start_time": "2022-03-22T17:21:22.752Z"
   },
   {
    "duration": 18,
    "start_time": "2022-03-22T17:21:57.084Z"
   },
   {
    "duration": 13,
    "start_time": "2022-03-22T17:22:16.661Z"
   },
   {
    "duration": 26,
    "start_time": "2022-03-22T18:03:51.759Z"
   },
   {
    "duration": 36,
    "start_time": "2022-03-22T18:04:10.455Z"
   },
   {
    "duration": 33,
    "start_time": "2022-03-22T18:05:38.658Z"
   },
   {
    "duration": 35,
    "start_time": "2022-03-22T18:06:07.034Z"
   },
   {
    "duration": 13,
    "start_time": "2022-03-22T18:08:03.558Z"
   },
   {
    "duration": 499,
    "start_time": "2022-03-23T04:59:43.293Z"
   },
   {
    "duration": 203,
    "start_time": "2022-03-23T04:59:43.795Z"
   },
   {
    "duration": 29,
    "start_time": "2022-03-23T04:59:44.001Z"
   },
   {
    "duration": 60,
    "start_time": "2022-03-23T04:59:44.034Z"
   },
   {
    "duration": 7,
    "start_time": "2022-03-23T04:59:44.096Z"
   },
   {
    "duration": 19,
    "start_time": "2022-03-23T04:59:44.105Z"
   },
   {
    "duration": 7,
    "start_time": "2022-03-23T04:59:44.126Z"
   },
   {
    "duration": 69,
    "start_time": "2022-03-23T04:59:44.135Z"
   },
   {
    "duration": 40,
    "start_time": "2022-03-23T04:59:44.206Z"
   },
   {
    "duration": 33,
    "start_time": "2022-03-23T04:59:44.274Z"
   },
   {
    "duration": 136,
    "start_time": "2022-03-23T04:59:44.309Z"
   },
   {
    "duration": 127,
    "start_time": "2022-03-23T04:59:44.447Z"
   },
   {
    "duration": 108,
    "start_time": "2022-03-23T04:59:44.576Z"
   },
   {
    "duration": 53,
    "start_time": "2022-03-23T04:59:44.686Z"
   },
   {
    "duration": 3,
    "start_time": "2022-03-23T04:59:44.742Z"
   },
   {
    "duration": 116,
    "start_time": "2022-03-23T04:59:44.747Z"
   },
   {
    "duration": 57,
    "start_time": "2022-03-23T04:59:44.875Z"
   },
   {
    "duration": 83,
    "start_time": "2022-03-23T04:59:44.934Z"
   },
   {
    "duration": 62,
    "start_time": "2022-03-23T04:59:45.019Z"
   },
   {
    "duration": 4,
    "start_time": "2022-03-23T04:59:45.084Z"
   },
   {
    "duration": 27,
    "start_time": "2022-03-23T04:59:45.090Z"
   },
   {
    "duration": 20,
    "start_time": "2022-03-23T04:59:45.119Z"
   },
   {
    "duration": 49,
    "start_time": "2022-03-23T04:59:45.141Z"
   },
   {
    "duration": 21,
    "start_time": "2022-03-23T04:59:45.192Z"
   },
   {
    "duration": 22,
    "start_time": "2022-03-23T04:59:45.215Z"
   },
   {
    "duration": 54,
    "start_time": "2022-03-23T04:59:45.240Z"
   },
   {
    "duration": 12,
    "start_time": "2022-03-23T04:59:45.296Z"
   },
   {
    "duration": 28,
    "start_time": "2022-03-23T04:59:45.313Z"
   },
   {
    "duration": 25,
    "start_time": "2022-03-23T04:59:45.375Z"
   },
   {
    "duration": 8,
    "start_time": "2022-03-23T04:59:45.402Z"
   },
   {
    "duration": 39,
    "start_time": "2022-03-23T04:59:45.412Z"
   },
   {
    "duration": 31,
    "start_time": "2022-03-23T04:59:45.453Z"
   },
   {
    "duration": 27,
    "start_time": "2022-03-23T04:59:45.486Z"
   },
   {
    "duration": 15,
    "start_time": "2022-03-23T04:59:45.515Z"
   },
   {
    "duration": 43,
    "start_time": "2022-03-23T04:59:45.532Z"
   },
   {
    "duration": 3,
    "start_time": "2022-03-23T04:59:45.578Z"
   },
   {
    "duration": 17,
    "start_time": "2022-03-23T04:59:45.583Z"
   },
   {
    "duration": 23,
    "start_time": "2022-03-23T04:59:45.602Z"
   },
   {
    "duration": 5,
    "start_time": "2022-03-23T05:01:15.853Z"
   },
   {
    "duration": 16,
    "start_time": "2022-03-23T05:01:48.190Z"
   },
   {
    "duration": 5,
    "start_time": "2022-03-23T05:01:51.572Z"
   },
   {
    "duration": 16,
    "start_time": "2022-03-23T05:02:36.883Z"
   },
   {
    "duration": 6,
    "start_time": "2022-03-23T05:02:57.362Z"
   },
   {
    "duration": 14,
    "start_time": "2022-03-23T05:05:05.106Z"
   },
   {
    "duration": 11,
    "start_time": "2022-03-23T05:05:17.081Z"
   },
   {
    "duration": 112,
    "start_time": "2022-03-23T10:54:33.566Z"
   },
   {
    "duration": 110,
    "start_time": "2022-03-23T10:55:06.444Z"
   },
   {
    "duration": 1876,
    "start_time": "2022-03-23T10:57:22.147Z"
   },
   {
    "duration": 1848,
    "start_time": "2022-03-23T10:59:07.089Z"
   },
   {
    "duration": 20,
    "start_time": "2022-03-23T10:59:57.546Z"
   },
   {
    "duration": 4,
    "start_time": "2022-03-23T11:00:28.998Z"
   },
   {
    "duration": 223,
    "start_time": "2022-03-23T11:00:29.005Z"
   },
   {
    "duration": 20,
    "start_time": "2022-03-23T11:00:29.231Z"
   },
   {
    "duration": 61,
    "start_time": "2022-03-23T11:00:29.254Z"
   },
   {
    "duration": 17,
    "start_time": "2022-03-23T11:00:29.317Z"
   },
   {
    "duration": 22,
    "start_time": "2022-03-23T11:00:29.337Z"
   },
   {
    "duration": 24,
    "start_time": "2022-03-23T11:00:29.361Z"
   },
   {
    "duration": 70,
    "start_time": "2022-03-23T11:00:29.388Z"
   },
   {
    "duration": 34,
    "start_time": "2022-03-23T11:00:29.462Z"
   },
   {
    "duration": 36,
    "start_time": "2022-03-23T11:00:29.498Z"
   },
   {
    "duration": 110,
    "start_time": "2022-03-23T11:00:29.536Z"
   },
   {
    "duration": 112,
    "start_time": "2022-03-23T11:00:29.648Z"
   },
   {
    "duration": 91,
    "start_time": "2022-03-23T11:00:29.762Z"
   },
   {
    "duration": 72,
    "start_time": "2022-03-23T11:00:29.855Z"
   },
   {
    "duration": 4,
    "start_time": "2022-03-23T11:00:29.929Z"
   },
   {
    "duration": 114,
    "start_time": "2022-03-23T11:00:29.937Z"
   },
   {
    "duration": 66,
    "start_time": "2022-03-23T11:00:30.054Z"
   },
   {
    "duration": 71,
    "start_time": "2022-03-23T11:00:30.123Z"
   },
   {
    "duration": 50,
    "start_time": "2022-03-23T11:00:30.196Z"
   },
   {
    "duration": 26,
    "start_time": "2022-03-23T11:00:30.248Z"
   },
   {
    "duration": 29,
    "start_time": "2022-03-23T11:00:30.277Z"
   },
   {
    "duration": 26,
    "start_time": "2022-03-23T11:00:30.309Z"
   },
   {
    "duration": 49,
    "start_time": "2022-03-23T11:00:30.338Z"
   },
   {
    "duration": 28,
    "start_time": "2022-03-23T11:00:30.393Z"
   },
   {
    "duration": 59,
    "start_time": "2022-03-23T11:00:30.423Z"
   },
   {
    "duration": 26,
    "start_time": "2022-03-23T11:00:30.485Z"
   },
   {
    "duration": 39,
    "start_time": "2022-03-23T11:00:30.514Z"
   },
   {
    "duration": 63,
    "start_time": "2022-03-23T11:00:30.556Z"
   },
   {
    "duration": 39,
    "start_time": "2022-03-23T11:00:30.621Z"
   },
   {
    "duration": 14,
    "start_time": "2022-03-23T11:00:30.663Z"
   },
   {
    "duration": 73,
    "start_time": "2022-03-23T11:00:30.679Z"
   },
   {
    "duration": 41,
    "start_time": "2022-03-23T11:00:30.755Z"
   },
   {
    "duration": 44,
    "start_time": "2022-03-23T11:00:30.798Z"
   },
   {
    "duration": 27,
    "start_time": "2022-03-23T11:00:30.844Z"
   },
   {
    "duration": 24,
    "start_time": "2022-03-23T11:00:30.873Z"
   },
   {
    "duration": 18,
    "start_time": "2022-03-23T11:00:30.898Z"
   },
   {
    "duration": 46,
    "start_time": "2022-03-23T11:00:30.919Z"
   },
   {
    "duration": 18,
    "start_time": "2022-03-23T11:00:30.968Z"
   },
   {
    "duration": 18,
    "start_time": "2022-03-23T11:01:21.273Z"
   },
   {
    "duration": 19,
    "start_time": "2022-03-23T11:02:19.159Z"
   },
   {
    "duration": 19,
    "start_time": "2022-03-23T11:05:39.528Z"
   },
   {
    "duration": 20,
    "start_time": "2022-03-23T11:11:22.115Z"
   },
   {
    "duration": 20,
    "start_time": "2022-03-23T11:12:19.794Z"
   },
   {
    "duration": 31,
    "start_time": "2022-03-23T11:12:33.129Z"
   },
   {
    "duration": 19,
    "start_time": "2022-03-23T11:14:51.761Z"
   },
   {
    "duration": 16,
    "start_time": "2022-03-23T11:15:28.119Z"
   },
   {
    "duration": 19,
    "start_time": "2022-03-23T11:15:52.039Z"
   },
   {
    "duration": 16,
    "start_time": "2022-03-23T11:19:12.382Z"
   },
   {
    "duration": 19,
    "start_time": "2022-03-23T11:19:33.221Z"
   },
   {
    "duration": 18,
    "start_time": "2022-03-23T11:29:44.879Z"
   },
   {
    "duration": 20,
    "start_time": "2022-03-23T11:30:48.733Z"
   },
   {
    "duration": 14,
    "start_time": "2022-03-23T11:31:20.501Z"
   },
   {
    "duration": 20,
    "start_time": "2022-03-23T11:31:33.092Z"
   },
   {
    "duration": 51,
    "start_time": "2022-03-23T18:10:50.609Z"
   },
   {
    "duration": 8,
    "start_time": "2022-03-23T18:11:15.377Z"
   },
   {
    "duration": 10,
    "start_time": "2022-03-23T18:11:28.109Z"
   },
   {
    "duration": 7,
    "start_time": "2022-03-23T18:11:37.209Z"
   },
   {
    "duration": 8,
    "start_time": "2022-03-23T18:14:37.380Z"
   },
   {
    "duration": 9,
    "start_time": "2022-03-23T18:15:14.099Z"
   },
   {
    "duration": 445,
    "start_time": "2022-03-23T18:15:35.213Z"
   },
   {
    "duration": 163,
    "start_time": "2022-03-23T18:15:35.660Z"
   },
   {
    "duration": 18,
    "start_time": "2022-03-23T18:15:35.825Z"
   },
   {
    "duration": 35,
    "start_time": "2022-03-23T18:15:35.844Z"
   },
   {
    "duration": 4,
    "start_time": "2022-03-23T18:15:35.881Z"
   },
   {
    "duration": 19,
    "start_time": "2022-03-23T18:15:35.886Z"
   },
   {
    "duration": 26,
    "start_time": "2022-03-23T18:15:35.907Z"
   },
   {
    "duration": 30,
    "start_time": "2022-03-23T18:15:35.935Z"
   },
   {
    "duration": 214,
    "start_time": "2022-03-23T18:15:35.967Z"
   },
   {
    "duration": 26,
    "start_time": "2022-03-23T18:15:36.183Z"
   },
   {
    "duration": 84,
    "start_time": "2022-03-23T18:15:36.211Z"
   },
   {
    "duration": 90,
    "start_time": "2022-03-23T18:15:36.296Z"
   },
   {
    "duration": 74,
    "start_time": "2022-03-23T18:15:36.388Z"
   },
   {
    "duration": 42,
    "start_time": "2022-03-23T18:15:36.466Z"
   },
   {
    "duration": 2,
    "start_time": "2022-03-23T18:15:36.510Z"
   },
   {
    "duration": 67,
    "start_time": "2022-03-23T18:15:36.531Z"
   },
   {
    "duration": 58,
    "start_time": "2022-03-23T18:15:36.600Z"
   },
   {
    "duration": 41,
    "start_time": "2022-03-23T18:15:36.660Z"
   },
   {
    "duration": 51,
    "start_time": "2022-03-23T18:15:36.702Z"
   },
   {
    "duration": 3,
    "start_time": "2022-03-23T18:15:36.755Z"
   },
   {
    "duration": 21,
    "start_time": "2022-03-23T18:15:36.759Z"
   },
   {
    "duration": 15,
    "start_time": "2022-03-23T18:15:36.781Z"
   },
   {
    "duration": 40,
    "start_time": "2022-03-23T18:15:36.798Z"
   },
   {
    "duration": 15,
    "start_time": "2022-03-23T18:15:36.840Z"
   },
   {
    "duration": 23,
    "start_time": "2022-03-23T18:15:36.856Z"
   },
   {
    "duration": 16,
    "start_time": "2022-03-23T18:15:36.881Z"
   },
   {
    "duration": 35,
    "start_time": "2022-03-23T18:15:36.898Z"
   },
   {
    "duration": 23,
    "start_time": "2022-03-23T18:15:36.935Z"
   },
   {
    "duration": 19,
    "start_time": "2022-03-23T18:15:36.960Z"
   },
   {
    "duration": 4,
    "start_time": "2022-03-23T18:15:36.981Z"
   },
   {
    "duration": 51,
    "start_time": "2022-03-23T18:15:36.987Z"
   },
   {
    "duration": 13,
    "start_time": "2022-03-23T18:15:37.040Z"
   },
   {
    "duration": 18,
    "start_time": "2022-03-23T18:15:37.054Z"
   },
   {
    "duration": 12,
    "start_time": "2022-03-23T18:15:37.073Z"
   },
   {
    "duration": 13,
    "start_time": "2022-03-23T18:15:37.086Z"
   },
   {
    "duration": 4,
    "start_time": "2022-03-23T18:15:37.132Z"
   },
   {
    "duration": 10,
    "start_time": "2022-03-23T18:15:37.138Z"
   },
   {
    "duration": 8,
    "start_time": "2022-03-23T18:15:37.150Z"
   },
   {
    "duration": 189,
    "start_time": "2022-03-23T18:16:00.156Z"
   },
   {
    "duration": 238,
    "start_time": "2022-03-23T18:18:52.293Z"
   },
   {
    "duration": 26,
    "start_time": "2022-03-23T18:19:13.100Z"
   },
   {
    "duration": 238,
    "start_time": "2022-03-23T18:20:24.437Z"
   },
   {
    "duration": 479,
    "start_time": "2022-03-23T18:21:15.165Z"
   },
   {
    "duration": 24,
    "start_time": "2022-03-23T18:21:27.332Z"
   },
   {
    "duration": 488,
    "start_time": "2022-03-23T18:21:37.367Z"
   },
   {
    "duration": 1173,
    "start_time": "2022-03-23T18:22:00.871Z"
   },
   {
    "duration": 34,
    "start_time": "2022-03-23T18:22:08.311Z"
   },
   {
    "duration": 1114,
    "start_time": "2022-03-23T18:23:23.481Z"
   },
   {
    "duration": 48,
    "start_time": "2022-03-24T06:38:24.944Z"
   },
   {
    "duration": 369,
    "start_time": "2022-03-24T06:38:33.751Z"
   },
   {
    "duration": 150,
    "start_time": "2022-03-24T06:38:34.122Z"
   },
   {
    "duration": 17,
    "start_time": "2022-03-24T06:38:34.274Z"
   },
   {
    "duration": 34,
    "start_time": "2022-03-24T06:38:34.293Z"
   },
   {
    "duration": 4,
    "start_time": "2022-03-24T06:38:34.328Z"
   },
   {
    "duration": 16,
    "start_time": "2022-03-24T06:38:34.333Z"
   },
   {
    "duration": 6,
    "start_time": "2022-03-24T06:38:34.350Z"
   },
   {
    "duration": 25,
    "start_time": "2022-03-24T06:38:34.357Z"
   },
   {
    "duration": 60,
    "start_time": "2022-03-24T06:38:34.383Z"
   },
   {
    "duration": 23,
    "start_time": "2022-03-24T06:38:34.446Z"
   },
   {
    "duration": 85,
    "start_time": "2022-03-24T06:38:34.470Z"
   },
   {
    "duration": 93,
    "start_time": "2022-03-24T06:38:34.557Z"
   },
   {
    "duration": 61,
    "start_time": "2022-03-24T06:38:34.652Z"
   },
   {
    "duration": 40,
    "start_time": "2022-03-24T06:38:34.714Z"
   },
   {
    "duration": 114,
    "start_time": "2022-03-24T06:38:34.756Z"
   },
   {
    "duration": 0,
    "start_time": "2022-03-24T06:38:34.872Z"
   },
   {
    "duration": 0,
    "start_time": "2022-03-24T06:38:34.873Z"
   },
   {
    "duration": 0,
    "start_time": "2022-03-24T06:38:34.874Z"
   },
   {
    "duration": 0,
    "start_time": "2022-03-24T06:38:34.875Z"
   },
   {
    "duration": 0,
    "start_time": "2022-03-24T06:38:34.876Z"
   },
   {
    "duration": 0,
    "start_time": "2022-03-24T06:38:34.877Z"
   },
   {
    "duration": 0,
    "start_time": "2022-03-24T06:38:34.878Z"
   },
   {
    "duration": 0,
    "start_time": "2022-03-24T06:38:34.879Z"
   },
   {
    "duration": 0,
    "start_time": "2022-03-24T06:38:34.880Z"
   },
   {
    "duration": 0,
    "start_time": "2022-03-24T06:38:34.881Z"
   },
   {
    "duration": 0,
    "start_time": "2022-03-24T06:38:34.882Z"
   },
   {
    "duration": 0,
    "start_time": "2022-03-24T06:38:34.883Z"
   },
   {
    "duration": 0,
    "start_time": "2022-03-24T06:38:34.884Z"
   },
   {
    "duration": 0,
    "start_time": "2022-03-24T06:38:34.885Z"
   },
   {
    "duration": 0,
    "start_time": "2022-03-24T06:38:34.886Z"
   },
   {
    "duration": 0,
    "start_time": "2022-03-24T06:38:34.887Z"
   },
   {
    "duration": 0,
    "start_time": "2022-03-24T06:38:34.888Z"
   },
   {
    "duration": 0,
    "start_time": "2022-03-24T06:38:34.889Z"
   },
   {
    "duration": 0,
    "start_time": "2022-03-24T06:38:34.890Z"
   },
   {
    "duration": 0,
    "start_time": "2022-03-24T06:38:34.891Z"
   },
   {
    "duration": 0,
    "start_time": "2022-03-24T06:38:34.892Z"
   },
   {
    "duration": 0,
    "start_time": "2022-03-24T06:38:34.893Z"
   },
   {
    "duration": 0,
    "start_time": "2022-03-24T06:38:34.894Z"
   },
   {
    "duration": 34,
    "start_time": "2022-03-24T06:38:59.642Z"
   },
   {
    "duration": 22,
    "start_time": "2022-03-24T06:39:25.091Z"
   },
   {
    "duration": 49,
    "start_time": "2022-03-24T06:40:44.004Z"
   },
   {
    "duration": 11,
    "start_time": "2022-03-24T06:41:13.481Z"
   },
   {
    "duration": 34,
    "start_time": "2022-03-24T06:41:26.457Z"
   },
   {
    "duration": 11,
    "start_time": "2022-03-24T06:41:41.210Z"
   },
   {
    "duration": 33,
    "start_time": "2022-03-24T06:41:58.728Z"
   },
   {
    "duration": 12,
    "start_time": "2022-03-24T06:42:16.298Z"
   },
   {
    "duration": 27,
    "start_time": "2022-03-24T06:42:41.952Z"
   },
   {
    "duration": 4,
    "start_time": "2022-03-24T06:42:46.767Z"
   },
   {
    "duration": 17,
    "start_time": "2022-03-24T06:42:49.536Z"
   },
   {
    "duration": 15,
    "start_time": "2022-03-24T06:42:52.304Z"
   },
   {
    "duration": 14,
    "start_time": "2022-03-24T06:42:55.335Z"
   },
   {
    "duration": 15,
    "start_time": "2022-03-24T06:42:57.831Z"
   },
   {
    "duration": 16,
    "start_time": "2022-03-24T06:43:00.208Z"
   },
   {
    "duration": 15,
    "start_time": "2022-03-24T06:43:02.904Z"
   },
   {
    "duration": 8,
    "start_time": "2022-03-24T06:43:11.072Z"
   },
   {
    "duration": 19,
    "start_time": "2022-03-24T06:43:43.375Z"
   },
   {
    "duration": 16,
    "start_time": "2022-03-24T06:44:02.223Z"
   },
   {
    "duration": 5,
    "start_time": "2022-03-24T06:44:15.486Z"
   },
   {
    "duration": 6,
    "start_time": "2022-03-24T06:46:31.742Z"
   },
   {
    "duration": 18,
    "start_time": "2022-03-24T06:46:35.061Z"
   },
   {
    "duration": 13,
    "start_time": "2022-03-24T06:46:38.686Z"
   },
   {
    "duration": 24,
    "start_time": "2022-03-24T06:46:41.244Z"
   },
   {
    "duration": 17,
    "start_time": "2022-03-24T06:46:44.796Z"
   },
   {
    "duration": 17,
    "start_time": "2022-03-24T06:46:55.381Z"
   },
   {
    "duration": 4,
    "start_time": "2022-03-24T06:46:59.821Z"
   },
   {
    "duration": 8,
    "start_time": "2022-03-24T06:47:25.956Z"
   },
   {
    "duration": 4,
    "start_time": "2022-03-24T06:47:29.476Z"
   },
   {
    "duration": 40,
    "start_time": "2022-03-24T06:48:29.756Z"
   },
   {
    "duration": 66,
    "start_time": "2022-03-24T06:48:37.580Z"
   },
   {
    "duration": 40,
    "start_time": "2022-03-24T06:48:41.291Z"
   },
   {
    "duration": 4,
    "start_time": "2022-03-24T06:51:11.545Z"
   },
   {
    "duration": 15,
    "start_time": "2022-03-24T06:52:51.536Z"
   },
   {
    "duration": 82,
    "start_time": "2022-03-24T06:55:15.574Z"
   },
   {
    "duration": 4,
    "start_time": "2022-03-24T06:55:24.669Z"
   },
   {
    "duration": 3,
    "start_time": "2022-03-24T07:15:51.177Z"
   },
   {
    "duration": 27,
    "start_time": "2022-03-24T07:15:55.609Z"
   },
   {
    "duration": 100,
    "start_time": "2022-03-24T07:17:27.114Z"
   },
   {
    "duration": 84,
    "start_time": "2022-03-24T07:17:36.160Z"
   },
   {
    "duration": 2,
    "start_time": "2022-03-24T07:17:45.618Z"
   },
   {
    "duration": 24,
    "start_time": "2022-03-24T07:17:48.616Z"
   },
   {
    "duration": 4,
    "start_time": "2022-03-24T07:23:03.604Z"
   },
   {
    "duration": 14,
    "start_time": "2022-03-24T07:23:08.645Z"
   },
   {
    "duration": 3,
    "start_time": "2022-03-24T07:24:01.612Z"
   },
   {
    "duration": 20,
    "start_time": "2022-03-24T07:24:04.396Z"
   },
   {
    "duration": 7,
    "start_time": "2022-03-24T07:24:41.267Z"
   },
   {
    "duration": 3,
    "start_time": "2022-03-24T07:26:53.307Z"
   },
   {
    "duration": 13,
    "start_time": "2022-03-24T07:26:57.571Z"
   },
   {
    "duration": 3,
    "start_time": "2022-03-24T07:29:07.518Z"
   },
   {
    "duration": 10,
    "start_time": "2022-03-24T07:29:10.151Z"
   },
   {
    "duration": 4,
    "start_time": "2022-03-24T07:31:30.878Z"
   },
   {
    "duration": 10,
    "start_time": "2022-03-24T07:31:33.639Z"
   },
   {
    "duration": 12,
    "start_time": "2022-03-24T07:32:38.878Z"
   },
   {
    "duration": 3,
    "start_time": "2022-03-24T07:33:41.246Z"
   },
   {
    "duration": 4,
    "start_time": "2022-03-24T07:33:43.837Z"
   },
   {
    "duration": 3,
    "start_time": "2022-03-24T07:37:35.187Z"
   },
   {
    "duration": 8,
    "start_time": "2022-03-24T07:38:43.283Z"
   },
   {
    "duration": 3,
    "start_time": "2022-03-24T07:39:03.778Z"
   },
   {
    "duration": 14,
    "start_time": "2022-03-24T07:39:06.314Z"
   },
   {
    "duration": 3,
    "start_time": "2022-03-24T07:42:19.984Z"
   },
   {
    "duration": 4,
    "start_time": "2022-03-24T07:42:22.943Z"
   },
   {
    "duration": 4,
    "start_time": "2022-03-24T07:43:13.921Z"
   },
   {
    "duration": 14,
    "start_time": "2022-03-24T07:43:16.458Z"
   },
   {
    "duration": 3,
    "start_time": "2022-03-24T07:43:34.160Z"
   },
   {
    "duration": 13,
    "start_time": "2022-03-24T07:43:37.016Z"
   },
   {
    "duration": 3,
    "start_time": "2022-03-24T07:43:59.255Z"
   },
   {
    "duration": 3,
    "start_time": "2022-03-24T07:44:02.109Z"
   },
   {
    "duration": 3,
    "start_time": "2022-03-24T07:44:28.071Z"
   },
   {
    "duration": 3,
    "start_time": "2022-03-24T07:44:30.895Z"
   },
   {
    "duration": 41,
    "start_time": "2022-03-24T07:44:56.367Z"
   },
   {
    "duration": 40,
    "start_time": "2022-03-24T07:45:06.505Z"
   },
   {
    "duration": 2,
    "start_time": "2022-03-24T07:45:21.044Z"
   },
   {
    "duration": 167,
    "start_time": "2022-03-24T07:45:21.048Z"
   },
   {
    "duration": 12,
    "start_time": "2022-03-24T07:45:21.217Z"
   },
   {
    "duration": 42,
    "start_time": "2022-03-24T07:45:21.230Z"
   },
   {
    "duration": 27,
    "start_time": "2022-03-24T07:45:21.275Z"
   },
   {
    "duration": 24,
    "start_time": "2022-03-24T07:45:21.304Z"
   },
   {
    "duration": 8,
    "start_time": "2022-03-24T07:45:21.330Z"
   },
   {
    "duration": 42,
    "start_time": "2022-03-24T07:45:21.340Z"
   },
   {
    "duration": 42,
    "start_time": "2022-03-24T07:45:21.383Z"
   },
   {
    "duration": 25,
    "start_time": "2022-03-24T07:45:21.427Z"
   },
   {
    "duration": 85,
    "start_time": "2022-03-24T07:45:21.455Z"
   },
   {
    "duration": 102,
    "start_time": "2022-03-24T07:45:21.542Z"
   },
   {
    "duration": 63,
    "start_time": "2022-03-24T07:45:21.646Z"
   },
   {
    "duration": 40,
    "start_time": "2022-03-24T07:45:21.711Z"
   },
   {
    "duration": 3,
    "start_time": "2022-03-24T07:45:21.753Z"
   },
   {
    "duration": 10,
    "start_time": "2022-03-24T07:45:21.758Z"
   },
   {
    "duration": 66,
    "start_time": "2022-03-24T07:45:21.770Z"
   },
   {
    "duration": 12,
    "start_time": "2022-03-24T07:45:21.838Z"
   },
   {
    "duration": 12,
    "start_time": "2022-03-24T07:45:21.852Z"
   },
   {
    "duration": 3,
    "start_time": "2022-03-24T07:45:21.866Z"
   },
   {
    "duration": 44,
    "start_time": "2022-03-24T07:45:21.871Z"
   },
   {
    "duration": 17,
    "start_time": "2022-03-24T07:45:21.917Z"
   },
   {
    "duration": 16,
    "start_time": "2022-03-24T07:45:21.937Z"
   },
   {
    "duration": 15,
    "start_time": "2022-03-24T07:45:21.955Z"
   },
   {
    "duration": 47,
    "start_time": "2022-03-24T07:45:21.972Z"
   },
   {
    "duration": 15,
    "start_time": "2022-03-24T07:45:22.021Z"
   },
   {
    "duration": 8,
    "start_time": "2022-03-24T07:45:22.038Z"
   },
   {
    "duration": 21,
    "start_time": "2022-03-24T07:45:22.048Z"
   },
   {
    "duration": 49,
    "start_time": "2022-03-24T07:45:22.072Z"
   },
   {
    "duration": 5,
    "start_time": "2022-03-24T07:45:22.123Z"
   },
   {
    "duration": 21,
    "start_time": "2022-03-24T07:45:22.130Z"
   },
   {
    "duration": 12,
    "start_time": "2022-03-24T07:45:22.154Z"
   },
   {
    "duration": 46,
    "start_time": "2022-03-24T07:45:22.168Z"
   },
   {
    "duration": 11,
    "start_time": "2022-03-24T07:45:22.215Z"
   },
   {
    "duration": 10,
    "start_time": "2022-03-24T07:45:22.228Z"
   },
   {
    "duration": 4,
    "start_time": "2022-03-24T07:45:22.240Z"
   },
   {
    "duration": 10,
    "start_time": "2022-03-24T07:45:22.245Z"
   },
   {
    "duration": 4,
    "start_time": "2022-03-24T07:45:22.256Z"
   },
   {
    "duration": 3,
    "start_time": "2022-03-24T07:45:31.326Z"
   },
   {
    "duration": 140,
    "start_time": "2022-03-24T07:45:34.445Z"
   },
   {
    "duration": 11,
    "start_time": "2022-03-24T07:45:37.806Z"
   },
   {
    "duration": 29,
    "start_time": "2022-03-24T07:45:43.878Z"
   },
   {
    "duration": 28,
    "start_time": "2022-03-24T07:46:03.350Z"
   },
   {
    "duration": 31,
    "start_time": "2022-03-24T07:46:12.399Z"
   },
   {
    "duration": 125,
    "start_time": "2022-03-24T07:46:35.285Z"
   },
   {
    "duration": 3,
    "start_time": "2022-03-24T07:47:12.806Z"
   },
   {
    "duration": 9,
    "start_time": "2022-03-24T07:47:21.157Z"
   },
   {
    "duration": 4,
    "start_time": "2022-03-24T07:47:26.796Z"
   },
   {
    "duration": 24,
    "start_time": "2022-03-24T07:47:30.980Z"
   },
   {
    "duration": 20,
    "start_time": "2022-03-24T07:49:47.565Z"
   },
   {
    "duration": 17,
    "start_time": "2022-03-24T07:50:26.028Z"
   },
   {
    "duration": 26,
    "start_time": "2022-03-24T07:52:04.393Z"
   },
   {
    "duration": 78,
    "start_time": "2022-03-24T07:52:11.209Z"
   },
   {
    "duration": 60,
    "start_time": "2022-03-24T07:52:14.849Z"
   },
   {
    "duration": 43,
    "start_time": "2022-03-24T07:52:19.209Z"
   },
   {
    "duration": 3,
    "start_time": "2022-03-24T07:52:39.298Z"
   },
   {
    "duration": 3,
    "start_time": "2022-03-24T07:52:43.153Z"
   },
   {
    "duration": 44,
    "start_time": "2022-03-24T07:52:46.896Z"
   },
   {
    "duration": 4,
    "start_time": "2022-03-24T07:53:06.816Z"
   },
   {
    "duration": 3,
    "start_time": "2022-03-24T07:53:11.640Z"
   },
   {
    "duration": 57,
    "start_time": "2022-03-24T07:53:19.615Z"
   },
   {
    "duration": 2,
    "start_time": "2022-03-24T07:53:59.593Z"
   },
   {
    "duration": 3,
    "start_time": "2022-03-24T07:54:02.520Z"
   },
   {
    "duration": 42,
    "start_time": "2022-03-24T07:54:05.552Z"
   },
   {
    "duration": 3,
    "start_time": "2022-03-24T08:09:39.197Z"
   },
   {
    "duration": 22,
    "start_time": "2022-03-24T08:09:42.654Z"
   },
   {
    "duration": 3,
    "start_time": "2022-03-24T08:10:25.469Z"
   },
   {
    "duration": 13,
    "start_time": "2022-03-24T08:10:34.294Z"
   },
   {
    "duration": 3,
    "start_time": "2022-03-24T08:10:45.925Z"
   },
   {
    "duration": 3,
    "start_time": "2022-03-24T08:10:49.158Z"
   },
   {
    "duration": 4,
    "start_time": "2022-03-24T08:11:00.556Z"
   },
   {
    "duration": 2,
    "start_time": "2022-03-24T08:11:16.389Z"
   },
   {
    "duration": 3,
    "start_time": "2022-03-24T08:11:20.900Z"
   },
   {
    "duration": 4,
    "start_time": "2022-03-24T08:11:46.965Z"
   },
   {
    "duration": 13,
    "start_time": "2022-03-24T08:11:50.940Z"
   },
   {
    "duration": 4,
    "start_time": "2022-03-24T08:18:00.793Z"
   },
   {
    "duration": 3,
    "start_time": "2022-03-24T08:18:03.433Z"
   },
   {
    "duration": 43,
    "start_time": "2022-03-24T08:18:08.512Z"
   },
   {
    "duration": 3,
    "start_time": "2022-03-24T08:18:38.625Z"
   },
   {
    "duration": 2,
    "start_time": "2022-03-24T08:18:42.480Z"
   },
   {
    "duration": 3,
    "start_time": "2022-03-24T08:19:24.064Z"
   },
   {
    "duration": 15,
    "start_time": "2022-03-24T08:19:26.839Z"
   },
   {
    "duration": 3,
    "start_time": "2022-03-24T08:19:41.415Z"
   },
   {
    "duration": 3,
    "start_time": "2022-03-24T08:19:49.623Z"
   },
   {
    "duration": 3,
    "start_time": "2022-03-24T08:19:52.560Z"
   },
   {
    "duration": 43,
    "start_time": "2022-03-24T08:19:58.783Z"
   },
   {
    "duration": 4,
    "start_time": "2022-03-24T08:54:28.302Z"
   },
   {
    "duration": 3,
    "start_time": "2022-03-24T08:54:32.254Z"
   },
   {
    "duration": 3,
    "start_time": "2022-03-24T08:54:56.102Z"
   },
   {
    "duration": 3,
    "start_time": "2022-03-24T08:57:08.915Z"
   },
   {
    "duration": 14,
    "start_time": "2022-03-24T08:57:13.100Z"
   },
   {
    "duration": 3,
    "start_time": "2022-03-24T08:57:30.418Z"
   },
   {
    "duration": 3,
    "start_time": "2022-03-24T08:57:33.157Z"
   },
   {
    "duration": 7,
    "start_time": "2022-03-24T08:58:13.442Z"
   },
   {
    "duration": 3,
    "start_time": "2022-03-24T08:58:32.882Z"
   },
   {
    "duration": 3,
    "start_time": "2022-03-24T08:58:53.795Z"
   },
   {
    "duration": 4,
    "start_time": "2022-03-24T08:58:56.674Z"
   },
   {
    "duration": 3,
    "start_time": "2022-03-24T08:59:07.985Z"
   },
   {
    "duration": 3,
    "start_time": "2022-03-24T08:59:12.553Z"
   },
   {
    "duration": 2,
    "start_time": "2022-03-24T08:59:27.961Z"
   },
   {
    "duration": 494,
    "start_time": "2022-03-24T17:06:11.675Z"
   },
   {
    "duration": 186,
    "start_time": "2022-03-24T17:06:12.172Z"
   },
   {
    "duration": 30,
    "start_time": "2022-03-24T17:06:12.360Z"
   },
   {
    "duration": 41,
    "start_time": "2022-03-24T17:06:12.393Z"
   },
   {
    "duration": 4,
    "start_time": "2022-03-24T17:06:12.436Z"
   },
   {
    "duration": 16,
    "start_time": "2022-03-24T17:06:12.467Z"
   },
   {
    "duration": 5,
    "start_time": "2022-03-24T17:06:12.486Z"
   },
   {
    "duration": 33,
    "start_time": "2022-03-24T17:06:12.493Z"
   },
   {
    "duration": 118,
    "start_time": "2022-03-24T17:06:12.529Z"
   },
   {
    "duration": 0,
    "start_time": "2022-03-24T17:06:12.652Z"
   },
   {
    "duration": 0,
    "start_time": "2022-03-24T17:06:12.654Z"
   },
   {
    "duration": 0,
    "start_time": "2022-03-24T17:06:12.655Z"
   },
   {
    "duration": 0,
    "start_time": "2022-03-24T17:06:12.667Z"
   },
   {
    "duration": 0,
    "start_time": "2022-03-24T17:06:12.669Z"
   },
   {
    "duration": 0,
    "start_time": "2022-03-24T17:06:12.670Z"
   },
   {
    "duration": 0,
    "start_time": "2022-03-24T17:06:12.672Z"
   },
   {
    "duration": 0,
    "start_time": "2022-03-24T17:06:12.673Z"
   },
   {
    "duration": 0,
    "start_time": "2022-03-24T17:06:12.675Z"
   },
   {
    "duration": 0,
    "start_time": "2022-03-24T17:06:12.678Z"
   },
   {
    "duration": 0,
    "start_time": "2022-03-24T17:06:12.680Z"
   },
   {
    "duration": 0,
    "start_time": "2022-03-24T17:06:12.682Z"
   },
   {
    "duration": 0,
    "start_time": "2022-03-24T17:06:12.683Z"
   },
   {
    "duration": 0,
    "start_time": "2022-03-24T17:06:12.685Z"
   },
   {
    "duration": 0,
    "start_time": "2022-03-24T17:06:12.686Z"
   },
   {
    "duration": 0,
    "start_time": "2022-03-24T17:06:12.688Z"
   },
   {
    "duration": 0,
    "start_time": "2022-03-24T17:06:12.689Z"
   },
   {
    "duration": 0,
    "start_time": "2022-03-24T17:06:12.691Z"
   },
   {
    "duration": 0,
    "start_time": "2022-03-24T17:06:12.692Z"
   },
   {
    "duration": 0,
    "start_time": "2022-03-24T17:06:12.694Z"
   },
   {
    "duration": 0,
    "start_time": "2022-03-24T17:06:12.695Z"
   },
   {
    "duration": 1,
    "start_time": "2022-03-24T17:06:12.696Z"
   },
   {
    "duration": 0,
    "start_time": "2022-03-24T17:06:12.698Z"
   },
   {
    "duration": 0,
    "start_time": "2022-03-24T17:06:12.699Z"
   },
   {
    "duration": 0,
    "start_time": "2022-03-24T17:06:12.700Z"
   },
   {
    "duration": 0,
    "start_time": "2022-03-24T17:06:12.702Z"
   },
   {
    "duration": 0,
    "start_time": "2022-03-24T17:06:12.704Z"
   },
   {
    "duration": 0,
    "start_time": "2022-03-24T17:06:12.705Z"
   },
   {
    "duration": 0,
    "start_time": "2022-03-24T17:06:12.767Z"
   },
   {
    "duration": 6,
    "start_time": "2022-03-24T17:08:29.515Z"
   },
   {
    "duration": 32,
    "start_time": "2022-03-24T17:08:39.233Z"
   },
   {
    "duration": 2035,
    "start_time": "2022-03-24T17:09:20.452Z"
   },
   {
    "duration": 18,
    "start_time": "2022-03-24T17:09:47.167Z"
   },
   {
    "duration": 19,
    "start_time": "2022-03-24T17:10:16.762Z"
   },
   {
    "duration": 33,
    "start_time": "2022-03-24T17:10:21.715Z"
   },
   {
    "duration": 22,
    "start_time": "2022-03-24T17:12:56.345Z"
   },
   {
    "duration": 17,
    "start_time": "2022-03-24T17:13:33.720Z"
   },
   {
    "duration": 17,
    "start_time": "2022-03-24T17:15:54.419Z"
   },
   {
    "duration": 19,
    "start_time": "2022-03-24T17:16:20.766Z"
   },
   {
    "duration": 13,
    "start_time": "2022-03-24T17:16:30.500Z"
   },
   {
    "duration": 11,
    "start_time": "2022-03-24T17:16:45.206Z"
   },
   {
    "duration": 17,
    "start_time": "2022-03-24T17:17:30.760Z"
   },
   {
    "duration": 142,
    "start_time": "2022-03-24T17:18:26.788Z"
   },
   {
    "duration": 120,
    "start_time": "2022-03-24T17:18:47.680Z"
   },
   {
    "duration": 142,
    "start_time": "2022-03-24T17:18:56.136Z"
   },
   {
    "duration": 114,
    "start_time": "2022-03-24T17:19:37.305Z"
   },
   {
    "duration": 116,
    "start_time": "2022-03-24T17:19:47.859Z"
   },
   {
    "duration": 20,
    "start_time": "2022-03-24T17:20:21.653Z"
   },
   {
    "duration": 32,
    "start_time": "2022-03-24T17:20:37.839Z"
   },
   {
    "duration": 130,
    "start_time": "2022-03-24T17:22:42.040Z"
   },
   {
    "duration": 21,
    "start_time": "2022-03-24T17:22:56.863Z"
   },
   {
    "duration": 20,
    "start_time": "2022-03-24T17:27:06.317Z"
   },
   {
    "duration": 60,
    "start_time": "2022-03-24T17:45:22.936Z"
   },
   {
    "duration": 70,
    "start_time": "2022-03-24T17:45:42.299Z"
   },
   {
    "duration": 36,
    "start_time": "2022-03-24T17:45:51.931Z"
   },
   {
    "duration": 81,
    "start_time": "2022-03-24T17:47:38.384Z"
   },
   {
    "duration": 78,
    "start_time": "2022-03-24T17:47:58.542Z"
   },
   {
    "duration": 4,
    "start_time": "2022-03-24T17:48:27.891Z"
   },
   {
    "duration": 205,
    "start_time": "2022-03-24T17:48:27.898Z"
   },
   {
    "duration": 15,
    "start_time": "2022-03-24T17:48:28.105Z"
   },
   {
    "duration": 60,
    "start_time": "2022-03-24T17:48:28.123Z"
   },
   {
    "duration": 4,
    "start_time": "2022-03-24T17:48:28.186Z"
   },
   {
    "duration": 14,
    "start_time": "2022-03-24T17:48:28.192Z"
   },
   {
    "duration": 4,
    "start_time": "2022-03-24T17:48:28.208Z"
   },
   {
    "duration": 71,
    "start_time": "2022-03-24T17:48:28.215Z"
   },
   {
    "duration": 43,
    "start_time": "2022-03-24T17:48:28.289Z"
   },
   {
    "duration": 55,
    "start_time": "2022-03-24T17:48:28.335Z"
   },
   {
    "duration": 118,
    "start_time": "2022-03-24T17:48:28.394Z"
   },
   {
    "duration": 119,
    "start_time": "2022-03-24T17:48:28.515Z"
   },
   {
    "duration": 96,
    "start_time": "2022-03-24T17:48:28.636Z"
   },
   {
    "duration": 67,
    "start_time": "2022-03-24T17:48:28.735Z"
   },
   {
    "duration": 5,
    "start_time": "2022-03-24T17:48:28.805Z"
   },
   {
    "duration": 6,
    "start_time": "2022-03-24T17:48:28.813Z"
   },
   {
    "duration": 86,
    "start_time": "2022-03-24T17:48:28.822Z"
   },
   {
    "duration": 17,
    "start_time": "2022-03-24T17:48:28.910Z"
   },
   {
    "duration": 40,
    "start_time": "2022-03-24T17:48:28.929Z"
   },
   {
    "duration": 5,
    "start_time": "2022-03-24T17:48:28.971Z"
   },
   {
    "duration": 25,
    "start_time": "2022-03-24T17:48:28.978Z"
   },
   {
    "duration": 20,
    "start_time": "2022-03-24T17:48:29.005Z"
   },
   {
    "duration": 52,
    "start_time": "2022-03-24T17:48:29.028Z"
   },
   {
    "duration": 20,
    "start_time": "2022-03-24T17:48:29.082Z"
   },
   {
    "duration": 22,
    "start_time": "2022-03-24T17:48:29.104Z"
   },
   {
    "duration": 54,
    "start_time": "2022-03-24T17:48:29.128Z"
   },
   {
    "duration": 14,
    "start_time": "2022-03-24T17:48:29.183Z"
   },
   {
    "duration": 32,
    "start_time": "2022-03-24T17:48:29.199Z"
   },
   {
    "duration": 54,
    "start_time": "2022-03-24T17:48:29.236Z"
   },
   {
    "duration": 6,
    "start_time": "2022-03-24T17:48:29.292Z"
   },
   {
    "duration": 28,
    "start_time": "2022-03-24T17:48:29.301Z"
   },
   {
    "duration": 48,
    "start_time": "2022-03-24T17:48:29.332Z"
   },
   {
    "duration": 21,
    "start_time": "2022-03-24T17:48:29.383Z"
   },
   {
    "duration": 16,
    "start_time": "2022-03-24T17:48:29.407Z"
   },
   {
    "duration": 47,
    "start_time": "2022-03-24T17:48:29.426Z"
   },
   {
    "duration": 5,
    "start_time": "2022-03-24T17:48:29.476Z"
   },
   {
    "duration": 13,
    "start_time": "2022-03-24T17:48:29.483Z"
   },
   {
    "duration": 5,
    "start_time": "2022-03-24T17:48:29.499Z"
   },
   {
    "duration": 83,
    "start_time": "2022-03-24T17:49:02.555Z"
   },
   {
    "duration": 29,
    "start_time": "2022-03-24T17:49:25.348Z"
   },
   {
    "duration": 29,
    "start_time": "2022-03-24T17:51:21.232Z"
   },
   {
    "duration": 3,
    "start_time": "2022-03-24T17:55:39.098Z"
   },
   {
    "duration": 12,
    "start_time": "2022-03-24T17:55:43.099Z"
   },
   {
    "duration": 4,
    "start_time": "2022-03-24T17:56:03.013Z"
   },
   {
    "duration": 13,
    "start_time": "2022-03-24T17:56:09.228Z"
   },
   {
    "duration": 4,
    "start_time": "2022-03-24T17:56:50.567Z"
   },
   {
    "duration": 17,
    "start_time": "2022-03-24T17:56:54.307Z"
   },
   {
    "duration": 13,
    "start_time": "2022-03-24T17:57:11.862Z"
   },
   {
    "duration": 121,
    "start_time": "2022-03-24T17:59:06.928Z"
   },
   {
    "duration": 115,
    "start_time": "2022-03-24T17:59:20.793Z"
   },
   {
    "duration": 4,
    "start_time": "2022-03-24T17:59:42.212Z"
   },
   {
    "duration": 13,
    "start_time": "2022-03-24T17:59:45.733Z"
   },
   {
    "duration": 5,
    "start_time": "2022-03-24T18:05:33.534Z"
   },
   {
    "duration": 13,
    "start_time": "2022-03-24T18:05:51.861Z"
   },
   {
    "duration": 564,
    "start_time": "2022-03-25T07:40:19.508Z"
   },
   {
    "duration": 201,
    "start_time": "2022-03-25T07:40:20.074Z"
   },
   {
    "duration": 25,
    "start_time": "2022-03-25T07:40:20.278Z"
   },
   {
    "duration": 66,
    "start_time": "2022-03-25T07:40:20.306Z"
   },
   {
    "duration": 5,
    "start_time": "2022-03-25T07:40:20.383Z"
   },
   {
    "duration": 36,
    "start_time": "2022-03-25T07:40:20.390Z"
   },
   {
    "duration": 49,
    "start_time": "2022-03-25T07:40:20.428Z"
   },
   {
    "duration": 50,
    "start_time": "2022-03-25T07:40:20.479Z"
   },
   {
    "duration": 95,
    "start_time": "2022-03-25T07:40:20.531Z"
   },
   {
    "duration": 32,
    "start_time": "2022-03-25T07:40:20.629Z"
   },
   {
    "duration": 115,
    "start_time": "2022-03-25T07:40:20.663Z"
   },
   {
    "duration": 118,
    "start_time": "2022-03-25T07:40:20.780Z"
   },
   {
    "duration": 98,
    "start_time": "2022-03-25T07:40:20.900Z"
   },
   {
    "duration": 52,
    "start_time": "2022-03-25T07:40:21.001Z"
   },
   {
    "duration": 4,
    "start_time": "2022-03-25T07:40:21.055Z"
   },
   {
    "duration": 102,
    "start_time": "2022-03-25T07:40:21.082Z"
   },
   {
    "duration": 0,
    "start_time": "2022-03-25T07:40:21.187Z"
   },
   {
    "duration": 0,
    "start_time": "2022-03-25T07:40:21.188Z"
   },
   {
    "duration": 0,
    "start_time": "2022-03-25T07:40:21.190Z"
   },
   {
    "duration": 0,
    "start_time": "2022-03-25T07:40:21.192Z"
   },
   {
    "duration": 0,
    "start_time": "2022-03-25T07:40:21.194Z"
   },
   {
    "duration": 0,
    "start_time": "2022-03-25T07:40:21.196Z"
   },
   {
    "duration": 0,
    "start_time": "2022-03-25T07:40:21.198Z"
   },
   {
    "duration": 0,
    "start_time": "2022-03-25T07:40:21.199Z"
   },
   {
    "duration": 0,
    "start_time": "2022-03-25T07:40:21.201Z"
   },
   {
    "duration": 0,
    "start_time": "2022-03-25T07:40:21.203Z"
   },
   {
    "duration": 0,
    "start_time": "2022-03-25T07:40:21.205Z"
   },
   {
    "duration": 0,
    "start_time": "2022-03-25T07:40:21.207Z"
   },
   {
    "duration": 0,
    "start_time": "2022-03-25T07:40:21.208Z"
   },
   {
    "duration": 0,
    "start_time": "2022-03-25T07:40:21.209Z"
   },
   {
    "duration": 0,
    "start_time": "2022-03-25T07:40:21.211Z"
   },
   {
    "duration": 0,
    "start_time": "2022-03-25T07:40:21.212Z"
   },
   {
    "duration": 0,
    "start_time": "2022-03-25T07:40:21.214Z"
   },
   {
    "duration": 0,
    "start_time": "2022-03-25T07:40:21.215Z"
   },
   {
    "duration": 0,
    "start_time": "2022-03-25T07:40:21.217Z"
   },
   {
    "duration": 0,
    "start_time": "2022-03-25T07:40:21.219Z"
   },
   {
    "duration": 0,
    "start_time": "2022-03-25T07:40:21.221Z"
   },
   {
    "duration": 0,
    "start_time": "2022-03-25T07:40:21.283Z"
   },
   {
    "duration": 13,
    "start_time": "2022-03-25T07:40:37.768Z"
   },
   {
    "duration": 52,
    "start_time": "2022-03-25T07:40:47.991Z"
   },
   {
    "duration": 22,
    "start_time": "2022-03-25T07:40:52.543Z"
   },
   {
    "duration": 20,
    "start_time": "2022-03-25T07:40:55.758Z"
   },
   {
    "duration": 5,
    "start_time": "2022-03-25T07:40:59.399Z"
   },
   {
    "duration": 27,
    "start_time": "2022-03-25T07:41:02.456Z"
   },
   {
    "duration": 20,
    "start_time": "2022-03-25T07:41:05.744Z"
   },
   {
    "duration": 28,
    "start_time": "2022-03-25T07:41:10.024Z"
   },
   {
    "duration": 18,
    "start_time": "2022-03-25T07:41:12.720Z"
   },
   {
    "duration": 21,
    "start_time": "2022-03-25T07:41:15.207Z"
   },
   {
    "duration": 29,
    "start_time": "2022-03-25T07:41:18.000Z"
   },
   {
    "duration": 39,
    "start_time": "2022-03-25T07:41:23.303Z"
   },
   {
    "duration": 4,
    "start_time": "2022-03-25T07:42:32.568Z"
   },
   {
    "duration": 19,
    "start_time": "2022-03-25T07:42:35.431Z"
   },
   {
    "duration": 4,
    "start_time": "2022-03-25T07:43:49.318Z"
   },
   {
    "duration": 35,
    "start_time": "2022-03-25T07:43:54.229Z"
   },
   {
    "duration": 53,
    "start_time": "2022-03-25T07:43:58.974Z"
   },
   {
    "duration": 4,
    "start_time": "2022-03-25T07:44:28.438Z"
   },
   {
    "duration": 51,
    "start_time": "2022-03-25T07:44:35.165Z"
   },
   {
    "duration": 3,
    "start_time": "2022-03-25T07:44:44.177Z"
   },
   {
    "duration": 236,
    "start_time": "2022-03-25T07:44:44.183Z"
   },
   {
    "duration": 17,
    "start_time": "2022-03-25T07:44:44.422Z"
   },
   {
    "duration": 65,
    "start_time": "2022-03-25T07:44:44.442Z"
   },
   {
    "duration": 11,
    "start_time": "2022-03-25T07:44:44.509Z"
   },
   {
    "duration": 18,
    "start_time": "2022-03-25T07:44:44.523Z"
   },
   {
    "duration": 4,
    "start_time": "2022-03-25T07:44:44.544Z"
   },
   {
    "duration": 65,
    "start_time": "2022-03-25T07:44:44.550Z"
   },
   {
    "duration": 114,
    "start_time": "2022-03-25T07:44:44.618Z"
   },
   {
    "duration": 31,
    "start_time": "2022-03-25T07:44:44.737Z"
   },
   {
    "duration": 101,
    "start_time": "2022-03-25T07:44:44.782Z"
   },
   {
    "duration": 113,
    "start_time": "2022-03-25T07:44:44.885Z"
   },
   {
    "duration": 114,
    "start_time": "2022-03-25T07:44:45.000Z"
   },
   {
    "duration": 94,
    "start_time": "2022-03-25T07:44:45.116Z"
   },
   {
    "duration": 6,
    "start_time": "2022-03-25T07:44:45.212Z"
   },
   {
    "duration": 51,
    "start_time": "2022-03-25T07:44:45.221Z"
   },
   {
    "duration": 106,
    "start_time": "2022-03-25T07:44:45.276Z"
   },
   {
    "duration": 20,
    "start_time": "2022-03-25T07:44:45.385Z"
   },
   {
    "duration": 16,
    "start_time": "2022-03-25T07:44:45.408Z"
   },
   {
    "duration": 5,
    "start_time": "2022-03-25T07:44:45.426Z"
   },
   {
    "duration": 67,
    "start_time": "2022-03-25T07:44:45.434Z"
   },
   {
    "duration": 22,
    "start_time": "2022-03-25T07:44:45.503Z"
   },
   {
    "duration": 29,
    "start_time": "2022-03-25T07:44:45.527Z"
   },
   {
    "duration": 33,
    "start_time": "2022-03-25T07:44:45.558Z"
   },
   {
    "duration": 41,
    "start_time": "2022-03-25T07:44:45.593Z"
   },
   {
    "duration": 28,
    "start_time": "2022-03-25T07:44:45.638Z"
   },
   {
    "duration": 22,
    "start_time": "2022-03-25T07:44:45.668Z"
   },
   {
    "duration": 61,
    "start_time": "2022-03-25T07:44:45.695Z"
   },
   {
    "duration": 33,
    "start_time": "2022-03-25T07:44:45.758Z"
   },
   {
    "duration": 12,
    "start_time": "2022-03-25T07:44:45.794Z"
   },
   {
    "duration": 58,
    "start_time": "2022-03-25T07:44:45.808Z"
   },
   {
    "duration": 20,
    "start_time": "2022-03-25T07:44:45.868Z"
   },
   {
    "duration": 21,
    "start_time": "2022-03-25T07:44:45.891Z"
   },
   {
    "duration": 19,
    "start_time": "2022-03-25T07:44:45.914Z"
   },
   {
    "duration": 26,
    "start_time": "2022-03-25T07:44:45.936Z"
   },
   {
    "duration": 32,
    "start_time": "2022-03-25T07:44:45.964Z"
   },
   {
    "duration": 29,
    "start_time": "2022-03-25T07:44:45.998Z"
   },
   {
    "duration": 20,
    "start_time": "2022-03-25T07:44:46.029Z"
   },
   {
    "duration": 36,
    "start_time": "2022-03-25T07:45:50.436Z"
   },
   {
    "duration": 51,
    "start_time": "2022-03-25T07:45:53.484Z"
   },
   {
    "duration": 4,
    "start_time": "2022-03-25T07:46:25.064Z"
   },
   {
    "duration": 226,
    "start_time": "2022-03-25T07:46:25.072Z"
   },
   {
    "duration": 17,
    "start_time": "2022-03-25T07:46:25.300Z"
   },
   {
    "duration": 63,
    "start_time": "2022-03-25T07:46:25.321Z"
   },
   {
    "duration": 6,
    "start_time": "2022-03-25T07:46:25.387Z"
   },
   {
    "duration": 18,
    "start_time": "2022-03-25T07:46:25.396Z"
   },
   {
    "duration": 16,
    "start_time": "2022-03-25T07:46:25.416Z"
   },
   {
    "duration": 52,
    "start_time": "2022-03-25T07:46:25.435Z"
   },
   {
    "duration": 85,
    "start_time": "2022-03-25T07:46:25.489Z"
   },
   {
    "duration": 31,
    "start_time": "2022-03-25T07:46:25.584Z"
   },
   {
    "duration": 107,
    "start_time": "2022-03-25T07:46:25.617Z"
   },
   {
    "duration": 110,
    "start_time": "2022-03-25T07:46:25.726Z"
   },
   {
    "duration": 92,
    "start_time": "2022-03-25T07:46:25.838Z"
   },
   {
    "duration": 58,
    "start_time": "2022-03-25T07:46:25.932Z"
   },
   {
    "duration": 4,
    "start_time": "2022-03-25T07:46:25.993Z"
   },
   {
    "duration": 55,
    "start_time": "2022-03-25T07:46:25.999Z"
   },
   {
    "duration": 59,
    "start_time": "2022-03-25T07:46:26.056Z"
   },
   {
    "duration": 17,
    "start_time": "2022-03-25T07:46:26.117Z"
   },
   {
    "duration": 31,
    "start_time": "2022-03-25T07:46:26.136Z"
   },
   {
    "duration": 13,
    "start_time": "2022-03-25T07:46:26.169Z"
   },
   {
    "duration": 41,
    "start_time": "2022-03-25T07:46:26.185Z"
   },
   {
    "duration": 24,
    "start_time": "2022-03-25T07:46:26.229Z"
   },
   {
    "duration": 27,
    "start_time": "2022-03-25T07:46:26.255Z"
   },
   {
    "duration": 20,
    "start_time": "2022-03-25T07:46:26.284Z"
   },
   {
    "duration": 21,
    "start_time": "2022-03-25T07:46:26.307Z"
   },
   {
    "duration": 23,
    "start_time": "2022-03-25T07:46:26.330Z"
   },
   {
    "duration": 11,
    "start_time": "2022-03-25T07:46:26.383Z"
   },
   {
    "duration": 43,
    "start_time": "2022-03-25T07:46:26.399Z"
   },
   {
    "duration": 43,
    "start_time": "2022-03-25T07:46:26.445Z"
   },
   {
    "duration": 6,
    "start_time": "2022-03-25T07:46:26.491Z"
   },
   {
    "duration": 41,
    "start_time": "2022-03-25T07:46:26.500Z"
   },
   {
    "duration": 20,
    "start_time": "2022-03-25T07:46:26.544Z"
   },
   {
    "duration": 37,
    "start_time": "2022-03-25T07:46:26.566Z"
   },
   {
    "duration": 28,
    "start_time": "2022-03-25T07:46:26.606Z"
   },
   {
    "duration": 18,
    "start_time": "2022-03-25T07:46:26.637Z"
   },
   {
    "duration": 27,
    "start_time": "2022-03-25T07:46:26.657Z"
   },
   {
    "duration": 30,
    "start_time": "2022-03-25T07:46:26.686Z"
   },
   {
    "duration": 13,
    "start_time": "2022-03-25T07:46:26.719Z"
   },
   {
    "duration": 401,
    "start_time": "2022-04-02T12:25:32.705Z"
   },
   {
    "duration": 155,
    "start_time": "2022-04-02T12:25:33.108Z"
   },
   {
    "duration": 17,
    "start_time": "2022-04-02T12:25:33.265Z"
   },
   {
    "duration": 53,
    "start_time": "2022-04-02T12:25:33.283Z"
   },
   {
    "duration": 7,
    "start_time": "2022-04-02T12:25:33.338Z"
   },
   {
    "duration": 24,
    "start_time": "2022-04-02T12:25:33.347Z"
   },
   {
    "duration": 20,
    "start_time": "2022-04-02T12:25:33.372Z"
   },
   {
    "duration": 35,
    "start_time": "2022-04-02T12:25:33.394Z"
   },
   {
    "duration": 59,
    "start_time": "2022-04-02T12:25:33.430Z"
   },
   {
    "duration": 24,
    "start_time": "2022-04-02T12:25:33.490Z"
   },
   {
    "duration": 75,
    "start_time": "2022-04-02T12:25:33.516Z"
   },
   {
    "duration": 76,
    "start_time": "2022-04-02T12:25:33.592Z"
   },
   {
    "duration": 67,
    "start_time": "2022-04-02T12:25:33.670Z"
   },
   {
    "duration": 38,
    "start_time": "2022-04-02T12:25:33.742Z"
   },
   {
    "duration": 2,
    "start_time": "2022-04-02T12:25:33.782Z"
   },
   {
    "duration": 37,
    "start_time": "2022-04-02T12:25:33.786Z"
   },
   {
    "duration": 39,
    "start_time": "2022-04-02T12:25:33.825Z"
   },
   {
    "duration": 12,
    "start_time": "2022-04-02T12:25:33.865Z"
   },
   {
    "duration": 12,
    "start_time": "2022-04-02T12:25:33.901Z"
   },
   {
    "duration": 10,
    "start_time": "2022-04-02T12:25:33.915Z"
   },
   {
    "duration": 41,
    "start_time": "2022-04-02T12:25:33.927Z"
   },
   {
    "duration": 13,
    "start_time": "2022-04-02T12:25:33.970Z"
   },
   {
    "duration": 21,
    "start_time": "2022-04-02T12:25:33.985Z"
   },
   {
    "duration": 26,
    "start_time": "2022-04-02T12:25:34.007Z"
   },
   {
    "duration": 16,
    "start_time": "2022-04-02T12:25:34.034Z"
   },
   {
    "duration": 22,
    "start_time": "2022-04-02T12:25:34.051Z"
   },
   {
    "duration": 16,
    "start_time": "2022-04-02T12:25:34.075Z"
   },
   {
    "duration": 22,
    "start_time": "2022-04-02T12:25:34.092Z"
   },
   {
    "duration": 17,
    "start_time": "2022-04-02T12:25:34.115Z"
   },
   {
    "duration": 4,
    "start_time": "2022-04-02T12:25:34.134Z"
   },
   {
    "duration": 38,
    "start_time": "2022-04-02T12:25:34.139Z"
   },
   {
    "duration": 23,
    "start_time": "2022-04-02T12:25:34.179Z"
   },
   {
    "duration": 16,
    "start_time": "2022-04-02T12:25:34.203Z"
   },
   {
    "duration": 11,
    "start_time": "2022-04-02T12:25:34.220Z"
   },
   {
    "duration": 12,
    "start_time": "2022-04-02T12:25:34.232Z"
   },
   {
    "duration": 12,
    "start_time": "2022-04-02T12:25:34.245Z"
   },
   {
    "duration": 19,
    "start_time": "2022-04-02T12:25:34.258Z"
   },
   {
    "duration": 23,
    "start_time": "2022-04-02T12:25:34.278Z"
   },
   {
    "duration": 568,
    "start_time": "2022-04-03T06:35:17.247Z"
   },
   {
    "duration": 218,
    "start_time": "2022-04-03T06:35:17.818Z"
   },
   {
    "duration": 41,
    "start_time": "2022-04-03T06:35:18.038Z"
   },
   {
    "duration": 51,
    "start_time": "2022-04-03T06:35:18.082Z"
   },
   {
    "duration": 5,
    "start_time": "2022-04-03T06:35:18.135Z"
   },
   {
    "duration": 43,
    "start_time": "2022-04-03T06:35:18.142Z"
   },
   {
    "duration": 23,
    "start_time": "2022-04-03T06:35:18.187Z"
   },
   {
    "duration": 35,
    "start_time": "2022-04-03T06:35:18.212Z"
   },
   {
    "duration": 106,
    "start_time": "2022-04-03T06:35:18.250Z"
   },
   {
    "duration": 53,
    "start_time": "2022-04-03T06:35:18.360Z"
   },
   {
    "duration": 128,
    "start_time": "2022-04-03T06:35:18.415Z"
   },
   {
    "duration": 122,
    "start_time": "2022-04-03T06:35:18.545Z"
   },
   {
    "duration": 106,
    "start_time": "2022-04-03T06:35:18.672Z"
   },
   {
    "duration": 64,
    "start_time": "2022-04-03T06:35:18.780Z"
   },
   {
    "duration": 4,
    "start_time": "2022-04-03T06:35:18.846Z"
   },
   {
    "duration": 61,
    "start_time": "2022-04-03T06:35:18.851Z"
   },
   {
    "duration": 84,
    "start_time": "2022-04-03T06:35:18.914Z"
   },
   {
    "duration": 20,
    "start_time": "2022-04-03T06:35:19.002Z"
   },
   {
    "duration": 21,
    "start_time": "2022-04-03T06:35:19.024Z"
   },
   {
    "duration": 32,
    "start_time": "2022-04-03T06:35:19.047Z"
   },
   {
    "duration": 29,
    "start_time": "2022-04-03T06:35:19.083Z"
   },
   {
    "duration": 22,
    "start_time": "2022-04-03T06:35:19.115Z"
   },
   {
    "duration": 57,
    "start_time": "2022-04-03T06:35:19.139Z"
   },
   {
    "duration": 29,
    "start_time": "2022-04-03T06:35:19.199Z"
   },
   {
    "duration": 25,
    "start_time": "2022-04-03T06:35:19.230Z"
   },
   {
    "duration": 46,
    "start_time": "2022-04-03T06:35:19.257Z"
   },
   {
    "duration": 16,
    "start_time": "2022-04-03T06:35:19.306Z"
   },
   {
    "duration": 58,
    "start_time": "2022-04-03T06:35:19.327Z"
   },
   {
    "duration": 33,
    "start_time": "2022-04-03T06:35:19.387Z"
   },
   {
    "duration": 5,
    "start_time": "2022-04-03T06:35:19.423Z"
   },
   {
    "duration": 33,
    "start_time": "2022-04-03T06:35:19.430Z"
   },
   {
    "duration": 25,
    "start_time": "2022-04-03T06:35:19.465Z"
   },
   {
    "duration": 36,
    "start_time": "2022-04-03T06:35:19.492Z"
   },
   {
    "duration": 17,
    "start_time": "2022-04-03T06:35:19.530Z"
   },
   {
    "duration": 44,
    "start_time": "2022-04-03T06:35:19.550Z"
   },
   {
    "duration": 17,
    "start_time": "2022-04-03T06:35:19.597Z"
   },
   {
    "duration": 14,
    "start_time": "2022-04-03T06:35:19.616Z"
   },
   {
    "duration": 6,
    "start_time": "2022-04-03T06:35:19.632Z"
   },
   {
    "duration": 100,
    "start_time": "2022-04-03T06:39:11.247Z"
   },
   {
    "duration": 142,
    "start_time": "2022-04-03T06:47:47.044Z"
   },
   {
    "duration": 114,
    "start_time": "2022-04-03T06:48:46.268Z"
   },
   {
    "duration": 90,
    "start_time": "2022-04-03T07:00:43.861Z"
   },
   {
    "duration": 192,
    "start_time": "2022-04-03T07:09:48.471Z"
   },
   {
    "duration": 70,
    "start_time": "2022-04-03T14:07:34.843Z"
   },
   {
    "duration": 584,
    "start_time": "2022-04-03T14:08:00.630Z"
   },
   {
    "duration": 261,
    "start_time": "2022-04-03T14:08:01.218Z"
   },
   {
    "duration": 38,
    "start_time": "2022-04-03T14:08:01.482Z"
   },
   {
    "duration": 80,
    "start_time": "2022-04-03T14:08:01.524Z"
   },
   {
    "duration": 38,
    "start_time": "2022-04-03T14:08:01.607Z"
   },
   {
    "duration": 39,
    "start_time": "2022-04-03T14:08:01.649Z"
   },
   {
    "duration": 131,
    "start_time": "2022-04-03T14:08:01.690Z"
   },
   {
    "duration": 149,
    "start_time": "2022-04-03T14:08:01.823Z"
   },
   {
    "duration": 202,
    "start_time": "2022-04-03T14:08:01.975Z"
   },
   {
    "duration": 34,
    "start_time": "2022-04-03T14:08:02.182Z"
   },
   {
    "duration": 229,
    "start_time": "2022-04-03T14:08:02.219Z"
   },
   {
    "duration": 145,
    "start_time": "2022-04-03T14:08:02.450Z"
   },
   {
    "duration": 127,
    "start_time": "2022-04-03T14:08:02.598Z"
   },
   {
    "duration": 91,
    "start_time": "2022-04-03T14:08:02.727Z"
   },
   {
    "duration": 5,
    "start_time": "2022-04-03T14:08:02.821Z"
   },
   {
    "duration": 74,
    "start_time": "2022-04-03T14:08:02.829Z"
   },
   {
    "duration": 103,
    "start_time": "2022-04-03T14:08:02.906Z"
   },
   {
    "duration": 19,
    "start_time": "2022-04-03T14:08:03.011Z"
   },
   {
    "duration": 28,
    "start_time": "2022-04-03T14:08:03.032Z"
   },
   {
    "duration": 23,
    "start_time": "2022-04-03T14:08:03.063Z"
   },
   {
    "duration": 63,
    "start_time": "2022-04-03T14:08:03.091Z"
   },
   {
    "duration": 23,
    "start_time": "2022-04-03T14:08:03.156Z"
   },
   {
    "duration": 30,
    "start_time": "2022-04-03T14:08:03.181Z"
   },
   {
    "duration": 54,
    "start_time": "2022-04-03T14:08:03.214Z"
   },
   {
    "duration": 74,
    "start_time": "2022-04-03T14:08:03.270Z"
   },
   {
    "duration": 24,
    "start_time": "2022-04-03T14:08:03.346Z"
   },
   {
    "duration": 33,
    "start_time": "2022-04-03T14:08:03.373Z"
   },
   {
    "duration": 60,
    "start_time": "2022-04-03T14:08:03.413Z"
   },
   {
    "duration": 42,
    "start_time": "2022-04-03T14:08:03.475Z"
   },
   {
    "duration": 19,
    "start_time": "2022-04-03T14:08:03.520Z"
   },
   {
    "duration": 85,
    "start_time": "2022-04-03T14:08:03.542Z"
   },
   {
    "duration": 20,
    "start_time": "2022-04-03T14:08:03.631Z"
   },
   {
    "duration": 50,
    "start_time": "2022-04-03T14:08:03.654Z"
   },
   {
    "duration": 31,
    "start_time": "2022-04-03T14:08:03.706Z"
   },
   {
    "duration": 34,
    "start_time": "2022-04-03T14:08:03.739Z"
   },
   {
    "duration": 22,
    "start_time": "2022-04-03T14:08:03.775Z"
   },
   {
    "duration": 31,
    "start_time": "2022-04-03T14:08:03.800Z"
   },
   {
    "duration": 14,
    "start_time": "2022-04-03T14:08:03.834Z"
   },
   {
    "duration": 4,
    "start_time": "2022-04-03T14:15:32.716Z"
   },
   {
    "duration": 209,
    "start_time": "2022-04-03T14:15:32.725Z"
   },
   {
    "duration": 17,
    "start_time": "2022-04-03T14:15:32.937Z"
   },
   {
    "duration": 70,
    "start_time": "2022-04-03T14:15:32.956Z"
   },
   {
    "duration": 128,
    "start_time": "2022-04-03T14:15:33.029Z"
   },
   {
    "duration": 4,
    "start_time": "2022-04-03T14:15:39.472Z"
   },
   {
    "duration": 236,
    "start_time": "2022-04-03T14:15:39.478Z"
   },
   {
    "duration": 19,
    "start_time": "2022-04-03T14:15:39.717Z"
   },
   {
    "duration": 55,
    "start_time": "2022-04-03T14:15:39.738Z"
   },
   {
    "duration": 195,
    "start_time": "2022-04-03T14:15:39.796Z"
   },
   {
    "duration": 0,
    "start_time": "2022-04-03T14:15:39.994Z"
   },
   {
    "duration": 0,
    "start_time": "2022-04-03T14:15:39.997Z"
   },
   {
    "duration": 0,
    "start_time": "2022-04-03T14:15:39.999Z"
   },
   {
    "duration": 0,
    "start_time": "2022-04-03T14:15:40.001Z"
   },
   {
    "duration": 0,
    "start_time": "2022-04-03T14:15:40.003Z"
   },
   {
    "duration": 0,
    "start_time": "2022-04-03T14:15:40.005Z"
   },
   {
    "duration": 0,
    "start_time": "2022-04-03T14:15:40.007Z"
   },
   {
    "duration": 0,
    "start_time": "2022-04-03T14:15:40.009Z"
   },
   {
    "duration": 0,
    "start_time": "2022-04-03T14:15:40.010Z"
   },
   {
    "duration": 0,
    "start_time": "2022-04-03T14:15:40.012Z"
   },
   {
    "duration": 0,
    "start_time": "2022-04-03T14:15:40.014Z"
   },
   {
    "duration": 0,
    "start_time": "2022-04-03T14:15:40.015Z"
   },
   {
    "duration": 0,
    "start_time": "2022-04-03T14:15:40.017Z"
   },
   {
    "duration": 0,
    "start_time": "2022-04-03T14:15:40.018Z"
   },
   {
    "duration": 0,
    "start_time": "2022-04-03T14:15:40.020Z"
   },
   {
    "duration": 0,
    "start_time": "2022-04-03T14:15:40.022Z"
   },
   {
    "duration": 0,
    "start_time": "2022-04-03T14:15:40.024Z"
   },
   {
    "duration": 0,
    "start_time": "2022-04-03T14:15:40.026Z"
   },
   {
    "duration": 0,
    "start_time": "2022-04-03T14:15:40.027Z"
   },
   {
    "duration": 0,
    "start_time": "2022-04-03T14:15:40.029Z"
   },
   {
    "duration": 0,
    "start_time": "2022-04-03T14:15:40.030Z"
   },
   {
    "duration": 0,
    "start_time": "2022-04-03T14:15:40.085Z"
   },
   {
    "duration": 0,
    "start_time": "2022-04-03T14:15:40.086Z"
   },
   {
    "duration": 0,
    "start_time": "2022-04-03T14:15:40.088Z"
   },
   {
    "duration": 0,
    "start_time": "2022-04-03T14:15:40.089Z"
   },
   {
    "duration": 0,
    "start_time": "2022-04-03T14:15:40.091Z"
   },
   {
    "duration": 0,
    "start_time": "2022-04-03T14:15:40.092Z"
   },
   {
    "duration": 0,
    "start_time": "2022-04-03T14:15:40.094Z"
   },
   {
    "duration": 0,
    "start_time": "2022-04-03T14:15:40.095Z"
   },
   {
    "duration": 0,
    "start_time": "2022-04-03T14:15:40.096Z"
   },
   {
    "duration": 0,
    "start_time": "2022-04-03T14:15:40.098Z"
   },
   {
    "duration": 0,
    "start_time": "2022-04-03T14:15:40.099Z"
   },
   {
    "duration": 0,
    "start_time": "2022-04-03T14:15:40.101Z"
   },
   {
    "duration": 0,
    "start_time": "2022-04-03T14:15:40.102Z"
   },
   {
    "duration": 4,
    "start_time": "2022-04-03T14:16:34.279Z"
   },
   {
    "duration": 220,
    "start_time": "2022-04-03T14:16:34.285Z"
   },
   {
    "duration": 17,
    "start_time": "2022-04-03T14:16:34.507Z"
   },
   {
    "duration": 61,
    "start_time": "2022-04-03T14:16:34.526Z"
   },
   {
    "duration": 124,
    "start_time": "2022-04-03T14:17:54.886Z"
   },
   {
    "duration": 0,
    "start_time": "2022-04-03T14:17:55.013Z"
   },
   {
    "duration": 0,
    "start_time": "2022-04-03T14:17:55.015Z"
   },
   {
    "duration": 0,
    "start_time": "2022-04-03T14:17:55.016Z"
   },
   {
    "duration": 0,
    "start_time": "2022-04-03T14:17:55.017Z"
   },
   {
    "duration": 0,
    "start_time": "2022-04-03T14:17:55.019Z"
   },
   {
    "duration": 0,
    "start_time": "2022-04-03T14:17:55.021Z"
   },
   {
    "duration": 0,
    "start_time": "2022-04-03T14:17:55.022Z"
   },
   {
    "duration": 1,
    "start_time": "2022-04-03T14:17:55.023Z"
   },
   {
    "duration": 0,
    "start_time": "2022-04-03T14:17:55.025Z"
   },
   {
    "duration": 0,
    "start_time": "2022-04-03T14:17:55.026Z"
   },
   {
    "duration": 0,
    "start_time": "2022-04-03T14:17:55.028Z"
   },
   {
    "duration": 0,
    "start_time": "2022-04-03T14:17:55.029Z"
   },
   {
    "duration": 0,
    "start_time": "2022-04-03T14:17:55.030Z"
   },
   {
    "duration": 0,
    "start_time": "2022-04-03T14:17:55.032Z"
   },
   {
    "duration": 0,
    "start_time": "2022-04-03T14:17:55.033Z"
   },
   {
    "duration": 0,
    "start_time": "2022-04-03T14:17:55.034Z"
   },
   {
    "duration": 0,
    "start_time": "2022-04-03T14:17:55.036Z"
   },
   {
    "duration": 0,
    "start_time": "2022-04-03T14:17:55.037Z"
   },
   {
    "duration": 0,
    "start_time": "2022-04-03T14:17:55.039Z"
   },
   {
    "duration": 2160,
    "start_time": "2022-04-03T14:17:55.050Z"
   },
   {
    "duration": 0,
    "start_time": "2022-04-03T14:17:57.213Z"
   },
   {
    "duration": 0,
    "start_time": "2022-04-03T14:17:57.215Z"
   },
   {
    "duration": 0,
    "start_time": "2022-04-03T14:17:57.217Z"
   },
   {
    "duration": 0,
    "start_time": "2022-04-03T14:17:57.219Z"
   },
   {
    "duration": 0,
    "start_time": "2022-04-03T14:17:57.220Z"
   },
   {
    "duration": 0,
    "start_time": "2022-04-03T14:17:57.222Z"
   },
   {
    "duration": 0,
    "start_time": "2022-04-03T14:17:57.223Z"
   },
   {
    "duration": 0,
    "start_time": "2022-04-03T14:17:57.225Z"
   },
   {
    "duration": 0,
    "start_time": "2022-04-03T14:17:57.226Z"
   },
   {
    "duration": 0,
    "start_time": "2022-04-03T14:17:57.228Z"
   },
   {
    "duration": 0,
    "start_time": "2022-04-03T14:17:57.229Z"
   },
   {
    "duration": 0,
    "start_time": "2022-04-03T14:17:57.231Z"
   },
   {
    "duration": 0,
    "start_time": "2022-04-03T14:17:57.232Z"
   },
   {
    "duration": 0,
    "start_time": "2022-04-03T14:17:57.234Z"
   },
   {
    "duration": 6,
    "start_time": "2022-04-03T14:18:30.813Z"
   },
   {
    "duration": 30,
    "start_time": "2022-04-03T14:18:30.822Z"
   },
   {
    "duration": 25,
    "start_time": "2022-04-03T14:18:30.855Z"
   },
   {
    "duration": 43,
    "start_time": "2022-04-03T14:18:30.882Z"
   },
   {
    "duration": 115,
    "start_time": "2022-04-03T14:18:30.928Z"
   },
   {
    "duration": 44,
    "start_time": "2022-04-03T14:18:31.045Z"
   },
   {
    "duration": 123,
    "start_time": "2022-04-03T14:18:31.092Z"
   },
   {
    "duration": 120,
    "start_time": "2022-04-03T14:18:31.217Z"
   },
   {
    "duration": 103,
    "start_time": "2022-04-03T14:18:31.339Z"
   },
   {
    "duration": 68,
    "start_time": "2022-04-03T14:18:31.444Z"
   },
   {
    "duration": 4,
    "start_time": "2022-04-03T14:18:31.516Z"
   },
   {
    "duration": 47,
    "start_time": "2022-04-03T14:18:31.522Z"
   },
   {
    "duration": 60,
    "start_time": "2022-04-03T14:18:31.572Z"
   },
   {
    "duration": 18,
    "start_time": "2022-04-03T14:18:31.634Z"
   },
   {
    "duration": 65,
    "start_time": "2022-04-03T14:18:31.655Z"
   },
   {
    "duration": 30,
    "start_time": "2022-04-03T14:18:31.722Z"
   },
   {
    "duration": 157,
    "start_time": "2022-04-03T14:18:31.754Z"
   },
   {
    "duration": 69,
    "start_time": "2022-04-03T14:18:31.913Z"
   },
   {
    "duration": 25,
    "start_time": "2022-04-03T14:18:31.984Z"
   },
   {
    "duration": 22,
    "start_time": "2022-04-03T14:18:32.011Z"
   },
   {
    "duration": 60,
    "start_time": "2022-04-03T14:18:32.035Z"
   },
   {
    "duration": 27,
    "start_time": "2022-04-03T14:18:32.097Z"
   },
   {
    "duration": 17,
    "start_time": "2022-04-03T14:18:32.127Z"
   },
   {
    "duration": 66,
    "start_time": "2022-04-03T14:18:32.146Z"
   },
   {
    "duration": 37,
    "start_time": "2022-04-03T14:18:32.214Z"
   },
   {
    "duration": 36,
    "start_time": "2022-04-03T14:18:32.253Z"
   },
   {
    "duration": 36,
    "start_time": "2022-04-03T14:18:32.292Z"
   },
   {
    "duration": 18,
    "start_time": "2022-04-03T14:18:32.330Z"
   },
   {
    "duration": 47,
    "start_time": "2022-04-03T14:18:32.354Z"
   },
   {
    "duration": 17,
    "start_time": "2022-04-03T14:18:32.404Z"
   },
   {
    "duration": 17,
    "start_time": "2022-04-03T14:18:32.424Z"
   },
   {
    "duration": 41,
    "start_time": "2022-04-03T14:18:32.444Z"
   },
   {
    "duration": 11,
    "start_time": "2022-04-03T14:18:32.488Z"
   },
   {
    "duration": 5,
    "start_time": "2022-04-03T14:18:32.502Z"
   },
   {
    "duration": 51,
    "start_time": "2022-04-03T14:26:58.560Z"
   },
   {
    "duration": 4,
    "start_time": "2022-04-03T14:27:16.277Z"
   },
   {
    "duration": 215,
    "start_time": "2022-04-03T14:27:16.283Z"
   },
   {
    "duration": 16,
    "start_time": "2022-04-03T14:27:16.503Z"
   },
   {
    "duration": 63,
    "start_time": "2022-04-03T14:27:16.522Z"
   },
   {
    "duration": 5,
    "start_time": "2022-04-03T14:27:16.588Z"
   },
   {
    "duration": 17,
    "start_time": "2022-04-03T14:27:16.595Z"
   },
   {
    "duration": 5,
    "start_time": "2022-04-03T14:27:16.614Z"
   },
   {
    "duration": 77,
    "start_time": "2022-04-03T14:27:16.621Z"
   },
   {
    "duration": 113,
    "start_time": "2022-04-03T14:27:16.700Z"
   },
   {
    "duration": 36,
    "start_time": "2022-04-03T14:27:16.815Z"
   },
   {
    "duration": 128,
    "start_time": "2022-04-03T14:27:16.856Z"
   },
   {
    "duration": 124,
    "start_time": "2022-04-03T14:27:16.986Z"
   },
   {
    "duration": 103,
    "start_time": "2022-04-03T14:27:17.112Z"
   },
   {
    "duration": 50,
    "start_time": "2022-04-03T14:27:17.217Z"
   },
   {
    "duration": 17,
    "start_time": "2022-04-03T14:27:17.269Z"
   },
   {
    "duration": 55,
    "start_time": "2022-04-03T14:27:17.288Z"
   },
   {
    "duration": 122,
    "start_time": "2022-04-03T14:27:17.346Z"
   },
   {
    "duration": 33,
    "start_time": "2022-04-03T14:27:17.471Z"
   },
   {
    "duration": 40,
    "start_time": "2022-04-03T14:27:17.507Z"
   },
   {
    "duration": 9,
    "start_time": "2022-04-03T14:27:17.550Z"
   },
   {
    "duration": 40,
    "start_time": "2022-04-03T14:27:17.561Z"
   },
   {
    "duration": 30,
    "start_time": "2022-04-03T14:27:17.604Z"
   },
   {
    "duration": 20,
    "start_time": "2022-04-03T14:27:17.637Z"
   },
   {
    "duration": 39,
    "start_time": "2022-04-03T14:27:17.659Z"
   },
   {
    "duration": 25,
    "start_time": "2022-04-03T14:27:17.700Z"
   },
   {
    "duration": 21,
    "start_time": "2022-04-03T14:27:17.727Z"
   },
   {
    "duration": 42,
    "start_time": "2022-04-03T14:27:17.750Z"
   },
   {
    "duration": 41,
    "start_time": "2022-04-03T14:27:17.794Z"
   },
   {
    "duration": 27,
    "start_time": "2022-04-03T14:27:17.839Z"
   },
   {
    "duration": 6,
    "start_time": "2022-04-03T14:27:17.885Z"
   },
   {
    "duration": 43,
    "start_time": "2022-04-03T14:27:17.893Z"
   },
   {
    "duration": 17,
    "start_time": "2022-04-03T14:27:17.938Z"
   },
   {
    "duration": 39,
    "start_time": "2022-04-03T14:27:17.957Z"
   },
   {
    "duration": 15,
    "start_time": "2022-04-03T14:27:17.998Z"
   },
   {
    "duration": 18,
    "start_time": "2022-04-03T14:27:18.015Z"
   },
   {
    "duration": 24,
    "start_time": "2022-04-03T14:27:18.035Z"
   },
   {
    "duration": 26,
    "start_time": "2022-04-03T14:27:18.061Z"
   },
   {
    "duration": 6,
    "start_time": "2022-04-03T14:27:18.092Z"
   },
   {
    "duration": 56,
    "start_time": "2022-04-03T14:27:58.516Z"
   },
   {
    "duration": 55,
    "start_time": "2022-04-03T14:29:25.345Z"
   },
   {
    "duration": 93,
    "start_time": "2022-04-03T14:29:36.820Z"
   },
   {
    "duration": 54,
    "start_time": "2022-04-03T14:30:00.811Z"
   },
   {
    "duration": 53,
    "start_time": "2022-04-03T14:32:12.343Z"
   },
   {
    "duration": 23,
    "start_time": "2022-04-03T14:37:47.481Z"
   },
   {
    "duration": 16,
    "start_time": "2022-04-03T14:39:41.410Z"
   },
   {
    "duration": 12,
    "start_time": "2022-04-03T14:42:16.164Z"
   },
   {
    "duration": 9,
    "start_time": "2022-04-03T14:43:33.588Z"
   },
   {
    "duration": 5,
    "start_time": "2022-04-03T14:43:37.030Z"
   },
   {
    "duration": 182,
    "start_time": "2022-04-03T14:49:54.504Z"
   },
   {
    "duration": 432,
    "start_time": "2022-04-04T11:05:55.456Z"
   },
   {
    "duration": 159,
    "start_time": "2022-04-04T11:05:55.890Z"
   },
   {
    "duration": 17,
    "start_time": "2022-04-04T11:05:56.051Z"
   },
   {
    "duration": 42,
    "start_time": "2022-04-04T11:05:56.070Z"
   },
   {
    "duration": 17,
    "start_time": "2022-04-04T11:05:56.114Z"
   },
   {
    "duration": 33,
    "start_time": "2022-04-04T11:05:56.133Z"
   },
   {
    "duration": 14,
    "start_time": "2022-04-04T11:05:56.168Z"
   },
   {
    "duration": 50,
    "start_time": "2022-04-04T11:05:56.184Z"
   },
   {
    "duration": 61,
    "start_time": "2022-04-04T11:05:56.236Z"
   },
   {
    "duration": 24,
    "start_time": "2022-04-04T11:05:56.300Z"
   },
   {
    "duration": 78,
    "start_time": "2022-04-04T11:05:56.325Z"
   },
   {
    "duration": 79,
    "start_time": "2022-04-04T11:05:56.405Z"
   },
   {
    "duration": 71,
    "start_time": "2022-04-04T11:05:56.486Z"
   },
   {
    "duration": 75,
    "start_time": "2022-04-04T11:05:56.558Z"
   },
   {
    "duration": 4,
    "start_time": "2022-04-04T11:05:56.635Z"
   },
   {
    "duration": 41,
    "start_time": "2022-04-04T11:05:56.641Z"
   },
   {
    "duration": 57,
    "start_time": "2022-04-04T11:05:56.684Z"
   },
   {
    "duration": 13,
    "start_time": "2022-04-04T11:05:56.742Z"
   },
   {
    "duration": 16,
    "start_time": "2022-04-04T11:05:56.757Z"
   },
   {
    "duration": 9,
    "start_time": "2022-04-04T11:05:56.775Z"
   },
   {
    "duration": 33,
    "start_time": "2022-04-04T11:05:56.802Z"
   },
   {
    "duration": 15,
    "start_time": "2022-04-04T11:05:56.837Z"
   },
   {
    "duration": 16,
    "start_time": "2022-04-04T11:05:56.854Z"
   },
   {
    "duration": 17,
    "start_time": "2022-04-04T11:05:56.872Z"
   },
   {
    "duration": 38,
    "start_time": "2022-04-04T11:05:56.890Z"
   },
   {
    "duration": 24,
    "start_time": "2022-04-04T11:05:56.929Z"
   },
   {
    "duration": 17,
    "start_time": "2022-04-04T11:05:56.955Z"
   },
   {
    "duration": 35,
    "start_time": "2022-04-04T11:05:56.975Z"
   },
   {
    "duration": 36,
    "start_time": "2022-04-04T11:05:57.011Z"
   },
   {
    "duration": 16,
    "start_time": "2022-04-04T11:05:57.048Z"
   },
   {
    "duration": 50,
    "start_time": "2022-04-04T11:05:57.065Z"
   },
   {
    "duration": 11,
    "start_time": "2022-04-04T11:05:57.117Z"
   },
   {
    "duration": 33,
    "start_time": "2022-04-04T11:05:57.129Z"
   },
   {
    "duration": 18,
    "start_time": "2022-04-04T11:05:57.164Z"
   },
   {
    "duration": 15,
    "start_time": "2022-04-04T11:05:57.184Z"
   },
   {
    "duration": 35,
    "start_time": "2022-04-04T11:05:57.201Z"
   },
   {
    "duration": 22,
    "start_time": "2022-04-04T11:05:57.238Z"
   },
   {
    "duration": 13,
    "start_time": "2022-04-04T11:05:57.262Z"
   }
  ],
  "colab": {
   "collapsed_sections": [
    "E0vqbgi9ay0H",
    "VUC88oWjTJw2"
   ],
   "name": "yandex_music_project_2021.2.ipynb",
   "provenance": []
  },
  "kernelspec": {
   "display_name": "Python 3 (ipykernel)",
   "language": "python",
   "name": "python3"
  },
  "language_info": {
   "codemirror_mode": {
    "name": "ipython",
    "version": 3
   },
   "file_extension": ".py",
   "mimetype": "text/x-python",
   "name": "python",
   "nbconvert_exporter": "python",
   "pygments_lexer": "ipython3",
   "version": "3.9.5"
  },
  "toc": {
   "base_numbering": 1,
   "nav_menu": {},
   "number_sections": true,
   "sideBar": true,
   "skip_h1_title": true,
   "title_cell": "Table of Contents",
   "title_sidebar": "Contents",
   "toc_cell": false,
   "toc_position": {},
   "toc_section_display": true,
   "toc_window_display": false
  }
 },
 "nbformat": 4,
 "nbformat_minor": 1
}
