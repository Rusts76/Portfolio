{
 "cells": [
  {
   "cell_type": "markdown",
   "metadata": {},
   "source": [
    "Чтобы скорректировать рекламный бюджет, коммерческий департамент хочет понять, какой тариф приносит больше денег.\n",
    "Предстоит сделать предварительный анализ тарифов на небольшой выборке клиентов. Имеются данные 500 пользователей «Мегалайна»: кто они, откуда, каким тарифом пользуются, сколько звонков и сообщений каждый отправил за 2018 год.\n",
    "\n",
    "Нужно проанализировать поведение клиентов и сделать вывод — какой тариф лучше."
   ]
  },
  {
   "cell_type": "markdown",
   "metadata": {},
   "source": [
    "## Изучение данных из файлов"
   ]
  },
  {
   "cell_type": "code",
   "execution_count": 1,
   "metadata": {},
   "outputs": [],
   "source": [
    "# импортируем необходимые бибилиотеки\n",
    "import pandas as pd\n",
    "import numpy as np\n",
    "import math as mt\n",
    "import matplotlib.pyplot as plt\n",
    "\n",
    "#импортируем исходные таблицы\n",
    "calls_data = pd.read_csv('-')\n",
    "messages_data = pd.read_csv('-')\n",
    "internet_data = pd.read_csv('-')\n",
    "tarrifs_data = pd.read_csv('-')\n",
    "users_data = pd.read_csv('-')"
   ]
  },
  {
   "cell_type": "code",
   "execution_count": 2,
   "metadata": {
    "scrolled": false
   },
   "outputs": [
    {
     "data": {
      "text/html": [
       "<div>\n",
       "<style scoped>\n",
       "    .dataframe tbody tr th:only-of-type {\n",
       "        vertical-align: middle;\n",
       "    }\n",
       "\n",
       "    .dataframe tbody tr th {\n",
       "        vertical-align: top;\n",
       "    }\n",
       "\n",
       "    .dataframe thead th {\n",
       "        text-align: right;\n",
       "    }\n",
       "</style>\n",
       "<table border=\"1\" class=\"dataframe\">\n",
       "  <thead>\n",
       "    <tr style=\"text-align: right;\">\n",
       "      <th></th>\n",
       "      <th>id</th>\n",
       "      <th>call_date</th>\n",
       "      <th>duration</th>\n",
       "      <th>user_id</th>\n",
       "    </tr>\n",
       "  </thead>\n",
       "  <tbody>\n",
       "    <tr>\n",
       "      <th>0</th>\n",
       "      <td>1000_0</td>\n",
       "      <td>2018-07-25</td>\n",
       "      <td>0.00</td>\n",
       "      <td>1000</td>\n",
       "    </tr>\n",
       "    <tr>\n",
       "      <th>1</th>\n",
       "      <td>1000_1</td>\n",
       "      <td>2018-08-17</td>\n",
       "      <td>0.00</td>\n",
       "      <td>1000</td>\n",
       "    </tr>\n",
       "    <tr>\n",
       "      <th>2</th>\n",
       "      <td>1000_2</td>\n",
       "      <td>2018-06-11</td>\n",
       "      <td>2.85</td>\n",
       "      <td>1000</td>\n",
       "    </tr>\n",
       "    <tr>\n",
       "      <th>3</th>\n",
       "      <td>1000_3</td>\n",
       "      <td>2018-09-21</td>\n",
       "      <td>13.80</td>\n",
       "      <td>1000</td>\n",
       "    </tr>\n",
       "    <tr>\n",
       "      <th>4</th>\n",
       "      <td>1000_4</td>\n",
       "      <td>2018-12-15</td>\n",
       "      <td>5.18</td>\n",
       "      <td>1000</td>\n",
       "    </tr>\n",
       "  </tbody>\n",
       "</table>\n",
       "</div>"
      ],
      "text/plain": [
       "       id   call_date  duration  user_id\n",
       "0  1000_0  2018-07-25      0.00     1000\n",
       "1  1000_1  2018-08-17      0.00     1000\n",
       "2  1000_2  2018-06-11      2.85     1000\n",
       "3  1000_3  2018-09-21     13.80     1000\n",
       "4  1000_4  2018-12-15      5.18     1000"
      ]
     },
     "metadata": {},
     "output_type": "display_data"
    },
    {
     "name": "stdout",
     "output_type": "stream",
     "text": [
      "<class 'pandas.core.frame.DataFrame'>\n",
      "RangeIndex: 202607 entries, 0 to 202606\n",
      "Data columns (total 4 columns):\n",
      " #   Column     Non-Null Count   Dtype  \n",
      "---  ------     --------------   -----  \n",
      " 0   id         202607 non-null  object \n",
      " 1   call_date  202607 non-null  object \n",
      " 2   duration   202607 non-null  float64\n",
      " 3   user_id    202607 non-null  int64  \n",
      "dtypes: float64(1), int64(1), object(2)\n",
      "memory usage: 6.2+ MB\n"
     ]
    },
    {
     "data": {
      "text/html": [
       "<div>\n",
       "<style scoped>\n",
       "    .dataframe tbody tr th:only-of-type {\n",
       "        vertical-align: middle;\n",
       "    }\n",
       "\n",
       "    .dataframe tbody tr th {\n",
       "        vertical-align: top;\n",
       "    }\n",
       "\n",
       "    .dataframe thead th {\n",
       "        text-align: right;\n",
       "    }\n",
       "</style>\n",
       "<table border=\"1\" class=\"dataframe\">\n",
       "  <thead>\n",
       "    <tr style=\"text-align: right;\">\n",
       "      <th></th>\n",
       "      <th>id</th>\n",
       "      <th>call_date</th>\n",
       "      <th>duration</th>\n",
       "      <th>user_id</th>\n",
       "      <th>month</th>\n",
       "    </tr>\n",
       "  </thead>\n",
       "  <tbody>\n",
       "    <tr>\n",
       "      <th>0</th>\n",
       "      <td>1000_0</td>\n",
       "      <td>2018-07-25</td>\n",
       "      <td>0.00</td>\n",
       "      <td>1000</td>\n",
       "      <td>7</td>\n",
       "    </tr>\n",
       "    <tr>\n",
       "      <th>1</th>\n",
       "      <td>1000_1</td>\n",
       "      <td>2018-08-17</td>\n",
       "      <td>0.00</td>\n",
       "      <td>1000</td>\n",
       "      <td>8</td>\n",
       "    </tr>\n",
       "    <tr>\n",
       "      <th>2</th>\n",
       "      <td>1000_2</td>\n",
       "      <td>2018-06-11</td>\n",
       "      <td>2.85</td>\n",
       "      <td>1000</td>\n",
       "      <td>6</td>\n",
       "    </tr>\n",
       "    <tr>\n",
       "      <th>3</th>\n",
       "      <td>1000_3</td>\n",
       "      <td>2018-09-21</td>\n",
       "      <td>13.80</td>\n",
       "      <td>1000</td>\n",
       "      <td>9</td>\n",
       "    </tr>\n",
       "    <tr>\n",
       "      <th>4</th>\n",
       "      <td>1000_4</td>\n",
       "      <td>2018-12-15</td>\n",
       "      <td>5.18</td>\n",
       "      <td>1000</td>\n",
       "      <td>12</td>\n",
       "    </tr>\n",
       "  </tbody>\n",
       "</table>\n",
       "</div>"
      ],
      "text/plain": [
       "       id  call_date  duration  user_id  month\n",
       "0  1000_0 2018-07-25      0.00     1000      7\n",
       "1  1000_1 2018-08-17      0.00     1000      8\n",
       "2  1000_2 2018-06-11      2.85     1000      6\n",
       "3  1000_3 2018-09-21     13.80     1000      9\n",
       "4  1000_4 2018-12-15      5.18     1000     12"
      ]
     },
     "metadata": {},
     "output_type": "display_data"
    },
    {
     "name": "stdout",
     "output_type": "stream",
     "text": [
      "Количество дубликатов 0\n"
     ]
    }
   ],
   "source": [
    "# знакомимся с данными таблицы calls.csv\n",
    "display(calls_data.head())\n",
    "calls_data.info()\n",
    "#методом to_datetime() переводит строки в даты в столбце calls_data['call_date']\n",
    "calls_data['call_date'] = pd.to_datetime(calls_data['call_date'], format='%Y-%m-%d %H:%M')\n",
    "#добавляем столбец месяца\n",
    "calls_data['month'] = calls_data['call_date'].dt.month\n",
    "display(calls_data.head())\n",
    "print('Количество дубликатов', calls_data.duplicated().sum())"
   ]
  },
  {
   "cell_type": "code",
   "execution_count": 3,
   "metadata": {
    "scrolled": false
   },
   "outputs": [
    {
     "data": {
      "text/html": [
       "<div>\n",
       "<style scoped>\n",
       "    .dataframe tbody tr th:only-of-type {\n",
       "        vertical-align: middle;\n",
       "    }\n",
       "\n",
       "    .dataframe tbody tr th {\n",
       "        vertical-align: top;\n",
       "    }\n",
       "\n",
       "    .dataframe thead th {\n",
       "        text-align: right;\n",
       "    }\n",
       "</style>\n",
       "<table border=\"1\" class=\"dataframe\">\n",
       "  <thead>\n",
       "    <tr style=\"text-align: right;\">\n",
       "      <th></th>\n",
       "      <th>id</th>\n",
       "      <th>message_date</th>\n",
       "      <th>user_id</th>\n",
       "    </tr>\n",
       "  </thead>\n",
       "  <tbody>\n",
       "    <tr>\n",
       "      <th>0</th>\n",
       "      <td>1000_0</td>\n",
       "      <td>2018-06-27</td>\n",
       "      <td>1000</td>\n",
       "    </tr>\n",
       "    <tr>\n",
       "      <th>1</th>\n",
       "      <td>1000_1</td>\n",
       "      <td>2018-10-08</td>\n",
       "      <td>1000</td>\n",
       "    </tr>\n",
       "    <tr>\n",
       "      <th>2</th>\n",
       "      <td>1000_2</td>\n",
       "      <td>2018-08-04</td>\n",
       "      <td>1000</td>\n",
       "    </tr>\n",
       "    <tr>\n",
       "      <th>3</th>\n",
       "      <td>1000_3</td>\n",
       "      <td>2018-06-16</td>\n",
       "      <td>1000</td>\n",
       "    </tr>\n",
       "    <tr>\n",
       "      <th>4</th>\n",
       "      <td>1000_4</td>\n",
       "      <td>2018-12-05</td>\n",
       "      <td>1000</td>\n",
       "    </tr>\n",
       "  </tbody>\n",
       "</table>\n",
       "</div>"
      ],
      "text/plain": [
       "       id message_date  user_id\n",
       "0  1000_0   2018-06-27     1000\n",
       "1  1000_1   2018-10-08     1000\n",
       "2  1000_2   2018-08-04     1000\n",
       "3  1000_3   2018-06-16     1000\n",
       "4  1000_4   2018-12-05     1000"
      ]
     },
     "metadata": {},
     "output_type": "display_data"
    },
    {
     "name": "stdout",
     "output_type": "stream",
     "text": [
      "<class 'pandas.core.frame.DataFrame'>\n",
      "RangeIndex: 123036 entries, 0 to 123035\n",
      "Data columns (total 3 columns):\n",
      " #   Column        Non-Null Count   Dtype \n",
      "---  ------        --------------   ----- \n",
      " 0   id            123036 non-null  object\n",
      " 1   message_date  123036 non-null  object\n",
      " 2   user_id       123036 non-null  int64 \n",
      "dtypes: int64(1), object(2)\n",
      "memory usage: 2.8+ MB\n"
     ]
    },
    {
     "data": {
      "text/html": [
       "<div>\n",
       "<style scoped>\n",
       "    .dataframe tbody tr th:only-of-type {\n",
       "        vertical-align: middle;\n",
       "    }\n",
       "\n",
       "    .dataframe tbody tr th {\n",
       "        vertical-align: top;\n",
       "    }\n",
       "\n",
       "    .dataframe thead th {\n",
       "        text-align: right;\n",
       "    }\n",
       "</style>\n",
       "<table border=\"1\" class=\"dataframe\">\n",
       "  <thead>\n",
       "    <tr style=\"text-align: right;\">\n",
       "      <th></th>\n",
       "      <th>id</th>\n",
       "      <th>message_date</th>\n",
       "      <th>user_id</th>\n",
       "      <th>month</th>\n",
       "    </tr>\n",
       "  </thead>\n",
       "  <tbody>\n",
       "    <tr>\n",
       "      <th>0</th>\n",
       "      <td>1000_0</td>\n",
       "      <td>2018-06-27</td>\n",
       "      <td>1000</td>\n",
       "      <td>6</td>\n",
       "    </tr>\n",
       "    <tr>\n",
       "      <th>1</th>\n",
       "      <td>1000_1</td>\n",
       "      <td>2018-10-08</td>\n",
       "      <td>1000</td>\n",
       "      <td>10</td>\n",
       "    </tr>\n",
       "    <tr>\n",
       "      <th>2</th>\n",
       "      <td>1000_2</td>\n",
       "      <td>2018-08-04</td>\n",
       "      <td>1000</td>\n",
       "      <td>8</td>\n",
       "    </tr>\n",
       "    <tr>\n",
       "      <th>3</th>\n",
       "      <td>1000_3</td>\n",
       "      <td>2018-06-16</td>\n",
       "      <td>1000</td>\n",
       "      <td>6</td>\n",
       "    </tr>\n",
       "    <tr>\n",
       "      <th>4</th>\n",
       "      <td>1000_4</td>\n",
       "      <td>2018-12-05</td>\n",
       "      <td>1000</td>\n",
       "      <td>12</td>\n",
       "    </tr>\n",
       "  </tbody>\n",
       "</table>\n",
       "</div>"
      ],
      "text/plain": [
       "       id message_date  user_id  month\n",
       "0  1000_0   2018-06-27     1000      6\n",
       "1  1000_1   2018-10-08     1000     10\n",
       "2  1000_2   2018-08-04     1000      8\n",
       "3  1000_3   2018-06-16     1000      6\n",
       "4  1000_4   2018-12-05     1000     12"
      ]
     },
     "metadata": {},
     "output_type": "display_data"
    },
    {
     "name": "stdout",
     "output_type": "stream",
     "text": [
      "Количество дубликатов 0\n"
     ]
    }
   ],
   "source": [
    "# знакомимся с данными таблицы messages.csv\n",
    "display(messages_data.head())\n",
    "messages_data.info()\n",
    "#методом to_datetime() переводит строки в даты в столбце messages_data['message_date']\n",
    "messages_data['message_date'] = pd.to_datetime(messages_data['message_date'], format='%Y-%m-%d %H:%M')\n",
    "#добавляем столбец месяца\n",
    "messages_data['month'] = messages_data['message_date'].dt.month\n",
    "display(messages_data.head())\n",
    "print('Количество дубликатов', messages_data.duplicated().sum())"
   ]
  },
  {
   "cell_type": "code",
   "execution_count": 4,
   "metadata": {
    "scrolled": false
   },
   "outputs": [
    {
     "data": {
      "text/html": [
       "<div>\n",
       "<style scoped>\n",
       "    .dataframe tbody tr th:only-of-type {\n",
       "        vertical-align: middle;\n",
       "    }\n",
       "\n",
       "    .dataframe tbody tr th {\n",
       "        vertical-align: top;\n",
       "    }\n",
       "\n",
       "    .dataframe thead th {\n",
       "        text-align: right;\n",
       "    }\n",
       "</style>\n",
       "<table border=\"1\" class=\"dataframe\">\n",
       "  <thead>\n",
       "    <tr style=\"text-align: right;\">\n",
       "      <th></th>\n",
       "      <th>Unnamed: 0</th>\n",
       "      <th>id</th>\n",
       "      <th>mb_used</th>\n",
       "      <th>session_date</th>\n",
       "      <th>user_id</th>\n",
       "    </tr>\n",
       "  </thead>\n",
       "  <tbody>\n",
       "    <tr>\n",
       "      <th>0</th>\n",
       "      <td>0</td>\n",
       "      <td>1000_0</td>\n",
       "      <td>112.95</td>\n",
       "      <td>2018-11-25</td>\n",
       "      <td>1000</td>\n",
       "    </tr>\n",
       "    <tr>\n",
       "      <th>1</th>\n",
       "      <td>1</td>\n",
       "      <td>1000_1</td>\n",
       "      <td>1052.81</td>\n",
       "      <td>2018-09-07</td>\n",
       "      <td>1000</td>\n",
       "    </tr>\n",
       "    <tr>\n",
       "      <th>2</th>\n",
       "      <td>2</td>\n",
       "      <td>1000_2</td>\n",
       "      <td>1197.26</td>\n",
       "      <td>2018-06-25</td>\n",
       "      <td>1000</td>\n",
       "    </tr>\n",
       "    <tr>\n",
       "      <th>3</th>\n",
       "      <td>3</td>\n",
       "      <td>1000_3</td>\n",
       "      <td>550.27</td>\n",
       "      <td>2018-08-22</td>\n",
       "      <td>1000</td>\n",
       "    </tr>\n",
       "    <tr>\n",
       "      <th>4</th>\n",
       "      <td>4</td>\n",
       "      <td>1000_4</td>\n",
       "      <td>302.56</td>\n",
       "      <td>2018-09-24</td>\n",
       "      <td>1000</td>\n",
       "    </tr>\n",
       "  </tbody>\n",
       "</table>\n",
       "</div>"
      ],
      "text/plain": [
       "   Unnamed: 0      id  mb_used session_date  user_id\n",
       "0           0  1000_0   112.95   2018-11-25     1000\n",
       "1           1  1000_1  1052.81   2018-09-07     1000\n",
       "2           2  1000_2  1197.26   2018-06-25     1000\n",
       "3           3  1000_3   550.27   2018-08-22     1000\n",
       "4           4  1000_4   302.56   2018-09-24     1000"
      ]
     },
     "metadata": {},
     "output_type": "display_data"
    },
    {
     "name": "stdout",
     "output_type": "stream",
     "text": [
      "<class 'pandas.core.frame.DataFrame'>\n",
      "RangeIndex: 149396 entries, 0 to 149395\n",
      "Data columns (total 5 columns):\n",
      " #   Column        Non-Null Count   Dtype  \n",
      "---  ------        --------------   -----  \n",
      " 0   Unnamed: 0    149396 non-null  int64  \n",
      " 1   id            149396 non-null  object \n",
      " 2   mb_used       149396 non-null  float64\n",
      " 3   session_date  149396 non-null  object \n",
      " 4   user_id       149396 non-null  int64  \n",
      "dtypes: float64(1), int64(2), object(2)\n",
      "memory usage: 5.7+ MB\n"
     ]
    },
    {
     "data": {
      "text/html": [
       "<div>\n",
       "<style scoped>\n",
       "    .dataframe tbody tr th:only-of-type {\n",
       "        vertical-align: middle;\n",
       "    }\n",
       "\n",
       "    .dataframe tbody tr th {\n",
       "        vertical-align: top;\n",
       "    }\n",
       "\n",
       "    .dataframe thead th {\n",
       "        text-align: right;\n",
       "    }\n",
       "</style>\n",
       "<table border=\"1\" class=\"dataframe\">\n",
       "  <thead>\n",
       "    <tr style=\"text-align: right;\">\n",
       "      <th></th>\n",
       "      <th>Unnamed: 0</th>\n",
       "      <th>id</th>\n",
       "      <th>mb_used</th>\n",
       "      <th>session_date</th>\n",
       "      <th>user_id</th>\n",
       "      <th>month</th>\n",
       "    </tr>\n",
       "  </thead>\n",
       "  <tbody>\n",
       "    <tr>\n",
       "      <th>0</th>\n",
       "      <td>0</td>\n",
       "      <td>1000_0</td>\n",
       "      <td>112.95</td>\n",
       "      <td>2018-11-25</td>\n",
       "      <td>1000</td>\n",
       "      <td>11</td>\n",
       "    </tr>\n",
       "    <tr>\n",
       "      <th>1</th>\n",
       "      <td>1</td>\n",
       "      <td>1000_1</td>\n",
       "      <td>1052.81</td>\n",
       "      <td>2018-09-07</td>\n",
       "      <td>1000</td>\n",
       "      <td>9</td>\n",
       "    </tr>\n",
       "    <tr>\n",
       "      <th>2</th>\n",
       "      <td>2</td>\n",
       "      <td>1000_2</td>\n",
       "      <td>1197.26</td>\n",
       "      <td>2018-06-25</td>\n",
       "      <td>1000</td>\n",
       "      <td>6</td>\n",
       "    </tr>\n",
       "    <tr>\n",
       "      <th>3</th>\n",
       "      <td>3</td>\n",
       "      <td>1000_3</td>\n",
       "      <td>550.27</td>\n",
       "      <td>2018-08-22</td>\n",
       "      <td>1000</td>\n",
       "      <td>8</td>\n",
       "    </tr>\n",
       "    <tr>\n",
       "      <th>4</th>\n",
       "      <td>4</td>\n",
       "      <td>1000_4</td>\n",
       "      <td>302.56</td>\n",
       "      <td>2018-09-24</td>\n",
       "      <td>1000</td>\n",
       "      <td>9</td>\n",
       "    </tr>\n",
       "  </tbody>\n",
       "</table>\n",
       "</div>"
      ],
      "text/plain": [
       "   Unnamed: 0      id  mb_used session_date  user_id  month\n",
       "0           0  1000_0   112.95   2018-11-25     1000     11\n",
       "1           1  1000_1  1052.81   2018-09-07     1000      9\n",
       "2           2  1000_2  1197.26   2018-06-25     1000      6\n",
       "3           3  1000_3   550.27   2018-08-22     1000      8\n",
       "4           4  1000_4   302.56   2018-09-24     1000      9"
      ]
     },
     "metadata": {},
     "output_type": "display_data"
    },
    {
     "name": "stdout",
     "output_type": "stream",
     "text": [
      "Количество дубликатов 0\n"
     ]
    }
   ],
   "source": [
    "# знакомимся с данными таблицы internet.csv\n",
    "display(internet_data.head())\n",
    "internet_data.info()\n",
    "#методом to_datetime() переводит строки в даты в столбце internet_data['session_date']\n",
    "internet_data['session_date'] = pd.to_datetime(internet_data['session_date'], format='%Y-%m-%d %H:%M')\n",
    "#добавляем столбец месяца\n",
    "internet_data['month'] = internet_data['session_date'].dt.month\n",
    "display(internet_data.head())\n",
    "print('Количество дубликатов', internet_data.duplicated().sum())"
   ]
  },
  {
   "cell_type": "code",
   "execution_count": 5,
   "metadata": {},
   "outputs": [
    {
     "data": {
      "text/html": [
       "<div>\n",
       "<style scoped>\n",
       "    .dataframe tbody tr th:only-of-type {\n",
       "        vertical-align: middle;\n",
       "    }\n",
       "\n",
       "    .dataframe tbody tr th {\n",
       "        vertical-align: top;\n",
       "    }\n",
       "\n",
       "    .dataframe thead th {\n",
       "        text-align: right;\n",
       "    }\n",
       "</style>\n",
       "<table border=\"1\" class=\"dataframe\">\n",
       "  <thead>\n",
       "    <tr style=\"text-align: right;\">\n",
       "      <th></th>\n",
       "      <th>messages_included</th>\n",
       "      <th>mb_per_month_included</th>\n",
       "      <th>minutes_included</th>\n",
       "      <th>rub_monthly_fee</th>\n",
       "      <th>rub_per_gb</th>\n",
       "      <th>rub_per_message</th>\n",
       "      <th>rub_per_minute</th>\n",
       "      <th>tariff_name</th>\n",
       "    </tr>\n",
       "  </thead>\n",
       "  <tbody>\n",
       "    <tr>\n",
       "      <th>0</th>\n",
       "      <td>50</td>\n",
       "      <td>15360</td>\n",
       "      <td>500</td>\n",
       "      <td>550</td>\n",
       "      <td>200</td>\n",
       "      <td>3</td>\n",
       "      <td>3</td>\n",
       "      <td>smart</td>\n",
       "    </tr>\n",
       "    <tr>\n",
       "      <th>1</th>\n",
       "      <td>1000</td>\n",
       "      <td>30720</td>\n",
       "      <td>3000</td>\n",
       "      <td>1950</td>\n",
       "      <td>150</td>\n",
       "      <td>1</td>\n",
       "      <td>1</td>\n",
       "      <td>ultra</td>\n",
       "    </tr>\n",
       "  </tbody>\n",
       "</table>\n",
       "</div>"
      ],
      "text/plain": [
       "   messages_included  mb_per_month_included  minutes_included  \\\n",
       "0                 50                  15360               500   \n",
       "1               1000                  30720              3000   \n",
       "\n",
       "   rub_monthly_fee  rub_per_gb  rub_per_message  rub_per_minute tariff_name  \n",
       "0              550         200                3               3       smart  \n",
       "1             1950         150                1               1       ultra  "
      ]
     },
     "metadata": {},
     "output_type": "display_data"
    }
   ],
   "source": [
    "# знакомимся с данными таблицы tariffs.csv\n",
    "display(tarrifs_data.head())"
   ]
  },
  {
   "cell_type": "code",
   "execution_count": 6,
   "metadata": {
    "scrolled": false
   },
   "outputs": [
    {
     "data": {
      "text/html": [
       "<div>\n",
       "<style scoped>\n",
       "    .dataframe tbody tr th:only-of-type {\n",
       "        vertical-align: middle;\n",
       "    }\n",
       "\n",
       "    .dataframe tbody tr th {\n",
       "        vertical-align: top;\n",
       "    }\n",
       "\n",
       "    .dataframe thead th {\n",
       "        text-align: right;\n",
       "    }\n",
       "</style>\n",
       "<table border=\"1\" class=\"dataframe\">\n",
       "  <thead>\n",
       "    <tr style=\"text-align: right;\">\n",
       "      <th></th>\n",
       "      <th>user_id</th>\n",
       "      <th>age</th>\n",
       "      <th>churn_date</th>\n",
       "      <th>city</th>\n",
       "      <th>first_name</th>\n",
       "      <th>last_name</th>\n",
       "      <th>reg_date</th>\n",
       "      <th>tariff</th>\n",
       "    </tr>\n",
       "  </thead>\n",
       "  <tbody>\n",
       "    <tr>\n",
       "      <th>0</th>\n",
       "      <td>1000</td>\n",
       "      <td>52</td>\n",
       "      <td>NaN</td>\n",
       "      <td>Краснодар</td>\n",
       "      <td>Рафаил</td>\n",
       "      <td>Верещагин</td>\n",
       "      <td>2018-05-25</td>\n",
       "      <td>ultra</td>\n",
       "    </tr>\n",
       "    <tr>\n",
       "      <th>1</th>\n",
       "      <td>1001</td>\n",
       "      <td>41</td>\n",
       "      <td>NaN</td>\n",
       "      <td>Москва</td>\n",
       "      <td>Иван</td>\n",
       "      <td>Ежов</td>\n",
       "      <td>2018-11-01</td>\n",
       "      <td>smart</td>\n",
       "    </tr>\n",
       "    <tr>\n",
       "      <th>2</th>\n",
       "      <td>1002</td>\n",
       "      <td>59</td>\n",
       "      <td>NaN</td>\n",
       "      <td>Стерлитамак</td>\n",
       "      <td>Евгений</td>\n",
       "      <td>Абрамович</td>\n",
       "      <td>2018-06-17</td>\n",
       "      <td>smart</td>\n",
       "    </tr>\n",
       "    <tr>\n",
       "      <th>3</th>\n",
       "      <td>1003</td>\n",
       "      <td>23</td>\n",
       "      <td>NaN</td>\n",
       "      <td>Москва</td>\n",
       "      <td>Белла</td>\n",
       "      <td>Белякова</td>\n",
       "      <td>2018-08-17</td>\n",
       "      <td>ultra</td>\n",
       "    </tr>\n",
       "    <tr>\n",
       "      <th>4</th>\n",
       "      <td>1004</td>\n",
       "      <td>68</td>\n",
       "      <td>NaN</td>\n",
       "      <td>Новокузнецк</td>\n",
       "      <td>Татьяна</td>\n",
       "      <td>Авдеенко</td>\n",
       "      <td>2018-05-14</td>\n",
       "      <td>ultra</td>\n",
       "    </tr>\n",
       "  </tbody>\n",
       "</table>\n",
       "</div>"
      ],
      "text/plain": [
       "   user_id  age churn_date         city first_name  last_name    reg_date  \\\n",
       "0     1000   52        NaN    Краснодар     Рафаил  Верещагин  2018-05-25   \n",
       "1     1001   41        NaN       Москва       Иван       Ежов  2018-11-01   \n",
       "2     1002   59        NaN  Стерлитамак    Евгений  Абрамович  2018-06-17   \n",
       "3     1003   23        NaN       Москва      Белла   Белякова  2018-08-17   \n",
       "4     1004   68        NaN  Новокузнецк    Татьяна   Авдеенко  2018-05-14   \n",
       "\n",
       "  tariff  \n",
       "0  ultra  \n",
       "1  smart  \n",
       "2  smart  \n",
       "3  ultra  \n",
       "4  ultra  "
      ]
     },
     "metadata": {},
     "output_type": "display_data"
    },
    {
     "name": "stdout",
     "output_type": "stream",
     "text": [
      "<class 'pandas.core.frame.DataFrame'>\n",
      "RangeIndex: 500 entries, 0 to 499\n",
      "Data columns (total 8 columns):\n",
      " #   Column      Non-Null Count  Dtype \n",
      "---  ------      --------------  ----- \n",
      " 0   user_id     500 non-null    int64 \n",
      " 1   age         500 non-null    int64 \n",
      " 2   churn_date  38 non-null     object\n",
      " 3   city        500 non-null    object\n",
      " 4   first_name  500 non-null    object\n",
      " 5   last_name   500 non-null    object\n",
      " 6   reg_date    500 non-null    object\n",
      " 7   tariff      500 non-null    object\n",
      "dtypes: int64(2), object(6)\n",
      "memory usage: 31.4+ KB\n"
     ]
    },
    {
     "data": {
      "text/html": [
       "<div>\n",
       "<style scoped>\n",
       "    .dataframe tbody tr th:only-of-type {\n",
       "        vertical-align: middle;\n",
       "    }\n",
       "\n",
       "    .dataframe tbody tr th {\n",
       "        vertical-align: top;\n",
       "    }\n",
       "\n",
       "    .dataframe thead th {\n",
       "        text-align: right;\n",
       "    }\n",
       "</style>\n",
       "<table border=\"1\" class=\"dataframe\">\n",
       "  <thead>\n",
       "    <tr style=\"text-align: right;\">\n",
       "      <th></th>\n",
       "      <th>user_id</th>\n",
       "      <th>age</th>\n",
       "      <th>churn_date</th>\n",
       "      <th>city</th>\n",
       "      <th>first_name</th>\n",
       "      <th>last_name</th>\n",
       "      <th>reg_date</th>\n",
       "      <th>tariff</th>\n",
       "      <th>month</th>\n",
       "      <th>month_churn</th>\n",
       "    </tr>\n",
       "  </thead>\n",
       "  <tbody>\n",
       "    <tr>\n",
       "      <th>0</th>\n",
       "      <td>1000</td>\n",
       "      <td>52</td>\n",
       "      <td>NaT</td>\n",
       "      <td>Краснодар</td>\n",
       "      <td>Рафаил</td>\n",
       "      <td>Верещагин</td>\n",
       "      <td>2018-05-25</td>\n",
       "      <td>ultra</td>\n",
       "      <td>5</td>\n",
       "      <td>NaN</td>\n",
       "    </tr>\n",
       "    <tr>\n",
       "      <th>1</th>\n",
       "      <td>1001</td>\n",
       "      <td>41</td>\n",
       "      <td>NaT</td>\n",
       "      <td>Москва</td>\n",
       "      <td>Иван</td>\n",
       "      <td>Ежов</td>\n",
       "      <td>2018-11-01</td>\n",
       "      <td>smart</td>\n",
       "      <td>11</td>\n",
       "      <td>NaN</td>\n",
       "    </tr>\n",
       "    <tr>\n",
       "      <th>2</th>\n",
       "      <td>1002</td>\n",
       "      <td>59</td>\n",
       "      <td>NaT</td>\n",
       "      <td>Стерлитамак</td>\n",
       "      <td>Евгений</td>\n",
       "      <td>Абрамович</td>\n",
       "      <td>2018-06-17</td>\n",
       "      <td>smart</td>\n",
       "      <td>6</td>\n",
       "      <td>NaN</td>\n",
       "    </tr>\n",
       "    <tr>\n",
       "      <th>3</th>\n",
       "      <td>1003</td>\n",
       "      <td>23</td>\n",
       "      <td>NaT</td>\n",
       "      <td>Москва</td>\n",
       "      <td>Белла</td>\n",
       "      <td>Белякова</td>\n",
       "      <td>2018-08-17</td>\n",
       "      <td>ultra</td>\n",
       "      <td>8</td>\n",
       "      <td>NaN</td>\n",
       "    </tr>\n",
       "    <tr>\n",
       "      <th>4</th>\n",
       "      <td>1004</td>\n",
       "      <td>68</td>\n",
       "      <td>NaT</td>\n",
       "      <td>Новокузнецк</td>\n",
       "      <td>Татьяна</td>\n",
       "      <td>Авдеенко</td>\n",
       "      <td>2018-05-14</td>\n",
       "      <td>ultra</td>\n",
       "      <td>5</td>\n",
       "      <td>NaN</td>\n",
       "    </tr>\n",
       "  </tbody>\n",
       "</table>\n",
       "</div>"
      ],
      "text/plain": [
       "   user_id  age churn_date         city first_name  last_name   reg_date  \\\n",
       "0     1000   52        NaT    Краснодар     Рафаил  Верещагин 2018-05-25   \n",
       "1     1001   41        NaT       Москва       Иван       Ежов 2018-11-01   \n",
       "2     1002   59        NaT  Стерлитамак    Евгений  Абрамович 2018-06-17   \n",
       "3     1003   23        NaT       Москва      Белла   Белякова 2018-08-17   \n",
       "4     1004   68        NaT  Новокузнецк    Татьяна   Авдеенко 2018-05-14   \n",
       "\n",
       "  tariff  month  month_churn  \n",
       "0  ultra      5          NaN  \n",
       "1  smart     11          NaN  \n",
       "2  smart      6          NaN  \n",
       "3  ultra      8          NaN  \n",
       "4  ultra      5          NaN  "
      ]
     },
     "metadata": {},
     "output_type": "display_data"
    },
    {
     "name": "stdout",
     "output_type": "stream",
     "text": [
      "smart    351\n",
      "ultra    149\n",
      "Name: tariff, dtype: int64\n",
      "Количество дубликатов 0\n"
     ]
    }
   ],
   "source": [
    "# знакомимся с данными таблицы users.csv\n",
    "display(users_data.head())\n",
    "users_data.info()\n",
    "#методом to_datetime() переводит строки в даты в столбце users_data['reg_date'] и ['churn_date']\n",
    "users_data['reg_date'] = pd.to_datetime(users_data['reg_date'], format='%Y-%m-%d %H:%M')\n",
    "users_data['churn_date'] = pd.to_datetime(users_data['churn_date'], format='%Y-%m-%d %H:%M')\n",
    "#добавляем столбец месяца регистрации\n",
    "users_data['month'] = users_data['reg_date'].dt.month\n",
    "#добавляем столбец месяца завершения регистрации\n",
    "users_data['month_churn'] = users_data['churn_date'].dt.month\n",
    "display(users_data.head())\n",
    "print(users_data['tariff'].value_counts())\n",
    "print('Количество дубликатов', users_data.duplicated().sum())"
   ]
  },
  {
   "cell_type": "markdown",
   "metadata": {},
   "source": [
    "### Вывод\n",
    "Таблицы содержат необходимую информацию о звонках, сообщениях, интернет-сессиях 500 клиентов по двум тарифам. 351 клиент использует тариф smart, 149 клиентов использует тариф ultra. В исходных таблицах имеется информация для идентификации клиентов. Также имеется информация об условиях тарифов и отдельная таблица о клиентах с указанием тарифа, возраста и города регистрации, даты начала использования тарифа и дата окончания использования тарифа. Информация не содержит пропусков и явных дубликатов.\n",
    "\n",
    "Информация достаточна для дальнейшего анализа. Выполнено форматирование информации о датах в таблицах calls_data, messages_data, internet_data и users_data. Для дальнейшего анализа добавлен столбец месяца для каждой записи в указанных таблицах."
   ]
  },
  {
   "cell_type": "markdown",
   "metadata": {},
   "source": [
    "## Анализ данных"
   ]
  },
  {
   "cell_type": "code",
   "execution_count": 7,
   "metadata": {},
   "outputs": [
    {
     "data": {
      "text/html": [
       "<div>\n",
       "<style scoped>\n",
       "    .dataframe tbody tr th:only-of-type {\n",
       "        vertical-align: middle;\n",
       "    }\n",
       "\n",
       "    .dataframe tbody tr th {\n",
       "        vertical-align: top;\n",
       "    }\n",
       "\n",
       "    .dataframe thead th {\n",
       "        text-align: right;\n",
       "    }\n",
       "</style>\n",
       "<table border=\"1\" class=\"dataframe\">\n",
       "  <thead>\n",
       "    <tr style=\"text-align: right;\">\n",
       "      <th></th>\n",
       "      <th>user_id</th>\n",
       "      <th>1</th>\n",
       "      <th>2</th>\n",
       "      <th>3</th>\n",
       "      <th>4</th>\n",
       "      <th>5</th>\n",
       "      <th>6</th>\n",
       "      <th>7</th>\n",
       "      <th>8</th>\n",
       "      <th>9</th>\n",
       "      <th>10</th>\n",
       "      <th>11</th>\n",
       "      <th>12</th>\n",
       "    </tr>\n",
       "  </thead>\n",
       "  <tbody>\n",
       "    <tr>\n",
       "      <th>0</th>\n",
       "      <td>1000</td>\n",
       "      <td>NaN</td>\n",
       "      <td>NaN</td>\n",
       "      <td>NaN</td>\n",
       "      <td>NaN</td>\n",
       "      <td>22.0</td>\n",
       "      <td>43.0</td>\n",
       "      <td>47.0</td>\n",
       "      <td>52.0</td>\n",
       "      <td>58.0</td>\n",
       "      <td>57.0</td>\n",
       "      <td>43.0</td>\n",
       "      <td>46.0</td>\n",
       "    </tr>\n",
       "    <tr>\n",
       "      <th>1</th>\n",
       "      <td>1001</td>\n",
       "      <td>NaN</td>\n",
       "      <td>NaN</td>\n",
       "      <td>NaN</td>\n",
       "      <td>NaN</td>\n",
       "      <td>NaN</td>\n",
       "      <td>NaN</td>\n",
       "      <td>NaN</td>\n",
       "      <td>NaN</td>\n",
       "      <td>NaN</td>\n",
       "      <td>NaN</td>\n",
       "      <td>59.0</td>\n",
       "      <td>63.0</td>\n",
       "    </tr>\n",
       "    <tr>\n",
       "      <th>2</th>\n",
       "      <td>1002</td>\n",
       "      <td>NaN</td>\n",
       "      <td>NaN</td>\n",
       "      <td>NaN</td>\n",
       "      <td>NaN</td>\n",
       "      <td>NaN</td>\n",
       "      <td>15.0</td>\n",
       "      <td>26.0</td>\n",
       "      <td>42.0</td>\n",
       "      <td>36.0</td>\n",
       "      <td>33.0</td>\n",
       "      <td>32.0</td>\n",
       "      <td>33.0</td>\n",
       "    </tr>\n",
       "    <tr>\n",
       "      <th>3</th>\n",
       "      <td>1003</td>\n",
       "      <td>NaN</td>\n",
       "      <td>NaN</td>\n",
       "      <td>NaN</td>\n",
       "      <td>NaN</td>\n",
       "      <td>NaN</td>\n",
       "      <td>NaN</td>\n",
       "      <td>NaN</td>\n",
       "      <td>55.0</td>\n",
       "      <td>134.0</td>\n",
       "      <td>108.0</td>\n",
       "      <td>115.0</td>\n",
       "      <td>108.0</td>\n",
       "    </tr>\n",
       "    <tr>\n",
       "      <th>4</th>\n",
       "      <td>1004</td>\n",
       "      <td>NaN</td>\n",
       "      <td>NaN</td>\n",
       "      <td>NaN</td>\n",
       "      <td>NaN</td>\n",
       "      <td>9.0</td>\n",
       "      <td>31.0</td>\n",
       "      <td>22.0</td>\n",
       "      <td>19.0</td>\n",
       "      <td>26.0</td>\n",
       "      <td>29.0</td>\n",
       "      <td>19.0</td>\n",
       "      <td>21.0</td>\n",
       "    </tr>\n",
       "  </tbody>\n",
       "</table>\n",
       "</div>"
      ],
      "text/plain": [
       "   user_id   1   2   3   4     5     6     7     8      9     10     11     12\n",
       "0     1000 NaN NaN NaN NaN  22.0  43.0  47.0  52.0   58.0   57.0   43.0   46.0\n",
       "1     1001 NaN NaN NaN NaN   NaN   NaN   NaN   NaN    NaN    NaN   59.0   63.0\n",
       "2     1002 NaN NaN NaN NaN   NaN  15.0  26.0  42.0   36.0   33.0   32.0   33.0\n",
       "3     1003 NaN NaN NaN NaN   NaN   NaN   NaN  55.0  134.0  108.0  115.0  108.0\n",
       "4     1004 NaN NaN NaN NaN   9.0  31.0  22.0  19.0   26.0   29.0   19.0   21.0"
      ]
     },
     "metadata": {},
     "output_type": "display_data"
    },
    {
     "data": {
      "text/html": [
       "<div>\n",
       "<style scoped>\n",
       "    .dataframe tbody tr th:only-of-type {\n",
       "        vertical-align: middle;\n",
       "    }\n",
       "\n",
       "    .dataframe tbody tr th {\n",
       "        vertical-align: top;\n",
       "    }\n",
       "\n",
       "    .dataframe thead th {\n",
       "        text-align: right;\n",
       "    }\n",
       "</style>\n",
       "<table border=\"1\" class=\"dataframe\">\n",
       "  <thead>\n",
       "    <tr style=\"text-align: right;\">\n",
       "      <th></th>\n",
       "      <th>user_id</th>\n",
       "      <th>tariff</th>\n",
       "      <th>month</th>\n",
       "      <th>month_churn</th>\n",
       "      <th>1</th>\n",
       "      <th>2</th>\n",
       "      <th>3</th>\n",
       "      <th>4</th>\n",
       "      <th>5</th>\n",
       "      <th>6</th>\n",
       "      <th>7</th>\n",
       "      <th>8</th>\n",
       "      <th>9</th>\n",
       "      <th>10</th>\n",
       "      <th>11</th>\n",
       "      <th>12</th>\n",
       "      <th>mean</th>\n",
       "    </tr>\n",
       "  </thead>\n",
       "  <tbody>\n",
       "    <tr>\n",
       "      <th>0</th>\n",
       "      <td>1000</td>\n",
       "      <td>ultra</td>\n",
       "      <td>5</td>\n",
       "      <td>NaN</td>\n",
       "      <td>NaN</td>\n",
       "      <td>NaN</td>\n",
       "      <td>NaN</td>\n",
       "      <td>NaN</td>\n",
       "      <td>22.0</td>\n",
       "      <td>43.0</td>\n",
       "      <td>47.0</td>\n",
       "      <td>52.0</td>\n",
       "      <td>58.0</td>\n",
       "      <td>57.0</td>\n",
       "      <td>43.0</td>\n",
       "      <td>46.0</td>\n",
       "      <td>46.0</td>\n",
       "    </tr>\n",
       "    <tr>\n",
       "      <th>1</th>\n",
       "      <td>1001</td>\n",
       "      <td>smart</td>\n",
       "      <td>11</td>\n",
       "      <td>NaN</td>\n",
       "      <td>NaN</td>\n",
       "      <td>NaN</td>\n",
       "      <td>NaN</td>\n",
       "      <td>NaN</td>\n",
       "      <td>NaN</td>\n",
       "      <td>NaN</td>\n",
       "      <td>NaN</td>\n",
       "      <td>NaN</td>\n",
       "      <td>NaN</td>\n",
       "      <td>NaN</td>\n",
       "      <td>59.0</td>\n",
       "      <td>63.0</td>\n",
       "      <td>61.0</td>\n",
       "    </tr>\n",
       "    <tr>\n",
       "      <th>2</th>\n",
       "      <td>1002</td>\n",
       "      <td>smart</td>\n",
       "      <td>6</td>\n",
       "      <td>NaN</td>\n",
       "      <td>NaN</td>\n",
       "      <td>NaN</td>\n",
       "      <td>NaN</td>\n",
       "      <td>NaN</td>\n",
       "      <td>NaN</td>\n",
       "      <td>15.0</td>\n",
       "      <td>26.0</td>\n",
       "      <td>42.0</td>\n",
       "      <td>36.0</td>\n",
       "      <td>33.0</td>\n",
       "      <td>32.0</td>\n",
       "      <td>33.0</td>\n",
       "      <td>31.0</td>\n",
       "    </tr>\n",
       "    <tr>\n",
       "      <th>3</th>\n",
       "      <td>1003</td>\n",
       "      <td>ultra</td>\n",
       "      <td>8</td>\n",
       "      <td>NaN</td>\n",
       "      <td>NaN</td>\n",
       "      <td>NaN</td>\n",
       "      <td>NaN</td>\n",
       "      <td>NaN</td>\n",
       "      <td>NaN</td>\n",
       "      <td>NaN</td>\n",
       "      <td>NaN</td>\n",
       "      <td>55.0</td>\n",
       "      <td>134.0</td>\n",
       "      <td>108.0</td>\n",
       "      <td>115.0</td>\n",
       "      <td>108.0</td>\n",
       "      <td>104.0</td>\n",
       "    </tr>\n",
       "    <tr>\n",
       "      <th>4</th>\n",
       "      <td>1004</td>\n",
       "      <td>ultra</td>\n",
       "      <td>5</td>\n",
       "      <td>NaN</td>\n",
       "      <td>NaN</td>\n",
       "      <td>NaN</td>\n",
       "      <td>NaN</td>\n",
       "      <td>NaN</td>\n",
       "      <td>9.0</td>\n",
       "      <td>31.0</td>\n",
       "      <td>22.0</td>\n",
       "      <td>19.0</td>\n",
       "      <td>26.0</td>\n",
       "      <td>29.0</td>\n",
       "      <td>19.0</td>\n",
       "      <td>21.0</td>\n",
       "      <td>22.0</td>\n",
       "    </tr>\n",
       "  </tbody>\n",
       "</table>\n",
       "</div>"
      ],
      "text/plain": [
       "   user_id tariff  month  month_churn   1   2   3   4     5     6     7     8  \\\n",
       "0     1000  ultra      5          NaN NaN NaN NaN NaN  22.0  43.0  47.0  52.0   \n",
       "1     1001  smart     11          NaN NaN NaN NaN NaN   NaN   NaN   NaN   NaN   \n",
       "2     1002  smart      6          NaN NaN NaN NaN NaN   NaN  15.0  26.0  42.0   \n",
       "3     1003  ultra      8          NaN NaN NaN NaN NaN   NaN   NaN   NaN  55.0   \n",
       "4     1004  ultra      5          NaN NaN NaN NaN NaN   9.0  31.0  22.0  19.0   \n",
       "\n",
       "       9     10     11     12   mean  \n",
       "0   58.0   57.0   43.0   46.0   46.0  \n",
       "1    NaN    NaN   59.0   63.0   61.0  \n",
       "2   36.0   33.0   32.0   33.0   31.0  \n",
       "3  134.0  108.0  115.0  108.0  104.0  \n",
       "4   26.0   29.0   19.0   21.0   22.0  "
      ]
     },
     "metadata": {},
     "output_type": "display_data"
    },
    {
     "data": {
      "text/html": [
       "<div>\n",
       "<style scoped>\n",
       "    .dataframe tbody tr th:only-of-type {\n",
       "        vertical-align: middle;\n",
       "    }\n",
       "\n",
       "    .dataframe tbody tr th {\n",
       "        vertical-align: top;\n",
       "    }\n",
       "\n",
       "    .dataframe thead th {\n",
       "        text-align: right;\n",
       "    }\n",
       "</style>\n",
       "<table border=\"1\" class=\"dataframe\">\n",
       "  <thead>\n",
       "    <tr style=\"text-align: right;\">\n",
       "      <th></th>\n",
       "      <th>mean</th>\n",
       "    </tr>\n",
       "    <tr>\n",
       "      <th>tariff</th>\n",
       "      <th></th>\n",
       "    </tr>\n",
       "  </thead>\n",
       "  <tbody>\n",
       "    <tr>\n",
       "      <th>smart</th>\n",
       "      <td>59.0</td>\n",
       "    </tr>\n",
       "    <tr>\n",
       "      <th>ultra</th>\n",
       "      <td>76.0</td>\n",
       "    </tr>\n",
       "  </tbody>\n",
       "</table>\n",
       "</div>"
      ],
      "text/plain": [
       "        mean\n",
       "tariff      \n",
       "smart   59.0\n",
       "ultra   76.0"
      ]
     },
     "metadata": {},
     "output_type": "display_data"
    }
   ],
   "source": [
    "#строим сводную таблицу по клиентам по количеству сделанных звонков по месяцам\n",
    "pivot_calls_1 = calls_data.pivot_table(index='user_id', columns='month', values='duration', aggfunc = 'count')\n",
    "#индексируем таблицу\n",
    "pivot_calls_1.reset_index(inplace=True)\n",
    "#переименовываем столбцы\n",
    "pivot_calls_1.columns = ['user_id','1','2','3','4','5','6','7','8','9','10','11','12']\n",
    "display(pivot_calls_1.head())\n",
    "\n",
    "#добавляем сведения о клиенте\n",
    "calls_c = users_data.merge(pivot_calls_1, on='user_id', how='left')\n",
    "#удаляем лишние столбцы\n",
    "calls_c = calls_c.drop(['age','churn_date','city','first_name','last_name','reg_date'], axis=1)\n",
    "\n",
    "#считаем среднее количество звонков по клиентам в месяц\n",
    "for index in range(len(calls_c)):\n",
    "    calls_c.loc[index,'mean'] = calls_c.loc[index,'1':'12'].mean()\n",
    "display(calls_c.head())\n",
    "\n",
    "#строим сводную таблицу по количеству месячных звонков для клиентов разных тарифов\n",
    "calls_pivot = round(calls_c.pivot_table(index='tariff', values='mean'))\n",
    "display(calls_pivot.head())"
   ]
  },
  {
   "cell_type": "code",
   "execution_count": 8,
   "metadata": {},
   "outputs": [
    {
     "data": {
      "text/html": [
       "<div>\n",
       "<style scoped>\n",
       "    .dataframe tbody tr th:only-of-type {\n",
       "        vertical-align: middle;\n",
       "    }\n",
       "\n",
       "    .dataframe tbody tr th {\n",
       "        vertical-align: top;\n",
       "    }\n",
       "\n",
       "    .dataframe thead th {\n",
       "        text-align: right;\n",
       "    }\n",
       "</style>\n",
       "<table border=\"1\" class=\"dataframe\">\n",
       "  <thead>\n",
       "    <tr style=\"text-align: right;\">\n",
       "      <th></th>\n",
       "      <th>id</th>\n",
       "      <th>call_date</th>\n",
       "      <th>duration</th>\n",
       "      <th>user_id</th>\n",
       "      <th>month</th>\n",
       "    </tr>\n",
       "  </thead>\n",
       "  <tbody>\n",
       "    <tr>\n",
       "      <th>0</th>\n",
       "      <td>1000_0</td>\n",
       "      <td>2018-07-25</td>\n",
       "      <td>0.0</td>\n",
       "      <td>1000</td>\n",
       "      <td>7</td>\n",
       "    </tr>\n",
       "    <tr>\n",
       "      <th>1</th>\n",
       "      <td>1000_1</td>\n",
       "      <td>2018-08-17</td>\n",
       "      <td>0.0</td>\n",
       "      <td>1000</td>\n",
       "      <td>8</td>\n",
       "    </tr>\n",
       "    <tr>\n",
       "      <th>2</th>\n",
       "      <td>1000_2</td>\n",
       "      <td>2018-06-11</td>\n",
       "      <td>3.0</td>\n",
       "      <td>1000</td>\n",
       "      <td>6</td>\n",
       "    </tr>\n",
       "    <tr>\n",
       "      <th>3</th>\n",
       "      <td>1000_3</td>\n",
       "      <td>2018-09-21</td>\n",
       "      <td>14.0</td>\n",
       "      <td>1000</td>\n",
       "      <td>9</td>\n",
       "    </tr>\n",
       "    <tr>\n",
       "      <th>4</th>\n",
       "      <td>1000_4</td>\n",
       "      <td>2018-12-15</td>\n",
       "      <td>6.0</td>\n",
       "      <td>1000</td>\n",
       "      <td>12</td>\n",
       "    </tr>\n",
       "  </tbody>\n",
       "</table>\n",
       "</div>"
      ],
      "text/plain": [
       "       id  call_date  duration  user_id  month\n",
       "0  1000_0 2018-07-25       0.0     1000      7\n",
       "1  1000_1 2018-08-17       0.0     1000      8\n",
       "2  1000_2 2018-06-11       3.0     1000      6\n",
       "3  1000_3 2018-09-21      14.0     1000      9\n",
       "4  1000_4 2018-12-15       6.0     1000     12"
      ]
     },
     "metadata": {},
     "output_type": "display_data"
    },
    {
     "data": {
      "text/html": [
       "<div>\n",
       "<style scoped>\n",
       "    .dataframe tbody tr th:only-of-type {\n",
       "        vertical-align: middle;\n",
       "    }\n",
       "\n",
       "    .dataframe tbody tr th {\n",
       "        vertical-align: top;\n",
       "    }\n",
       "\n",
       "    .dataframe thead th {\n",
       "        text-align: right;\n",
       "    }\n",
       "</style>\n",
       "<table border=\"1\" class=\"dataframe\">\n",
       "  <thead>\n",
       "    <tr style=\"text-align: right;\">\n",
       "      <th></th>\n",
       "      <th>user_id</th>\n",
       "      <th>tariff</th>\n",
       "      <th>month</th>\n",
       "      <th>month_churn</th>\n",
       "      <th>1</th>\n",
       "      <th>2</th>\n",
       "      <th>3</th>\n",
       "      <th>4</th>\n",
       "      <th>5</th>\n",
       "      <th>6</th>\n",
       "      <th>7</th>\n",
       "      <th>8</th>\n",
       "      <th>9</th>\n",
       "      <th>10</th>\n",
       "      <th>11</th>\n",
       "      <th>12</th>\n",
       "      <th>mean</th>\n",
       "    </tr>\n",
       "  </thead>\n",
       "  <tbody>\n",
       "    <tr>\n",
       "      <th>0</th>\n",
       "      <td>1000</td>\n",
       "      <td>ultra</td>\n",
       "      <td>5</td>\n",
       "      <td>NaN</td>\n",
       "      <td>NaN</td>\n",
       "      <td>NaN</td>\n",
       "      <td>NaN</td>\n",
       "      <td>NaN</td>\n",
       "      <td>159.0</td>\n",
       "      <td>172.0</td>\n",
       "      <td>340.0</td>\n",
       "      <td>408.0</td>\n",
       "      <td>466.0</td>\n",
       "      <td>350.0</td>\n",
       "      <td>338.0</td>\n",
       "      <td>333.0</td>\n",
       "      <td>320.750000</td>\n",
       "    </tr>\n",
       "    <tr>\n",
       "      <th>1</th>\n",
       "      <td>1001</td>\n",
       "      <td>smart</td>\n",
       "      <td>11</td>\n",
       "      <td>NaN</td>\n",
       "      <td>NaN</td>\n",
       "      <td>NaN</td>\n",
       "      <td>NaN</td>\n",
       "      <td>NaN</td>\n",
       "      <td>NaN</td>\n",
       "      <td>NaN</td>\n",
       "      <td>NaN</td>\n",
       "      <td>NaN</td>\n",
       "      <td>NaN</td>\n",
       "      <td>NaN</td>\n",
       "      <td>430.0</td>\n",
       "      <td>414.0</td>\n",
       "      <td>422.000000</td>\n",
       "    </tr>\n",
       "    <tr>\n",
       "      <th>2</th>\n",
       "      <td>1002</td>\n",
       "      <td>smart</td>\n",
       "      <td>6</td>\n",
       "      <td>NaN</td>\n",
       "      <td>NaN</td>\n",
       "      <td>NaN</td>\n",
       "      <td>NaN</td>\n",
       "      <td>NaN</td>\n",
       "      <td>NaN</td>\n",
       "      <td>117.0</td>\n",
       "      <td>214.0</td>\n",
       "      <td>289.0</td>\n",
       "      <td>206.0</td>\n",
       "      <td>212.0</td>\n",
       "      <td>243.0</td>\n",
       "      <td>236.0</td>\n",
       "      <td>216.714286</td>\n",
       "    </tr>\n",
       "    <tr>\n",
       "      <th>3</th>\n",
       "      <td>1003</td>\n",
       "      <td>ultra</td>\n",
       "      <td>8</td>\n",
       "      <td>NaN</td>\n",
       "      <td>NaN</td>\n",
       "      <td>NaN</td>\n",
       "      <td>NaN</td>\n",
       "      <td>NaN</td>\n",
       "      <td>NaN</td>\n",
       "      <td>NaN</td>\n",
       "      <td>NaN</td>\n",
       "      <td>380.0</td>\n",
       "      <td>961.0</td>\n",
       "      <td>855.0</td>\n",
       "      <td>824.0</td>\n",
       "      <td>802.0</td>\n",
       "      <td>764.400000</td>\n",
       "    </tr>\n",
       "    <tr>\n",
       "      <th>4</th>\n",
       "      <td>1004</td>\n",
       "      <td>ultra</td>\n",
       "      <td>5</td>\n",
       "      <td>NaN</td>\n",
       "      <td>NaN</td>\n",
       "      <td>NaN</td>\n",
       "      <td>NaN</td>\n",
       "      <td>NaN</td>\n",
       "      <td>35.0</td>\n",
       "      <td>171.0</td>\n",
       "      <td>135.0</td>\n",
       "      <td>137.0</td>\n",
       "      <td>117.0</td>\n",
       "      <td>145.0</td>\n",
       "      <td>117.0</td>\n",
       "      <td>130.0</td>\n",
       "      <td>123.375000</td>\n",
       "    </tr>\n",
       "  </tbody>\n",
       "</table>\n",
       "</div>"
      ],
      "text/plain": [
       "   user_id tariff  month  month_churn   1   2   3   4      5      6      7  \\\n",
       "0     1000  ultra      5          NaN NaN NaN NaN NaN  159.0  172.0  340.0   \n",
       "1     1001  smart     11          NaN NaN NaN NaN NaN    NaN    NaN    NaN   \n",
       "2     1002  smart      6          NaN NaN NaN NaN NaN    NaN  117.0  214.0   \n",
       "3     1003  ultra      8          NaN NaN NaN NaN NaN    NaN    NaN    NaN   \n",
       "4     1004  ultra      5          NaN NaN NaN NaN NaN   35.0  171.0  135.0   \n",
       "\n",
       "       8      9     10     11     12        mean  \n",
       "0  408.0  466.0  350.0  338.0  333.0  320.750000  \n",
       "1    NaN    NaN    NaN  430.0  414.0  422.000000  \n",
       "2  289.0  206.0  212.0  243.0  236.0  216.714286  \n",
       "3  380.0  961.0  855.0  824.0  802.0  764.400000  \n",
       "4  137.0  117.0  145.0  117.0  130.0  123.375000  "
      ]
     },
     "metadata": {},
     "output_type": "display_data"
    },
    {
     "data": {
      "text/html": [
       "<div>\n",
       "<style scoped>\n",
       "    .dataframe tbody tr th:only-of-type {\n",
       "        vertical-align: middle;\n",
       "    }\n",
       "\n",
       "    .dataframe tbody tr th {\n",
       "        vertical-align: top;\n",
       "    }\n",
       "\n",
       "    .dataframe thead th {\n",
       "        text-align: right;\n",
       "    }\n",
       "</style>\n",
       "<table border=\"1\" class=\"dataframe\">\n",
       "  <thead>\n",
       "    <tr style=\"text-align: right;\">\n",
       "      <th></th>\n",
       "      <th>mean</th>\n",
       "    </tr>\n",
       "    <tr>\n",
       "      <th>tariff</th>\n",
       "      <th></th>\n",
       "    </tr>\n",
       "  </thead>\n",
       "  <tbody>\n",
       "    <tr>\n",
       "      <th>smart</th>\n",
       "      <td>421.0</td>\n",
       "    </tr>\n",
       "    <tr>\n",
       "      <th>ultra</th>\n",
       "      <td>547.0</td>\n",
       "    </tr>\n",
       "  </tbody>\n",
       "</table>\n",
       "</div>"
      ],
      "text/plain": [
       "         mean\n",
       "tariff       \n",
       "smart   421.0\n",
       "ultra   547.0"
      ]
     },
     "metadata": {},
     "output_type": "display_data"
    }
   ],
   "source": [
    "#округляем значения столбца calls_data['duration'] вверх\n",
    "for index in range(len(calls_data)):\n",
    "    calls_data.loc[index,'duration'] = mt.ceil(calls_data.loc[index,'duration'])\n",
    "display(calls_data.head())\n",
    "#строим сводную таблицу по клиентам по количеству израсходованных минут по месяцам\n",
    "pivot_calls_2 = round(calls_data.pivot_table(index='user_id', columns='month', values='duration', aggfunc = 'sum'))\n",
    "#индексируем таблицу\n",
    "pivot_calls_2.reset_index(inplace=True)\n",
    "#переименовываем столбцы\n",
    "pivot_calls_2.columns = ['user_id','1','2','3','4','5','6','7','8','9','10','11','12']\n",
    "#добавляем сведения о клиенте\n",
    "calls = users_data.merge(pivot_calls_2, on='user_id', how='left')\n",
    "#удаляем лишние столбцы\n",
    "calls = calls.drop(['age','churn_date','city','first_name','last_name','reg_date'], axis=1)\n",
    "\n",
    "#считаем среднее количество израсходованных минут по клиентам в месяц\n",
    "for index in range(len(calls)):\n",
    "    calls.loc[index,'mean'] = calls.loc[index,'1':'12'].mean()\n",
    "display(calls.head())\n",
    "\n",
    "#строим сводную таблицу по количеству израсходованных минут по клиентам разных тарифов в месяц\n",
    "calls_pivot_1 = round(calls.pivot_table(index='tariff', values='mean'))\n",
    "display(calls_pivot_1)"
   ]
  },
  {
   "cell_type": "code",
   "execution_count": 9,
   "metadata": {
    "scrolled": false
   },
   "outputs": [
    {
     "data": {
      "text/html": [
       "<div>\n",
       "<style scoped>\n",
       "    .dataframe tbody tr th:only-of-type {\n",
       "        vertical-align: middle;\n",
       "    }\n",
       "\n",
       "    .dataframe tbody tr th {\n",
       "        vertical-align: top;\n",
       "    }\n",
       "\n",
       "    .dataframe thead th {\n",
       "        text-align: right;\n",
       "    }\n",
       "</style>\n",
       "<table border=\"1\" class=\"dataframe\">\n",
       "  <thead>\n",
       "    <tr style=\"text-align: right;\">\n",
       "      <th></th>\n",
       "      <th>user_id</th>\n",
       "      <th>tariff</th>\n",
       "      <th>month</th>\n",
       "      <th>month_churn</th>\n",
       "      <th>1</th>\n",
       "      <th>2</th>\n",
       "      <th>3</th>\n",
       "      <th>4</th>\n",
       "      <th>5</th>\n",
       "      <th>6</th>\n",
       "      <th>7</th>\n",
       "      <th>8</th>\n",
       "      <th>9</th>\n",
       "      <th>10</th>\n",
       "      <th>11</th>\n",
       "      <th>12</th>\n",
       "    </tr>\n",
       "  </thead>\n",
       "  <tbody>\n",
       "    <tr>\n",
       "      <th>0</th>\n",
       "      <td>1000</td>\n",
       "      <td>ultra</td>\n",
       "      <td>5</td>\n",
       "      <td>NaN</td>\n",
       "      <td>0.0</td>\n",
       "      <td>0.0</td>\n",
       "      <td>0.0</td>\n",
       "      <td>0.0</td>\n",
       "      <td>0.0</td>\n",
       "      <td>0.0</td>\n",
       "      <td>0.0</td>\n",
       "      <td>0.0</td>\n",
       "      <td>0.0</td>\n",
       "      <td>0.0</td>\n",
       "      <td>0.0</td>\n",
       "      <td>0.0</td>\n",
       "    </tr>\n",
       "    <tr>\n",
       "      <th>1</th>\n",
       "      <td>1001</td>\n",
       "      <td>smart</td>\n",
       "      <td>11</td>\n",
       "      <td>NaN</td>\n",
       "      <td>0.0</td>\n",
       "      <td>0.0</td>\n",
       "      <td>0.0</td>\n",
       "      <td>0.0</td>\n",
       "      <td>0.0</td>\n",
       "      <td>0.0</td>\n",
       "      <td>0.0</td>\n",
       "      <td>0.0</td>\n",
       "      <td>0.0</td>\n",
       "      <td>0.0</td>\n",
       "      <td>0.0</td>\n",
       "      <td>0.0</td>\n",
       "    </tr>\n",
       "    <tr>\n",
       "      <th>2</th>\n",
       "      <td>1002</td>\n",
       "      <td>smart</td>\n",
       "      <td>6</td>\n",
       "      <td>NaN</td>\n",
       "      <td>0.0</td>\n",
       "      <td>0.0</td>\n",
       "      <td>0.0</td>\n",
       "      <td>0.0</td>\n",
       "      <td>0.0</td>\n",
       "      <td>0.0</td>\n",
       "      <td>0.0</td>\n",
       "      <td>0.0</td>\n",
       "      <td>0.0</td>\n",
       "      <td>0.0</td>\n",
       "      <td>0.0</td>\n",
       "      <td>0.0</td>\n",
       "    </tr>\n",
       "    <tr>\n",
       "      <th>3</th>\n",
       "      <td>1003</td>\n",
       "      <td>ultra</td>\n",
       "      <td>8</td>\n",
       "      <td>NaN</td>\n",
       "      <td>0.0</td>\n",
       "      <td>0.0</td>\n",
       "      <td>0.0</td>\n",
       "      <td>0.0</td>\n",
       "      <td>0.0</td>\n",
       "      <td>0.0</td>\n",
       "      <td>0.0</td>\n",
       "      <td>0.0</td>\n",
       "      <td>0.0</td>\n",
       "      <td>0.0</td>\n",
       "      <td>0.0</td>\n",
       "      <td>0.0</td>\n",
       "    </tr>\n",
       "    <tr>\n",
       "      <th>4</th>\n",
       "      <td>1004</td>\n",
       "      <td>ultra</td>\n",
       "      <td>5</td>\n",
       "      <td>NaN</td>\n",
       "      <td>0.0</td>\n",
       "      <td>0.0</td>\n",
       "      <td>0.0</td>\n",
       "      <td>0.0</td>\n",
       "      <td>0.0</td>\n",
       "      <td>0.0</td>\n",
       "      <td>0.0</td>\n",
       "      <td>0.0</td>\n",
       "      <td>0.0</td>\n",
       "      <td>0.0</td>\n",
       "      <td>0.0</td>\n",
       "      <td>0.0</td>\n",
       "    </tr>\n",
       "  </tbody>\n",
       "</table>\n",
       "</div>"
      ],
      "text/plain": [
       "   user_id tariff  month  month_churn    1    2    3    4    5    6    7    8  \\\n",
       "0     1000  ultra      5          NaN  0.0  0.0  0.0  0.0  0.0  0.0  0.0  0.0   \n",
       "1     1001  smart     11          NaN  0.0  0.0  0.0  0.0  0.0  0.0  0.0  0.0   \n",
       "2     1002  smart      6          NaN  0.0  0.0  0.0  0.0  0.0  0.0  0.0  0.0   \n",
       "3     1003  ultra      8          NaN  0.0  0.0  0.0  0.0  0.0  0.0  0.0  0.0   \n",
       "4     1004  ultra      5          NaN  0.0  0.0  0.0  0.0  0.0  0.0  0.0  0.0   \n",
       "\n",
       "     9   10   11   12  \n",
       "0  0.0  0.0  0.0  0.0  \n",
       "1  0.0  0.0  0.0  0.0  \n",
       "2  0.0  0.0  0.0  0.0  \n",
       "3  0.0  0.0  0.0  0.0  \n",
       "4  0.0  0.0  0.0  0.0  "
      ]
     },
     "metadata": {},
     "output_type": "display_data"
    }
   ],
   "source": [
    "calls = calls.drop(axis=1, columns='mean')\n",
    "#описываем цикл для расчета выручки от звонков свыше лимита, установленного тарифом\n",
    "for column in ['1','2','3','4','5','6','7','8','9','10','11','12']:\n",
    "    for index in range(len(calls)):\n",
    "        if calls.loc[index,'tariff'] == 'smart' and calls.loc[index,column] > tarrifs_data.loc[0,'minutes_included']:\n",
    "            calls.loc[index,column] = (calls.loc[index,column] - tarrifs_data.loc[0,'minutes_included'])*tarrifs_data.loc[0,'rub_per_minute']\n",
    "        elif calls.loc[index,'tariff'] == 'ultra' and calls.loc[index,column] > tarrifs_data.loc[1,'minutes_included']:\n",
    "            calls.loc[index,column] = (calls.loc[index,column] - tarrifs_data.loc[1,'minutes_included'])*tarrifs_data.loc[1,'rub_per_minute']    \n",
    "        else:\n",
    "            calls.loc[index,column] = 0\n",
    "display(calls.head())"
   ]
  },
  {
   "cell_type": "code",
   "execution_count": 10,
   "metadata": {
    "scrolled": false
   },
   "outputs": [
    {
     "data": {
      "text/html": [
       "<div>\n",
       "<style scoped>\n",
       "    .dataframe tbody tr th:only-of-type {\n",
       "        vertical-align: middle;\n",
       "    }\n",
       "\n",
       "    .dataframe tbody tr th {\n",
       "        vertical-align: top;\n",
       "    }\n",
       "\n",
       "    .dataframe thead th {\n",
       "        text-align: right;\n",
       "    }\n",
       "</style>\n",
       "<table border=\"1\" class=\"dataframe\">\n",
       "  <thead>\n",
       "    <tr style=\"text-align: right;\">\n",
       "      <th></th>\n",
       "      <th>user_id</th>\n",
       "      <th>tariff</th>\n",
       "      <th>month</th>\n",
       "      <th>month_churn</th>\n",
       "      <th>1</th>\n",
       "      <th>2</th>\n",
       "      <th>3</th>\n",
       "      <th>4</th>\n",
       "      <th>5</th>\n",
       "      <th>6</th>\n",
       "      <th>7</th>\n",
       "      <th>8</th>\n",
       "      <th>9</th>\n",
       "      <th>10</th>\n",
       "      <th>11</th>\n",
       "      <th>12</th>\n",
       "      <th>mean</th>\n",
       "    </tr>\n",
       "  </thead>\n",
       "  <tbody>\n",
       "    <tr>\n",
       "      <th>0</th>\n",
       "      <td>1000</td>\n",
       "      <td>ultra</td>\n",
       "      <td>5</td>\n",
       "      <td>NaN</td>\n",
       "      <td>NaN</td>\n",
       "      <td>NaN</td>\n",
       "      <td>NaN</td>\n",
       "      <td>NaN</td>\n",
       "      <td>22.0</td>\n",
       "      <td>60.0</td>\n",
       "      <td>75.0</td>\n",
       "      <td>81.0</td>\n",
       "      <td>57.0</td>\n",
       "      <td>73.0</td>\n",
       "      <td>58.0</td>\n",
       "      <td>70.0</td>\n",
       "      <td>62.0</td>\n",
       "    </tr>\n",
       "    <tr>\n",
       "      <th>1</th>\n",
       "      <td>1001</td>\n",
       "      <td>smart</td>\n",
       "      <td>11</td>\n",
       "      <td>NaN</td>\n",
       "      <td>NaN</td>\n",
       "      <td>NaN</td>\n",
       "      <td>NaN</td>\n",
       "      <td>NaN</td>\n",
       "      <td>NaN</td>\n",
       "      <td>NaN</td>\n",
       "      <td>NaN</td>\n",
       "      <td>NaN</td>\n",
       "      <td>NaN</td>\n",
       "      <td>NaN</td>\n",
       "      <td>NaN</td>\n",
       "      <td>NaN</td>\n",
       "      <td>NaN</td>\n",
       "    </tr>\n",
       "    <tr>\n",
       "      <th>2</th>\n",
       "      <td>1002</td>\n",
       "      <td>smart</td>\n",
       "      <td>6</td>\n",
       "      <td>NaN</td>\n",
       "      <td>NaN</td>\n",
       "      <td>NaN</td>\n",
       "      <td>NaN</td>\n",
       "      <td>NaN</td>\n",
       "      <td>NaN</td>\n",
       "      <td>4.0</td>\n",
       "      <td>11.0</td>\n",
       "      <td>13.0</td>\n",
       "      <td>4.0</td>\n",
       "      <td>10.0</td>\n",
       "      <td>16.0</td>\n",
       "      <td>12.0</td>\n",
       "      <td>10.0</td>\n",
       "    </tr>\n",
       "    <tr>\n",
       "      <th>3</th>\n",
       "      <td>1003</td>\n",
       "      <td>ultra</td>\n",
       "      <td>8</td>\n",
       "      <td>NaN</td>\n",
       "      <td>NaN</td>\n",
       "      <td>NaN</td>\n",
       "      <td>NaN</td>\n",
       "      <td>NaN</td>\n",
       "      <td>NaN</td>\n",
       "      <td>NaN</td>\n",
       "      <td>NaN</td>\n",
       "      <td>37.0</td>\n",
       "      <td>91.0</td>\n",
       "      <td>83.0</td>\n",
       "      <td>94.0</td>\n",
       "      <td>75.0</td>\n",
       "      <td>76.0</td>\n",
       "    </tr>\n",
       "    <tr>\n",
       "      <th>4</th>\n",
       "      <td>1004</td>\n",
       "      <td>ultra</td>\n",
       "      <td>5</td>\n",
       "      <td>NaN</td>\n",
       "      <td>NaN</td>\n",
       "      <td>NaN</td>\n",
       "      <td>NaN</td>\n",
       "      <td>NaN</td>\n",
       "      <td>95.0</td>\n",
       "      <td>134.0</td>\n",
       "      <td>181.0</td>\n",
       "      <td>151.0</td>\n",
       "      <td>146.0</td>\n",
       "      <td>165.0</td>\n",
       "      <td>158.0</td>\n",
       "      <td>162.0</td>\n",
       "      <td>149.0</td>\n",
       "    </tr>\n",
       "  </tbody>\n",
       "</table>\n",
       "</div>"
      ],
      "text/plain": [
       "   user_id tariff  month  month_churn   1   2   3   4     5      6      7  \\\n",
       "0     1000  ultra      5          NaN NaN NaN NaN NaN  22.0   60.0   75.0   \n",
       "1     1001  smart     11          NaN NaN NaN NaN NaN   NaN    NaN    NaN   \n",
       "2     1002  smart      6          NaN NaN NaN NaN NaN   NaN    4.0   11.0   \n",
       "3     1003  ultra      8          NaN NaN NaN NaN NaN   NaN    NaN    NaN   \n",
       "4     1004  ultra      5          NaN NaN NaN NaN NaN  95.0  134.0  181.0   \n",
       "\n",
       "       8      9     10     11     12   mean  \n",
       "0   81.0   57.0   73.0   58.0   70.0   62.0  \n",
       "1    NaN    NaN    NaN    NaN    NaN    NaN  \n",
       "2   13.0    4.0   10.0   16.0   12.0   10.0  \n",
       "3   37.0   91.0   83.0   94.0   75.0   76.0  \n",
       "4  151.0  146.0  165.0  158.0  162.0  149.0  "
      ]
     },
     "metadata": {},
     "output_type": "display_data"
    },
    {
     "data": {
      "text/html": [
       "<div>\n",
       "<style scoped>\n",
       "    .dataframe tbody tr th:only-of-type {\n",
       "        vertical-align: middle;\n",
       "    }\n",
       "\n",
       "    .dataframe tbody tr th {\n",
       "        vertical-align: top;\n",
       "    }\n",
       "\n",
       "    .dataframe thead th {\n",
       "        text-align: right;\n",
       "    }\n",
       "</style>\n",
       "<table border=\"1\" class=\"dataframe\">\n",
       "  <thead>\n",
       "    <tr style=\"text-align: right;\">\n",
       "      <th></th>\n",
       "      <th>mean</th>\n",
       "    </tr>\n",
       "    <tr>\n",
       "      <th>tariff</th>\n",
       "      <th></th>\n",
       "    </tr>\n",
       "  </thead>\n",
       "  <tbody>\n",
       "    <tr>\n",
       "      <th>smart</th>\n",
       "      <td>38.0</td>\n",
       "    </tr>\n",
       "    <tr>\n",
       "      <th>ultra</th>\n",
       "      <td>65.0</td>\n",
       "    </tr>\n",
       "  </tbody>\n",
       "</table>\n",
       "</div>"
      ],
      "text/plain": [
       "        mean\n",
       "tariff      \n",
       "smart   38.0\n",
       "ultra   65.0"
      ]
     },
     "metadata": {},
     "output_type": "display_data"
    }
   ],
   "source": [
    "#строим сводную таблицу по клиентам по количеству отправленных сообщений по месяцам\n",
    "pivot_calls_3 = messages_data.pivot_table(index='user_id', columns='month', values='id', aggfunc = 'count')\n",
    "#индексируем таблицу\n",
    "pivot_calls_3.reset_index(inplace=True)\n",
    "#переименовываем столбцы\n",
    "pivot_calls_3.columns = ['user_id','1','2','3','4','5','6','7','8','9','10','11','12']\n",
    "#добавляем сведения о клиенте\n",
    "messages = users_data.merge(pivot_calls_3, on='user_id', how='left')\n",
    "#удаляем лишние столбцы\n",
    "messages = messages.drop(['age','churn_date','city','first_name','last_name','reg_date'], axis=1)\n",
    "\n",
    "#считаем среднее количество сообщений по клиентам в месяц\n",
    "for index in range(len(messages)):\n",
    "    messages.loc[index,'mean'] = messages.loc[index,'1':'12'].mean()\n",
    "display(messages.head())\n",
    "    \n",
    "#строим сводную таблицу по количеству сообщений по клиентам разных тарифов в месяц\n",
    "messages_pivot_1 = round(messages.pivot_table(index='tariff', values='mean'))\n",
    "display(messages_pivot_1)"
   ]
  },
  {
   "cell_type": "code",
   "execution_count": 11,
   "metadata": {},
   "outputs": [
    {
     "data": {
      "text/html": [
       "<div>\n",
       "<style scoped>\n",
       "    .dataframe tbody tr th:only-of-type {\n",
       "        vertical-align: middle;\n",
       "    }\n",
       "\n",
       "    .dataframe tbody tr th {\n",
       "        vertical-align: top;\n",
       "    }\n",
       "\n",
       "    .dataframe thead th {\n",
       "        text-align: right;\n",
       "    }\n",
       "</style>\n",
       "<table border=\"1\" class=\"dataframe\">\n",
       "  <thead>\n",
       "    <tr style=\"text-align: right;\">\n",
       "      <th></th>\n",
       "      <th>user_id</th>\n",
       "      <th>tariff</th>\n",
       "      <th>month</th>\n",
       "      <th>month_churn</th>\n",
       "      <th>1</th>\n",
       "      <th>2</th>\n",
       "      <th>3</th>\n",
       "      <th>4</th>\n",
       "      <th>5</th>\n",
       "      <th>6</th>\n",
       "      <th>7</th>\n",
       "      <th>8</th>\n",
       "      <th>9</th>\n",
       "      <th>10</th>\n",
       "      <th>11</th>\n",
       "      <th>12</th>\n",
       "    </tr>\n",
       "  </thead>\n",
       "  <tbody>\n",
       "    <tr>\n",
       "      <th>0</th>\n",
       "      <td>1000</td>\n",
       "      <td>ultra</td>\n",
       "      <td>5</td>\n",
       "      <td>NaN</td>\n",
       "      <td>0.0</td>\n",
       "      <td>0.0</td>\n",
       "      <td>0.0</td>\n",
       "      <td>0.0</td>\n",
       "      <td>0.0</td>\n",
       "      <td>0.0</td>\n",
       "      <td>0.0</td>\n",
       "      <td>0.0</td>\n",
       "      <td>0.0</td>\n",
       "      <td>0.0</td>\n",
       "      <td>0.0</td>\n",
       "      <td>0.0</td>\n",
       "    </tr>\n",
       "    <tr>\n",
       "      <th>1</th>\n",
       "      <td>1001</td>\n",
       "      <td>smart</td>\n",
       "      <td>11</td>\n",
       "      <td>NaN</td>\n",
       "      <td>0.0</td>\n",
       "      <td>0.0</td>\n",
       "      <td>0.0</td>\n",
       "      <td>0.0</td>\n",
       "      <td>0.0</td>\n",
       "      <td>0.0</td>\n",
       "      <td>0.0</td>\n",
       "      <td>0.0</td>\n",
       "      <td>0.0</td>\n",
       "      <td>0.0</td>\n",
       "      <td>0.0</td>\n",
       "      <td>0.0</td>\n",
       "    </tr>\n",
       "    <tr>\n",
       "      <th>2</th>\n",
       "      <td>1002</td>\n",
       "      <td>smart</td>\n",
       "      <td>6</td>\n",
       "      <td>NaN</td>\n",
       "      <td>0.0</td>\n",
       "      <td>0.0</td>\n",
       "      <td>0.0</td>\n",
       "      <td>0.0</td>\n",
       "      <td>0.0</td>\n",
       "      <td>0.0</td>\n",
       "      <td>0.0</td>\n",
       "      <td>0.0</td>\n",
       "      <td>0.0</td>\n",
       "      <td>0.0</td>\n",
       "      <td>0.0</td>\n",
       "      <td>0.0</td>\n",
       "    </tr>\n",
       "    <tr>\n",
       "      <th>3</th>\n",
       "      <td>1003</td>\n",
       "      <td>ultra</td>\n",
       "      <td>8</td>\n",
       "      <td>NaN</td>\n",
       "      <td>0.0</td>\n",
       "      <td>0.0</td>\n",
       "      <td>0.0</td>\n",
       "      <td>0.0</td>\n",
       "      <td>0.0</td>\n",
       "      <td>0.0</td>\n",
       "      <td>0.0</td>\n",
       "      <td>0.0</td>\n",
       "      <td>0.0</td>\n",
       "      <td>0.0</td>\n",
       "      <td>0.0</td>\n",
       "      <td>0.0</td>\n",
       "    </tr>\n",
       "    <tr>\n",
       "      <th>4</th>\n",
       "      <td>1004</td>\n",
       "      <td>ultra</td>\n",
       "      <td>5</td>\n",
       "      <td>NaN</td>\n",
       "      <td>0.0</td>\n",
       "      <td>0.0</td>\n",
       "      <td>0.0</td>\n",
       "      <td>0.0</td>\n",
       "      <td>0.0</td>\n",
       "      <td>0.0</td>\n",
       "      <td>0.0</td>\n",
       "      <td>0.0</td>\n",
       "      <td>0.0</td>\n",
       "      <td>0.0</td>\n",
       "      <td>0.0</td>\n",
       "      <td>0.0</td>\n",
       "    </tr>\n",
       "  </tbody>\n",
       "</table>\n",
       "</div>"
      ],
      "text/plain": [
       "   user_id tariff  month  month_churn    1    2    3    4    5    6    7    8  \\\n",
       "0     1000  ultra      5          NaN  0.0  0.0  0.0  0.0  0.0  0.0  0.0  0.0   \n",
       "1     1001  smart     11          NaN  0.0  0.0  0.0  0.0  0.0  0.0  0.0  0.0   \n",
       "2     1002  smart      6          NaN  0.0  0.0  0.0  0.0  0.0  0.0  0.0  0.0   \n",
       "3     1003  ultra      8          NaN  0.0  0.0  0.0  0.0  0.0  0.0  0.0  0.0   \n",
       "4     1004  ultra      5          NaN  0.0  0.0  0.0  0.0  0.0  0.0  0.0  0.0   \n",
       "\n",
       "     9   10   11   12  \n",
       "0  0.0  0.0  0.0  0.0  \n",
       "1  0.0  0.0  0.0  0.0  \n",
       "2  0.0  0.0  0.0  0.0  \n",
       "3  0.0  0.0  0.0  0.0  \n",
       "4  0.0  0.0  0.0  0.0  "
      ]
     },
     "metadata": {},
     "output_type": "display_data"
    }
   ],
   "source": [
    "messages = messages.drop(['mean'], axis=1)\n",
    "#описываем цикл для расчета выручки от сообщений свыше лимита, установленного тарифом\n",
    "for column in ['1','2','3','4','5','6','7','8','9','10','11','12']:\n",
    "    for index in range(len(messages)):\n",
    "        if messages.loc[index,'tariff'] == 'smart' and messages.loc[index,column] > tarrifs_data.loc[0,'messages_included']:\n",
    "            messages.loc[index,column] = (messages.loc[index,column] - tarrifs_data.loc[0,'messages_included'])*tarrifs_data.loc[0,'rub_per_message']\n",
    "        elif messages.loc[index,'tariff'] == 'ultra' and messages.loc[index,column] > tarrifs_data.loc[1,'messages_included']:\n",
    "            messages.loc[index,column] = (messages.loc[index,column] - tarrifs_data.loc[1,'messages_included'])*tarrifs_data.loc[1,'rub_per_message']    \n",
    "        else:\n",
    "            messages.loc[index,column] = 0\n",
    "display(messages.head())"
   ]
  },
  {
   "cell_type": "code",
   "execution_count": 12,
   "metadata": {
    "scrolled": false
   },
   "outputs": [
    {
     "data": {
      "text/html": [
       "<div>\n",
       "<style scoped>\n",
       "    .dataframe tbody tr th:only-of-type {\n",
       "        vertical-align: middle;\n",
       "    }\n",
       "\n",
       "    .dataframe tbody tr th {\n",
       "        vertical-align: top;\n",
       "    }\n",
       "\n",
       "    .dataframe thead th {\n",
       "        text-align: right;\n",
       "    }\n",
       "</style>\n",
       "<table border=\"1\" class=\"dataframe\">\n",
       "  <thead>\n",
       "    <tr style=\"text-align: right;\">\n",
       "      <th></th>\n",
       "      <th>user_id</th>\n",
       "      <th>tariff</th>\n",
       "      <th>month</th>\n",
       "      <th>month_churn</th>\n",
       "      <th>1</th>\n",
       "      <th>2</th>\n",
       "      <th>3</th>\n",
       "      <th>4</th>\n",
       "      <th>5</th>\n",
       "      <th>6</th>\n",
       "      <th>7</th>\n",
       "      <th>8</th>\n",
       "      <th>9</th>\n",
       "      <th>10</th>\n",
       "      <th>11</th>\n",
       "      <th>12</th>\n",
       "      <th>mean</th>\n",
       "    </tr>\n",
       "  </thead>\n",
       "  <tbody>\n",
       "    <tr>\n",
       "      <th>0</th>\n",
       "      <td>1000</td>\n",
       "      <td>ultra</td>\n",
       "      <td>5</td>\n",
       "      <td>NaN</td>\n",
       "      <td>NaN</td>\n",
       "      <td>NaN</td>\n",
       "      <td>NaN</td>\n",
       "      <td>NaN</td>\n",
       "      <td>2253.0</td>\n",
       "      <td>23234.0</td>\n",
       "      <td>14004.0</td>\n",
       "      <td>14056.0</td>\n",
       "      <td>14569.0</td>\n",
       "      <td>14702.0</td>\n",
       "      <td>14756.0</td>\n",
       "      <td>9818.0</td>\n",
       "      <td>13424.000000</td>\n",
       "    </tr>\n",
       "    <tr>\n",
       "      <th>1</th>\n",
       "      <td>1001</td>\n",
       "      <td>smart</td>\n",
       "      <td>11</td>\n",
       "      <td>NaN</td>\n",
       "      <td>NaN</td>\n",
       "      <td>NaN</td>\n",
       "      <td>NaN</td>\n",
       "      <td>NaN</td>\n",
       "      <td>NaN</td>\n",
       "      <td>NaN</td>\n",
       "      <td>NaN</td>\n",
       "      <td>NaN</td>\n",
       "      <td>NaN</td>\n",
       "      <td>NaN</td>\n",
       "      <td>18429.0</td>\n",
       "      <td>14037.0</td>\n",
       "      <td>16233.000000</td>\n",
       "    </tr>\n",
       "    <tr>\n",
       "      <th>2</th>\n",
       "      <td>1002</td>\n",
       "      <td>smart</td>\n",
       "      <td>6</td>\n",
       "      <td>NaN</td>\n",
       "      <td>NaN</td>\n",
       "      <td>NaN</td>\n",
       "      <td>NaN</td>\n",
       "      <td>NaN</td>\n",
       "      <td>NaN</td>\n",
       "      <td>10857.0</td>\n",
       "      <td>17580.0</td>\n",
       "      <td>20319.0</td>\n",
       "      <td>16691.0</td>\n",
       "      <td>13888.0</td>\n",
       "      <td>18587.0</td>\n",
       "      <td>18114.0</td>\n",
       "      <td>16576.571429</td>\n",
       "    </tr>\n",
       "    <tr>\n",
       "      <th>3</th>\n",
       "      <td>1003</td>\n",
       "      <td>ultra</td>\n",
       "      <td>8</td>\n",
       "      <td>NaN</td>\n",
       "      <td>NaN</td>\n",
       "      <td>NaN</td>\n",
       "      <td>NaN</td>\n",
       "      <td>NaN</td>\n",
       "      <td>NaN</td>\n",
       "      <td>NaN</td>\n",
       "      <td>NaN</td>\n",
       "      <td>8565.0</td>\n",
       "      <td>12469.0</td>\n",
       "      <td>14768.0</td>\n",
       "      <td>11357.0</td>\n",
       "      <td>10122.0</td>\n",
       "      <td>11456.200000</td>\n",
       "    </tr>\n",
       "    <tr>\n",
       "      <th>4</th>\n",
       "      <td>1004</td>\n",
       "      <td>ultra</td>\n",
       "      <td>5</td>\n",
       "      <td>NaN</td>\n",
       "      <td>NaN</td>\n",
       "      <td>NaN</td>\n",
       "      <td>NaN</td>\n",
       "      <td>NaN</td>\n",
       "      <td>13404.0</td>\n",
       "      <td>17600.0</td>\n",
       "      <td>22230.0</td>\n",
       "      <td>28584.0</td>\n",
       "      <td>15109.0</td>\n",
       "      <td>18475.0</td>\n",
       "      <td>15616.0</td>\n",
       "      <td>18021.0</td>\n",
       "      <td>18629.875000</td>\n",
       "    </tr>\n",
       "  </tbody>\n",
       "</table>\n",
       "</div>"
      ],
      "text/plain": [
       "   user_id tariff  month  month_churn   1   2   3   4        5        6  \\\n",
       "0     1000  ultra      5          NaN NaN NaN NaN NaN   2253.0  23234.0   \n",
       "1     1001  smart     11          NaN NaN NaN NaN NaN      NaN      NaN   \n",
       "2     1002  smart      6          NaN NaN NaN NaN NaN      NaN  10857.0   \n",
       "3     1003  ultra      8          NaN NaN NaN NaN NaN      NaN      NaN   \n",
       "4     1004  ultra      5          NaN NaN NaN NaN NaN  13404.0  17600.0   \n",
       "\n",
       "         7        8        9       10       11       12          mean  \n",
       "0  14004.0  14056.0  14569.0  14702.0  14756.0   9818.0  13424.000000  \n",
       "1      NaN      NaN      NaN      NaN  18429.0  14037.0  16233.000000  \n",
       "2  17580.0  20319.0  16691.0  13888.0  18587.0  18114.0  16576.571429  \n",
       "3      NaN   8565.0  12469.0  14768.0  11357.0  10122.0  11456.200000  \n",
       "4  22230.0  28584.0  15109.0  18475.0  15616.0  18021.0  18629.875000  "
      ]
     },
     "metadata": {},
     "output_type": "display_data"
    },
    {
     "data": {
      "text/html": [
       "<div>\n",
       "<style scoped>\n",
       "    .dataframe tbody tr th:only-of-type {\n",
       "        vertical-align: middle;\n",
       "    }\n",
       "\n",
       "    .dataframe tbody tr th {\n",
       "        vertical-align: top;\n",
       "    }\n",
       "\n",
       "    .dataframe thead th {\n",
       "        text-align: right;\n",
       "    }\n",
       "</style>\n",
       "<table border=\"1\" class=\"dataframe\">\n",
       "  <thead>\n",
       "    <tr style=\"text-align: right;\">\n",
       "      <th></th>\n",
       "      <th>mean</th>\n",
       "    </tr>\n",
       "    <tr>\n",
       "      <th>tariff</th>\n",
       "      <th></th>\n",
       "    </tr>\n",
       "  </thead>\n",
       "  <tbody>\n",
       "    <tr>\n",
       "      <th>smart</th>\n",
       "      <td>16190.0</td>\n",
       "    </tr>\n",
       "    <tr>\n",
       "      <th>ultra</th>\n",
       "      <td>19727.0</td>\n",
       "    </tr>\n",
       "  </tbody>\n",
       "</table>\n",
       "</div>"
      ],
      "text/plain": [
       "           mean\n",
       "tariff         \n",
       "smart   16190.0\n",
       "ultra   19727.0"
      ]
     },
     "metadata": {},
     "output_type": "display_data"
    }
   ],
   "source": [
    "#строим сводную таблицу по клиентам по объему израсходованного интернет-трафика по месяцам\n",
    "pivot_calls_4 = round(internet_data.pivot_table(index='user_id', columns='month', values='mb_used', aggfunc = 'sum'))\n",
    "#индексируем таблицу\n",
    "pivot_calls_4.reset_index(inplace=True)\n",
    "#переименовываем столбцы\n",
    "pivot_calls_4.columns = ['user_id','1','2','3','4','5','6','7','8','9','10','11','12']\n",
    "#добавляем сведения о клиенте\n",
    "internet = users_data.merge(pivot_calls_4, on='user_id', how='left')\n",
    "#удаляем лишние столбцы\n",
    "internet = internet.drop(['age','churn_date','city','first_name','last_name','reg_date'], axis=1)\n",
    "\n",
    "#считаем среднее количество израсходованного интернет-трафика по клиентам в месяц\n",
    "for index in range(len(internet)):\n",
    "    internet.loc[index,'mean'] = internet.loc[index,'1':'12'].mean()\n",
    "display(internet.head())\n",
    "\n",
    "#строим сводную таблицу по количеству израсходованного интернет-трафика по клиентам разных тарифов в месяц\n",
    "internet_pivot_1 = round(internet.pivot_table(index='tariff', values='mean'))\n",
    "display(internet_pivot_1)"
   ]
  },
  {
   "cell_type": "code",
   "execution_count": 13,
   "metadata": {},
   "outputs": [
    {
     "data": {
      "text/html": [
       "<div>\n",
       "<style scoped>\n",
       "    .dataframe tbody tr th:only-of-type {\n",
       "        vertical-align: middle;\n",
       "    }\n",
       "\n",
       "    .dataframe tbody tr th {\n",
       "        vertical-align: top;\n",
       "    }\n",
       "\n",
       "    .dataframe thead th {\n",
       "        text-align: right;\n",
       "    }\n",
       "</style>\n",
       "<table border=\"1\" class=\"dataframe\">\n",
       "  <thead>\n",
       "    <tr style=\"text-align: right;\">\n",
       "      <th></th>\n",
       "      <th>user_id</th>\n",
       "      <th>tariff</th>\n",
       "      <th>month</th>\n",
       "      <th>month_churn</th>\n",
       "      <th>1</th>\n",
       "      <th>2</th>\n",
       "      <th>3</th>\n",
       "      <th>4</th>\n",
       "      <th>5</th>\n",
       "      <th>6</th>\n",
       "      <th>7</th>\n",
       "      <th>8</th>\n",
       "      <th>9</th>\n",
       "      <th>10</th>\n",
       "      <th>11</th>\n",
       "      <th>12</th>\n",
       "    </tr>\n",
       "  </thead>\n",
       "  <tbody>\n",
       "    <tr>\n",
       "      <th>0</th>\n",
       "      <td>1000</td>\n",
       "      <td>ultra</td>\n",
       "      <td>5</td>\n",
       "      <td>NaN</td>\n",
       "      <td>0.0</td>\n",
       "      <td>0.0</td>\n",
       "      <td>0.0</td>\n",
       "      <td>0.0</td>\n",
       "      <td>0.0</td>\n",
       "      <td>0.0</td>\n",
       "      <td>0.0</td>\n",
       "      <td>0.0</td>\n",
       "      <td>0.0</td>\n",
       "      <td>0.0</td>\n",
       "      <td>0.0</td>\n",
       "      <td>0.0</td>\n",
       "    </tr>\n",
       "    <tr>\n",
       "      <th>1</th>\n",
       "      <td>1001</td>\n",
       "      <td>smart</td>\n",
       "      <td>11</td>\n",
       "      <td>NaN</td>\n",
       "      <td>0.0</td>\n",
       "      <td>0.0</td>\n",
       "      <td>0.0</td>\n",
       "      <td>0.0</td>\n",
       "      <td>0.0</td>\n",
       "      <td>0.0</td>\n",
       "      <td>0.0</td>\n",
       "      <td>0.0</td>\n",
       "      <td>0.0</td>\n",
       "      <td>0.0</td>\n",
       "      <td>800.0</td>\n",
       "      <td>0.0</td>\n",
       "    </tr>\n",
       "    <tr>\n",
       "      <th>2</th>\n",
       "      <td>1002</td>\n",
       "      <td>smart</td>\n",
       "      <td>6</td>\n",
       "      <td>NaN</td>\n",
       "      <td>0.0</td>\n",
       "      <td>0.0</td>\n",
       "      <td>0.0</td>\n",
       "      <td>0.0</td>\n",
       "      <td>0.0</td>\n",
       "      <td>0.0</td>\n",
       "      <td>600.0</td>\n",
       "      <td>1000.0</td>\n",
       "      <td>400.0</td>\n",
       "      <td>0.0</td>\n",
       "      <td>800.0</td>\n",
       "      <td>600.0</td>\n",
       "    </tr>\n",
       "    <tr>\n",
       "      <th>3</th>\n",
       "      <td>1003</td>\n",
       "      <td>ultra</td>\n",
       "      <td>8</td>\n",
       "      <td>NaN</td>\n",
       "      <td>0.0</td>\n",
       "      <td>0.0</td>\n",
       "      <td>0.0</td>\n",
       "      <td>0.0</td>\n",
       "      <td>0.0</td>\n",
       "      <td>0.0</td>\n",
       "      <td>0.0</td>\n",
       "      <td>0.0</td>\n",
       "      <td>0.0</td>\n",
       "      <td>0.0</td>\n",
       "      <td>0.0</td>\n",
       "      <td>0.0</td>\n",
       "    </tr>\n",
       "    <tr>\n",
       "      <th>4</th>\n",
       "      <td>1004</td>\n",
       "      <td>ultra</td>\n",
       "      <td>5</td>\n",
       "      <td>NaN</td>\n",
       "      <td>0.0</td>\n",
       "      <td>0.0</td>\n",
       "      <td>0.0</td>\n",
       "      <td>0.0</td>\n",
       "      <td>0.0</td>\n",
       "      <td>0.0</td>\n",
       "      <td>0.0</td>\n",
       "      <td>0.0</td>\n",
       "      <td>0.0</td>\n",
       "      <td>0.0</td>\n",
       "      <td>0.0</td>\n",
       "      <td>0.0</td>\n",
       "    </tr>\n",
       "  </tbody>\n",
       "</table>\n",
       "</div>"
      ],
      "text/plain": [
       "   user_id tariff  month  month_churn    1    2    3    4    5    6      7  \\\n",
       "0     1000  ultra      5          NaN  0.0  0.0  0.0  0.0  0.0  0.0    0.0   \n",
       "1     1001  smart     11          NaN  0.0  0.0  0.0  0.0  0.0  0.0    0.0   \n",
       "2     1002  smart      6          NaN  0.0  0.0  0.0  0.0  0.0  0.0  600.0   \n",
       "3     1003  ultra      8          NaN  0.0  0.0  0.0  0.0  0.0  0.0    0.0   \n",
       "4     1004  ultra      5          NaN  0.0  0.0  0.0  0.0  0.0  0.0    0.0   \n",
       "\n",
       "        8      9   10     11     12  \n",
       "0     0.0    0.0  0.0    0.0    0.0  \n",
       "1     0.0    0.0  0.0  800.0    0.0  \n",
       "2  1000.0  400.0  0.0  800.0  600.0  \n",
       "3     0.0    0.0  0.0    0.0    0.0  \n",
       "4     0.0    0.0  0.0    0.0    0.0  "
      ]
     },
     "metadata": {},
     "output_type": "display_data"
    }
   ],
   "source": [
    "internet = internet.drop(['mean'], axis=1)\n",
    "#описываем цикл для расчета выручки от трафика свыше лимита, установленного тарифом\n",
    "for column in ['1','2','3','4','5','6','7','8','9','10','11','12']:\n",
    "    for index in range(len(internet)):\n",
    "        if internet.loc[index,'tariff'] == 'smart' and internet.loc[index,column] > tarrifs_data.loc[0,'mb_per_month_included']:\n",
    "            internet.loc[index,column] = mt.ceil((internet.loc[index,column] - tarrifs_data.loc[0,'mb_per_month_included'])/1000)*tarrifs_data.loc[0,'rub_per_gb']\n",
    "        elif internet.loc[index,'tariff'] == 'ultra' and internet.loc[index,column] > tarrifs_data.loc[1,'mb_per_month_included']:\n",
    "            internet.loc[index,column] = mt.ceil((internet.loc[index,column] - tarrifs_data.loc[1,'mb_per_month_included'])/1000)*tarrifs_data.loc[1,'rub_per_gb']    \n",
    "        else:\n",
    "            internet.loc[index,column] = 0\n",
    "display(internet.head())"
   ]
  },
  {
   "cell_type": "code",
   "execution_count": 14,
   "metadata": {
    "scrolled": false
   },
   "outputs": [
    {
     "data": {
      "text/html": [
       "<div>\n",
       "<style scoped>\n",
       "    .dataframe tbody tr th:only-of-type {\n",
       "        vertical-align: middle;\n",
       "    }\n",
       "\n",
       "    .dataframe tbody tr th {\n",
       "        vertical-align: top;\n",
       "    }\n",
       "\n",
       "    .dataframe thead th {\n",
       "        text-align: right;\n",
       "    }\n",
       "</style>\n",
       "<table border=\"1\" class=\"dataframe\">\n",
       "  <thead>\n",
       "    <tr style=\"text-align: right;\">\n",
       "      <th></th>\n",
       "      <th>user_id</th>\n",
       "      <th>tariff</th>\n",
       "      <th>1</th>\n",
       "      <th>2</th>\n",
       "      <th>3</th>\n",
       "      <th>4</th>\n",
       "      <th>5</th>\n",
       "      <th>6</th>\n",
       "      <th>7</th>\n",
       "      <th>8</th>\n",
       "      <th>9</th>\n",
       "      <th>10</th>\n",
       "      <th>11</th>\n",
       "      <th>12</th>\n",
       "      <th>month</th>\n",
       "      <th>month_churn</th>\n",
       "    </tr>\n",
       "  </thead>\n",
       "  <tbody>\n",
       "    <tr>\n",
       "      <th>0</th>\n",
       "      <td>1000</td>\n",
       "      <td>ultra</td>\n",
       "      <td>0.0</td>\n",
       "      <td>0.0</td>\n",
       "      <td>0.0</td>\n",
       "      <td>0.0</td>\n",
       "      <td>1950.0</td>\n",
       "      <td>1950.0</td>\n",
       "      <td>1950.0</td>\n",
       "      <td>1950.0</td>\n",
       "      <td>1950.0</td>\n",
       "      <td>1950.0</td>\n",
       "      <td>1950.0</td>\n",
       "      <td>1950.0</td>\n",
       "      <td>5</td>\n",
       "      <td>12.0</td>\n",
       "    </tr>\n",
       "    <tr>\n",
       "      <th>1</th>\n",
       "      <td>1001</td>\n",
       "      <td>smart</td>\n",
       "      <td>0.0</td>\n",
       "      <td>0.0</td>\n",
       "      <td>0.0</td>\n",
       "      <td>0.0</td>\n",
       "      <td>0.0</td>\n",
       "      <td>0.0</td>\n",
       "      <td>0.0</td>\n",
       "      <td>0.0</td>\n",
       "      <td>0.0</td>\n",
       "      <td>0.0</td>\n",
       "      <td>1350.0</td>\n",
       "      <td>550.0</td>\n",
       "      <td>11</td>\n",
       "      <td>12.0</td>\n",
       "    </tr>\n",
       "    <tr>\n",
       "      <th>2</th>\n",
       "      <td>1002</td>\n",
       "      <td>smart</td>\n",
       "      <td>0.0</td>\n",
       "      <td>0.0</td>\n",
       "      <td>0.0</td>\n",
       "      <td>0.0</td>\n",
       "      <td>0.0</td>\n",
       "      <td>550.0</td>\n",
       "      <td>1150.0</td>\n",
       "      <td>1550.0</td>\n",
       "      <td>950.0</td>\n",
       "      <td>550.0</td>\n",
       "      <td>1350.0</td>\n",
       "      <td>1150.0</td>\n",
       "      <td>6</td>\n",
       "      <td>12.0</td>\n",
       "    </tr>\n",
       "    <tr>\n",
       "      <th>3</th>\n",
       "      <td>1003</td>\n",
       "      <td>ultra</td>\n",
       "      <td>0.0</td>\n",
       "      <td>0.0</td>\n",
       "      <td>0.0</td>\n",
       "      <td>0.0</td>\n",
       "      <td>0.0</td>\n",
       "      <td>0.0</td>\n",
       "      <td>0.0</td>\n",
       "      <td>1950.0</td>\n",
       "      <td>1950.0</td>\n",
       "      <td>1950.0</td>\n",
       "      <td>1950.0</td>\n",
       "      <td>1950.0</td>\n",
       "      <td>8</td>\n",
       "      <td>12.0</td>\n",
       "    </tr>\n",
       "    <tr>\n",
       "      <th>4</th>\n",
       "      <td>1004</td>\n",
       "      <td>ultra</td>\n",
       "      <td>0.0</td>\n",
       "      <td>0.0</td>\n",
       "      <td>0.0</td>\n",
       "      <td>0.0</td>\n",
       "      <td>1950.0</td>\n",
       "      <td>1950.0</td>\n",
       "      <td>1950.0</td>\n",
       "      <td>1950.0</td>\n",
       "      <td>1950.0</td>\n",
       "      <td>1950.0</td>\n",
       "      <td>1950.0</td>\n",
       "      <td>1950.0</td>\n",
       "      <td>5</td>\n",
       "      <td>12.0</td>\n",
       "    </tr>\n",
       "  </tbody>\n",
       "</table>\n",
       "</div>"
      ],
      "text/plain": [
       "   user_id tariff    1    2    3    4       5       6       7       8       9  \\\n",
       "0     1000  ultra  0.0  0.0  0.0  0.0  1950.0  1950.0  1950.0  1950.0  1950.0   \n",
       "1     1001  smart  0.0  0.0  0.0  0.0     0.0     0.0     0.0     0.0     0.0   \n",
       "2     1002  smart  0.0  0.0  0.0  0.0     0.0   550.0  1150.0  1550.0   950.0   \n",
       "3     1003  ultra  0.0  0.0  0.0  0.0     0.0     0.0     0.0  1950.0  1950.0   \n",
       "4     1004  ultra  0.0  0.0  0.0  0.0  1950.0  1950.0  1950.0  1950.0  1950.0   \n",
       "\n",
       "       10      11      12  month  month_churn  \n",
       "0  1950.0  1950.0  1950.0      5         12.0  \n",
       "1     0.0  1350.0   550.0     11         12.0  \n",
       "2   550.0  1350.0  1150.0      6         12.0  \n",
       "3  1950.0  1950.0  1950.0      8         12.0  \n",
       "4  1950.0  1950.0  1950.0      5         12.0  "
      ]
     },
     "metadata": {},
     "output_type": "display_data"
    },
    {
     "data": {
      "text/html": [
       "<div>\n",
       "<style scoped>\n",
       "    .dataframe tbody tr th:only-of-type {\n",
       "        vertical-align: middle;\n",
       "    }\n",
       "\n",
       "    .dataframe tbody tr th {\n",
       "        vertical-align: top;\n",
       "    }\n",
       "\n",
       "    .dataframe thead th {\n",
       "        text-align: right;\n",
       "    }\n",
       "</style>\n",
       "<table border=\"1\" class=\"dataframe\">\n",
       "  <thead>\n",
       "    <tr style=\"text-align: right;\">\n",
       "      <th></th>\n",
       "      <th>user_id</th>\n",
       "      <th>tariff</th>\n",
       "      <th>1</th>\n",
       "      <th>2</th>\n",
       "      <th>3</th>\n",
       "      <th>4</th>\n",
       "      <th>5</th>\n",
       "      <th>6</th>\n",
       "      <th>7</th>\n",
       "      <th>8</th>\n",
       "      <th>9</th>\n",
       "      <th>10</th>\n",
       "      <th>11</th>\n",
       "      <th>12</th>\n",
       "      <th>month</th>\n",
       "      <th>month_churn</th>\n",
       "      <th>mean</th>\n",
       "    </tr>\n",
       "  </thead>\n",
       "  <tbody>\n",
       "    <tr>\n",
       "      <th>0</th>\n",
       "      <td>1000</td>\n",
       "      <td>ultra</td>\n",
       "      <td>0.0</td>\n",
       "      <td>0.0</td>\n",
       "      <td>0.0</td>\n",
       "      <td>0.0</td>\n",
       "      <td>1950.0</td>\n",
       "      <td>1950.0</td>\n",
       "      <td>1950.0</td>\n",
       "      <td>1950.0</td>\n",
       "      <td>1950.0</td>\n",
       "      <td>1950.0</td>\n",
       "      <td>1950.0</td>\n",
       "      <td>1950.0</td>\n",
       "      <td>5</td>\n",
       "      <td>12.0</td>\n",
       "      <td>1950.000000</td>\n",
       "    </tr>\n",
       "    <tr>\n",
       "      <th>1</th>\n",
       "      <td>1001</td>\n",
       "      <td>smart</td>\n",
       "      <td>0.0</td>\n",
       "      <td>0.0</td>\n",
       "      <td>0.0</td>\n",
       "      <td>0.0</td>\n",
       "      <td>0.0</td>\n",
       "      <td>0.0</td>\n",
       "      <td>0.0</td>\n",
       "      <td>0.0</td>\n",
       "      <td>0.0</td>\n",
       "      <td>0.0</td>\n",
       "      <td>1350.0</td>\n",
       "      <td>550.0</td>\n",
       "      <td>11</td>\n",
       "      <td>12.0</td>\n",
       "      <td>950.000000</td>\n",
       "    </tr>\n",
       "    <tr>\n",
       "      <th>2</th>\n",
       "      <td>1002</td>\n",
       "      <td>smart</td>\n",
       "      <td>0.0</td>\n",
       "      <td>0.0</td>\n",
       "      <td>0.0</td>\n",
       "      <td>0.0</td>\n",
       "      <td>0.0</td>\n",
       "      <td>550.0</td>\n",
       "      <td>1150.0</td>\n",
       "      <td>1550.0</td>\n",
       "      <td>950.0</td>\n",
       "      <td>550.0</td>\n",
       "      <td>1350.0</td>\n",
       "      <td>1150.0</td>\n",
       "      <td>6</td>\n",
       "      <td>12.0</td>\n",
       "      <td>1035.714286</td>\n",
       "    </tr>\n",
       "    <tr>\n",
       "      <th>3</th>\n",
       "      <td>1003</td>\n",
       "      <td>ultra</td>\n",
       "      <td>0.0</td>\n",
       "      <td>0.0</td>\n",
       "      <td>0.0</td>\n",
       "      <td>0.0</td>\n",
       "      <td>0.0</td>\n",
       "      <td>0.0</td>\n",
       "      <td>0.0</td>\n",
       "      <td>1950.0</td>\n",
       "      <td>1950.0</td>\n",
       "      <td>1950.0</td>\n",
       "      <td>1950.0</td>\n",
       "      <td>1950.0</td>\n",
       "      <td>8</td>\n",
       "      <td>12.0</td>\n",
       "      <td>1950.000000</td>\n",
       "    </tr>\n",
       "    <tr>\n",
       "      <th>4</th>\n",
       "      <td>1004</td>\n",
       "      <td>ultra</td>\n",
       "      <td>0.0</td>\n",
       "      <td>0.0</td>\n",
       "      <td>0.0</td>\n",
       "      <td>0.0</td>\n",
       "      <td>1950.0</td>\n",
       "      <td>1950.0</td>\n",
       "      <td>1950.0</td>\n",
       "      <td>1950.0</td>\n",
       "      <td>1950.0</td>\n",
       "      <td>1950.0</td>\n",
       "      <td>1950.0</td>\n",
       "      <td>1950.0</td>\n",
       "      <td>5</td>\n",
       "      <td>12.0</td>\n",
       "      <td>1950.000000</td>\n",
       "    </tr>\n",
       "  </tbody>\n",
       "</table>\n",
       "</div>"
      ],
      "text/plain": [
       "   user_id tariff    1    2    3    4       5       6       7       8       9  \\\n",
       "0     1000  ultra  0.0  0.0  0.0  0.0  1950.0  1950.0  1950.0  1950.0  1950.0   \n",
       "1     1001  smart  0.0  0.0  0.0  0.0     0.0     0.0     0.0     0.0     0.0   \n",
       "2     1002  smart  0.0  0.0  0.0  0.0     0.0   550.0  1150.0  1550.0   950.0   \n",
       "3     1003  ultra  0.0  0.0  0.0  0.0     0.0     0.0     0.0  1950.0  1950.0   \n",
       "4     1004  ultra  0.0  0.0  0.0  0.0  1950.0  1950.0  1950.0  1950.0  1950.0   \n",
       "\n",
       "       10      11      12  month  month_churn         mean  \n",
       "0  1950.0  1950.0  1950.0      5         12.0  1950.000000  \n",
       "1     0.0  1350.0   550.0     11         12.0   950.000000  \n",
       "2   550.0  1350.0  1150.0      6         12.0  1035.714286  \n",
       "3  1950.0  1950.0  1950.0      8         12.0  1950.000000  \n",
       "4  1950.0  1950.0  1950.0      5         12.0  1950.000000  "
      ]
     },
     "metadata": {},
     "output_type": "display_data"
    },
    {
     "data": {
      "text/html": [
       "<div>\n",
       "<style scoped>\n",
       "    .dataframe tbody tr th:only-of-type {\n",
       "        vertical-align: middle;\n",
       "    }\n",
       "\n",
       "    .dataframe tbody tr th {\n",
       "        vertical-align: top;\n",
       "    }\n",
       "\n",
       "    .dataframe thead th {\n",
       "        text-align: right;\n",
       "    }\n",
       "</style>\n",
       "<table border=\"1\" class=\"dataframe\">\n",
       "  <thead>\n",
       "    <tr style=\"text-align: right;\">\n",
       "      <th></th>\n",
       "      <th>mean</th>\n",
       "      <th>median</th>\n",
       "    </tr>\n",
       "    <tr>\n",
       "      <th>tariff</th>\n",
       "      <th></th>\n",
       "      <th></th>\n",
       "    </tr>\n",
       "  </thead>\n",
       "  <tbody>\n",
       "    <tr>\n",
       "      <th>smart</th>\n",
       "      <td>1335.0</td>\n",
       "      <td>1190.0</td>\n",
       "    </tr>\n",
       "    <tr>\n",
       "      <th>ultra</th>\n",
       "      <td>2089.0</td>\n",
       "      <td>1950.0</td>\n",
       "    </tr>\n",
       "  </tbody>\n",
       "</table>\n",
       "</div>"
      ],
      "text/plain": [
       "          mean  median\n",
       "tariff                \n",
       "smart   1335.0  1190.0\n",
       "ultra   2089.0  1950.0"
      ]
     },
     "metadata": {},
     "output_type": "display_data"
    }
   ],
   "source": [
    "#строим таблицу для расчета помесячной выручки для клиента\n",
    "all_data = pd.DataFrame(columns=['user_id','tariff','1','2','3','4','5','6','7','8','9','10','11','12'])\n",
    "all_data['user_id'] = users_data['user_id']\n",
    "all_data['tariff'] = users_data['tariff']\n",
    "all_data['month'] = users_data['month']\n",
    "all_data['month_churn'] = users_data['month_churn']\n",
    "all_data['month_churn'] = all_data['month_churn'].fillna(12)\n",
    "\n",
    "#описываем цикл для расчета выручки от всех видов связи, в связи с превышением предусмотренных тарифом объемов\n",
    "for column in ['1','2','3','4','5','6','7','8','9','10','11','12']:\n",
    "    for index in range(len(all_data)):\n",
    "        all_data.loc[index,column] = calls.loc[index,column]+messages.loc[index,column]+internet.loc[index,column]\n",
    "\n",
    "#описываем цикл для расчета выручки от стоимости тарифного плана \n",
    "for column in ['1','2','3','4','5','6','7','8','9','10','11','12']:\n",
    "    for index in range(len(all_data)):\n",
    "        if all_data.loc[index,'tariff'] == 'smart' and all_data.loc[index,'month'] <= pd.to_numeric(column) <= all_data.loc[index,'month_churn']:\n",
    "            all_data.loc[index,column] = all_data.loc[index,column] + tarrifs_data.loc[0,'rub_monthly_fee']\n",
    "        elif all_data.loc[index,'tariff'] == 'ultra' and all_data.loc[index,'month'] <= pd.to_numeric(column) <= all_data.loc[index,'month_churn']:\n",
    "            all_data.loc[index,column] = all_data.loc[index,column] + tarrifs_data.loc[1,'rub_monthly_fee']\n",
    "display(all_data.head())\n",
    "\n",
    "#описываем цикл для расчета среднего значения помесячной выручки\n",
    "for index in range(len(all_data)):\n",
    "    all_data.loc[index,'mean'] = all_data.loc[index,'1':'12'].sum()/(all_data.loc[index,'month_churn']-all_data.loc[index,'month']+1)\n",
    "display(all_data.head())\n",
    "\n",
    "#строим сводную таблицу среднего значения помесячной выручки по клиентам разных тарифов в месяц\n",
    "all_data_pivot = round(all_data.pivot_table(index='tariff', values='mean', aggfunc=['mean','median']))\n",
    "all_data_pivot.columns = ['mean','median']\n",
    "display(all_data_pivot.head())"
   ]
  },
  {
   "cell_type": "markdown",
   "metadata": {},
   "source": [
    "### Вывод\n",
    "1. Среднее месячное количество звонков пользователя тарифа smart 59, пользователя тарифа ultra 76 звонков.\n",
    "2. Среднее месячное количество израсходованных на звонки минут пользователя тарифа smart 421, пользователя тарифа ultra 547 минут.\n",
    "3. Среднее месячное количество отправленных сообщений пользователя тарифа smart 38, пользователя тарифа ultra 65 сообщений.\n",
    "4. Среднее месячное количество мегабайт интернет-трафика пользователя тарифа smart 16190, пользователя тарифа ultra 19727 мегабайт.\n",
    "5. Средняя месячная выручка пользователя тарифа smart 1335 рублей, пользователя тарифа ultra 2089 рублей.\n",
    "6. Медианная месячная выручка пользователя тарифа smart 1151 рублей, пользователя тарифа ultra 1950 рублей.\n",
    "\n",
    "Пользователям обоих тарифов достаточно предусмотренных тарифами предоплаченных минут и сообщений, превышения очень редкие.\n",
    "\n",
    "Пользователи тарифа smart не укладываются в предусмотренный тарифом предел интернет-трафика, поэтому для пользователей этого тарифа значительно возрастает сумма общего платежа по сравнению с установленной тарифом суммой. Средний платеж 1335 руб. против 550 руб. предусмотренных тарифом. \n",
    "\n",
    "Пользователям тарифа ultra достаточно предусмотренного тарифом интернет-трафика, среднее значение по тарифу значительно ниже предусмотренного, 19727 мб против 30720 мб. По этой причине средний платеж пользователя тарифа ultra, равный 2089 руб. незначительно выше предусмотренных тарифом 1950 руб."
   ]
  },
  {
   "cell_type": "markdown",
   "metadata": {},
   "source": [
    "## Анализ данных"
   ]
  },
  {
   "cell_type": "code",
   "execution_count": 15,
   "metadata": {
    "scrolled": false
   },
   "outputs": [
    {
     "data": {
      "text/html": [
       "<div>\n",
       "<style scoped>\n",
       "    .dataframe tbody tr th:only-of-type {\n",
       "        vertical-align: middle;\n",
       "    }\n",
       "\n",
       "    .dataframe tbody tr th {\n",
       "        vertical-align: top;\n",
       "    }\n",
       "\n",
       "    .dataframe thead th {\n",
       "        text-align: right;\n",
       "    }\n",
       "</style>\n",
       "<table border=\"1\" class=\"dataframe\">\n",
       "  <thead>\n",
       "    <tr style=\"text-align: right;\">\n",
       "      <th></th>\n",
       "      <th>user_id</th>\n",
       "      <th>tariff</th>\n",
       "      <th>1</th>\n",
       "      <th>2</th>\n",
       "      <th>3</th>\n",
       "      <th>4</th>\n",
       "      <th>5</th>\n",
       "      <th>6</th>\n",
       "      <th>7</th>\n",
       "      <th>8</th>\n",
       "      <th>9</th>\n",
       "      <th>10</th>\n",
       "      <th>11</th>\n",
       "      <th>12</th>\n",
       "      <th>month</th>\n",
       "      <th>month_churn</th>\n",
       "      <th>mean</th>\n",
       "      <th>city</th>\n",
       "      <th>city_category</th>\n",
       "    </tr>\n",
       "  </thead>\n",
       "  <tbody>\n",
       "    <tr>\n",
       "      <th>1</th>\n",
       "      <td>1001</td>\n",
       "      <td>smart</td>\n",
       "      <td>0.0</td>\n",
       "      <td>0.0</td>\n",
       "      <td>0.0</td>\n",
       "      <td>0.0</td>\n",
       "      <td>0.0</td>\n",
       "      <td>0.0</td>\n",
       "      <td>0.0</td>\n",
       "      <td>0.0</td>\n",
       "      <td>0.0</td>\n",
       "      <td>0.0</td>\n",
       "      <td>1350.0</td>\n",
       "      <td>550.0</td>\n",
       "      <td>11</td>\n",
       "      <td>12.0</td>\n",
       "      <td>950.000000</td>\n",
       "      <td>Москва</td>\n",
       "      <td>mosc</td>\n",
       "    </tr>\n",
       "    <tr>\n",
       "      <th>2</th>\n",
       "      <td>1002</td>\n",
       "      <td>smart</td>\n",
       "      <td>0.0</td>\n",
       "      <td>0.0</td>\n",
       "      <td>0.0</td>\n",
       "      <td>0.0</td>\n",
       "      <td>0.0</td>\n",
       "      <td>550.0</td>\n",
       "      <td>1150.0</td>\n",
       "      <td>1550.0</td>\n",
       "      <td>950.0</td>\n",
       "      <td>550.0</td>\n",
       "      <td>1350.0</td>\n",
       "      <td>1150.0</td>\n",
       "      <td>6</td>\n",
       "      <td>12.0</td>\n",
       "      <td>1035.714286</td>\n",
       "      <td>Стерлитамак</td>\n",
       "      <td>other</td>\n",
       "    </tr>\n",
       "    <tr>\n",
       "      <th>5</th>\n",
       "      <td>1005</td>\n",
       "      <td>smart</td>\n",
       "      <td>550.0</td>\n",
       "      <td>550.0</td>\n",
       "      <td>886.0</td>\n",
       "      <td>1186.0</td>\n",
       "      <td>835.0</td>\n",
       "      <td>886.0</td>\n",
       "      <td>775.0</td>\n",
       "      <td>949.0</td>\n",
       "      <td>556.0</td>\n",
       "      <td>1219.0</td>\n",
       "      <td>694.0</td>\n",
       "      <td>838.0</td>\n",
       "      <td>1</td>\n",
       "      <td>12.0</td>\n",
       "      <td>827.000000</td>\n",
       "      <td>Набережные Челны</td>\n",
       "      <td>other</td>\n",
       "    </tr>\n",
       "    <tr>\n",
       "      <th>6</th>\n",
       "      <td>1006</td>\n",
       "      <td>smart</td>\n",
       "      <td>0.0</td>\n",
       "      <td>550.0</td>\n",
       "      <td>950.0</td>\n",
       "      <td>550.0</td>\n",
       "      <td>550.0</td>\n",
       "      <td>550.0</td>\n",
       "      <td>1550.0</td>\n",
       "      <td>1350.0</td>\n",
       "      <td>750.0</td>\n",
       "      <td>1550.0</td>\n",
       "      <td>550.0</td>\n",
       "      <td>1350.0</td>\n",
       "      <td>2</td>\n",
       "      <td>12.0</td>\n",
       "      <td>931.818182</td>\n",
       "      <td>Ульяновск</td>\n",
       "      <td>other</td>\n",
       "    </tr>\n",
       "    <tr>\n",
       "      <th>7</th>\n",
       "      <td>1007</td>\n",
       "      <td>smart</td>\n",
       "      <td>0.0</td>\n",
       "      <td>0.0</td>\n",
       "      <td>0.0</td>\n",
       "      <td>550.0</td>\n",
       "      <td>1150.0</td>\n",
       "      <td>685.0</td>\n",
       "      <td>981.0</td>\n",
       "      <td>1750.0</td>\n",
       "      <td>1015.0</td>\n",
       "      <td>550.0</td>\n",
       "      <td>1190.0</td>\n",
       "      <td>550.0</td>\n",
       "      <td>4</td>\n",
       "      <td>12.0</td>\n",
       "      <td>935.666667</td>\n",
       "      <td>Москва</td>\n",
       "      <td>mosc</td>\n",
       "    </tr>\n",
       "  </tbody>\n",
       "</table>\n",
       "</div>"
      ],
      "text/plain": [
       "   user_id tariff      1      2      3       4       5      6       7       8  \\\n",
       "1     1001  smart    0.0    0.0    0.0     0.0     0.0    0.0     0.0     0.0   \n",
       "2     1002  smart    0.0    0.0    0.0     0.0     0.0  550.0  1150.0  1550.0   \n",
       "5     1005  smart  550.0  550.0  886.0  1186.0   835.0  886.0   775.0   949.0   \n",
       "6     1006  smart    0.0  550.0  950.0   550.0   550.0  550.0  1550.0  1350.0   \n",
       "7     1007  smart    0.0    0.0    0.0   550.0  1150.0  685.0   981.0  1750.0   \n",
       "\n",
       "        9      10      11      12  month  month_churn         mean  \\\n",
       "1     0.0     0.0  1350.0   550.0     11         12.0   950.000000   \n",
       "2   950.0   550.0  1350.0  1150.0      6         12.0  1035.714286   \n",
       "5   556.0  1219.0   694.0   838.0      1         12.0   827.000000   \n",
       "6   750.0  1550.0   550.0  1350.0      2         12.0   931.818182   \n",
       "7  1015.0   550.0  1190.0   550.0      4         12.0   935.666667   \n",
       "\n",
       "               city city_category  \n",
       "1            Москва          mosc  \n",
       "2       Стерлитамак         other  \n",
       "5  Набережные Челны         other  \n",
       "6         Ульяновск         other  \n",
       "7            Москва          mosc  "
      ]
     },
     "metadata": {},
     "output_type": "display_data"
    },
    {
     "name": "stdout",
     "output_type": "stream",
     "text": [
      "379127.26715773746\n",
      "615.7331135790388\n"
     ]
    },
    {
     "data": {
      "image/png": "[encoded data removed]",
      "text/plain": [
       "<Figure size 432x288 with 1 Axes>"
      ]
     },
     "metadata": {
      "needs_background": "light"
     },
     "output_type": "display_data"
    }
   ],
   "source": [
    "all_data['city'] = users_data['city']\n",
    "#создаем функцию, которая проводит категоризацию города проживания пользователя\n",
    "def city_category(city):\n",
    "    if city == 'Москва':\n",
    "        return 'mosc'\n",
    "    else:\n",
    "        return 'other'\n",
    "#применение функции методом apply() к данным из all_data['city'] и внесение итогового результата в столбец\n",
    "#all_data['city_category']\n",
    "all_data['city_category'] = all_data['city'].apply(city_category)\n",
    "\n",
    "#выбираем отдельную таблицу пользователей тарифа smart\n",
    "all_data_smart = all_data.query('tariff == \"smart\"')\n",
    "\n",
    "display(all_data_smart.head())\n",
    "#рассчитываем вариацию для выборки\n",
    "variance = np.var(all_data_smart['mean'])\n",
    "print(variance)\n",
    "#рассчитываем стандартное отклонение для выборки\n",
    "standard_deviation = np.sqrt(variance)\n",
    "print(standard_deviation)\n",
    "#строим гистограмму распределения\n",
    "all_data_smart['mean'].hist()\n",
    "plt.title(\"Гистограмма распределения помесячной выручки всех пользователей тарифа Смарт\")\n",
    "plt.xlabel(\"Выручка\")\n",
    "plt.ylabel(\"Количество\")\n",
    "plt.show()"
   ]
  },
  {
   "cell_type": "code",
   "execution_count": 16,
   "metadata": {
    "scrolled": false
   },
   "outputs": [
    {
     "data": {
      "text/html": [
       "<div>\n",
       "<style scoped>\n",
       "    .dataframe tbody tr th:only-of-type {\n",
       "        vertical-align: middle;\n",
       "    }\n",
       "\n",
       "    .dataframe tbody tr th {\n",
       "        vertical-align: top;\n",
       "    }\n",
       "\n",
       "    .dataframe thead th {\n",
       "        text-align: right;\n",
       "    }\n",
       "</style>\n",
       "<table border=\"1\" class=\"dataframe\">\n",
       "  <thead>\n",
       "    <tr style=\"text-align: right;\">\n",
       "      <th></th>\n",
       "      <th>user_id</th>\n",
       "      <th>tariff</th>\n",
       "      <th>1</th>\n",
       "      <th>2</th>\n",
       "      <th>3</th>\n",
       "      <th>4</th>\n",
       "      <th>5</th>\n",
       "      <th>6</th>\n",
       "      <th>7</th>\n",
       "      <th>8</th>\n",
       "      <th>9</th>\n",
       "      <th>10</th>\n",
       "      <th>11</th>\n",
       "      <th>12</th>\n",
       "      <th>month</th>\n",
       "      <th>month_churn</th>\n",
       "      <th>mean</th>\n",
       "      <th>city</th>\n",
       "      <th>city_category</th>\n",
       "    </tr>\n",
       "  </thead>\n",
       "  <tbody>\n",
       "    <tr>\n",
       "      <th>0</th>\n",
       "      <td>1000</td>\n",
       "      <td>ultra</td>\n",
       "      <td>0.0</td>\n",
       "      <td>0.0</td>\n",
       "      <td>0.0</td>\n",
       "      <td>0.0</td>\n",
       "      <td>1950.0</td>\n",
       "      <td>1950.0</td>\n",
       "      <td>1950.0</td>\n",
       "      <td>1950.0</td>\n",
       "      <td>1950.0</td>\n",
       "      <td>1950.0</td>\n",
       "      <td>1950.0</td>\n",
       "      <td>1950.0</td>\n",
       "      <td>5</td>\n",
       "      <td>12.0</td>\n",
       "      <td>1950.0</td>\n",
       "      <td>Краснодар</td>\n",
       "      <td>other</td>\n",
       "    </tr>\n",
       "    <tr>\n",
       "      <th>3</th>\n",
       "      <td>1003</td>\n",
       "      <td>ultra</td>\n",
       "      <td>0.0</td>\n",
       "      <td>0.0</td>\n",
       "      <td>0.0</td>\n",
       "      <td>0.0</td>\n",
       "      <td>0.0</td>\n",
       "      <td>0.0</td>\n",
       "      <td>0.0</td>\n",
       "      <td>1950.0</td>\n",
       "      <td>1950.0</td>\n",
       "      <td>1950.0</td>\n",
       "      <td>1950.0</td>\n",
       "      <td>1950.0</td>\n",
       "      <td>8</td>\n",
       "      <td>12.0</td>\n",
       "      <td>1950.0</td>\n",
       "      <td>Москва</td>\n",
       "      <td>mosc</td>\n",
       "    </tr>\n",
       "    <tr>\n",
       "      <th>4</th>\n",
       "      <td>1004</td>\n",
       "      <td>ultra</td>\n",
       "      <td>0.0</td>\n",
       "      <td>0.0</td>\n",
       "      <td>0.0</td>\n",
       "      <td>0.0</td>\n",
       "      <td>1950.0</td>\n",
       "      <td>1950.0</td>\n",
       "      <td>1950.0</td>\n",
       "      <td>1950.0</td>\n",
       "      <td>1950.0</td>\n",
       "      <td>1950.0</td>\n",
       "      <td>1950.0</td>\n",
       "      <td>1950.0</td>\n",
       "      <td>5</td>\n",
       "      <td>12.0</td>\n",
       "      <td>1950.0</td>\n",
       "      <td>Новокузнецк</td>\n",
       "      <td>other</td>\n",
       "    </tr>\n",
       "    <tr>\n",
       "      <th>13</th>\n",
       "      <td>1013</td>\n",
       "      <td>ultra</td>\n",
       "      <td>0.0</td>\n",
       "      <td>0.0</td>\n",
       "      <td>0.0</td>\n",
       "      <td>0.0</td>\n",
       "      <td>0.0</td>\n",
       "      <td>0.0</td>\n",
       "      <td>0.0</td>\n",
       "      <td>0.0</td>\n",
       "      <td>0.0</td>\n",
       "      <td>0.0</td>\n",
       "      <td>1950.0</td>\n",
       "      <td>1950.0</td>\n",
       "      <td>11</td>\n",
       "      <td>12.0</td>\n",
       "      <td>1950.0</td>\n",
       "      <td>Иваново</td>\n",
       "      <td>other</td>\n",
       "    </tr>\n",
       "    <tr>\n",
       "      <th>16</th>\n",
       "      <td>1016</td>\n",
       "      <td>ultra</td>\n",
       "      <td>0.0</td>\n",
       "      <td>0.0</td>\n",
       "      <td>0.0</td>\n",
       "      <td>0.0</td>\n",
       "      <td>0.0</td>\n",
       "      <td>0.0</td>\n",
       "      <td>0.0</td>\n",
       "      <td>0.0</td>\n",
       "      <td>0.0</td>\n",
       "      <td>0.0</td>\n",
       "      <td>1950.0</td>\n",
       "      <td>1950.0</td>\n",
       "      <td>11</td>\n",
       "      <td>12.0</td>\n",
       "      <td>1950.0</td>\n",
       "      <td>Омск</td>\n",
       "      <td>other</td>\n",
       "    </tr>\n",
       "  </tbody>\n",
       "</table>\n",
       "</div>"
      ],
      "text/plain": [
       "    user_id tariff    1    2    3    4       5       6       7       8  \\\n",
       "0      1000  ultra  0.0  0.0  0.0  0.0  1950.0  1950.0  1950.0  1950.0   \n",
       "3      1003  ultra  0.0  0.0  0.0  0.0     0.0     0.0     0.0  1950.0   \n",
       "4      1004  ultra  0.0  0.0  0.0  0.0  1950.0  1950.0  1950.0  1950.0   \n",
       "13     1013  ultra  0.0  0.0  0.0  0.0     0.0     0.0     0.0     0.0   \n",
       "16     1016  ultra  0.0  0.0  0.0  0.0     0.0     0.0     0.0     0.0   \n",
       "\n",
       "         9      10      11      12  month  month_churn    mean         city  \\\n",
       "0   1950.0  1950.0  1950.0  1950.0      5         12.0  1950.0    Краснодар   \n",
       "3   1950.0  1950.0  1950.0  1950.0      8         12.0  1950.0       Москва   \n",
       "4   1950.0  1950.0  1950.0  1950.0      5         12.0  1950.0  Новокузнецк   \n",
       "13     0.0     0.0  1950.0  1950.0     11         12.0  1950.0      Иваново   \n",
       "16     0.0     0.0  1950.0  1950.0     11         12.0  1950.0         Омск   \n",
       "\n",
       "   city_category  \n",
       "0          other  \n",
       "3           mosc  \n",
       "4          other  \n",
       "13         other  \n",
       "16         other  "
      ]
     },
     "metadata": {},
     "output_type": "display_data"
    },
    {
     "name": "stdout",
     "output_type": "stream",
     "text": [
      "93136.47475946049\n",
      "305.1826907926799\n"
     ]
    },
    {
     "data": {
      "image/png": "[encoded data removed]",
      "text/plain": [
       "<Figure size 432x288 with 1 Axes>"
      ]
     },
     "metadata": {
      "needs_background": "light"
     },
     "output_type": "display_data"
    }
   ],
   "source": [
    "#выбираем отдельную таблицу пользователей тарифа ultra\n",
    "all_data_ultra = all_data.query('tariff == \"ultra\"')\n",
    "\n",
    "display(all_data_ultra.head())\n",
    "#рассчитываем вариацию для выборки\n",
    "variance = np.var(all_data_ultra['mean'])\n",
    "print(variance)\n",
    "#рассчитываем стандартное отклонение для выборки\n",
    "standard_deviation = np.sqrt(variance)\n",
    "print(standard_deviation)\n",
    "#строим гистограмму распределения\n",
    "all_data_ultra['mean'].hist()\n",
    "plt.title(\"Гистограмма распределения помесячной выручки всех пользователей тарифа Ультра\")\n",
    "plt.xlabel(\"Выручка\")\n",
    "plt.ylabel(\"Количество\")\n",
    "plt.show()"
   ]
  },
  {
   "cell_type": "markdown",
   "metadata": {},
   "source": [
    "### Вывод"
   ]
  },
  {
   "cell_type": "markdown",
   "metadata": {},
   "source": [
    "Средняя месячная выручка пользователя тарифа smart 1335 рублей. Дисперсия для выборки тарифа smart составляет 379127, стандартное отклонение 615. Таким образом, значения средней выручки пользователя тарифа smart вхоодят в диапазон от 550 до 2395 рублей. Гистограмма, построенная по данному датасету скошена вправо, медианная месячная выручка меньше среднего значения месячной выручки.\n",
    "\n",
    "Средняя месячная выручка пользователя тарифа ultra 2089 рублей. Дисперсия для выборки тарифа ultra составляет 93136, стандартное отклонение 305. Таким образом, значения средней выручки пользователя тарифа ultra вхоодят в диапазон от 1950 до 2965 рублей. Гистограмма, построенная по данному датасету скошена вправо, медианная месячная выручка меньше среднего значения месячной выручки."
   ]
  },
  {
   "cell_type": "markdown",
   "metadata": {},
   "source": [
    "## Проверка гипотез"
   ]
  },
  {
   "cell_type": "code",
   "execution_count": 17,
   "metadata": {
    "scrolled": false
   },
   "outputs": [
    {
     "data": {
      "text/html": [
       "<div>\n",
       "<style scoped>\n",
       "    .dataframe tbody tr th:only-of-type {\n",
       "        vertical-align: middle;\n",
       "    }\n",
       "\n",
       "    .dataframe tbody tr th {\n",
       "        vertical-align: top;\n",
       "    }\n",
       "\n",
       "    .dataframe thead th {\n",
       "        text-align: right;\n",
       "    }\n",
       "</style>\n",
       "<table border=\"1\" class=\"dataframe\">\n",
       "  <thead>\n",
       "    <tr style=\"text-align: right;\">\n",
       "      <th></th>\n",
       "      <th>mean</th>\n",
       "    </tr>\n",
       "    <tr>\n",
       "      <th>city_category</th>\n",
       "      <th></th>\n",
       "    </tr>\n",
       "  </thead>\n",
       "  <tbody>\n",
       "    <tr>\n",
       "      <th>mosc</th>\n",
       "      <td>1242.0</td>\n",
       "    </tr>\n",
       "    <tr>\n",
       "      <th>other</th>\n",
       "      <td>1357.0</td>\n",
       "    </tr>\n",
       "  </tbody>\n",
       "</table>\n",
       "</div>"
      ],
      "text/plain": [
       "                 mean\n",
       "city_category        \n",
       "mosc           1242.0\n",
       "other          1357.0"
      ]
     },
     "metadata": {},
     "output_type": "display_data"
    },
    {
     "data": {
      "text/html": [
       "<div>\n",
       "<style scoped>\n",
       "    .dataframe tbody tr th:only-of-type {\n",
       "        vertical-align: middle;\n",
       "    }\n",
       "\n",
       "    .dataframe tbody tr th {\n",
       "        vertical-align: top;\n",
       "    }\n",
       "\n",
       "    .dataframe thead th {\n",
       "        text-align: right;\n",
       "    }\n",
       "</style>\n",
       "<table border=\"1\" class=\"dataframe\">\n",
       "  <thead>\n",
       "    <tr style=\"text-align: right;\">\n",
       "      <th></th>\n",
       "      <th>user_id</th>\n",
       "      <th>tariff</th>\n",
       "      <th>1</th>\n",
       "      <th>2</th>\n",
       "      <th>3</th>\n",
       "      <th>4</th>\n",
       "      <th>5</th>\n",
       "      <th>6</th>\n",
       "      <th>7</th>\n",
       "      <th>8</th>\n",
       "      <th>9</th>\n",
       "      <th>10</th>\n",
       "      <th>11</th>\n",
       "      <th>12</th>\n",
       "      <th>month</th>\n",
       "      <th>month_churn</th>\n",
       "      <th>mean</th>\n",
       "      <th>city</th>\n",
       "      <th>city_category</th>\n",
       "    </tr>\n",
       "  </thead>\n",
       "  <tbody>\n",
       "    <tr>\n",
       "      <th>1</th>\n",
       "      <td>1001</td>\n",
       "      <td>smart</td>\n",
       "      <td>0.0</td>\n",
       "      <td>0.0</td>\n",
       "      <td>0.0</td>\n",
       "      <td>0.0</td>\n",
       "      <td>0.0</td>\n",
       "      <td>0.0</td>\n",
       "      <td>0.0</td>\n",
       "      <td>0.0</td>\n",
       "      <td>0.0</td>\n",
       "      <td>0.0</td>\n",
       "      <td>1350.0</td>\n",
       "      <td>550.0</td>\n",
       "      <td>11</td>\n",
       "      <td>12.0</td>\n",
       "      <td>950.000000</td>\n",
       "      <td>Москва</td>\n",
       "      <td>mosc</td>\n",
       "    </tr>\n",
       "    <tr>\n",
       "      <th>7</th>\n",
       "      <td>1007</td>\n",
       "      <td>smart</td>\n",
       "      <td>0.0</td>\n",
       "      <td>0.0</td>\n",
       "      <td>0.0</td>\n",
       "      <td>550.0</td>\n",
       "      <td>1150.0</td>\n",
       "      <td>685.0</td>\n",
       "      <td>981.0</td>\n",
       "      <td>1750.0</td>\n",
       "      <td>1015.0</td>\n",
       "      <td>550.0</td>\n",
       "      <td>1190.0</td>\n",
       "      <td>550.0</td>\n",
       "      <td>4</td>\n",
       "      <td>12.0</td>\n",
       "      <td>935.666667</td>\n",
       "      <td>Москва</td>\n",
       "      <td>mosc</td>\n",
       "    </tr>\n",
       "    <tr>\n",
       "      <th>31</th>\n",
       "      <td>1031</td>\n",
       "      <td>smart</td>\n",
       "      <td>0.0</td>\n",
       "      <td>0.0</td>\n",
       "      <td>0.0</td>\n",
       "      <td>0.0</td>\n",
       "      <td>0.0</td>\n",
       "      <td>0.0</td>\n",
       "      <td>0.0</td>\n",
       "      <td>0.0</td>\n",
       "      <td>0.0</td>\n",
       "      <td>0.0</td>\n",
       "      <td>1045.0</td>\n",
       "      <td>736.0</td>\n",
       "      <td>11</td>\n",
       "      <td>12.0</td>\n",
       "      <td>890.500000</td>\n",
       "      <td>Москва</td>\n",
       "      <td>mosc</td>\n",
       "    </tr>\n",
       "    <tr>\n",
       "      <th>33</th>\n",
       "      <td>1033</td>\n",
       "      <td>smart</td>\n",
       "      <td>0.0</td>\n",
       "      <td>0.0</td>\n",
       "      <td>0.0</td>\n",
       "      <td>0.0</td>\n",
       "      <td>0.0</td>\n",
       "      <td>0.0</td>\n",
       "      <td>550.0</td>\n",
       "      <td>2031.0</td>\n",
       "      <td>2831.0</td>\n",
       "      <td>1640.0</td>\n",
       "      <td>2616.0</td>\n",
       "      <td>1816.0</td>\n",
       "      <td>7</td>\n",
       "      <td>12.0</td>\n",
       "      <td>1914.000000</td>\n",
       "      <td>Москва</td>\n",
       "      <td>mosc</td>\n",
       "    </tr>\n",
       "    <tr>\n",
       "      <th>38</th>\n",
       "      <td>1038</td>\n",
       "      <td>smart</td>\n",
       "      <td>0.0</td>\n",
       "      <td>0.0</td>\n",
       "      <td>0.0</td>\n",
       "      <td>0.0</td>\n",
       "      <td>0.0</td>\n",
       "      <td>0.0</td>\n",
       "      <td>0.0</td>\n",
       "      <td>0.0</td>\n",
       "      <td>0.0</td>\n",
       "      <td>950.0</td>\n",
       "      <td>550.0</td>\n",
       "      <td>950.0</td>\n",
       "      <td>10</td>\n",
       "      <td>12.0</td>\n",
       "      <td>816.666667</td>\n",
       "      <td>Москва</td>\n",
       "      <td>mosc</td>\n",
       "    </tr>\n",
       "  </tbody>\n",
       "</table>\n",
       "</div>"
      ],
      "text/plain": [
       "    user_id tariff    1    2    3      4       5      6      7       8  \\\n",
       "1      1001  smart  0.0  0.0  0.0    0.0     0.0    0.0    0.0     0.0   \n",
       "7      1007  smart  0.0  0.0  0.0  550.0  1150.0  685.0  981.0  1750.0   \n",
       "31     1031  smart  0.0  0.0  0.0    0.0     0.0    0.0    0.0     0.0   \n",
       "33     1033  smart  0.0  0.0  0.0    0.0     0.0    0.0  550.0  2031.0   \n",
       "38     1038  smart  0.0  0.0  0.0    0.0     0.0    0.0    0.0     0.0   \n",
       "\n",
       "         9      10      11      12  month  month_churn         mean    city  \\\n",
       "1      0.0     0.0  1350.0   550.0     11         12.0   950.000000  Москва   \n",
       "7   1015.0   550.0  1190.0   550.0      4         12.0   935.666667  Москва   \n",
       "31     0.0     0.0  1045.0   736.0     11         12.0   890.500000  Москва   \n",
       "33  2831.0  1640.0  2616.0  1816.0      7         12.0  1914.000000  Москва   \n",
       "38     0.0   950.0   550.0   950.0     10         12.0   816.666667  Москва   \n",
       "\n",
       "   city_category  \n",
       "1           mosc  \n",
       "7           mosc  \n",
       "31          mosc  \n",
       "33          mosc  \n",
       "38          mosc  "
      ]
     },
     "metadata": {},
     "output_type": "display_data"
    },
    {
     "name": "stdout",
     "output_type": "stream",
     "text": [
      "302562.3461504841\n",
      "550.0566753985303\n"
     ]
    },
    {
     "data": {
      "image/png": "[encoded data removed]",
      "text/plain": [
       "<Figure size 432x288 with 1 Axes>"
      ]
     },
     "metadata": {
      "needs_background": "light"
     },
     "output_type": "display_data"
    }
   ],
   "source": [
    "#строим сводную таблицу среднего значения помесячной выручки для пользователей тарифа smart из Москвы и остальных городов\n",
    "all_data_smart_pivot = round(all_data_smart.pivot_table(index='city_category', values='mean'))\n",
    "display(all_data_smart_pivot.head())\n",
    "\n",
    "#выбираем отдельную таблицу пользователей тарифа smart из Москвы\n",
    "all_data_s_mosc = all_data_smart.query('city_category == \"mosc\"')\n",
    "display(all_data_s_mosc.head())\n",
    "\n",
    "#рассчитываем вариацию для выборки\n",
    "variance = np.var(all_data_s_mosc['mean'])\n",
    "print(variance)\n",
    "#рассчитываем стандартное отклонение для выборки\n",
    "standard_deviation = np.sqrt(variance)\n",
    "print(standard_deviation)\n",
    "#строим гистограмму распределения\n",
    "all_data_s_mosc['mean'].hist()\n",
    "plt.title(\"Гистограмма распределения помесячной выручки пользователей тарифа Смарт из Москвы\")\n",
    "plt.xlabel(\"Выручка\")\n",
    "plt.ylabel(\"Количество\")\n",
    "plt.show()"
   ]
  },
  {
   "cell_type": "code",
   "execution_count": 18,
   "metadata": {},
   "outputs": [
    {
     "data": {
      "text/html": [
       "<div>\n",
       "<style scoped>\n",
       "    .dataframe tbody tr th:only-of-type {\n",
       "        vertical-align: middle;\n",
       "    }\n",
       "\n",
       "    .dataframe tbody tr th {\n",
       "        vertical-align: top;\n",
       "    }\n",
       "\n",
       "    .dataframe thead th {\n",
       "        text-align: right;\n",
       "    }\n",
       "</style>\n",
       "<table border=\"1\" class=\"dataframe\">\n",
       "  <thead>\n",
       "    <tr style=\"text-align: right;\">\n",
       "      <th></th>\n",
       "      <th>user_id</th>\n",
       "      <th>tariff</th>\n",
       "      <th>1</th>\n",
       "      <th>2</th>\n",
       "      <th>3</th>\n",
       "      <th>4</th>\n",
       "      <th>5</th>\n",
       "      <th>6</th>\n",
       "      <th>7</th>\n",
       "      <th>8</th>\n",
       "      <th>9</th>\n",
       "      <th>10</th>\n",
       "      <th>11</th>\n",
       "      <th>12</th>\n",
       "      <th>month</th>\n",
       "      <th>month_churn</th>\n",
       "      <th>mean</th>\n",
       "      <th>city</th>\n",
       "      <th>city_category</th>\n",
       "    </tr>\n",
       "  </thead>\n",
       "  <tbody>\n",
       "    <tr>\n",
       "      <th>2</th>\n",
       "      <td>1002</td>\n",
       "      <td>smart</td>\n",
       "      <td>0.0</td>\n",
       "      <td>0.0</td>\n",
       "      <td>0.0</td>\n",
       "      <td>0.0</td>\n",
       "      <td>0.0</td>\n",
       "      <td>550.0</td>\n",
       "      <td>1150.0</td>\n",
       "      <td>1550.0</td>\n",
       "      <td>950.0</td>\n",
       "      <td>550.0</td>\n",
       "      <td>1350.0</td>\n",
       "      <td>1150.0</td>\n",
       "      <td>6</td>\n",
       "      <td>12.0</td>\n",
       "      <td>1035.714286</td>\n",
       "      <td>Стерлитамак</td>\n",
       "      <td>other</td>\n",
       "    </tr>\n",
       "    <tr>\n",
       "      <th>5</th>\n",
       "      <td>1005</td>\n",
       "      <td>smart</td>\n",
       "      <td>550.0</td>\n",
       "      <td>550.0</td>\n",
       "      <td>886.0</td>\n",
       "      <td>1186.0</td>\n",
       "      <td>835.0</td>\n",
       "      <td>886.0</td>\n",
       "      <td>775.0</td>\n",
       "      <td>949.0</td>\n",
       "      <td>556.0</td>\n",
       "      <td>1219.0</td>\n",
       "      <td>694.0</td>\n",
       "      <td>838.0</td>\n",
       "      <td>1</td>\n",
       "      <td>12.0</td>\n",
       "      <td>827.000000</td>\n",
       "      <td>Набережные Челны</td>\n",
       "      <td>other</td>\n",
       "    </tr>\n",
       "    <tr>\n",
       "      <th>6</th>\n",
       "      <td>1006</td>\n",
       "      <td>smart</td>\n",
       "      <td>0.0</td>\n",
       "      <td>550.0</td>\n",
       "      <td>950.0</td>\n",
       "      <td>550.0</td>\n",
       "      <td>550.0</td>\n",
       "      <td>550.0</td>\n",
       "      <td>1550.0</td>\n",
       "      <td>1350.0</td>\n",
       "      <td>750.0</td>\n",
       "      <td>1550.0</td>\n",
       "      <td>550.0</td>\n",
       "      <td>1350.0</td>\n",
       "      <td>2</td>\n",
       "      <td>12.0</td>\n",
       "      <td>931.818182</td>\n",
       "      <td>Ульяновск</td>\n",
       "      <td>other</td>\n",
       "    </tr>\n",
       "    <tr>\n",
       "      <th>8</th>\n",
       "      <td>1008</td>\n",
       "      <td>smart</td>\n",
       "      <td>0.0</td>\n",
       "      <td>0.0</td>\n",
       "      <td>0.0</td>\n",
       "      <td>0.0</td>\n",
       "      <td>0.0</td>\n",
       "      <td>0.0</td>\n",
       "      <td>0.0</td>\n",
       "      <td>0.0</td>\n",
       "      <td>0.0</td>\n",
       "      <td>0.0</td>\n",
       "      <td>0.0</td>\n",
       "      <td>568.0</td>\n",
       "      <td>12</td>\n",
       "      <td>12.0</td>\n",
       "      <td>568.000000</td>\n",
       "      <td>Челябинск</td>\n",
       "      <td>other</td>\n",
       "    </tr>\n",
       "    <tr>\n",
       "      <th>9</th>\n",
       "      <td>1009</td>\n",
       "      <td>smart</td>\n",
       "      <td>0.0</td>\n",
       "      <td>0.0</td>\n",
       "      <td>550.0</td>\n",
       "      <td>550.0</td>\n",
       "      <td>550.0</td>\n",
       "      <td>750.0</td>\n",
       "      <td>2550.0</td>\n",
       "      <td>2350.0</td>\n",
       "      <td>1950.0</td>\n",
       "      <td>1550.0</td>\n",
       "      <td>950.0</td>\n",
       "      <td>1350.0</td>\n",
       "      <td>3</td>\n",
       "      <td>12.0</td>\n",
       "      <td>1310.000000</td>\n",
       "      <td>Пермь</td>\n",
       "      <td>other</td>\n",
       "    </tr>\n",
       "  </tbody>\n",
       "</table>\n",
       "</div>"
      ],
      "text/plain": [
       "   user_id tariff      1      2      3       4      5      6       7       8  \\\n",
       "2     1002  smart    0.0    0.0    0.0     0.0    0.0  550.0  1150.0  1550.0   \n",
       "5     1005  smart  550.0  550.0  886.0  1186.0  835.0  886.0   775.0   949.0   \n",
       "6     1006  smart    0.0  550.0  950.0   550.0  550.0  550.0  1550.0  1350.0   \n",
       "8     1008  smart    0.0    0.0    0.0     0.0    0.0    0.0     0.0     0.0   \n",
       "9     1009  smart    0.0    0.0  550.0   550.0  550.0  750.0  2550.0  2350.0   \n",
       "\n",
       "        9      10      11      12  month  month_churn         mean  \\\n",
       "2   950.0   550.0  1350.0  1150.0      6         12.0  1035.714286   \n",
       "5   556.0  1219.0   694.0   838.0      1         12.0   827.000000   \n",
       "6   750.0  1550.0   550.0  1350.0      2         12.0   931.818182   \n",
       "8     0.0     0.0     0.0   568.0     12         12.0   568.000000   \n",
       "9  1950.0  1550.0   950.0  1350.0      3         12.0  1310.000000   \n",
       "\n",
       "               city city_category  \n",
       "2       Стерлитамак         other  \n",
       "5  Набережные Челны         other  \n",
       "6         Ульяновск         other  \n",
       "8         Челябинск         other  \n",
       "9             Пермь         other  "
      ]
     },
     "metadata": {},
     "output_type": "display_data"
    },
    {
     "name": "stdout",
     "output_type": "stream",
     "text": [
      "394668.4901806868\n",
      "628.2264640881398\n"
     ]
    },
    {
     "data": {
      "image/png": "[encoded data removed]",
      "text/plain": [
       "<Figure size 432x288 with 1 Axes>"
      ]
     },
     "metadata": {
      "needs_background": "light"
     },
     "output_type": "display_data"
    }
   ],
   "source": [
    "#выбираем отдельную таблицу пользователей тарифа smart из других городов\n",
    "all_data_s_other = all_data_smart.query('city_category == \"other\"')\n",
    "display(all_data_s_other.head())\n",
    "#рассчитываем вариацию для выборки\n",
    "variance = np.var(all_data_s_other['mean'])\n",
    "print(variance)\n",
    "#рассчитываем стандартное отклонение для выборки\n",
    "standard_deviation = np.sqrt(variance)\n",
    "print(standard_deviation)\n",
    "#строим гистограмму распределения\n",
    "all_data_s_other['mean'].hist()\n",
    "plt.title(\"Гистограмма распределения помесячной выручки пользователей тарифа Смарт остальных городов\")\n",
    "plt.xlabel(\"Выручка\")\n",
    "plt.ylabel(\"Количество\")\n",
    "plt.show()"
   ]
  },
  {
   "cell_type": "code",
   "execution_count": 19,
   "metadata": {
    "scrolled": false
   },
   "outputs": [
    {
     "data": {
      "text/html": [
       "<div>\n",
       "<style scoped>\n",
       "    .dataframe tbody tr th:only-of-type {\n",
       "        vertical-align: middle;\n",
       "    }\n",
       "\n",
       "    .dataframe tbody tr th {\n",
       "        vertical-align: top;\n",
       "    }\n",
       "\n",
       "    .dataframe thead th {\n",
       "        text-align: right;\n",
       "    }\n",
       "</style>\n",
       "<table border=\"1\" class=\"dataframe\">\n",
       "  <thead>\n",
       "    <tr style=\"text-align: right;\">\n",
       "      <th></th>\n",
       "      <th>mean</th>\n",
       "    </tr>\n",
       "    <tr>\n",
       "      <th>city_category</th>\n",
       "      <th></th>\n",
       "    </tr>\n",
       "  </thead>\n",
       "  <tbody>\n",
       "    <tr>\n",
       "      <th>mosc</th>\n",
       "      <td>2061.0</td>\n",
       "    </tr>\n",
       "    <tr>\n",
       "      <th>other</th>\n",
       "      <td>2096.0</td>\n",
       "    </tr>\n",
       "  </tbody>\n",
       "</table>\n",
       "</div>"
      ],
      "text/plain": [
       "                 mean\n",
       "city_category        \n",
       "mosc           2061.0\n",
       "other          2096.0"
      ]
     },
     "metadata": {},
     "output_type": "display_data"
    },
    {
     "data": {
      "text/html": [
       "<div>\n",
       "<style scoped>\n",
       "    .dataframe tbody tr th:only-of-type {\n",
       "        vertical-align: middle;\n",
       "    }\n",
       "\n",
       "    .dataframe tbody tr th {\n",
       "        vertical-align: top;\n",
       "    }\n",
       "\n",
       "    .dataframe thead th {\n",
       "        text-align: right;\n",
       "    }\n",
       "</style>\n",
       "<table border=\"1\" class=\"dataframe\">\n",
       "  <thead>\n",
       "    <tr style=\"text-align: right;\">\n",
       "      <th></th>\n",
       "      <th>user_id</th>\n",
       "      <th>tariff</th>\n",
       "      <th>1</th>\n",
       "      <th>2</th>\n",
       "      <th>3</th>\n",
       "      <th>4</th>\n",
       "      <th>5</th>\n",
       "      <th>6</th>\n",
       "      <th>7</th>\n",
       "      <th>8</th>\n",
       "      <th>9</th>\n",
       "      <th>10</th>\n",
       "      <th>11</th>\n",
       "      <th>12</th>\n",
       "      <th>month</th>\n",
       "      <th>month_churn</th>\n",
       "      <th>mean</th>\n",
       "      <th>city</th>\n",
       "      <th>city_category</th>\n",
       "    </tr>\n",
       "  </thead>\n",
       "  <tbody>\n",
       "    <tr>\n",
       "      <th>3</th>\n",
       "      <td>1003</td>\n",
       "      <td>ultra</td>\n",
       "      <td>0.0</td>\n",
       "      <td>0.0</td>\n",
       "      <td>0.0</td>\n",
       "      <td>0.0</td>\n",
       "      <td>0.0</td>\n",
       "      <td>0.0</td>\n",
       "      <td>0.0</td>\n",
       "      <td>1950.0</td>\n",
       "      <td>1950.0</td>\n",
       "      <td>1950.0</td>\n",
       "      <td>1950.0</td>\n",
       "      <td>1950.0</td>\n",
       "      <td>8</td>\n",
       "      <td>12.0</td>\n",
       "      <td>1950.0</td>\n",
       "      <td>Москва</td>\n",
       "      <td>mosc</td>\n",
       "    </tr>\n",
       "    <tr>\n",
       "      <th>49</th>\n",
       "      <td>1049</td>\n",
       "      <td>ultra</td>\n",
       "      <td>0.0</td>\n",
       "      <td>0.0</td>\n",
       "      <td>1950.0</td>\n",
       "      <td>1950.0</td>\n",
       "      <td>1950.0</td>\n",
       "      <td>1950.0</td>\n",
       "      <td>1950.0</td>\n",
       "      <td>1950.0</td>\n",
       "      <td>1950.0</td>\n",
       "      <td>1950.0</td>\n",
       "      <td>1950.0</td>\n",
       "      <td>1950.0</td>\n",
       "      <td>3</td>\n",
       "      <td>12.0</td>\n",
       "      <td>1950.0</td>\n",
       "      <td>Москва</td>\n",
       "      <td>mosc</td>\n",
       "    </tr>\n",
       "    <tr>\n",
       "      <th>57</th>\n",
       "      <td>1057</td>\n",
       "      <td>ultra</td>\n",
       "      <td>0.0</td>\n",
       "      <td>0.0</td>\n",
       "      <td>1950.0</td>\n",
       "      <td>1950.0</td>\n",
       "      <td>1950.0</td>\n",
       "      <td>1950.0</td>\n",
       "      <td>1950.0</td>\n",
       "      <td>1950.0</td>\n",
       "      <td>1950.0</td>\n",
       "      <td>1950.0</td>\n",
       "      <td>1950.0</td>\n",
       "      <td>1950.0</td>\n",
       "      <td>3</td>\n",
       "      <td>12.0</td>\n",
       "      <td>1950.0</td>\n",
       "      <td>Москва</td>\n",
       "      <td>mosc</td>\n",
       "    </tr>\n",
       "    <tr>\n",
       "      <th>80</th>\n",
       "      <td>1080</td>\n",
       "      <td>ultra</td>\n",
       "      <td>0.0</td>\n",
       "      <td>0.0</td>\n",
       "      <td>0.0</td>\n",
       "      <td>0.0</td>\n",
       "      <td>0.0</td>\n",
       "      <td>0.0</td>\n",
       "      <td>0.0</td>\n",
       "      <td>1950.0</td>\n",
       "      <td>1950.0</td>\n",
       "      <td>1950.0</td>\n",
       "      <td>1950.0</td>\n",
       "      <td>1950.0</td>\n",
       "      <td>8</td>\n",
       "      <td>12.0</td>\n",
       "      <td>1950.0</td>\n",
       "      <td>Москва</td>\n",
       "      <td>mosc</td>\n",
       "    </tr>\n",
       "    <tr>\n",
       "      <th>81</th>\n",
       "      <td>1081</td>\n",
       "      <td>ultra</td>\n",
       "      <td>0.0</td>\n",
       "      <td>0.0</td>\n",
       "      <td>1950.0</td>\n",
       "      <td>1950.0</td>\n",
       "      <td>1950.0</td>\n",
       "      <td>1950.0</td>\n",
       "      <td>1950.0</td>\n",
       "      <td>1950.0</td>\n",
       "      <td>1950.0</td>\n",
       "      <td>1950.0</td>\n",
       "      <td>1950.0</td>\n",
       "      <td>1950.0</td>\n",
       "      <td>3</td>\n",
       "      <td>12.0</td>\n",
       "      <td>1950.0</td>\n",
       "      <td>Москва</td>\n",
       "      <td>mosc</td>\n",
       "    </tr>\n",
       "  </tbody>\n",
       "</table>\n",
       "</div>"
      ],
      "text/plain": [
       "    user_id tariff    1    2       3       4       5       6       7       8  \\\n",
       "3      1003  ultra  0.0  0.0     0.0     0.0     0.0     0.0     0.0  1950.0   \n",
       "49     1049  ultra  0.0  0.0  1950.0  1950.0  1950.0  1950.0  1950.0  1950.0   \n",
       "57     1057  ultra  0.0  0.0  1950.0  1950.0  1950.0  1950.0  1950.0  1950.0   \n",
       "80     1080  ultra  0.0  0.0     0.0     0.0     0.0     0.0     0.0  1950.0   \n",
       "81     1081  ultra  0.0  0.0  1950.0  1950.0  1950.0  1950.0  1950.0  1950.0   \n",
       "\n",
       "         9      10      11      12  month  month_churn    mean    city  \\\n",
       "3   1950.0  1950.0  1950.0  1950.0      8         12.0  1950.0  Москва   \n",
       "49  1950.0  1950.0  1950.0  1950.0      3         12.0  1950.0  Москва   \n",
       "57  1950.0  1950.0  1950.0  1950.0      3         12.0  1950.0  Москва   \n",
       "80  1950.0  1950.0  1950.0  1950.0      8         12.0  1950.0  Москва   \n",
       "81  1950.0  1950.0  1950.0  1950.0      3         12.0  1950.0  Москва   \n",
       "\n",
       "   city_category  \n",
       "3           mosc  \n",
       "49          mosc  \n",
       "57          mosc  \n",
       "80          mosc  \n",
       "81          mosc  "
      ]
     },
     "metadata": {},
     "output_type": "display_data"
    },
    {
     "name": "stdout",
     "output_type": "stream",
     "text": [
      "40193.89686492251\n",
      "200.48415614437593\n"
     ]
    },
    {
     "data": {
      "image/png": "[encoded data removed]",
      "text/plain": [
       "<Figure size 432x288 with 1 Axes>"
      ]
     },
     "metadata": {
      "needs_background": "light"
     },
     "output_type": "display_data"
    }
   ],
   "source": [
    "#строим сводную таблицу среднего значения помесячной выручки для пользователей тарифа ultra из Москвы и остальных городов\n",
    "all_data_ultra_pivot = round(all_data_ultra.pivot_table(index='city_category', values='mean'))\n",
    "display(all_data_ultra_pivot.head())\n",
    "\n",
    "#выбираем отдельную таблицу пользователей тарифа ultra из Москвы\n",
    "all_data_u_mosc = all_data_ultra.query('city_category == \"mosc\"')\n",
    "display(all_data_u_mosc.head())\n",
    "#рассчитываем вариацию для выборки\n",
    "variance = np.var(all_data_u_mosc['mean'])\n",
    "print(variance)\n",
    "#рассчитываем стандартное отклонение для выборки\n",
    "standard_deviation = np.sqrt(variance)\n",
    "print(standard_deviation)\n",
    "#строим гистограмму распределения\n",
    "all_data_u_mosc['mean'].hist()\n",
    "plt.title(\"Гистограмма распределения помесячной выручки пользователей тарифа Ультра из Москвы\")\n",
    "plt.xlabel(\"Выручка\")\n",
    "plt.ylabel(\"Количество\")\n",
    "plt.show()"
   ]
  },
  {
   "cell_type": "code",
   "execution_count": 20,
   "metadata": {
    "scrolled": false
   },
   "outputs": [
    {
     "data": {
      "text/html": [
       "<div>\n",
       "<style scoped>\n",
       "    .dataframe tbody tr th:only-of-type {\n",
       "        vertical-align: middle;\n",
       "    }\n",
       "\n",
       "    .dataframe tbody tr th {\n",
       "        vertical-align: top;\n",
       "    }\n",
       "\n",
       "    .dataframe thead th {\n",
       "        text-align: right;\n",
       "    }\n",
       "</style>\n",
       "<table border=\"1\" class=\"dataframe\">\n",
       "  <thead>\n",
       "    <tr style=\"text-align: right;\">\n",
       "      <th></th>\n",
       "      <th>user_id</th>\n",
       "      <th>tariff</th>\n",
       "      <th>1</th>\n",
       "      <th>2</th>\n",
       "      <th>3</th>\n",
       "      <th>4</th>\n",
       "      <th>5</th>\n",
       "      <th>6</th>\n",
       "      <th>7</th>\n",
       "      <th>8</th>\n",
       "      <th>9</th>\n",
       "      <th>10</th>\n",
       "      <th>11</th>\n",
       "      <th>12</th>\n",
       "      <th>month</th>\n",
       "      <th>month_churn</th>\n",
       "      <th>mean</th>\n",
       "      <th>city</th>\n",
       "      <th>city_category</th>\n",
       "    </tr>\n",
       "  </thead>\n",
       "  <tbody>\n",
       "    <tr>\n",
       "      <th>0</th>\n",
       "      <td>1000</td>\n",
       "      <td>ultra</td>\n",
       "      <td>0.0</td>\n",
       "      <td>0.0</td>\n",
       "      <td>0.0</td>\n",
       "      <td>0.0</td>\n",
       "      <td>1950.0</td>\n",
       "      <td>1950.0</td>\n",
       "      <td>1950.0</td>\n",
       "      <td>1950.0</td>\n",
       "      <td>1950.0</td>\n",
       "      <td>1950.0</td>\n",
       "      <td>1950.0</td>\n",
       "      <td>1950.0</td>\n",
       "      <td>5</td>\n",
       "      <td>12.0</td>\n",
       "      <td>1950.0</td>\n",
       "      <td>Краснодар</td>\n",
       "      <td>other</td>\n",
       "    </tr>\n",
       "    <tr>\n",
       "      <th>4</th>\n",
       "      <td>1004</td>\n",
       "      <td>ultra</td>\n",
       "      <td>0.0</td>\n",
       "      <td>0.0</td>\n",
       "      <td>0.0</td>\n",
       "      <td>0.0</td>\n",
       "      <td>1950.0</td>\n",
       "      <td>1950.0</td>\n",
       "      <td>1950.0</td>\n",
       "      <td>1950.0</td>\n",
       "      <td>1950.0</td>\n",
       "      <td>1950.0</td>\n",
       "      <td>1950.0</td>\n",
       "      <td>1950.0</td>\n",
       "      <td>5</td>\n",
       "      <td>12.0</td>\n",
       "      <td>1950.0</td>\n",
       "      <td>Новокузнецк</td>\n",
       "      <td>other</td>\n",
       "    </tr>\n",
       "    <tr>\n",
       "      <th>13</th>\n",
       "      <td>1013</td>\n",
       "      <td>ultra</td>\n",
       "      <td>0.0</td>\n",
       "      <td>0.0</td>\n",
       "      <td>0.0</td>\n",
       "      <td>0.0</td>\n",
       "      <td>0.0</td>\n",
       "      <td>0.0</td>\n",
       "      <td>0.0</td>\n",
       "      <td>0.0</td>\n",
       "      <td>0.0</td>\n",
       "      <td>0.0</td>\n",
       "      <td>1950.0</td>\n",
       "      <td>1950.0</td>\n",
       "      <td>11</td>\n",
       "      <td>12.0</td>\n",
       "      <td>1950.0</td>\n",
       "      <td>Иваново</td>\n",
       "      <td>other</td>\n",
       "    </tr>\n",
       "    <tr>\n",
       "      <th>16</th>\n",
       "      <td>1016</td>\n",
       "      <td>ultra</td>\n",
       "      <td>0.0</td>\n",
       "      <td>0.0</td>\n",
       "      <td>0.0</td>\n",
       "      <td>0.0</td>\n",
       "      <td>0.0</td>\n",
       "      <td>0.0</td>\n",
       "      <td>0.0</td>\n",
       "      <td>0.0</td>\n",
       "      <td>0.0</td>\n",
       "      <td>0.0</td>\n",
       "      <td>1950.0</td>\n",
       "      <td>1950.0</td>\n",
       "      <td>11</td>\n",
       "      <td>12.0</td>\n",
       "      <td>1950.0</td>\n",
       "      <td>Омск</td>\n",
       "      <td>other</td>\n",
       "    </tr>\n",
       "    <tr>\n",
       "      <th>18</th>\n",
       "      <td>1018</td>\n",
       "      <td>ultra</td>\n",
       "      <td>0.0</td>\n",
       "      <td>0.0</td>\n",
       "      <td>0.0</td>\n",
       "      <td>1950.0</td>\n",
       "      <td>1950.0</td>\n",
       "      <td>1950.0</td>\n",
       "      <td>1950.0</td>\n",
       "      <td>1950.0</td>\n",
       "      <td>1950.0</td>\n",
       "      <td>1950.0</td>\n",
       "      <td>1950.0</td>\n",
       "      <td>1950.0</td>\n",
       "      <td>4</td>\n",
       "      <td>12.0</td>\n",
       "      <td>1950.0</td>\n",
       "      <td>Уфа</td>\n",
       "      <td>other</td>\n",
       "    </tr>\n",
       "  </tbody>\n",
       "</table>\n",
       "</div>"
      ],
      "text/plain": [
       "    user_id tariff    1    2    3       4       5       6       7       8  \\\n",
       "0      1000  ultra  0.0  0.0  0.0     0.0  1950.0  1950.0  1950.0  1950.0   \n",
       "4      1004  ultra  0.0  0.0  0.0     0.0  1950.0  1950.0  1950.0  1950.0   \n",
       "13     1013  ultra  0.0  0.0  0.0     0.0     0.0     0.0     0.0     0.0   \n",
       "16     1016  ultra  0.0  0.0  0.0     0.0     0.0     0.0     0.0     0.0   \n",
       "18     1018  ultra  0.0  0.0  0.0  1950.0  1950.0  1950.0  1950.0  1950.0   \n",
       "\n",
       "         9      10      11      12  month  month_churn    mean         city  \\\n",
       "0   1950.0  1950.0  1950.0  1950.0      5         12.0  1950.0    Краснодар   \n",
       "4   1950.0  1950.0  1950.0  1950.0      5         12.0  1950.0  Новокузнецк   \n",
       "13     0.0     0.0  1950.0  1950.0     11         12.0  1950.0      Иваново   \n",
       "16     0.0     0.0  1950.0  1950.0     11         12.0  1950.0         Омск   \n",
       "18  1950.0  1950.0  1950.0  1950.0      4         12.0  1950.0          Уфа   \n",
       "\n",
       "   city_category  \n",
       "0          other  \n",
       "4          other  \n",
       "13         other  \n",
       "16         other  \n",
       "18         other  "
      ]
     },
     "metadata": {},
     "output_type": "display_data"
    },
    {
     "name": "stdout",
     "output_type": "stream",
     "text": [
      "107342.28346037313\n",
      "327.6313224653179\n"
     ]
    },
    {
     "data": {
      "image/png": "[encoded data removed]",
      "text/plain": [
       "<Figure size 432x288 with 1 Axes>"
      ]
     },
     "metadata": {
      "needs_background": "light"
     },
     "output_type": "display_data"
    }
   ],
   "source": [
    "#выбираем отдельную таблицу пользователей тарифа ultra из Москвы\n",
    "all_data_u_other = all_data_ultra.query('city_category == \"other\"')\n",
    "display(all_data_u_other.head())\n",
    "#рассчитываем вариацию для выборки\n",
    "variance = np.var(all_data_u_other['mean'])\n",
    "print(variance)\n",
    "#рассчитываем стандартное отклонение для выборки\n",
    "standard_deviation = np.sqrt(variance)\n",
    "print(standard_deviation)\n",
    "#строим гистограмму распределения\n",
    "all_data_u_other['mean'].hist()\n",
    "plt.title(\"Гистограмма распределения помесячной выручки пользователей тарифа Ультра из остальных городов\")\n",
    "plt.xlabel(\"Выручка\")\n",
    "plt.ylabel(\"Количество\")\n",
    "plt.show()"
   ]
  },
  {
   "cell_type": "code",
   "execution_count": 21,
   "metadata": {},
   "outputs": [
    {
     "name": "stdout",
     "output_type": "stream",
     "text": [
      "p-значение:  6.650632920417471e-57\n"
     ]
    }
   ],
   "source": [
    "#проверяем гипотезу о равенстве средней выручки пользователей тарифов «Ультра» и «Смарт» для уровня значимости 5%\n",
    "#альтернативная гипотеза о неравенстве средней выручки пользователей тарифов «Ультра» и «Смарт»/\n",
    "from scipy import stats as st\n",
    "sample_1 = all_data_smart['mean']\n",
    "sample_2 = all_data_ultra['mean']\n",
    "\n",
    "results = st.ttest_ind(sample_1, sample_2, equal_var = False)\n",
    "print('p-значение: ', results.pvalue)"
   ]
  },
  {
   "cell_type": "markdown",
   "metadata": {},
   "source": [
    "### Вывод\n",
    "Полученной значение уровня значимости значительно меньше выбранного уровня значимости 5%, соответственно гипотеза о равенстве средней выручки пользователей тарифов «Ультра» и «Смарт» может быть отвергнута. Следовательно, принимается альтернативная гипотеза о неравенстве средней выручки пользователей тарифов «Ультра» и «Смарт»."
   ]
  },
  {
   "cell_type": "code",
   "execution_count": 22,
   "metadata": {},
   "outputs": [
    {
     "name": "stdout",
     "output_type": "stream",
     "text": [
      "p-значение:  0.1702730894578934\n"
     ]
    }
   ],
   "source": [
    "#проверяем гипотезу о равенстве для тарифа «Смарт» средней выручки пользователей из Москвы и выручки пользователей из других \n",
    "#регионов для уровня значимости 5%\n",
    "#альтернативная гипотеза о неравенстве средней выручки пользователей из Москвы и выручки пользователей из других регионов\n",
    "from scipy import stats as st\n",
    "sample_1 = all_data_s_mosc['mean']\n",
    "sample_2 = all_data_s_other['mean']\n",
    "\n",
    "results = st.ttest_ind(sample_1, sample_2, equal_var = True)\n",
    "print('p-значение: ', results.pvalue)"
   ]
  },
  {
   "cell_type": "code",
   "execution_count": 23,
   "metadata": {},
   "outputs": [
    {
     "name": "stdout",
     "output_type": "stream",
     "text": [
      "p-значение:  0.5603571423368767\n"
     ]
    }
   ],
   "source": [
    "#проверяем гипотезу о равенстве для тарифа «Ультра» средней выручки пользователей из Москвы и выручки пользователей из других \n",
    "#регионов для уровня значимости 5%\n",
    "#альтернативная гипотеза о неравенстве средней выручки пользователей из Москвы и выручки пользователей из других регионов\n",
    "from scipy import stats as st\n",
    "sample_1 = all_data_u_mosc['mean']\n",
    "sample_2 = all_data_u_other['mean']\n",
    "\n",
    "results = st.ttest_ind(sample_1, sample_2, equal_var = True)\n",
    "print('p-значение: ', results.pvalue)"
   ]
  },
  {
   "cell_type": "markdown",
   "metadata": {},
   "source": [
    "### Вывод\n",
    "Полученной значение уровня значимости значительно больше выбранного уровня значимости 5%, соответственно гипотеза о равенстве для тарифа «Смарт» средней выручки пользователей из Москвы и выручки пользователей из других регионов не может быть отвергнута. Аналогичная картина и для тарифа \"Ультра\".\n",
    "\n",
    "Следовательно, альтернативная гипотеза  о неравенстве средней выручки пользователей из Москвы и выручки пользователей из других регионов отвергается."
   ]
  },
  {
   "cell_type": "markdown",
   "metadata": {},
   "source": [
    "## Общий вывод\n",
    "Исходные таблицы содержат необходимую информацию о звонках, сообщениях, интернет-сессиях 500 клиентов по двум тарифам. 351 клиент использует тариф smart, 149 клиентов использует тариф ultra. Информация не содержит пропусков и явных дубликатов.\n",
    "\n",
    "1. Среднее месячное количество звонков пользователя тарифа smart 59, пользователя тарифа ultra 76 звонков.\n",
    "2. Среднее месячное количество израсходованных на звонки минут пользователя тарифа smart 421, пользователя тарифа ultra 547 минут.\n",
    "3. Среднее месячное количество отправленных сообщений пользователя тарифа smart 38, пользователя тарифа ultra 65 сообщений.\n",
    "4. Среднее месячное количество мегабайт интернет-трафика пользователя тарифа smart 16190, пользователя тарифа ultra 19727 мегабайт.\n",
    "5. Средняя месячная выручка пользователя тарифа smart 1335 рублей, пользователя тарифа ultra 2089 рублей.\n",
    "6. Медианная месячная выручка пользователя тарифа smart 1151 рублей, пользователя тарифа ultra 1950 рублей.\n",
    "\n",
    "Пользователям обоих тарифов достаточно предусмотренных тарифами предоплаченных минут и сообщений, превышения очень редкие.\n",
    "\n",
    "Пользователи тарифа smart не укладываются в предусмотренный тарифом предел интернет-трафика, поэтому для пользователей этого тарифа значительно возрастает сумма общего платежа по сравнению с установленной тарифом суммой. Средний платеж 1335 руб. против 550 руб. предусмотренных тарифом. \n",
    "\n",
    "Пользователям тарифа ultra достаточно предусмотренного тарифом интернет-трафика, среднее значение по тарифу значительно ниже предусмотренного, 19727 мб против 30720 мб. По этой причине средний платеж пользователя тарифа ultra, равный 2089 руб. незначительно выше предусмотренных тарифом 1950 руб.\n",
    "\n",
    "Средняя месячная выручка пользователя тарифа smart 1335 рублей. Дисперсия для выборки тарифа smart составляет 379127, стандартное отклонение 615. Таким образом, значения средней выручки пользователя тарифа smart вхоодят в диапазон от 550 до 2395 рублей. Гистограмма, построенная по данному датасету скошена вправо, медианная месячная выручка меньше среднего значения месячной выручки.\n",
    "\n",
    "Средняя месячная выручка пользователя тарифа ultra 2089 рублей. Дисперсия для выборки тарифа ultra составляет 93136, стандартное отклонение 305. Таким образом, значения средней выручки пользователя тарифа ultra вхоодят в диапазон от 1950 до 2965 рублей. Гистограмма, построенная по данному датасету скошена вправо, медианная месячная выручка меньше среднего значения месячной выручки.\n",
    "\n",
    "Гипотеза о неравенстве средней выручки пользователей тарифов «Ультра» и «Смарт» принимается достоверной.\n",
    "\n",
    "Гипотеза о равенстве средней выручки пользователей из Москвы и выручки пользователей из других регионов не может быть отвергнута.\n",
    "\n",
    "Для пользователей активно использующих интернет, лучшим является тариф \"Ультра\", он позволяет не переплачивать больше установленного тарифом. Тариф \"Смарт\" позволяет не переплачивать за услуги связи пользователям, осуществляющим звонки и отправляющим сообщения и неактивно использующим интернет.\n",
    "\n",
    "Таким образом рекламную компанию необходимо строить исходя из потребностей потенциальных пользователей в объеме интернет трафика."
   ]
  }
 ],
 "metadata": {
  "ExecuteTimeLog": [
   {
    "duration": 673,
    "start_time": "2022-05-29T15:44:38.638Z"
   },
   {
    "duration": 384,
    "start_time": "2022-05-29T15:45:22.252Z"
   },
   {
    "duration": 1152,
    "start_time": "2022-05-29T15:45:59.345Z"
   },
   {
    "duration": 12,
    "start_time": "2022-05-29T15:46:26.755Z"
   },
   {
    "duration": 8,
    "start_time": "2022-05-29T15:46:45.962Z"
   },
   {
    "duration": 7,
    "start_time": "2022-05-29T15:47:06.969Z"
   },
   {
    "duration": 7,
    "start_time": "2022-05-29T15:47:30.457Z"
   },
   {
    "duration": 13,
    "start_time": "2022-05-29T15:47:50.909Z"
   },
   {
    "duration": 9,
    "start_time": "2022-05-29T15:48:47.314Z"
   },
   {
    "duration": 426,
    "start_time": "2022-05-29T15:48:53.515Z"
   },
   {
    "duration": 8,
    "start_time": "2022-05-29T15:48:57.109Z"
   },
   {
    "duration": 1906,
    "start_time": "2022-05-30T04:40:07.993Z"
   },
   {
    "duration": 15,
    "start_time": "2022-05-30T04:40:09.902Z"
   },
   {
    "duration": 11,
    "start_time": "2022-05-30T04:40:09.919Z"
   },
   {
    "duration": 8,
    "start_time": "2022-05-30T04:40:09.932Z"
   },
   {
    "duration": 10,
    "start_time": "2022-05-30T04:40:09.941Z"
   },
   {
    "duration": 12,
    "start_time": "2022-05-30T04:40:09.952Z"
   },
   {
    "duration": 388,
    "start_time": "2022-05-30T04:40:26.630Z"
   },
   {
    "duration": 10,
    "start_time": "2022-05-30T04:40:27.020Z"
   },
   {
    "duration": 11,
    "start_time": "2022-05-30T04:40:27.031Z"
   },
   {
    "duration": 8,
    "start_time": "2022-05-30T04:40:27.043Z"
   },
   {
    "duration": 8,
    "start_time": "2022-05-30T04:40:27.052Z"
   },
   {
    "duration": 10,
    "start_time": "2022-05-30T04:40:27.061Z"
   },
   {
    "duration": 11,
    "start_time": "2022-05-30T04:41:10.004Z"
   },
   {
    "duration": 128,
    "start_time": "2022-05-30T04:45:34.819Z"
   },
   {
    "duration": 21,
    "start_time": "2022-05-30T04:45:58.961Z"
   },
   {
    "duration": 25,
    "start_time": "2022-05-30T04:46:42.809Z"
   },
   {
    "duration": 40,
    "start_time": "2022-05-30T04:47:10.969Z"
   },
   {
    "duration": 44,
    "start_time": "2022-05-30T05:49:29.171Z"
   },
   {
    "duration": 44,
    "start_time": "2022-05-30T05:49:43.684Z"
   },
   {
    "duration": 35,
    "start_time": "2022-05-30T05:50:05.607Z"
   },
   {
    "duration": 22,
    "start_time": "2022-05-30T05:50:26.231Z"
   },
   {
    "duration": 16,
    "start_time": "2022-05-30T05:51:04.207Z"
   },
   {
    "duration": 1773,
    "start_time": "2022-05-30T09:59:50.743Z"
   },
   {
    "duration": 31,
    "start_time": "2022-05-30T09:59:52.517Z"
   },
   {
    "duration": 24,
    "start_time": "2022-05-30T09:59:52.550Z"
   },
   {
    "duration": 21,
    "start_time": "2022-05-30T09:59:52.575Z"
   },
   {
    "duration": 7,
    "start_time": "2022-05-30T09:59:52.597Z"
   },
   {
    "duration": 24,
    "start_time": "2022-05-30T09:59:52.605Z"
   },
   {
    "duration": 81,
    "start_time": "2022-05-30T17:18:05.351Z"
   },
   {
    "duration": 2114,
    "start_time": "2022-05-30T17:18:16.990Z"
   },
   {
    "duration": 70,
    "start_time": "2022-05-30T17:18:19.107Z"
   },
   {
    "duration": 0,
    "start_time": "2022-05-30T17:18:19.179Z"
   },
   {
    "duration": 0,
    "start_time": "2022-05-30T17:18:19.180Z"
   },
   {
    "duration": 0,
    "start_time": "2022-05-30T17:18:19.182Z"
   },
   {
    "duration": 0,
    "start_time": "2022-05-30T17:18:19.183Z"
   },
   {
    "duration": 36,
    "start_time": "2022-05-30T17:18:36.057Z"
   },
   {
    "duration": 52,
    "start_time": "2022-05-30T17:19:14.508Z"
   },
   {
    "duration": 46,
    "start_time": "2022-05-30T17:21:38.049Z"
   },
   {
    "duration": 121,
    "start_time": "2022-05-30T17:23:17.871Z"
   },
   {
    "duration": 30,
    "start_time": "2022-05-30T17:27:57.391Z"
   },
   {
    "duration": 60,
    "start_time": "2022-05-30T17:28:10.796Z"
   },
   {
    "duration": 89,
    "start_time": "2022-05-30T17:28:16.269Z"
   },
   {
    "duration": 54,
    "start_time": "2022-05-30T17:28:27.493Z"
   },
   {
    "duration": 29,
    "start_time": "2022-05-30T17:29:05.232Z"
   },
   {
    "duration": 27,
    "start_time": "2022-05-30T17:29:14.908Z"
   },
   {
    "duration": 231,
    "start_time": "2022-05-30T17:29:31.707Z"
   },
   {
    "duration": 68,
    "start_time": "2022-05-30T17:29:56.785Z"
   },
   {
    "duration": 70,
    "start_time": "2022-05-30T17:30:21.311Z"
   },
   {
    "duration": 105,
    "start_time": "2022-05-30T17:30:29.644Z"
   },
   {
    "duration": 84,
    "start_time": "2022-05-30T17:32:56.226Z"
   },
   {
    "duration": 82,
    "start_time": "2022-05-30T17:33:14.782Z"
   },
   {
    "duration": 98,
    "start_time": "2022-05-30T17:34:50.991Z"
   },
   {
    "duration": 200,
    "start_time": "2022-05-30T17:36:02.971Z"
   },
   {
    "duration": 148,
    "start_time": "2022-05-30T17:36:16.482Z"
   },
   {
    "duration": 204,
    "start_time": "2022-05-30T17:38:04.218Z"
   },
   {
    "duration": 486,
    "start_time": "2022-05-30T17:38:40.518Z"
   },
   {
    "duration": 216,
    "start_time": "2022-05-30T17:38:41.006Z"
   },
   {
    "duration": 33,
    "start_time": "2022-05-30T17:38:41.226Z"
   },
   {
    "duration": 27,
    "start_time": "2022-05-30T17:38:41.262Z"
   },
   {
    "duration": 38,
    "start_time": "2022-05-30T17:38:41.291Z"
   },
   {
    "duration": 34,
    "start_time": "2022-05-30T17:38:41.332Z"
   },
   {
    "duration": 1372,
    "start_time": "2022-05-30T17:38:56.044Z"
   },
   {
    "duration": 329,
    "start_time": "2022-05-30T17:38:57.418Z"
   },
   {
    "duration": 0,
    "start_time": "2022-05-30T17:38:57.749Z"
   },
   {
    "duration": 0,
    "start_time": "2022-05-30T17:38:57.750Z"
   },
   {
    "duration": 0,
    "start_time": "2022-05-30T17:38:57.751Z"
   },
   {
    "duration": 0,
    "start_time": "2022-05-30T17:38:57.753Z"
   },
   {
    "duration": 217,
    "start_time": "2022-05-30T17:39:10.436Z"
   },
   {
    "duration": 139,
    "start_time": "2022-05-30T17:39:59.122Z"
   },
   {
    "duration": 126,
    "start_time": "2022-05-30T17:40:23.828Z"
   },
   {
    "duration": 134,
    "start_time": "2022-05-30T17:41:49.581Z"
   },
   {
    "duration": 27,
    "start_time": "2022-05-30T17:42:46.477Z"
   },
   {
    "duration": 66,
    "start_time": "2022-05-30T17:44:36.425Z"
   },
   {
    "duration": 94,
    "start_time": "2022-05-30T17:46:39.089Z"
   },
   {
    "duration": 53,
    "start_time": "2022-05-30T17:54:58.625Z"
   },
   {
    "duration": 56,
    "start_time": "2022-05-30T17:55:31.159Z"
   },
   {
    "duration": 57,
    "start_time": "2022-05-30T17:56:55.913Z"
   },
   {
    "duration": 426,
    "start_time": "2022-05-30T17:58:58.561Z"
   },
   {
    "duration": 14,
    "start_time": "2022-05-30T17:58:58.989Z"
   },
   {
    "duration": 0,
    "start_time": "2022-05-30T17:58:59.005Z"
   },
   {
    "duration": 0,
    "start_time": "2022-05-30T17:58:59.006Z"
   },
   {
    "duration": 0,
    "start_time": "2022-05-30T17:58:59.007Z"
   },
   {
    "duration": 0,
    "start_time": "2022-05-30T17:58:59.008Z"
   },
   {
    "duration": 147,
    "start_time": "2022-05-30T17:59:35.446Z"
   },
   {
    "duration": 98,
    "start_time": "2022-05-30T17:59:45.757Z"
   },
   {
    "duration": 55,
    "start_time": "2022-05-30T17:59:53.570Z"
   },
   {
    "duration": 134,
    "start_time": "2022-05-30T18:02:19.793Z"
   },
   {
    "duration": 2444,
    "start_time": "2022-05-31T07:55:31.461Z"
   },
   {
    "duration": 224,
    "start_time": "2022-05-31T07:55:33.907Z"
   },
   {
    "duration": 150,
    "start_time": "2022-05-31T07:55:34.136Z"
   },
   {
    "duration": 118,
    "start_time": "2022-05-31T07:55:34.289Z"
   },
   {
    "duration": 10,
    "start_time": "2022-05-31T07:55:34.410Z"
   },
   {
    "duration": 40,
    "start_time": "2022-05-31T07:55:34.421Z"
   },
   {
    "duration": 149,
    "start_time": "2022-05-31T08:12:50.574Z"
   },
   {
    "duration": 104,
    "start_time": "2022-05-31T08:13:09.353Z"
   },
   {
    "duration": 652,
    "start_time": "2022-05-31T08:50:26.423Z"
   },
   {
    "duration": 148,
    "start_time": "2022-05-31T08:50:56.095Z"
   },
   {
    "duration": 432,
    "start_time": "2022-05-31T08:51:29.072Z"
   },
   {
    "duration": 452,
    "start_time": "2022-05-31T08:51:44.989Z"
   },
   {
    "duration": 137,
    "start_time": "2022-05-31T08:52:26.771Z"
   },
   {
    "duration": 1185,
    "start_time": "2022-05-31T09:33:16.641Z"
   },
   {
    "duration": 191,
    "start_time": "2022-05-31T09:33:17.827Z"
   },
   {
    "duration": 109,
    "start_time": "2022-05-31T09:33:18.020Z"
   },
   {
    "duration": 140,
    "start_time": "2022-05-31T09:33:18.131Z"
   },
   {
    "duration": 12,
    "start_time": "2022-05-31T09:33:18.274Z"
   },
   {
    "duration": 32,
    "start_time": "2022-05-31T09:33:18.288Z"
   },
   {
    "duration": 143,
    "start_time": "2022-05-31T09:35:47.590Z"
   },
   {
    "duration": 197,
    "start_time": "2022-05-31T09:36:14.231Z"
   },
   {
    "duration": 134,
    "start_time": "2022-05-31T09:38:05.886Z"
   },
   {
    "duration": 431,
    "start_time": "2022-05-31T09:38:21.116Z"
   },
   {
    "duration": 144,
    "start_time": "2022-05-31T09:38:28.268Z"
   },
   {
    "duration": 115,
    "start_time": "2022-05-31T09:40:55.011Z"
   },
   {
    "duration": 188,
    "start_time": "2022-05-31T09:43:42.353Z"
   },
   {
    "duration": 117,
    "start_time": "2022-05-31T09:44:43.320Z"
   },
   {
    "duration": 172,
    "start_time": "2022-05-31T09:45:33.943Z"
   },
   {
    "duration": 439,
    "start_time": "2022-05-31T09:45:38.055Z"
   },
   {
    "duration": 174,
    "start_time": "2022-05-31T09:45:42.168Z"
   },
   {
    "duration": 52,
    "start_time": "2022-05-31T10:18:48.014Z"
   },
   {
    "duration": 11,
    "start_time": "2022-05-31T10:19:06.252Z"
   },
   {
    "duration": 1245,
    "start_time": "2022-05-31T10:20:12.771Z"
   },
   {
    "duration": 196,
    "start_time": "2022-05-31T10:20:14.018Z"
   },
   {
    "duration": 122,
    "start_time": "2022-05-31T10:20:14.219Z"
   },
   {
    "duration": 126,
    "start_time": "2022-05-31T10:20:14.343Z"
   },
   {
    "duration": 8,
    "start_time": "2022-05-31T10:20:14.472Z"
   },
   {
    "duration": 23,
    "start_time": "2022-05-31T10:20:14.482Z"
   },
   {
    "duration": 2459,
    "start_time": "2022-05-31T16:59:43.471Z"
   },
   {
    "duration": 205,
    "start_time": "2022-05-31T16:59:45.932Z"
   },
   {
    "duration": 122,
    "start_time": "2022-05-31T16:59:46.138Z"
   },
   {
    "duration": 128,
    "start_time": "2022-05-31T16:59:46.263Z"
   },
   {
    "duration": 10,
    "start_time": "2022-05-31T16:59:46.393Z"
   },
   {
    "duration": 28,
    "start_time": "2022-05-31T16:59:46.405Z"
   },
   {
    "duration": 290,
    "start_time": "2022-05-31T17:00:48.347Z"
   },
   {
    "duration": 152,
    "start_time": "2022-05-31T17:11:27.640Z"
   },
   {
    "duration": 1117,
    "start_time": "2022-05-31T17:13:02.970Z"
   },
   {
    "duration": 315,
    "start_time": "2022-05-31T17:13:04.089Z"
   },
   {
    "duration": 0,
    "start_time": "2022-05-31T17:13:04.406Z"
   },
   {
    "duration": 0,
    "start_time": "2022-05-31T17:13:04.407Z"
   },
   {
    "duration": 0,
    "start_time": "2022-05-31T17:13:04.408Z"
   },
   {
    "duration": 0,
    "start_time": "2022-05-31T17:13:04.409Z"
   },
   {
    "duration": 329,
    "start_time": "2022-05-31T17:30:00.806Z"
   },
   {
    "duration": 562,
    "start_time": "2022-05-31T17:30:49.382Z"
   },
   {
    "duration": 1219,
    "start_time": "2022-05-31T17:31:17.291Z"
   },
   {
    "duration": 292,
    "start_time": "2022-05-31T17:31:18.513Z"
   },
   {
    "duration": 0,
    "start_time": "2022-05-31T17:31:18.807Z"
   },
   {
    "duration": 0,
    "start_time": "2022-05-31T17:31:18.808Z"
   },
   {
    "duration": 0,
    "start_time": "2022-05-31T17:31:18.809Z"
   },
   {
    "duration": 0,
    "start_time": "2022-05-31T17:31:18.811Z"
   },
   {
    "duration": 145,
    "start_time": "2022-05-31T17:41:37.715Z"
   },
   {
    "duration": 165,
    "start_time": "2022-05-31T17:47:24.014Z"
   },
   {
    "duration": 30,
    "start_time": "2022-05-31T17:48:03.363Z"
   },
   {
    "duration": 648,
    "start_time": "2022-05-31T17:50:28.978Z"
   },
   {
    "duration": 274,
    "start_time": "2022-05-31T17:50:29.629Z"
   },
   {
    "duration": 138,
    "start_time": "2022-05-31T17:50:29.905Z"
   },
   {
    "duration": 167,
    "start_time": "2022-05-31T17:50:30.047Z"
   },
   {
    "duration": 19,
    "start_time": "2022-05-31T17:50:30.222Z"
   },
   {
    "duration": 63,
    "start_time": "2022-05-31T17:50:30.243Z"
   },
   {
    "duration": 272,
    "start_time": "2022-05-31T17:56:01.080Z"
   },
   {
    "duration": 472,
    "start_time": "2022-05-31T17:56:14.712Z"
   },
   {
    "duration": 295,
    "start_time": "2022-05-31T17:56:15.186Z"
   },
   {
    "duration": 0,
    "start_time": "2022-05-31T17:56:15.483Z"
   },
   {
    "duration": 0,
    "start_time": "2022-05-31T17:56:15.484Z"
   },
   {
    "duration": 0,
    "start_time": "2022-05-31T17:56:15.485Z"
   },
   {
    "duration": 0,
    "start_time": "2022-05-31T17:56:15.486Z"
   },
   {
    "duration": 148,
    "start_time": "2022-05-31T17:59:04.923Z"
   },
   {
    "duration": 1192,
    "start_time": "2022-05-31T17:59:38.680Z"
   },
   {
    "duration": 210,
    "start_time": "2022-05-31T17:59:39.875Z"
   },
   {
    "duration": 100,
    "start_time": "2022-05-31T17:59:40.088Z"
   },
   {
    "duration": 114,
    "start_time": "2022-05-31T17:59:40.190Z"
   },
   {
    "duration": 7,
    "start_time": "2022-05-31T17:59:40.305Z"
   },
   {
    "duration": 23,
    "start_time": "2022-05-31T17:59:40.313Z"
   },
   {
    "duration": 146,
    "start_time": "2022-05-31T18:06:47.316Z"
   },
   {
    "duration": 1303,
    "start_time": "2022-05-31T18:07:04.030Z"
   },
   {
    "duration": 196,
    "start_time": "2022-05-31T18:07:05.336Z"
   },
   {
    "duration": 139,
    "start_time": "2022-05-31T18:07:05.534Z"
   },
   {
    "duration": 153,
    "start_time": "2022-05-31T18:07:05.687Z"
   },
   {
    "duration": 10,
    "start_time": "2022-05-31T18:07:05.842Z"
   },
   {
    "duration": 60,
    "start_time": "2022-05-31T18:07:05.854Z"
   },
   {
    "duration": 85,
    "start_time": "2022-05-31T18:08:56.885Z"
   },
   {
    "duration": 103,
    "start_time": "2022-05-31T18:09:33.034Z"
   },
   {
    "duration": 8,
    "start_time": "2022-05-31T18:18:03.984Z"
   },
   {
    "duration": 21,
    "start_time": "2022-05-31T18:18:28.522Z"
   },
   {
    "duration": 31,
    "start_time": "2022-05-31T18:19:36.071Z"
   },
   {
    "duration": 129,
    "start_time": "2022-05-31T18:23:20.804Z"
   },
   {
    "duration": 28,
    "start_time": "2022-05-31T18:23:53.614Z"
   },
   {
    "duration": 44,
    "start_time": "2022-05-31T18:24:13.417Z"
   },
   {
    "duration": 1246,
    "start_time": "2022-05-31T18:24:28.730Z"
   },
   {
    "duration": 229,
    "start_time": "2022-05-31T18:24:29.979Z"
   },
   {
    "duration": 126,
    "start_time": "2022-05-31T18:24:30.210Z"
   },
   {
    "duration": 156,
    "start_time": "2022-05-31T18:24:30.339Z"
   },
   {
    "duration": 7,
    "start_time": "2022-05-31T18:24:30.497Z"
   },
   {
    "duration": 39,
    "start_time": "2022-05-31T18:24:30.505Z"
   },
   {
    "duration": 65,
    "start_time": "2022-05-31T18:24:30.546Z"
   },
   {
    "duration": 39,
    "start_time": "2022-05-31T18:24:47.350Z"
   },
   {
    "duration": 121,
    "start_time": "2022-05-31T18:25:42.449Z"
   },
   {
    "duration": 45,
    "start_time": "2022-05-31T18:26:13.679Z"
   },
   {
    "duration": 72,
    "start_time": "2022-06-01T05:50:16.736Z"
   },
   {
    "duration": 1942,
    "start_time": "2022-06-01T05:50:27.215Z"
   },
   {
    "duration": 201,
    "start_time": "2022-06-01T05:50:29.159Z"
   },
   {
    "duration": 105,
    "start_time": "2022-06-01T05:50:29.362Z"
   },
   {
    "duration": 118,
    "start_time": "2022-06-01T05:50:29.469Z"
   },
   {
    "duration": 7,
    "start_time": "2022-06-01T05:50:29.589Z"
   },
   {
    "duration": 33,
    "start_time": "2022-06-01T05:50:29.597Z"
   },
   {
    "duration": 32,
    "start_time": "2022-06-01T05:50:29.631Z"
   },
   {
    "duration": 164,
    "start_time": "2022-06-01T05:51:31.215Z"
   },
   {
    "duration": 20,
    "start_time": "2022-06-01T05:52:08.227Z"
   },
   {
    "duration": 136,
    "start_time": "2022-06-01T05:54:37.144Z"
   },
   {
    "duration": 40,
    "start_time": "2022-06-01T05:55:14.826Z"
   },
   {
    "duration": 55,
    "start_time": "2022-06-01T06:00:02.817Z"
   },
   {
    "duration": 48,
    "start_time": "2022-06-01T06:00:29.846Z"
   },
   {
    "duration": 49,
    "start_time": "2022-06-01T06:01:30.629Z"
   },
   {
    "duration": 63,
    "start_time": "2022-06-01T06:01:48.893Z"
   },
   {
    "duration": 60,
    "start_time": "2022-06-01T06:02:14.294Z"
   },
   {
    "duration": 64,
    "start_time": "2022-06-01T06:07:19.194Z"
   },
   {
    "duration": 37,
    "start_time": "2022-06-01T06:08:01.786Z"
   },
   {
    "duration": 71,
    "start_time": "2022-06-01T06:08:27.841Z"
   },
   {
    "duration": 54,
    "start_time": "2022-06-01T06:09:04.936Z"
   },
   {
    "duration": 68,
    "start_time": "2022-06-01T07:09:49.690Z"
   },
   {
    "duration": 52,
    "start_time": "2022-06-01T07:10:29.656Z"
   },
   {
    "duration": 61,
    "start_time": "2022-06-01T07:11:03.297Z"
   },
   {
    "duration": 70,
    "start_time": "2022-06-01T07:11:21.720Z"
   },
   {
    "duration": 96,
    "start_time": "2022-06-01T07:17:25.487Z"
   },
   {
    "duration": 52,
    "start_time": "2022-06-01T07:17:53.146Z"
   },
   {
    "duration": 40,
    "start_time": "2022-06-01T07:20:19.026Z"
   },
   {
    "duration": 60,
    "start_time": "2022-06-01T07:20:48.773Z"
   },
   {
    "duration": 47,
    "start_time": "2022-06-01T07:29:53.547Z"
   },
   {
    "duration": 8,
    "start_time": "2022-06-01T07:43:41.050Z"
   },
   {
    "duration": 13,
    "start_time": "2022-06-01T07:43:51.602Z"
   },
   {
    "duration": 89,
    "start_time": "2022-06-01T07:44:12.690Z"
   },
   {
    "duration": 15,
    "start_time": "2022-06-01T07:58:02.453Z"
   },
   {
    "duration": 86,
    "start_time": "2022-06-01T08:00:06.111Z"
   },
   {
    "duration": 10,
    "start_time": "2022-06-01T08:01:18.248Z"
   },
   {
    "duration": 12,
    "start_time": "2022-06-01T08:02:18.356Z"
   },
   {
    "duration": 13,
    "start_time": "2022-06-01T08:02:26.945Z"
   },
   {
    "duration": 10,
    "start_time": "2022-06-01T08:02:36.164Z"
   },
   {
    "duration": 100,
    "start_time": "2022-06-01T08:11:59.260Z"
   },
   {
    "duration": 14,
    "start_time": "2022-06-01T08:12:15.353Z"
   },
   {
    "duration": 38,
    "start_time": "2022-06-01T08:38:06.846Z"
   },
   {
    "duration": 10,
    "start_time": "2022-06-01T08:39:00.946Z"
   },
   {
    "duration": 4,
    "start_time": "2022-06-01T08:40:58.999Z"
   },
   {
    "duration": 186,
    "start_time": "2022-06-01T08:41:28.851Z"
   },
   {
    "duration": 74,
    "start_time": "2022-06-01T09:08:26.643Z"
   },
   {
    "duration": 410,
    "start_time": "2022-06-01T09:09:52.616Z"
   },
   {
    "duration": 1912,
    "start_time": "2022-06-01T09:09:59.538Z"
   },
   {
    "duration": 305,
    "start_time": "2022-06-01T09:10:01.452Z"
   },
   {
    "duration": 0,
    "start_time": "2022-06-01T09:10:01.759Z"
   },
   {
    "duration": 0,
    "start_time": "2022-06-01T09:10:01.761Z"
   },
   {
    "duration": 0,
    "start_time": "2022-06-01T09:10:01.763Z"
   },
   {
    "duration": 0,
    "start_time": "2022-06-01T09:10:01.764Z"
   },
   {
    "duration": 0,
    "start_time": "2022-06-01T09:10:01.766Z"
   },
   {
    "duration": 161,
    "start_time": "2022-06-01T09:10:45.942Z"
   },
   {
    "duration": 1432,
    "start_time": "2022-06-01T09:10:59.983Z"
   },
   {
    "duration": 276,
    "start_time": "2022-06-01T09:11:01.417Z"
   },
   {
    "duration": 167,
    "start_time": "2022-06-01T09:11:01.697Z"
   },
   {
    "duration": 181,
    "start_time": "2022-06-01T09:11:01.867Z"
   },
   {
    "duration": 13,
    "start_time": "2022-06-01T09:11:02.051Z"
   },
   {
    "duration": 101,
    "start_time": "2022-06-01T09:11:02.076Z"
   },
   {
    "duration": 114,
    "start_time": "2022-06-01T09:11:02.179Z"
   },
   {
    "duration": 858,
    "start_time": "2022-06-01T09:24:59.809Z"
   },
   {
    "duration": 62,
    "start_time": "2022-06-01T09:25:13.961Z"
   },
   {
    "duration": 59,
    "start_time": "2022-06-01T09:25:57.004Z"
   },
   {
    "duration": 67,
    "start_time": "2022-06-01T09:27:36.696Z"
   },
   {
    "duration": 63,
    "start_time": "2022-06-01T09:28:20.573Z"
   },
   {
    "duration": 93,
    "start_time": "2022-06-01T09:35:20.900Z"
   },
   {
    "duration": 71,
    "start_time": "2022-06-01T09:37:06.904Z"
   },
   {
    "duration": 85,
    "start_time": "2022-06-01T09:42:17.766Z"
   },
   {
    "duration": 65,
    "start_time": "2022-06-01T09:42:43.013Z"
   },
   {
    "duration": 79,
    "start_time": "2022-06-01T09:47:41.718Z"
   },
   {
    "duration": 62,
    "start_time": "2022-06-01T09:48:17.052Z"
   },
   {
    "duration": 64,
    "start_time": "2022-06-01T09:48:33.055Z"
   },
   {
    "duration": 79,
    "start_time": "2022-06-01T09:50:13.555Z"
   },
   {
    "duration": 137,
    "start_time": "2022-06-01T09:50:42.226Z"
   },
   {
    "duration": 104,
    "start_time": "2022-06-01T09:51:10.053Z"
   },
   {
    "duration": 81,
    "start_time": "2022-06-01T10:00:03.623Z"
   },
   {
    "duration": 69,
    "start_time": "2022-06-01T10:01:47.309Z"
   },
   {
    "duration": 1343,
    "start_time": "2022-06-01T10:01:58.624Z"
   },
   {
    "duration": 206,
    "start_time": "2022-06-01T10:01:59.970Z"
   },
   {
    "duration": 127,
    "start_time": "2022-06-01T10:02:00.178Z"
   },
   {
    "duration": 153,
    "start_time": "2022-06-01T10:02:00.307Z"
   },
   {
    "duration": 9,
    "start_time": "2022-06-01T10:02:00.462Z"
   },
   {
    "duration": 58,
    "start_time": "2022-06-01T10:02:00.473Z"
   },
   {
    "duration": 69,
    "start_time": "2022-06-01T10:02:00.537Z"
   },
   {
    "duration": 81,
    "start_time": "2022-06-01T10:12:03.023Z"
   },
   {
    "duration": 83,
    "start_time": "2022-06-01T10:13:46.621Z"
   },
   {
    "duration": 63,
    "start_time": "2022-06-01T10:14:17.553Z"
   },
   {
    "duration": 42,
    "start_time": "2022-06-01T11:34:05.524Z"
   },
   {
    "duration": 3,
    "start_time": "2022-06-01T11:35:30.950Z"
   },
   {
    "duration": 98,
    "start_time": "2022-06-01T11:35:54.093Z"
   },
   {
    "duration": 10,
    "start_time": "2022-06-01T11:36:18.827Z"
   },
   {
    "duration": 39,
    "start_time": "2022-06-01T11:36:36.916Z"
   },
   {
    "duration": 245,
    "start_time": "2022-06-01T11:37:40.163Z"
   },
   {
    "duration": 748,
    "start_time": "2022-06-01T11:38:08.467Z"
   },
   {
    "duration": 823,
    "start_time": "2022-06-01T11:38:44.291Z"
   },
   {
    "duration": 23,
    "start_time": "2022-06-01T11:39:48.481Z"
   },
   {
    "duration": 16,
    "start_time": "2022-06-01T11:40:08.961Z"
   },
   {
    "duration": 13,
    "start_time": "2022-06-01T11:41:01.697Z"
   },
   {
    "duration": 239,
    "start_time": "2022-06-01T11:41:40.696Z"
   },
   {
    "duration": 40,
    "start_time": "2022-06-01T11:42:27.442Z"
   },
   {
    "duration": 238,
    "start_time": "2022-06-01T11:42:48.255Z"
   },
   {
    "duration": 10,
    "start_time": "2022-06-01T11:44:09.654Z"
   },
   {
    "duration": 3,
    "start_time": "2022-06-01T12:32:56.954Z"
   },
   {
    "duration": 1278,
    "start_time": "2022-06-01T12:33:11.234Z"
   },
   {
    "duration": 195,
    "start_time": "2022-06-01T12:33:12.513Z"
   },
   {
    "duration": 134,
    "start_time": "2022-06-01T12:33:12.710Z"
   },
   {
    "duration": 128,
    "start_time": "2022-06-01T12:33:12.846Z"
   },
   {
    "duration": 9,
    "start_time": "2022-06-01T12:33:12.977Z"
   },
   {
    "duration": 53,
    "start_time": "2022-06-01T12:33:12.988Z"
   },
   {
    "duration": 73,
    "start_time": "2022-06-01T12:33:13.043Z"
   },
   {
    "duration": 3,
    "start_time": "2022-06-01T12:33:13.118Z"
   },
   {
    "duration": 3,
    "start_time": "2022-06-01T12:33:19.951Z"
   },
   {
    "duration": 36,
    "start_time": "2022-06-01T12:33:32.206Z"
   },
   {
    "duration": 96,
    "start_time": "2022-06-01T12:34:16.326Z"
   },
   {
    "duration": 11,
    "start_time": "2022-06-01T12:34:50.649Z"
   },
   {
    "duration": 28,
    "start_time": "2022-06-01T12:35:27.789Z"
   },
   {
    "duration": 11,
    "start_time": "2022-06-01T12:35:47.165Z"
   },
   {
    "duration": 11,
    "start_time": "2022-06-01T12:36:17.180Z"
   },
   {
    "duration": 4,
    "start_time": "2022-06-01T12:37:28.788Z"
   },
   {
    "duration": 15,
    "start_time": "2022-06-01T12:37:42.188Z"
   },
   {
    "duration": 792,
    "start_time": "2022-06-01T12:43:31.203Z"
   },
   {
    "duration": 553,
    "start_time": "2022-06-01T12:44:36.904Z"
   },
   {
    "duration": 650,
    "start_time": "2022-06-01T12:45:47.745Z"
   },
   {
    "duration": 608,
    "start_time": "2022-06-01T12:46:46.289Z"
   },
   {
    "duration": 1368,
    "start_time": "2022-06-01T12:47:01.320Z"
   },
   {
    "duration": 218,
    "start_time": "2022-06-01T12:47:02.690Z"
   },
   {
    "duration": 120,
    "start_time": "2022-06-01T12:47:02.909Z"
   },
   {
    "duration": 125,
    "start_time": "2022-06-01T12:47:03.036Z"
   },
   {
    "duration": 9,
    "start_time": "2022-06-01T12:47:03.164Z"
   },
   {
    "duration": 47,
    "start_time": "2022-06-01T12:47:03.174Z"
   },
   {
    "duration": 86,
    "start_time": "2022-06-01T12:47:03.223Z"
   },
   {
    "duration": 150,
    "start_time": "2022-06-01T12:47:03.311Z"
   },
   {
    "duration": 1773,
    "start_time": "2022-06-01T14:50:43.631Z"
   },
   {
    "duration": 166,
    "start_time": "2022-06-01T14:50:45.406Z"
   },
   {
    "duration": 98,
    "start_time": "2022-06-01T14:50:45.574Z"
   },
   {
    "duration": 113,
    "start_time": "2022-06-01T14:50:45.675Z"
   },
   {
    "duration": 7,
    "start_time": "2022-06-01T14:50:45.789Z"
   },
   {
    "duration": 46,
    "start_time": "2022-06-01T14:50:45.797Z"
   },
   {
    "duration": 53,
    "start_time": "2022-06-01T14:50:45.845Z"
   },
   {
    "duration": 100,
    "start_time": "2022-06-01T14:50:45.899Z"
   },
   {
    "duration": 3,
    "start_time": "2022-06-01T15:09:48.793Z"
   },
   {
    "duration": 11,
    "start_time": "2022-06-01T15:10:38.188Z"
   },
   {
    "duration": 15,
    "start_time": "2022-06-01T15:10:52.418Z"
   },
   {
    "duration": 15,
    "start_time": "2022-06-01T15:11:14.636Z"
   },
   {
    "duration": 16,
    "start_time": "2022-06-01T15:11:49.054Z"
   },
   {
    "duration": 1044,
    "start_time": "2022-06-01T15:12:03.817Z"
   },
   {
    "duration": 157,
    "start_time": "2022-06-01T15:12:04.864Z"
   },
   {
    "duration": 82,
    "start_time": "2022-06-01T15:12:05.023Z"
   },
   {
    "duration": 106,
    "start_time": "2022-06-01T15:12:05.107Z"
   },
   {
    "duration": 16,
    "start_time": "2022-06-01T15:12:05.214Z"
   },
   {
    "duration": 37,
    "start_time": "2022-06-01T15:12:05.232Z"
   },
   {
    "duration": 55,
    "start_time": "2022-06-01T15:12:05.270Z"
   },
   {
    "duration": 16,
    "start_time": "2022-06-01T15:12:05.327Z"
   },
   {
    "duration": 26,
    "start_time": "2022-06-01T15:14:37.938Z"
   },
   {
    "duration": 658,
    "start_time": "2022-06-01T15:14:53.437Z"
   },
   {
    "duration": 21,
    "start_time": "2022-06-01T15:15:49.188Z"
   },
   {
    "duration": 20,
    "start_time": "2022-06-01T15:16:18.365Z"
   },
   {
    "duration": 26,
    "start_time": "2022-06-01T15:18:55.323Z"
   },
   {
    "duration": 17,
    "start_time": "2022-06-01T15:21:40.265Z"
   },
   {
    "duration": 31,
    "start_time": "2022-06-01T15:21:58.351Z"
   },
   {
    "duration": 47,
    "start_time": "2022-06-01T15:23:29.291Z"
   },
   {
    "duration": 34,
    "start_time": "2022-06-01T15:24:31.746Z"
   },
   {
    "duration": 27,
    "start_time": "2022-06-01T15:24:47.403Z"
   },
   {
    "duration": 26,
    "start_time": "2022-06-01T15:25:25.841Z"
   },
   {
    "duration": 45,
    "start_time": "2022-06-01T15:26:30.542Z"
   },
   {
    "duration": 27,
    "start_time": "2022-06-01T15:26:44.329Z"
   },
   {
    "duration": 53,
    "start_time": "2022-06-01T16:27:51.962Z"
   },
   {
    "duration": 49,
    "start_time": "2022-06-01T16:32:18.223Z"
   },
   {
    "duration": 42,
    "start_time": "2022-06-01T16:34:08.399Z"
   },
   {
    "duration": 58,
    "start_time": "2022-06-01T16:36:47.834Z"
   },
   {
    "duration": 57,
    "start_time": "2022-06-01T16:47:42.934Z"
   },
   {
    "duration": 488,
    "start_time": "2022-06-01T16:51:55.762Z"
   },
   {
    "duration": 365,
    "start_time": "2022-06-01T16:52:12.420Z"
   },
   {
    "duration": 29,
    "start_time": "2022-06-01T16:52:23.931Z"
   },
   {
    "duration": 254,
    "start_time": "2022-06-01T16:52:48.572Z"
   },
   {
    "duration": 26,
    "start_time": "2022-06-01T16:53:07.318Z"
   },
   {
    "duration": 43,
    "start_time": "2022-06-01T16:56:44.387Z"
   },
   {
    "duration": 51,
    "start_time": "2022-06-01T16:56:59.357Z"
   },
   {
    "duration": 41,
    "start_time": "2022-06-01T16:57:56.812Z"
   },
   {
    "duration": 47,
    "start_time": "2022-06-01T16:58:35.024Z"
   },
   {
    "duration": 1997,
    "start_time": "2022-06-01T17:01:57.311Z"
   },
   {
    "duration": 144,
    "start_time": "2022-06-01T17:15:21.915Z"
   },
   {
    "duration": 77,
    "start_time": "2022-06-01T17:16:03.646Z"
   },
   {
    "duration": 79,
    "start_time": "2022-06-01T17:16:33.687Z"
   },
   {
    "duration": 105,
    "start_time": "2022-06-01T17:17:15.680Z"
   },
   {
    "duration": 74,
    "start_time": "2022-06-01T17:17:41.938Z"
   },
   {
    "duration": 184,
    "start_time": "2022-06-01T17:18:12.636Z"
   },
   {
    "duration": 135,
    "start_time": "2022-06-01T17:19:21.728Z"
   },
   {
    "duration": 135,
    "start_time": "2022-06-01T17:53:26.729Z"
   },
   {
    "duration": 134,
    "start_time": "2022-06-01T17:54:17.253Z"
   },
   {
    "duration": 133,
    "start_time": "2022-06-01T18:06:13.648Z"
   },
   {
    "duration": 1003,
    "start_time": "2022-06-01T18:16:18.580Z"
   },
   {
    "duration": 163,
    "start_time": "2022-06-01T18:16:19.585Z"
   },
   {
    "duration": 91,
    "start_time": "2022-06-01T18:16:19.750Z"
   },
   {
    "duration": 103,
    "start_time": "2022-06-01T18:16:19.843Z"
   },
   {
    "duration": 7,
    "start_time": "2022-06-01T18:16:19.948Z"
   },
   {
    "duration": 21,
    "start_time": "2022-06-01T18:16:19.956Z"
   },
   {
    "duration": 82,
    "start_time": "2022-06-01T18:16:19.978Z"
   },
   {
    "duration": 119,
    "start_time": "2022-06-01T18:16:20.061Z"
   },
   {
    "duration": 68,
    "start_time": "2022-06-01T18:18:38.312Z"
   },
   {
    "duration": 56,
    "start_time": "2022-06-02T03:39:06.915Z"
   },
   {
    "duration": 1791,
    "start_time": "2022-06-02T03:39:23.146Z"
   },
   {
    "duration": 170,
    "start_time": "2022-06-02T03:39:24.939Z"
   },
   {
    "duration": 79,
    "start_time": "2022-06-02T03:39:25.111Z"
   },
   {
    "duration": 0,
    "start_time": "2022-06-02T03:39:25.192Z"
   },
   {
    "duration": 0,
    "start_time": "2022-06-02T03:39:25.193Z"
   },
   {
    "duration": 0,
    "start_time": "2022-06-02T03:39:25.194Z"
   },
   {
    "duration": 0,
    "start_time": "2022-06-02T03:39:25.195Z"
   },
   {
    "duration": 0,
    "start_time": "2022-06-02T03:39:25.197Z"
   },
   {
    "duration": 0,
    "start_time": "2022-06-02T03:39:25.198Z"
   },
   {
    "duration": 217,
    "start_time": "2022-06-02T03:40:30.853Z"
   },
   {
    "duration": 344,
    "start_time": "2022-06-02T03:40:52.300Z"
   },
   {
    "duration": 12,
    "start_time": "2022-06-02T03:41:49.156Z"
   },
   {
    "duration": 10,
    "start_time": "2022-06-02T03:42:32.987Z"
   },
   {
    "duration": 10,
    "start_time": "2022-06-02T03:42:43.818Z"
   },
   {
    "duration": 127,
    "start_time": "2022-06-02T03:58:55.609Z"
   },
   {
    "duration": 205,
    "start_time": "2022-06-02T04:00:55.792Z"
   },
   {
    "duration": 151,
    "start_time": "2022-06-02T04:07:10.286Z"
   },
   {
    "duration": 151,
    "start_time": "2022-06-02T04:08:48.827Z"
   },
   {
    "duration": 327,
    "start_time": "2022-06-02T04:09:41.650Z"
   },
   {
    "duration": 18,
    "start_time": "2022-06-02T04:10:18.482Z"
   },
   {
    "duration": 1083,
    "start_time": "2022-06-02T04:10:44.343Z"
   },
   {
    "duration": 211,
    "start_time": "2022-06-02T04:10:45.428Z"
   },
   {
    "duration": 103,
    "start_time": "2022-06-02T04:10:45.641Z"
   },
   {
    "duration": 0,
    "start_time": "2022-06-02T04:10:45.746Z"
   },
   {
    "duration": 0,
    "start_time": "2022-06-02T04:10:45.747Z"
   },
   {
    "duration": 0,
    "start_time": "2022-06-02T04:10:45.748Z"
   },
   {
    "duration": 0,
    "start_time": "2022-06-02T04:10:45.749Z"
   },
   {
    "duration": 0,
    "start_time": "2022-06-02T04:10:45.750Z"
   },
   {
    "duration": 0,
    "start_time": "2022-06-02T04:10:45.751Z"
   },
   {
    "duration": 17,
    "start_time": "2022-06-02T04:12:23.666Z"
   },
   {
    "duration": 23,
    "start_time": "2022-06-02T04:32:36.304Z"
   },
   {
    "duration": 14,
    "start_time": "2022-06-02T04:44:13.366Z"
   },
   {
    "duration": 13,
    "start_time": "2022-06-02T04:47:54.059Z"
   },
   {
    "duration": 47,
    "start_time": "2022-06-02T04:48:37.027Z"
   },
   {
    "duration": 144,
    "start_time": "2022-06-02T04:52:03.713Z"
   },
   {
    "duration": 10,
    "start_time": "2022-06-02T04:56:49.496Z"
   },
   {
    "duration": 2302,
    "start_time": "2022-06-02T04:58:35.502Z"
   },
   {
    "duration": 2274,
    "start_time": "2022-06-02T04:58:54.756Z"
   },
   {
    "duration": 2263,
    "start_time": "2022-06-02T04:59:11.040Z"
   },
   {
    "duration": 2211,
    "start_time": "2022-06-02T05:00:11.268Z"
   },
   {
    "duration": 1133,
    "start_time": "2022-06-02T05:02:03.437Z"
   },
   {
    "duration": 171,
    "start_time": "2022-06-02T05:02:04.572Z"
   },
   {
    "duration": 2315,
    "start_time": "2022-06-02T05:02:04.747Z"
   },
   {
    "duration": 96,
    "start_time": "2022-06-02T05:02:07.063Z"
   },
   {
    "duration": 115,
    "start_time": "2022-06-02T05:02:07.161Z"
   },
   {
    "duration": 8,
    "start_time": "2022-06-02T05:02:07.278Z"
   },
   {
    "duration": 40,
    "start_time": "2022-06-02T05:02:07.288Z"
   },
   {
    "duration": 68,
    "start_time": "2022-06-02T05:02:07.330Z"
   },
   {
    "duration": 98,
    "start_time": "2022-06-02T05:02:07.401Z"
   },
   {
    "duration": 2145,
    "start_time": "2022-06-02T05:04:51.937Z"
   },
   {
    "duration": 2139,
    "start_time": "2022-06-02T05:07:38.765Z"
   },
   {
    "duration": 2487,
    "start_time": "2022-06-02T05:14:28.587Z"
   },
   {
    "duration": 2116,
    "start_time": "2022-06-02T07:45:20.943Z"
   },
   {
    "duration": 2247,
    "start_time": "2022-06-02T07:46:44.916Z"
   },
   {
    "duration": 2180,
    "start_time": "2022-06-02T07:47:23.388Z"
   },
   {
    "duration": 2351,
    "start_time": "2022-06-02T07:48:08.691Z"
   },
   {
    "duration": 2260,
    "start_time": "2022-06-02T07:48:40.752Z"
   },
   {
    "duration": 2285,
    "start_time": "2022-06-02T07:50:00.851Z"
   },
   {
    "duration": 2696,
    "start_time": "2022-06-02T07:50:36.051Z"
   },
   {
    "duration": 29,
    "start_time": "2022-06-02T07:51:18.891Z"
   },
   {
    "duration": 5,
    "start_time": "2022-06-02T07:51:47.211Z"
   },
   {
    "duration": 2250,
    "start_time": "2022-06-02T07:52:11.954Z"
   },
   {
    "duration": 2345,
    "start_time": "2022-06-02T07:53:17.294Z"
   },
   {
    "duration": 1046,
    "start_time": "2022-06-02T07:53:28.660Z"
   },
   {
    "duration": 168,
    "start_time": "2022-06-02T07:53:29.708Z"
   },
   {
    "duration": 2271,
    "start_time": "2022-06-02T07:53:29.878Z"
   },
   {
    "duration": 97,
    "start_time": "2022-06-02T07:53:32.152Z"
   },
   {
    "duration": 114,
    "start_time": "2022-06-02T07:53:32.251Z"
   },
   {
    "duration": 7,
    "start_time": "2022-06-02T07:53:32.367Z"
   },
   {
    "duration": 22,
    "start_time": "2022-06-02T07:53:32.376Z"
   },
   {
    "duration": 73,
    "start_time": "2022-06-02T07:53:32.400Z"
   },
   {
    "duration": 84,
    "start_time": "2022-06-02T07:53:32.474Z"
   },
   {
    "duration": 2259,
    "start_time": "2022-06-02T07:54:12.797Z"
   },
   {
    "duration": 2350,
    "start_time": "2022-06-02T07:54:48.236Z"
   },
   {
    "duration": 2245,
    "start_time": "2022-06-02T07:55:41.452Z"
   },
   {
    "duration": 2457,
    "start_time": "2022-06-02T07:56:02.932Z"
   },
   {
    "duration": 2152,
    "start_time": "2022-06-02T07:56:22.323Z"
   },
   {
    "duration": 1023,
    "start_time": "2022-06-02T07:56:36.965Z"
   },
   {
    "duration": 167,
    "start_time": "2022-06-02T07:56:37.991Z"
   },
   {
    "duration": 2144,
    "start_time": "2022-06-02T07:56:38.160Z"
   },
   {
    "duration": 91,
    "start_time": "2022-06-02T07:56:40.306Z"
   },
   {
    "duration": 108,
    "start_time": "2022-06-02T07:56:40.399Z"
   },
   {
    "duration": 7,
    "start_time": "2022-06-02T07:56:40.508Z"
   },
   {
    "duration": 40,
    "start_time": "2022-06-02T07:56:40.527Z"
   },
   {
    "duration": 61,
    "start_time": "2022-06-02T07:56:40.569Z"
   },
   {
    "duration": 70,
    "start_time": "2022-06-02T07:56:40.632Z"
   },
   {
    "duration": 6,
    "start_time": "2022-06-02T07:57:32.763Z"
   },
   {
    "duration": 55,
    "start_time": "2022-06-02T07:57:51.353Z"
   },
   {
    "duration": 2329,
    "start_time": "2022-06-02T07:58:14.922Z"
   },
   {
    "duration": 9,
    "start_time": "2022-06-02T08:00:34.282Z"
   },
   {
    "duration": 54,
    "start_time": "2022-06-02T08:01:25.672Z"
   },
   {
    "duration": 11,
    "start_time": "2022-06-02T08:01:34.800Z"
   },
   {
    "duration": 328,
    "start_time": "2022-06-02T08:31:33.848Z"
   },
   {
    "duration": 31,
    "start_time": "2022-06-02T08:38:10.378Z"
   },
   {
    "duration": 6,
    "start_time": "2022-06-02T08:38:39.498Z"
   },
   {
    "duration": 10,
    "start_time": "2022-06-02T08:43:22.198Z"
   },
   {
    "duration": 19,
    "start_time": "2022-06-02T08:43:52.405Z"
   },
   {
    "duration": 18,
    "start_time": "2022-06-02T08:45:05.221Z"
   },
   {
    "duration": 6,
    "start_time": "2022-06-02T08:45:16.412Z"
   },
   {
    "duration": 23,
    "start_time": "2022-06-02T08:45:29.132Z"
   },
   {
    "duration": 1060,
    "start_time": "2022-06-02T08:45:57.095Z"
   },
   {
    "duration": 156,
    "start_time": "2022-06-02T08:45:58.157Z"
   },
   {
    "duration": 24,
    "start_time": "2022-06-02T08:45:58.315Z"
   },
   {
    "duration": 89,
    "start_time": "2022-06-02T08:45:58.341Z"
   },
   {
    "duration": 100,
    "start_time": "2022-06-02T08:45:58.431Z"
   },
   {
    "duration": 6,
    "start_time": "2022-06-02T08:45:58.533Z"
   },
   {
    "duration": 22,
    "start_time": "2022-06-02T08:45:58.540Z"
   },
   {
    "duration": 68,
    "start_time": "2022-06-02T08:45:58.564Z"
   },
   {
    "duration": 67,
    "start_time": "2022-06-02T08:45:58.634Z"
   },
   {
    "duration": 103,
    "start_time": "2022-06-02T08:46:45.327Z"
   },
   {
    "duration": 348,
    "start_time": "2022-06-02T08:47:41.179Z"
   },
   {
    "duration": 27,
    "start_time": "2022-06-02T08:48:21.666Z"
   },
   {
    "duration": 36,
    "start_time": "2022-06-02T08:48:53.803Z"
   },
   {
    "duration": 32,
    "start_time": "2022-06-02T08:49:34.441Z"
   },
   {
    "duration": 31,
    "start_time": "2022-06-02T08:49:53.945Z"
   },
   {
    "duration": 10,
    "start_time": "2022-06-02T09:01:17.411Z"
   },
   {
    "duration": 30,
    "start_time": "2022-06-02T09:01:33.905Z"
   },
   {
    "duration": 29,
    "start_time": "2022-06-02T09:01:53.425Z"
   },
   {
    "duration": 51,
    "start_time": "2022-06-02T09:02:09.409Z"
   },
   {
    "duration": 57,
    "start_time": "2022-06-02T09:02:27.771Z"
   },
   {
    "duration": 67,
    "start_time": "2022-06-02T09:03:13.881Z"
   },
   {
    "duration": 60,
    "start_time": "2022-06-02T09:03:46.130Z"
   },
   {
    "duration": 1039,
    "start_time": "2022-06-02T09:03:55.061Z"
   },
   {
    "duration": 206,
    "start_time": "2022-06-02T09:03:56.102Z"
   },
   {
    "duration": 96,
    "start_time": "2022-06-02T09:03:56.310Z"
   },
   {
    "duration": 112,
    "start_time": "2022-06-02T09:03:56.408Z"
   },
   {
    "duration": 112,
    "start_time": "2022-06-02T09:03:56.521Z"
   },
   {
    "duration": 7,
    "start_time": "2022-06-02T09:03:56.635Z"
   },
   {
    "duration": 21,
    "start_time": "2022-06-02T09:03:56.643Z"
   },
   {
    "duration": 73,
    "start_time": "2022-06-02T09:03:56.666Z"
   },
   {
    "duration": 72,
    "start_time": "2022-06-02T09:03:56.740Z"
   },
   {
    "duration": 1097,
    "start_time": "2022-06-02T09:13:24.988Z"
   },
   {
    "duration": 199,
    "start_time": "2022-06-02T09:13:26.087Z"
   },
   {
    "duration": 11,
    "start_time": "2022-06-02T09:13:26.288Z"
   },
   {
    "duration": 0,
    "start_time": "2022-06-02T09:13:26.301Z"
   },
   {
    "duration": 0,
    "start_time": "2022-06-02T09:13:26.302Z"
   },
   {
    "duration": 0,
    "start_time": "2022-06-02T09:13:26.304Z"
   },
   {
    "duration": 0,
    "start_time": "2022-06-02T09:13:26.306Z"
   },
   {
    "duration": 0,
    "start_time": "2022-06-02T09:13:26.326Z"
   },
   {
    "duration": 0,
    "start_time": "2022-06-02T09:13:26.329Z"
   },
   {
    "duration": 49,
    "start_time": "2022-06-02T09:13:44.867Z"
   },
   {
    "duration": 822,
    "start_time": "2022-06-02T09:14:35.804Z"
   },
   {
    "duration": 175,
    "start_time": "2022-06-02T09:15:34.417Z"
   },
   {
    "duration": 123,
    "start_time": "2022-06-02T09:48:12.718Z"
   },
   {
    "duration": 123,
    "start_time": "2022-06-02T09:49:00.245Z"
   },
   {
    "duration": 464,
    "start_time": "2022-06-02T09:52:34.098Z"
   },
   {
    "duration": 58,
    "start_time": "2022-06-02T09:53:13.055Z"
   },
   {
    "duration": 45,
    "start_time": "2022-06-02T09:55:17.154Z"
   },
   {
    "duration": 53,
    "start_time": "2022-06-02T09:55:45.095Z"
   },
   {
    "duration": 53,
    "start_time": "2022-06-02T09:55:56.823Z"
   },
   {
    "duration": 38,
    "start_time": "2022-06-02T09:56:41.687Z"
   },
   {
    "duration": 30,
    "start_time": "2022-06-02T09:58:01.503Z"
   },
   {
    "duration": 63,
    "start_time": "2022-06-02T10:19:05.392Z"
   },
   {
    "duration": 164,
    "start_time": "2022-06-02T10:19:28.593Z"
   },
   {
    "duration": 167,
    "start_time": "2022-06-02T10:19:48.111Z"
   },
   {
    "duration": 165,
    "start_time": "2022-06-02T10:20:45.443Z"
   },
   {
    "duration": 515,
    "start_time": "2022-06-02T10:21:20.465Z"
   },
   {
    "duration": 424,
    "start_time": "2022-06-02T10:21:37.555Z"
   },
   {
    "duration": 601,
    "start_time": "2022-06-02T10:22:30.230Z"
   },
   {
    "duration": 160,
    "start_time": "2022-06-02T10:22:54.301Z"
   },
   {
    "duration": 159,
    "start_time": "2022-06-02T10:23:14.317Z"
   },
   {
    "duration": 576,
    "start_time": "2022-06-02T10:23:26.453Z"
   },
   {
    "duration": 174,
    "start_time": "2022-06-02T10:23:42.388Z"
   },
   {
    "duration": 63,
    "start_time": "2022-06-02T10:30:35.161Z"
   },
   {
    "duration": 55,
    "start_time": "2022-06-02T10:30:52.644Z"
   },
   {
    "duration": 249,
    "start_time": "2022-06-02T10:31:23.955Z"
   },
   {
    "duration": 13,
    "start_time": "2022-06-02T10:31:54.959Z"
   },
   {
    "duration": 31,
    "start_time": "2022-06-02T10:32:17.174Z"
   },
   {
    "duration": 497,
    "start_time": "2022-06-02T10:33:43.581Z"
   },
   {
    "duration": 753,
    "start_time": "2022-06-02T10:33:59.405Z"
   },
   {
    "duration": 1615,
    "start_time": "2022-06-02T10:34:59.733Z"
   },
   {
    "duration": 1142,
    "start_time": "2022-06-02T10:35:51.856Z"
   },
   {
    "duration": 170,
    "start_time": "2022-06-02T10:35:53.001Z"
   },
   {
    "duration": 1498,
    "start_time": "2022-06-02T10:35:53.176Z"
   },
   {
    "duration": 129,
    "start_time": "2022-06-02T10:35:54.676Z"
   },
   {
    "duration": 132,
    "start_time": "2022-06-02T10:35:54.807Z"
   },
   {
    "duration": 9,
    "start_time": "2022-06-02T10:35:54.940Z"
   },
   {
    "duration": 26,
    "start_time": "2022-06-02T10:35:54.951Z"
   },
   {
    "duration": 81,
    "start_time": "2022-06-02T10:35:54.979Z"
   },
   {
    "duration": 89,
    "start_time": "2022-06-02T10:35:55.062Z"
   },
   {
    "duration": 151,
    "start_time": "2022-06-02T10:37:12.267Z"
   },
   {
    "duration": 159,
    "start_time": "2022-06-02T10:37:54.698Z"
   },
   {
    "duration": 1607,
    "start_time": "2022-06-02T10:38:10.155Z"
   },
   {
    "duration": 156,
    "start_time": "2022-06-02T10:41:48.364Z"
   },
   {
    "duration": 80,
    "start_time": "2022-06-02T10:42:10.336Z"
   },
   {
    "duration": 91,
    "start_time": "2022-06-02T10:44:10.016Z"
   },
   {
    "duration": 1167,
    "start_time": "2022-06-02T10:44:37.513Z"
   },
   {
    "duration": 180,
    "start_time": "2022-06-02T10:44:38.682Z"
   },
   {
    "duration": 1498,
    "start_time": "2022-06-02T10:44:38.864Z"
   },
   {
    "duration": 161,
    "start_time": "2022-06-02T10:44:40.364Z"
   },
   {
    "duration": 0,
    "start_time": "2022-06-02T10:44:40.527Z"
   },
   {
    "duration": 0,
    "start_time": "2022-06-02T10:44:40.528Z"
   },
   {
    "duration": 0,
    "start_time": "2022-06-02T10:44:40.529Z"
   },
   {
    "duration": 0,
    "start_time": "2022-06-02T10:44:40.531Z"
   },
   {
    "duration": 0,
    "start_time": "2022-06-02T10:44:40.532Z"
   },
   {
    "duration": 0,
    "start_time": "2022-06-02T10:44:40.533Z"
   },
   {
    "duration": 91,
    "start_time": "2022-06-02T10:45:19.869Z"
   },
   {
    "duration": 18,
    "start_time": "2022-06-02T10:46:51.166Z"
   },
   {
    "duration": 9,
    "start_time": "2022-06-02T10:46:57.865Z"
   },
   {
    "duration": 1582,
    "start_time": "2022-06-02T10:47:44.569Z"
   },
   {
    "duration": 1562,
    "start_time": "2022-06-02T10:48:07.902Z"
   },
   {
    "duration": 1694,
    "start_time": "2022-06-02T10:48:53.383Z"
   },
   {
    "duration": 112,
    "start_time": "2022-06-02T10:51:56.020Z"
   },
   {
    "duration": 1526,
    "start_time": "2022-06-02T10:55:34.339Z"
   },
   {
    "duration": 1486,
    "start_time": "2022-06-02T10:56:47.508Z"
   },
   {
    "duration": 29,
    "start_time": "2022-06-02T10:57:41.785Z"
   },
   {
    "duration": 1462,
    "start_time": "2022-06-02T10:57:59.290Z"
   },
   {
    "duration": 1130,
    "start_time": "2022-06-02T10:58:12.930Z"
   },
   {
    "duration": 178,
    "start_time": "2022-06-02T10:58:14.063Z"
   },
   {
    "duration": 1655,
    "start_time": "2022-06-02T10:58:14.243Z"
   },
   {
    "duration": 101,
    "start_time": "2022-06-02T10:58:15.901Z"
   },
   {
    "duration": 1770,
    "start_time": "2022-06-02T10:58:16.004Z"
   },
   {
    "duration": 119,
    "start_time": "2022-06-02T10:58:17.776Z"
   },
   {
    "duration": 1658,
    "start_time": "2022-06-02T10:58:17.897Z"
   },
   {
    "duration": 7,
    "start_time": "2022-06-02T10:58:19.557Z"
   },
   {
    "duration": 22,
    "start_time": "2022-06-02T10:58:19.566Z"
   },
   {
    "duration": 89,
    "start_time": "2022-06-02T10:58:19.591Z"
   },
   {
    "duration": 92,
    "start_time": "2022-06-02T10:58:19.682Z"
   },
   {
    "duration": 1684,
    "start_time": "2022-06-02T11:02:00.791Z"
   },
   {
    "duration": 1531,
    "start_time": "2022-06-02T11:02:27.917Z"
   },
   {
    "duration": 1555,
    "start_time": "2022-06-02T11:02:38.590Z"
   },
   {
    "duration": 1137,
    "start_time": "2022-06-02T11:02:50.005Z"
   },
   {
    "duration": 195,
    "start_time": "2022-06-02T11:02:51.145Z"
   },
   {
    "duration": 1501,
    "start_time": "2022-06-02T11:02:51.341Z"
   },
   {
    "duration": 108,
    "start_time": "2022-06-02T11:02:52.844Z"
   },
   {
    "duration": 1536,
    "start_time": "2022-06-02T11:02:52.954Z"
   },
   {
    "duration": 112,
    "start_time": "2022-06-02T11:02:54.492Z"
   },
   {
    "duration": 1656,
    "start_time": "2022-06-02T11:02:54.607Z"
   },
   {
    "duration": 15,
    "start_time": "2022-06-02T11:02:56.265Z"
   },
   {
    "duration": 30,
    "start_time": "2022-06-02T11:02:56.282Z"
   },
   {
    "duration": 84,
    "start_time": "2022-06-02T11:02:56.315Z"
   },
   {
    "duration": 103,
    "start_time": "2022-06-02T11:02:56.403Z"
   },
   {
    "duration": 1462,
    "start_time": "2022-06-02T11:04:51.892Z"
   },
   {
    "duration": 1690,
    "start_time": "2022-06-02T11:06:15.364Z"
   },
   {
    "duration": 1127,
    "start_time": "2022-06-02T11:06:25.662Z"
   },
   {
    "duration": 171,
    "start_time": "2022-06-02T11:06:26.791Z"
   },
   {
    "duration": 1513,
    "start_time": "2022-06-02T11:06:26.964Z"
   },
   {
    "duration": 100,
    "start_time": "2022-06-02T11:06:28.479Z"
   },
   {
    "duration": 1509,
    "start_time": "2022-06-02T11:06:28.581Z"
   },
   {
    "duration": 119,
    "start_time": "2022-06-02T11:06:30.092Z"
   },
   {
    "duration": 1624,
    "start_time": "2022-06-02T11:06:30.213Z"
   },
   {
    "duration": 8,
    "start_time": "2022-06-02T11:06:31.840Z"
   },
   {
    "duration": 42,
    "start_time": "2022-06-02T11:06:31.851Z"
   },
   {
    "duration": 78,
    "start_time": "2022-06-02T11:06:31.896Z"
   },
   {
    "duration": 96,
    "start_time": "2022-06-02T11:06:31.976Z"
   },
   {
    "duration": 1489,
    "start_time": "2022-06-02T11:15:10.969Z"
   },
   {
    "duration": 1122,
    "start_time": "2022-06-02T11:15:36.517Z"
   },
   {
    "duration": 163,
    "start_time": "2022-06-02T11:15:37.641Z"
   },
   {
    "duration": 1495,
    "start_time": "2022-06-02T11:15:37.806Z"
   },
   {
    "duration": 104,
    "start_time": "2022-06-02T11:15:39.303Z"
   },
   {
    "duration": 1537,
    "start_time": "2022-06-02T11:15:39.408Z"
   },
   {
    "duration": 114,
    "start_time": "2022-06-02T11:15:40.947Z"
   },
   {
    "duration": 105,
    "start_time": "2022-06-02T11:15:41.063Z"
   },
   {
    "duration": 0,
    "start_time": "2022-06-02T11:15:41.170Z"
   },
   {
    "duration": 0,
    "start_time": "2022-06-02T11:15:41.171Z"
   },
   {
    "duration": 0,
    "start_time": "2022-06-02T11:15:41.173Z"
   },
   {
    "duration": 0,
    "start_time": "2022-06-02T11:15:41.174Z"
   },
   {
    "duration": 1638,
    "start_time": "2022-06-02T11:16:07.269Z"
   },
   {
    "duration": 8,
    "start_time": "2022-06-02T11:16:11.169Z"
   },
   {
    "duration": 18,
    "start_time": "2022-06-02T11:16:13.091Z"
   },
   {
    "duration": 223,
    "start_time": "2022-06-02T11:19:43.371Z"
   },
   {
    "duration": 56,
    "start_time": "2022-06-02T11:21:01.385Z"
   },
   {
    "duration": 36,
    "start_time": "2022-06-02T11:22:29.320Z"
   },
   {
    "duration": 1110,
    "start_time": "2022-06-02T11:22:46.634Z"
   },
   {
    "duration": 174,
    "start_time": "2022-06-02T11:22:47.746Z"
   },
   {
    "duration": 1483,
    "start_time": "2022-06-02T11:22:47.926Z"
   },
   {
    "duration": 100,
    "start_time": "2022-06-02T11:22:49.412Z"
   },
   {
    "duration": 1503,
    "start_time": "2022-06-02T11:22:49.515Z"
   },
   {
    "duration": 131,
    "start_time": "2022-06-02T11:22:51.020Z"
   },
   {
    "duration": 1670,
    "start_time": "2022-06-02T11:22:51.153Z"
   },
   {
    "duration": 8,
    "start_time": "2022-06-02T11:22:52.825Z"
   },
   {
    "duration": 23,
    "start_time": "2022-06-02T11:22:52.835Z"
   },
   {
    "duration": 39,
    "start_time": "2022-06-02T11:22:52.860Z"
   },
   {
    "duration": 33,
    "start_time": "2022-06-02T11:50:14.366Z"
   },
   {
    "duration": 21,
    "start_time": "2022-06-02T11:50:42.085Z"
   },
   {
    "duration": 99,
    "start_time": "2022-06-02T11:52:17.846Z"
   },
   {
    "duration": 61,
    "start_time": "2022-06-02T11:52:33.221Z"
   },
   {
    "duration": 31,
    "start_time": "2022-06-02T11:53:09.490Z"
   },
   {
    "duration": 21,
    "start_time": "2022-06-02T11:53:59.413Z"
   },
   {
    "duration": 26,
    "start_time": "2022-06-02T11:54:29.567Z"
   },
   {
    "duration": 116,
    "start_time": "2022-06-02T11:55:00.574Z"
   },
   {
    "duration": 7,
    "start_time": "2022-06-02T11:56:40.877Z"
   },
   {
    "duration": 7,
    "start_time": "2022-06-02T11:56:48.605Z"
   },
   {
    "duration": 15,
    "start_time": "2022-06-02T11:57:10.132Z"
   },
   {
    "duration": 6,
    "start_time": "2022-06-02T12:16:10.280Z"
   },
   {
    "duration": 17,
    "start_time": "2022-06-02T12:16:24.288Z"
   },
   {
    "duration": 80,
    "start_time": "2022-06-02T12:19:14.027Z"
   },
   {
    "duration": 29,
    "start_time": "2022-06-02T12:19:21.235Z"
   },
   {
    "duration": 44,
    "start_time": "2022-06-02T12:20:51.002Z"
   },
   {
    "duration": 50,
    "start_time": "2022-06-02T12:23:02.113Z"
   },
   {
    "duration": 797,
    "start_time": "2022-06-02T12:35:28.961Z"
   },
   {
    "duration": 853,
    "start_time": "2022-06-02T12:36:52.935Z"
   },
   {
    "duration": 1582,
    "start_time": "2022-06-02T12:40:47.414Z"
   },
   {
    "duration": 1599,
    "start_time": "2022-06-02T12:44:17.575Z"
   },
   {
    "duration": 36,
    "start_time": "2022-06-02T12:47:28.810Z"
   },
   {
    "duration": 1573,
    "start_time": "2022-06-02T12:47:53.976Z"
   },
   {
    "duration": 1561,
    "start_time": "2022-06-02T12:50:07.873Z"
   },
   {
    "duration": 1482,
    "start_time": "2022-06-02T12:50:50.040Z"
   },
   {
    "duration": 1689,
    "start_time": "2022-06-02T12:51:31.402Z"
   },
   {
    "duration": 2166,
    "start_time": "2022-06-02T12:54:07.975Z"
   },
   {
    "duration": 1553,
    "start_time": "2022-06-02T12:55:29.359Z"
   },
   {
    "duration": 1617,
    "start_time": "2022-06-02T12:56:19.339Z"
   },
   {
    "duration": 1708,
    "start_time": "2022-06-02T12:56:30.979Z"
   },
   {
    "duration": 2630,
    "start_time": "2022-06-02T13:00:28.114Z"
   },
   {
    "duration": 1910,
    "start_time": "2022-06-02T13:02:30.292Z"
   },
   {
    "duration": 3538,
    "start_time": "2022-06-02T13:03:03.768Z"
   },
   {
    "duration": 1597,
    "start_time": "2022-06-02T13:04:19.167Z"
   },
   {
    "duration": 1724,
    "start_time": "2022-06-02T18:04:18.885Z"
   },
   {
    "duration": 175,
    "start_time": "2022-06-02T18:04:20.611Z"
   },
   {
    "duration": 1528,
    "start_time": "2022-06-02T18:04:20.791Z"
   },
   {
    "duration": 88,
    "start_time": "2022-06-02T18:04:22.321Z"
   },
   {
    "duration": 1623,
    "start_time": "2022-06-02T18:04:22.410Z"
   },
   {
    "duration": 111,
    "start_time": "2022-06-02T18:04:24.035Z"
   },
   {
    "duration": 1718,
    "start_time": "2022-06-02T18:04:24.148Z"
   },
   {
    "duration": 7,
    "start_time": "2022-06-02T18:04:25.868Z"
   },
   {
    "duration": 24,
    "start_time": "2022-06-02T18:04:25.877Z"
   },
   {
    "duration": 1513,
    "start_time": "2022-06-02T18:04:25.903Z"
   },
   {
    "duration": 1916,
    "start_time": "2022-06-02T18:07:14.108Z"
   },
   {
    "duration": 1700,
    "start_time": "2022-06-02T18:07:55.295Z"
   },
   {
    "duration": 1768,
    "start_time": "2022-06-02T18:09:52.600Z"
   },
   {
    "duration": 1628,
    "start_time": "2022-06-02T18:10:29.474Z"
   },
   {
    "duration": 1812,
    "start_time": "2022-06-02T18:10:44.741Z"
   },
   {
    "duration": 1677,
    "start_time": "2022-06-02T18:14:24.547Z"
   },
   {
    "duration": 1617,
    "start_time": "2022-06-02T18:14:40.101Z"
   },
   {
    "duration": 1830,
    "start_time": "2022-06-02T18:15:37.977Z"
   },
   {
    "duration": 1874,
    "start_time": "2022-06-02T18:17:23.738Z"
   },
   {
    "duration": 1831,
    "start_time": "2022-06-02T18:17:36.237Z"
   },
   {
    "duration": 1823,
    "start_time": "2022-06-02T18:19:56.147Z"
   },
   {
    "duration": 254,
    "start_time": "2022-06-02T18:21:36.158Z"
   },
   {
    "duration": 140,
    "start_time": "2022-06-02T18:22:04.596Z"
   },
   {
    "duration": 308,
    "start_time": "2022-06-02T18:22:42.660Z"
   },
   {
    "duration": 145,
    "start_time": "2022-06-02T18:23:15.984Z"
   },
   {
    "duration": 2061,
    "start_time": "2022-06-03T09:22:13.306Z"
   },
   {
    "duration": 203,
    "start_time": "2022-06-03T09:22:15.369Z"
   },
   {
    "duration": 1561,
    "start_time": "2022-06-03T09:22:15.574Z"
   },
   {
    "duration": 108,
    "start_time": "2022-06-03T09:22:17.138Z"
   },
   {
    "duration": 1676,
    "start_time": "2022-06-03T09:22:17.247Z"
   },
   {
    "duration": 109,
    "start_time": "2022-06-03T09:22:18.925Z"
   },
   {
    "duration": 1764,
    "start_time": "2022-06-03T09:22:19.041Z"
   },
   {
    "duration": 8,
    "start_time": "2022-06-03T09:22:20.806Z"
   },
   {
    "duration": 30,
    "start_time": "2022-06-03T09:22:20.815Z"
   },
   {
    "duration": 1933,
    "start_time": "2022-06-03T09:22:20.847Z"
   },
   {
    "duration": 815,
    "start_time": "2022-06-03T09:25:14.405Z"
   },
   {
    "duration": 1150,
    "start_time": "2022-06-03T09:50:49.588Z"
   },
   {
    "duration": 264,
    "start_time": "2022-06-03T09:50:50.740Z"
   },
   {
    "duration": 0,
    "start_time": "2022-06-03T09:50:51.006Z"
   },
   {
    "duration": 0,
    "start_time": "2022-06-03T09:50:51.008Z"
   },
   {
    "duration": 0,
    "start_time": "2022-06-03T09:50:51.010Z"
   },
   {
    "duration": 0,
    "start_time": "2022-06-03T09:50:51.011Z"
   },
   {
    "duration": 0,
    "start_time": "2022-06-03T09:50:51.013Z"
   },
   {
    "duration": 0,
    "start_time": "2022-06-03T09:50:51.014Z"
   },
   {
    "duration": 0,
    "start_time": "2022-06-03T09:50:51.015Z"
   },
   {
    "duration": 0,
    "start_time": "2022-06-03T09:50:51.017Z"
   },
   {
    "duration": 131,
    "start_time": "2022-06-03T09:51:36.746Z"
   },
   {
    "duration": 1098,
    "start_time": "2022-06-03T09:52:24.894Z"
   },
   {
    "duration": 214,
    "start_time": "2022-06-03T09:52:25.994Z"
   },
   {
    "duration": 1,
    "start_time": "2022-06-03T09:52:26.210Z"
   },
   {
    "duration": 0,
    "start_time": "2022-06-03T09:52:26.212Z"
   },
   {
    "duration": 0,
    "start_time": "2022-06-03T09:52:26.218Z"
   },
   {
    "duration": 0,
    "start_time": "2022-06-03T09:52:26.219Z"
   },
   {
    "duration": 0,
    "start_time": "2022-06-03T09:52:26.220Z"
   },
   {
    "duration": 0,
    "start_time": "2022-06-03T09:52:26.220Z"
   },
   {
    "duration": 0,
    "start_time": "2022-06-03T09:52:26.221Z"
   },
   {
    "duration": 0,
    "start_time": "2022-06-03T09:52:26.222Z"
   },
   {
    "duration": 93,
    "start_time": "2022-06-03T09:53:36.308Z"
   },
   {
    "duration": 741,
    "start_time": "2022-06-03T09:54:59.538Z"
   },
   {
    "duration": 629,
    "start_time": "2022-06-03T09:55:41.843Z"
   },
   {
    "duration": 695,
    "start_time": "2022-06-03T09:56:49.933Z"
   },
   {
    "duration": 787,
    "start_time": "2022-06-03T09:59:05.780Z"
   },
   {
    "duration": 356,
    "start_time": "2022-06-03T10:05:05.078Z"
   },
   {
    "duration": 506,
    "start_time": "2022-06-03T10:06:01.725Z"
   },
   {
    "duration": 475,
    "start_time": "2022-06-03T10:08:04.082Z"
   },
   {
    "duration": 476,
    "start_time": "2022-06-03T10:08:44.804Z"
   },
   {
    "duration": 46,
    "start_time": "2022-06-03T10:09:44.322Z"
   },
   {
    "duration": 1054,
    "start_time": "2022-06-03T10:09:55.780Z"
   },
   {
    "duration": 464,
    "start_time": "2022-06-03T10:09:56.836Z"
   },
   {
    "duration": 57,
    "start_time": "2022-06-03T10:09:57.301Z"
   },
   {
    "duration": 1659,
    "start_time": "2022-06-03T10:09:57.360Z"
   },
   {
    "duration": 97,
    "start_time": "2022-06-03T10:09:59.021Z"
   },
   {
    "duration": 1592,
    "start_time": "2022-06-03T10:09:59.120Z"
   },
   {
    "duration": 114,
    "start_time": "2022-06-03T10:10:00.714Z"
   },
   {
    "duration": 1777,
    "start_time": "2022-06-03T10:10:00.830Z"
   },
   {
    "duration": 7,
    "start_time": "2022-06-03T10:10:02.608Z"
   },
   {
    "duration": 26,
    "start_time": "2022-06-03T10:10:02.617Z"
   },
   {
    "duration": 2100,
    "start_time": "2022-06-03T10:10:02.644Z"
   },
   {
    "duration": 522,
    "start_time": "2022-06-03T10:14:24.597Z"
   },
   {
    "duration": 435,
    "start_time": "2022-06-03T10:14:46.435Z"
   },
   {
    "duration": 397,
    "start_time": "2022-06-03T10:15:03.075Z"
   },
   {
    "duration": 419,
    "start_time": "2022-06-03T10:16:12.714Z"
   },
   {
    "duration": 439,
    "start_time": "2022-06-03T10:17:02.579Z"
   },
   {
    "duration": 453,
    "start_time": "2022-06-03T10:17:24.297Z"
   },
   {
    "duration": 470,
    "start_time": "2022-06-03T10:18:03.145Z"
   },
   {
    "duration": 421,
    "start_time": "2022-06-03T10:18:23.137Z"
   },
   {
    "duration": 347,
    "start_time": "2022-06-03T10:21:06.991Z"
   },
   {
    "duration": 358,
    "start_time": "2022-06-03T10:21:30.405Z"
   },
   {
    "duration": 431,
    "start_time": "2022-06-03T10:24:26.317Z"
   },
   {
    "duration": 429,
    "start_time": "2022-06-03T10:26:06.158Z"
   },
   {
    "duration": 2015,
    "start_time": "2022-06-03T10:27:51.531Z"
   },
   {
    "duration": 2376,
    "start_time": "2022-06-03T10:28:50.096Z"
   },
   {
    "duration": 2110,
    "start_time": "2022-06-03T10:29:21.654Z"
   },
   {
    "duration": 2056,
    "start_time": "2022-06-03T10:30:02.477Z"
   },
   {
    "duration": 2158,
    "start_time": "2022-06-03T10:30:19.398Z"
   },
   {
    "duration": 1202,
    "start_time": "2022-06-03T10:33:10.901Z"
   },
   {
    "duration": 504,
    "start_time": "2022-06-03T10:33:12.105Z"
   },
   {
    "duration": 429,
    "start_time": "2022-06-03T10:33:12.611Z"
   },
   {
    "duration": 1648,
    "start_time": "2022-06-03T10:33:13.041Z"
   },
   {
    "duration": 412,
    "start_time": "2022-06-03T10:33:14.690Z"
   },
   {
    "duration": 1692,
    "start_time": "2022-06-03T10:33:15.104Z"
   },
   {
    "duration": 430,
    "start_time": "2022-06-03T10:33:16.797Z"
   },
   {
    "duration": 1864,
    "start_time": "2022-06-03T10:33:17.228Z"
   },
   {
    "duration": 7,
    "start_time": "2022-06-03T10:33:19.094Z"
   },
   {
    "duration": 19,
    "start_time": "2022-06-03T10:33:19.103Z"
   },
   {
    "duration": 2112,
    "start_time": "2022-06-03T10:33:19.141Z"
   },
   {
    "duration": 388,
    "start_time": "2022-06-03T11:45:50.418Z"
   },
   {
    "duration": 61,
    "start_time": "2022-06-03T11:46:09.593Z"
   },
   {
    "duration": 50,
    "start_time": "2022-06-03T11:47:13.937Z"
   },
   {
    "duration": 59,
    "start_time": "2022-06-03T11:47:55.578Z"
   },
   {
    "duration": 416,
    "start_time": "2022-06-03T11:48:26.594Z"
   },
   {
    "duration": 9,
    "start_time": "2022-06-03T11:48:41.320Z"
   },
   {
    "duration": 18,
    "start_time": "2022-06-03T11:49:04.870Z"
   },
   {
    "duration": 392,
    "start_time": "2022-06-03T11:51:23.502Z"
   },
   {
    "duration": 408,
    "start_time": "2022-06-03T11:51:42.023Z"
   },
   {
    "duration": 1832,
    "start_time": "2022-06-03T11:51:46.102Z"
   },
   {
    "duration": 1254,
    "start_time": "2022-06-03T11:54:05.856Z"
   },
   {
    "duration": 99,
    "start_time": "2022-06-03T11:54:07.112Z"
   },
   {
    "duration": 71,
    "start_time": "2022-06-03T11:54:07.213Z"
   },
   {
    "duration": 81,
    "start_time": "2022-06-03T11:54:07.286Z"
   },
   {
    "duration": 8,
    "start_time": "2022-06-03T11:54:07.369Z"
   },
   {
    "duration": 23,
    "start_time": "2022-06-03T11:54:07.378Z"
   },
   {
    "duration": 464,
    "start_time": "2022-06-03T11:54:07.403Z"
   },
   {
    "duration": 457,
    "start_time": "2022-06-03T11:54:07.869Z"
   },
   {
    "duration": 1727,
    "start_time": "2022-06-03T11:54:08.327Z"
   },
   {
    "duration": 410,
    "start_time": "2022-06-03T11:54:10.057Z"
   },
   {
    "duration": 1886,
    "start_time": "2022-06-03T11:54:10.468Z"
   },
   {
    "duration": 424,
    "start_time": "2022-06-03T11:54:12.361Z"
   },
   {
    "duration": 3073,
    "start_time": "2022-06-03T11:54:12.788Z"
   },
   {
    "duration": 2769,
    "start_time": "2022-06-03T11:54:15.864Z"
   },
   {
    "duration": 83,
    "start_time": "2022-06-03T12:02:39.836Z"
   },
   {
    "duration": 70,
    "start_time": "2022-06-03T12:02:56.686Z"
   },
   {
    "duration": 51,
    "start_time": "2022-06-03T12:03:07.686Z"
   },
   {
    "duration": 69,
    "start_time": "2022-06-03T12:03:23.661Z"
   },
   {
    "duration": 1168,
    "start_time": "2022-06-03T12:03:33.469Z"
   },
   {
    "duration": 114,
    "start_time": "2022-06-03T12:03:34.639Z"
   },
   {
    "duration": 60,
    "start_time": "2022-06-03T12:03:34.755Z"
   },
   {
    "duration": 103,
    "start_time": "2022-06-03T12:03:34.817Z"
   },
   {
    "duration": 8,
    "start_time": "2022-06-03T12:03:34.921Z"
   },
   {
    "duration": 32,
    "start_time": "2022-06-03T12:03:34.945Z"
   },
   {
    "duration": 445,
    "start_time": "2022-06-03T12:03:34.979Z"
   },
   {
    "duration": 396,
    "start_time": "2022-06-03T12:03:35.425Z"
   },
   {
    "duration": 1757,
    "start_time": "2022-06-03T12:03:35.823Z"
   },
   {
    "duration": 442,
    "start_time": "2022-06-03T12:03:37.582Z"
   },
   {
    "duration": 1808,
    "start_time": "2022-06-03T12:03:38.026Z"
   },
   {
    "duration": 403,
    "start_time": "2022-06-03T12:03:39.836Z"
   },
   {
    "duration": 1960,
    "start_time": "2022-06-03T12:03:40.241Z"
   },
   {
    "duration": 2258,
    "start_time": "2022-06-03T12:03:42.203Z"
   },
   {
    "duration": 220,
    "start_time": "2022-06-03T12:11:07.821Z"
   },
   {
    "duration": 102,
    "start_time": "2022-06-03T12:11:32.357Z"
   },
   {
    "duration": 135,
    "start_time": "2022-06-03T12:11:48.734Z"
   },
   {
    "duration": 25,
    "start_time": "2022-06-03T12:12:09.538Z"
   },
   {
    "duration": 384,
    "start_time": "2022-06-03T12:14:11.417Z"
   },
   {
    "duration": 403,
    "start_time": "2022-06-03T12:14:59.723Z"
   },
   {
    "duration": 1849,
    "start_time": "2022-06-03T12:15:32.937Z"
   },
   {
    "duration": 1921,
    "start_time": "2022-06-03T12:16:33.514Z"
   },
   {
    "duration": 1216,
    "start_time": "2022-06-03T12:16:46.687Z"
   },
   {
    "duration": 270,
    "start_time": "2022-06-03T12:16:47.906Z"
   },
   {
    "duration": 158,
    "start_time": "2022-06-03T12:16:48.178Z"
   },
   {
    "duration": 179,
    "start_time": "2022-06-03T12:16:48.342Z"
   },
   {
    "duration": 12,
    "start_time": "2022-06-03T12:16:48.524Z"
   },
   {
    "duration": 30,
    "start_time": "2022-06-03T12:16:48.544Z"
   },
   {
    "duration": 456,
    "start_time": "2022-06-03T12:16:48.575Z"
   },
   {
    "duration": 402,
    "start_time": "2022-06-03T12:16:49.033Z"
   },
   {
    "duration": 2126,
    "start_time": "2022-06-03T12:16:49.448Z"
   },
   {
    "duration": 497,
    "start_time": "2022-06-03T12:16:51.578Z"
   },
   {
    "duration": 2231,
    "start_time": "2022-06-03T12:16:52.081Z"
   },
   {
    "duration": 425,
    "start_time": "2022-06-03T12:16:54.314Z"
   },
   {
    "duration": 2170,
    "start_time": "2022-06-03T12:16:54.740Z"
   },
   {
    "duration": 2381,
    "start_time": "2022-06-03T12:16:56.912Z"
   },
   {
    "duration": 2202,
    "start_time": "2022-06-03T12:17:26.429Z"
   },
   {
    "duration": 2026,
    "start_time": "2022-06-03T12:17:45.205Z"
   },
   {
    "duration": 1800,
    "start_time": "2022-06-03T12:17:53.541Z"
   },
   {
    "duration": 1876,
    "start_time": "2022-06-03T12:18:45.092Z"
   },
   {
    "duration": 1971,
    "start_time": "2022-06-03T12:19:30.657Z"
   },
   {
    "duration": 448,
    "start_time": "2022-06-03T12:23:34.801Z"
   },
   {
    "duration": 418,
    "start_time": "2022-06-03T12:24:00.793Z"
   },
   {
    "duration": 387,
    "start_time": "2022-06-03T12:25:10.270Z"
   },
   {
    "duration": 369,
    "start_time": "2022-06-03T12:25:20.861Z"
   },
   {
    "duration": 1905,
    "start_time": "2022-06-03T12:25:36.968Z"
   },
   {
    "duration": 19,
    "start_time": "2022-06-03T12:26:38.615Z"
   },
   {
    "duration": 2725,
    "start_time": "2022-06-03T12:27:06.679Z"
   },
   {
    "duration": 544,
    "start_time": "2022-06-03T12:27:55.068Z"
   },
   {
    "duration": 493,
    "start_time": "2022-06-03T12:28:02.918Z"
   },
   {
    "duration": 2309,
    "start_time": "2022-06-03T12:28:29.983Z"
   },
   {
    "duration": 26,
    "start_time": "2022-06-03T12:28:51.710Z"
   },
   {
    "duration": 34,
    "start_time": "2022-06-03T12:29:02.200Z"
   },
   {
    "duration": 26,
    "start_time": "2022-06-03T12:29:21.966Z"
   },
   {
    "duration": 25,
    "start_time": "2022-06-03T12:29:41.902Z"
   },
   {
    "duration": 25,
    "start_time": "2022-06-03T12:29:58.814Z"
   },
   {
    "duration": 2782,
    "start_time": "2022-06-03T12:30:09.630Z"
   },
   {
    "duration": 2283,
    "start_time": "2022-06-03T12:30:52.400Z"
   },
   {
    "duration": 1659,
    "start_time": "2022-06-03T12:31:09.067Z"
   },
   {
    "duration": 282,
    "start_time": "2022-06-03T12:31:10.729Z"
   },
   {
    "duration": 202,
    "start_time": "2022-06-03T12:31:11.014Z"
   },
   {
    "duration": 241,
    "start_time": "2022-06-03T12:31:11.219Z"
   },
   {
    "duration": 14,
    "start_time": "2022-06-03T12:31:11.465Z"
   },
   {
    "duration": 34,
    "start_time": "2022-06-03T12:31:11.482Z"
   },
   {
    "duration": 730,
    "start_time": "2022-06-03T12:31:11.519Z"
   },
   {
    "duration": 674,
    "start_time": "2022-06-03T12:31:12.256Z"
   },
   {
    "duration": 2075,
    "start_time": "2022-06-03T12:31:12.933Z"
   },
   {
    "duration": 582,
    "start_time": "2022-06-03T12:31:15.012Z"
   },
   {
    "duration": 3010,
    "start_time": "2022-06-03T12:31:15.597Z"
   },
   {
    "duration": 596,
    "start_time": "2022-06-03T12:31:18.610Z"
   },
   {
    "duration": 3457,
    "start_time": "2022-06-03T12:31:19.209Z"
   },
   {
    "duration": 3589,
    "start_time": "2022-06-03T12:31:22.672Z"
   },
   {
    "duration": 2044,
    "start_time": "2022-06-03T12:31:38.569Z"
   },
   {
    "duration": 563,
    "start_time": "2022-06-03T12:32:12.870Z"
   },
   {
    "duration": 3025,
    "start_time": "2022-06-03T12:32:25.690Z"
   },
   {
    "duration": 3018,
    "start_time": "2022-06-03T12:33:08.776Z"
   },
   {
    "duration": 590,
    "start_time": "2022-06-03T12:33:23.994Z"
   },
   {
    "duration": 3056,
    "start_time": "2022-06-03T12:33:34.720Z"
   },
   {
    "duration": 181,
    "start_time": "2022-06-03T12:34:03.678Z"
   },
   {
    "duration": 2845,
    "start_time": "2022-06-03T12:34:13.365Z"
   },
   {
    "duration": 22,
    "start_time": "2022-06-03T12:34:23.599Z"
   },
   {
    "duration": 1687,
    "start_time": "2022-06-03T12:34:34.530Z"
   },
   {
    "duration": 313,
    "start_time": "2022-06-03T12:34:36.220Z"
   },
   {
    "duration": 232,
    "start_time": "2022-06-03T12:34:36.536Z"
   },
   {
    "duration": 255,
    "start_time": "2022-06-03T12:34:36.778Z"
   },
   {
    "duration": 30,
    "start_time": "2022-06-03T12:34:37.035Z"
   },
   {
    "duration": 56,
    "start_time": "2022-06-03T12:34:37.073Z"
   },
   {
    "duration": 605,
    "start_time": "2022-06-03T12:34:37.132Z"
   },
   {
    "duration": 507,
    "start_time": "2022-06-03T12:34:37.744Z"
   },
   {
    "duration": 2027,
    "start_time": "2022-06-03T12:34:38.253Z"
   },
   {
    "duration": 416,
    "start_time": "2022-06-03T12:34:40.282Z"
   },
   {
    "duration": 2417,
    "start_time": "2022-06-03T12:34:40.700Z"
   },
   {
    "duration": 405,
    "start_time": "2022-06-03T12:34:43.119Z"
   },
   {
    "duration": 2618,
    "start_time": "2022-06-03T12:34:43.526Z"
   },
   {
    "duration": 2987,
    "start_time": "2022-06-03T12:34:46.148Z"
   },
   {
    "duration": 62,
    "start_time": "2022-06-03T12:45:33.715Z"
   },
   {
    "duration": 2472,
    "start_time": "2022-06-03T12:48:44.016Z"
   },
   {
    "duration": 109,
    "start_time": "2022-06-03T12:53:51.761Z"
   },
   {
    "duration": 27,
    "start_time": "2022-06-03T12:54:15.827Z"
   },
   {
    "duration": 2143,
    "start_time": "2022-06-03T12:56:18.386Z"
   },
   {
    "duration": 2095,
    "start_time": "2022-06-03T12:56:56.434Z"
   },
   {
    "duration": 41,
    "start_time": "2022-06-03T13:02:11.363Z"
   },
   {
    "duration": 35,
    "start_time": "2022-06-04T14:47:37.428Z"
   },
   {
    "duration": 1656,
    "start_time": "2022-06-04T14:47:47.796Z"
   },
   {
    "duration": 204,
    "start_time": "2022-06-04T14:47:49.454Z"
   },
   {
    "duration": 113,
    "start_time": "2022-06-04T14:47:49.660Z"
   },
   {
    "duration": 145,
    "start_time": "2022-06-04T14:47:49.775Z"
   },
   {
    "duration": 8,
    "start_time": "2022-06-04T14:47:49.923Z"
   },
   {
    "duration": 55,
    "start_time": "2022-06-04T14:47:49.934Z"
   },
   {
    "duration": 394,
    "start_time": "2022-06-04T14:47:49.990Z"
   },
   {
    "duration": 367,
    "start_time": "2022-06-04T14:47:50.386Z"
   },
   {
    "duration": 1719,
    "start_time": "2022-06-04T14:47:50.755Z"
   },
   {
    "duration": 362,
    "start_time": "2022-06-04T14:47:52.476Z"
   },
   {
    "duration": 1470,
    "start_time": "2022-06-04T14:47:52.839Z"
   },
   {
    "duration": 335,
    "start_time": "2022-06-04T14:47:54.311Z"
   },
   {
    "duration": 1769,
    "start_time": "2022-06-04T14:47:54.652Z"
   },
   {
    "duration": 7,
    "start_time": "2022-06-04T14:47:56.424Z"
   },
   {
    "duration": 1401,
    "start_time": "2022-06-04T14:48:23.519Z"
   },
   {
    "duration": 1811,
    "start_time": "2022-06-04T14:49:12.015Z"
   },
   {
    "duration": 1801,
    "start_time": "2022-06-04T14:50:05.449Z"
   },
   {
    "duration": 2432,
    "start_time": "2022-06-04T14:51:34.528Z"
   },
   {
    "duration": 2403,
    "start_time": "2022-06-04T14:52:04.819Z"
   },
   {
    "duration": 2772,
    "start_time": "2022-06-04T14:58:14.802Z"
   },
   {
    "duration": 2580,
    "start_time": "2022-06-04T15:00:07.610Z"
   },
   {
    "duration": 50,
    "start_time": "2022-06-04T15:07:04.299Z"
   },
   {
    "duration": 29,
    "start_time": "2022-06-04T15:07:49.560Z"
   },
   {
    "duration": 2277,
    "start_time": "2022-06-04T15:08:15.211Z"
   },
   {
    "duration": 2120,
    "start_time": "2022-06-04T15:10:26.911Z"
   },
   {
    "duration": 2333,
    "start_time": "2022-06-04T15:11:04.595Z"
   },
   {
    "duration": 2151,
    "start_time": "2022-06-04T15:11:29.013Z"
   },
   {
    "duration": 2723,
    "start_time": "2022-06-04T15:12:34.979Z"
   },
   {
    "duration": 2476,
    "start_time": "2022-06-04T15:15:35.715Z"
   },
   {
    "duration": 2556,
    "start_time": "2022-06-04T15:16:15.507Z"
   },
   {
    "duration": 1071,
    "start_time": "2022-06-04T15:17:28.747Z"
   },
   {
    "duration": 190,
    "start_time": "2022-06-04T15:17:29.820Z"
   },
   {
    "duration": 105,
    "start_time": "2022-06-04T15:17:30.012Z"
   },
   {
    "duration": 161,
    "start_time": "2022-06-04T15:17:30.120Z"
   },
   {
    "duration": 8,
    "start_time": "2022-06-04T15:17:30.283Z"
   },
   {
    "duration": 66,
    "start_time": "2022-06-04T15:17:30.292Z"
   },
   {
    "duration": 415,
    "start_time": "2022-06-04T15:17:30.360Z"
   },
   {
    "duration": 357,
    "start_time": "2022-06-04T15:17:30.776Z"
   },
   {
    "duration": 1608,
    "start_time": "2022-06-04T15:17:31.134Z"
   },
   {
    "duration": 338,
    "start_time": "2022-06-04T15:17:32.744Z"
   },
   {
    "duration": 1505,
    "start_time": "2022-06-04T15:17:33.084Z"
   },
   {
    "duration": 347,
    "start_time": "2022-06-04T15:17:34.591Z"
   },
   {
    "duration": 1800,
    "start_time": "2022-06-04T15:17:34.939Z"
   },
   {
    "duration": 2413,
    "start_time": "2022-06-04T15:17:36.740Z"
   },
   {
    "duration": 1957,
    "start_time": "2022-06-05T12:58:49.677Z"
   },
   {
    "duration": 187,
    "start_time": "2022-06-05T12:58:51.636Z"
   },
   {
    "duration": 116,
    "start_time": "2022-06-05T12:58:51.825Z"
   },
   {
    "duration": 141,
    "start_time": "2022-06-05T12:58:51.944Z"
   },
   {
    "duration": 8,
    "start_time": "2022-06-05T12:58:52.087Z"
   },
   {
    "duration": 55,
    "start_time": "2022-06-05T12:58:52.097Z"
   },
   {
    "duration": 400,
    "start_time": "2022-06-05T12:58:52.153Z"
   },
   {
    "duration": 363,
    "start_time": "2022-06-05T12:58:52.555Z"
   },
   {
    "duration": 1616,
    "start_time": "2022-06-05T12:58:52.920Z"
   },
   {
    "duration": 339,
    "start_time": "2022-06-05T12:58:54.540Z"
   },
   {
    "duration": 1663,
    "start_time": "2022-06-05T12:58:54.881Z"
   },
   {
    "duration": 351,
    "start_time": "2022-06-05T12:58:56.546Z"
   },
   {
    "duration": 1954,
    "start_time": "2022-06-05T12:58:56.899Z"
   },
   {
    "duration": 2740,
    "start_time": "2022-06-05T12:58:58.855Z"
   },
   {
    "duration": 353,
    "start_time": "2022-06-05T13:02:33.278Z"
   },
   {
    "duration": 360,
    "start_time": "2022-06-05T13:03:07.251Z"
   },
   {
    "duration": 347,
    "start_time": "2022-06-05T13:03:31.313Z"
   },
   {
    "duration": 419,
    "start_time": "2022-06-05T13:04:13.738Z"
   },
   {
    "duration": 341,
    "start_time": "2022-06-05T13:08:01.102Z"
   },
   {
    "duration": 395,
    "start_time": "2022-06-05T13:09:34.922Z"
   },
   {
    "duration": 1025,
    "start_time": "2022-06-05T13:09:43.795Z"
   },
   {
    "duration": 194,
    "start_time": "2022-06-05T13:09:44.822Z"
   },
   {
    "duration": 109,
    "start_time": "2022-06-05T13:09:45.017Z"
   },
   {
    "duration": 138,
    "start_time": "2022-06-05T13:09:45.128Z"
   },
   {
    "duration": 10,
    "start_time": "2022-06-05T13:09:45.268Z"
   },
   {
    "duration": 37,
    "start_time": "2022-06-05T13:09:45.280Z"
   },
   {
    "duration": 408,
    "start_time": "2022-06-05T13:09:45.318Z"
   },
   {
    "duration": 125,
    "start_time": "2022-06-05T13:09:45.728Z"
   },
   {
    "duration": 0,
    "start_time": "2022-06-05T13:09:45.855Z"
   },
   {
    "duration": 0,
    "start_time": "2022-06-05T13:09:45.856Z"
   },
   {
    "duration": 0,
    "start_time": "2022-06-05T13:09:45.858Z"
   },
   {
    "duration": 0,
    "start_time": "2022-06-05T13:09:45.860Z"
   },
   {
    "duration": 0,
    "start_time": "2022-06-05T13:09:45.861Z"
   },
   {
    "duration": 1,
    "start_time": "2022-06-05T13:09:45.862Z"
   },
   {
    "duration": 44,
    "start_time": "2022-06-05T13:10:10.121Z"
   },
   {
    "duration": 51,
    "start_time": "2022-06-05T13:10:29.026Z"
   },
   {
    "duration": 50,
    "start_time": "2022-06-05T13:11:03.636Z"
   },
   {
    "duration": 448,
    "start_time": "2022-06-05T13:11:57.798Z"
   },
   {
    "duration": 1659,
    "start_time": "2022-06-05T13:13:16.592Z"
   },
   {
    "duration": 30,
    "start_time": "2022-06-05T13:13:28.072Z"
   },
   {
    "duration": 14,
    "start_time": "2022-06-05T13:13:48.474Z"
   },
   {
    "duration": 363,
    "start_time": "2022-06-05T13:15:01.600Z"
   },
   {
    "duration": 1549,
    "start_time": "2022-06-05T13:15:10.131Z"
   },
   {
    "duration": 13,
    "start_time": "2022-06-05T13:15:54.346Z"
   },
   {
    "duration": 15,
    "start_time": "2022-06-05T13:16:01.725Z"
   },
   {
    "duration": 15,
    "start_time": "2022-06-05T13:16:10.660Z"
   },
   {
    "duration": 15,
    "start_time": "2022-06-05T13:16:16.650Z"
   },
   {
    "duration": 396,
    "start_time": "2022-06-05T13:16:22.505Z"
   },
   {
    "duration": 12,
    "start_time": "2022-06-05T13:16:27.456Z"
   },
   {
    "duration": 17,
    "start_time": "2022-06-05T13:16:37.753Z"
   },
   {
    "duration": 345,
    "start_time": "2022-06-05T13:16:45.075Z"
   },
   {
    "duration": 1739,
    "start_time": "2022-06-05T13:16:48.860Z"
   },
   {
    "duration": 328,
    "start_time": "2022-06-05T13:17:13.375Z"
   },
   {
    "duration": 1748,
    "start_time": "2022-06-05T13:17:30.939Z"
   },
   {
    "duration": 337,
    "start_time": "2022-06-05T13:17:49.518Z"
   },
   {
    "duration": 335,
    "start_time": "2022-06-05T13:18:08.182Z"
   },
   {
    "duration": 2069,
    "start_time": "2022-06-05T13:18:34.675Z"
   },
   {
    "duration": 16,
    "start_time": "2022-06-05T13:19:23.927Z"
   },
   {
    "duration": 17,
    "start_time": "2022-06-05T13:20:02.343Z"
   },
   {
    "duration": 33,
    "start_time": "2022-06-05T13:21:02.162Z"
   },
   {
    "duration": 40,
    "start_time": "2022-06-05T13:21:30.900Z"
   },
   {
    "duration": 48,
    "start_time": "2022-06-05T13:22:23.025Z"
   },
   {
    "duration": 37,
    "start_time": "2022-06-05T13:22:41.391Z"
   },
   {
    "duration": 33,
    "start_time": "2022-06-05T13:26:38.512Z"
   },
   {
    "duration": 15,
    "start_time": "2022-06-05T13:33:07.762Z"
   },
   {
    "duration": 15,
    "start_time": "2022-06-05T13:33:15.415Z"
   },
   {
    "duration": 16,
    "start_time": "2022-06-05T13:33:22.059Z"
   },
   {
    "duration": 17,
    "start_time": "2022-06-05T13:33:28.324Z"
   },
   {
    "duration": 16,
    "start_time": "2022-06-05T13:33:41.211Z"
   },
   {
    "duration": 17,
    "start_time": "2022-06-05T13:34:13.441Z"
   },
   {
    "duration": 24,
    "start_time": "2022-06-05T13:34:23.193Z"
   },
   {
    "duration": 1098,
    "start_time": "2022-06-05T13:34:33.278Z"
   },
   {
    "duration": 201,
    "start_time": "2022-06-05T13:34:34.378Z"
   },
   {
    "duration": 125,
    "start_time": "2022-06-05T13:34:34.581Z"
   },
   {
    "duration": 183,
    "start_time": "2022-06-05T13:34:34.707Z"
   },
   {
    "duration": 9,
    "start_time": "2022-06-05T13:34:34.893Z"
   },
   {
    "duration": 85,
    "start_time": "2022-06-05T13:34:34.904Z"
   },
   {
    "duration": 432,
    "start_time": "2022-06-05T13:34:34.991Z"
   },
   {
    "duration": 390,
    "start_time": "2022-06-05T13:34:35.425Z"
   },
   {
    "duration": 1943,
    "start_time": "2022-06-05T13:34:35.816Z"
   },
   {
    "duration": 453,
    "start_time": "2022-06-05T13:34:37.761Z"
   },
   {
    "duration": 1960,
    "start_time": "2022-06-05T13:34:38.216Z"
   },
   {
    "duration": 398,
    "start_time": "2022-06-05T13:34:40.178Z"
   },
   {
    "duration": 2801,
    "start_time": "2022-06-05T13:34:40.578Z"
   },
   {
    "duration": 0,
    "start_time": "2022-06-05T13:34:43.381Z"
   },
   {
    "duration": 19,
    "start_time": "2022-06-05T13:38:08.920Z"
   },
   {
    "duration": 1197,
    "start_time": "2022-06-05T13:38:18.879Z"
   },
   {
    "duration": 196,
    "start_time": "2022-06-05T13:38:20.078Z"
   },
   {
    "duration": 134,
    "start_time": "2022-06-05T13:38:20.276Z"
   },
   {
    "duration": 170,
    "start_time": "2022-06-05T13:38:20.413Z"
   },
   {
    "duration": 9,
    "start_time": "2022-06-05T13:38:20.585Z"
   },
   {
    "duration": 54,
    "start_time": "2022-06-05T13:38:20.596Z"
   },
   {
    "duration": 440,
    "start_time": "2022-06-05T13:38:20.652Z"
   },
   {
    "duration": 368,
    "start_time": "2022-06-05T13:38:21.094Z"
   },
   {
    "duration": 1969,
    "start_time": "2022-06-05T13:38:21.463Z"
   },
   {
    "duration": 389,
    "start_time": "2022-06-05T13:38:23.441Z"
   },
   {
    "duration": 1979,
    "start_time": "2022-06-05T13:38:23.832Z"
   },
   {
    "duration": 382,
    "start_time": "2022-06-05T13:38:25.813Z"
   },
   {
    "duration": 2338,
    "start_time": "2022-06-05T13:38:26.197Z"
   },
   {
    "duration": 0,
    "start_time": "2022-06-05T13:38:28.537Z"
   },
   {
    "duration": 21,
    "start_time": "2022-06-05T13:38:44.159Z"
   },
   {
    "duration": 1191,
    "start_time": "2022-06-05T13:38:53.783Z"
   },
   {
    "duration": 251,
    "start_time": "2022-06-05T13:38:54.977Z"
   },
   {
    "duration": 188,
    "start_time": "2022-06-05T13:38:55.230Z"
   },
   {
    "duration": 173,
    "start_time": "2022-06-05T13:38:55.421Z"
   },
   {
    "duration": 9,
    "start_time": "2022-06-05T13:38:55.596Z"
   },
   {
    "duration": 56,
    "start_time": "2022-06-05T13:38:55.607Z"
   },
   {
    "duration": 455,
    "start_time": "2022-06-05T13:38:55.665Z"
   },
   {
    "duration": 425,
    "start_time": "2022-06-05T13:38:56.122Z"
   },
   {
    "duration": 2229,
    "start_time": "2022-06-05T13:38:56.549Z"
   },
   {
    "duration": 367,
    "start_time": "2022-06-05T13:38:58.780Z"
   },
   {
    "duration": 2153,
    "start_time": "2022-06-05T13:38:59.149Z"
   },
   {
    "duration": 412,
    "start_time": "2022-06-05T13:39:01.304Z"
   },
   {
    "duration": 2379,
    "start_time": "2022-06-05T13:39:01.718Z"
   },
   {
    "duration": 0,
    "start_time": "2022-06-05T13:39:04.099Z"
   },
   {
    "duration": 20,
    "start_time": "2022-06-05T13:41:01.659Z"
   },
   {
    "duration": 1260,
    "start_time": "2022-06-05T13:41:14.012Z"
   },
   {
    "duration": 218,
    "start_time": "2022-06-05T13:41:15.273Z"
   },
   {
    "duration": 134,
    "start_time": "2022-06-05T13:41:15.493Z"
   },
   {
    "duration": 163,
    "start_time": "2022-06-05T13:41:15.642Z"
   },
   {
    "duration": 8,
    "start_time": "2022-06-05T13:41:15.807Z"
   },
   {
    "duration": 56,
    "start_time": "2022-06-05T13:41:15.817Z"
   },
   {
    "duration": 453,
    "start_time": "2022-06-05T13:41:15.875Z"
   },
   {
    "duration": 448,
    "start_time": "2022-06-05T13:41:16.330Z"
   },
   {
    "duration": 2282,
    "start_time": "2022-06-05T13:41:16.780Z"
   },
   {
    "duration": 439,
    "start_time": "2022-06-05T13:41:19.064Z"
   },
   {
    "duration": 2213,
    "start_time": "2022-06-05T13:41:19.506Z"
   },
   {
    "duration": 392,
    "start_time": "2022-06-05T13:41:21.721Z"
   },
   {
    "duration": 2341,
    "start_time": "2022-06-05T13:41:22.114Z"
   },
   {
    "duration": 0,
    "start_time": "2022-06-05T13:41:24.458Z"
   },
   {
    "duration": 19,
    "start_time": "2022-06-05T13:41:53.752Z"
   },
   {
    "duration": 15,
    "start_time": "2022-06-05T13:42:36.506Z"
   },
   {
    "duration": 1264,
    "start_time": "2022-06-05T13:43:14.328Z"
   },
   {
    "duration": 225,
    "start_time": "2022-06-05T13:43:15.595Z"
   },
   {
    "duration": 123,
    "start_time": "2022-06-05T13:43:15.822Z"
   },
   {
    "duration": 171,
    "start_time": "2022-06-05T13:43:15.948Z"
   },
   {
    "duration": 20,
    "start_time": "2022-06-05T13:43:16.121Z"
   },
   {
    "duration": 37,
    "start_time": "2022-06-05T13:43:16.143Z"
   },
   {
    "duration": 456,
    "start_time": "2022-06-05T13:43:16.181Z"
   },
   {
    "duration": 380,
    "start_time": "2022-06-05T13:43:16.639Z"
   },
   {
    "duration": 2221,
    "start_time": "2022-06-05T13:43:17.021Z"
   },
   {
    "duration": 443,
    "start_time": "2022-06-05T13:43:19.245Z"
   },
   {
    "duration": 2134,
    "start_time": "2022-06-05T13:43:19.690Z"
   },
   {
    "duration": 417,
    "start_time": "2022-06-05T13:43:21.826Z"
   },
   {
    "duration": 2040,
    "start_time": "2022-06-05T13:43:22.245Z"
   },
   {
    "duration": 132,
    "start_time": "2022-06-05T13:43:24.286Z"
   },
   {
    "duration": 16,
    "start_time": "2022-06-05T13:45:01.825Z"
   },
   {
    "duration": 1187,
    "start_time": "2022-06-05T13:45:21.293Z"
   },
   {
    "duration": 208,
    "start_time": "2022-06-05T13:45:22.482Z"
   },
   {
    "duration": 126,
    "start_time": "2022-06-05T13:45:22.692Z"
   },
   {
    "duration": 161,
    "start_time": "2022-06-05T13:45:22.820Z"
   },
   {
    "duration": 8,
    "start_time": "2022-06-05T13:45:22.983Z"
   },
   {
    "duration": 53,
    "start_time": "2022-06-05T13:45:22.992Z"
   },
   {
    "duration": 413,
    "start_time": "2022-06-05T13:45:23.047Z"
   },
   {
    "duration": 371,
    "start_time": "2022-06-05T13:45:23.461Z"
   },
   {
    "duration": 438,
    "start_time": "2022-06-05T13:45:23.834Z"
   },
   {
    "duration": 408,
    "start_time": "2022-06-05T13:45:24.275Z"
   },
   {
    "duration": 1858,
    "start_time": "2022-06-05T13:45:24.685Z"
   },
   {
    "duration": 374,
    "start_time": "2022-06-05T13:45:26.544Z"
   },
   {
    "duration": 2329,
    "start_time": "2022-06-05T13:45:26.920Z"
   },
   {
    "duration": 193,
    "start_time": "2022-06-05T13:45:29.250Z"
   },
   {
    "duration": 252,
    "start_time": "2022-06-05T13:46:53.548Z"
   },
   {
    "duration": 2029,
    "start_time": "2022-06-05T13:47:59.347Z"
   },
   {
    "duration": 11,
    "start_time": "2022-06-05T13:48:11.841Z"
   },
   {
    "duration": 11,
    "start_time": "2022-06-05T13:48:18.551Z"
   },
   {
    "duration": 1182,
    "start_time": "2022-06-05T13:48:30.601Z"
   },
   {
    "duration": 220,
    "start_time": "2022-06-05T13:48:31.786Z"
   },
   {
    "duration": 122,
    "start_time": "2022-06-05T13:48:32.008Z"
   },
   {
    "duration": 159,
    "start_time": "2022-06-05T13:48:32.132Z"
   },
   {
    "duration": 8,
    "start_time": "2022-06-05T13:48:32.293Z"
   },
   {
    "duration": 46,
    "start_time": "2022-06-05T13:48:32.302Z"
   },
   {
    "duration": 413,
    "start_time": "2022-06-05T13:48:32.349Z"
   },
   {
    "duration": 371,
    "start_time": "2022-06-05T13:48:32.764Z"
   },
   {
    "duration": 1818,
    "start_time": "2022-06-05T13:48:33.141Z"
   },
   {
    "duration": 360,
    "start_time": "2022-06-05T13:48:34.962Z"
   },
   {
    "duration": 1838,
    "start_time": "2022-06-05T13:48:35.323Z"
   },
   {
    "duration": 379,
    "start_time": "2022-06-05T13:48:37.163Z"
   },
   {
    "duration": 2153,
    "start_time": "2022-06-05T13:48:37.544Z"
   },
   {
    "duration": 124,
    "start_time": "2022-06-05T13:48:39.699Z"
   },
   {
    "duration": 14,
    "start_time": "2022-06-05T13:49:37.350Z"
   },
   {
    "duration": 21,
    "start_time": "2022-06-05T13:49:43.672Z"
   },
   {
    "duration": 15,
    "start_time": "2022-06-05T13:50:34.584Z"
   },
   {
    "duration": 16,
    "start_time": "2022-06-05T13:52:12.899Z"
   },
   {
    "duration": 15,
    "start_time": "2022-06-05T13:52:41.147Z"
   },
   {
    "duration": 1090,
    "start_time": "2022-06-05T13:52:50.494Z"
   },
   {
    "duration": 204,
    "start_time": "2022-06-05T13:52:51.586Z"
   },
   {
    "duration": 103,
    "start_time": "2022-06-05T13:52:51.792Z"
   },
   {
    "duration": 157,
    "start_time": "2022-06-05T13:52:51.898Z"
   },
   {
    "duration": 8,
    "start_time": "2022-06-05T13:52:52.057Z"
   },
   {
    "duration": 61,
    "start_time": "2022-06-05T13:52:52.068Z"
   },
   {
    "duration": 413,
    "start_time": "2022-06-05T13:52:52.131Z"
   },
   {
    "duration": 356,
    "start_time": "2022-06-05T13:52:52.545Z"
   },
   {
    "duration": 106,
    "start_time": "2022-06-05T13:52:52.903Z"
   },
   {
    "duration": 0,
    "start_time": "2022-06-05T13:52:53.011Z"
   },
   {
    "duration": 0,
    "start_time": "2022-06-05T13:52:53.013Z"
   },
   {
    "duration": 0,
    "start_time": "2022-06-05T13:52:53.014Z"
   },
   {
    "duration": 0,
    "start_time": "2022-06-05T13:52:53.015Z"
   },
   {
    "duration": 0,
    "start_time": "2022-06-05T13:52:53.016Z"
   },
   {
    "duration": 13,
    "start_time": "2022-06-05T13:53:31.559Z"
   },
   {
    "duration": 15,
    "start_time": "2022-06-05T13:53:42.982Z"
   },
   {
    "duration": 1116,
    "start_time": "2022-06-05T13:53:55.260Z"
   },
   {
    "duration": 212,
    "start_time": "2022-06-05T13:53:56.378Z"
   },
   {
    "duration": 148,
    "start_time": "2022-06-05T13:53:56.593Z"
   },
   {
    "duration": 147,
    "start_time": "2022-06-05T13:53:56.743Z"
   },
   {
    "duration": 8,
    "start_time": "2022-06-05T13:53:56.892Z"
   },
   {
    "duration": 49,
    "start_time": "2022-06-05T13:53:56.902Z"
   },
   {
    "duration": 417,
    "start_time": "2022-06-05T13:53:56.952Z"
   },
   {
    "duration": 365,
    "start_time": "2022-06-05T13:53:57.371Z"
   },
   {
    "duration": 2062,
    "start_time": "2022-06-05T13:53:57.738Z"
   },
   {
    "duration": 359,
    "start_time": "2022-06-05T13:53:59.803Z"
   },
   {
    "duration": 1961,
    "start_time": "2022-06-05T13:54:00.164Z"
   },
   {
    "duration": 354,
    "start_time": "2022-06-05T13:54:02.127Z"
   },
   {
    "duration": 2034,
    "start_time": "2022-06-05T13:54:02.483Z"
   },
   {
    "duration": 129,
    "start_time": "2022-06-05T13:54:04.519Z"
   },
   {
    "duration": 25,
    "start_time": "2022-06-05T13:54:39.377Z"
   },
   {
    "duration": 29,
    "start_time": "2022-06-05T13:56:26.903Z"
   },
   {
    "duration": 26,
    "start_time": "2022-06-05T13:56:34.995Z"
   },
   {
    "duration": 535,
    "start_time": "2022-06-05T13:56:50.793Z"
   },
   {
    "duration": 240,
    "start_time": "2022-06-05T13:56:51.330Z"
   },
   {
    "duration": 156,
    "start_time": "2022-06-05T13:56:51.574Z"
   },
   {
    "duration": 211,
    "start_time": "2022-06-05T13:56:51.733Z"
   },
   {
    "duration": 9,
    "start_time": "2022-06-05T13:56:51.945Z"
   },
   {
    "duration": 62,
    "start_time": "2022-06-05T13:56:51.956Z"
   },
   {
    "duration": 459,
    "start_time": "2022-06-05T13:56:52.020Z"
   },
   {
    "duration": 482,
    "start_time": "2022-06-05T13:56:52.482Z"
   },
   {
    "duration": 2530,
    "start_time": "2022-06-05T13:56:52.969Z"
   },
   {
    "duration": 625,
    "start_time": "2022-06-05T13:56:55.503Z"
   },
   {
    "duration": 2650,
    "start_time": "2022-06-05T13:56:56.131Z"
   },
   {
    "duration": 458,
    "start_time": "2022-06-05T13:56:58.783Z"
   },
   {
    "duration": 2623,
    "start_time": "2022-06-05T13:56:59.243Z"
   },
   {
    "duration": 66,
    "start_time": "2022-06-05T13:57:01.869Z"
   },
   {
    "duration": 16,
    "start_time": "2022-06-05T13:58:10.747Z"
   },
   {
    "duration": 1119,
    "start_time": "2022-06-05T13:58:31.651Z"
   },
   {
    "duration": 199,
    "start_time": "2022-06-05T13:58:32.772Z"
   },
   {
    "duration": 145,
    "start_time": "2022-06-05T13:58:32.976Z"
   },
   {
    "duration": 153,
    "start_time": "2022-06-05T13:58:33.124Z"
   },
   {
    "duration": 9,
    "start_time": "2022-06-05T13:58:33.278Z"
   },
   {
    "duration": 57,
    "start_time": "2022-06-05T13:58:33.289Z"
   },
   {
    "duration": 428,
    "start_time": "2022-06-05T13:58:33.348Z"
   },
   {
    "duration": 375,
    "start_time": "2022-06-05T13:58:33.778Z"
   },
   {
    "duration": 1954,
    "start_time": "2022-06-05T13:58:34.155Z"
   },
   {
    "duration": 361,
    "start_time": "2022-06-05T13:58:36.111Z"
   },
   {
    "duration": 2033,
    "start_time": "2022-06-05T13:58:36.474Z"
   },
   {
    "duration": 394,
    "start_time": "2022-06-05T13:58:38.509Z"
   },
   {
    "duration": 1964,
    "start_time": "2022-06-05T13:58:38.905Z"
   },
   {
    "duration": 125,
    "start_time": "2022-06-05T13:58:40.870Z"
   },
   {
    "duration": 1191,
    "start_time": "2022-06-05T13:59:38.077Z"
   },
   {
    "duration": 221,
    "start_time": "2022-06-05T13:59:39.270Z"
   },
   {
    "duration": 134,
    "start_time": "2022-06-05T13:59:39.493Z"
   },
   {
    "duration": 169,
    "start_time": "2022-06-05T13:59:39.629Z"
   },
   {
    "duration": 8,
    "start_time": "2022-06-05T13:59:39.800Z"
   },
   {
    "duration": 52,
    "start_time": "2022-06-05T13:59:39.810Z"
   },
   {
    "duration": 443,
    "start_time": "2022-06-05T13:59:39.865Z"
   },
   {
    "duration": 411,
    "start_time": "2022-06-05T13:59:40.310Z"
   },
   {
    "duration": 2092,
    "start_time": "2022-06-05T13:59:40.723Z"
   },
   {
    "duration": 389,
    "start_time": "2022-06-05T13:59:42.817Z"
   },
   {
    "duration": 1993,
    "start_time": "2022-06-05T13:59:43.208Z"
   },
   {
    "duration": 400,
    "start_time": "2022-06-05T13:59:45.202Z"
   },
   {
    "duration": 2365,
    "start_time": "2022-06-05T13:59:45.605Z"
   },
   {
    "duration": 204,
    "start_time": "2022-06-05T13:59:47.973Z"
   },
   {
    "duration": 57,
    "start_time": "2022-06-05T14:00:51.382Z"
   },
   {
    "duration": 26,
    "start_time": "2022-06-05T14:01:31.677Z"
   },
   {
    "duration": 29,
    "start_time": "2022-06-05T14:02:14.572Z"
   },
   {
    "duration": 1286,
    "start_time": "2022-06-05T14:03:22.718Z"
   },
   {
    "duration": 223,
    "start_time": "2022-06-05T14:03:24.006Z"
   },
   {
    "duration": 141,
    "start_time": "2022-06-05T14:03:24.231Z"
   },
   {
    "duration": 168,
    "start_time": "2022-06-05T14:03:24.373Z"
   },
   {
    "duration": 11,
    "start_time": "2022-06-05T14:03:24.543Z"
   },
   {
    "duration": 79,
    "start_time": "2022-06-05T14:03:24.556Z"
   },
   {
    "duration": 468,
    "start_time": "2022-06-05T14:03:24.637Z"
   },
   {
    "duration": 415,
    "start_time": "2022-06-05T14:03:25.107Z"
   },
   {
    "duration": 2144,
    "start_time": "2022-06-05T14:03:25.524Z"
   },
   {
    "duration": 512,
    "start_time": "2022-06-05T14:03:27.669Z"
   },
   {
    "duration": 2102,
    "start_time": "2022-06-05T14:03:28.183Z"
   },
   {
    "duration": 424,
    "start_time": "2022-06-05T14:03:30.287Z"
   },
   {
    "duration": 2286,
    "start_time": "2022-06-05T14:03:30.713Z"
   },
   {
    "duration": 122,
    "start_time": "2022-06-05T14:03:33.001Z"
   },
   {
    "duration": 1309,
    "start_time": "2022-06-05T14:04:08.257Z"
   },
   {
    "duration": 215,
    "start_time": "2022-06-05T14:04:09.569Z"
   },
   {
    "duration": 123,
    "start_time": "2022-06-05T14:04:09.786Z"
   },
   {
    "duration": 174,
    "start_time": "2022-06-05T14:04:09.912Z"
   },
   {
    "duration": 9,
    "start_time": "2022-06-05T14:04:10.088Z"
   },
   {
    "duration": 62,
    "start_time": "2022-06-05T14:04:10.098Z"
   },
   {
    "duration": 468,
    "start_time": "2022-06-05T14:04:10.162Z"
   },
   {
    "duration": 426,
    "start_time": "2022-06-05T14:04:10.640Z"
   },
   {
    "duration": 2026,
    "start_time": "2022-06-05T14:04:11.068Z"
   },
   {
    "duration": 426,
    "start_time": "2022-06-05T14:04:13.097Z"
   },
   {
    "duration": 2054,
    "start_time": "2022-06-05T14:04:13.525Z"
   },
   {
    "duration": 438,
    "start_time": "2022-06-05T14:04:15.581Z"
   },
   {
    "duration": 2087,
    "start_time": "2022-06-05T14:04:16.021Z"
   },
   {
    "duration": 2340,
    "start_time": "2022-06-05T14:04:18.112Z"
   },
   {
    "duration": 1479,
    "start_time": "2022-06-05T14:06:28.708Z"
   },
   {
    "duration": 1190,
    "start_time": "2022-06-05T14:07:14.226Z"
   },
   {
    "duration": 208,
    "start_time": "2022-06-05T14:07:15.418Z"
   },
   {
    "duration": 132,
    "start_time": "2022-06-05T14:07:15.628Z"
   },
   {
    "duration": 155,
    "start_time": "2022-06-05T14:07:15.762Z"
   },
   {
    "duration": 23,
    "start_time": "2022-06-05T14:07:15.919Z"
   },
   {
    "duration": 45,
    "start_time": "2022-06-05T14:07:15.943Z"
   },
   {
    "duration": 451,
    "start_time": "2022-06-05T14:07:15.990Z"
   },
   {
    "duration": 413,
    "start_time": "2022-06-05T14:07:16.443Z"
   },
   {
    "duration": 1851,
    "start_time": "2022-06-05T14:07:16.858Z"
   },
   {
    "duration": 373,
    "start_time": "2022-06-05T14:07:18.712Z"
   },
   {
    "duration": 1822,
    "start_time": "2022-06-05T14:07:19.087Z"
   },
   {
    "duration": 382,
    "start_time": "2022-06-05T14:07:20.911Z"
   },
   {
    "duration": 1966,
    "start_time": "2022-06-05T14:07:21.294Z"
   },
   {
    "duration": 1455,
    "start_time": "2022-06-05T14:07:23.262Z"
   },
   {
    "duration": 3560,
    "start_time": "2022-06-05T14:10:14.792Z"
   },
   {
    "duration": 2931,
    "start_time": "2022-06-05T14:11:00.357Z"
   },
   {
    "duration": 2846,
    "start_time": "2022-06-05T14:15:37.298Z"
   },
   {
    "duration": 2785,
    "start_time": "2022-06-05T14:16:00.043Z"
   },
   {
    "duration": 38,
    "start_time": "2022-06-05T14:21:07.095Z"
   },
   {
    "duration": 31,
    "start_time": "2022-06-05T14:21:22.322Z"
   },
   {
    "duration": 1862,
    "start_time": "2022-06-05T14:21:31.191Z"
   },
   {
    "duration": 2764,
    "start_time": "2022-06-05T14:22:09.943Z"
   },
   {
    "duration": 2913,
    "start_time": "2022-06-05T14:26:08.893Z"
   },
   {
    "duration": 2505,
    "start_time": "2022-06-05T14:26:30.521Z"
   },
   {
    "duration": 2447,
    "start_time": "2022-06-05T14:28:05.194Z"
   },
   {
    "duration": 2592,
    "start_time": "2022-06-05T14:28:34.911Z"
   },
   {
    "duration": 2888,
    "start_time": "2022-06-05T14:28:55.390Z"
   },
   {
    "duration": 2552,
    "start_time": "2022-06-05T14:29:28.713Z"
   },
   {
    "duration": 2888,
    "start_time": "2022-06-05T14:29:55.094Z"
   },
   {
    "duration": 2704,
    "start_time": "2022-06-05T14:31:27.009Z"
   },
   {
    "duration": 2944,
    "start_time": "2022-06-05T14:31:57.547Z"
   },
   {
    "duration": 3071,
    "start_time": "2022-06-05T14:33:46.995Z"
   },
   {
    "duration": 3750,
    "start_time": "2022-06-05T14:37:25.248Z"
   },
   {
    "duration": 3258,
    "start_time": "2022-06-05T14:38:05.518Z"
   },
   {
    "duration": 2892,
    "start_time": "2022-06-05T14:38:44.453Z"
   },
   {
    "duration": 3682,
    "start_time": "2022-06-05T14:40:15.159Z"
   },
   {
    "duration": 3792,
    "start_time": "2022-06-05T14:42:06.994Z"
   },
   {
    "duration": 3258,
    "start_time": "2022-06-05T14:42:22.220Z"
   },
   {
    "duration": 2742,
    "start_time": "2022-06-05T14:55:43.856Z"
   },
   {
    "duration": 3138,
    "start_time": "2022-06-05T14:56:21.028Z"
   },
   {
    "duration": 1244,
    "start_time": "2022-06-05T15:08:37.642Z"
   },
   {
    "duration": 205,
    "start_time": "2022-06-05T15:08:38.888Z"
   },
   {
    "duration": 120,
    "start_time": "2022-06-05T15:08:39.095Z"
   },
   {
    "duration": 182,
    "start_time": "2022-06-05T15:08:39.218Z"
   },
   {
    "duration": 7,
    "start_time": "2022-06-05T15:08:39.403Z"
   },
   {
    "duration": 60,
    "start_time": "2022-06-05T15:08:39.412Z"
   },
   {
    "duration": 406,
    "start_time": "2022-06-05T15:08:39.474Z"
   },
   {
    "duration": 381,
    "start_time": "2022-06-05T15:08:39.882Z"
   },
   {
    "duration": 1781,
    "start_time": "2022-06-05T15:08:40.265Z"
   },
   {
    "duration": 412,
    "start_time": "2022-06-05T15:08:42.048Z"
   },
   {
    "duration": 1662,
    "start_time": "2022-06-05T15:08:42.462Z"
   },
   {
    "duration": 382,
    "start_time": "2022-06-05T15:08:44.126Z"
   },
   {
    "duration": 117,
    "start_time": "2022-06-05T15:08:44.509Z"
   },
   {
    "duration": 0,
    "start_time": "2022-06-05T15:08:44.628Z"
   },
   {
    "duration": 28,
    "start_time": "2022-06-05T15:10:25.011Z"
   },
   {
    "duration": 1084,
    "start_time": "2022-06-05T15:10:33.372Z"
   },
   {
    "duration": 200,
    "start_time": "2022-06-05T15:10:34.458Z"
   },
   {
    "duration": 114,
    "start_time": "2022-06-05T15:10:34.660Z"
   },
   {
    "duration": 144,
    "start_time": "2022-06-05T15:10:34.776Z"
   },
   {
    "duration": 22,
    "start_time": "2022-06-05T15:10:34.923Z"
   },
   {
    "duration": 47,
    "start_time": "2022-06-05T15:10:34.947Z"
   },
   {
    "duration": 390,
    "start_time": "2022-06-05T15:10:34.995Z"
   },
   {
    "duration": 359,
    "start_time": "2022-06-05T15:10:35.386Z"
   },
   {
    "duration": 1660,
    "start_time": "2022-06-05T15:10:35.747Z"
   },
   {
    "duration": 341,
    "start_time": "2022-06-05T15:10:37.408Z"
   },
   {
    "duration": 1669,
    "start_time": "2022-06-05T15:10:37.750Z"
   },
   {
    "duration": 353,
    "start_time": "2022-06-05T15:10:39.421Z"
   },
   {
    "duration": 1724,
    "start_time": "2022-06-05T15:10:39.776Z"
   },
   {
    "duration": 2583,
    "start_time": "2022-06-05T15:10:41.502Z"
   },
   {
    "duration": 1846,
    "start_time": "2022-06-05T17:40:11.613Z"
   },
   {
    "duration": 849,
    "start_time": "2022-06-05T17:40:48.114Z"
   },
   {
    "duration": 416,
    "start_time": "2022-06-05T17:41:12.366Z"
   },
   {
    "duration": 5,
    "start_time": "2022-06-05T17:49:41.702Z"
   },
   {
    "duration": 8,
    "start_time": "2022-06-05T17:50:02.976Z"
   },
   {
    "duration": 27,
    "start_time": "2022-06-05T17:50:29.842Z"
   },
   {
    "duration": 18,
    "start_time": "2022-06-05T17:50:53.445Z"
   },
   {
    "duration": 27,
    "start_time": "2022-06-05T17:51:29.053Z"
   },
   {
    "duration": 29,
    "start_time": "2022-06-05T17:51:45.050Z"
   },
   {
    "duration": 16,
    "start_time": "2022-06-05T17:59:23.924Z"
   },
   {
    "duration": 20,
    "start_time": "2022-06-05T18:00:40.979Z"
   },
   {
    "duration": 20,
    "start_time": "2022-06-05T18:00:57.152Z"
   },
   {
    "duration": 21,
    "start_time": "2022-06-05T18:02:25.868Z"
   },
   {
    "duration": 19,
    "start_time": "2022-06-05T18:02:50.141Z"
   },
   {
    "duration": 20,
    "start_time": "2022-06-05T18:03:17.470Z"
   },
   {
    "duration": 19,
    "start_time": "2022-06-05T18:04:09.689Z"
   },
   {
    "duration": 18,
    "start_time": "2022-06-05T18:05:35.208Z"
   },
   {
    "duration": 365,
    "start_time": "2022-06-05T18:08:40.058Z"
   },
   {
    "duration": 136,
    "start_time": "2022-06-05T18:09:23.061Z"
   },
   {
    "duration": 150,
    "start_time": "2022-06-05T18:10:05.677Z"
   },
   {
    "duration": 194,
    "start_time": "2022-06-05T18:14:40.560Z"
   },
   {
    "duration": 177,
    "start_time": "2022-06-05T18:16:29.948Z"
   },
   {
    "duration": 194,
    "start_time": "2022-06-05T18:16:38.045Z"
   },
   {
    "duration": 2688,
    "start_time": "2022-06-05T18:19:03.106Z"
   },
   {
    "duration": 410,
    "start_time": "2022-06-05T18:24:48.945Z"
   },
   {
    "duration": 377,
    "start_time": "2022-06-05T18:26:25.707Z"
   },
   {
    "duration": 157,
    "start_time": "2022-06-05T18:27:02.299Z"
   },
   {
    "duration": 2584,
    "start_time": "2022-06-05T18:27:54.433Z"
   },
   {
    "duration": 14,
    "start_time": "2022-06-05T18:50:51.299Z"
   },
   {
    "duration": 240,
    "start_time": "2022-06-05T18:51:16.212Z"
   },
   {
    "duration": 228,
    "start_time": "2022-06-05T18:51:28.101Z"
   },
   {
    "duration": 120,
    "start_time": "2022-06-05T18:55:31.471Z"
   },
   {
    "duration": 157,
    "start_time": "2022-06-05T18:56:00.776Z"
   },
   {
    "duration": 143,
    "start_time": "2022-06-05T18:56:12.593Z"
   },
   {
    "duration": 142,
    "start_time": "2022-06-05T19:01:17.483Z"
   },
   {
    "duration": 136,
    "start_time": "2022-06-05T19:02:45.270Z"
   },
   {
    "duration": 152,
    "start_time": "2022-06-05T19:03:10.957Z"
   },
   {
    "duration": 185,
    "start_time": "2022-06-05T19:08:22.545Z"
   },
   {
    "duration": 167,
    "start_time": "2022-06-05T19:10:08.945Z"
   },
   {
    "duration": 169,
    "start_time": "2022-06-05T19:10:52.301Z"
   },
   {
    "duration": 152,
    "start_time": "2022-06-05T19:11:35.651Z"
   },
   {
    "duration": 237,
    "start_time": "2022-06-05T19:15:00.808Z"
   },
   {
    "duration": 224,
    "start_time": "2022-06-05T19:16:07.884Z"
   },
   {
    "duration": 405,
    "start_time": "2022-06-05T19:20:56.345Z"
   },
   {
    "duration": 46,
    "start_time": "2022-06-05T19:23:19.384Z"
   },
   {
    "duration": 4,
    "start_time": "2022-06-05T19:24:54.848Z"
   },
   {
    "duration": 5,
    "start_time": "2022-06-05T19:25:50.776Z"
   },
   {
    "duration": 57,
    "start_time": "2022-06-06T04:19:57.612Z"
   },
   {
    "duration": 1892,
    "start_time": "2022-06-06T04:20:04.190Z"
   },
   {
    "duration": 198,
    "start_time": "2022-06-06T04:20:06.084Z"
   },
   {
    "duration": 113,
    "start_time": "2022-06-06T04:20:06.284Z"
   },
   {
    "duration": 140,
    "start_time": "2022-06-06T04:20:06.400Z"
   },
   {
    "duration": 8,
    "start_time": "2022-06-06T04:20:06.542Z"
   },
   {
    "duration": 29,
    "start_time": "2022-06-06T04:20:06.559Z"
   },
   {
    "duration": 382,
    "start_time": "2022-06-06T04:20:06.590Z"
   },
   {
    "duration": 403,
    "start_time": "2022-06-06T04:20:06.973Z"
   },
   {
    "duration": 1426,
    "start_time": "2022-06-06T04:20:07.378Z"
   },
   {
    "duration": 320,
    "start_time": "2022-06-06T04:20:08.806Z"
   },
   {
    "duration": 1440,
    "start_time": "2022-06-06T04:20:09.128Z"
   },
   {
    "duration": 353,
    "start_time": "2022-06-06T04:20:10.571Z"
   },
   {
    "duration": 1508,
    "start_time": "2022-06-06T04:20:10.926Z"
   },
   {
    "duration": 2661,
    "start_time": "2022-06-06T04:20:12.435Z"
   },
   {
    "duration": 174,
    "start_time": "2022-06-06T04:20:15.098Z"
   },
   {
    "duration": 386,
    "start_time": "2022-06-06T04:20:15.274Z"
   },
   {
    "duration": 240,
    "start_time": "2022-06-06T04:20:15.661Z"
   },
   {
    "duration": 291,
    "start_time": "2022-06-06T04:20:15.903Z"
   },
   {
    "duration": 365,
    "start_time": "2022-06-06T04:20:16.196Z"
   },
   {
    "duration": 317,
    "start_time": "2022-06-06T04:20:16.562Z"
   },
   {
    "duration": 639,
    "start_time": "2022-06-06T04:20:16.880Z"
   },
   {
    "duration": 5,
    "start_time": "2022-06-06T04:20:17.521Z"
   },
   {
    "duration": 153,
    "start_time": "2022-06-06T06:43:02.879Z"
   },
   {
    "duration": 141,
    "start_time": "2022-06-06T06:43:37.669Z"
   },
   {
    "duration": 709,
    "start_time": "2022-06-06T07:17:10.990Z"
   },
   {
    "duration": 0,
    "start_time": "2022-06-06T07:17:11.701Z"
   },
   {
    "duration": 0,
    "start_time": "2022-06-06T07:17:11.702Z"
   },
   {
    "duration": 0,
    "start_time": "2022-06-06T07:17:11.703Z"
   },
   {
    "duration": 0,
    "start_time": "2022-06-06T07:17:11.705Z"
   },
   {
    "duration": 0,
    "start_time": "2022-06-06T07:17:11.706Z"
   },
   {
    "duration": 0,
    "start_time": "2022-06-06T07:17:11.707Z"
   },
   {
    "duration": 0,
    "start_time": "2022-06-06T07:17:11.708Z"
   },
   {
    "duration": 0,
    "start_time": "2022-06-06T07:17:11.709Z"
   },
   {
    "duration": 0,
    "start_time": "2022-06-06T07:17:11.710Z"
   },
   {
    "duration": 0,
    "start_time": "2022-06-06T07:17:11.712Z"
   },
   {
    "duration": 0,
    "start_time": "2022-06-06T07:17:11.713Z"
   },
   {
    "duration": 0,
    "start_time": "2022-06-06T07:17:11.714Z"
   },
   {
    "duration": 0,
    "start_time": "2022-06-06T07:17:11.714Z"
   },
   {
    "duration": 0,
    "start_time": "2022-06-06T07:17:11.715Z"
   },
   {
    "duration": 0,
    "start_time": "2022-06-06T07:17:11.717Z"
   },
   {
    "duration": 0,
    "start_time": "2022-06-06T07:17:11.718Z"
   },
   {
    "duration": 0,
    "start_time": "2022-06-06T07:17:11.719Z"
   },
   {
    "duration": 0,
    "start_time": "2022-06-06T07:17:11.720Z"
   },
   {
    "duration": 0,
    "start_time": "2022-06-06T07:17:11.721Z"
   },
   {
    "duration": 0,
    "start_time": "2022-06-06T07:17:11.722Z"
   },
   {
    "duration": 0,
    "start_time": "2022-06-06T07:17:11.723Z"
   },
   {
    "duration": 1218,
    "start_time": "2022-06-06T07:17:50.136Z"
   },
   {
    "duration": 225,
    "start_time": "2022-06-06T07:17:51.356Z"
   },
   {
    "duration": 123,
    "start_time": "2022-06-06T07:17:51.584Z"
   },
   {
    "duration": 144,
    "start_time": "2022-06-06T07:17:51.709Z"
   },
   {
    "duration": 20,
    "start_time": "2022-06-06T07:17:51.855Z"
   },
   {
    "duration": 36,
    "start_time": "2022-06-06T07:17:51.881Z"
   },
   {
    "duration": 403,
    "start_time": "2022-06-06T07:17:51.919Z"
   },
   {
    "duration": 390,
    "start_time": "2022-06-06T07:17:52.324Z"
   },
   {
    "duration": 2066,
    "start_time": "2022-06-06T07:17:52.716Z"
   },
   {
    "duration": 352,
    "start_time": "2022-06-06T07:17:54.785Z"
   },
   {
    "duration": 1720,
    "start_time": "2022-06-06T07:17:55.139Z"
   },
   {
    "duration": 386,
    "start_time": "2022-06-06T07:17:56.861Z"
   },
   {
    "duration": 1850,
    "start_time": "2022-06-06T07:17:57.249Z"
   },
   {
    "duration": 2546,
    "start_time": "2022-06-06T07:17:59.101Z"
   },
   {
    "duration": 192,
    "start_time": "2022-06-06T07:18:01.648Z"
   },
   {
    "duration": 187,
    "start_time": "2022-06-06T07:18:01.842Z"
   },
   {
    "duration": 183,
    "start_time": "2022-06-06T07:18:02.031Z"
   },
   {
    "duration": 178,
    "start_time": "2022-06-06T07:18:02.215Z"
   },
   {
    "duration": 196,
    "start_time": "2022-06-06T07:18:02.395Z"
   },
   {
    "duration": 180,
    "start_time": "2022-06-06T07:18:02.594Z"
   },
   {
    "duration": 498,
    "start_time": "2022-06-06T07:18:02.777Z"
   },
   {
    "duration": 5,
    "start_time": "2022-06-06T07:18:03.281Z"
   },
   {
    "duration": 140,
    "start_time": "2022-06-06T09:12:40.330Z"
   },
   {
    "duration": 143,
    "start_time": "2022-06-06T09:14:44.331Z"
   },
   {
    "duration": 166,
    "start_time": "2022-06-06T09:17:23.332Z"
   },
   {
    "duration": 150,
    "start_time": "2022-06-06T09:18:45.316Z"
   },
   {
    "duration": 153,
    "start_time": "2022-06-06T09:19:03.299Z"
   },
   {
    "duration": 163,
    "start_time": "2022-06-06T09:19:28.011Z"
   },
   {
    "duration": 260,
    "start_time": "2022-06-06T09:20:18.355Z"
   },
   {
    "duration": 115,
    "start_time": "2022-06-06T09:22:00.714Z"
   },
   {
    "duration": 170,
    "start_time": "2022-06-06T09:22:22.424Z"
   },
   {
    "duration": 203,
    "start_time": "2022-06-06T09:22:34.681Z"
   },
   {
    "duration": 181,
    "start_time": "2022-06-06T09:22:44.833Z"
   },
   {
    "duration": 40,
    "start_time": "2022-06-06T09:23:18.072Z"
   },
   {
    "duration": 30,
    "start_time": "2022-06-06T09:24:19.408Z"
   },
   {
    "duration": 115,
    "start_time": "2022-06-06T09:24:39.239Z"
   },
   {
    "duration": 110,
    "start_time": "2022-06-06T09:25:02.639Z"
   },
   {
    "duration": 389,
    "start_time": "2022-06-06T09:25:19.823Z"
   },
   {
    "duration": 335,
    "start_time": "2022-06-06T09:26:16.096Z"
   },
   {
    "duration": 494,
    "start_time": "2022-06-06T09:46:03.604Z"
   },
   {
    "duration": 41,
    "start_time": "2022-06-06T09:48:52.554Z"
   },
   {
    "duration": 40,
    "start_time": "2022-06-06T09:50:37.862Z"
   },
   {
    "duration": 1127,
    "start_time": "2022-06-06T09:50:59.695Z"
   },
   {
    "duration": 206,
    "start_time": "2022-06-06T09:51:00.824Z"
   },
   {
    "duration": 144,
    "start_time": "2022-06-06T09:51:01.032Z"
   },
   {
    "duration": 167,
    "start_time": "2022-06-06T09:51:01.178Z"
   },
   {
    "duration": 14,
    "start_time": "2022-06-06T09:51:01.346Z"
   },
   {
    "duration": 55,
    "start_time": "2022-06-06T09:51:01.362Z"
   },
   {
    "duration": 400,
    "start_time": "2022-06-06T09:51:01.419Z"
   },
   {
    "duration": 424,
    "start_time": "2022-06-06T09:51:01.822Z"
   },
   {
    "duration": 1711,
    "start_time": "2022-06-06T09:51:02.248Z"
   },
   {
    "duration": 386,
    "start_time": "2022-06-06T09:51:03.962Z"
   },
   {
    "duration": 1523,
    "start_time": "2022-06-06T09:51:04.350Z"
   },
   {
    "duration": 352,
    "start_time": "2022-06-06T09:51:05.874Z"
   },
   {
    "duration": 1696,
    "start_time": "2022-06-06T09:51:06.228Z"
   },
   {
    "duration": 123,
    "start_time": "2022-06-06T09:51:07.926Z"
   },
   {
    "duration": 1,
    "start_time": "2022-06-06T09:51:08.051Z"
   },
   {
    "duration": 0,
    "start_time": "2022-06-06T09:51:08.053Z"
   },
   {
    "duration": 0,
    "start_time": "2022-06-06T09:51:08.059Z"
   },
   {
    "duration": 0,
    "start_time": "2022-06-06T09:51:08.060Z"
   },
   {
    "duration": 0,
    "start_time": "2022-06-06T09:51:08.061Z"
   },
   {
    "duration": 0,
    "start_time": "2022-06-06T09:51:08.063Z"
   },
   {
    "duration": 0,
    "start_time": "2022-06-06T09:51:08.064Z"
   },
   {
    "duration": 0,
    "start_time": "2022-06-06T09:51:08.065Z"
   },
   {
    "duration": 2787,
    "start_time": "2022-06-06T09:51:31.522Z"
   },
   {
    "duration": 2488,
    "start_time": "2022-06-06T09:52:08.317Z"
   },
   {
    "duration": 2666,
    "start_time": "2022-06-06T09:52:48.253Z"
   },
   {
    "duration": 2744,
    "start_time": "2022-06-06T09:56:46.377Z"
   },
   {
    "duration": 2584,
    "start_time": "2022-06-06T10:02:27.304Z"
   },
   {
    "duration": 2597,
    "start_time": "2022-06-06T10:02:45.496Z"
   },
   {
    "duration": 2531,
    "start_time": "2022-06-06T10:05:37.280Z"
   },
   {
    "duration": 194,
    "start_time": "2022-06-06T10:07:26.636Z"
   },
   {
    "duration": 144,
    "start_time": "2022-06-06T10:07:44.019Z"
   },
   {
    "duration": 149,
    "start_time": "2022-06-06T10:08:54.196Z"
   },
   {
    "duration": 180,
    "start_time": "2022-06-06T10:09:00.924Z"
   },
   {
    "duration": 179,
    "start_time": "2022-06-06T10:09:48.309Z"
   },
   {
    "duration": 160,
    "start_time": "2022-06-06T10:10:29.676Z"
   },
   {
    "duration": 152,
    "start_time": "2022-06-06T10:10:34.907Z"
   },
   {
    "duration": 2315,
    "start_time": "2022-06-06T10:11:25.461Z"
   },
   {
    "duration": 1908,
    "start_time": "2022-06-06T10:13:24.753Z"
   },
   {
    "duration": 1884,
    "start_time": "2022-06-06T10:16:34.533Z"
   },
   {
    "duration": 1914,
    "start_time": "2022-06-06T10:17:05.576Z"
   },
   {
    "duration": 1913,
    "start_time": "2022-06-06T10:17:31.237Z"
   },
   {
    "duration": 1111,
    "start_time": "2022-06-06T10:17:42.197Z"
   },
   {
    "duration": 207,
    "start_time": "2022-06-06T10:17:43.311Z"
   },
   {
    "duration": 138,
    "start_time": "2022-06-06T10:17:43.523Z"
   },
   {
    "duration": 154,
    "start_time": "2022-06-06T10:17:43.662Z"
   },
   {
    "duration": 9,
    "start_time": "2022-06-06T10:17:43.818Z"
   },
   {
    "duration": 54,
    "start_time": "2022-06-06T10:17:43.829Z"
   },
   {
    "duration": 404,
    "start_time": "2022-06-06T10:17:43.884Z"
   },
   {
    "duration": 360,
    "start_time": "2022-06-06T10:17:44.290Z"
   },
   {
    "duration": 1588,
    "start_time": "2022-06-06T10:17:44.658Z"
   },
   {
    "duration": 369,
    "start_time": "2022-06-06T10:17:46.248Z"
   },
   {
    "duration": 1608,
    "start_time": "2022-06-06T10:17:46.619Z"
   },
   {
    "duration": 376,
    "start_time": "2022-06-06T10:17:48.228Z"
   },
   {
    "duration": 1544,
    "start_time": "2022-06-06T10:17:48.605Z"
   },
   {
    "duration": 1999,
    "start_time": "2022-06-06T10:17:50.151Z"
   },
   {
    "duration": 215,
    "start_time": "2022-06-06T10:17:52.159Z"
   },
   {
    "duration": 229,
    "start_time": "2022-06-06T10:17:52.376Z"
   },
   {
    "duration": 185,
    "start_time": "2022-06-06T10:17:52.607Z"
   },
   {
    "duration": 191,
    "start_time": "2022-06-06T10:17:52.794Z"
   },
   {
    "duration": 173,
    "start_time": "2022-06-06T10:17:52.988Z"
   },
   {
    "duration": 159,
    "start_time": "2022-06-06T10:17:53.162Z"
   },
   {
    "duration": 506,
    "start_time": "2022-06-06T10:17:53.323Z"
   },
   {
    "duration": 5,
    "start_time": "2022-06-06T10:17:53.831Z"
   },
   {
    "duration": 1367,
    "start_time": "2022-06-06T10:19:35.765Z"
   },
   {
    "duration": 1402,
    "start_time": "2022-06-06T10:20:40.188Z"
   },
   {
    "duration": 1769,
    "start_time": "2022-06-06T10:22:58.363Z"
   },
   {
    "duration": 1800,
    "start_time": "2022-06-06T10:23:45.755Z"
   },
   {
    "duration": 1243,
    "start_time": "2022-06-06T10:24:54.097Z"
   },
   {
    "duration": 1297,
    "start_time": "2022-06-06T10:36:34.368Z"
   },
   {
    "duration": 1254,
    "start_time": "2022-06-06T10:39:05.946Z"
   },
   {
    "duration": 1328,
    "start_time": "2022-06-06T10:45:01.053Z"
   },
   {
    "duration": 1251,
    "start_time": "2022-06-06T10:45:29.675Z"
   },
   {
    "duration": 232,
    "start_time": "2022-06-06T10:45:30.928Z"
   },
   {
    "duration": 117,
    "start_time": "2022-06-06T10:45:31.162Z"
   },
   {
    "duration": 148,
    "start_time": "2022-06-06T10:45:31.282Z"
   },
   {
    "duration": 8,
    "start_time": "2022-06-06T10:45:31.432Z"
   },
   {
    "duration": 62,
    "start_time": "2022-06-06T10:45:31.441Z"
   },
   {
    "duration": 425,
    "start_time": "2022-06-06T10:45:31.505Z"
   },
   {
    "duration": 385,
    "start_time": "2022-06-06T10:45:31.932Z"
   },
   {
    "duration": 1585,
    "start_time": "2022-06-06T10:45:32.319Z"
   },
   {
    "duration": 345,
    "start_time": "2022-06-06T10:45:33.906Z"
   },
   {
    "duration": 1568,
    "start_time": "2022-06-06T10:45:34.262Z"
   },
   {
    "duration": 365,
    "start_time": "2022-06-06T10:45:35.832Z"
   },
   {
    "duration": 1742,
    "start_time": "2022-06-06T10:45:36.199Z"
   },
   {
    "duration": 1334,
    "start_time": "2022-06-06T10:45:37.943Z"
   },
   {
    "duration": 0,
    "start_time": "2022-06-06T10:45:39.279Z"
   },
   {
    "duration": 0,
    "start_time": "2022-06-06T10:45:39.283Z"
   },
   {
    "duration": 0,
    "start_time": "2022-06-06T10:45:39.284Z"
   },
   {
    "duration": 0,
    "start_time": "2022-06-06T10:45:39.286Z"
   },
   {
    "duration": 0,
    "start_time": "2022-06-06T10:45:39.286Z"
   },
   {
    "duration": 0,
    "start_time": "2022-06-06T10:45:39.288Z"
   },
   {
    "duration": 0,
    "start_time": "2022-06-06T10:45:39.289Z"
   },
   {
    "duration": 0,
    "start_time": "2022-06-06T10:45:39.290Z"
   },
   {
    "duration": 1247,
    "start_time": "2022-06-06T10:48:35.132Z"
   },
   {
    "duration": 1939,
    "start_time": "2022-06-06T10:50:47.795Z"
   },
   {
    "duration": 1283,
    "start_time": "2022-06-06T11:21:24.009Z"
   },
   {
    "duration": 1820,
    "start_time": "2022-06-06T11:21:45.562Z"
   },
   {
    "duration": 3103,
    "start_time": "2022-06-06T11:22:56.865Z"
   },
   {
    "duration": 3061,
    "start_time": "2022-06-06T11:24:20.168Z"
   },
   {
    "duration": 3145,
    "start_time": "2022-06-06T11:24:36.149Z"
   },
   {
    "duration": 3048,
    "start_time": "2022-06-06T11:24:54.425Z"
   },
   {
    "duration": 3048,
    "start_time": "2022-06-06T11:25:17.946Z"
   },
   {
    "duration": 213,
    "start_time": "2022-06-06T11:27:39.560Z"
   },
   {
    "duration": 166,
    "start_time": "2022-06-06T11:27:58.647Z"
   },
   {
    "duration": 3132,
    "start_time": "2022-06-06T11:42:21.428Z"
   },
   {
    "duration": 3195,
    "start_time": "2022-06-06T11:43:24.315Z"
   },
   {
    "duration": 3056,
    "start_time": "2022-06-06T11:44:22.321Z"
   },
   {
    "duration": 170,
    "start_time": "2022-06-06T11:52:42.308Z"
   },
   {
    "duration": 152,
    "start_time": "2022-06-06T11:52:51.348Z"
   },
   {
    "duration": 143,
    "start_time": "2022-06-06T11:53:20.044Z"
   },
   {
    "duration": 155,
    "start_time": "2022-06-06T11:53:30.419Z"
   },
   {
    "duration": 510,
    "start_time": "2022-06-06T11:54:27.603Z"
   },
   {
    "duration": 6,
    "start_time": "2022-06-06T11:54:31.979Z"
   },
   {
    "duration": 4,
    "start_time": "2022-06-06T12:49:55.028Z"
   },
   {
    "duration": 1086,
    "start_time": "2022-06-06T12:54:40.799Z"
   },
   {
    "duration": 203,
    "start_time": "2022-06-06T12:54:41.887Z"
   },
   {
    "duration": 116,
    "start_time": "2022-06-06T12:54:42.092Z"
   },
   {
    "duration": 154,
    "start_time": "2022-06-06T12:54:42.210Z"
   },
   {
    "duration": 8,
    "start_time": "2022-06-06T12:54:42.366Z"
   },
   {
    "duration": 48,
    "start_time": "2022-06-06T12:54:42.376Z"
   },
   {
    "duration": 402,
    "start_time": "2022-06-06T12:54:42.426Z"
   },
   {
    "duration": 376,
    "start_time": "2022-06-06T12:54:42.829Z"
   },
   {
    "duration": 1517,
    "start_time": "2022-06-06T12:54:43.207Z"
   },
   {
    "duration": 358,
    "start_time": "2022-06-06T12:54:44.727Z"
   },
   {
    "duration": 1549,
    "start_time": "2022-06-06T12:54:45.087Z"
   },
   {
    "duration": 351,
    "start_time": "2022-06-06T12:54:46.638Z"
   },
   {
    "duration": 1699,
    "start_time": "2022-06-06T12:54:46.991Z"
   },
   {
    "duration": 2783,
    "start_time": "2022-06-06T12:54:48.692Z"
   },
   {
    "duration": 164,
    "start_time": "2022-06-06T12:54:51.476Z"
   },
   {
    "duration": 159,
    "start_time": "2022-06-06T12:54:51.642Z"
   },
   {
    "duration": 178,
    "start_time": "2022-06-06T12:54:51.803Z"
   },
   {
    "duration": 149,
    "start_time": "2022-06-06T12:54:51.982Z"
   },
   {
    "duration": 156,
    "start_time": "2022-06-06T12:54:52.133Z"
   },
   {
    "duration": 155,
    "start_time": "2022-06-06T12:54:52.290Z"
   },
   {
    "duration": 498,
    "start_time": "2022-06-06T12:54:52.447Z"
   },
   {
    "duration": 12,
    "start_time": "2022-06-06T12:54:52.947Z"
   },
   {
    "duration": 17,
    "start_time": "2022-06-06T12:54:52.961Z"
   },
   {
    "duration": 1488,
    "start_time": "2022-06-06T14:34:41.248Z"
   },
   {
    "duration": 194,
    "start_time": "2022-06-06T14:34:42.738Z"
   },
   {
    "duration": 132,
    "start_time": "2022-06-06T14:34:42.934Z"
   },
   {
    "duration": 154,
    "start_time": "2022-06-06T14:34:43.069Z"
   },
   {
    "duration": 17,
    "start_time": "2022-06-06T14:34:43.225Z"
   },
   {
    "duration": 41,
    "start_time": "2022-06-06T14:34:43.244Z"
   },
   {
    "duration": 421,
    "start_time": "2022-06-06T14:34:43.286Z"
   },
   {
    "duration": 369,
    "start_time": "2022-06-06T14:34:43.709Z"
   },
   {
    "duration": 1658,
    "start_time": "2022-06-06T14:34:44.080Z"
   },
   {
    "duration": 375,
    "start_time": "2022-06-06T14:34:45.740Z"
   },
   {
    "duration": 1744,
    "start_time": "2022-06-06T14:34:46.117Z"
   },
   {
    "duration": 541,
    "start_time": "2022-06-06T14:34:47.864Z"
   },
   {
    "duration": 1687,
    "start_time": "2022-06-06T14:34:48.408Z"
   },
   {
    "duration": 3478,
    "start_time": "2022-06-06T14:34:50.097Z"
   },
   {
    "duration": 352,
    "start_time": "2022-06-06T14:34:53.577Z"
   },
   {
    "duration": 229,
    "start_time": "2022-06-06T14:34:53.931Z"
   },
   {
    "duration": 226,
    "start_time": "2022-06-06T14:34:54.162Z"
   },
   {
    "duration": 171,
    "start_time": "2022-06-06T14:34:54.390Z"
   },
   {
    "duration": 186,
    "start_time": "2022-06-06T14:34:54.563Z"
   },
   {
    "duration": 179,
    "start_time": "2022-06-06T14:34:54.751Z"
   },
   {
    "duration": 489,
    "start_time": "2022-06-06T14:34:54.932Z"
   },
   {
    "duration": 18,
    "start_time": "2022-06-06T14:34:55.423Z"
   },
   {
    "duration": 5,
    "start_time": "2022-06-06T14:34:55.443Z"
   },
   {
    "duration": 7,
    "start_time": "2022-06-06T14:40:30.493Z"
   },
   {
    "duration": 25,
    "start_time": "2022-06-06T14:40:41.202Z"
   },
   {
    "duration": 17,
    "start_time": "2022-06-06T14:40:53.006Z"
   },
   {
    "duration": 37,
    "start_time": "2022-06-07T05:25:12.781Z"
   },
   {
    "duration": 1755,
    "start_time": "2022-06-07T05:25:23.831Z"
   },
   {
    "duration": 196,
    "start_time": "2022-06-07T05:25:25.589Z"
   },
   {
    "duration": 116,
    "start_time": "2022-06-07T05:25:25.787Z"
   },
   {
    "duration": 129,
    "start_time": "2022-06-07T05:25:25.905Z"
   },
   {
    "duration": 9,
    "start_time": "2022-06-07T05:25:26.036Z"
   },
   {
    "duration": 39,
    "start_time": "2022-06-07T05:25:26.047Z"
   },
   {
    "duration": 545,
    "start_time": "2022-06-07T05:25:26.088Z"
   },
   {
    "duration": 382,
    "start_time": "2022-06-07T05:25:26.636Z"
   },
   {
    "duration": 1589,
    "start_time": "2022-06-07T05:25:27.020Z"
   },
   {
    "duration": 349,
    "start_time": "2022-06-07T05:25:28.612Z"
   },
   {
    "duration": 1656,
    "start_time": "2022-06-07T05:25:28.962Z"
   },
   {
    "duration": 355,
    "start_time": "2022-06-07T05:25:30.619Z"
   },
   {
    "duration": 1681,
    "start_time": "2022-06-07T05:25:30.976Z"
   },
   {
    "duration": 12,
    "start_time": "2022-06-07T05:25:32.659Z"
   },
   {
    "duration": 0,
    "start_time": "2022-06-07T05:25:32.673Z"
   },
   {
    "duration": 0,
    "start_time": "2022-06-07T05:25:32.674Z"
   },
   {
    "duration": 0,
    "start_time": "2022-06-07T05:25:32.675Z"
   },
   {
    "duration": 0,
    "start_time": "2022-06-07T05:25:32.676Z"
   },
   {
    "duration": 0,
    "start_time": "2022-06-07T05:25:32.677Z"
   },
   {
    "duration": 0,
    "start_time": "2022-06-07T05:25:32.678Z"
   },
   {
    "duration": 0,
    "start_time": "2022-06-07T05:25:32.680Z"
   },
   {
    "duration": 0,
    "start_time": "2022-06-07T05:25:32.681Z"
   },
   {
    "duration": 0,
    "start_time": "2022-06-07T05:25:32.682Z"
   },
   {
    "duration": 33,
    "start_time": "2022-06-07T05:29:54.482Z"
   },
   {
    "duration": 26,
    "start_time": "2022-06-07T05:30:08.441Z"
   },
   {
    "duration": 2827,
    "start_time": "2022-06-07T05:30:47.577Z"
   },
   {
    "duration": 2785,
    "start_time": "2022-06-07T05:31:19.826Z"
   },
   {
    "duration": 75,
    "start_time": "2022-06-07T07:09:05.890Z"
   },
   {
    "duration": 15,
    "start_time": "2022-06-07T07:10:06.313Z"
   },
   {
    "duration": 362,
    "start_time": "2022-06-07T07:11:16.439Z"
   },
   {
    "duration": 11,
    "start_time": "2022-06-07T07:14:31.695Z"
   },
   {
    "duration": 10,
    "start_time": "2022-06-07T07:15:08.116Z"
   },
   {
    "duration": 10,
    "start_time": "2022-06-07T07:15:21.363Z"
   },
   {
    "duration": 333,
    "start_time": "2022-06-07T07:15:31.966Z"
   },
   {
    "duration": 310,
    "start_time": "2022-06-07T07:17:38.239Z"
   },
   {
    "duration": 11,
    "start_time": "2022-06-07T07:20:32.264Z"
   },
   {
    "duration": 2048,
    "start_time": "2022-06-07T11:52:36.602Z"
   },
   {
    "duration": 223,
    "start_time": "2022-06-07T11:52:38.653Z"
   },
   {
    "duration": 130,
    "start_time": "2022-06-07T11:52:38.881Z"
   },
   {
    "duration": 179,
    "start_time": "2022-06-07T11:52:39.013Z"
   },
   {
    "duration": 7,
    "start_time": "2022-06-07T11:52:39.194Z"
   },
   {
    "duration": 65,
    "start_time": "2022-06-07T11:52:39.203Z"
   },
   {
    "duration": 495,
    "start_time": "2022-06-07T11:52:39.270Z"
   },
   {
    "duration": 1799,
    "start_time": "2022-06-07T11:55:17.881Z"
   },
   {
    "duration": 482,
    "start_time": "2022-06-07T11:55:19.682Z"
   },
   {
    "duration": 2035,
    "start_time": "2022-06-07T11:55:20.167Z"
   },
   {
    "duration": 408,
    "start_time": "2022-06-07T11:55:22.204Z"
   },
   {
    "duration": 1118,
    "start_time": "2022-06-07T11:55:26.442Z"
   },
   {
    "duration": 189,
    "start_time": "2022-06-07T11:55:27.562Z"
   },
   {
    "duration": 132,
    "start_time": "2022-06-07T11:55:27.752Z"
   },
   {
    "duration": 158,
    "start_time": "2022-06-07T11:55:27.887Z"
   },
   {
    "duration": 8,
    "start_time": "2022-06-07T11:55:28.047Z"
   },
   {
    "duration": 38,
    "start_time": "2022-06-07T11:55:28.057Z"
   },
   {
    "duration": 410,
    "start_time": "2022-06-07T11:55:28.096Z"
   },
   {
    "duration": 101,
    "start_time": "2022-06-07T11:55:28.508Z"
   },
   {
    "duration": 0,
    "start_time": "2022-06-07T11:55:28.611Z"
   },
   {
    "duration": 0,
    "start_time": "2022-06-07T11:55:28.613Z"
   },
   {
    "duration": 0,
    "start_time": "2022-06-07T11:55:28.626Z"
   },
   {
    "duration": 0,
    "start_time": "2022-06-07T11:55:28.628Z"
   },
   {
    "duration": 0,
    "start_time": "2022-06-07T11:55:28.629Z"
   },
   {
    "duration": 0,
    "start_time": "2022-06-07T11:55:28.630Z"
   },
   {
    "duration": 0,
    "start_time": "2022-06-07T11:55:28.632Z"
   },
   {
    "duration": 0,
    "start_time": "2022-06-07T11:55:28.633Z"
   },
   {
    "duration": 0,
    "start_time": "2022-06-07T11:55:28.634Z"
   },
   {
    "duration": 0,
    "start_time": "2022-06-07T11:55:28.635Z"
   },
   {
    "duration": 0,
    "start_time": "2022-06-07T11:55:28.637Z"
   },
   {
    "duration": 0,
    "start_time": "2022-06-07T11:55:28.638Z"
   },
   {
    "duration": 0,
    "start_time": "2022-06-07T11:55:28.639Z"
   },
   {
    "duration": 0,
    "start_time": "2022-06-07T11:55:28.640Z"
   },
   {
    "duration": 0,
    "start_time": "2022-06-07T11:55:28.642Z"
   },
   {
    "duration": 488,
    "start_time": "2022-06-07T11:55:52.620Z"
   },
   {
    "duration": 1200,
    "start_time": "2022-06-07T11:56:01.636Z"
   },
   {
    "duration": 203,
    "start_time": "2022-06-07T11:56:02.838Z"
   },
   {
    "duration": 131,
    "start_time": "2022-06-07T11:56:03.043Z"
   },
   {
    "duration": 184,
    "start_time": "2022-06-07T11:56:03.177Z"
   },
   {
    "duration": 9,
    "start_time": "2022-06-07T11:56:03.364Z"
   },
   {
    "duration": 71,
    "start_time": "2022-06-07T11:56:03.375Z"
   },
   {
    "duration": 435,
    "start_time": "2022-06-07T11:56:03.448Z"
   },
   {
    "duration": 375,
    "start_time": "2022-06-07T11:56:03.885Z"
   },
   {
    "duration": 1969,
    "start_time": "2022-06-07T11:56:04.262Z"
   },
   {
    "duration": 395,
    "start_time": "2022-06-07T11:56:06.234Z"
   },
   {
    "duration": 1787,
    "start_time": "2022-06-07T11:56:06.631Z"
   },
   {
    "duration": 398,
    "start_time": "2022-06-07T11:56:08.420Z"
   },
   {
    "duration": 1874,
    "start_time": "2022-06-07T11:56:08.820Z"
   },
   {
    "duration": 3352,
    "start_time": "2022-06-07T11:56:10.695Z"
   },
   {
    "duration": 182,
    "start_time": "2022-06-07T11:56:14.049Z"
   },
   {
    "duration": 188,
    "start_time": "2022-06-07T11:56:14.233Z"
   },
   {
    "duration": 231,
    "start_time": "2022-06-07T11:56:14.432Z"
   },
   {
    "duration": 195,
    "start_time": "2022-06-07T11:56:14.666Z"
   },
   {
    "duration": 194,
    "start_time": "2022-06-07T11:56:14.863Z"
   },
   {
    "duration": 208,
    "start_time": "2022-06-07T11:56:15.059Z"
   },
   {
    "duration": 496,
    "start_time": "2022-06-07T11:56:15.268Z"
   },
   {
    "duration": 6,
    "start_time": "2022-06-07T11:56:15.766Z"
   },
   {
    "duration": 22,
    "start_time": "2022-06-07T11:56:15.774Z"
   },
   {
    "duration": 158747,
    "start_time": "2022-06-07T11:58:59.048Z"
   },
   {
    "duration": 2044,
    "start_time": "2022-06-07T12:30:01.006Z"
   },
   {
    "duration": 129,
    "start_time": "2022-06-07T12:30:17.954Z"
   },
   {
    "duration": 1160,
    "start_time": "2022-06-07T12:30:47.192Z"
   },
   {
    "duration": 203,
    "start_time": "2022-06-07T12:30:48.354Z"
   },
   {
    "duration": 122,
    "start_time": "2022-06-07T12:30:48.559Z"
   },
   {
    "duration": 132,
    "start_time": "2022-06-07T12:30:48.683Z"
   },
   {
    "duration": 31,
    "start_time": "2022-06-07T12:30:48.817Z"
   },
   {
    "duration": 41,
    "start_time": "2022-06-07T12:30:48.853Z"
   },
   {
    "duration": 422,
    "start_time": "2022-06-07T12:30:48.896Z"
   },
   {
    "duration": 155144,
    "start_time": "2022-06-07T12:30:49.320Z"
   },
   {
    "duration": 1898,
    "start_time": "2022-06-07T12:33:24.467Z"
   },
   {
    "duration": 404,
    "start_time": "2022-06-07T12:33:26.368Z"
   },
   {
    "duration": 1874,
    "start_time": "2022-06-07T12:33:26.774Z"
   },
   {
    "duration": 464,
    "start_time": "2022-06-07T12:33:28.651Z"
   },
   {
    "duration": 2118,
    "start_time": "2022-06-07T12:33:29.117Z"
   },
   {
    "duration": 3668,
    "start_time": "2022-06-07T12:33:31.238Z"
   },
   {
    "duration": 272,
    "start_time": "2022-06-07T12:33:34.908Z"
   },
   {
    "duration": 181,
    "start_time": "2022-06-07T12:33:35.182Z"
   },
   {
    "duration": 212,
    "start_time": "2022-06-07T12:33:35.365Z"
   },
   {
    "duration": 190,
    "start_time": "2022-06-07T12:33:35.579Z"
   },
   {
    "duration": 173,
    "start_time": "2022-06-07T12:33:35.771Z"
   },
   {
    "duration": 195,
    "start_time": "2022-06-07T12:33:35.949Z"
   },
   {
    "duration": 507,
    "start_time": "2022-06-07T12:33:36.149Z"
   },
   {
    "duration": 4,
    "start_time": "2022-06-07T12:33:36.659Z"
   },
   {
    "duration": 29,
    "start_time": "2022-06-07T12:33:36.665Z"
   },
   {
    "duration": 148,
    "start_time": "2022-06-07T12:35:07.400Z"
   },
   {
    "duration": 18,
    "start_time": "2022-06-07T12:35:14.759Z"
   },
   {
    "duration": 1423,
    "start_time": "2022-06-07T12:35:24.461Z"
   },
   {
    "duration": 235,
    "start_time": "2022-06-07T12:35:25.887Z"
   },
   {
    "duration": 148,
    "start_time": "2022-06-07T12:35:26.125Z"
   },
   {
    "duration": 181,
    "start_time": "2022-06-07T12:35:26.274Z"
   },
   {
    "duration": 8,
    "start_time": "2022-06-07T12:35:26.458Z"
   },
   {
    "duration": 64,
    "start_time": "2022-06-07T12:35:26.468Z"
   },
   {
    "duration": 435,
    "start_time": "2022-06-07T12:35:26.545Z"
   },
   {
    "duration": 155504,
    "start_time": "2022-06-07T12:35:26.981Z"
   },
   {
    "duration": 1758,
    "start_time": "2022-06-07T12:38:02.486Z"
   },
   {
    "duration": 413,
    "start_time": "2022-06-07T12:38:04.245Z"
   },
   {
    "duration": 1824,
    "start_time": "2022-06-07T12:38:04.661Z"
   },
   {
    "duration": 374,
    "start_time": "2022-06-07T12:38:06.487Z"
   },
   {
    "duration": 1701,
    "start_time": "2022-06-07T12:38:06.862Z"
   },
   {
    "duration": 3171,
    "start_time": "2022-06-07T12:38:08.566Z"
   },
   {
    "duration": 225,
    "start_time": "2022-06-07T12:38:11.742Z"
   },
   {
    "duration": 189,
    "start_time": "2022-06-07T12:38:11.969Z"
   },
   {
    "duration": 237,
    "start_time": "2022-06-07T12:38:12.160Z"
   },
   {
    "duration": 186,
    "start_time": "2022-06-07T12:38:12.399Z"
   },
   {
    "duration": 185,
    "start_time": "2022-06-07T12:38:12.587Z"
   },
   {
    "duration": 197,
    "start_time": "2022-06-07T12:38:12.774Z"
   },
   {
    "duration": 523,
    "start_time": "2022-06-07T12:38:12.973Z"
   },
   {
    "duration": 5,
    "start_time": "2022-06-07T12:38:13.497Z"
   },
   {
    "duration": 7,
    "start_time": "2022-06-07T12:38:13.504Z"
   },
   {
    "duration": 3315,
    "start_time": "2022-06-07T12:42:07.638Z"
   },
   {
    "duration": 3188,
    "start_time": "2022-06-07T12:42:37.399Z"
   },
   {
    "duration": 224,
    "start_time": "2022-06-07T12:59:53.568Z"
   },
   {
    "duration": 313,
    "start_time": "2022-06-07T13:00:35.574Z"
   },
   {
    "duration": 388,
    "start_time": "2022-06-07T13:00:56.801Z"
   },
   {
    "duration": 393,
    "start_time": "2022-06-07T13:01:54.765Z"
   },
   {
    "duration": 265,
    "start_time": "2022-06-07T13:02:17.518Z"
   },
   {
    "duration": 222,
    "start_time": "2022-06-07T13:02:45.595Z"
   },
   {
    "duration": 440,
    "start_time": "2022-06-07T13:03:06.677Z"
   },
   {
    "duration": 102,
    "start_time": "2022-06-07T13:03:50.511Z"
   },
   {
    "duration": 25,
    "start_time": "2022-06-07T13:04:11.107Z"
   },
   {
    "duration": 1741,
    "start_time": "2022-06-07T13:11:58.070Z"
   },
   {
    "duration": 344,
    "start_time": "2022-06-07T13:11:59.814Z"
   },
   {
    "duration": 162,
    "start_time": "2022-06-07T13:12:00.161Z"
   },
   {
    "duration": 230,
    "start_time": "2022-06-07T13:12:00.326Z"
   },
   {
    "duration": 11,
    "start_time": "2022-06-07T13:12:00.559Z"
   },
   {
    "duration": 239,
    "start_time": "2022-06-07T13:12:00.572Z"
   },
   {
    "duration": 806,
    "start_time": "2022-06-07T13:12:00.813Z"
   },
   {
    "duration": 182947,
    "start_time": "2022-06-07T13:12:01.621Z"
   },
   {
    "duration": 2342,
    "start_time": "2022-06-07T13:15:04.574Z"
   },
   {
    "duration": 513,
    "start_time": "2022-06-07T13:15:06.919Z"
   },
   {
    "duration": 2386,
    "start_time": "2022-06-07T13:15:07.433Z"
   },
   {
    "duration": 513,
    "start_time": "2022-06-07T13:15:09.821Z"
   },
   {
    "duration": 2269,
    "start_time": "2022-06-07T13:15:10.336Z"
   },
   {
    "duration": 4608,
    "start_time": "2022-06-07T13:15:12.611Z"
   },
   {
    "duration": 462,
    "start_time": "2022-06-07T13:15:17.221Z"
   },
   {
    "duration": 300,
    "start_time": "2022-06-07T13:15:17.689Z"
   },
   {
    "duration": 266,
    "start_time": "2022-06-07T13:15:17.993Z"
   },
   {
    "duration": 245,
    "start_time": "2022-06-07T13:15:18.261Z"
   },
   {
    "duration": 345,
    "start_time": "2022-06-07T13:15:18.508Z"
   },
   {
    "duration": 266,
    "start_time": "2022-06-07T13:15:18.856Z"
   },
   {
    "duration": 710,
    "start_time": "2022-06-07T13:15:19.124Z"
   },
   {
    "duration": 6,
    "start_time": "2022-06-07T13:15:19.837Z"
   },
   {
    "duration": 59,
    "start_time": "2022-06-07T13:15:19.845Z"
   },
   {
    "duration": 209,
    "start_time": "2022-06-07T13:18:28.469Z"
   },
   {
    "duration": 1474,
    "start_time": "2022-06-07T13:34:37.709Z"
   },
   {
    "duration": 254,
    "start_time": "2022-06-07T13:34:39.185Z"
   },
   {
    "duration": 139,
    "start_time": "2022-06-07T13:34:39.441Z"
   },
   {
    "duration": 207,
    "start_time": "2022-06-07T13:34:39.583Z"
   },
   {
    "duration": 8,
    "start_time": "2022-06-07T13:34:39.792Z"
   },
   {
    "duration": 73,
    "start_time": "2022-06-07T13:34:39.802Z"
   },
   {
    "duration": 477,
    "start_time": "2022-06-07T13:34:39.877Z"
   },
   {
    "duration": 171400,
    "start_time": "2022-06-07T13:34:40.356Z"
   },
   {
    "duration": 2381,
    "start_time": "2022-06-07T13:37:31.759Z"
   },
   {
    "duration": 523,
    "start_time": "2022-06-07T13:37:34.143Z"
   },
   {
    "duration": 2128,
    "start_time": "2022-06-07T13:37:34.668Z"
   },
   {
    "duration": 433,
    "start_time": "2022-06-07T13:37:36.798Z"
   },
   {
    "duration": 1950,
    "start_time": "2022-06-07T13:37:37.234Z"
   },
   {
    "duration": 3665,
    "start_time": "2022-06-07T13:37:39.185Z"
   },
   {
    "duration": 251,
    "start_time": "2022-06-07T13:37:42.855Z"
   },
   {
    "duration": 258,
    "start_time": "2022-06-07T13:37:43.108Z"
   },
   {
    "duration": 275,
    "start_time": "2022-06-07T13:37:43.368Z"
   },
   {
    "duration": 255,
    "start_time": "2022-06-07T13:37:43.645Z"
   },
   {
    "duration": 289,
    "start_time": "2022-06-07T13:37:43.903Z"
   },
   {
    "duration": 358,
    "start_time": "2022-06-07T13:37:44.201Z"
   },
   {
    "duration": 756,
    "start_time": "2022-06-07T13:37:44.576Z"
   },
   {
    "duration": 8,
    "start_time": "2022-06-07T13:37:45.339Z"
   },
   {
    "duration": 57,
    "start_time": "2022-06-07T13:37:45.353Z"
   },
   {
    "duration": 1634,
    "start_time": "2022-06-07T13:39:51.161Z"
   },
   {
    "duration": 339,
    "start_time": "2022-06-07T13:39:52.797Z"
   },
   {
    "duration": 179,
    "start_time": "2022-06-07T13:39:53.138Z"
   },
   {
    "duration": 231,
    "start_time": "2022-06-07T13:39:53.319Z"
   },
   {
    "duration": 16,
    "start_time": "2022-06-07T13:39:53.553Z"
   },
   {
    "duration": 68,
    "start_time": "2022-06-07T13:39:53.570Z"
   },
   {
    "duration": 517,
    "start_time": "2022-06-07T13:39:53.641Z"
   },
   {
    "duration": 176364,
    "start_time": "2022-06-07T13:39:54.160Z"
   },
   {
    "duration": 2252,
    "start_time": "2022-06-07T13:42:50.529Z"
   },
   {
    "duration": 499,
    "start_time": "2022-06-07T13:42:52.783Z"
   },
   {
    "duration": 2040,
    "start_time": "2022-06-07T13:42:53.285Z"
   },
   {
    "duration": 426,
    "start_time": "2022-06-07T13:42:55.341Z"
   },
   {
    "duration": 1991,
    "start_time": "2022-06-07T13:42:55.769Z"
   },
   {
    "duration": 3714,
    "start_time": "2022-06-07T13:42:57.767Z"
   },
   {
    "duration": 246,
    "start_time": "2022-06-07T13:43:01.489Z"
   },
   {
    "duration": 227,
    "start_time": "2022-06-07T13:43:01.737Z"
   },
   {
    "duration": 288,
    "start_time": "2022-06-07T13:43:01.968Z"
   },
   {
    "duration": 240,
    "start_time": "2022-06-07T13:43:02.262Z"
   },
   {
    "duration": 212,
    "start_time": "2022-06-07T13:43:02.504Z"
   },
   {
    "duration": 236,
    "start_time": "2022-06-07T13:43:02.717Z"
   },
   {
    "duration": 533,
    "start_time": "2022-06-07T13:43:02.958Z"
   },
   {
    "duration": 5,
    "start_time": "2022-06-07T13:43:03.493Z"
   },
   {
    "duration": 14,
    "start_time": "2022-06-07T13:43:03.499Z"
   },
   {
    "duration": 1436,
    "start_time": "2022-06-07T13:45:36.576Z"
   },
   {
    "duration": 266,
    "start_time": "2022-06-07T13:45:38.014Z"
   },
   {
    "duration": 127,
    "start_time": "2022-06-07T13:45:38.285Z"
   },
   {
    "duration": 221,
    "start_time": "2022-06-07T13:45:38.414Z"
   },
   {
    "duration": 12,
    "start_time": "2022-06-07T13:45:38.638Z"
   },
   {
    "duration": 99,
    "start_time": "2022-06-07T13:45:38.652Z"
   },
   {
    "duration": 502,
    "start_time": "2022-06-07T13:45:38.753Z"
   },
   {
    "duration": 166551,
    "start_time": "2022-06-07T13:45:39.258Z"
   },
   {
    "duration": 2072,
    "start_time": "2022-06-07T13:48:25.811Z"
   },
   {
    "duration": 418,
    "start_time": "2022-06-07T13:48:27.885Z"
   },
   {
    "duration": 2046,
    "start_time": "2022-06-07T13:48:28.305Z"
   },
   {
    "duration": 460,
    "start_time": "2022-06-07T13:48:30.359Z"
   },
   {
    "duration": 2315,
    "start_time": "2022-06-07T13:48:30.821Z"
   },
   {
    "duration": 4046,
    "start_time": "2022-06-07T13:48:33.141Z"
   },
   {
    "duration": 302,
    "start_time": "2022-06-07T13:48:37.189Z"
   },
   {
    "duration": 228,
    "start_time": "2022-06-07T13:48:37.493Z"
   },
   {
    "duration": 249,
    "start_time": "2022-06-07T13:48:37.723Z"
   },
   {
    "duration": 246,
    "start_time": "2022-06-07T13:48:37.975Z"
   },
   {
    "duration": 226,
    "start_time": "2022-06-07T13:48:38.223Z"
   },
   {
    "duration": 239,
    "start_time": "2022-06-07T13:48:38.456Z"
   },
   {
    "duration": 561,
    "start_time": "2022-06-07T13:48:38.697Z"
   },
   {
    "duration": 7,
    "start_time": "2022-06-07T13:48:39.260Z"
   },
   {
    "duration": 26,
    "start_time": "2022-06-07T13:48:39.269Z"
   }
  ],
  "kernelspec": {
   "display_name": "Python 3 (ipykernel)",
   "language": "python",
   "name": "python3"
  },
  "language_info": {
   "codemirror_mode": {
    "name": "ipython",
    "version": 3
   },
   "file_extension": ".py",
   "mimetype": "text/x-python",
   "name": "python",
   "nbconvert_exporter": "python",
   "pygments_lexer": "ipython3",
   "version": "3.9.12"
  },
  "toc": {
   "base_numbering": 1,
   "nav_menu": {
    "height": "134px",
    "width": "296px"
   },
   "number_sections": true,
   "sideBar": true,
   "skip_h1_title": true,
   "title_cell": "Table of Contents",
   "title_sidebar": "Contents",
   "toc_cell": false,
   "toc_position": {
    "height": "calc(100% - 180px)",
    "left": "10px",
    "top": "150px",
    "width": "289.6px"
   },
   "toc_section_display": true,
   "toc_window_display": false
  }
 },
 "nbformat": 4,
 "nbformat_minor": 2
}
