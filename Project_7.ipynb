{
 "cells": [
  {
   "cell_type": "markdown",
   "metadata": {},
   "source": [
    "<span style=\"color:green\">**Поздравляю, твой проект принят!**</span>\n",
    "\n",
    "Рустем, отличная работа, получился качественный аналитический отчет. Поставленные задачи были успешно выполнены! Спасибо за обозначение корректировок. Недочёты исправлены! Здорово, что учёл рекомендации. Надеюсь, ревью было полезным:) Желаю успехов в учебе и со следующими проектами!\n",
    "\n",
    "<span style=\"color:purple\">**Привет еще раз!**</span> v2\n",
    "\n",
    "Рустем, спасибо, что доработал проект – стало лучше! Некоторые недочёты остались актуальными: исправить проверку пересечения групп, проконтролировать изменения результатов после исправления, а также указать критерий проверки гипотез. Дал дополнительные комментарии, надеюсь они помогут. Жду твою работу!\n",
    "\n",
    "Оформление комментариев оставим таким же, только обозначим номер проверки `v2`.\n",
    "\n",
    "<span style=\"color:purple\">**Привет, Рустем!**</span>\n",
    "\n",
    "Меня зовут **Василий Удинкан** и я – ревьювер, буду проверять твой проект. Ты проделал большую работу над проектом, но давай сделаем его еще лучше.\n",
    "\n",
    "Спасибо, что прислал проект. В тетради ты сможешь найти мои комментарии. Пострайся учесть эти комментарии в ходе выполнения дальнейших проектов.\n",
    "\n",
    "Твой проект обладает хорошей структурой и понятной логикой исследования. Тем не менее, в нём обнаружились недочёты, которые необходимо будет исправить.\n",
    "\n",
    "Обрати внимание, я буду выделять свои комментарии цветом, в зависимости от того, какие действия, важность и особенности тебя ждут в процессе проверки.\n",
    "\n",
    "<div class=\"alert alert-block alert-success\">\n",
    "\n",
    "**Комментарий ревьювера (все отлично)**\n",
    "    \n",
    "Такими комментариями я буду помечать хорошо проделаную работу, а так же хорошо проделаную работу над ошибками.\n",
    "</div>\n",
    "\n",
    "<div class=\"alert alert-block alert-warning\">\n",
    "\n",
    "**Комментарий ревьювера (что можно улучшить)**\n",
    "    \n",
    "После таких комментариев ничего исправлять не нужно, но я дам рекомендации на будущее и подскажу, что можно улучшить.\n",
    "</div>\n",
    "\n",
    "<div class=\"alert alert-block alert-danger\">\n",
    "    \n",
    "**Комментарий ревьювера (недочет, который нужно доработать)**\n",
    "    \n",
    "Если ты видишь такой комментарий, значит я указываю тебе на недочёт, его нужно исправить. Без такого исправления я не приму твою работу:)\n",
    "</div>\n",
    "\n",
    "**Пожалуста, не удаляй мои комментарии. При повторной проверке, я буду ориентироваться на них.**\n",
    "\n",
    "<span style=\"color:blue\"> Можешь под моими комментариями оставлять свои, в которых опиши свои исправления. Это облегчит процесс проверки и мне, и тебе:) Например, вот так:</span>\n",
    "\n",
    "<div class=\"alert alert-block alert-info\">\n",
    "<b>КОММЕНТАРИЙ ОТ УЧЕНИКА: </b>\n",
    "    Привет, Василий! Спасибо за советы и рекомендации, очень полезно.\n",
    "</div>"
   ]
  },
  {
   "cell_type": "markdown",
   "metadata": {},
   "source": [
    "### Описание проекта"
   ]
  },
  {
   "cell_type": "markdown",
   "metadata": {},
   "source": [
    "Вы — аналитик крупного интернет-магазина. Вместе с отделом маркетинга вы подготовили список гипотез для увеличения выручки.\n",
    "Приоритизируйте гипотезы, запустите A/B-тест и проанализируйте результаты."
   ]
  },
  {
   "cell_type": "markdown",
   "metadata": {},
   "source": [
    "#### Задание по гипотезам\n",
    "Примените фреймворк ICE для приоритизации гипотез. Отсортируйте их по убыванию приоритета.\n",
    "\n",
    "Примените фреймворк RICE для приоритизации гипотез. Отсортируйте их по убыванию приоритета.\n",
    "\n",
    "Укажите, как изменилась приоритизация гипотез при применении RICE вместо ICE. Объясните, почему так произошло.\n"
   ]
  },
  {
   "cell_type": "markdown",
   "metadata": {},
   "source": [
    "#### Задание по анализу A/B-теста\n",
    "Постройте график кумулятивной выручки по группам. Сделайте выводы и предположения.\n",
    "\n",
    "Постройте график кумулятивного среднего чека по группам. Сделайте выводы и предположения.\n",
    "\n",
    "Постройте график относительного изменения кумулятивного среднего чека группы B к группе A. Сделайте выводы и предположения.\n",
    "\n",
    "Постройте график кумулятивного среднего количества заказов на посетителя по группам. Сделайте выводы и предположения.\n",
    "\n",
    "Постройте график относительного изменения кумулятивного среднего количества заказов на посетителя группы B к группе A. Сделайте выводы и предположения.\n",
    "\n",
    "Постройте точечный график количества заказов по пользователям. Сделайте выводы и предположения.\n",
    "\n",
    "Посчитайте 95-й и 99-й перцентили количества заказов на пользователя. Выберите границу для определения аномальных пользователей.\n",
    "\n",
    "Постройте точечный график стоимостей заказов. Сделайте выводы и предположения.\n",
    "\n",
    "Посчитайте 95-й и 99-й перцентили стоимости заказов. Выберите границу для определения аномальных заказов.\n",
    "\n",
    "Посчитайте статистическую значимость различий в среднем количестве заказов на посетителя между группами по «сырым» данным. Сделайте выводы и предположения.\n",
    "\n",
    "Посчитайте статистическую значимость различий в среднем чеке заказа между группами по «сырым» данным. Сделайте выводы и предположения.\n",
    "\n",
    "Посчитайте статистическую значимость различий в среднем количестве заказов на посетителя между группами по «очищенным» данным. Сделайте выводы и предположения.\n",
    "\n",
    "Посчитайте статистическую значимость различий в среднем чеке заказа между группами по «очищенным» данным. Сделайте выводы и предположения.\n",
    "\n",
    "Примите решение по результатам теста и объясните его. Варианты решений:\n",
    "1. Остановить тест, зафиксировать победу одной из групп.\n",
    "2. Остановить тест, зафиксировать отсутствие различий между группами.\n",
    "3. Продолжить тест."
   ]
  },
  {
   "cell_type": "markdown",
   "metadata": {},
   "source": [
    "<div class=\"alert alert-block alert-success\">\n",
    "\n",
    "**Комментарий ревьювера (все отлично)**\n",
    "    \n",
    "Хорошее введение. Понятно чему посвящена твоя работа и какие этапы она содержит.\n",
    "</div>"
   ]
  },
  {
   "cell_type": "markdown",
   "metadata": {},
   "source": [
    "### Ознакомление с гипотезами"
   ]
  },
  {
   "cell_type": "code",
   "execution_count": 1,
   "metadata": {},
   "outputs": [],
   "source": [
    "#импортируем рабочие библиотеки\n",
    "import pandas as pd\n",
    "import datetime as dt\n",
    "import numpy as np\n",
    "import scipy.stats as stats\n",
    "import matplotlib.pyplot as plt\n",
    "from pandas.plotting import register_matplotlib_converters\n",
    "import warnings\n",
    "register_matplotlib_converters()\n",
    "import seaborn as sns"
   ]
  },
  {
   "cell_type": "markdown",
   "metadata": {},
   "source": [
    "<div class=\"alert alert-block alert-success\">\n",
    "\n",
    "**Комментарий ревьювера (все отлично)**\n",
    "    \n",
    "Правильно, что импортируешь необходимые библиотеки в первой ячейке. Так твой коллега, запускающий работу, будет в курсе используемых в ней библиотек и сможет настроить свое окружение при необходимости.\n",
    "</div>"
   ]
  },
  {
   "cell_type": "code",
   "execution_count": 2,
   "metadata": {
    "scrolled": true
   },
   "outputs": [
    {
     "data": {
      "text/html": [
       "<div>\n",
       "<style scoped>\n",
       "    .dataframe tbody tr th:only-of-type {\n",
       "        vertical-align: middle;\n",
       "    }\n",
       "\n",
       "    .dataframe tbody tr th {\n",
       "        vertical-align: top;\n",
       "    }\n",
       "\n",
       "    .dataframe thead th {\n",
       "        text-align: right;\n",
       "    }\n",
       "</style>\n",
       "<table border=\"1\" class=\"dataframe\">\n",
       "  <thead>\n",
       "    <tr style=\"text-align: right;\">\n",
       "      <th></th>\n",
       "      <th>Hypothesis</th>\n",
       "      <th>Reach</th>\n",
       "      <th>Impact</th>\n",
       "      <th>Confidence</th>\n",
       "      <th>Efforts</th>\n",
       "    </tr>\n",
       "  </thead>\n",
       "  <tbody>\n",
       "    <tr>\n",
       "      <th>0</th>\n",
       "      <td>Добавить два новых канала привлечения трафика, что позволит привлекать на 30% больше пользователей</td>\n",
       "      <td>3</td>\n",
       "      <td>10</td>\n",
       "      <td>8</td>\n",
       "      <td>6</td>\n",
       "    </tr>\n",
       "    <tr>\n",
       "      <th>1</th>\n",
       "      <td>Запустить собственную службу доставки, что сократит срок доставки заказов</td>\n",
       "      <td>2</td>\n",
       "      <td>5</td>\n",
       "      <td>4</td>\n",
       "      <td>10</td>\n",
       "    </tr>\n",
       "    <tr>\n",
       "      <th>2</th>\n",
       "      <td>Добавить блоки рекомендаций товаров на сайт интернет магазина, чтобы повысить конверсию и средний чек заказа</td>\n",
       "      <td>8</td>\n",
       "      <td>3</td>\n",
       "      <td>7</td>\n",
       "      <td>3</td>\n",
       "    </tr>\n",
       "    <tr>\n",
       "      <th>3</th>\n",
       "      <td>Изменить структура категорий, что увеличит конверсию, т.к. пользователи быстрее найдут нужный товар</td>\n",
       "      <td>8</td>\n",
       "      <td>3</td>\n",
       "      <td>3</td>\n",
       "      <td>8</td>\n",
       "    </tr>\n",
       "    <tr>\n",
       "      <th>4</th>\n",
       "      <td>Изменить цвет фона главной страницы, чтобы увеличить вовлеченность пользователей</td>\n",
       "      <td>3</td>\n",
       "      <td>1</td>\n",
       "      <td>1</td>\n",
       "      <td>1</td>\n",
       "    </tr>\n",
       "    <tr>\n",
       "      <th>5</th>\n",
       "      <td>Добавить страницу отзывов клиентов о магазине, что позволит увеличить количество заказов</td>\n",
       "      <td>3</td>\n",
       "      <td>2</td>\n",
       "      <td>2</td>\n",
       "      <td>3</td>\n",
       "    </tr>\n",
       "    <tr>\n",
       "      <th>6</th>\n",
       "      <td>Показать на главной странице баннеры с актуальными акциями и распродажами, чтобы увеличить конверсию</td>\n",
       "      <td>5</td>\n",
       "      <td>3</td>\n",
       "      <td>8</td>\n",
       "      <td>3</td>\n",
       "    </tr>\n",
       "    <tr>\n",
       "      <th>7</th>\n",
       "      <td>Добавить форму подписки на все основные страницы, чтобы собрать базу клиентов для email-рассылок</td>\n",
       "      <td>10</td>\n",
       "      <td>7</td>\n",
       "      <td>8</td>\n",
       "      <td>5</td>\n",
       "    </tr>\n",
       "    <tr>\n",
       "      <th>8</th>\n",
       "      <td>Запустить акцию, дающую скидку на товар в день рождения</td>\n",
       "      <td>1</td>\n",
       "      <td>9</td>\n",
       "      <td>9</td>\n",
       "      <td>5</td>\n",
       "    </tr>\n",
       "  </tbody>\n",
       "</table>\n",
       "</div>"
      ],
      "text/plain": [
       "                                                                                                     Hypothesis  \\\n",
       "0            Добавить два новых канала привлечения трафика, что позволит привлекать на 30% больше пользователей   \n",
       "1                                     Запустить собственную службу доставки, что сократит срок доставки заказов   \n",
       "2  Добавить блоки рекомендаций товаров на сайт интернет магазина, чтобы повысить конверсию и средний чек заказа   \n",
       "3           Изменить структура категорий, что увеличит конверсию, т.к. пользователи быстрее найдут нужный товар   \n",
       "4                              Изменить цвет фона главной страницы, чтобы увеличить вовлеченность пользователей   \n",
       "5                      Добавить страницу отзывов клиентов о магазине, что позволит увеличить количество заказов   \n",
       "6          Показать на главной странице баннеры с актуальными акциями и распродажами, чтобы увеличить конверсию   \n",
       "7              Добавить форму подписки на все основные страницы, чтобы собрать базу клиентов для email-рассылок   \n",
       "8                                                       Запустить акцию, дающую скидку на товар в день рождения   \n",
       "\n",
       "   Reach  Impact  Confidence  Efforts  \n",
       "0      3      10           8        6  \n",
       "1      2       5           4       10  \n",
       "2      8       3           7        3  \n",
       "3      8       3           3        8  \n",
       "4      3       1           1        1  \n",
       "5      3       2           2        3  \n",
       "6      5       3           8        3  \n",
       "7     10       7           8        5  \n",
       "8      1       9           9        5  "
      ]
     },
     "metadata": {},
     "output_type": "display_data"
    }
   ],
   "source": [
    "data = pd.read_csv('/datasets/hypothesis.csv')\n",
    "pd.set_option('display.max_colwidth', None)\n",
    "display(data)"
   ]
  },
  {
   "cell_type": "markdown",
   "metadata": {},
   "source": [
    "<div class=\"alert alert-block alert-success\">\n",
    "\n",
    "**Комментарий ревьювера (все отлично)**\n",
    "    \n",
    "Молодец, что изменяешь параметры отображения таблиц для вывода всей информации👍\n",
    "</div>"
   ]
  },
  {
   "cell_type": "markdown",
   "metadata": {},
   "source": [
    "#### Применение фреймворка ICE"
   ]
  },
  {
   "cell_type": "code",
   "execution_count": 3,
   "metadata": {
    "scrolled": true
   },
   "outputs": [
    {
     "data": {
      "text/html": [
       "<div>\n",
       "<style scoped>\n",
       "    .dataframe tbody tr th:only-of-type {\n",
       "        vertical-align: middle;\n",
       "    }\n",
       "\n",
       "    .dataframe tbody tr th {\n",
       "        vertical-align: top;\n",
       "    }\n",
       "\n",
       "    .dataframe thead th {\n",
       "        text-align: right;\n",
       "    }\n",
       "</style>\n",
       "<table border=\"1\" class=\"dataframe\">\n",
       "  <thead>\n",
       "    <tr style=\"text-align: right;\">\n",
       "      <th></th>\n",
       "      <th>Hypothesis</th>\n",
       "      <th>ICE</th>\n",
       "    </tr>\n",
       "  </thead>\n",
       "  <tbody>\n",
       "    <tr>\n",
       "      <th>8</th>\n",
       "      <td>Запустить акцию, дающую скидку на товар в день рождения</td>\n",
       "      <td>16.20</td>\n",
       "    </tr>\n",
       "    <tr>\n",
       "      <th>0</th>\n",
       "      <td>Добавить два новых канала привлечения трафика, что позволит привлекать на 30% больше пользователей</td>\n",
       "      <td>13.33</td>\n",
       "    </tr>\n",
       "    <tr>\n",
       "      <th>7</th>\n",
       "      <td>Добавить форму подписки на все основные страницы, чтобы собрать базу клиентов для email-рассылок</td>\n",
       "      <td>11.20</td>\n",
       "    </tr>\n",
       "    <tr>\n",
       "      <th>6</th>\n",
       "      <td>Показать на главной странице баннеры с актуальными акциями и распродажами, чтобы увеличить конверсию</td>\n",
       "      <td>8.00</td>\n",
       "    </tr>\n",
       "    <tr>\n",
       "      <th>2</th>\n",
       "      <td>Добавить блоки рекомендаций товаров на сайт интернет магазина, чтобы повысить конверсию и средний чек заказа</td>\n",
       "      <td>7.00</td>\n",
       "    </tr>\n",
       "    <tr>\n",
       "      <th>1</th>\n",
       "      <td>Запустить собственную службу доставки, что сократит срок доставки заказов</td>\n",
       "      <td>2.00</td>\n",
       "    </tr>\n",
       "    <tr>\n",
       "      <th>5</th>\n",
       "      <td>Добавить страницу отзывов клиентов о магазине, что позволит увеличить количество заказов</td>\n",
       "      <td>1.33</td>\n",
       "    </tr>\n",
       "    <tr>\n",
       "      <th>3</th>\n",
       "      <td>Изменить структура категорий, что увеличит конверсию, т.к. пользователи быстрее найдут нужный товар</td>\n",
       "      <td>1.12</td>\n",
       "    </tr>\n",
       "    <tr>\n",
       "      <th>4</th>\n",
       "      <td>Изменить цвет фона главной страницы, чтобы увеличить вовлеченность пользователей</td>\n",
       "      <td>1.00</td>\n",
       "    </tr>\n",
       "  </tbody>\n",
       "</table>\n",
       "</div>"
      ],
      "text/plain": [
       "                                                                                                     Hypothesis  \\\n",
       "8                                                       Запустить акцию, дающую скидку на товар в день рождения   \n",
       "0            Добавить два новых канала привлечения трафика, что позволит привлекать на 30% больше пользователей   \n",
       "7              Добавить форму подписки на все основные страницы, чтобы собрать базу клиентов для email-рассылок   \n",
       "6          Показать на главной странице баннеры с актуальными акциями и распродажами, чтобы увеличить конверсию   \n",
       "2  Добавить блоки рекомендаций товаров на сайт интернет магазина, чтобы повысить конверсию и средний чек заказа   \n",
       "1                                     Запустить собственную службу доставки, что сократит срок доставки заказов   \n",
       "5                      Добавить страницу отзывов клиентов о магазине, что позволит увеличить количество заказов   \n",
       "3           Изменить структура категорий, что увеличит конверсию, т.к. пользователи быстрее найдут нужный товар   \n",
       "4                              Изменить цвет фона главной страницы, чтобы увеличить вовлеченность пользователей   \n",
       "\n",
       "     ICE  \n",
       "8  16.20  \n",
       "0  13.33  \n",
       "7  11.20  \n",
       "6   8.00  \n",
       "2   7.00  \n",
       "1   2.00  \n",
       "5   1.33  \n",
       "3   1.12  \n",
       "4   1.00  "
      ]
     },
     "metadata": {},
     "output_type": "display_data"
    }
   ],
   "source": [
    "data['ICE'] = (data['Impact']*data['Confidence']/data['Efforts']).round(2)\n",
    "data_ICE = data[['Hypothesis','ICE']]\n",
    "data_ICE = data_ICE.sort_values('ICE', ascending=False)\n",
    "display(data_ICE)"
   ]
  },
  {
   "cell_type": "markdown",
   "metadata": {},
   "source": [
    "Наиболее приоритетные гипотезы 8,0,7."
   ]
  },
  {
   "cell_type": "markdown",
   "metadata": {},
   "source": [
    "#### Применение фреймворка RICE"
   ]
  },
  {
   "cell_type": "code",
   "execution_count": 4,
   "metadata": {
    "scrolled": true
   },
   "outputs": [
    {
     "data": {
      "text/html": [
       "<div>\n",
       "<style scoped>\n",
       "    .dataframe tbody tr th:only-of-type {\n",
       "        vertical-align: middle;\n",
       "    }\n",
       "\n",
       "    .dataframe tbody tr th {\n",
       "        vertical-align: top;\n",
       "    }\n",
       "\n",
       "    .dataframe thead th {\n",
       "        text-align: right;\n",
       "    }\n",
       "</style>\n",
       "<table border=\"1\" class=\"dataframe\">\n",
       "  <thead>\n",
       "    <tr style=\"text-align: right;\">\n",
       "      <th></th>\n",
       "      <th>Hypothesis</th>\n",
       "      <th>RICE</th>\n",
       "    </tr>\n",
       "  </thead>\n",
       "  <tbody>\n",
       "    <tr>\n",
       "      <th>7</th>\n",
       "      <td>Добавить форму подписки на все основные страницы, чтобы собрать базу клиентов для email-рассылок</td>\n",
       "      <td>112.0</td>\n",
       "    </tr>\n",
       "    <tr>\n",
       "      <th>2</th>\n",
       "      <td>Добавить блоки рекомендаций товаров на сайт интернет магазина, чтобы повысить конверсию и средний чек заказа</td>\n",
       "      <td>56.0</td>\n",
       "    </tr>\n",
       "    <tr>\n",
       "      <th>0</th>\n",
       "      <td>Добавить два новых канала привлечения трафика, что позволит привлекать на 30% больше пользователей</td>\n",
       "      <td>40.0</td>\n",
       "    </tr>\n",
       "    <tr>\n",
       "      <th>6</th>\n",
       "      <td>Показать на главной странице баннеры с актуальными акциями и распродажами, чтобы увеличить конверсию</td>\n",
       "      <td>40.0</td>\n",
       "    </tr>\n",
       "    <tr>\n",
       "      <th>8</th>\n",
       "      <td>Запустить акцию, дающую скидку на товар в день рождения</td>\n",
       "      <td>16.2</td>\n",
       "    </tr>\n",
       "    <tr>\n",
       "      <th>3</th>\n",
       "      <td>Изменить структура категорий, что увеличит конверсию, т.к. пользователи быстрее найдут нужный товар</td>\n",
       "      <td>9.0</td>\n",
       "    </tr>\n",
       "    <tr>\n",
       "      <th>1</th>\n",
       "      <td>Запустить собственную службу доставки, что сократит срок доставки заказов</td>\n",
       "      <td>4.0</td>\n",
       "    </tr>\n",
       "    <tr>\n",
       "      <th>5</th>\n",
       "      <td>Добавить страницу отзывов клиентов о магазине, что позволит увеличить количество заказов</td>\n",
       "      <td>4.0</td>\n",
       "    </tr>\n",
       "    <tr>\n",
       "      <th>4</th>\n",
       "      <td>Изменить цвет фона главной страницы, чтобы увеличить вовлеченность пользователей</td>\n",
       "      <td>3.0</td>\n",
       "    </tr>\n",
       "  </tbody>\n",
       "</table>\n",
       "</div>"
      ],
      "text/plain": [
       "                                                                                                     Hypothesis  \\\n",
       "7              Добавить форму подписки на все основные страницы, чтобы собрать базу клиентов для email-рассылок   \n",
       "2  Добавить блоки рекомендаций товаров на сайт интернет магазина, чтобы повысить конверсию и средний чек заказа   \n",
       "0            Добавить два новых канала привлечения трафика, что позволит привлекать на 30% больше пользователей   \n",
       "6          Показать на главной странице баннеры с актуальными акциями и распродажами, чтобы увеличить конверсию   \n",
       "8                                                       Запустить акцию, дающую скидку на товар в день рождения   \n",
       "3           Изменить структура категорий, что увеличит конверсию, т.к. пользователи быстрее найдут нужный товар   \n",
       "1                                     Запустить собственную службу доставки, что сократит срок доставки заказов   \n",
       "5                      Добавить страницу отзывов клиентов о магазине, что позволит увеличить количество заказов   \n",
       "4                              Изменить цвет фона главной страницы, чтобы увеличить вовлеченность пользователей   \n",
       "\n",
       "    RICE  \n",
       "7  112.0  \n",
       "2   56.0  \n",
       "0   40.0  \n",
       "6   40.0  \n",
       "8   16.2  \n",
       "3    9.0  \n",
       "1    4.0  \n",
       "5    4.0  \n",
       "4    3.0  "
      ]
     },
     "metadata": {},
     "output_type": "display_data"
    }
   ],
   "source": [
    "data['RICE'] = data['Reach']*data['Impact']*data['Confidence']/data['Efforts']\n",
    "data_RICE = data[['Hypothesis','RICE']]\n",
    "data_RICE = data_RICE.sort_values('RICE', ascending=False)\n",
    "display(data_RICE)"
   ]
  },
  {
   "cell_type": "markdown",
   "metadata": {},
   "source": [
    "В этом случае, наиболее приоритетными гипотезами являются 7,2,0."
   ]
  },
  {
   "cell_type": "markdown",
   "metadata": {},
   "source": [
    "#### Пояснение результатов\n",
    "Приоритизация гипотез при применении RICE вместо ICE изменилась ввиду того, что при применении фреймворка RICE учитывается компонент Reach, который оценивает скольких пользователей затрагивает вносимое изменение. За счет учета данного компонента, гипотеза \"Добавить форму подписки на все основные страницы, чтобы собрать базу клиентов для email-рассылок\" набрала наибольший балл при приоритизации фреймворком RICE."
   ]
  },
  {
   "cell_type": "code",
   "execution_count": 5,
   "metadata": {},
   "outputs": [
    {
     "data": {
      "image/png": "[encoded data removed]",
      "text/plain": [
       "<Figure size 1440x216 with 2 Axes>"
      ]
     },
     "metadata": {},
     "output_type": "display_data"
    }
   ],
   "source": [
    "hypotheses_ranged = data.drop(['Hypothesis','Reach', 'Impact', 'Confidence', 'Efforts'], axis=1)\n",
    "sns.set(style='white')\n",
    "plt.figure(figsize=(20, 3))\n",
    "plt.title('Приоритизация гипотез', fontsize =16)\n",
    "sns.heatmap(hypotheses_ranged.T, annot=True, fmt='g', linewidths=1, linecolor='grey');"
   ]
  },
  {
   "cell_type": "markdown",
   "metadata": {},
   "source": [
    "<div class=\"alert alert-block alert-success\">\n",
    "\n",
    "**Комментарий ревьювера (все отлично)**\n",
    "    \n",
    "Все верно, охват меняет приоритезацию. Отличие фреймворков определено.\n",
    "</div>"
   ]
  },
  {
   "cell_type": "markdown",
   "metadata": {},
   "source": [
    "### Анализ А/В-теста"
   ]
  },
  {
   "cell_type": "markdown",
   "metadata": {},
   "source": [
    "#### Ознакомление с данными"
   ]
  },
  {
   "cell_type": "code",
   "execution_count": 6,
   "metadata": {
    "scrolled": false
   },
   "outputs": [
    {
     "data": {
      "text/html": [
       "<div>\n",
       "<style scoped>\n",
       "    .dataframe tbody tr th:only-of-type {\n",
       "        vertical-align: middle;\n",
       "    }\n",
       "\n",
       "    .dataframe tbody tr th {\n",
       "        vertical-align: top;\n",
       "    }\n",
       "\n",
       "    .dataframe thead th {\n",
       "        text-align: right;\n",
       "    }\n",
       "</style>\n",
       "<table border=\"1\" class=\"dataframe\">\n",
       "  <thead>\n",
       "    <tr style=\"text-align: right;\">\n",
       "      <th></th>\n",
       "      <th>transactionId</th>\n",
       "      <th>visitorId</th>\n",
       "      <th>date</th>\n",
       "      <th>revenue</th>\n",
       "      <th>group</th>\n",
       "    </tr>\n",
       "  </thead>\n",
       "  <tbody>\n",
       "    <tr>\n",
       "      <th>0</th>\n",
       "      <td>3667963787</td>\n",
       "      <td>3312258926</td>\n",
       "      <td>2019-08-15</td>\n",
       "      <td>1650</td>\n",
       "      <td>B</td>\n",
       "    </tr>\n",
       "    <tr>\n",
       "      <th>1</th>\n",
       "      <td>2804400009</td>\n",
       "      <td>3642806036</td>\n",
       "      <td>2019-08-15</td>\n",
       "      <td>730</td>\n",
       "      <td>B</td>\n",
       "    </tr>\n",
       "    <tr>\n",
       "      <th>2</th>\n",
       "      <td>2961555356</td>\n",
       "      <td>4069496402</td>\n",
       "      <td>2019-08-15</td>\n",
       "      <td>400</td>\n",
       "      <td>A</td>\n",
       "    </tr>\n",
       "    <tr>\n",
       "      <th>3</th>\n",
       "      <td>3797467345</td>\n",
       "      <td>1196621759</td>\n",
       "      <td>2019-08-15</td>\n",
       "      <td>9759</td>\n",
       "      <td>B</td>\n",
       "    </tr>\n",
       "    <tr>\n",
       "      <th>4</th>\n",
       "      <td>2282983706</td>\n",
       "      <td>2322279887</td>\n",
       "      <td>2019-08-15</td>\n",
       "      <td>2308</td>\n",
       "      <td>B</td>\n",
       "    </tr>\n",
       "    <tr>\n",
       "      <th>...</th>\n",
       "      <td>...</td>\n",
       "      <td>...</td>\n",
       "      <td>...</td>\n",
       "      <td>...</td>\n",
       "      <td>...</td>\n",
       "    </tr>\n",
       "    <tr>\n",
       "      <th>1192</th>\n",
       "      <td>2662137336</td>\n",
       "      <td>3733762160</td>\n",
       "      <td>2019-08-14</td>\n",
       "      <td>6490</td>\n",
       "      <td>B</td>\n",
       "    </tr>\n",
       "    <tr>\n",
       "      <th>1193</th>\n",
       "      <td>2203539145</td>\n",
       "      <td>370388673</td>\n",
       "      <td>2019-08-14</td>\n",
       "      <td>3190</td>\n",
       "      <td>A</td>\n",
       "    </tr>\n",
       "    <tr>\n",
       "      <th>1194</th>\n",
       "      <td>1807773912</td>\n",
       "      <td>573423106</td>\n",
       "      <td>2019-08-14</td>\n",
       "      <td>10550</td>\n",
       "      <td>A</td>\n",
       "    </tr>\n",
       "    <tr>\n",
       "      <th>1195</th>\n",
       "      <td>1947021204</td>\n",
       "      <td>1614305549</td>\n",
       "      <td>2019-08-14</td>\n",
       "      <td>100</td>\n",
       "      <td>A</td>\n",
       "    </tr>\n",
       "    <tr>\n",
       "      <th>1196</th>\n",
       "      <td>3936777065</td>\n",
       "      <td>2108080724</td>\n",
       "      <td>2019-08-15</td>\n",
       "      <td>202740</td>\n",
       "      <td>B</td>\n",
       "    </tr>\n",
       "  </tbody>\n",
       "</table>\n",
       "<p>1197 rows × 5 columns</p>\n",
       "</div>"
      ],
      "text/plain": [
       "      transactionId   visitorId        date  revenue group\n",
       "0        3667963787  3312258926  2019-08-15     1650     B\n",
       "1        2804400009  3642806036  2019-08-15      730     B\n",
       "2        2961555356  4069496402  2019-08-15      400     A\n",
       "3        3797467345  1196621759  2019-08-15     9759     B\n",
       "4        2282983706  2322279887  2019-08-15     2308     B\n",
       "...             ...         ...         ...      ...   ...\n",
       "1192     2662137336  3733762160  2019-08-14     6490     B\n",
       "1193     2203539145   370388673  2019-08-14     3190     A\n",
       "1194     1807773912   573423106  2019-08-14    10550     A\n",
       "1195     1947021204  1614305549  2019-08-14      100     A\n",
       "1196     3936777065  2108080724  2019-08-15   202740     B\n",
       "\n",
       "[1197 rows x 5 columns]"
      ]
     },
     "metadata": {},
     "output_type": "display_data"
    },
    {
     "name": "stdout",
     "output_type": "stream",
     "text": [
      "<class 'pandas.core.frame.DataFrame'>\n",
      "RangeIndex: 1197 entries, 0 to 1196\n",
      "Data columns (total 5 columns):\n",
      " #   Column         Non-Null Count  Dtype \n",
      "---  ------         --------------  ----- \n",
      " 0   transactionId  1197 non-null   int64 \n",
      " 1   visitorId      1197 non-null   int64 \n",
      " 2   date           1197 non-null   object\n",
      " 3   revenue        1197 non-null   int64 \n",
      " 4   group          1197 non-null   object\n",
      "dtypes: int64(3), object(2)\n",
      "memory usage: 46.9+ KB\n"
     ]
    }
   ],
   "source": [
    "orders = pd.read_csv('/datasets/orders.csv')\n",
    "display(orders)\n",
    "orders.info()"
   ]
  },
  {
   "cell_type": "code",
   "execution_count": 7,
   "metadata": {},
   "outputs": [],
   "source": [
    "#приводим формат столбца orders['date'] к формату datetime64\n",
    "orders['date'] = pd.to_datetime(orders['date'], format='%Y-%m-%d')"
   ]
  },
  {
   "cell_type": "code",
   "execution_count": 8,
   "metadata": {},
   "outputs": [
    {
     "name": "stdout",
     "output_type": "stream",
     "text": [
      "Количество дубликатов 0\n"
     ]
    }
   ],
   "source": [
    "#проверяем базу данных на явные дубликаты\n",
    "print('Количество дубликатов', orders.duplicated().sum())"
   ]
  },
  {
   "cell_type": "code",
   "execution_count": 9,
   "metadata": {},
   "outputs": [
    {
     "name": "stdout",
     "output_type": "stream",
     "text": [
      "transactionId    0\n",
      "visitorId        0\n",
      "date             0\n",
      "revenue          0\n",
      "group            0\n",
      "dtype: int64\n"
     ]
    }
   ],
   "source": [
    "#проверим таблицу на пропуски в данных\n",
    "print(orders.isna().sum())"
   ]
  },
  {
   "cell_type": "code",
   "execution_count": 10,
   "metadata": {
    "scrolled": false
   },
   "outputs": [
    {
     "data": {
      "text/plain": [
       "58"
      ]
     },
     "execution_count": 10,
     "metadata": {},
     "output_type": "execute_result"
    }
   ],
   "source": [
    "#определяем пользователей, которые вошли в обе группы и их количество\n",
    "visitors_groups = orders.groupby('visitorId', as_index=False).agg({'group' : pd.Series.nunique})\n",
    "visitors_duplicated = visitors_groups.query('group>1')\n",
    "visitors_duplicated['visitorId'].count()"
   ]
  },
  {
   "cell_type": "markdown",
   "metadata": {},
   "source": [
    "Исходя из полученных данных, есть 58 посетителей, которые входят в обе группы."
   ]
  },
  {
   "cell_type": "code",
   "execution_count": 11,
   "metadata": {
    "scrolled": false
   },
   "outputs": [
    {
     "data": {
      "text/html": [
       "<div>\n",
       "<style scoped>\n",
       "    .dataframe tbody tr th:only-of-type {\n",
       "        vertical-align: middle;\n",
       "    }\n",
       "\n",
       "    .dataframe tbody tr th {\n",
       "        vertical-align: top;\n",
       "    }\n",
       "\n",
       "    .dataframe thead th {\n",
       "        text-align: right;\n",
       "    }\n",
       "</style>\n",
       "<table border=\"1\" class=\"dataframe\">\n",
       "  <thead>\n",
       "    <tr style=\"text-align: right;\">\n",
       "      <th></th>\n",
       "      <th>transactionId</th>\n",
       "      <th>visitorId</th>\n",
       "      <th>date</th>\n",
       "      <th>revenue</th>\n",
       "      <th>group</th>\n",
       "    </tr>\n",
       "  </thead>\n",
       "  <tbody>\n",
       "    <tr>\n",
       "      <th>0</th>\n",
       "      <td>3667963787</td>\n",
       "      <td>3312258926</td>\n",
       "      <td>2019-08-15</td>\n",
       "      <td>1650</td>\n",
       "      <td>B</td>\n",
       "    </tr>\n",
       "    <tr>\n",
       "      <th>1</th>\n",
       "      <td>2804400009</td>\n",
       "      <td>3642806036</td>\n",
       "      <td>2019-08-15</td>\n",
       "      <td>730</td>\n",
       "      <td>B</td>\n",
       "    </tr>\n",
       "    <tr>\n",
       "      <th>3</th>\n",
       "      <td>3797467345</td>\n",
       "      <td>1196621759</td>\n",
       "      <td>2019-08-15</td>\n",
       "      <td>9759</td>\n",
       "      <td>B</td>\n",
       "    </tr>\n",
       "    <tr>\n",
       "      <th>4</th>\n",
       "      <td>2282983706</td>\n",
       "      <td>2322279887</td>\n",
       "      <td>2019-08-15</td>\n",
       "      <td>2308</td>\n",
       "      <td>B</td>\n",
       "    </tr>\n",
       "    <tr>\n",
       "      <th>5</th>\n",
       "      <td>182168103</td>\n",
       "      <td>935554773</td>\n",
       "      <td>2019-08-15</td>\n",
       "      <td>2210</td>\n",
       "      <td>B</td>\n",
       "    </tr>\n",
       "    <tr>\n",
       "      <th>...</th>\n",
       "      <td>...</td>\n",
       "      <td>...</td>\n",
       "      <td>...</td>\n",
       "      <td>...</td>\n",
       "      <td>...</td>\n",
       "    </tr>\n",
       "    <tr>\n",
       "      <th>1191</th>\n",
       "      <td>3592955527</td>\n",
       "      <td>608641596</td>\n",
       "      <td>2019-08-14</td>\n",
       "      <td>16490</td>\n",
       "      <td>B</td>\n",
       "    </tr>\n",
       "    <tr>\n",
       "      <th>1192</th>\n",
       "      <td>2662137336</td>\n",
       "      <td>3733762160</td>\n",
       "      <td>2019-08-14</td>\n",
       "      <td>6490</td>\n",
       "      <td>B</td>\n",
       "    </tr>\n",
       "    <tr>\n",
       "      <th>1193</th>\n",
       "      <td>2203539145</td>\n",
       "      <td>370388673</td>\n",
       "      <td>2019-08-14</td>\n",
       "      <td>3190</td>\n",
       "      <td>A</td>\n",
       "    </tr>\n",
       "    <tr>\n",
       "      <th>1194</th>\n",
       "      <td>1807773912</td>\n",
       "      <td>573423106</td>\n",
       "      <td>2019-08-14</td>\n",
       "      <td>10550</td>\n",
       "      <td>A</td>\n",
       "    </tr>\n",
       "    <tr>\n",
       "      <th>1196</th>\n",
       "      <td>3936777065</td>\n",
       "      <td>2108080724</td>\n",
       "      <td>2019-08-15</td>\n",
       "      <td>202740</td>\n",
       "      <td>B</td>\n",
       "    </tr>\n",
       "  </tbody>\n",
       "</table>\n",
       "<p>1016 rows × 5 columns</p>\n",
       "</div>"
      ],
      "text/plain": [
       "      transactionId   visitorId       date  revenue group\n",
       "0        3667963787  3312258926 2019-08-15     1650     B\n",
       "1        2804400009  3642806036 2019-08-15      730     B\n",
       "3        3797467345  1196621759 2019-08-15     9759     B\n",
       "4        2282983706  2322279887 2019-08-15     2308     B\n",
       "5         182168103   935554773 2019-08-15     2210     B\n",
       "...             ...         ...        ...      ...   ...\n",
       "1191     3592955527   608641596 2019-08-14    16490     B\n",
       "1192     2662137336  3733762160 2019-08-14     6490     B\n",
       "1193     2203539145   370388673 2019-08-14     3190     A\n",
       "1194     1807773912   573423106 2019-08-14    10550     A\n",
       "1196     3936777065  2108080724 2019-08-15   202740     B\n",
       "\n",
       "[1016 rows x 5 columns]"
      ]
     },
     "metadata": {},
     "output_type": "display_data"
    }
   ],
   "source": [
    "#исключаем пользователей, попавших в обе группы\n",
    "orders_filtered = orders.query('visitorId not in @visitors_duplicated.visitorId')\n",
    "display(orders_filtered)\n",
    "orders = orders_filtered"
   ]
  },
  {
   "cell_type": "code",
   "execution_count": 12,
   "metadata": {
    "scrolled": false
   },
   "outputs": [
    {
     "data": {
      "text/html": [
       "<div>\n",
       "<style scoped>\n",
       "    .dataframe tbody tr th:only-of-type {\n",
       "        vertical-align: middle;\n",
       "    }\n",
       "\n",
       "    .dataframe tbody tr th {\n",
       "        vertical-align: top;\n",
       "    }\n",
       "\n",
       "    .dataframe thead th {\n",
       "        text-align: right;\n",
       "    }\n",
       "</style>\n",
       "<table border=\"1\" class=\"dataframe\">\n",
       "  <thead>\n",
       "    <tr style=\"text-align: right;\">\n",
       "      <th></th>\n",
       "      <th>date</th>\n",
       "      <th>group</th>\n",
       "      <th>visitors</th>\n",
       "    </tr>\n",
       "  </thead>\n",
       "  <tbody>\n",
       "    <tr>\n",
       "      <th>0</th>\n",
       "      <td>2019-08-01</td>\n",
       "      <td>A</td>\n",
       "      <td>719</td>\n",
       "    </tr>\n",
       "    <tr>\n",
       "      <th>1</th>\n",
       "      <td>2019-08-02</td>\n",
       "      <td>A</td>\n",
       "      <td>619</td>\n",
       "    </tr>\n",
       "    <tr>\n",
       "      <th>2</th>\n",
       "      <td>2019-08-03</td>\n",
       "      <td>A</td>\n",
       "      <td>507</td>\n",
       "    </tr>\n",
       "    <tr>\n",
       "      <th>3</th>\n",
       "      <td>2019-08-04</td>\n",
       "      <td>A</td>\n",
       "      <td>717</td>\n",
       "    </tr>\n",
       "    <tr>\n",
       "      <th>4</th>\n",
       "      <td>2019-08-05</td>\n",
       "      <td>A</td>\n",
       "      <td>756</td>\n",
       "    </tr>\n",
       "    <tr>\n",
       "      <th>...</th>\n",
       "      <td>...</td>\n",
       "      <td>...</td>\n",
       "      <td>...</td>\n",
       "    </tr>\n",
       "    <tr>\n",
       "      <th>57</th>\n",
       "      <td>2019-08-27</td>\n",
       "      <td>B</td>\n",
       "      <td>720</td>\n",
       "    </tr>\n",
       "    <tr>\n",
       "      <th>58</th>\n",
       "      <td>2019-08-28</td>\n",
       "      <td>B</td>\n",
       "      <td>654</td>\n",
       "    </tr>\n",
       "    <tr>\n",
       "      <th>59</th>\n",
       "      <td>2019-08-29</td>\n",
       "      <td>B</td>\n",
       "      <td>531</td>\n",
       "    </tr>\n",
       "    <tr>\n",
       "      <th>60</th>\n",
       "      <td>2019-08-30</td>\n",
       "      <td>B</td>\n",
       "      <td>490</td>\n",
       "    </tr>\n",
       "    <tr>\n",
       "      <th>61</th>\n",
       "      <td>2019-08-31</td>\n",
       "      <td>B</td>\n",
       "      <td>718</td>\n",
       "    </tr>\n",
       "  </tbody>\n",
       "</table>\n",
       "<p>62 rows × 3 columns</p>\n",
       "</div>"
      ],
      "text/plain": [
       "          date group  visitors\n",
       "0   2019-08-01     A       719\n",
       "1   2019-08-02     A       619\n",
       "2   2019-08-03     A       507\n",
       "3   2019-08-04     A       717\n",
       "4   2019-08-05     A       756\n",
       "..         ...   ...       ...\n",
       "57  2019-08-27     B       720\n",
       "58  2019-08-28     B       654\n",
       "59  2019-08-29     B       531\n",
       "60  2019-08-30     B       490\n",
       "61  2019-08-31     B       718\n",
       "\n",
       "[62 rows x 3 columns]"
      ]
     },
     "metadata": {},
     "output_type": "display_data"
    },
    {
     "name": "stdout",
     "output_type": "stream",
     "text": [
      "<class 'pandas.core.frame.DataFrame'>\n",
      "RangeIndex: 62 entries, 0 to 61\n",
      "Data columns (total 3 columns):\n",
      " #   Column    Non-Null Count  Dtype \n",
      "---  ------    --------------  ----- \n",
      " 0   date      62 non-null     object\n",
      " 1   group     62 non-null     object\n",
      " 2   visitors  62 non-null     int64 \n",
      "dtypes: int64(1), object(2)\n",
      "memory usage: 1.6+ KB\n"
     ]
    }
   ],
   "source": [
    "#знакомимся с таблицей и типом данных\n",
    "visitors = pd.read_csv('/datasets/visitors.csv')\n",
    "display(visitors)\n",
    "visitors.info()"
   ]
  },
  {
   "cell_type": "code",
   "execution_count": 13,
   "metadata": {},
   "outputs": [],
   "source": [
    "#приводим формат столбца visitors['date'] к формату datetime64\n",
    "visitors['date'] = pd.to_datetime(visitors['date'], format='%Y-%m-%d')"
   ]
  },
  {
   "cell_type": "code",
   "execution_count": 14,
   "metadata": {},
   "outputs": [
    {
     "name": "stdout",
     "output_type": "stream",
     "text": [
      "Количество дубликатов 0\n"
     ]
    }
   ],
   "source": [
    "#проверяем базу данных на явные дубликаты\n",
    "print('Количество дубликатов', visitors.duplicated().sum())"
   ]
  },
  {
   "cell_type": "code",
   "execution_count": 15,
   "metadata": {},
   "outputs": [
    {
     "name": "stdout",
     "output_type": "stream",
     "text": [
      "date        0\n",
      "group       0\n",
      "visitors    0\n",
      "dtype: int64\n"
     ]
    }
   ],
   "source": [
    "#проверим таблицу на пропуски в данных\n",
    "print(visitors.isna().sum())"
   ]
  },
  {
   "cell_type": "markdown",
   "metadata": {},
   "source": [
    "<div class=\"alert alert-block alert-danger\">\n",
    "    \n",
    "**Комментарий ревьювера (недочет, который нужно доработать)**\n",
    "    \n",
    "1) Требуется проверить таблицы на тип данных, дубликаты и пропуски. При необходимости произвести предобработку.\n",
    "    \n",
    "2) Проверь, есть ли в таблице orders пользователи, оказавшиеся одновременно в двух группах. Дело в том, что при АВ тестировании могут быть ошибки при логировании и распределении пользователей по группам.\n",
    "</div>"
   ]
  },
  {
   "cell_type": "markdown",
   "metadata": {},
   "source": [
    "<div class=\"alert alert-block alert-info\">\n",
    "<b>КОММЕНТАРИЙ ОТ УЧЕНИКА: </b>\n",
    "    \n",
    "- Проверил таблицы на тип данных, дубликаты и пропуски. Провел преобработку столбцов с датами.\n",
    "- Проверил таблицу orders на наличие пользователей, оказавшихся одновременно в двух группах. Исключил подобную информацию из таблицы.\n",
    "</div>"
   ]
  },
  {
   "cell_type": "markdown",
   "metadata": {},
   "source": [
    "<div class=\"alert alert-block alert-danger\">\n",
    "    \n",
    "**Комментарий ревьювера v2 (недочет, который нужно доработать)**\n",
    "    \n",
    "Проверка выполнена некорректно. Пересечения это не дубликаты. Пользователи могли попасть в разные группы, дата и выручка здесь никакой роли не играют. \n",
    "    \n",
    "Для корректной проверки нужно сгруппировать пользователей и посчитать количество уникальных групп, те у кого значение больше 1 – попали в обе группы.\n",
    "    \n",
    "**Проконтролируй выводы после исправления**\n",
    "</div>"
   ]
  },
  {
   "cell_type": "markdown",
   "metadata": {},
   "source": [
    "<div class=\"alert alert-block alert-info\">\n",
    "<b>КОММЕНТАРИЙ ОТ УЧЕНИКА: </b>\n",
    "    \n",
    "- Исключил пересечения, отфильтровал таблицу orders.\n",
    "</div>"
   ]
  },
  {
   "cell_type": "markdown",
   "metadata": {},
   "source": [
    "<div class=\"alert alert-block alert-warning\">\n",
    "\n",
    "**Комментарий ревьювера v3 (что можно улучшить)**\n",
    "    \n",
    "Допустимое решение удалить их, однако эти пользователи остались в таблице `visitors`, которую сложно предобработать от таких ошибок. \n",
    "</div>"
   ]
  },
  {
   "cell_type": "markdown",
   "metadata": {},
   "source": [
    "#### Построение графика кумулятивной выручки по группам"
   ]
  },
  {
   "cell_type": "code",
   "execution_count": 16,
   "metadata": {},
   "outputs": [
    {
     "data": {
      "text/html": [
       "<div>\n",
       "<style scoped>\n",
       "    .dataframe tbody tr th:only-of-type {\n",
       "        vertical-align: middle;\n",
       "    }\n",
       "\n",
       "    .dataframe tbody tr th {\n",
       "        vertical-align: top;\n",
       "    }\n",
       "\n",
       "    .dataframe thead th {\n",
       "        text-align: right;\n",
       "    }\n",
       "</style>\n",
       "<table border=\"1\" class=\"dataframe\">\n",
       "  <thead>\n",
       "    <tr style=\"text-align: right;\">\n",
       "      <th></th>\n",
       "      <th>date</th>\n",
       "      <th>group</th>\n",
       "      <th>transactionId</th>\n",
       "      <th>buyers</th>\n",
       "      <th>revenue</th>\n",
       "      <th>visitors</th>\n",
       "    </tr>\n",
       "  </thead>\n",
       "  <tbody>\n",
       "    <tr>\n",
       "      <th>0</th>\n",
       "      <td>2019-08-01</td>\n",
       "      <td>A</td>\n",
       "      <td>23</td>\n",
       "      <td>19</td>\n",
       "      <td>142779</td>\n",
       "      <td>719</td>\n",
       "    </tr>\n",
       "    <tr>\n",
       "      <th>1</th>\n",
       "      <td>2019-08-01</td>\n",
       "      <td>B</td>\n",
       "      <td>17</td>\n",
       "      <td>17</td>\n",
       "      <td>59758</td>\n",
       "      <td>713</td>\n",
       "    </tr>\n",
       "    <tr>\n",
       "      <th>2</th>\n",
       "      <td>2019-08-02</td>\n",
       "      <td>A</td>\n",
       "      <td>42</td>\n",
       "      <td>36</td>\n",
       "      <td>234381</td>\n",
       "      <td>1338</td>\n",
       "    </tr>\n",
       "    <tr>\n",
       "      <th>3</th>\n",
       "      <td>2019-08-02</td>\n",
       "      <td>B</td>\n",
       "      <td>40</td>\n",
       "      <td>39</td>\n",
       "      <td>221801</td>\n",
       "      <td>1294</td>\n",
       "    </tr>\n",
       "    <tr>\n",
       "      <th>4</th>\n",
       "      <td>2019-08-03</td>\n",
       "      <td>A</td>\n",
       "      <td>66</td>\n",
       "      <td>60</td>\n",
       "      <td>346854</td>\n",
       "      <td>1845</td>\n",
       "    </tr>\n",
       "  </tbody>\n",
       "</table>\n",
       "</div>"
      ],
      "text/plain": [
       "        date group  transactionId  buyers  revenue  visitors\n",
       "0 2019-08-01     A             23      19   142779       719\n",
       "1 2019-08-01     B             17      17    59758       713\n",
       "2 2019-08-02     A             42      36   234381      1338\n",
       "3 2019-08-02     B             40      39   221801      1294\n",
       "4 2019-08-03     A             66      60   346854      1845"
      ]
     },
     "metadata": {},
     "output_type": "display_data"
    }
   ],
   "source": [
    "#формируем таблицу для построения графика кумулятивной выручки\n",
    "datesGroups = orders[['date','group']].drop_duplicates()\n",
    "\n",
    "ordersAggregated = datesGroups.apply(lambda x: orders[np.logical_and(orders['date'] <= x['date'], orders['group'] == x['group'])]\\\n",
    ".agg({'date' : 'max', 'group' : 'max', 'transactionId' : 'nunique', 'visitorId' : 'nunique', 'revenue' : 'sum'}),\n",
    "axis=1).sort_values(by=['date','group'])\n",
    "\n",
    "visitorsAggregated = datesGroups.apply(lambda x: visitors[np.logical_and(visitors['date'] <= x['date'], \n",
    "visitors['group'] == x['group'])].agg({'date' : 'max', 'group' : 'max', 'visitors' : 'sum'}), axis=1).sort_values(by=['date','group'])\n",
    "\n",
    "cumulativeData = ordersAggregated.merge(visitorsAggregated, left_on=['date', 'group'], right_on=['date', 'group'])\n",
    "cumulativeData.columns = ['date', 'group', 'transactionId', 'buyers', 'revenue', 'visitors']\n",
    "\n",
    "display(cumulativeData.head(5))"
   ]
  },
  {
   "cell_type": "markdown",
   "metadata": {},
   "source": [
    "<div class=\"alert alert-block alert-success\">\n",
    "\n",
    "**Комментарий ревьювера (все отлично)**\n",
    "    \n",
    "Кумулятивные данные сформированы👍\n",
    "</div>"
   ]
  },
  {
   "cell_type": "code",
   "execution_count": 17,
   "metadata": {
    "scrolled": false
   },
   "outputs": [
    {
     "data": {
      "image/png": "[encoded data removed]",
      "text/plain": [
       "<Figure size 720x360 with 1 Axes>"
      ]
     },
     "metadata": {},
     "output_type": "display_data"
    }
   ],
   "source": [
    "# датафрейм с кумулятивным количеством заказов и кумулятивной выручкой по дням в группе А\n",
    "cumulativeRevenueA = cumulativeData[cumulativeData['group']=='A'][['date','revenue', 'transactionId']]\n",
    "\n",
    "# датафрейм с кумулятивным количеством заказов и кумулятивной выручкой по дням в группе B\n",
    "cumulativeRevenueB = cumulativeData[cumulativeData['group']=='B'][['date','revenue', 'transactionId']]\n",
    "\n",
    "# Строим график выручки группы А\n",
    "plt.figure(figsize=(10,5))\n",
    "plt.plot(cumulativeRevenueA['date'], cumulativeRevenueA['revenue'], label='A')\n",
    "\n",
    "# Строим график выручки группы B\n",
    "plt.plot(cumulativeRevenueB['date'], cumulativeRevenueB['revenue'], label='B')\n",
    "\n",
    "plt.title(\"График выручки по группам А/В\", fontsize=18)\n",
    "plt.xlabel(\"Дата\", fontsize=12)\n",
    "plt.xticks(rotation = 45)\n",
    "plt.ylabel(\"Кумулятивная выручка\", fontsize=12)\n",
    "plt.legend()\n",
    "plt.show()"
   ]
  },
  {
   "cell_type": "markdown",
   "metadata": {},
   "source": [
    "<div class=\"alert alert-block alert-danger\">\n",
    "    \n",
    "**Комментарий ревьювера (недочет, который нужно доработать)**\n",
    "    \n",
    "Стоит заняться оформлением всех графиков в отчете. Нужно добавить подписи осей и названия графиков. Подписи дат повернуть на 45 градусов, чтобы они не сливались.\n",
    "\n",
    "Рекомендую также изучить новые библиотеки визуализации и новые методы в уже изученных.  Прикрепляю несколько интересных ссылок по визуализации:\n",
    "\n",
    "\n",
    "https://coderlessons.com/tutorials/python-technologies/izuchai-siborna/siborn-kratkoe-rukovodstvo\n",
    "\n",
    "https://tproger.ru/translations/python-data-vizualization/\n",
    "    \n",
    "____________________\n",
    " \n",
    "*Техническую строку над графиком можно убрать, если написатьв конце ячейки:*\n",
    "    \n",
    "    plt.show()\n",
    "</div>"
   ]
  },
  {
   "cell_type": "markdown",
   "metadata": {},
   "source": [
    "<div class=\"alert alert-block alert-info\">\n",
    "<b>КОММЕНТАРИЙ ОТ УЧЕНИКА: </b>\n",
    "    \n",
    "- Поправил в соответствии с рекомендациями.\n",
    "</div>"
   ]
  },
  {
   "cell_type": "markdown",
   "metadata": {},
   "source": [
    "<div class=\"alert alert-block alert-success\">\n",
    "\n",
    "**Комментарий ревьювера v2 (все отлично)**\n",
    "    \n",
    "Графики оформлены👍 Можно смело увеличить размер графиков.\n",
    "</div>"
   ]
  },
  {
   "cell_type": "markdown",
   "metadata": {},
   "source": [
    "Выручка увеличивается в течение всего теста. В середине периода в группе B происходит резкий рост, необходимо будет разобраться в причине этого выброса."
   ]
  },
  {
   "cell_type": "markdown",
   "metadata": {},
   "source": [
    "<div class=\"alert alert-block alert-success\">\n",
    "\n",
    "**Комментарий ревьювера (все отлично)**\n",
    "    \n",
    "Резкий рост обнаружен👍\n",
    "</div>"
   ]
  },
  {
   "cell_type": "markdown",
   "metadata": {},
   "source": [
    "#### Построение графика кумулятивного среднего чека по группам"
   ]
  },
  {
   "cell_type": "code",
   "execution_count": 18,
   "metadata": {
    "scrolled": false
   },
   "outputs": [
    {
     "data": {
      "image/png": "[encoded data removed]",
      "text/plain": [
       "<Figure size 720x360 with 1 Axes>"
      ]
     },
     "metadata": {},
     "output_type": "display_data"
    }
   ],
   "source": [
    "#построим графики среднего чека по группам\n",
    "plt.figure(figsize=(10,5))\n",
    "plt.plot(cumulativeRevenueA['date'], cumulativeRevenueA['revenue']/cumulativeRevenueA['transactionId'], label='A')\n",
    "plt.plot(cumulativeRevenueB['date'], cumulativeRevenueB['revenue']/cumulativeRevenueB['transactionId'], label='B')\n",
    "\n",
    "plt.title(\"График кумулятивного среднего чека по группам А/В\", fontsize=18)\n",
    "plt.xlabel(\"Дата\", fontsize=12)\n",
    "plt.xticks(rotation = 45)\n",
    "plt.ylabel(\"Средний чек\", fontsize=12)\n",
    "plt.legend()\n",
    "plt.show()"
   ]
  },
  {
   "cell_type": "markdown",
   "metadata": {},
   "source": [
    "Средний чек для группы В растет в течение всего срока наблюдения, также наблюдается выброс в середине периода, необходимо разобраться с этим. Средний чек группы В больше группы А на протяжении почти всего срока наблюдения."
   ]
  },
  {
   "cell_type": "markdown",
   "metadata": {},
   "source": [
    "<div class=\"alert alert-block alert-success\">\n",
    "\n",
    "**Комментарий ревьювера (все отлично)**\n",
    "    \n",
    "Согласен.\n",
    "</div>"
   ]
  },
  {
   "cell_type": "markdown",
   "metadata": {},
   "source": [
    "#### Построение графика относительного изменения кумулятивного среднего чека группы B к группе A"
   ]
  },
  {
   "cell_type": "code",
   "execution_count": 19,
   "metadata": {},
   "outputs": [
    {
     "data": {
      "image/png": "[encoded data removed]",
      "text/plain": [
       "<Figure size 720x360 with 1 Axes>"
      ]
     },
     "metadata": {},
     "output_type": "display_data"
    }
   ],
   "source": [
    "#построим график относительного различия для среднего чека.\n",
    "# собираем данные в одном датафрейме\n",
    "mergedCumulativeRevenue = cumulativeRevenueA.merge(cumulativeRevenueB, left_on='date', right_on='date', how='left', suffixes=['A', 'B'])\n",
    "\n",
    "# cтроим отношение средних чеков\n",
    "plt.figure(figsize=(10,5))\n",
    "plt.plot(mergedCumulativeRevenue['date'], (mergedCumulativeRevenue['revenueB']/mergedCumulativeRevenue['transactionIdB'])/\n",
    "(mergedCumulativeRevenue['revenueA']/mergedCumulativeRevenue['transactionIdA'])-1)\n",
    "\n",
    "# добавляем ось X\n",
    "plt.axhline(y=0, color='black', linestyle='--')\n",
    "plt.title(\"График относительного изменения кумулятивного среднего чека В\", fontsize=18)\n",
    "plt.xlabel(\"Дата\", fontsize=12)\n",
    "plt.xticks(rotation = 45)\n",
    "plt.ylabel(\"Разница\", fontsize=12)\n",
    "plt.show()"
   ]
  },
  {
   "cell_type": "markdown",
   "metadata": {},
   "source": [
    "В нескольких точках график различия между сегментами резко «скачет». Кумулятивный средний чек группы В превышает группу А почти всегда."
   ]
  },
  {
   "cell_type": "markdown",
   "metadata": {},
   "source": [
    "#### Построение графика кумулятивного среднего количества заказов на посетителя по группам"
   ]
  },
  {
   "cell_type": "code",
   "execution_count": 20,
   "metadata": {},
   "outputs": [
    {
     "data": {
      "image/png": "[encoded data removed]",
      "text/plain": [
       "<Figure size 720x360 with 1 Axes>"
      ]
     },
     "metadata": {},
     "output_type": "display_data"
    }
   ],
   "source": [
    "#проанализируем график кумулятивной конверсии.\n",
    "# считаем кумулятивную конверсию\n",
    "cumulativeData['conversion'] = cumulativeData['transactionId']/cumulativeData['visitors']\n",
    "\n",
    "# отделяем данные по группе A\n",
    "cumulativeDataA = cumulativeData[cumulativeData['group']=='A']\n",
    "\n",
    "# отделяем данные по группе B\n",
    "cumulativeDataB = cumulativeData[cumulativeData['group']=='B']\n",
    "\n",
    "# строим графики\n",
    "plt.figure(figsize=(10,5))\n",
    "plt.plot(cumulativeDataA['date'], cumulativeDataA['conversion'], label='A')\n",
    "plt.plot(cumulativeDataB['date'], cumulativeDataB['conversion'], label='B')\n",
    "plt.legend()\n",
    "\n",
    "# задаем масштаб осей\n",
    "plt.axis([\"2019-08-01\", '2019-08-31', 0, 0.06])\n",
    "plt.title(\"График кумулятивного среднего количества заказов на посетителя по группам\", fontsize=18)\n",
    "plt.xlabel(\"Дата\", fontsize=12)\n",
    "plt.xticks(rotation = 45)\n",
    "plt.ylabel(\"Среднее количество\", fontsize=12)\n",
    "plt.show()"
   ]
  },
  {
   "cell_type": "markdown",
   "metadata": {},
   "source": [
    "Среднее количество заказов на посетителя в группе В превышает аналогичный показатель группы А в течение почти всего срока наблюдения, за исключением начального периода. В середине теста конверсия стабилизировалась."
   ]
  },
  {
   "cell_type": "markdown",
   "metadata": {},
   "source": [
    "<div class=\"alert alert-block alert-success\">\n",
    "\n",
    "**Комментарий ревьювера (все отлично)**\n",
    "    \n",
    "Можно добавить, что к середине теста конверсия стабилизировались.\n",
    "</div>"
   ]
  },
  {
   "cell_type": "markdown",
   "metadata": {},
   "source": [
    "#### Построение графика относительного изменения кумулятивного среднего количества заказов на посетителя группы B к группе A."
   ]
  },
  {
   "cell_type": "code",
   "execution_count": 21,
   "metadata": {},
   "outputs": [
    {
     "data": {
      "image/png": "[encoded data removed]",
      "text/plain": [
       "<Figure size 720x360 with 1 Axes>"
      ]
     },
     "metadata": {},
     "output_type": "display_data"
    }
   ],
   "source": [
    "#построим график относительного различия кумулятивных конверсий\n",
    "mergedCumulativeConversions = cumulativeDataA[['date','conversion']].merge(cumulativeDataB[['date','conversion']], left_on='date', right_on='date', how='left', suffixes=['A', 'B'])\n",
    "\n",
    "plt.figure(figsize=(10,5))\n",
    "plt.plot(mergedCumulativeConversions['date'], mergedCumulativeConversions['conversionB']/mergedCumulativeConversions['conversionA']-1, label = 'Относительный прирост конверсии группы B относительно группы A')\n",
    "plt.xlabel(\"Дата\", fontsize=12)\n",
    "plt.xticks(rotation = 45)\n",
    "plt.ylabel(\"Разница\", fontsize=12)\n",
    "plt.legend()\n",
    "\n",
    "plt.axhline(y=0, color='black', linestyle='--')\n",
    "plt.axhline(y=-0.1, color='grey', linestyle='--')\n",
    "plt.axis([\"2019-08-01\", '2019-08-31', -0.3, 0.3])\n",
    "plt.show()"
   ]
  },
  {
   "cell_type": "markdown",
   "metadata": {},
   "source": [
    "В начале теста группа B проигрывала группе A, затем вырвалась вперёд. Потом её конверсия снижалась, но в конце периода постепенно растёт."
   ]
  },
  {
   "cell_type": "markdown",
   "metadata": {},
   "source": [
    "<div class=\"alert alert-block alert-success\">\n",
    "\n",
    "**Комментарий ревьювера (все отлично)**\n",
    "    \n",
    "Здорово, что даешь комментарии под графиками👍\n",
    "</div>"
   ]
  },
  {
   "cell_type": "markdown",
   "metadata": {},
   "source": [
    "#### Построение точечной диаграммы числа заказов на одного пользователя"
   ]
  },
  {
   "cell_type": "code",
   "execution_count": 22,
   "metadata": {},
   "outputs": [
    {
     "data": {
      "text/html": [
       "<div>\n",
       "<style scoped>\n",
       "    .dataframe tbody tr th:only-of-type {\n",
       "        vertical-align: middle;\n",
       "    }\n",
       "\n",
       "    .dataframe tbody tr th {\n",
       "        vertical-align: top;\n",
       "    }\n",
       "\n",
       "    .dataframe thead th {\n",
       "        text-align: right;\n",
       "    }\n",
       "</style>\n",
       "<table border=\"1\" class=\"dataframe\">\n",
       "  <thead>\n",
       "    <tr style=\"text-align: right;\">\n",
       "      <th></th>\n",
       "      <th>visitorId</th>\n",
       "      <th>transactionId</th>\n",
       "    </tr>\n",
       "  </thead>\n",
       "  <tbody>\n",
       "    <tr>\n",
       "      <th>908</th>\n",
       "      <td>3967698036</td>\n",
       "      <td>3</td>\n",
       "    </tr>\n",
       "    <tr>\n",
       "      <th>55</th>\n",
       "      <td>249864742</td>\n",
       "      <td>3</td>\n",
       "    </tr>\n",
       "    <tr>\n",
       "      <th>478</th>\n",
       "      <td>2108163459</td>\n",
       "      <td>3</td>\n",
       "    </tr>\n",
       "    <tr>\n",
       "      <th>687</th>\n",
       "      <td>2988190573</td>\n",
       "      <td>3</td>\n",
       "    </tr>\n",
       "    <tr>\n",
       "      <th>890</th>\n",
       "      <td>3908431265</td>\n",
       "      <td>3</td>\n",
       "    </tr>\n",
       "    <tr>\n",
       "      <th>138</th>\n",
       "      <td>611059232</td>\n",
       "      <td>3</td>\n",
       "    </tr>\n",
       "    <tr>\n",
       "      <th>632</th>\n",
       "      <td>2742574263</td>\n",
       "      <td>3</td>\n",
       "    </tr>\n",
       "    <tr>\n",
       "      <th>157</th>\n",
       "      <td>678354126</td>\n",
       "      <td>2</td>\n",
       "    </tr>\n",
       "    <tr>\n",
       "      <th>323</th>\n",
       "      <td>1404560065</td>\n",
       "      <td>2</td>\n",
       "    </tr>\n",
       "    <tr>\n",
       "      <th>452</th>\n",
       "      <td>1985475298</td>\n",
       "      <td>2</td>\n",
       "    </tr>\n",
       "  </tbody>\n",
       "</table>\n",
       "</div>"
      ],
      "text/plain": [
       "      visitorId  transactionId\n",
       "908  3967698036              3\n",
       "55    249864742              3\n",
       "478  2108163459              3\n",
       "687  2988190573              3\n",
       "890  3908431265              3\n",
       "138   611059232              3\n",
       "632  2742574263              3\n",
       "157   678354126              2\n",
       "323  1404560065              2\n",
       "452  1985475298              2"
      ]
     },
     "metadata": {},
     "output_type": "display_data"
    },
    {
     "data": {
      "image/png": "[encoded data removed]",
      "text/plain": [
       "<Figure size 432x288 with 1 Axes>"
      ]
     },
     "metadata": {},
     "output_type": "display_data"
    }
   ],
   "source": [
    "ordersByUsers = (orders.groupby('visitorId', as_index=False).agg({'transactionId': 'nunique'}))\n",
    "\n",
    "ordersByUsers.columns = ['visitorId', 'transactionId']\n",
    "\n",
    "display(ordersByUsers.sort_values(by='transactionId', ascending=False).head(10))\n",
    "\n",
    "x_values = pd.Series(range(0,len(ordersByUsers)))\n",
    "\n",
    "plt.scatter(x_values, ordersByUsers['transactionId'])\n",
    "plt.title(\"График числа заказов на одного пользователя\")\n",
    "plt.xlabel(\"Пользователь\")\n",
    "plt.ylabel(\"Количество\")\n",
    "plt.show()"
   ]
  },
  {
   "cell_type": "markdown",
   "metadata": {},
   "source": [
    "Как видно на графике, основное количество заказов на одного посетителя не больше 3."
   ]
  },
  {
   "cell_type": "markdown",
   "metadata": {},
   "source": [
    "#### Расчет выборочных перцентилей количества заказов на одного пользователя"
   ]
  },
  {
   "cell_type": "code",
   "execution_count": 23,
   "metadata": {},
   "outputs": [
    {
     "name": "stdout",
     "output_type": "stream",
     "text": [
      "[1. 2.]\n"
     ]
    }
   ],
   "source": [
    "print(np.percentile(ordersByUsers['transactionId'], [95, 99]))"
   ]
  },
  {
   "cell_type": "markdown",
   "metadata": {},
   "source": [
    "Не более 5% пользователей оформляли больше чем 1 заказ. И 1% пользователей заказывали более двух раз. \n",
    "Допустимо выбрать 1 заказ на одного пользователя за верхнюю границу числа заказов, и отсеять аномальных пользователей по ней."
   ]
  },
  {
   "cell_type": "markdown",
   "metadata": {},
   "source": [
    "<div class=\"alert alert-block alert-success\">\n",
    "\n",
    "**Комментарий ревьювера (все отлично)**\n",
    "     \n",
    "Отлично, перцентили количества заказов на пользователя рассчитаны верно. По границе аномалий согласен.\n",
    "</div>"
   ]
  },
  {
   "cell_type": "markdown",
   "metadata": {},
   "source": [
    "#### Построение точечного графика стоимостей заказов"
   ]
  },
  {
   "cell_type": "code",
   "execution_count": 24,
   "metadata": {},
   "outputs": [
    {
     "data": {
      "text/plain": [
       "425     1294500\n",
       "1196     202740\n",
       "1136      92550\n",
       "744       86620\n",
       "743       67990\n",
       "1103      66350\n",
       "1099      65710\n",
       "949       60450\n",
       "940       58550\n",
       "131       53904\n",
       "Name: revenue, dtype: int64"
      ]
     },
     "metadata": {},
     "output_type": "display_data"
    },
    {
     "data": {
      "image/png": "[encoded data removed]",
      "text/plain": [
       "<Figure size 432x288 with 1 Axes>"
      ]
     },
     "metadata": {},
     "output_type": "display_data"
    }
   ],
   "source": [
    "x_values = pd.Series(range(0,len(orders['revenue'])))\n",
    "display(orders['revenue'].sort_values(ascending=False).head(10))\n",
    "plt.scatter(x_values, orders['revenue'])\n",
    "\n",
    "plt.ylim([0, 100000])\n",
    "plt.title(\"График стоимости заказов\")\n",
    "plt.xlabel(\"Заказ\")\n",
    "plt.ylabel(\"Сумма заказа\")\n",
    "plt.show()"
   ]
  },
  {
   "cell_type": "markdown",
   "metadata": {},
   "source": [
    "<div class=\"alert alert-block alert-danger\">\n",
    "    \n",
    "**Комментарий ревьювера (недочет, который нужно доработать)**\n",
    "    \n",
    "Зачем ты считаешь сумму заказов для каждого пользователя? Нужно просто изучить распределение величины заказов.\n",
    "\n",
    "</div>"
   ]
  },
  {
   "cell_type": "markdown",
   "metadata": {},
   "source": [
    "<div class=\"alert alert-block alert-info\">\n",
    "<b>КОММЕНТАРИЙ ОТ УЧЕНИКА: </b>\n",
    "    \n",
    "- Поправил расчет.\n",
    "</div>"
   ]
  },
  {
   "cell_type": "markdown",
   "metadata": {},
   "source": [
    "<div class=\"alert alert-block alert-success\">\n",
    "\n",
    "**Комментарий ревьювера v2 (все отлично)**\n",
    "    \n",
    "👍\n",
    "</div>"
   ]
  },
  {
   "cell_type": "markdown",
   "metadata": {},
   "source": [
    "<div class=\"alert alert-block alert-warning\">\n",
    "\n",
    "**Комментарий ревьювера (что можно улучшить)**\n",
    "    \n",
    "    \n",
    "Можно увеличить масштаб графика, не учитывая аномально большие значения при помощи:\n",
    "    \n",
    "    plt.ylim([0, верхняя граница по оси Y])\n",
    "</div>\n"
   ]
  },
  {
   "cell_type": "markdown",
   "metadata": {},
   "source": [
    "<div class=\"alert alert-block alert-info\">\n",
    "<b>КОММЕНТАРИЙ ОТ УЧЕНИКА: </b>\n",
    "    \n",
    "- Ограничил ось по рекомендации.\n",
    "</div>"
   ]
  },
  {
   "cell_type": "markdown",
   "metadata": {},
   "source": [
    "Стоимость заказов на одного посетителя не больше 100 000, есть всего 2 пользователей у которых стоимость заказов больше этого значения."
   ]
  },
  {
   "cell_type": "markdown",
   "metadata": {},
   "source": [
    "#### Расчет выборочных перцентилей стоимости заказов на одного пользователя"
   ]
  },
  {
   "cell_type": "code",
   "execution_count": 25,
   "metadata": {},
   "outputs": [
    {
     "name": "stdout",
     "output_type": "stream",
     "text": [
      "[26785. 53904.]\n"
     ]
    }
   ],
   "source": [
    "print(np.percentile(orders['revenue'], [95, 99]))"
   ]
  },
  {
   "cell_type": "markdown",
   "metadata": {},
   "source": [
    "Не более 5% пользователей оформлили заказов больше чем 26 785.0 И 1% пользователей заказывали на сумму более 53 904.0 \n",
    "В данной ситуации допустимо выбрать стоимость заказа на одного пользователя равной 26 785.0 за верхнюю границу числа заказов, и отсеять аномальных пользователей по ней."
   ]
  },
  {
   "cell_type": "markdown",
   "metadata": {},
   "source": [
    "<div class=\"alert alert-block alert-danger\">\n",
    "    \n",
    "**Комментарий ревьювера (недочет, который нужно доработать)**\n",
    "    \n",
    "Перцентили изменятся после исправления недочёта выше.\n",
    "\n",
    "</div>"
   ]
  },
  {
   "cell_type": "markdown",
   "metadata": {},
   "source": [
    "<div class=\"alert alert-block alert-info\">\n",
    "<b>КОММЕНТАРИЙ ОТ УЧЕНИКА: </b>\n",
    "    \n",
    "Значения изменились.\n",
    "</div>"
   ]
  },
  {
   "cell_type": "markdown",
   "metadata": {},
   "source": [
    "<div class=\"alert alert-block alert-danger\">\n",
    "    \n",
    "**Комментарий ревьювера v2 (недочет, который нужно доработать)**\n",
    "    \n",
    "Из-за некорректного обнаружения пересчения и последующего удаления данных недочёт актуален.\n",
    "\n",
    "</div>"
   ]
  },
  {
   "cell_type": "markdown",
   "metadata": {},
   "source": [
    "<div class=\"alert alert-block alert-info\">\n",
    "<b>КОММЕНТАРИЙ ОТ УЧЕНИКА: </b>\n",
    "    \n",
    "Значения изменились.\n",
    "</div>"
   ]
  },
  {
   "cell_type": "markdown",
   "metadata": {},
   "source": [
    "<div class=\"alert alert-block alert-success\">\n",
    "\n",
    "**Комментарий ревьювера v3 (все отлично)**\n",
    "    \n",
    "👍\n",
    "</div>"
   ]
  },
  {
   "cell_type": "markdown",
   "metadata": {},
   "source": [
    "#### Расчет статистической значимости различий в среднем количестве заказов на посетителя между группами по «сырым» данным"
   ]
  },
  {
   "cell_type": "markdown",
   "metadata": {},
   "source": [
    "Сформулируем гипотезы.\n",
    "\n",
    "- Нулевая: различий в среднем количестве заказов между группами нет. \n",
    "\n",
    "- Альтернативная: различия в среднем между группами есть.\n",
    "\n",
    "Проверка гипотез для уровня значимости 5%. Расчет статистической значимости p-value отличия между группами по параметру \"среднее количество заказов на посетителя\" мужду группами А и В проведем методом «U-критерий Манна-Уитни».\n",
    "\n",
    "Если полученное значение p-value меньше выбранного уровня значимости 5%, соответственно, гипотеза об отсутствии различий в среднем количестве заказов между группами может быть отвергнута. Следовательно, принимается альтернативная гипотеза о различии в среднем количестве заказов по 'сырым' данным."
   ]
  },
  {
   "cell_type": "markdown",
   "metadata": {},
   "source": [
    "<div class=\"alert alert-block alert-danger\">\n",
    "    \n",
    "**Комментарий ревьювера (недочет, который нужно доработать)**\n",
    "    \n",
    "Гипотезы верно сформулированы.\n",
    "    \n",
    "Укажи также выбранный уровень статистической значимости, а также критерий проверки гипотезы.\n",
    "\n",
    "</div>"
   ]
  },
  {
   "cell_type": "markdown",
   "metadata": {},
   "source": [
    "<div class=\"alert alert-block alert-info\">\n",
    "<b>КОММЕНТАРИЙ ОТ УЧЕНИКА: </b>\n",
    "    \n",
    "Добавил необходимые пояснения.\n",
    "</div>"
   ]
  },
  {
   "cell_type": "markdown",
   "metadata": {},
   "source": [
    "<div class=\"alert alert-block alert-danger\">\n",
    "    \n",
    "**Комментарий ревьювера v2 (недочет, который нужно доработать)**\n",
    "    \n",
    "Критерий проверки гипотез по-прежнему не указан. Как считается p-value, с помощью какого критерия?\n",
    "\n",
    "</div>"
   ]
  },
  {
   "cell_type": "markdown",
   "metadata": {},
   "source": [
    "<div class=\"alert alert-block alert-info\">\n",
    "<b>КОММЕНТАРИЙ ОТ УЧЕНИКА: </b>\n",
    "    \n",
    "Дополнил описание.\n",
    "</div>"
   ]
  },
  {
   "cell_type": "markdown",
   "metadata": {},
   "source": [
    "<div class=\"alert alert-block alert-success\">\n",
    "\n",
    "**Комментарий ревьювера v3 (все отлично)**\n",
    "    \n",
    "Верно, основные параметры проверки отражены.\n",
    "</div>"
   ]
  },
  {
   "cell_type": "code",
   "execution_count": 26,
   "metadata": {
    "scrolled": true
   },
   "outputs": [
    {
     "data": {
      "text/html": [
       "<div>\n",
       "<style scoped>\n",
       "    .dataframe tbody tr th:only-of-type {\n",
       "        vertical-align: middle;\n",
       "    }\n",
       "\n",
       "    .dataframe tbody tr th {\n",
       "        vertical-align: top;\n",
       "    }\n",
       "\n",
       "    .dataframe thead th {\n",
       "        text-align: right;\n",
       "    }\n",
       "</style>\n",
       "<table border=\"1\" class=\"dataframe\">\n",
       "  <thead>\n",
       "    <tr style=\"text-align: right;\">\n",
       "      <th></th>\n",
       "      <th>date</th>\n",
       "      <th>visitorsPerDateA</th>\n",
       "      <th>visitorsPerDateB</th>\n",
       "    </tr>\n",
       "  </thead>\n",
       "  <tbody>\n",
       "    <tr>\n",
       "      <th>0</th>\n",
       "      <td>2019-08-01</td>\n",
       "      <td>719</td>\n",
       "      <td>713</td>\n",
       "    </tr>\n",
       "    <tr>\n",
       "      <th>1</th>\n",
       "      <td>2019-08-02</td>\n",
       "      <td>619</td>\n",
       "      <td>581</td>\n",
       "    </tr>\n",
       "    <tr>\n",
       "      <th>2</th>\n",
       "      <td>2019-08-03</td>\n",
       "      <td>507</td>\n",
       "      <td>509</td>\n",
       "    </tr>\n",
       "    <tr>\n",
       "      <th>3</th>\n",
       "      <td>2019-08-04</td>\n",
       "      <td>717</td>\n",
       "      <td>770</td>\n",
       "    </tr>\n",
       "    <tr>\n",
       "      <th>4</th>\n",
       "      <td>2019-08-05</td>\n",
       "      <td>756</td>\n",
       "      <td>707</td>\n",
       "    </tr>\n",
       "  </tbody>\n",
       "</table>\n",
       "</div>"
      ],
      "text/plain": [
       "        date  visitorsPerDateA  visitorsPerDateB\n",
       "0 2019-08-01               719               713\n",
       "1 2019-08-02               619               581\n",
       "2 2019-08-03               507               509\n",
       "3 2019-08-04               717               770\n",
       "4 2019-08-05               756               707"
      ]
     },
     "metadata": {},
     "output_type": "display_data"
    }
   ],
   "source": [
    "# подготовка  данных для расчета\n",
    "visitorsADaily = visitors[visitors['group'] == 'A'][['date', 'visitors']]\n",
    "visitorsADaily.columns = ['date', 'visitorsPerDateA']\n",
    "\n",
    "visitorsBDaily = visitors[visitors['group'] == 'B'][['date', 'visitors']]\n",
    "visitorsBDaily.columns = ['date', 'visitorsPerDateB']\n",
    "\n",
    "data = (\n",
    "    visitorsADaily.merge(\n",
    "        visitorsBDaily, left_on='date', right_on='date', how='left'\n",
    "    ))\n",
    "display(data.head())"
   ]
  },
  {
   "cell_type": "markdown",
   "metadata": {},
   "source": [
    "<div class=\"alert alert-block alert-warning\">\n",
    "\n",
    "**Комментарий ревьювера (что можно улучшить)**\n",
    "    \n",
    "Почему ты повторно формируешь кумулятивные данные? В начале анализа АВ теста ты уже собрал всю необходимую информацию в `cumulativeData`.\n",
    "\n",
    "</div>"
   ]
  },
  {
   "cell_type": "markdown",
   "metadata": {},
   "source": [
    "<div class=\"alert alert-block alert-info\">\n",
    "<b>КОММЕНТАРИЙ ОТ УЧЕНИКА: </b>\n",
    "    \n",
    "Убрал лишний код. Ошибся, скопировал и вставил с учебного примера.\n",
    "</div>"
   ]
  },
  {
   "cell_type": "code",
   "execution_count": 27,
   "metadata": {},
   "outputs": [
    {
     "name": "stdout",
     "output_type": "stream",
     "text": [
      "p-value 0.011\n",
      "относительный прирост 0.160\n"
     ]
    }
   ],
   "source": [
    "#расчет статистической значимости различия в среднем количестве заказов между группами\n",
    "ordersByUsersA = (\n",
    "    orders[orders['group'] == 'A']\n",
    "    .groupby('visitorId', as_index=False)\n",
    "    .agg({'transactionId': pd.Series.nunique}))\n",
    "\n",
    "ordersByUsersA.columns = ['userId', 'orders']\n",
    "\n",
    "ordersByUsersB = (\n",
    "    orders[orders['group'] == 'B']\n",
    "    .groupby('visitorId', as_index=False)\n",
    "    .agg({'transactionId': pd.Series.nunique})\n",
    ")\n",
    "ordersByUsersB.columns = ['userId', 'orders']\n",
    "\n",
    "sampleA = pd.concat([ordersByUsersA['orders'], pd.Series(0,index=np.arange(data['visitorsPerDateA'].sum() - len(ordersByUsersA\n",
    "            ['orders'])),name='orders',),],axis=0,)\n",
    "\n",
    "sampleB = pd.concat([ordersByUsersB['orders'], pd.Series(0, index=np.arange(data['visitorsPerDateB'].sum() - len(ordersByUsersB\n",
    "            ['orders'])),name='orders',),],axis=0,)\n",
    "\n",
    "print(\"p-value {0:.3f}\".format(stats.mannwhitneyu(sampleA, sampleB)[1]))\n",
    "\n",
    "print(\"относительный прирост {0:.3f}\".format(sampleB.mean() / sampleA.mean() - 1))"
   ]
  },
  {
   "cell_type": "markdown",
   "metadata": {},
   "source": [
    "<div class=\"alert alert-block alert-warning\">\n",
    "\n",
    "**Комментарий ревьювера (что можно улучшить)**\n",
    "    \n",
    "Стоит обозначать, что именно рассчитано – где p-value, а где относительный прирост.\n",
    "</div>"
   ]
  },
  {
   "cell_type": "markdown",
   "metadata": {},
   "source": [
    "Первое число — p-value = 0.011 меньше 0.05. Значит, нулевую гипотезу о том, что статистически значимых различий в среднем числе заказов между группами нет, отвергаем. Относительный выигрыш группы B равен 16 %."
   ]
  },
  {
   "cell_type": "markdown",
   "metadata": {},
   "source": [
    "<div class=\"alert alert-block alert-success\">\n",
    "\n",
    "**Комментарий ревьювера (все отлично)**\n",
    "    \n",
    "Согласен. Группа B лучше по результатам.\n",
    "</div>"
   ]
  },
  {
   "cell_type": "markdown",
   "metadata": {},
   "source": [
    "#### Проверка статистической значимости различий в среднем чеке между сегментами"
   ]
  },
  {
   "cell_type": "markdown",
   "metadata": {},
   "source": [
    "- Нулевая гипотеза: различий в среднем чеке между группами нет. \n",
    "- Альтернативная гипотеза: различия в среднем чеке между группами есть.\n",
    "\n",
    "Проверка гипотез для уровня значимости 5%. Расчет статистической значимости p-value отличия между группами по параметру \"средний чек\" между группами А и В проведем методом «U-критерий Манна-Уитни».\n",
    "\n",
    "Если полученное значение p-value больше выбранного уровня значимости 5%, соответственно, гипотеза об отсутствии различий в среднем количестве заказов между группами не может быть отвергнута."
   ]
  },
  {
   "cell_type": "code",
   "execution_count": 28,
   "metadata": {},
   "outputs": [
    {
     "name": "stdout",
     "output_type": "stream",
     "text": [
      "p-value 0.829\n",
      "относительный прирост 0.287\n"
     ]
    }
   ],
   "source": [
    "print('p-value {0:.3f}'.format(stats.mannwhitneyu(orders[orders['group']=='A']['revenue'], orders[orders['group']=='B']['revenue'])[1]))\n",
    "print('относительный прирост {0:.3f}'.format(orders[orders['group']=='B']['revenue'].mean()/orders[orders['group']=='A']['revenue'].mean()-1))"
   ]
  },
  {
   "cell_type": "markdown",
   "metadata": {},
   "source": [
    "Первое число — p-value = 0.829 больше 0.05. Значит, нулевую гипотезу о том, что статистически значимых различий в среднем чеке между группами нет, не отвергаем. При этом относительный выигрыш группы B равен 28,7%."
   ]
  },
  {
   "cell_type": "markdown",
   "metadata": {},
   "source": [
    "<div class=\"alert alert-block alert-success\">\n",
    "\n",
    "**Комментарий ревьювера (все отлично)**\n",
    "    \n",
    "Ты верно сделал вывод, что значимых различий в среднем чеке нет.\n",
    "</div>"
   ]
  },
  {
   "cell_type": "markdown",
   "metadata": {},
   "source": [
    "#### Расчет статистической значимости различий в среднем количестве заказов на посетителя между группами по «очищенным» данным"
   ]
  },
  {
   "cell_type": "code",
   "execution_count": 29,
   "metadata": {},
   "outputs": [
    {
     "name": "stdout",
     "output_type": "stream",
     "text": [
      "568     113298937\n",
      "1099    148427295\n",
      "928     204675465\n",
      "33      249864742\n",
      "684     358944393\n",
      "dtype: int64\n",
      "86\n"
     ]
    }
   ],
   "source": [
    "#подготовка данных\n",
    "usersWithManyOrders = pd.concat(\n",
    "    [\n",
    "        ordersByUsersA[ordersByUsersA['orders'] > np.percentile(ordersByUsers['transactionId'], 95)]['userId'],\n",
    "        ordersByUsersB[ordersByUsersB['orders'] > np.percentile(ordersByUsers['transactionId'], 95)]['userId'],\n",
    "    ],\n",
    "    axis=0,\n",
    ")\n",
    "usersWithExpensiveOrders = orders[orders['revenue'] > np.percentile(orders['revenue'], 95)]['visitorId']\n",
    "\n",
    "abnormalUsers = (\n",
    "    pd.concat([usersWithManyOrders, usersWithExpensiveOrders], axis=0)\n",
    "    .drop_duplicates()\n",
    "    .sort_values()\n",
    ")\n",
    "print(abnormalUsers.head(5))\n",
    "print(abnormalUsers.shape[0])"
   ]
  },
  {
   "cell_type": "markdown",
   "metadata": {},
   "source": [
    "<div class=\"alert alert-block alert-warning\">\n",
    "\n",
    "**Комментарий ревьювера (что можно улучшить)**\n",
    "    \n",
    "Стоит избавиться от ручного ввода данных, такой код неустойчив к изменению исходных данных. В данном случае лушче использовать np.percentile().\n",
    "</div>"
   ]
  },
  {
   "cell_type": "markdown",
   "metadata": {},
   "source": [
    "<div class=\"alert alert-block alert-info\">\n",
    "<b>КОММЕНТАРИЙ ОТ УЧЕНИКА: </b>\n",
    "    \n",
    "Поправил в соответствии с рекомендациями.\n",
    "</div>"
   ]
  },
  {
   "cell_type": "markdown",
   "metadata": {},
   "source": [
    "<div class=\"alert alert-block alert-success\">\n",
    "\n",
    "**Комментарий ревьювера (все отлично)**\n",
    "    \n",
    "Здорово, что посчитал аномальных пользователей. Это важно для оценки и контроля данных после фильтрации.\n",
    "    \n",
    "</div>"
   ]
  },
  {
   "cell_type": "code",
   "execution_count": 30,
   "metadata": {},
   "outputs": [
    {
     "name": "stdout",
     "output_type": "stream",
     "text": [
      "p-value 0.016\n",
      "относительный прирост 0.174\n"
     ]
    }
   ],
   "source": [
    "#расчет статистической значимости по очищенным данным\n",
    "sampleAFiltered = pd.concat([ordersByUsersA[np.logical_not(ordersByUsersA['userId'].isin(abnormalUsers))]['orders'],\n",
    "        pd.Series(0,index=np.arange(data['visitorsPerDateA'].sum() - len(ordersByUsersA['orders'])),name='orders',),],axis=0,)\n",
    "\n",
    "sampleBFiltered = pd.concat([ordersByUsersB[np.logical_not(ordersByUsersB['userId'].isin(abnormalUsers))]['orders'],\n",
    "        pd.Series(0, index=np.arange(data['visitorsPerDateB'].sum() - len(ordersByUsersB['orders'])),name='orders',),],axis=0,)\n",
    "\n",
    "print('p-value {0:.3f}'.format(stats.mannwhitneyu(sampleAFiltered, sampleBFiltered)[1]))\n",
    "print('относительный прирост {0:.3f}'.format(sampleBFiltered.mean()/sampleAFiltered.mean()-1))"
   ]
  },
  {
   "cell_type": "markdown",
   "metadata": {},
   "source": [
    "Первое число — p-value = 0.016 меньше 0.05. Значит, нулевую гипотезу о том, что статистически значимых различий в среднем числе заказов между группами нет, отвергаем. Относительный выигрыш группы B повысился до 17.4%."
   ]
  },
  {
   "cell_type": "markdown",
   "metadata": {},
   "source": [
    "#### Расчет статистической значимости различий в среднем чеке заказа между группами по «очищенным» данным"
   ]
  },
  {
   "cell_type": "code",
   "execution_count": 31,
   "metadata": {},
   "outputs": [
    {
     "name": "stdout",
     "output_type": "stream",
     "text": [
      "p-value 0.727\n",
      "относительный прирост -0.034\n"
     ]
    }
   ],
   "source": [
    "print('p-value {0:.3f}'.format(stats.mannwhitneyu(orders[np.logical_and(orders['group'] == 'A', np.logical_not(orders['visitorId'].isin(abnormalUsers)),)]['revenue'],orders[np.logical_and(orders['group'] == 'B',\n",
    "                    np.logical_not(orders['visitorId'].isin(abnormalUsers)),)]['revenue'],)[1]))\n",
    "\n",
    "print('относительный прирост {0:.3f}'.format(orders[np.logical_and(orders['group'] == 'B',np.logical_not(orders['visitorId'].isin(abnormalUsers)),)]['revenue'].mean()/ orders[np.logical_and(orders['group'] == 'A',\n",
    "                    np.logical_not(orders['visitorId'].isin(abnormalUsers)),)]['revenue'].mean() - 1))"
   ]
  },
  {
   "cell_type": "markdown",
   "metadata": {},
   "source": [
    "Первое число — p-value = 0.727 больше 0.05. Значит, нулевую гипотезу о том, что статистически значимых различий в среднем чеке между группами нет, не отвергаем. При этом средний чек заказа группы B стал меньше чем у группы А."
   ]
  },
  {
   "cell_type": "markdown",
   "metadata": {},
   "source": [
    "### Выводы и решение по результатам теста"
   ]
  },
  {
   "attachments": {
    "image-4.png": {
     "image/png": "[encoded data removed]"
    }
   },
   "cell_type": "markdown",
   "metadata": {},
   "source": [
    "- Гипотеза \"Добавить форму подписки на все основные страницы, чтобы собрать базу клиентов для email-рассылок\" набрала наибольший балл при приоритизации фреймворком RICE.\n",
    "- Есть статистически значимое различие по среднему количеству заказов между группами по «сырым» данным и по данным после фильтрации аномалий;\n",
    "- Нет статистически значимого различия по среднему чеку между группами ни по «сырым», ни по данным после фильтрации аномалий;\n",
    "- График различия среднего количества заказов между группами сообщает, что результаты группы B лучше группы A на протяжении почти всего срока наблюдения.\n",
    "![image-4.png](attachment:image-4.png)\n",
    "\n",
    "Исходя из обнаруженных фактов, тест следует остановить и признать его успешным. При имеющихся данных сегмент B на самом деле лучше сегмента A."
   ]
  },
  {
   "cell_type": "markdown",
   "metadata": {},
   "source": [
    "<div class=\"alert alert-block alert-success\">\n",
    "\n",
    "**Комментарий ревьювера (все отлично)**\n",
    "    \n",
    "Согласен с решением. Тест прошел успешно! Среднее количество заказов увеличилось при отсутствии значимых изменений по среднему чеку -> выручка увеличилась, так как стали покупать чаще.\n",
    "</div>"
   ]
  },
  {
   "cell_type": "markdown",
   "metadata": {},
   "source": [
    "<div class=\"alert alert-block alert-danger\">\n",
    "    \n",
    "**Комментарий ревьювера (недочет, который нужно доработать)**\n",
    "    \n",
    "В общем выводе требуется отображение всех итогов проекта. Не хватает выводов по приоритезации гипотез. \n",
    "\n",
    "</div>\n",
    "\n"
   ]
  },
  {
   "cell_type": "markdown",
   "metadata": {},
   "source": [
    "<div class=\"alert alert-block alert-info\">\n",
    "<b>КОММЕНТАРИЙ ОТ УЧЕНИКА: </b>\n",
    "    \n",
    "Добавил выводы в соответствии с рекомендациями.\n",
    "</div>"
   ]
  },
  {
   "cell_type": "markdown",
   "metadata": {},
   "source": [
    "<div class=\"alert alert-block alert-success\">\n",
    "\n",
    "**Комментарий ревьювера v2 (все отлично)**\n",
    "    \n",
    "Основные результаты проекта отражены.\n",
    "</div>"
   ]
  },
  {
   "cell_type": "markdown",
   "metadata": {},
   "source": [
    "<div class=\"alert alert-block alert-warning\">\n",
    "\n",
    "**Комментарий ревьювера (общий вывод)**\n",
    "    \n",
    "Рустем, мне понравилась твоя работа! Выводы хорошо структурированы и достаточно содержательны, качественно проводишь проверку гипотез. Спасибо за четкие комментарии по результатам исследования, аккуратный код и качественное оформление отчета! Это упростило проверку. Для принятия твоей работы нужно исправить критические недочёты:\n",
    "    \n",
    "* проверить дубликаты и пропуски по данным;\n",
    "* проверить пересечение групп;\n",
    "* оформить графики;\n",
    "* посчитать перцентили по величине заказов;\n",
    "* доработать оформление этапа проверки гипотез;\n",
    "* дополнить общий вывод.\n",
    "    \n",
    "В дополнении прикрепляю несколько полезных материалов по теме A/B-тестирования: \n",
    "    \n",
    "* https://medium.com/statistics-experiments \n",
    "* https://your-scorpion.ru/ab-tests-check-mathematics/\n",
    "    \n",
    "Жду твою работу!\n",
    "  \n",
    "</div>"
   ]
  },
  {
   "cell_type": "markdown",
   "metadata": {},
   "source": [
    "<div class=\"alert alert-block alert-info\">\n",
    "<b>КОММЕНТАРИЙ ОТ УЧЕНИКА: </b>\n",
    "    \n",
    "Доработал проект в соответствии с рекомендациями. Надеюсь, получилось. Спасибо за полезные советы, Василий.\n",
    "</div>"
   ]
  }
 ],
 "metadata": {
  "ExecuteTimeLog": [
   {
    "duration": 78,
    "start_time": "2023-02-07T04:42:18.380Z"
   },
   {
    "duration": 54,
    "start_time": "2023-02-07T04:44:57.263Z"
   },
   {
    "duration": 464,
    "start_time": "2023-02-07T04:45:10.327Z"
   },
   {
    "duration": 27,
    "start_time": "2023-02-07T04:45:33.388Z"
   },
   {
    "duration": 26,
    "start_time": "2023-02-07T04:45:45.518Z"
   },
   {
    "duration": 5,
    "start_time": "2023-02-07T05:09:16.584Z"
   },
   {
    "duration": 7,
    "start_time": "2023-02-07T05:10:25.506Z"
   },
   {
    "duration": 48,
    "start_time": "2023-02-07T05:10:39.378Z"
   },
   {
    "duration": 26,
    "start_time": "2023-02-07T05:10:48.733Z"
   },
   {
    "duration": 4,
    "start_time": "2023-02-07T05:12:25.061Z"
   },
   {
    "duration": 8,
    "start_time": "2023-02-07T05:13:33.381Z"
   },
   {
    "duration": 7,
    "start_time": "2023-02-07T05:13:38.781Z"
   },
   {
    "duration": 486,
    "start_time": "2023-02-07T10:36:30.941Z"
   },
   {
    "duration": 17,
    "start_time": "2023-02-07T10:36:42.522Z"
   },
   {
    "duration": 11,
    "start_time": "2023-02-07T10:36:55.721Z"
   },
   {
    "duration": 60,
    "start_time": "2023-02-07T10:39:49.521Z"
   },
   {
    "duration": 10,
    "start_time": "2023-02-07T10:41:09.231Z"
   },
   {
    "duration": 11,
    "start_time": "2023-02-07T10:41:16.963Z"
   },
   {
    "duration": 14,
    "start_time": "2023-02-07T10:41:22.935Z"
   },
   {
    "duration": 11,
    "start_time": "2023-02-07T10:41:31.486Z"
   },
   {
    "duration": 14,
    "start_time": "2023-02-07T10:41:44.926Z"
   },
   {
    "duration": 10,
    "start_time": "2023-02-07T10:41:52.103Z"
   },
   {
    "duration": 10,
    "start_time": "2023-02-07T10:42:08.559Z"
   },
   {
    "duration": 32,
    "start_time": "2023-02-07T10:42:34.918Z"
   },
   {
    "duration": 31,
    "start_time": "2023-02-07T12:11:46.416Z"
   },
   {
    "duration": 31,
    "start_time": "2023-02-07T12:12:40.444Z"
   },
   {
    "duration": 30,
    "start_time": "2023-02-07T12:14:30.018Z"
   },
   {
    "duration": 32,
    "start_time": "2023-02-07T12:14:43.361Z"
   },
   {
    "duration": 11,
    "start_time": "2023-02-07T12:15:28.799Z"
   },
   {
    "duration": 11,
    "start_time": "2023-02-07T12:15:32.457Z"
   },
   {
    "duration": 10,
    "start_time": "2023-02-07T12:16:43.419Z"
   },
   {
    "duration": 484,
    "start_time": "2023-02-07T18:08:26.733Z"
   },
   {
    "duration": 11,
    "start_time": "2023-02-07T18:08:27.219Z"
   },
   {
    "duration": 11,
    "start_time": "2023-02-07T18:08:27.231Z"
   },
   {
    "duration": 132,
    "start_time": "2023-02-07T18:08:27.243Z"
   },
   {
    "duration": 66,
    "start_time": "2023-02-07T18:09:22.467Z"
   },
   {
    "duration": 59,
    "start_time": "2023-02-07T18:20:56.810Z"
   },
   {
    "duration": 60,
    "start_time": "2023-02-07T18:21:07.582Z"
   },
   {
    "duration": 68,
    "start_time": "2023-02-07T18:21:22.407Z"
   },
   {
    "duration": 45,
    "start_time": "2023-02-08T17:47:23.064Z"
   },
   {
    "duration": 42,
    "start_time": "2023-02-08T17:47:54.823Z"
   },
   {
    "duration": 459,
    "start_time": "2023-02-08T17:48:10.669Z"
   },
   {
    "duration": 12,
    "start_time": "2023-02-08T17:48:11.130Z"
   },
   {
    "duration": 10,
    "start_time": "2023-02-08T17:48:11.143Z"
   },
   {
    "duration": 343,
    "start_time": "2023-02-08T17:48:11.155Z"
   },
   {
    "duration": 0,
    "start_time": "2023-02-08T17:48:11.499Z"
   },
   {
    "duration": 357,
    "start_time": "2023-02-08T17:49:14.809Z"
   },
   {
    "duration": 38,
    "start_time": "2023-02-08T17:49:15.168Z"
   },
   {
    "duration": 11,
    "start_time": "2023-02-08T17:49:15.207Z"
   },
   {
    "duration": 9,
    "start_time": "2023-02-08T17:49:15.220Z"
   },
   {
    "duration": 52,
    "start_time": "2023-02-08T17:49:15.231Z"
   },
   {
    "duration": 290,
    "start_time": "2023-02-08T17:49:15.285Z"
   },
   {
    "duration": 349,
    "start_time": "2023-02-08T17:51:49.936Z"
   },
   {
    "duration": 552,
    "start_time": "2023-02-08T17:51:57.490Z"
   },
   {
    "duration": 34,
    "start_time": "2023-02-08T17:51:58.044Z"
   },
   {
    "duration": 10,
    "start_time": "2023-02-08T17:51:58.080Z"
   },
   {
    "duration": 10,
    "start_time": "2023-02-08T17:51:58.091Z"
   },
   {
    "duration": 50,
    "start_time": "2023-02-08T17:51:58.103Z"
   },
   {
    "duration": 283,
    "start_time": "2023-02-08T17:51:58.155Z"
   },
   {
    "duration": 52,
    "start_time": "2023-02-08T17:52:49.380Z"
   },
   {
    "duration": 55,
    "start_time": "2023-02-08T17:53:01.820Z"
   },
   {
    "duration": 30,
    "start_time": "2023-02-08T17:53:17.410Z"
   },
   {
    "duration": 30,
    "start_time": "2023-02-08T17:53:58.208Z"
   },
   {
    "duration": 53,
    "start_time": "2023-02-08T17:54:00.934Z"
   },
   {
    "duration": 5,
    "start_time": "2023-02-08T17:54:41.660Z"
   },
   {
    "duration": 25,
    "start_time": "2023-02-08T17:55:05.951Z"
   },
   {
    "duration": 163,
    "start_time": "2023-02-08T17:56:16.916Z"
   },
   {
    "duration": 102,
    "start_time": "2023-02-08T17:56:54.530Z"
   },
   {
    "duration": 10,
    "start_time": "2023-02-08T17:58:16.279Z"
   },
   {
    "duration": 11,
    "start_time": "2023-02-08T17:58:32.317Z"
   },
   {
    "duration": 12,
    "start_time": "2023-02-08T17:59:45.348Z"
   },
   {
    "duration": 248,
    "start_time": "2023-02-08T18:00:19.127Z"
   },
   {
    "duration": 241,
    "start_time": "2023-02-08T18:01:08.910Z"
   },
   {
    "duration": 242,
    "start_time": "2023-02-08T18:02:33.273Z"
   },
   {
    "duration": 52,
    "start_time": "2023-02-08T18:03:32.915Z"
   },
   {
    "duration": 52,
    "start_time": "2023-02-08T18:03:46.600Z"
   },
   {
    "duration": 256,
    "start_time": "2023-02-08T18:03:57.429Z"
   },
   {
    "duration": 242,
    "start_time": "2023-02-08T18:08:13.709Z"
   },
   {
    "duration": 275,
    "start_time": "2023-02-08T18:10:10.452Z"
   },
   {
    "duration": 1212,
    "start_time": "2023-02-09T07:55:18.749Z"
   },
   {
    "duration": 100,
    "start_time": "2023-02-09T07:55:19.964Z"
   },
   {
    "duration": 13,
    "start_time": "2023-02-09T07:55:20.065Z"
   },
   {
    "duration": 14,
    "start_time": "2023-02-09T07:55:20.081Z"
   },
   {
    "duration": 106,
    "start_time": "2023-02-09T07:55:20.097Z"
   },
   {
    "duration": 74,
    "start_time": "2023-02-09T07:55:20.205Z"
   },
   {
    "duration": 246,
    "start_time": "2023-02-09T07:55:20.281Z"
   },
   {
    "duration": 290,
    "start_time": "2023-02-09T07:55:20.529Z"
   },
   {
    "duration": 265,
    "start_time": "2023-02-09T07:59:44.045Z"
   },
   {
    "duration": 390,
    "start_time": "2023-02-09T08:05:00.535Z"
   },
   {
    "duration": 329,
    "start_time": "2023-02-09T08:05:35.894Z"
   },
   {
    "duration": 404,
    "start_time": "2023-02-09T08:05:55.024Z"
   },
   {
    "duration": 253,
    "start_time": "2023-02-09T08:07:53.262Z"
   },
   {
    "duration": 267,
    "start_time": "2023-02-09T08:08:08.078Z"
   },
   {
    "duration": 236,
    "start_time": "2023-02-09T08:08:16.926Z"
   },
   {
    "duration": 310,
    "start_time": "2023-02-09T08:08:25.013Z"
   },
   {
    "duration": 371,
    "start_time": "2023-02-09T08:10:05.700Z"
   },
   {
    "duration": 421,
    "start_time": "2023-02-09T08:10:17.021Z"
   },
   {
    "duration": 224,
    "start_time": "2023-02-09T08:15:19.313Z"
   },
   {
    "duration": 325,
    "start_time": "2023-02-09T08:15:25.670Z"
   },
   {
    "duration": 10,
    "start_time": "2023-02-09T09:01:00.107Z"
   },
   {
    "duration": 14,
    "start_time": "2023-02-09T09:01:13.602Z"
   },
   {
    "duration": 956,
    "start_time": "2023-02-09T09:01:41.860Z"
   },
   {
    "duration": 113,
    "start_time": "2023-02-09T09:01:55.004Z"
   },
   {
    "duration": 108,
    "start_time": "2023-02-09T09:03:00.786Z"
   },
   {
    "duration": 234,
    "start_time": "2023-02-09T09:03:40.683Z"
   },
   {
    "duration": 132,
    "start_time": "2023-02-09T09:03:50.965Z"
   },
   {
    "duration": 119,
    "start_time": "2023-02-09T09:04:37.169Z"
   },
   {
    "duration": 5,
    "start_time": "2023-02-09T09:08:23.991Z"
   },
   {
    "duration": 728,
    "start_time": "2023-02-09T15:56:50.787Z"
   },
   {
    "duration": 93,
    "start_time": "2023-02-09T15:56:51.517Z"
   },
   {
    "duration": 12,
    "start_time": "2023-02-09T15:56:51.612Z"
   },
   {
    "duration": 18,
    "start_time": "2023-02-09T15:56:51.625Z"
   },
   {
    "duration": 109,
    "start_time": "2023-02-09T15:56:51.645Z"
   },
   {
    "duration": 71,
    "start_time": "2023-02-09T15:56:51.756Z"
   },
   {
    "duration": 250,
    "start_time": "2023-02-09T15:56:51.829Z"
   },
   {
    "duration": 253,
    "start_time": "2023-02-09T15:56:52.081Z"
   },
   {
    "duration": 258,
    "start_time": "2023-02-09T15:56:52.336Z"
   },
   {
    "duration": 405,
    "start_time": "2023-02-09T15:56:52.595Z"
   },
   {
    "duration": 252,
    "start_time": "2023-02-09T15:56:53.002Z"
   },
   {
    "duration": 455,
    "start_time": "2023-02-09T15:56:53.255Z"
   },
   {
    "duration": 138,
    "start_time": "2023-02-09T15:56:53.712Z"
   },
   {
    "duration": 5,
    "start_time": "2023-02-09T15:56:53.852Z"
   },
   {
    "duration": 237,
    "start_time": "2023-02-09T15:57:08.022Z"
   },
   {
    "duration": 141,
    "start_time": "2023-02-09T16:33:14.905Z"
   },
   {
    "duration": 147,
    "start_time": "2023-02-09T16:33:56.838Z"
   },
   {
    "duration": 4,
    "start_time": "2023-02-09T16:36:37.209Z"
   },
   {
    "duration": 8,
    "start_time": "2023-02-09T16:37:17.022Z"
   },
   {
    "duration": 83,
    "start_time": "2023-02-09T16:59:28.194Z"
   },
   {
    "duration": 1007,
    "start_time": "2023-02-09T17:01:23.796Z"
   },
   {
    "duration": 198,
    "start_time": "2023-02-09T17:08:31.270Z"
   },
   {
    "duration": 191,
    "start_time": "2023-02-09T17:08:43.122Z"
   },
   {
    "duration": 132,
    "start_time": "2023-02-09T17:08:55.398Z"
   },
   {
    "duration": 1153,
    "start_time": "2023-02-09T17:10:05.294Z"
   },
   {
    "duration": 39,
    "start_time": "2023-02-09T17:10:06.448Z"
   },
   {
    "duration": 11,
    "start_time": "2023-02-09T17:10:06.489Z"
   },
   {
    "duration": 13,
    "start_time": "2023-02-09T17:10:06.502Z"
   },
   {
    "duration": 49,
    "start_time": "2023-02-09T17:10:06.517Z"
   },
   {
    "duration": 21,
    "start_time": "2023-02-09T17:10:06.567Z"
   },
   {
    "duration": 254,
    "start_time": "2023-02-09T17:10:06.590Z"
   },
   {
    "duration": 262,
    "start_time": "2023-02-09T17:10:06.845Z"
   },
   {
    "duration": 252,
    "start_time": "2023-02-09T17:10:07.108Z"
   },
   {
    "duration": 352,
    "start_time": "2023-02-09T17:10:07.362Z"
   },
   {
    "duration": 314,
    "start_time": "2023-02-09T17:10:07.715Z"
   },
   {
    "duration": 372,
    "start_time": "2023-02-09T17:10:08.032Z"
   },
   {
    "duration": 122,
    "start_time": "2023-02-09T17:10:08.406Z"
   },
   {
    "duration": 5,
    "start_time": "2023-02-09T17:10:08.529Z"
   },
   {
    "duration": 144,
    "start_time": "2023-02-09T17:10:08.535Z"
   },
   {
    "duration": 5,
    "start_time": "2023-02-09T17:10:08.680Z"
   },
   {
    "duration": 218,
    "start_time": "2023-02-09T17:10:08.686Z"
   },
   {
    "duration": 165,
    "start_time": "2023-02-09T17:10:08.906Z"
   },
   {
    "duration": 162,
    "start_time": "2023-02-09T17:19:32.077Z"
   },
   {
    "duration": 210,
    "start_time": "2023-02-09T17:19:50.413Z"
   },
   {
    "duration": 170,
    "start_time": "2023-02-09T17:22:25.493Z"
   },
   {
    "duration": 12,
    "start_time": "2023-02-09T17:26:14.340Z"
   },
   {
    "duration": 911,
    "start_time": "2023-02-09T17:32:39.983Z"
   },
   {
    "duration": 868,
    "start_time": "2023-02-09T17:33:01.592Z"
   },
   {
    "duration": 799,
    "start_time": "2023-02-09T17:33:18.903Z"
   },
   {
    "duration": 875,
    "start_time": "2023-02-09T17:34:05.583Z"
   },
   {
    "duration": 811,
    "start_time": "2023-02-09T17:35:54.311Z"
   },
   {
    "duration": 8,
    "start_time": "2023-02-09T17:37:01.858Z"
   },
   {
    "duration": 10,
    "start_time": "2023-02-09T17:37:15.945Z"
   },
   {
    "duration": 8,
    "start_time": "2023-02-09T17:37:28.162Z"
   },
   {
    "duration": 9,
    "start_time": "2023-02-09T17:39:28.966Z"
   },
   {
    "duration": 28,
    "start_time": "2023-02-09T17:39:44.661Z"
   },
   {
    "duration": 722,
    "start_time": "2023-02-09T17:42:06.077Z"
   },
   {
    "duration": 15,
    "start_time": "2023-02-09T17:42:42.473Z"
   },
   {
    "duration": 1129,
    "start_time": "2023-02-10T11:13:16.711Z"
   },
   {
    "duration": 106,
    "start_time": "2023-02-10T11:13:17.842Z"
   },
   {
    "duration": 14,
    "start_time": "2023-02-10T11:13:17.950Z"
   },
   {
    "duration": 9,
    "start_time": "2023-02-10T11:13:17.967Z"
   },
   {
    "duration": 110,
    "start_time": "2023-02-10T11:13:17.978Z"
   },
   {
    "duration": 67,
    "start_time": "2023-02-10T11:13:18.089Z"
   },
   {
    "duration": 249,
    "start_time": "2023-02-10T11:13:18.158Z"
   },
   {
    "duration": 254,
    "start_time": "2023-02-10T11:13:18.409Z"
   },
   {
    "duration": 239,
    "start_time": "2023-02-10T11:13:18.665Z"
   },
   {
    "duration": 409,
    "start_time": "2023-02-10T11:13:18.907Z"
   },
   {
    "duration": 248,
    "start_time": "2023-02-10T11:13:19.318Z"
   },
   {
    "duration": 349,
    "start_time": "2023-02-10T11:13:19.567Z"
   },
   {
    "duration": 121,
    "start_time": "2023-02-10T11:13:19.918Z"
   },
   {
    "duration": 11,
    "start_time": "2023-02-10T11:13:20.040Z"
   },
   {
    "duration": 128,
    "start_time": "2023-02-10T11:13:20.052Z"
   },
   {
    "duration": 5,
    "start_time": "2023-02-10T11:13:20.181Z"
   },
   {
    "duration": 201,
    "start_time": "2023-02-10T11:13:20.188Z"
   },
   {
    "duration": 169,
    "start_time": "2023-02-10T11:13:20.391Z"
   },
   {
    "duration": 9,
    "start_time": "2023-02-10T11:13:20.561Z"
   },
   {
    "duration": 8,
    "start_time": "2023-02-10T11:13:20.571Z"
   },
   {
    "duration": 26,
    "start_time": "2023-02-10T11:13:20.580Z"
   },
   {
    "duration": 40,
    "start_time": "2023-02-10T11:13:20.608Z"
   },
   {
    "duration": 53,
    "start_time": "2023-02-10T11:15:05.582Z"
   },
   {
    "duration": 30,
    "start_time": "2023-02-10T11:15:12.589Z"
   },
   {
    "duration": 86,
    "start_time": "2023-02-10T11:52:12.515Z"
   },
   {
    "duration": 288,
    "start_time": "2023-02-10T11:52:27.989Z"
   },
   {
    "duration": 170,
    "start_time": "2023-02-10T11:52:39.949Z"
   },
   {
    "duration": 4,
    "start_time": "2023-02-10T12:01:05.911Z"
   },
   {
    "duration": 1101,
    "start_time": "2023-02-10T12:01:26.158Z"
   },
   {
    "duration": 37,
    "start_time": "2023-02-10T12:01:27.261Z"
   },
   {
    "duration": 12,
    "start_time": "2023-02-10T12:01:27.299Z"
   },
   {
    "duration": 18,
    "start_time": "2023-02-10T12:01:27.313Z"
   },
   {
    "duration": 47,
    "start_time": "2023-02-10T12:01:27.333Z"
   },
   {
    "duration": 21,
    "start_time": "2023-02-10T12:01:27.382Z"
   },
   {
    "duration": 261,
    "start_time": "2023-02-10T12:01:27.404Z"
   },
   {
    "duration": 286,
    "start_time": "2023-02-10T12:01:27.666Z"
   },
   {
    "duration": 272,
    "start_time": "2023-02-10T12:01:27.954Z"
   },
   {
    "duration": 409,
    "start_time": "2023-02-10T12:01:28.227Z"
   },
   {
    "duration": 287,
    "start_time": "2023-02-10T12:01:28.638Z"
   },
   {
    "duration": 414,
    "start_time": "2023-02-10T12:01:28.927Z"
   },
   {
    "duration": 137,
    "start_time": "2023-02-10T12:01:29.348Z"
   },
   {
    "duration": 5,
    "start_time": "2023-02-10T12:01:29.488Z"
   },
   {
    "duration": 162,
    "start_time": "2023-02-10T12:01:29.494Z"
   },
   {
    "duration": 4,
    "start_time": "2023-02-10T12:01:29.658Z"
   },
   {
    "duration": 241,
    "start_time": "2023-02-10T12:01:29.664Z"
   },
   {
    "duration": 183,
    "start_time": "2023-02-10T12:01:29.908Z"
   },
   {
    "duration": 10,
    "start_time": "2023-02-10T12:01:30.093Z"
   },
   {
    "duration": 9,
    "start_time": "2023-02-10T12:01:30.105Z"
   },
   {
    "duration": 52,
    "start_time": "2023-02-10T12:01:30.116Z"
   },
   {
    "duration": 14,
    "start_time": "2023-02-10T12:01:30.170Z"
   },
   {
    "duration": 15,
    "start_time": "2023-02-10T12:04:01.773Z"
   },
   {
    "duration": 14,
    "start_time": "2023-02-10T12:05:32.900Z"
   },
   {
    "duration": 27,
    "start_time": "2023-02-10T12:08:03.547Z"
   },
   {
    "duration": 171,
    "start_time": "2023-02-10T12:11:21.630Z"
   },
   {
    "duration": 205,
    "start_time": "2023-02-10T12:11:55.689Z"
   },
   {
    "duration": 160,
    "start_time": "2023-02-10T12:12:12.308Z"
   },
   {
    "duration": 1083,
    "start_time": "2023-02-10T12:12:38.386Z"
   },
   {
    "duration": 36,
    "start_time": "2023-02-10T12:12:39.471Z"
   },
   {
    "duration": 13,
    "start_time": "2023-02-10T12:12:39.509Z"
   },
   {
    "duration": 11,
    "start_time": "2023-02-10T12:12:39.524Z"
   },
   {
    "duration": 47,
    "start_time": "2023-02-10T12:12:39.536Z"
   },
   {
    "duration": 19,
    "start_time": "2023-02-10T12:12:39.585Z"
   },
   {
    "duration": 259,
    "start_time": "2023-02-10T12:12:39.606Z"
   },
   {
    "duration": 307,
    "start_time": "2023-02-10T12:12:39.867Z"
   },
   {
    "duration": 259,
    "start_time": "2023-02-10T12:12:40.176Z"
   },
   {
    "duration": 383,
    "start_time": "2023-02-10T12:12:40.438Z"
   },
   {
    "duration": 278,
    "start_time": "2023-02-10T12:12:40.823Z"
   },
   {
    "duration": 374,
    "start_time": "2023-02-10T12:12:41.103Z"
   },
   {
    "duration": 131,
    "start_time": "2023-02-10T12:12:41.479Z"
   },
   {
    "duration": 6,
    "start_time": "2023-02-10T12:12:41.612Z"
   },
   {
    "duration": 152,
    "start_time": "2023-02-10T12:12:41.625Z"
   },
   {
    "duration": 4,
    "start_time": "2023-02-10T12:12:41.778Z"
   },
   {
    "duration": 226,
    "start_time": "2023-02-10T12:12:41.784Z"
   },
   {
    "duration": 176,
    "start_time": "2023-02-10T12:12:42.012Z"
   },
   {
    "duration": 11,
    "start_time": "2023-02-10T12:12:42.189Z"
   },
   {
    "duration": 9,
    "start_time": "2023-02-10T12:12:42.202Z"
   },
   {
    "duration": 49,
    "start_time": "2023-02-10T12:12:42.213Z"
   },
   {
    "duration": 14,
    "start_time": "2023-02-10T12:12:42.263Z"
   },
   {
    "duration": 1164,
    "start_time": "2023-02-10T18:57:02.911Z"
   },
   {
    "duration": 37,
    "start_time": "2023-02-10T18:57:04.077Z"
   },
   {
    "duration": 15,
    "start_time": "2023-02-10T18:57:04.116Z"
   },
   {
    "duration": 17,
    "start_time": "2023-02-10T18:57:04.137Z"
   },
   {
    "duration": 44,
    "start_time": "2023-02-10T18:57:04.156Z"
   },
   {
    "duration": 20,
    "start_time": "2023-02-10T18:57:04.202Z"
   },
   {
    "duration": 310,
    "start_time": "2023-02-10T18:57:04.224Z"
   },
   {
    "duration": 322,
    "start_time": "2023-02-10T18:57:04.536Z"
   },
   {
    "duration": 354,
    "start_time": "2023-02-10T18:57:04.861Z"
   },
   {
    "duration": 403,
    "start_time": "2023-02-10T18:57:05.225Z"
   },
   {
    "duration": 287,
    "start_time": "2023-02-10T18:57:05.641Z"
   },
   {
    "duration": 393,
    "start_time": "2023-02-10T18:57:05.933Z"
   },
   {
    "duration": 146,
    "start_time": "2023-02-10T18:57:06.330Z"
   },
   {
    "duration": 6,
    "start_time": "2023-02-10T18:57:06.477Z"
   },
   {
    "duration": 165,
    "start_time": "2023-02-10T18:57:06.484Z"
   },
   {
    "duration": 4,
    "start_time": "2023-02-10T18:57:06.651Z"
   },
   {
    "duration": 249,
    "start_time": "2023-02-10T18:57:06.657Z"
   },
   {
    "duration": 174,
    "start_time": "2023-02-10T18:57:06.907Z"
   },
   {
    "duration": 10,
    "start_time": "2023-02-10T18:57:07.082Z"
   },
   {
    "duration": 19,
    "start_time": "2023-02-10T18:57:07.093Z"
   },
   {
    "duration": 67,
    "start_time": "2023-02-10T18:57:07.114Z"
   },
   {
    "duration": 13,
    "start_time": "2023-02-10T18:57:07.183Z"
   },
   {
    "duration": 1198,
    "start_time": "2023-02-10T19:08:08.988Z"
   },
   {
    "duration": 40,
    "start_time": "2023-02-10T19:08:10.190Z"
   },
   {
    "duration": 13,
    "start_time": "2023-02-10T19:08:10.232Z"
   },
   {
    "duration": 13,
    "start_time": "2023-02-10T19:08:10.247Z"
   },
   {
    "duration": 50,
    "start_time": "2023-02-10T19:08:10.263Z"
   },
   {
    "duration": 21,
    "start_time": "2023-02-10T19:08:10.315Z"
   },
   {
    "duration": 283,
    "start_time": "2023-02-10T19:08:10.338Z"
   },
   {
    "duration": 310,
    "start_time": "2023-02-10T19:08:10.622Z"
   },
   {
    "duration": 288,
    "start_time": "2023-02-10T19:08:10.934Z"
   },
   {
    "duration": 369,
    "start_time": "2023-02-10T19:08:11.224Z"
   },
   {
    "duration": 290,
    "start_time": "2023-02-10T19:08:11.595Z"
   },
   {
    "duration": 411,
    "start_time": "2023-02-10T19:08:11.886Z"
   },
   {
    "duration": 158,
    "start_time": "2023-02-10T19:08:12.299Z"
   },
   {
    "duration": 5,
    "start_time": "2023-02-10T19:08:12.460Z"
   },
   {
    "duration": 172,
    "start_time": "2023-02-10T19:08:12.467Z"
   },
   {
    "duration": 5,
    "start_time": "2023-02-10T19:08:12.640Z"
   },
   {
    "duration": 232,
    "start_time": "2023-02-10T19:08:12.646Z"
   },
   {
    "duration": 175,
    "start_time": "2023-02-10T19:08:12.879Z"
   },
   {
    "duration": 10,
    "start_time": "2023-02-10T19:08:13.056Z"
   },
   {
    "duration": 12,
    "start_time": "2023-02-10T19:08:13.068Z"
   },
   {
    "duration": 50,
    "start_time": "2023-02-10T19:08:13.082Z"
   },
   {
    "duration": 13,
    "start_time": "2023-02-10T19:08:13.134Z"
   },
   {
    "duration": 1320,
    "start_time": "2023-02-10T19:29:09.267Z"
   },
   {
    "duration": 50,
    "start_time": "2023-02-10T19:29:10.589Z"
   },
   {
    "duration": 21,
    "start_time": "2023-02-10T19:29:10.650Z"
   },
   {
    "duration": 43,
    "start_time": "2023-02-10T19:29:10.673Z"
   },
   {
    "duration": 147,
    "start_time": "2023-02-10T19:29:10.718Z"
   },
   {
    "duration": 26,
    "start_time": "2023-02-10T19:29:10.869Z"
   },
   {
    "duration": 368,
    "start_time": "2023-02-10T19:29:10.897Z"
   },
   {
    "duration": 378,
    "start_time": "2023-02-10T19:29:11.270Z"
   },
   {
    "duration": 322,
    "start_time": "2023-02-10T19:29:11.656Z"
   },
   {
    "duration": 453,
    "start_time": "2023-02-10T19:29:11.982Z"
   },
   {
    "duration": 304,
    "start_time": "2023-02-10T19:29:12.449Z"
   },
   {
    "duration": 417,
    "start_time": "2023-02-10T19:29:12.756Z"
   },
   {
    "duration": 157,
    "start_time": "2023-02-10T19:29:13.174Z"
   },
   {
    "duration": 8,
    "start_time": "2023-02-10T19:29:13.338Z"
   },
   {
    "duration": 193,
    "start_time": "2023-02-10T19:29:13.353Z"
   },
   {
    "duration": 6,
    "start_time": "2023-02-10T19:29:13.552Z"
   },
   {
    "duration": 275,
    "start_time": "2023-02-10T19:29:13.563Z"
   },
   {
    "duration": 242,
    "start_time": "2023-02-10T19:29:13.840Z"
   },
   {
    "duration": 12,
    "start_time": "2023-02-10T19:29:14.083Z"
   },
   {
    "duration": 11,
    "start_time": "2023-02-10T19:29:14.097Z"
   },
   {
    "duration": 75,
    "start_time": "2023-02-10T19:29:14.132Z"
   },
   {
    "duration": 20,
    "start_time": "2023-02-10T19:29:14.209Z"
   },
   {
    "duration": 1224,
    "start_time": "2023-02-13T16:29:40.690Z"
   },
   {
    "duration": 93,
    "start_time": "2023-02-13T16:29:41.916Z"
   },
   {
    "duration": 15,
    "start_time": "2023-02-13T16:29:42.011Z"
   },
   {
    "duration": 14,
    "start_time": "2023-02-13T16:29:42.029Z"
   },
   {
    "duration": 112,
    "start_time": "2023-02-13T16:29:42.044Z"
   },
   {
    "duration": 79,
    "start_time": "2023-02-13T16:29:42.158Z"
   },
   {
    "duration": 250,
    "start_time": "2023-02-13T16:29:42.238Z"
   },
   {
    "duration": 269,
    "start_time": "2023-02-13T16:29:42.490Z"
   },
   {
    "duration": 258,
    "start_time": "2023-02-13T16:29:42.761Z"
   },
   {
    "duration": 400,
    "start_time": "2023-02-13T16:29:43.022Z"
   },
   {
    "duration": 291,
    "start_time": "2023-02-13T16:29:43.424Z"
   },
   {
    "duration": 392,
    "start_time": "2023-02-13T16:29:43.716Z"
   },
   {
    "duration": 176,
    "start_time": "2023-02-13T16:29:44.110Z"
   },
   {
    "duration": 5,
    "start_time": "2023-02-13T16:29:44.287Z"
   },
   {
    "duration": 147,
    "start_time": "2023-02-13T16:29:44.293Z"
   },
   {
    "duration": 8,
    "start_time": "2023-02-13T16:29:44.442Z"
   },
   {
    "duration": 210,
    "start_time": "2023-02-13T16:29:44.452Z"
   },
   {
    "duration": 159,
    "start_time": "2023-02-13T16:29:44.664Z"
   },
   {
    "duration": 11,
    "start_time": "2023-02-13T16:29:44.825Z"
   },
   {
    "duration": 20,
    "start_time": "2023-02-13T16:29:44.837Z"
   },
   {
    "duration": 38,
    "start_time": "2023-02-13T16:29:44.859Z"
   },
   {
    "duration": 16,
    "start_time": "2023-02-13T16:29:44.899Z"
   },
   {
    "duration": 65,
    "start_time": "2023-02-13T16:30:55.775Z"
   },
   {
    "duration": 48,
    "start_time": "2023-02-13T16:31:11.518Z"
   },
   {
    "duration": 5,
    "start_time": "2023-02-13T16:43:26.122Z"
   },
   {
    "duration": 13,
    "start_time": "2023-02-13T16:43:40.247Z"
   },
   {
    "duration": 56,
    "start_time": "2023-02-13T16:45:11.564Z"
   },
   {
    "duration": 5,
    "start_time": "2023-02-13T16:45:20.294Z"
   },
   {
    "duration": 14,
    "start_time": "2023-02-13T16:45:38.581Z"
   },
   {
    "duration": 6,
    "start_time": "2023-02-13T16:46:01.104Z"
   },
   {
    "duration": 6,
    "start_time": "2023-02-13T16:46:53.185Z"
   },
   {
    "duration": 11,
    "start_time": "2023-02-13T16:55:43.042Z"
   },
   {
    "duration": 12,
    "start_time": "2023-02-13T16:56:11.912Z"
   },
   {
    "duration": 8,
    "start_time": "2023-02-13T16:56:18.761Z"
   },
   {
    "duration": 14,
    "start_time": "2023-02-13T16:56:35.107Z"
   },
   {
    "duration": 13,
    "start_time": "2023-02-13T16:57:34.321Z"
   },
   {
    "duration": 5,
    "start_time": "2023-02-13T17:03:52.082Z"
   },
   {
    "duration": 4,
    "start_time": "2023-02-13T17:04:59.233Z"
   },
   {
    "duration": 5,
    "start_time": "2023-02-13T17:05:30.597Z"
   },
   {
    "duration": 5,
    "start_time": "2023-02-13T17:05:58.294Z"
   },
   {
    "duration": 7,
    "start_time": "2023-02-13T17:11:18.058Z"
   },
   {
    "duration": 97,
    "start_time": "2023-02-13T17:11:36.536Z"
   },
   {
    "duration": 1081,
    "start_time": "2023-02-13T17:12:12.917Z"
   },
   {
    "duration": 40,
    "start_time": "2023-02-13T17:12:14.000Z"
   },
   {
    "duration": 14,
    "start_time": "2023-02-13T17:12:14.041Z"
   },
   {
    "duration": 10,
    "start_time": "2023-02-13T17:12:14.058Z"
   },
   {
    "duration": 56,
    "start_time": "2023-02-13T17:12:14.070Z"
   },
   {
    "duration": 5,
    "start_time": "2023-02-13T17:12:14.128Z"
   },
   {
    "duration": 10,
    "start_time": "2023-02-13T17:12:14.135Z"
   },
   {
    "duration": 14,
    "start_time": "2023-02-13T17:12:14.146Z"
   },
   {
    "duration": 20,
    "start_time": "2023-02-13T17:12:14.162Z"
   },
   {
    "duration": 8,
    "start_time": "2023-02-13T17:12:14.185Z"
   },
   {
    "duration": 28,
    "start_time": "2023-02-13T17:12:14.195Z"
   },
   {
    "duration": 4,
    "start_time": "2023-02-13T17:12:14.224Z"
   },
   {
    "duration": 19,
    "start_time": "2023-02-13T17:12:14.230Z"
   },
   {
    "duration": 7,
    "start_time": "2023-02-13T17:12:14.251Z"
   },
   {
    "duration": 298,
    "start_time": "2023-02-13T17:12:14.260Z"
   },
   {
    "duration": 265,
    "start_time": "2023-02-13T17:12:14.560Z"
   },
   {
    "duration": 168,
    "start_time": "2023-02-13T17:12:14.826Z"
   },
   {
    "duration": 254,
    "start_time": "2023-02-13T17:12:14.996Z"
   },
   {
    "duration": 166,
    "start_time": "2023-02-13T17:12:15.252Z"
   },
   {
    "duration": 343,
    "start_time": "2023-02-13T17:12:15.420Z"
   },
   {
    "duration": 143,
    "start_time": "2023-02-13T17:12:15.765Z"
   },
   {
    "duration": 5,
    "start_time": "2023-02-13T17:12:15.910Z"
   },
   {
    "duration": 168,
    "start_time": "2023-02-13T17:12:15.917Z"
   },
   {
    "duration": 4,
    "start_time": "2023-02-13T17:12:16.086Z"
   },
   {
    "duration": 216,
    "start_time": "2023-02-13T17:12:16.092Z"
   },
   {
    "duration": 167,
    "start_time": "2023-02-13T17:12:16.310Z"
   },
   {
    "duration": 10,
    "start_time": "2023-02-13T17:12:16.478Z"
   },
   {
    "duration": 9,
    "start_time": "2023-02-13T17:12:16.491Z"
   },
   {
    "duration": 25,
    "start_time": "2023-02-13T17:12:16.502Z"
   },
   {
    "duration": 30,
    "start_time": "2023-02-13T17:12:16.529Z"
   },
   {
    "duration": 14,
    "start_time": "2023-02-13T17:14:09.542Z"
   },
   {
    "duration": 50,
    "start_time": "2023-02-13T17:16:24.402Z"
   },
   {
    "duration": 156,
    "start_time": "2023-02-13T17:20:21.464Z"
   },
   {
    "duration": 209,
    "start_time": "2023-02-13T17:22:05.167Z"
   },
   {
    "duration": 231,
    "start_time": "2023-02-13T17:22:30.763Z"
   },
   {
    "duration": 180,
    "start_time": "2023-02-13T17:23:58.316Z"
   },
   {
    "duration": 279,
    "start_time": "2023-02-13T17:24:22.300Z"
   },
   {
    "duration": 165,
    "start_time": "2023-02-13T17:24:30.465Z"
   },
   {
    "duration": 233,
    "start_time": "2023-02-13T17:29:32.931Z"
   },
   {
    "duration": 205,
    "start_time": "2023-02-13T17:38:51.347Z"
   },
   {
    "duration": 279,
    "start_time": "2023-02-13T17:43:26.024Z"
   },
   {
    "duration": 451,
    "start_time": "2023-02-13T17:44:51.834Z"
   },
   {
    "duration": 224,
    "start_time": "2023-02-13T17:45:36.582Z"
   },
   {
    "duration": 192,
    "start_time": "2023-02-13T17:46:38.445Z"
   },
   {
    "duration": 202,
    "start_time": "2023-02-13T17:46:47.478Z"
   },
   {
    "duration": 250,
    "start_time": "2023-02-13T17:47:42.493Z"
   },
   {
    "duration": 388,
    "start_time": "2023-02-13T17:48:54.480Z"
   },
   {
    "duration": 195,
    "start_time": "2023-02-13T17:50:23.539Z"
   },
   {
    "duration": 316,
    "start_time": "2023-02-13T17:53:13.495Z"
   },
   {
    "duration": 311,
    "start_time": "2023-02-13T17:54:08.213Z"
   },
   {
    "duration": 114,
    "start_time": "2023-02-13T17:54:43.039Z"
   },
   {
    "duration": 148,
    "start_time": "2023-02-13T17:56:33.557Z"
   },
   {
    "duration": 129,
    "start_time": "2023-02-13T18:04:13.172Z"
   },
   {
    "duration": 122,
    "start_time": "2023-02-13T18:05:01.408Z"
   },
   {
    "duration": 134,
    "start_time": "2023-02-13T18:05:30.068Z"
   },
   {
    "duration": 31,
    "start_time": "2023-02-13T18:05:42.212Z"
   },
   {
    "duration": 112,
    "start_time": "2023-02-13T18:05:56.515Z"
   },
   {
    "duration": 123,
    "start_time": "2023-02-13T18:07:08.316Z"
   },
   {
    "duration": 123,
    "start_time": "2023-02-13T18:07:50.304Z"
   },
   {
    "duration": 139,
    "start_time": "2023-02-13T18:08:51.984Z"
   },
   {
    "duration": 4,
    "start_time": "2023-02-13T18:09:13.420Z"
   },
   {
    "duration": 241,
    "start_time": "2023-02-13T18:23:34.965Z"
   },
   {
    "duration": 125,
    "start_time": "2023-02-13T18:23:44.643Z"
   },
   {
    "duration": 117,
    "start_time": "2023-02-13T18:23:57.730Z"
   },
   {
    "duration": 220,
    "start_time": "2023-02-13T18:25:32.868Z"
   },
   {
    "duration": 129,
    "start_time": "2023-02-13T18:26:41.231Z"
   },
   {
    "duration": 185,
    "start_time": "2023-02-13T18:28:25.097Z"
   },
   {
    "duration": 4,
    "start_time": "2023-02-13T18:30:10.118Z"
   },
   {
    "duration": 5,
    "start_time": "2023-02-13T18:30:13.608Z"
   },
   {
    "duration": 296,
    "start_time": "2023-02-13T18:36:35.377Z"
   },
   {
    "duration": 136,
    "start_time": "2023-02-13T18:36:43.183Z"
   },
   {
    "duration": 212,
    "start_time": "2023-02-13T18:37:05.220Z"
   },
   {
    "duration": 49,
    "start_time": "2023-02-13T18:43:04.311Z"
   },
   {
    "duration": 1225,
    "start_time": "2023-02-14T03:47:37.159Z"
   },
   {
    "duration": 89,
    "start_time": "2023-02-14T03:47:38.386Z"
   },
   {
    "duration": 11,
    "start_time": "2023-02-14T03:47:38.476Z"
   },
   {
    "duration": 9,
    "start_time": "2023-02-14T03:47:38.489Z"
   },
   {
    "duration": 117,
    "start_time": "2023-02-14T03:47:38.499Z"
   },
   {
    "duration": 4,
    "start_time": "2023-02-14T03:47:38.617Z"
   },
   {
    "duration": 8,
    "start_time": "2023-02-14T03:47:38.623Z"
   },
   {
    "duration": 5,
    "start_time": "2023-02-14T03:47:38.632Z"
   },
   {
    "duration": 13,
    "start_time": "2023-02-14T03:47:38.638Z"
   },
   {
    "duration": 6,
    "start_time": "2023-02-14T03:47:38.653Z"
   },
   {
    "duration": 77,
    "start_time": "2023-02-14T03:47:38.660Z"
   },
   {
    "duration": 3,
    "start_time": "2023-02-14T03:47:38.739Z"
   },
   {
    "duration": 9,
    "start_time": "2023-02-14T03:47:38.743Z"
   },
   {
    "duration": 8,
    "start_time": "2023-02-14T03:47:38.754Z"
   },
   {
    "duration": 259,
    "start_time": "2023-02-14T03:47:38.763Z"
   },
   {
    "duration": 265,
    "start_time": "2023-02-14T03:47:39.024Z"
   },
   {
    "duration": 190,
    "start_time": "2023-02-14T03:47:39.291Z"
   },
   {
    "duration": 301,
    "start_time": "2023-02-14T03:47:39.483Z"
   },
   {
    "duration": 182,
    "start_time": "2023-02-14T03:47:39.786Z"
   },
   {
    "duration": 255,
    "start_time": "2023-02-14T03:47:39.969Z"
   },
   {
    "duration": 128,
    "start_time": "2023-02-14T03:47:40.226Z"
   },
   {
    "duration": 5,
    "start_time": "2023-02-14T03:47:40.355Z"
   },
   {
    "duration": 130,
    "start_time": "2023-02-14T03:47:40.361Z"
   },
   {
    "duration": 5,
    "start_time": "2023-02-14T03:47:40.493Z"
   },
   {
    "duration": 216,
    "start_time": "2023-02-14T03:47:40.499Z"
   },
   {
    "duration": 151,
    "start_time": "2023-02-14T03:47:40.717Z"
   },
   {
    "duration": 10,
    "start_time": "2023-02-14T03:47:40.870Z"
   },
   {
    "duration": 11,
    "start_time": "2023-02-14T03:47:40.883Z"
   },
   {
    "duration": 55,
    "start_time": "2023-02-14T03:47:40.896Z"
   },
   {
    "duration": 15,
    "start_time": "2023-02-14T03:47:40.952Z"
   },
   {
    "duration": 10,
    "start_time": "2023-02-14T04:07:12.302Z"
   },
   {
    "duration": 8,
    "start_time": "2023-02-14T04:08:28.389Z"
   },
   {
    "duration": 25,
    "start_time": "2023-02-14T04:09:08.932Z"
   },
   {
    "duration": 24,
    "start_time": "2023-02-14T04:09:58.260Z"
   },
   {
    "duration": 13,
    "start_time": "2023-02-14T04:10:50.700Z"
   },
   {
    "duration": 1083,
    "start_time": "2023-02-14T04:14:50.121Z"
   },
   {
    "duration": 35,
    "start_time": "2023-02-14T04:14:51.207Z"
   },
   {
    "duration": 13,
    "start_time": "2023-02-14T04:14:51.243Z"
   },
   {
    "duration": 35,
    "start_time": "2023-02-14T04:14:51.257Z"
   },
   {
    "duration": 77,
    "start_time": "2023-02-14T04:14:51.294Z"
   },
   {
    "duration": 3,
    "start_time": "2023-02-14T04:14:51.373Z"
   },
   {
    "duration": 26,
    "start_time": "2023-02-14T04:14:51.378Z"
   },
   {
    "duration": 23,
    "start_time": "2023-02-14T04:14:51.406Z"
   },
   {
    "duration": 30,
    "start_time": "2023-02-14T04:14:51.430Z"
   },
   {
    "duration": 17,
    "start_time": "2023-02-14T04:14:51.462Z"
   },
   {
    "duration": 41,
    "start_time": "2023-02-14T04:14:51.480Z"
   },
   {
    "duration": 3,
    "start_time": "2023-02-14T04:14:51.523Z"
   },
   {
    "duration": 12,
    "start_time": "2023-02-14T04:14:51.527Z"
   },
   {
    "duration": 17,
    "start_time": "2023-02-14T04:14:51.542Z"
   },
   {
    "duration": 273,
    "start_time": "2023-02-14T04:14:51.561Z"
   },
   {
    "duration": 267,
    "start_time": "2023-02-14T04:14:51.836Z"
   },
   {
    "duration": 180,
    "start_time": "2023-02-14T04:14:52.105Z"
   },
   {
    "duration": 273,
    "start_time": "2023-02-14T04:14:52.286Z"
   },
   {
    "duration": 181,
    "start_time": "2023-02-14T04:14:52.561Z"
   },
   {
    "duration": 306,
    "start_time": "2023-02-14T04:14:52.744Z"
   },
   {
    "duration": 137,
    "start_time": "2023-02-14T04:14:53.051Z"
   },
   {
    "duration": 4,
    "start_time": "2023-02-14T04:14:53.189Z"
   },
   {
    "duration": 139,
    "start_time": "2023-02-14T04:14:53.194Z"
   },
   {
    "duration": 4,
    "start_time": "2023-02-14T04:14:53.334Z"
   },
   {
    "duration": 218,
    "start_time": "2023-02-14T04:14:53.348Z"
   },
   {
    "duration": 155,
    "start_time": "2023-02-14T04:14:53.567Z"
   },
   {
    "duration": 9,
    "start_time": "2023-02-14T04:14:53.723Z"
   },
   {
    "duration": 17,
    "start_time": "2023-02-14T04:14:53.733Z"
   },
   {
    "duration": 24,
    "start_time": "2023-02-14T04:14:53.751Z"
   },
   {
    "duration": 12,
    "start_time": "2023-02-14T04:14:53.776Z"
   },
   {
    "duration": 44,
    "start_time": "2023-02-14T04:16:50.647Z"
   },
   {
    "duration": 102,
    "start_time": "2023-02-14T04:17:21.375Z"
   },
   {
    "duration": 12,
    "start_time": "2023-02-14T04:18:12.895Z"
   },
   {
    "duration": 12,
    "start_time": "2023-02-14T04:18:37.981Z"
   },
   {
    "duration": 13,
    "start_time": "2023-02-14T04:19:54.653Z"
   },
   {
    "duration": 8,
    "start_time": "2023-02-14T04:22:19.730Z"
   },
   {
    "duration": 61,
    "start_time": "2023-02-14T04:33:14.540Z"
   },
   {
    "duration": 13,
    "start_time": "2023-02-14T04:33:23.713Z"
   },
   {
    "duration": 199,
    "start_time": "2023-02-14T04:35:36.807Z"
   },
   {
    "duration": 60,
    "start_time": "2023-02-14T04:36:23.113Z"
   },
   {
    "duration": 169,
    "start_time": "2023-02-14T04:37:00.862Z"
   },
   {
    "duration": 10,
    "start_time": "2023-02-14T04:37:11.836Z"
   },
   {
    "duration": 9,
    "start_time": "2023-02-14T04:37:21.613Z"
   },
   {
    "duration": 35,
    "start_time": "2023-02-14T04:37:32.631Z"
   },
   {
    "duration": 13,
    "start_time": "2023-02-14T04:37:40.559Z"
   },
   {
    "duration": 1150,
    "start_time": "2023-02-14T04:50:30.064Z"
   },
   {
    "duration": 35,
    "start_time": "2023-02-14T04:50:31.216Z"
   },
   {
    "duration": 11,
    "start_time": "2023-02-14T04:50:31.252Z"
   },
   {
    "duration": 11,
    "start_time": "2023-02-14T04:50:31.265Z"
   },
   {
    "duration": 61,
    "start_time": "2023-02-14T04:50:31.278Z"
   },
   {
    "duration": 5,
    "start_time": "2023-02-14T04:50:31.341Z"
   },
   {
    "duration": 33,
    "start_time": "2023-02-14T04:50:31.348Z"
   },
   {
    "duration": 21,
    "start_time": "2023-02-14T04:50:31.383Z"
   },
   {
    "duration": 24,
    "start_time": "2023-02-14T04:50:31.406Z"
   },
   {
    "duration": 8,
    "start_time": "2023-02-14T04:50:31.434Z"
   },
   {
    "duration": 32,
    "start_time": "2023-02-14T04:50:31.444Z"
   },
   {
    "duration": 4,
    "start_time": "2023-02-14T04:50:31.478Z"
   },
   {
    "duration": 12,
    "start_time": "2023-02-14T04:50:31.483Z"
   },
   {
    "duration": 6,
    "start_time": "2023-02-14T04:50:31.497Z"
   },
   {
    "duration": 274,
    "start_time": "2023-02-14T04:50:31.504Z"
   },
   {
    "duration": 271,
    "start_time": "2023-02-14T04:50:31.780Z"
   },
   {
    "duration": 169,
    "start_time": "2023-02-14T04:50:32.053Z"
   },
   {
    "duration": 318,
    "start_time": "2023-02-14T04:50:32.223Z"
   },
   {
    "duration": 185,
    "start_time": "2023-02-14T04:50:32.542Z"
   },
   {
    "duration": 324,
    "start_time": "2023-02-14T04:50:32.729Z"
   },
   {
    "duration": 151,
    "start_time": "2023-02-14T04:50:33.055Z"
   },
   {
    "duration": 5,
    "start_time": "2023-02-14T04:50:33.207Z"
   },
   {
    "duration": 156,
    "start_time": "2023-02-14T04:50:33.213Z"
   },
   {
    "duration": 4,
    "start_time": "2023-02-14T04:50:33.371Z"
   },
   {
    "duration": 31,
    "start_time": "2023-02-14T04:50:33.377Z"
   },
   {
    "duration": 169,
    "start_time": "2023-02-14T04:50:33.410Z"
   },
   {
    "duration": 10,
    "start_time": "2023-02-14T04:50:33.581Z"
   },
   {
    "duration": 9,
    "start_time": "2023-02-14T04:50:33.595Z"
   },
   {
    "duration": 47,
    "start_time": "2023-02-14T04:50:33.606Z"
   },
   {
    "duration": 14,
    "start_time": "2023-02-14T04:50:33.655Z"
   },
   {
    "duration": 4,
    "start_time": "2023-02-14T04:53:16.811Z"
   },
   {
    "duration": 9,
    "start_time": "2023-02-14T04:54:29.883Z"
   },
   {
    "duration": 13,
    "start_time": "2023-02-14T04:55:35.345Z"
   },
   {
    "duration": 9,
    "start_time": "2023-02-14T04:55:54.676Z"
   },
   {
    "duration": 11,
    "start_time": "2023-02-14T04:59:13.749Z"
   },
   {
    "duration": 63,
    "start_time": "2023-02-14T05:09:19.601Z"
   },
   {
    "duration": 1035,
    "start_time": "2023-02-14T05:13:33.496Z"
   },
   {
    "duration": 35,
    "start_time": "2023-02-14T05:13:34.532Z"
   },
   {
    "duration": 10,
    "start_time": "2023-02-14T05:13:34.569Z"
   },
   {
    "duration": 10,
    "start_time": "2023-02-14T05:13:34.581Z"
   },
   {
    "duration": 66,
    "start_time": "2023-02-14T05:13:34.593Z"
   },
   {
    "duration": 4,
    "start_time": "2023-02-14T05:13:34.661Z"
   },
   {
    "duration": 18,
    "start_time": "2023-02-14T05:13:34.667Z"
   },
   {
    "duration": 10,
    "start_time": "2023-02-14T05:13:34.687Z"
   },
   {
    "duration": 32,
    "start_time": "2023-02-14T05:13:34.699Z"
   },
   {
    "duration": 16,
    "start_time": "2023-02-14T05:13:34.732Z"
   },
   {
    "duration": 54,
    "start_time": "2023-02-14T05:13:34.750Z"
   },
   {
    "duration": 3,
    "start_time": "2023-02-14T05:13:34.806Z"
   },
   {
    "duration": 22,
    "start_time": "2023-02-14T05:13:34.811Z"
   },
   {
    "duration": 13,
    "start_time": "2023-02-14T05:13:34.835Z"
   },
   {
    "duration": 323,
    "start_time": "2023-02-14T05:13:34.850Z"
   },
   {
    "duration": 300,
    "start_time": "2023-02-14T05:13:35.175Z"
   },
   {
    "duration": 180,
    "start_time": "2023-02-14T05:13:35.478Z"
   },
   {
    "duration": 307,
    "start_time": "2023-02-14T05:13:35.659Z"
   },
   {
    "duration": 184,
    "start_time": "2023-02-14T05:13:35.967Z"
   },
   {
    "duration": 296,
    "start_time": "2023-02-14T05:13:36.152Z"
   },
   {
    "duration": 120,
    "start_time": "2023-02-14T05:13:36.449Z"
   },
   {
    "duration": 15,
    "start_time": "2023-02-14T05:13:36.571Z"
   },
   {
    "duration": 118,
    "start_time": "2023-02-14T05:13:36.588Z"
   },
   {
    "duration": 4,
    "start_time": "2023-02-14T05:13:36.707Z"
   },
   {
    "duration": 14,
    "start_time": "2023-02-14T05:13:36.713Z"
   },
   {
    "duration": 182,
    "start_time": "2023-02-14T05:13:36.728Z"
   },
   {
    "duration": 9,
    "start_time": "2023-02-14T05:13:36.912Z"
   },
   {
    "duration": 26,
    "start_time": "2023-02-14T05:13:36.922Z"
   },
   {
    "duration": 25,
    "start_time": "2023-02-14T05:13:36.950Z"
   },
   {
    "duration": 13,
    "start_time": "2023-02-14T05:13:36.977Z"
   },
   {
    "duration": 16,
    "start_time": "2023-02-14T05:29:30.923Z"
   },
   {
    "duration": 14,
    "start_time": "2023-02-14T05:31:14.467Z"
   },
   {
    "duration": 1095,
    "start_time": "2023-02-14T05:39:34.668Z"
   },
   {
    "duration": 36,
    "start_time": "2023-02-14T05:39:35.765Z"
   },
   {
    "duration": 13,
    "start_time": "2023-02-14T05:39:35.802Z"
   },
   {
    "duration": 12,
    "start_time": "2023-02-14T05:39:35.817Z"
   },
   {
    "duration": 53,
    "start_time": "2023-02-14T05:39:35.831Z"
   },
   {
    "duration": 7,
    "start_time": "2023-02-14T05:39:35.886Z"
   },
   {
    "duration": 13,
    "start_time": "2023-02-14T05:39:35.894Z"
   },
   {
    "duration": 9,
    "start_time": "2023-02-14T05:39:35.909Z"
   },
   {
    "duration": 14,
    "start_time": "2023-02-14T05:39:35.919Z"
   },
   {
    "duration": 12,
    "start_time": "2023-02-14T05:39:35.935Z"
   },
   {
    "duration": 33,
    "start_time": "2023-02-14T05:39:35.949Z"
   },
   {
    "duration": 4,
    "start_time": "2023-02-14T05:39:35.983Z"
   },
   {
    "duration": 7,
    "start_time": "2023-02-14T05:39:35.988Z"
   },
   {
    "duration": 7,
    "start_time": "2023-02-14T05:39:35.997Z"
   },
   {
    "duration": 279,
    "start_time": "2023-02-14T05:39:36.005Z"
   },
   {
    "duration": 273,
    "start_time": "2023-02-14T05:39:36.286Z"
   },
   {
    "duration": 196,
    "start_time": "2023-02-14T05:39:36.560Z"
   },
   {
    "duration": 292,
    "start_time": "2023-02-14T05:39:36.758Z"
   },
   {
    "duration": 187,
    "start_time": "2023-02-14T05:39:37.051Z"
   },
   {
    "duration": 294,
    "start_time": "2023-02-14T05:39:37.239Z"
   },
   {
    "duration": 138,
    "start_time": "2023-02-14T05:39:37.534Z"
   },
   {
    "duration": 4,
    "start_time": "2023-02-14T05:39:37.673Z"
   },
   {
    "duration": 153,
    "start_time": "2023-02-14T05:39:37.679Z"
   },
   {
    "duration": 5,
    "start_time": "2023-02-14T05:39:37.833Z"
   },
   {
    "duration": 14,
    "start_time": "2023-02-14T05:39:37.847Z"
   },
   {
    "duration": 168,
    "start_time": "2023-02-14T05:39:37.862Z"
   },
   {
    "duration": 19,
    "start_time": "2023-02-14T05:39:38.031Z"
   },
   {
    "duration": 9,
    "start_time": "2023-02-14T05:39:38.051Z"
   },
   {
    "duration": 29,
    "start_time": "2023-02-14T05:39:38.062Z"
   },
   {
    "duration": 12,
    "start_time": "2023-02-14T05:39:38.092Z"
   },
   {
    "duration": 1077,
    "start_time": "2023-02-14T05:44:30.633Z"
   },
   {
    "duration": 50,
    "start_time": "2023-02-14T05:44:31.712Z"
   },
   {
    "duration": 11,
    "start_time": "2023-02-14T05:44:31.764Z"
   },
   {
    "duration": 11,
    "start_time": "2023-02-14T05:44:31.777Z"
   },
   {
    "duration": 57,
    "start_time": "2023-02-14T05:44:31.790Z"
   },
   {
    "duration": 4,
    "start_time": "2023-02-14T05:44:31.849Z"
   },
   {
    "duration": 10,
    "start_time": "2023-02-14T05:44:31.854Z"
   },
   {
    "duration": 4,
    "start_time": "2023-02-14T05:44:31.866Z"
   },
   {
    "duration": 13,
    "start_time": "2023-02-14T05:44:31.872Z"
   },
   {
    "duration": 5,
    "start_time": "2023-02-14T05:44:31.887Z"
   },
   {
    "duration": 29,
    "start_time": "2023-02-14T05:44:31.894Z"
   },
   {
    "duration": 4,
    "start_time": "2023-02-14T05:44:31.925Z"
   },
   {
    "duration": 4,
    "start_time": "2023-02-14T05:44:31.948Z"
   },
   {
    "duration": 5,
    "start_time": "2023-02-14T05:44:31.954Z"
   },
   {
    "duration": 278,
    "start_time": "2023-02-14T05:44:31.961Z"
   },
   {
    "duration": 265,
    "start_time": "2023-02-14T05:44:32.241Z"
   },
   {
    "duration": 189,
    "start_time": "2023-02-14T05:44:32.507Z"
   },
   {
    "duration": 297,
    "start_time": "2023-02-14T05:44:32.698Z"
   },
   {
    "duration": 206,
    "start_time": "2023-02-14T05:44:32.997Z"
   },
   {
    "duration": 335,
    "start_time": "2023-02-14T05:44:33.205Z"
   },
   {
    "duration": 143,
    "start_time": "2023-02-14T05:44:33.547Z"
   },
   {
    "duration": 4,
    "start_time": "2023-02-14T05:44:33.692Z"
   },
   {
    "duration": 159,
    "start_time": "2023-02-14T05:44:33.697Z"
   },
   {
    "duration": 4,
    "start_time": "2023-02-14T05:44:33.858Z"
   },
   {
    "duration": 16,
    "start_time": "2023-02-14T05:44:33.864Z"
   },
   {
    "duration": 203,
    "start_time": "2023-02-14T05:44:33.883Z"
   },
   {
    "duration": 9,
    "start_time": "2023-02-14T05:44:34.088Z"
   },
   {
    "duration": 12,
    "start_time": "2023-02-14T05:44:34.099Z"
   },
   {
    "duration": 52,
    "start_time": "2023-02-14T05:44:34.113Z"
   },
   {
    "duration": 15,
    "start_time": "2023-02-14T05:44:34.167Z"
   },
   {
    "duration": 1195,
    "start_time": "2023-02-14T16:50:03.822Z"
   },
   {
    "duration": 32,
    "start_time": "2023-02-14T16:50:05.019Z"
   },
   {
    "duration": 26,
    "start_time": "2023-02-14T16:50:05.052Z"
   },
   {
    "duration": 13,
    "start_time": "2023-02-14T16:50:05.083Z"
   },
   {
    "duration": 51,
    "start_time": "2023-02-14T16:50:05.098Z"
   },
   {
    "duration": 6,
    "start_time": "2023-02-14T16:50:05.151Z"
   },
   {
    "duration": 9,
    "start_time": "2023-02-14T16:50:05.158Z"
   },
   {
    "duration": 8,
    "start_time": "2023-02-14T16:50:05.169Z"
   },
   {
    "duration": 18,
    "start_time": "2023-02-14T16:50:05.179Z"
   },
   {
    "duration": 9,
    "start_time": "2023-02-14T16:50:05.199Z"
   },
   {
    "duration": 25,
    "start_time": "2023-02-14T16:50:05.210Z"
   },
   {
    "duration": 4,
    "start_time": "2023-02-14T16:50:05.237Z"
   },
   {
    "duration": 22,
    "start_time": "2023-02-14T16:50:05.242Z"
   },
   {
    "duration": 17,
    "start_time": "2023-02-14T16:50:05.266Z"
   },
   {
    "duration": 317,
    "start_time": "2023-02-14T16:50:05.285Z"
   },
   {
    "duration": 285,
    "start_time": "2023-02-14T16:50:05.603Z"
   },
   {
    "duration": 196,
    "start_time": "2023-02-14T16:50:05.890Z"
   },
   {
    "duration": 322,
    "start_time": "2023-02-14T16:50:06.088Z"
   },
   {
    "duration": 195,
    "start_time": "2023-02-14T16:50:06.412Z"
   },
   {
    "duration": 303,
    "start_time": "2023-02-14T16:50:06.608Z"
   },
   {
    "duration": 139,
    "start_time": "2023-02-14T16:50:06.912Z"
   },
   {
    "duration": 4,
    "start_time": "2023-02-14T16:50:07.052Z"
   },
   {
    "duration": 152,
    "start_time": "2023-02-14T16:50:07.058Z"
   },
   {
    "duration": 4,
    "start_time": "2023-02-14T16:50:07.212Z"
   },
   {
    "duration": 15,
    "start_time": "2023-02-14T16:50:07.217Z"
   },
   {
    "duration": 173,
    "start_time": "2023-02-14T16:50:07.234Z"
   },
   {
    "duration": 9,
    "start_time": "2023-02-14T16:50:07.409Z"
   },
   {
    "duration": 9,
    "start_time": "2023-02-14T16:50:07.420Z"
   },
   {
    "duration": 25,
    "start_time": "2023-02-14T16:50:07.431Z"
   },
   {
    "duration": 39,
    "start_time": "2023-02-14T16:50:07.457Z"
   },
   {
    "duration": 1067,
    "start_time": "2023-02-14T17:00:08.922Z"
   },
   {
    "duration": 33,
    "start_time": "2023-02-14T17:00:09.990Z"
   },
   {
    "duration": 12,
    "start_time": "2023-02-14T17:00:10.025Z"
   },
   {
    "duration": 20,
    "start_time": "2023-02-14T17:00:10.038Z"
   },
   {
    "duration": 59,
    "start_time": "2023-02-14T17:00:10.060Z"
   },
   {
    "duration": 5,
    "start_time": "2023-02-14T17:00:10.120Z"
   },
   {
    "duration": 30,
    "start_time": "2023-02-14T17:00:10.126Z"
   },
   {
    "duration": 21,
    "start_time": "2023-02-14T17:00:10.157Z"
   },
   {
    "duration": 24,
    "start_time": "2023-02-14T17:00:10.179Z"
   },
   {
    "duration": 12,
    "start_time": "2023-02-14T17:00:10.204Z"
   },
   {
    "duration": 26,
    "start_time": "2023-02-14T17:00:10.218Z"
   },
   {
    "duration": 4,
    "start_time": "2023-02-14T17:00:10.245Z"
   },
   {
    "duration": 11,
    "start_time": "2023-02-14T17:00:10.250Z"
   },
   {
    "duration": 15,
    "start_time": "2023-02-14T17:00:10.263Z"
   },
   {
    "duration": 282,
    "start_time": "2023-02-14T17:00:10.280Z"
   },
   {
    "duration": 271,
    "start_time": "2023-02-14T17:00:10.563Z"
   },
   {
    "duration": 205,
    "start_time": "2023-02-14T17:00:10.836Z"
   },
   {
    "duration": 270,
    "start_time": "2023-02-14T17:00:11.043Z"
   },
   {
    "duration": 194,
    "start_time": "2023-02-14T17:00:11.315Z"
   },
   {
    "duration": 274,
    "start_time": "2023-02-14T17:00:11.511Z"
   },
   {
    "duration": 147,
    "start_time": "2023-02-14T17:00:11.787Z"
   },
   {
    "duration": 4,
    "start_time": "2023-02-14T17:00:11.935Z"
   },
   {
    "duration": 139,
    "start_time": "2023-02-14T17:00:11.941Z"
   },
   {
    "duration": 5,
    "start_time": "2023-02-14T17:00:12.081Z"
   },
   {
    "duration": 15,
    "start_time": "2023-02-14T17:00:12.097Z"
   },
   {
    "duration": 172,
    "start_time": "2023-02-14T17:00:12.113Z"
   },
   {
    "duration": 13,
    "start_time": "2023-02-14T17:00:12.287Z"
   },
   {
    "duration": 13,
    "start_time": "2023-02-14T17:00:12.302Z"
   },
   {
    "duration": 55,
    "start_time": "2023-02-14T17:00:12.316Z"
   },
   {
    "duration": 29,
    "start_time": "2023-02-14T17:00:12.372Z"
   },
   {
    "duration": 1192,
    "start_time": "2023-02-14T17:31:33.314Z"
   },
   {
    "duration": 89,
    "start_time": "2023-02-14T17:31:34.507Z"
   },
   {
    "duration": 12,
    "start_time": "2023-02-14T17:31:34.597Z"
   },
   {
    "duration": 22,
    "start_time": "2023-02-14T17:31:34.610Z"
   },
   {
    "duration": 115,
    "start_time": "2023-02-14T17:31:34.634Z"
   },
   {
    "duration": 5,
    "start_time": "2023-02-14T17:31:34.751Z"
   },
   {
    "duration": 15,
    "start_time": "2023-02-14T17:31:34.758Z"
   },
   {
    "duration": 18,
    "start_time": "2023-02-14T17:31:34.774Z"
   },
   {
    "duration": 15,
    "start_time": "2023-02-14T17:31:34.794Z"
   },
   {
    "duration": 8,
    "start_time": "2023-02-14T17:31:34.810Z"
   },
   {
    "duration": 80,
    "start_time": "2023-02-14T17:31:34.820Z"
   },
   {
    "duration": 5,
    "start_time": "2023-02-14T17:31:34.902Z"
   },
   {
    "duration": 32,
    "start_time": "2023-02-14T17:31:34.909Z"
   },
   {
    "duration": 9,
    "start_time": "2023-02-14T17:31:34.943Z"
   },
   {
    "duration": 265,
    "start_time": "2023-02-14T17:31:34.953Z"
   },
   {
    "duration": 298,
    "start_time": "2023-02-14T17:31:35.219Z"
   },
   {
    "duration": 183,
    "start_time": "2023-02-14T17:31:35.519Z"
   },
   {
    "duration": 329,
    "start_time": "2023-02-14T17:31:35.704Z"
   },
   {
    "duration": 177,
    "start_time": "2023-02-14T17:31:36.035Z"
   },
   {
    "duration": 304,
    "start_time": "2023-02-14T17:31:36.214Z"
   },
   {
    "duration": 135,
    "start_time": "2023-02-14T17:31:36.520Z"
   },
   {
    "duration": 4,
    "start_time": "2023-02-14T17:31:36.657Z"
   },
   {
    "duration": 131,
    "start_time": "2023-02-14T17:31:36.662Z"
   },
   {
    "duration": 4,
    "start_time": "2023-02-14T17:31:36.794Z"
   },
   {
    "duration": 18,
    "start_time": "2023-02-14T17:31:36.800Z"
   },
   {
    "duration": 162,
    "start_time": "2023-02-14T17:31:36.820Z"
   },
   {
    "duration": 12,
    "start_time": "2023-02-14T17:31:36.984Z"
   },
   {
    "duration": 8,
    "start_time": "2023-02-14T17:31:36.998Z"
   },
   {
    "duration": 27,
    "start_time": "2023-02-14T17:31:37.008Z"
   },
   {
    "duration": 13,
    "start_time": "2023-02-14T17:31:37.036Z"
   },
   {
    "duration": 99,
    "start_time": "2023-02-14T17:33:22.267Z"
   },
   {
    "duration": 14,
    "start_time": "2023-02-14T17:33:29.888Z"
   },
   {
    "duration": 3,
    "start_time": "2023-02-14T17:33:45.568Z"
   },
   {
    "duration": 9,
    "start_time": "2023-02-14T17:34:36.038Z"
   },
   {
    "duration": 9,
    "start_time": "2023-02-14T17:35:16.653Z"
   },
   {
    "duration": 4,
    "start_time": "2023-02-14T17:35:24.437Z"
   },
   {
    "duration": 1023,
    "start_time": "2023-02-14T17:35:40.939Z"
   },
   {
    "duration": 49,
    "start_time": "2023-02-14T17:35:41.964Z"
   },
   {
    "duration": 12,
    "start_time": "2023-02-14T17:35:42.018Z"
   },
   {
    "duration": 10,
    "start_time": "2023-02-14T17:35:42.032Z"
   },
   {
    "duration": 54,
    "start_time": "2023-02-14T17:35:42.044Z"
   },
   {
    "duration": 5,
    "start_time": "2023-02-14T17:35:42.099Z"
   },
   {
    "duration": 12,
    "start_time": "2023-02-14T17:35:42.105Z"
   },
   {
    "duration": 13,
    "start_time": "2023-02-14T17:35:42.119Z"
   },
   {
    "duration": 14,
    "start_time": "2023-02-14T17:35:42.134Z"
   },
   {
    "duration": 2,
    "start_time": "2023-02-14T17:35:42.150Z"
   },
   {
    "duration": 14,
    "start_time": "2023-02-14T17:35:42.153Z"
   },
   {
    "duration": 28,
    "start_time": "2023-02-14T17:35:42.168Z"
   },
   {
    "duration": 4,
    "start_time": "2023-02-14T17:35:42.197Z"
   },
   {
    "duration": 13,
    "start_time": "2023-02-14T17:35:42.202Z"
   },
   {
    "duration": 7,
    "start_time": "2023-02-14T17:35:42.217Z"
   },
   {
    "duration": 278,
    "start_time": "2023-02-14T17:35:42.226Z"
   },
   {
    "duration": 255,
    "start_time": "2023-02-14T17:35:42.506Z"
   },
   {
    "duration": 175,
    "start_time": "2023-02-14T17:35:42.763Z"
   },
   {
    "duration": 277,
    "start_time": "2023-02-14T17:35:42.940Z"
   },
   {
    "duration": 190,
    "start_time": "2023-02-14T17:35:43.219Z"
   },
   {
    "duration": 284,
    "start_time": "2023-02-14T17:35:43.410Z"
   },
   {
    "duration": 137,
    "start_time": "2023-02-14T17:35:43.696Z"
   },
   {
    "duration": 5,
    "start_time": "2023-02-14T17:35:43.835Z"
   },
   {
    "duration": 144,
    "start_time": "2023-02-14T17:35:43.841Z"
   },
   {
    "duration": 4,
    "start_time": "2023-02-14T17:35:43.991Z"
   },
   {
    "duration": 22,
    "start_time": "2023-02-14T17:35:43.997Z"
   },
   {
    "duration": 160,
    "start_time": "2023-02-14T17:35:44.022Z"
   },
   {
    "duration": 18,
    "start_time": "2023-02-14T17:35:44.184Z"
   },
   {
    "duration": 15,
    "start_time": "2023-02-14T17:35:44.205Z"
   },
   {
    "duration": 29,
    "start_time": "2023-02-14T17:35:44.222Z"
   },
   {
    "duration": 42,
    "start_time": "2023-02-14T17:35:44.253Z"
   },
   {
    "duration": 3,
    "start_time": "2023-02-14T17:36:05.176Z"
   },
   {
    "duration": 91,
    "start_time": "2023-02-14T17:39:06.660Z"
   },
   {
    "duration": 3,
    "start_time": "2023-02-14T17:39:44.419Z"
   },
   {
    "duration": 8,
    "start_time": "2023-02-14T17:43:01.172Z"
   },
   {
    "duration": 8,
    "start_time": "2023-02-14T17:43:43.233Z"
   },
   {
    "duration": 11,
    "start_time": "2023-02-14T17:44:18.011Z"
   },
   {
    "duration": 9,
    "start_time": "2023-02-14T17:44:28.810Z"
   },
   {
    "duration": 12,
    "start_time": "2023-02-14T17:45:55.854Z"
   },
   {
    "duration": 13,
    "start_time": "2023-02-14T17:46:04.826Z"
   },
   {
    "duration": 11,
    "start_time": "2023-02-14T17:48:39.578Z"
   },
   {
    "duration": 9,
    "start_time": "2023-02-14T17:49:10.563Z"
   },
   {
    "duration": 9,
    "start_time": "2023-02-14T17:49:25.159Z"
   },
   {
    "duration": 8,
    "start_time": "2023-02-14T17:49:41.933Z"
   },
   {
    "duration": 1016,
    "start_time": "2023-02-14T17:49:53.236Z"
   },
   {
    "duration": 35,
    "start_time": "2023-02-14T17:49:54.254Z"
   },
   {
    "duration": 11,
    "start_time": "2023-02-14T17:49:54.290Z"
   },
   {
    "duration": 17,
    "start_time": "2023-02-14T17:49:54.302Z"
   },
   {
    "duration": 61,
    "start_time": "2023-02-14T17:49:54.321Z"
   },
   {
    "duration": 5,
    "start_time": "2023-02-14T17:49:54.383Z"
   },
   {
    "duration": 21,
    "start_time": "2023-02-14T17:49:54.389Z"
   },
   {
    "duration": 8,
    "start_time": "2023-02-14T17:49:54.412Z"
   },
   {
    "duration": 14,
    "start_time": "2023-02-14T17:49:54.421Z"
   },
   {
    "duration": 2,
    "start_time": "2023-02-14T17:49:54.437Z"
   },
   {
    "duration": 20,
    "start_time": "2023-02-14T17:49:54.441Z"
   },
   {
    "duration": 45,
    "start_time": "2023-02-14T17:49:54.462Z"
   },
   {
    "duration": 4,
    "start_time": "2023-02-14T17:49:54.508Z"
   },
   {
    "duration": 6,
    "start_time": "2023-02-14T17:49:54.514Z"
   },
   {
    "duration": 7,
    "start_time": "2023-02-14T17:49:54.522Z"
   },
   {
    "duration": 277,
    "start_time": "2023-02-14T17:49:54.530Z"
   },
   {
    "duration": 266,
    "start_time": "2023-02-14T17:49:54.809Z"
   },
   {
    "duration": 182,
    "start_time": "2023-02-14T17:49:55.076Z"
   },
   {
    "duration": 307,
    "start_time": "2023-02-14T17:49:55.260Z"
   },
   {
    "duration": 183,
    "start_time": "2023-02-14T17:49:55.569Z"
   },
   {
    "duration": 313,
    "start_time": "2023-02-14T17:49:55.754Z"
   },
   {
    "duration": 133,
    "start_time": "2023-02-14T17:49:56.069Z"
   },
   {
    "duration": 5,
    "start_time": "2023-02-14T17:49:56.204Z"
   },
   {
    "duration": 180,
    "start_time": "2023-02-14T17:49:56.211Z"
   },
   {
    "duration": 6,
    "start_time": "2023-02-14T17:49:56.393Z"
   },
   {
    "duration": 29,
    "start_time": "2023-02-14T17:49:56.400Z"
   },
   {
    "duration": 227,
    "start_time": "2023-02-14T17:49:56.431Z"
   },
   {
    "duration": 9,
    "start_time": "2023-02-14T17:49:56.661Z"
   },
   {
    "duration": 26,
    "start_time": "2023-02-14T17:49:56.672Z"
   },
   {
    "duration": 47,
    "start_time": "2023-02-14T17:49:56.699Z"
   },
   {
    "duration": 12,
    "start_time": "2023-02-14T17:49:56.748Z"
   },
   {
    "duration": 13,
    "start_time": "2023-02-14T17:50:40.956Z"
   },
   {
    "duration": 48,
    "start_time": "2023-02-15T07:37:48.438Z"
   },
   {
    "duration": 1177,
    "start_time": "2023-02-15T07:38:20.100Z"
   },
   {
    "duration": 96,
    "start_time": "2023-02-15T07:38:21.279Z"
   },
   {
    "duration": 12,
    "start_time": "2023-02-15T07:38:21.377Z"
   },
   {
    "duration": 9,
    "start_time": "2023-02-15T07:38:21.392Z"
   },
   {
    "duration": 119,
    "start_time": "2023-02-15T07:38:21.403Z"
   },
   {
    "duration": 0,
    "start_time": "2023-02-15T07:38:21.525Z"
   },
   {
    "duration": 0,
    "start_time": "2023-02-15T07:38:21.527Z"
   },
   {
    "duration": 0,
    "start_time": "2023-02-15T07:38:21.528Z"
   },
   {
    "duration": 0,
    "start_time": "2023-02-15T07:38:21.529Z"
   },
   {
    "duration": 0,
    "start_time": "2023-02-15T07:38:21.530Z"
   },
   {
    "duration": 0,
    "start_time": "2023-02-15T07:38:21.532Z"
   },
   {
    "duration": 0,
    "start_time": "2023-02-15T07:38:21.533Z"
   },
   {
    "duration": 0,
    "start_time": "2023-02-15T07:38:21.534Z"
   },
   {
    "duration": 0,
    "start_time": "2023-02-15T07:38:21.535Z"
   },
   {
    "duration": 0,
    "start_time": "2023-02-15T07:38:21.537Z"
   },
   {
    "duration": 0,
    "start_time": "2023-02-15T07:38:21.538Z"
   },
   {
    "duration": 0,
    "start_time": "2023-02-15T07:38:21.539Z"
   },
   {
    "duration": 0,
    "start_time": "2023-02-15T07:38:21.541Z"
   },
   {
    "duration": 0,
    "start_time": "2023-02-15T07:38:21.567Z"
   },
   {
    "duration": 0,
    "start_time": "2023-02-15T07:38:21.568Z"
   },
   {
    "duration": 0,
    "start_time": "2023-02-15T07:38:21.570Z"
   },
   {
    "duration": 0,
    "start_time": "2023-02-15T07:38:21.571Z"
   },
   {
    "duration": 0,
    "start_time": "2023-02-15T07:38:21.572Z"
   },
   {
    "duration": 0,
    "start_time": "2023-02-15T07:38:21.573Z"
   },
   {
    "duration": 0,
    "start_time": "2023-02-15T07:38:21.575Z"
   },
   {
    "duration": 0,
    "start_time": "2023-02-15T07:38:21.577Z"
   },
   {
    "duration": 0,
    "start_time": "2023-02-15T07:38:21.578Z"
   },
   {
    "duration": 0,
    "start_time": "2023-02-15T07:38:21.579Z"
   },
   {
    "duration": 0,
    "start_time": "2023-02-15T07:38:21.580Z"
   },
   {
    "duration": 0,
    "start_time": "2023-02-15T07:38:21.581Z"
   },
   {
    "duration": 0,
    "start_time": "2023-02-15T07:38:21.583Z"
   },
   {
    "duration": 0,
    "start_time": "2023-02-15T07:38:21.584Z"
   },
   {
    "duration": 12,
    "start_time": "2023-02-15T07:38:49.209Z"
   },
   {
    "duration": 1050,
    "start_time": "2023-02-15T07:39:25.490Z"
   },
   {
    "duration": 36,
    "start_time": "2023-02-15T07:39:26.541Z"
   },
   {
    "duration": 10,
    "start_time": "2023-02-15T07:39:26.578Z"
   },
   {
    "duration": 10,
    "start_time": "2023-02-15T07:39:26.590Z"
   },
   {
    "duration": 264,
    "start_time": "2023-02-15T07:39:26.601Z"
   },
   {
    "duration": 0,
    "start_time": "2023-02-15T07:39:26.867Z"
   },
   {
    "duration": 0,
    "start_time": "2023-02-15T07:39:26.868Z"
   },
   {
    "duration": 0,
    "start_time": "2023-02-15T07:39:26.869Z"
   },
   {
    "duration": 0,
    "start_time": "2023-02-15T07:39:26.870Z"
   },
   {
    "duration": 0,
    "start_time": "2023-02-15T07:39:26.871Z"
   },
   {
    "duration": 0,
    "start_time": "2023-02-15T07:39:26.872Z"
   },
   {
    "duration": 0,
    "start_time": "2023-02-15T07:39:26.873Z"
   },
   {
    "duration": 0,
    "start_time": "2023-02-15T07:39:26.874Z"
   },
   {
    "duration": 0,
    "start_time": "2023-02-15T07:39:26.875Z"
   },
   {
    "duration": 0,
    "start_time": "2023-02-15T07:39:26.876Z"
   },
   {
    "duration": 0,
    "start_time": "2023-02-15T07:39:26.877Z"
   },
   {
    "duration": 0,
    "start_time": "2023-02-15T07:39:26.878Z"
   },
   {
    "duration": 0,
    "start_time": "2023-02-15T07:39:26.879Z"
   },
   {
    "duration": 0,
    "start_time": "2023-02-15T07:39:26.880Z"
   },
   {
    "duration": 0,
    "start_time": "2023-02-15T07:39:26.881Z"
   },
   {
    "duration": 0,
    "start_time": "2023-02-15T07:39:26.881Z"
   },
   {
    "duration": 0,
    "start_time": "2023-02-15T07:39:26.882Z"
   },
   {
    "duration": 0,
    "start_time": "2023-02-15T07:39:26.883Z"
   },
   {
    "duration": 0,
    "start_time": "2023-02-15T07:39:26.884Z"
   },
   {
    "duration": 0,
    "start_time": "2023-02-15T07:39:26.885Z"
   },
   {
    "duration": 0,
    "start_time": "2023-02-15T07:39:26.885Z"
   },
   {
    "duration": 0,
    "start_time": "2023-02-15T07:39:26.887Z"
   },
   {
    "duration": 0,
    "start_time": "2023-02-15T07:39:26.887Z"
   },
   {
    "duration": 0,
    "start_time": "2023-02-15T07:39:26.888Z"
   },
   {
    "duration": 0,
    "start_time": "2023-02-15T07:39:26.889Z"
   },
   {
    "duration": 0,
    "start_time": "2023-02-15T07:39:26.890Z"
   },
   {
    "duration": 0,
    "start_time": "2023-02-15T07:39:26.892Z"
   },
   {
    "duration": 158,
    "start_time": "2023-02-15T07:40:03.697Z"
   },
   {
    "duration": 13,
    "start_time": "2023-02-15T07:40:34.066Z"
   },
   {
    "duration": 148,
    "start_time": "2023-02-15T07:40:56.113Z"
   },
   {
    "duration": 143,
    "start_time": "2023-02-15T07:41:52.033Z"
   },
   {
    "duration": 154,
    "start_time": "2023-02-15T07:42:40.152Z"
   },
   {
    "duration": 9,
    "start_time": "2023-02-15T07:42:58.281Z"
   },
   {
    "duration": 9,
    "start_time": "2023-02-15T07:43:23.265Z"
   },
   {
    "duration": 16,
    "start_time": "2023-02-15T07:43:34.000Z"
   },
   {
    "duration": 389,
    "start_time": "2023-02-15T07:43:46.512Z"
   },
   {
    "duration": 359,
    "start_time": "2023-02-15T07:43:58.719Z"
   },
   {
    "duration": 351,
    "start_time": "2023-02-15T07:44:15.975Z"
   },
   {
    "duration": 365,
    "start_time": "2023-02-15T07:44:22.744Z"
   },
   {
    "duration": 420,
    "start_time": "2023-02-15T07:44:42.294Z"
   },
   {
    "duration": 13,
    "start_time": "2023-02-15T07:45:23.614Z"
   },
   {
    "duration": 326,
    "start_time": "2023-02-15T07:45:35.094Z"
   },
   {
    "duration": 13,
    "start_time": "2023-02-15T07:45:51.431Z"
   },
   {
    "duration": 366,
    "start_time": "2023-02-15T07:46:03.374Z"
   },
   {
    "duration": 305,
    "start_time": "2023-02-15T07:46:10.198Z"
   },
   {
    "duration": 1149,
    "start_time": "2023-02-15T07:47:06.569Z"
   },
   {
    "duration": 35,
    "start_time": "2023-02-15T07:47:07.719Z"
   },
   {
    "duration": 12,
    "start_time": "2023-02-15T07:47:07.755Z"
   },
   {
    "duration": 11,
    "start_time": "2023-02-15T07:47:07.769Z"
   },
   {
    "duration": 384,
    "start_time": "2023-02-15T07:47:07.782Z"
   },
   {
    "duration": 111,
    "start_time": "2023-02-15T07:47:08.168Z"
   },
   {
    "duration": 5,
    "start_time": "2023-02-15T07:47:08.281Z"
   },
   {
    "duration": 21,
    "start_time": "2023-02-15T07:47:08.287Z"
   },
   {
    "duration": 21,
    "start_time": "2023-02-15T07:47:08.309Z"
   },
   {
    "duration": 30,
    "start_time": "2023-02-15T07:47:08.331Z"
   },
   {
    "duration": 3,
    "start_time": "2023-02-15T07:47:08.362Z"
   },
   {
    "duration": 24,
    "start_time": "2023-02-15T07:47:08.367Z"
   },
   {
    "duration": 110,
    "start_time": "2023-02-15T07:47:08.392Z"
   },
   {
    "duration": 4,
    "start_time": "2023-02-15T07:47:08.504Z"
   },
   {
    "duration": 13,
    "start_time": "2023-02-15T07:47:08.509Z"
   },
   {
    "duration": 10,
    "start_time": "2023-02-15T07:47:08.524Z"
   },
   {
    "duration": 286,
    "start_time": "2023-02-15T07:47:08.536Z"
   },
   {
    "duration": 352,
    "start_time": "2023-02-15T07:47:08.825Z"
   },
   {
    "duration": 258,
    "start_time": "2023-02-15T07:47:09.179Z"
   },
   {
    "duration": 379,
    "start_time": "2023-02-15T07:47:09.439Z"
   },
   {
    "duration": 238,
    "start_time": "2023-02-15T07:47:09.820Z"
   },
   {
    "duration": 342,
    "start_time": "2023-02-15T07:47:10.067Z"
   },
   {
    "duration": 158,
    "start_time": "2023-02-15T07:47:10.411Z"
   },
   {
    "duration": 4,
    "start_time": "2023-02-15T07:47:10.570Z"
   },
   {
    "duration": 151,
    "start_time": "2023-02-15T07:47:10.575Z"
   },
   {
    "duration": 3,
    "start_time": "2023-02-15T07:47:10.728Z"
   },
   {
    "duration": 26,
    "start_time": "2023-02-15T07:47:10.733Z"
   },
   {
    "duration": 209,
    "start_time": "2023-02-15T07:47:10.760Z"
   },
   {
    "duration": 9,
    "start_time": "2023-02-15T07:47:10.970Z"
   },
   {
    "duration": 12,
    "start_time": "2023-02-15T07:47:10.980Z"
   },
   {
    "duration": 27,
    "start_time": "2023-02-15T07:47:10.994Z"
   },
   {
    "duration": 12,
    "start_time": "2023-02-15T07:47:11.022Z"
   },
   {
    "duration": 16,
    "start_time": "2023-02-15T07:50:53.000Z"
   },
   {
    "duration": 11,
    "start_time": "2023-02-15T07:52:21.994Z"
   },
   {
    "duration": 9,
    "start_time": "2023-02-15T07:52:42.713Z"
   },
   {
    "duration": 11,
    "start_time": "2023-02-15T07:52:56.369Z"
   },
   {
    "duration": 10,
    "start_time": "2023-02-15T07:53:11.545Z"
   },
   {
    "duration": 123,
    "start_time": "2023-02-15T07:53:36.681Z"
   },
   {
    "duration": 10,
    "start_time": "2023-02-15T07:53:41.466Z"
   },
   {
    "duration": 9,
    "start_time": "2023-02-15T07:54:03.720Z"
   },
   {
    "duration": 9,
    "start_time": "2023-02-15T07:54:49.064Z"
   },
   {
    "duration": 24,
    "start_time": "2023-02-15T07:59:39.075Z"
   },
   {
    "duration": 8,
    "start_time": "2023-02-15T08:00:31.107Z"
   },
   {
    "duration": 14,
    "start_time": "2023-02-15T08:01:37.761Z"
   },
   {
    "duration": 8,
    "start_time": "2023-02-15T08:01:56.273Z"
   },
   {
    "duration": 852,
    "start_time": "2023-02-15T08:03:04.336Z"
   },
   {
    "duration": 53,
    "start_time": "2023-02-15T08:03:44.288Z"
   },
   {
    "duration": 16,
    "start_time": "2023-02-15T08:03:56.414Z"
   },
   {
    "duration": 725,
    "start_time": "2023-02-15T08:06:23.756Z"
   },
   {
    "duration": 1079,
    "start_time": "2023-02-15T08:07:16.491Z"
   },
   {
    "duration": 823,
    "start_time": "2023-02-15T08:07:44.632Z"
   },
   {
    "duration": 11,
    "start_time": "2023-02-15T08:09:11.429Z"
   },
   {
    "duration": 140,
    "start_time": "2023-02-15T08:09:33.771Z"
   },
   {
    "duration": 15,
    "start_time": "2023-02-15T08:09:37.850Z"
   },
   {
    "duration": 14,
    "start_time": "2023-02-15T08:09:48.242Z"
   },
   {
    "duration": 13,
    "start_time": "2023-02-15T08:10:17.058Z"
   },
   {
    "duration": 7,
    "start_time": "2023-02-15T08:40:15.461Z"
   },
   {
    "duration": 6,
    "start_time": "2023-02-15T08:40:39.572Z"
   },
   {
    "duration": 4,
    "start_time": "2023-02-15T08:43:46.595Z"
   },
   {
    "duration": 5,
    "start_time": "2023-02-15T08:47:39.512Z"
   },
   {
    "duration": 14,
    "start_time": "2023-02-15T08:48:38.884Z"
   },
   {
    "duration": 3,
    "start_time": "2023-02-15T08:48:47.440Z"
   },
   {
    "duration": 14,
    "start_time": "2023-02-15T08:48:50.137Z"
   },
   {
    "duration": 14,
    "start_time": "2023-02-15T08:49:40.691Z"
   },
   {
    "duration": 4,
    "start_time": "2023-02-15T08:51:33.008Z"
   },
   {
    "duration": 1149,
    "start_time": "2023-02-15T08:51:55.544Z"
   },
   {
    "duration": 37,
    "start_time": "2023-02-15T08:51:56.695Z"
   },
   {
    "duration": 11,
    "start_time": "2023-02-15T08:51:56.734Z"
   },
   {
    "duration": 16,
    "start_time": "2023-02-15T08:51:56.748Z"
   },
   {
    "duration": 393,
    "start_time": "2023-02-15T08:51:56.765Z"
   },
   {
    "duration": 52,
    "start_time": "2023-02-15T08:51:57.159Z"
   },
   {
    "duration": 5,
    "start_time": "2023-02-15T08:51:57.213Z"
   },
   {
    "duration": 12,
    "start_time": "2023-02-15T08:51:57.220Z"
   },
   {
    "duration": 7,
    "start_time": "2023-02-15T08:51:57.233Z"
   },
   {
    "duration": 138,
    "start_time": "2023-02-15T08:51:57.243Z"
   },
   {
    "duration": 13,
    "start_time": "2023-02-15T08:51:57.382Z"
   },
   {
    "duration": 7,
    "start_time": "2023-02-15T08:51:57.396Z"
   },
   {
    "duration": 13,
    "start_time": "2023-02-15T08:51:57.404Z"
   },
   {
    "duration": 8,
    "start_time": "2023-02-15T08:51:57.418Z"
   },
   {
    "duration": 17,
    "start_time": "2023-02-15T08:51:57.427Z"
   },
   {
    "duration": 5,
    "start_time": "2023-02-15T08:51:57.445Z"
   },
   {
    "duration": 28,
    "start_time": "2023-02-15T08:51:57.466Z"
   },
   {
    "duration": 3,
    "start_time": "2023-02-15T08:51:57.495Z"
   },
   {
    "duration": 9,
    "start_time": "2023-02-15T08:51:57.499Z"
   },
   {
    "duration": 9,
    "start_time": "2023-02-15T08:51:57.510Z"
   },
   {
    "duration": 257,
    "start_time": "2023-02-15T08:51:57.521Z"
   },
   {
    "duration": 335,
    "start_time": "2023-02-15T08:51:57.780Z"
   },
   {
    "duration": 276,
    "start_time": "2023-02-15T08:51:58.117Z"
   },
   {
    "duration": 358,
    "start_time": "2023-02-15T08:51:58.395Z"
   },
   {
    "duration": 265,
    "start_time": "2023-02-15T08:51:58.755Z"
   },
   {
    "duration": 419,
    "start_time": "2023-02-15T08:51:59.022Z"
   },
   {
    "duration": 174,
    "start_time": "2023-02-15T08:51:59.443Z"
   },
   {
    "duration": 4,
    "start_time": "2023-02-15T08:51:59.620Z"
   },
   {
    "duration": 222,
    "start_time": "2023-02-15T08:51:59.626Z"
   },
   {
    "duration": 4,
    "start_time": "2023-02-15T08:51:59.849Z"
   },
   {
    "duration": 22,
    "start_time": "2023-02-15T08:51:59.854Z"
   },
   {
    "duration": 138,
    "start_time": "2023-02-15T08:51:59.878Z"
   },
   {
    "duration": 10,
    "start_time": "2023-02-15T08:52:00.018Z"
   },
   {
    "duration": 11,
    "start_time": "2023-02-15T08:52:00.029Z"
   },
   {
    "duration": 43,
    "start_time": "2023-02-15T08:52:00.042Z"
   },
   {
    "duration": 13,
    "start_time": "2023-02-15T08:52:00.086Z"
   },
   {
    "duration": 257,
    "start_time": "2023-02-15T08:53:59.660Z"
   },
   {
    "duration": 242,
    "start_time": "2023-02-15T08:54:18.980Z"
   },
   {
    "duration": 413,
    "start_time": "2023-02-15T08:54:38.803Z"
   },
   {
    "duration": 345,
    "start_time": "2023-02-15T08:55:08.915Z"
   },
   {
    "duration": 295,
    "start_time": "2023-02-15T08:55:21.906Z"
   },
   {
    "duration": 297,
    "start_time": "2023-02-15T08:55:31.795Z"
   },
   {
    "duration": 392,
    "start_time": "2023-02-15T08:56:01.435Z"
   },
   {
    "duration": 451,
    "start_time": "2023-02-15T08:56:26.451Z"
   },
   {
    "duration": 276,
    "start_time": "2023-02-15T08:57:03.953Z"
   },
   {
    "duration": 277,
    "start_time": "2023-02-15T08:58:00.265Z"
   },
   {
    "duration": 238,
    "start_time": "2023-02-15T08:58:08.513Z"
   },
   {
    "duration": 376,
    "start_time": "2023-02-15T08:58:38.123Z"
   },
   {
    "duration": 271,
    "start_time": "2023-02-15T08:59:13.217Z"
   },
   {
    "duration": 255,
    "start_time": "2023-02-15T08:59:23.553Z"
   },
   {
    "duration": 301,
    "start_time": "2023-02-15T08:59:40.072Z"
   },
   {
    "duration": 343,
    "start_time": "2023-02-15T08:59:47.913Z"
   },
   {
    "duration": 266,
    "start_time": "2023-02-15T09:00:02.153Z"
   },
   {
    "duration": 71,
    "start_time": "2023-02-15T09:02:29.686Z"
   },
   {
    "duration": 311,
    "start_time": "2023-02-15T09:02:39.573Z"
   },
   {
    "duration": 346,
    "start_time": "2023-02-15T09:02:51.599Z"
   },
   {
    "duration": 14,
    "start_time": "2023-02-15T09:09:48.272Z"
   },
   {
    "duration": 230,
    "start_time": "2023-02-15T09:10:05.048Z"
   },
   {
    "duration": 10,
    "start_time": "2023-02-15T09:14:17.372Z"
   },
   {
    "duration": 28,
    "start_time": "2023-02-15T09:14:22.931Z"
   },
   {
    "duration": 65,
    "start_time": "2023-02-15T09:21:02.727Z"
   },
   {
    "duration": 16,
    "start_time": "2023-02-15T09:23:29.670Z"
   },
   {
    "duration": 1121,
    "start_time": "2023-02-15T09:23:48.388Z"
   },
   {
    "duration": 37,
    "start_time": "2023-02-15T09:23:49.511Z"
   },
   {
    "duration": 12,
    "start_time": "2023-02-15T09:23:49.549Z"
   },
   {
    "duration": 9,
    "start_time": "2023-02-15T09:23:49.563Z"
   },
   {
    "duration": 343,
    "start_time": "2023-02-15T09:23:49.573Z"
   },
   {
    "duration": 54,
    "start_time": "2023-02-15T09:23:49.918Z"
   },
   {
    "duration": 8,
    "start_time": "2023-02-15T09:23:49.974Z"
   },
   {
    "duration": 40,
    "start_time": "2023-02-15T09:23:49.992Z"
   },
   {
    "duration": 29,
    "start_time": "2023-02-15T09:23:50.034Z"
   },
   {
    "duration": 161,
    "start_time": "2023-02-15T09:23:50.065Z"
   },
   {
    "duration": 15,
    "start_time": "2023-02-15T09:23:50.228Z"
   },
   {
    "duration": 35,
    "start_time": "2023-02-15T09:23:50.245Z"
   },
   {
    "duration": 4,
    "start_time": "2023-02-15T09:23:50.282Z"
   },
   {
    "duration": 20,
    "start_time": "2023-02-15T09:23:50.287Z"
   },
   {
    "duration": 20,
    "start_time": "2023-02-15T09:23:50.309Z"
   },
   {
    "duration": 278,
    "start_time": "2023-02-15T09:23:50.331Z"
   },
   {
    "duration": 356,
    "start_time": "2023-02-15T09:23:50.611Z"
   },
   {
    "duration": 277,
    "start_time": "2023-02-15T09:23:50.970Z"
   },
   {
    "duration": 379,
    "start_time": "2023-02-15T09:23:51.249Z"
   },
   {
    "duration": 282,
    "start_time": "2023-02-15T09:23:51.630Z"
   },
   {
    "duration": 363,
    "start_time": "2023-02-15T09:23:51.914Z"
   },
   {
    "duration": 170,
    "start_time": "2023-02-15T09:23:52.279Z"
   },
   {
    "duration": 4,
    "start_time": "2023-02-15T09:23:52.451Z"
   },
   {
    "duration": 176,
    "start_time": "2023-02-15T09:23:52.457Z"
   },
   {
    "duration": 5,
    "start_time": "2023-02-15T09:23:52.635Z"
   },
   {
    "duration": 38,
    "start_time": "2023-02-15T09:23:52.641Z"
   },
   {
    "duration": 215,
    "start_time": "2023-02-15T09:23:52.681Z"
   },
   {
    "duration": 9,
    "start_time": "2023-02-15T09:23:52.899Z"
   },
   {
    "duration": 26,
    "start_time": "2023-02-15T09:23:52.910Z"
   },
   {
    "duration": 31,
    "start_time": "2023-02-15T09:23:52.937Z"
   },
   {
    "duration": 13,
    "start_time": "2023-02-15T09:23:52.969Z"
   },
   {
    "duration": 120,
    "start_time": "2023-02-15T09:26:52.793Z"
   },
   {
    "duration": 9,
    "start_time": "2023-02-15T09:27:02.011Z"
   },
   {
    "duration": 10,
    "start_time": "2023-02-15T09:27:13.115Z"
   },
   {
    "duration": 12,
    "start_time": "2023-02-15T09:27:22.954Z"
   },
   {
    "duration": 258,
    "start_time": "2023-02-15T09:29:23.408Z"
   },
   {
    "duration": 263,
    "start_time": "2023-02-15T09:30:29.840Z"
   },
   {
    "duration": 281,
    "start_time": "2023-02-15T09:30:33.978Z"
   },
   {
    "duration": 290,
    "start_time": "2023-02-15T09:30:43.363Z"
   },
   {
    "duration": 258,
    "start_time": "2023-02-15T09:30:54.040Z"
   },
   {
    "duration": 402,
    "start_time": "2023-02-15T09:31:07.457Z"
   },
   {
    "duration": 261,
    "start_time": "2023-02-15T09:31:35.888Z"
   },
   {
    "duration": 370,
    "start_time": "2023-02-15T09:31:49.430Z"
   },
   {
    "duration": 195,
    "start_time": "2023-02-15T09:32:13.322Z"
   },
   {
    "duration": 4,
    "start_time": "2023-02-15T09:33:16.695Z"
   },
   {
    "duration": 156,
    "start_time": "2023-02-15T09:33:31.022Z"
   },
   {
    "duration": 209,
    "start_time": "2023-02-15T09:47:46.534Z"
   },
   {
    "duration": 14,
    "start_time": "2023-02-15T09:48:01.206Z"
   },
   {
    "duration": 160,
    "start_time": "2023-02-15T09:48:07.429Z"
   },
   {
    "duration": 11,
    "start_time": "2023-02-15T09:50:02.658Z"
   },
   {
    "duration": 1166,
    "start_time": "2023-02-15T09:54:45.749Z"
   },
   {
    "duration": 37,
    "start_time": "2023-02-15T09:54:46.917Z"
   },
   {
    "duration": 11,
    "start_time": "2023-02-15T09:54:46.956Z"
   },
   {
    "duration": 12,
    "start_time": "2023-02-15T09:54:46.969Z"
   },
   {
    "duration": 356,
    "start_time": "2023-02-15T09:54:46.982Z"
   },
   {
    "duration": 54,
    "start_time": "2023-02-15T09:54:47.340Z"
   },
   {
    "duration": 5,
    "start_time": "2023-02-15T09:54:47.395Z"
   },
   {
    "duration": 10,
    "start_time": "2023-02-15T09:54:47.401Z"
   },
   {
    "duration": 13,
    "start_time": "2023-02-15T09:54:47.413Z"
   },
   {
    "duration": 144,
    "start_time": "2023-02-15T09:54:47.429Z"
   },
   {
    "duration": 13,
    "start_time": "2023-02-15T09:54:47.574Z"
   },
   {
    "duration": 31,
    "start_time": "2023-02-15T09:54:47.588Z"
   },
   {
    "duration": 3,
    "start_time": "2023-02-15T09:54:47.621Z"
   },
   {
    "duration": 8,
    "start_time": "2023-02-15T09:54:47.625Z"
   },
   {
    "duration": 10,
    "start_time": "2023-02-15T09:54:47.635Z"
   },
   {
    "duration": 313,
    "start_time": "2023-02-15T09:54:47.646Z"
   },
   {
    "duration": 356,
    "start_time": "2023-02-15T09:54:47.960Z"
   },
   {
    "duration": 270,
    "start_time": "2023-02-15T09:54:48.318Z"
   },
   {
    "duration": 380,
    "start_time": "2023-02-15T09:54:48.589Z"
   },
   {
    "duration": 281,
    "start_time": "2023-02-15T09:54:48.971Z"
   },
   {
    "duration": 375,
    "start_time": "2023-02-15T09:54:49.254Z"
   },
   {
    "duration": 212,
    "start_time": "2023-02-15T09:54:49.631Z"
   },
   {
    "duration": 5,
    "start_time": "2023-02-15T09:54:49.845Z"
   },
   {
    "duration": 156,
    "start_time": "2023-02-15T09:54:49.851Z"
   },
   {
    "duration": 4,
    "start_time": "2023-02-15T09:54:50.009Z"
   },
   {
    "duration": 28,
    "start_time": "2023-02-15T09:54:50.014Z"
   },
   {
    "duration": 236,
    "start_time": "2023-02-15T09:54:50.044Z"
   },
   {
    "duration": 10,
    "start_time": "2023-02-15T09:54:50.283Z"
   },
   {
    "duration": 9,
    "start_time": "2023-02-15T09:54:50.295Z"
   },
   {
    "duration": 25,
    "start_time": "2023-02-15T09:54:50.306Z"
   },
   {
    "duration": 40,
    "start_time": "2023-02-15T09:54:50.333Z"
   },
   {
    "duration": 166,
    "start_time": "2023-02-15T10:14:58.997Z"
   },
   {
    "duration": 160,
    "start_time": "2023-02-15T10:15:13.383Z"
   },
   {
    "duration": 10,
    "start_time": "2023-02-15T10:16:08.189Z"
   },
   {
    "duration": 35,
    "start_time": "2023-02-15T10:16:14.900Z"
   },
   {
    "duration": 12,
    "start_time": "2023-02-15T10:17:22.051Z"
   },
   {
    "duration": 39,
    "start_time": "2023-02-15T10:18:27.181Z"
   },
   {
    "duration": 1162,
    "start_time": "2023-02-15T10:19:17.947Z"
   },
   {
    "duration": 39,
    "start_time": "2023-02-15T10:19:19.111Z"
   },
   {
    "duration": 10,
    "start_time": "2023-02-15T10:19:19.152Z"
   },
   {
    "duration": 27,
    "start_time": "2023-02-15T10:19:19.164Z"
   },
   {
    "duration": 340,
    "start_time": "2023-02-15T10:19:19.193Z"
   },
   {
    "duration": 62,
    "start_time": "2023-02-15T10:19:19.534Z"
   },
   {
    "duration": 4,
    "start_time": "2023-02-15T10:19:19.598Z"
   },
   {
    "duration": 14,
    "start_time": "2023-02-15T10:19:19.604Z"
   },
   {
    "duration": 5,
    "start_time": "2023-02-15T10:19:19.620Z"
   },
   {
    "duration": 146,
    "start_time": "2023-02-15T10:19:19.628Z"
   },
   {
    "duration": 16,
    "start_time": "2023-02-15T10:19:19.776Z"
   },
   {
    "duration": 29,
    "start_time": "2023-02-15T10:19:19.793Z"
   },
   {
    "duration": 3,
    "start_time": "2023-02-15T10:19:19.823Z"
   },
   {
    "duration": 7,
    "start_time": "2023-02-15T10:19:19.828Z"
   },
   {
    "duration": 6,
    "start_time": "2023-02-15T10:19:19.837Z"
   },
   {
    "duration": 280,
    "start_time": "2023-02-15T10:19:19.844Z"
   },
   {
    "duration": 356,
    "start_time": "2023-02-15T10:19:20.125Z"
   },
   {
    "duration": 269,
    "start_time": "2023-02-15T10:19:20.483Z"
   },
   {
    "duration": 404,
    "start_time": "2023-02-15T10:19:20.753Z"
   },
   {
    "duration": 264,
    "start_time": "2023-02-15T10:19:21.158Z"
   },
   {
    "duration": 406,
    "start_time": "2023-02-15T10:19:21.423Z"
   },
   {
    "duration": 167,
    "start_time": "2023-02-15T10:19:21.831Z"
   },
   {
    "duration": 4,
    "start_time": "2023-02-15T10:19:22.000Z"
   },
   {
    "duration": 160,
    "start_time": "2023-02-15T10:19:22.005Z"
   },
   {
    "duration": 4,
    "start_time": "2023-02-15T10:19:22.181Z"
   },
   {
    "duration": 15,
    "start_time": "2023-02-15T10:19:22.186Z"
   },
   {
    "duration": 215,
    "start_time": "2023-02-15T10:19:22.203Z"
   },
   {
    "duration": 10,
    "start_time": "2023-02-15T10:19:22.422Z"
   },
   {
    "duration": 9,
    "start_time": "2023-02-15T10:19:22.433Z"
   },
   {
    "duration": 53,
    "start_time": "2023-02-15T10:19:22.444Z"
   },
   {
    "duration": 14,
    "start_time": "2023-02-15T10:19:22.499Z"
   },
   {
    "duration": 1316,
    "start_time": "2023-02-15T11:32:39.201Z"
   },
   {
    "duration": 105,
    "start_time": "2023-02-15T11:32:40.519Z"
   },
   {
    "duration": 22,
    "start_time": "2023-02-15T11:32:40.627Z"
   },
   {
    "duration": 59,
    "start_time": "2023-02-15T11:32:40.651Z"
   },
   {
    "duration": 459,
    "start_time": "2023-02-15T11:32:40.713Z"
   },
   {
    "duration": 134,
    "start_time": "2023-02-15T11:32:41.174Z"
   },
   {
    "duration": 5,
    "start_time": "2023-02-15T11:32:41.310Z"
   },
   {
    "duration": 10,
    "start_time": "2023-02-15T11:32:41.316Z"
   },
   {
    "duration": 6,
    "start_time": "2023-02-15T11:32:41.328Z"
   },
   {
    "duration": 218,
    "start_time": "2023-02-15T11:32:41.336Z"
   },
   {
    "duration": 21,
    "start_time": "2023-02-15T11:32:41.556Z"
   },
   {
    "duration": 120,
    "start_time": "2023-02-15T11:32:41.583Z"
   },
   {
    "duration": 4,
    "start_time": "2023-02-15T11:32:41.705Z"
   },
   {
    "duration": 8,
    "start_time": "2023-02-15T11:32:41.713Z"
   },
   {
    "duration": 9,
    "start_time": "2023-02-15T11:32:41.723Z"
   },
   {
    "duration": 360,
    "start_time": "2023-02-15T11:32:41.734Z"
   },
   {
    "duration": 540,
    "start_time": "2023-02-15T11:32:42.095Z"
   },
   {
    "duration": 467,
    "start_time": "2023-02-15T11:32:42.637Z"
   },
   {
    "duration": 553,
    "start_time": "2023-02-15T11:32:43.106Z"
   },
   {
    "duration": 417,
    "start_time": "2023-02-15T11:32:43.664Z"
   },
   {
    "duration": 421,
    "start_time": "2023-02-15T11:32:44.084Z"
   },
   {
    "duration": 223,
    "start_time": "2023-02-15T11:32:44.507Z"
   },
   {
    "duration": 30,
    "start_time": "2023-02-15T11:32:44.732Z"
   },
   {
    "duration": 223,
    "start_time": "2023-02-15T11:32:44.765Z"
   },
   {
    "duration": 4,
    "start_time": "2023-02-15T11:32:44.990Z"
   },
   {
    "duration": 33,
    "start_time": "2023-02-15T11:32:44.996Z"
   },
   {
    "duration": 289,
    "start_time": "2023-02-15T11:32:45.031Z"
   },
   {
    "duration": 29,
    "start_time": "2023-02-15T11:32:45.322Z"
   },
   {
    "duration": 18,
    "start_time": "2023-02-15T11:32:45.361Z"
   },
   {
    "duration": 43,
    "start_time": "2023-02-15T11:32:45.380Z"
   },
   {
    "duration": 23,
    "start_time": "2023-02-15T11:32:45.425Z"
   }
  ],
  "kernelspec": {
   "display_name": "Python 3 (ipykernel)",
   "language": "python",
   "name": "python3"
  },
  "language_info": {
   "codemirror_mode": {
    "name": "ipython",
    "version": 3
   },
   "file_extension": ".py",
   "mimetype": "text/x-python",
   "name": "python",
   "nbconvert_exporter": "python",
   "pygments_lexer": "ipython3",
   "version": "3.9.5"
  },
  "toc": {
   "base_numbering": 1,
   "nav_menu": {},
   "number_sections": true,
   "sideBar": true,
   "skip_h1_title": true,
   "title_cell": "Table of Contents",
   "title_sidebar": "Contents",
   "toc_cell": false,
   "toc_position": {},
   "toc_section_display": true,
   "toc_window_display": false
  }
 },
 "nbformat": 4,
 "nbformat_minor": 2
}
