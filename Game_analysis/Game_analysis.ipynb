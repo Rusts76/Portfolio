{
 "cells": [
  {
   "cell_type": "markdown",
   "metadata": {
    "toc": true
   },
   "source": [
    "<h1>Table of Contents<span class=\"tocSkip\"></span></h1>\n",
    "<div class=\"toc\"><ul class=\"toc-item\"><li><span><a href=\"#Изучение-данных-из-файла\" data-toc-modified-id=\"Изучение-данных-из-файла-1\"><span class=\"toc-item-num\">1&nbsp;&nbsp;</span>Изучение данных из файла</a></span><ul class=\"toc-item\"><li><span><a href=\"#Вывод\" data-toc-modified-id=\"Вывод-1.1\"><span class=\"toc-item-num\">1.1&nbsp;&nbsp;</span>Вывод</a></span></li></ul></li><li><span><a href=\"#Анализ-данных-в-целом\" data-toc-modified-id=\"Анализ-данных-в-целом-2\"><span class=\"toc-item-num\">2&nbsp;&nbsp;</span>Анализ данных в целом</a></span><ul class=\"toc-item\"><li><span><a href=\"#Вывод\" data-toc-modified-id=\"Вывод-2.1\"><span class=\"toc-item-num\">2.1&nbsp;&nbsp;</span>Вывод</a></span></li><li><span><a href=\"#Вывод\" data-toc-modified-id=\"Вывод-2.2\"><span class=\"toc-item-num\">2.2&nbsp;&nbsp;</span>Вывод</a></span></li><li><span><a href=\"#Вывод\" data-toc-modified-id=\"Вывод-2.3\"><span class=\"toc-item-num\">2.3&nbsp;&nbsp;</span>Вывод</a></span></li><li><span><a href=\"#Вывод\" data-toc-modified-id=\"Вывод-2.4\"><span class=\"toc-item-num\">2.4&nbsp;&nbsp;</span>Вывод</a></span></li><li><span><a href=\"#Вывод\" data-toc-modified-id=\"Вывод-2.5\"><span class=\"toc-item-num\">2.5&nbsp;&nbsp;</span>Вывод</a></span></li><li><span><a href=\"#Вывод\" data-toc-modified-id=\"Вывод-2.6\"><span class=\"toc-item-num\">2.6&nbsp;&nbsp;</span>Вывод</a></span></li></ul></li><li><span><a href=\"#Анализ-данных-по-регионам\" data-toc-modified-id=\"Анализ-данных-по-регионам-3\"><span class=\"toc-item-num\">3&nbsp;&nbsp;</span>Анализ данных по регионам</a></span><ul class=\"toc-item\"><li><span><a href=\"#Вывод\" data-toc-modified-id=\"Вывод-3.1\"><span class=\"toc-item-num\">3.1&nbsp;&nbsp;</span>Вывод</a></span></li><li><span><a href=\"#Вывод\" data-toc-modified-id=\"Вывод-3.2\"><span class=\"toc-item-num\">3.2&nbsp;&nbsp;</span>Вывод</a></span></li><li><span><a href=\"#Вывод\" data-toc-modified-id=\"Вывод-3.3\"><span class=\"toc-item-num\">3.3&nbsp;&nbsp;</span>Вывод</a></span></li></ul></li><li><span><a href=\"#Проверка-гипотез\" data-toc-modified-id=\"Проверка-гипотез-4\"><span class=\"toc-item-num\">4&nbsp;&nbsp;</span>Проверка гипотез</a></span><ul class=\"toc-item\"><li><span><a href=\"#Вывод\" data-toc-modified-id=\"Вывод-4.1\"><span class=\"toc-item-num\">4.1&nbsp;&nbsp;</span>Вывод</a></span></li><li><span><a href=\"#Вывод\" data-toc-modified-id=\"Вывод-4.2\"><span class=\"toc-item-num\">4.2&nbsp;&nbsp;</span>Вывод</a></span></li></ul></li><li><span><a href=\"#Общий-вывод\" data-toc-modified-id=\"Общий-вывод-5\"><span class=\"toc-item-num\">5&nbsp;&nbsp;</span>Общий вывод</a></span></li></ul></div>"
   ]
  },
  {
   "cell_type": "markdown",
   "metadata": {},
   "source": [
    "# Исследование рынка игр\n",
    "\n",
    "Из открытых источников доступны исторические данные о продажах игр, оценки пользователей и экспертов, жанры и платформы (например, Xbox или PlayStation). Нужно выявить определяющие успешность игры закономерности. Это позволит сделать ставку на потенциально популярный продукт и спланировать рекламные кампании.\n",
    "\n",
    "Описание данных\n",
    "- Name — название игры\n",
    "- Platform — платформа\n",
    "- Year_of_Release — год выпуска\n",
    "- Genre — жанр игры\n",
    "- NA_sales — продажи в Северной Америке (миллионы проданных копий)\n",
    "- EU_sales — продажи в Европе (миллионы проданных копий)\n",
    "- JP_sales — продажи в Японии (миллионы проданных копий)\n",
    "- Other_sales — продажи в других странах (миллионы проданных копий)\n",
    "- Critic_Score — оценка критиков (максимум 100)\n",
    "- User_Score — оценка пользователей (максимум 10)\n",
    "- Rating — рейтинг от организации ESRB (англ. Entertainment Software Rating Board). Эта ассоциация определяет рейтинг компьютерных игр и присваивает им подходящую возрастную категорию.\n",
    "\n",
    "Данные за 2016 год могут быть неполными."
   ]
  },
  {
   "cell_type": "markdown",
   "metadata": {},
   "source": [
    "## Изучение данных из файла"
   ]
  },
  {
   "cell_type": "code",
   "execution_count": 1,
   "metadata": {},
   "outputs": [],
   "source": [
    "#импорт необходимых библиотек\n",
    "import pandas as pd\n",
    "import math as mt\n",
    "import matplotlib.pyplot as plt\n",
    "import numpy as np\n",
    "from scipy import stats as st"
   ]
  },
  {
   "cell_type": "code",
   "execution_count": 2,
   "metadata": {},
   "outputs": [
    {
     "data": {
      "text/html": [
       "<div>\n",
       "<style scoped>\n",
       "    .dataframe tbody tr th:only-of-type {\n",
       "        vertical-align: middle;\n",
       "    }\n",
       "\n",
       "    .dataframe tbody tr th {\n",
       "        vertical-align: top;\n",
       "    }\n",
       "\n",
       "    .dataframe thead th {\n",
       "        text-align: right;\n",
       "    }\n",
       "</style>\n",
       "<table border=\"1\" class=\"dataframe\">\n",
       "  <thead>\n",
       "    <tr style=\"text-align: right;\">\n",
       "      <th></th>\n",
       "      <th>Name</th>\n",
       "      <th>Platform</th>\n",
       "      <th>Year_of_Release</th>\n",
       "      <th>Genre</th>\n",
       "      <th>NA_sales</th>\n",
       "      <th>EU_sales</th>\n",
       "      <th>JP_sales</th>\n",
       "      <th>Other_sales</th>\n",
       "      <th>Critic_Score</th>\n",
       "      <th>User_Score</th>\n",
       "      <th>Rating</th>\n",
       "    </tr>\n",
       "  </thead>\n",
       "  <tbody>\n",
       "    <tr>\n",
       "      <th>0</th>\n",
       "      <td>Wii Sports</td>\n",
       "      <td>Wii</td>\n",
       "      <td>2006.0</td>\n",
       "      <td>Sports</td>\n",
       "      <td>41.36</td>\n",
       "      <td>28.96</td>\n",
       "      <td>3.77</td>\n",
       "      <td>8.45</td>\n",
       "      <td>76.0</td>\n",
       "      <td>8</td>\n",
       "      <td>E</td>\n",
       "    </tr>\n",
       "    <tr>\n",
       "      <th>1</th>\n",
       "      <td>Super Mario Bros.</td>\n",
       "      <td>NES</td>\n",
       "      <td>1985.0</td>\n",
       "      <td>Platform</td>\n",
       "      <td>29.08</td>\n",
       "      <td>3.58</td>\n",
       "      <td>6.81</td>\n",
       "      <td>0.77</td>\n",
       "      <td>NaN</td>\n",
       "      <td>NaN</td>\n",
       "      <td>NaN</td>\n",
       "    </tr>\n",
       "    <tr>\n",
       "      <th>2</th>\n",
       "      <td>Mario Kart Wii</td>\n",
       "      <td>Wii</td>\n",
       "      <td>2008.0</td>\n",
       "      <td>Racing</td>\n",
       "      <td>15.68</td>\n",
       "      <td>12.76</td>\n",
       "      <td>3.79</td>\n",
       "      <td>3.29</td>\n",
       "      <td>82.0</td>\n",
       "      <td>8.3</td>\n",
       "      <td>E</td>\n",
       "    </tr>\n",
       "    <tr>\n",
       "      <th>3</th>\n",
       "      <td>Wii Sports Resort</td>\n",
       "      <td>Wii</td>\n",
       "      <td>2009.0</td>\n",
       "      <td>Sports</td>\n",
       "      <td>15.61</td>\n",
       "      <td>10.93</td>\n",
       "      <td>3.28</td>\n",
       "      <td>2.95</td>\n",
       "      <td>80.0</td>\n",
       "      <td>8</td>\n",
       "      <td>E</td>\n",
       "    </tr>\n",
       "    <tr>\n",
       "      <th>4</th>\n",
       "      <td>Pokemon Red/Pokemon Blue</td>\n",
       "      <td>GB</td>\n",
       "      <td>1996.0</td>\n",
       "      <td>Role-Playing</td>\n",
       "      <td>11.27</td>\n",
       "      <td>8.89</td>\n",
       "      <td>10.22</td>\n",
       "      <td>1.00</td>\n",
       "      <td>NaN</td>\n",
       "      <td>NaN</td>\n",
       "      <td>NaN</td>\n",
       "    </tr>\n",
       "  </tbody>\n",
       "</table>\n",
       "</div>"
      ],
      "text/plain": [
       "                       Name Platform  Year_of_Release         Genre  NA_sales  \\\n",
       "0                Wii Sports      Wii           2006.0        Sports     41.36   \n",
       "1         Super Mario Bros.      NES           1985.0      Platform     29.08   \n",
       "2            Mario Kart Wii      Wii           2008.0        Racing     15.68   \n",
       "3         Wii Sports Resort      Wii           2009.0        Sports     15.61   \n",
       "4  Pokemon Red/Pokemon Blue       GB           1996.0  Role-Playing     11.27   \n",
       "\n",
       "   EU_sales  JP_sales  Other_sales  Critic_Score User_Score Rating  \n",
       "0     28.96      3.77         8.45          76.0          8      E  \n",
       "1      3.58      6.81         0.77           NaN        NaN    NaN  \n",
       "2     12.76      3.79         3.29          82.0        8.3      E  \n",
       "3     10.93      3.28         2.95          80.0          8      E  \n",
       "4      8.89     10.22         1.00           NaN        NaN    NaN  "
      ]
     },
     "metadata": {},
     "output_type": "display_data"
    },
    {
     "name": "stdout",
     "output_type": "stream",
     "text": [
      "<class 'pandas.core.frame.DataFrame'>\n",
      "RangeIndex: 16715 entries, 0 to 16714\n",
      "Data columns (total 11 columns):\n",
      " #   Column           Non-Null Count  Dtype  \n",
      "---  ------           --------------  -----  \n",
      " 0   Name             16713 non-null  object \n",
      " 1   Platform         16715 non-null  object \n",
      " 2   Year_of_Release  16446 non-null  float64\n",
      " 3   Genre            16713 non-null  object \n",
      " 4   NA_sales         16715 non-null  float64\n",
      " 5   EU_sales         16715 non-null  float64\n",
      " 6   JP_sales         16715 non-null  float64\n",
      " 7   Other_sales      16715 non-null  float64\n",
      " 8   Critic_Score     8137 non-null   float64\n",
      " 9   User_Score       10014 non-null  object \n",
      " 10  Rating           9949 non-null   object \n",
      "dtypes: float64(6), object(5)\n",
      "memory usage: 1.4+ MB\n"
     ]
    }
   ],
   "source": [
    "#импортируем данные и получаем представление о файле\n",
    "data = pd.read_csv('-')\n",
    "display(data.head())\n",
    "data.info()"
   ]
  },
  {
   "cell_type": "code",
   "execution_count": 3,
   "metadata": {},
   "outputs": [
    {
     "name": "stdout",
     "output_type": "stream",
     "text": [
      "Количество явных дубликатов 0\n"
     ]
    }
   ],
   "source": [
    "#проверяем базу данных на явные дубликаты\n",
    "print('Количество явных дубликатов', data.duplicated().sum())\n",
    "#изменяем регистр наименования столбцов\n",
    "data.columns = data.columns.str.lower()"
   ]
  },
  {
   "cell_type": "code",
   "execution_count": 4,
   "metadata": {},
   "outputs": [
    {
     "data": {
      "text/plain": [
       "name               Madden NFL 13\n",
       "platform                     PS3\n",
       "year_of_release           2012.0\n",
       "genre                     Sports\n",
       "na_sales                     0.0\n",
       "eu_sales                    0.01\n",
       "jp_sales                     0.0\n",
       "other_sales                  0.0\n",
       "critic_score                83.0\n",
       "user_score                   5.5\n",
       "rating                         E\n",
       "Name: 7776, dtype: object"
      ]
     },
     "metadata": {},
     "output_type": "display_data"
    },
    {
     "data": {
      "text/plain": [
       "name               Sonic the Hedgehog\n",
       "platform                          PS3\n",
       "year_of_release                   NaN\n",
       "genre                        Platform\n",
       "na_sales                          0.0\n",
       "eu_sales                         0.48\n",
       "jp_sales                          0.0\n",
       "other_sales                       0.0\n",
       "critic_score                     43.0\n",
       "user_score                        4.1\n",
       "rating                           E10+\n",
       "Name: 12806, dtype: object"
      ]
     },
     "metadata": {},
     "output_type": "display_data"
    }
   ],
   "source": [
    "#проводим проверку на дубликаты по названию игры и платформе\n",
    "#сортируем таблицу по столбцу data['name'] для группировки игр в таблице по возрастанию\n",
    "data = data.sort_values(by='name')\n",
    "#сбрасываем индексацию\n",
    "data.reset_index(drop=True,inplace=True)\n",
    "#описываем цикл, который находит дубликаты по названию игры и платформе\n",
    "for index in range(len(data)):\n",
    "    try:\n",
    "        if data.loc[index,'name'] == data.loc[index + 1,'name'] and data.loc[index,'platform'] == data.loc[index + 1,'platform']:\n",
    "            display(data.loc[index])\n",
    "    except:\n",
    "        data.loc[index,'name'] = data.loc[index,'name']"
   ]
  },
  {
   "cell_type": "code",
   "execution_count": 5,
   "metadata": {
    "scrolled": false
   },
   "outputs": [
    {
     "data": {
      "text/html": [
       "<div>\n",
       "<style scoped>\n",
       "    .dataframe tbody tr th:only-of-type {\n",
       "        vertical-align: middle;\n",
       "    }\n",
       "\n",
       "    .dataframe tbody tr th {\n",
       "        vertical-align: top;\n",
       "    }\n",
       "\n",
       "    .dataframe thead th {\n",
       "        text-align: right;\n",
       "    }\n",
       "</style>\n",
       "<table border=\"1\" class=\"dataframe\">\n",
       "  <thead>\n",
       "    <tr style=\"text-align: right;\">\n",
       "      <th></th>\n",
       "      <th>name</th>\n",
       "      <th>platform</th>\n",
       "      <th>year_of_release</th>\n",
       "      <th>genre</th>\n",
       "      <th>na_sales</th>\n",
       "      <th>eu_sales</th>\n",
       "      <th>jp_sales</th>\n",
       "      <th>other_sales</th>\n",
       "      <th>critic_score</th>\n",
       "      <th>user_score</th>\n",
       "      <th>rating</th>\n",
       "    </tr>\n",
       "  </thead>\n",
       "  <tbody>\n",
       "    <tr>\n",
       "      <th>7775</th>\n",
       "      <td>Madden NFL 13</td>\n",
       "      <td>X360</td>\n",
       "      <td>2012.0</td>\n",
       "      <td>Sports</td>\n",
       "      <td>2.53</td>\n",
       "      <td>0.15</td>\n",
       "      <td>0.0</td>\n",
       "      <td>0.17</td>\n",
       "      <td>81.0</td>\n",
       "      <td>5.8</td>\n",
       "      <td>E</td>\n",
       "    </tr>\n",
       "    <tr>\n",
       "      <th>7776</th>\n",
       "      <td>Madden NFL 13</td>\n",
       "      <td>PS3</td>\n",
       "      <td>2012.0</td>\n",
       "      <td>Sports</td>\n",
       "      <td>0.00</td>\n",
       "      <td>0.01</td>\n",
       "      <td>0.0</td>\n",
       "      <td>0.00</td>\n",
       "      <td>83.0</td>\n",
       "      <td>5.5</td>\n",
       "      <td>E</td>\n",
       "    </tr>\n",
       "    <tr>\n",
       "      <th>7777</th>\n",
       "      <td>Madden NFL 13</td>\n",
       "      <td>PS3</td>\n",
       "      <td>2012.0</td>\n",
       "      <td>Sports</td>\n",
       "      <td>2.11</td>\n",
       "      <td>0.22</td>\n",
       "      <td>0.0</td>\n",
       "      <td>0.23</td>\n",
       "      <td>83.0</td>\n",
       "      <td>5.5</td>\n",
       "      <td>E</td>\n",
       "    </tr>\n",
       "    <tr>\n",
       "      <th>7778</th>\n",
       "      <td>Madden NFL 13</td>\n",
       "      <td>PSV</td>\n",
       "      <td>2012.0</td>\n",
       "      <td>Sports</td>\n",
       "      <td>0.28</td>\n",
       "      <td>0.00</td>\n",
       "      <td>0.0</td>\n",
       "      <td>0.02</td>\n",
       "      <td>63.0</td>\n",
       "      <td>7.3</td>\n",
       "      <td>E</td>\n",
       "    </tr>\n",
       "    <tr>\n",
       "      <th>7779</th>\n",
       "      <td>Madden NFL 13</td>\n",
       "      <td>Wii</td>\n",
       "      <td>2012.0</td>\n",
       "      <td>Sports</td>\n",
       "      <td>0.47</td>\n",
       "      <td>0.00</td>\n",
       "      <td>0.0</td>\n",
       "      <td>0.03</td>\n",
       "      <td>NaN</td>\n",
       "      <td>7.3</td>\n",
       "      <td>E</td>\n",
       "    </tr>\n",
       "    <tr>\n",
       "      <th>7780</th>\n",
       "      <td>Madden NFL 13</td>\n",
       "      <td>WiiU</td>\n",
       "      <td>2012.0</td>\n",
       "      <td>Sports</td>\n",
       "      <td>0.21</td>\n",
       "      <td>0.00</td>\n",
       "      <td>0.0</td>\n",
       "      <td>0.02</td>\n",
       "      <td>75.0</td>\n",
       "      <td>6.7</td>\n",
       "      <td>E</td>\n",
       "    </tr>\n",
       "  </tbody>\n",
       "</table>\n",
       "</div>"
      ],
      "text/plain": [
       "               name platform  year_of_release   genre  na_sales  eu_sales  \\\n",
       "7775  Madden NFL 13     X360           2012.0  Sports      2.53      0.15   \n",
       "7776  Madden NFL 13      PS3           2012.0  Sports      0.00      0.01   \n",
       "7777  Madden NFL 13      PS3           2012.0  Sports      2.11      0.22   \n",
       "7778  Madden NFL 13      PSV           2012.0  Sports      0.28      0.00   \n",
       "7779  Madden NFL 13      Wii           2012.0  Sports      0.47      0.00   \n",
       "7780  Madden NFL 13     WiiU           2012.0  Sports      0.21      0.00   \n",
       "\n",
       "      jp_sales  other_sales  critic_score user_score rating  \n",
       "7775       0.0         0.17          81.0        5.8      E  \n",
       "7776       0.0         0.00          83.0        5.5      E  \n",
       "7777       0.0         0.23          83.0        5.5      E  \n",
       "7778       0.0         0.02          63.0        7.3      E  \n",
       "7779       0.0         0.03           NaN        7.3      E  \n",
       "7780       0.0         0.02          75.0        6.7      E  "
      ]
     },
     "metadata": {},
     "output_type": "display_data"
    },
    {
     "data": {
      "text/html": [
       "<div>\n",
       "<style scoped>\n",
       "    .dataframe tbody tr th:only-of-type {\n",
       "        vertical-align: middle;\n",
       "    }\n",
       "\n",
       "    .dataframe tbody tr th {\n",
       "        vertical-align: top;\n",
       "    }\n",
       "\n",
       "    .dataframe thead th {\n",
       "        text-align: right;\n",
       "    }\n",
       "</style>\n",
       "<table border=\"1\" class=\"dataframe\">\n",
       "  <thead>\n",
       "    <tr style=\"text-align: right;\">\n",
       "      <th></th>\n",
       "      <th>name</th>\n",
       "      <th>platform</th>\n",
       "      <th>year_of_release</th>\n",
       "      <th>genre</th>\n",
       "      <th>na_sales</th>\n",
       "      <th>eu_sales</th>\n",
       "      <th>jp_sales</th>\n",
       "      <th>other_sales</th>\n",
       "      <th>critic_score</th>\n",
       "      <th>user_score</th>\n",
       "      <th>rating</th>\n",
       "    </tr>\n",
       "  </thead>\n",
       "  <tbody>\n",
       "    <tr>\n",
       "      <th>12805</th>\n",
       "      <td>Sonic the Hedgehog</td>\n",
       "      <td>X360</td>\n",
       "      <td>2006.0</td>\n",
       "      <td>Platform</td>\n",
       "      <td>0.44</td>\n",
       "      <td>0.48</td>\n",
       "      <td>0.00</td>\n",
       "      <td>0.11</td>\n",
       "      <td>46.0</td>\n",
       "      <td>4.4</td>\n",
       "      <td>E10+</td>\n",
       "    </tr>\n",
       "    <tr>\n",
       "      <th>12806</th>\n",
       "      <td>Sonic the Hedgehog</td>\n",
       "      <td>PS3</td>\n",
       "      <td>NaN</td>\n",
       "      <td>Platform</td>\n",
       "      <td>0.00</td>\n",
       "      <td>0.48</td>\n",
       "      <td>0.00</td>\n",
       "      <td>0.00</td>\n",
       "      <td>43.0</td>\n",
       "      <td>4.1</td>\n",
       "      <td>E10+</td>\n",
       "    </tr>\n",
       "    <tr>\n",
       "      <th>12807</th>\n",
       "      <td>Sonic the Hedgehog</td>\n",
       "      <td>PS3</td>\n",
       "      <td>2006.0</td>\n",
       "      <td>Platform</td>\n",
       "      <td>0.41</td>\n",
       "      <td>0.06</td>\n",
       "      <td>0.04</td>\n",
       "      <td>0.66</td>\n",
       "      <td>43.0</td>\n",
       "      <td>4.1</td>\n",
       "      <td>E10+</td>\n",
       "    </tr>\n",
       "    <tr>\n",
       "      <th>12808</th>\n",
       "      <td>Sonic the Hedgehog</td>\n",
       "      <td>GEN</td>\n",
       "      <td>1991.0</td>\n",
       "      <td>Platform</td>\n",
       "      <td>3.03</td>\n",
       "      <td>0.91</td>\n",
       "      <td>0.26</td>\n",
       "      <td>0.13</td>\n",
       "      <td>NaN</td>\n",
       "      <td>NaN</td>\n",
       "      <td>NaN</td>\n",
       "    </tr>\n",
       "  </tbody>\n",
       "</table>\n",
       "</div>"
      ],
      "text/plain": [
       "                     name platform  year_of_release     genre  na_sales  \\\n",
       "12805  Sonic the Hedgehog     X360           2006.0  Platform      0.44   \n",
       "12806  Sonic the Hedgehog      PS3              NaN  Platform      0.00   \n",
       "12807  Sonic the Hedgehog      PS3           2006.0  Platform      0.41   \n",
       "12808  Sonic the Hedgehog      GEN           1991.0  Platform      3.03   \n",
       "\n",
       "       eu_sales  jp_sales  other_sales  critic_score user_score rating  \n",
       "12805      0.48      0.00         0.11          46.0        4.4   E10+  \n",
       "12806      0.48      0.00         0.00          43.0        4.1   E10+  \n",
       "12807      0.06      0.04         0.66          43.0        4.1   E10+  \n",
       "12808      0.91      0.26         0.13           NaN        NaN    NaN  "
      ]
     },
     "metadata": {},
     "output_type": "display_data"
    }
   ],
   "source": [
    "#отображаем строки с наименованием игры для возможности выбора строки для последующего удаления\n",
    "display(data.query('name == \"Madden NFL 13\"'))\n",
    "display(data.query('name == \"Sonic the Hedgehog\"'))"
   ]
  },
  {
   "cell_type": "markdown",
   "metadata": {},
   "source": [
    "Среди выявленных дубликатов игры Madden NFL 13 на платформе PS3 удаляем строку 7776, потому что в сравнении с остальными платформами, продажи на этой платформе по этой строке выглядят сильно заниженными.\n",
    "\n",
    "Среди выявленных дубликатов игры Sonic the Hedgehog\tна платформе PS3 удаляем строку 12806, потому что в сравнении с остальными платформами, продажи на этой платформе по этой строке выглядят сильно заниженными."
   ]
  },
  {
   "cell_type": "code",
   "execution_count": 6,
   "metadata": {},
   "outputs": [
    {
     "data": {
      "text/html": [
       "<div>\n",
       "<style scoped>\n",
       "    .dataframe tbody tr th:only-of-type {\n",
       "        vertical-align: middle;\n",
       "    }\n",
       "\n",
       "    .dataframe tbody tr th {\n",
       "        vertical-align: top;\n",
       "    }\n",
       "\n",
       "    .dataframe thead th {\n",
       "        text-align: right;\n",
       "    }\n",
       "</style>\n",
       "<table border=\"1\" class=\"dataframe\">\n",
       "  <thead>\n",
       "    <tr style=\"text-align: right;\">\n",
       "      <th></th>\n",
       "      <th>name</th>\n",
       "      <th>platform</th>\n",
       "      <th>year_of_release</th>\n",
       "      <th>genre</th>\n",
       "      <th>na_sales</th>\n",
       "      <th>eu_sales</th>\n",
       "      <th>jp_sales</th>\n",
       "      <th>other_sales</th>\n",
       "      <th>critic_score</th>\n",
       "      <th>user_score</th>\n",
       "      <th>rating</th>\n",
       "    </tr>\n",
       "  </thead>\n",
       "  <tbody>\n",
       "    <tr>\n",
       "      <th>7775</th>\n",
       "      <td>Madden NFL 13</td>\n",
       "      <td>X360</td>\n",
       "      <td>2012.0</td>\n",
       "      <td>Sports</td>\n",
       "      <td>2.53</td>\n",
       "      <td>0.15</td>\n",
       "      <td>0.0</td>\n",
       "      <td>0.17</td>\n",
       "      <td>81.0</td>\n",
       "      <td>5.8</td>\n",
       "      <td>E</td>\n",
       "    </tr>\n",
       "    <tr>\n",
       "      <th>7777</th>\n",
       "      <td>Madden NFL 13</td>\n",
       "      <td>PS3</td>\n",
       "      <td>2012.0</td>\n",
       "      <td>Sports</td>\n",
       "      <td>2.11</td>\n",
       "      <td>0.22</td>\n",
       "      <td>0.0</td>\n",
       "      <td>0.23</td>\n",
       "      <td>83.0</td>\n",
       "      <td>5.5</td>\n",
       "      <td>E</td>\n",
       "    </tr>\n",
       "    <tr>\n",
       "      <th>7778</th>\n",
       "      <td>Madden NFL 13</td>\n",
       "      <td>PSV</td>\n",
       "      <td>2012.0</td>\n",
       "      <td>Sports</td>\n",
       "      <td>0.28</td>\n",
       "      <td>0.00</td>\n",
       "      <td>0.0</td>\n",
       "      <td>0.02</td>\n",
       "      <td>63.0</td>\n",
       "      <td>7.3</td>\n",
       "      <td>E</td>\n",
       "    </tr>\n",
       "    <tr>\n",
       "      <th>7779</th>\n",
       "      <td>Madden NFL 13</td>\n",
       "      <td>Wii</td>\n",
       "      <td>2012.0</td>\n",
       "      <td>Sports</td>\n",
       "      <td>0.47</td>\n",
       "      <td>0.00</td>\n",
       "      <td>0.0</td>\n",
       "      <td>0.03</td>\n",
       "      <td>NaN</td>\n",
       "      <td>7.3</td>\n",
       "      <td>E</td>\n",
       "    </tr>\n",
       "    <tr>\n",
       "      <th>7780</th>\n",
       "      <td>Madden NFL 13</td>\n",
       "      <td>WiiU</td>\n",
       "      <td>2012.0</td>\n",
       "      <td>Sports</td>\n",
       "      <td>0.21</td>\n",
       "      <td>0.00</td>\n",
       "      <td>0.0</td>\n",
       "      <td>0.02</td>\n",
       "      <td>75.0</td>\n",
       "      <td>6.7</td>\n",
       "      <td>E</td>\n",
       "    </tr>\n",
       "  </tbody>\n",
       "</table>\n",
       "</div>"
      ],
      "text/plain": [
       "               name platform  year_of_release   genre  na_sales  eu_sales  \\\n",
       "7775  Madden NFL 13     X360           2012.0  Sports      2.53      0.15   \n",
       "7777  Madden NFL 13      PS3           2012.0  Sports      2.11      0.22   \n",
       "7778  Madden NFL 13      PSV           2012.0  Sports      0.28      0.00   \n",
       "7779  Madden NFL 13      Wii           2012.0  Sports      0.47      0.00   \n",
       "7780  Madden NFL 13     WiiU           2012.0  Sports      0.21      0.00   \n",
       "\n",
       "      jp_sales  other_sales  critic_score user_score rating  \n",
       "7775       0.0         0.17          81.0        5.8      E  \n",
       "7777       0.0         0.23          83.0        5.5      E  \n",
       "7778       0.0         0.02          63.0        7.3      E  \n",
       "7779       0.0         0.03           NaN        7.3      E  \n",
       "7780       0.0         0.02          75.0        6.7      E  "
      ]
     },
     "metadata": {},
     "output_type": "display_data"
    },
    {
     "data": {
      "text/html": [
       "<div>\n",
       "<style scoped>\n",
       "    .dataframe tbody tr th:only-of-type {\n",
       "        vertical-align: middle;\n",
       "    }\n",
       "\n",
       "    .dataframe tbody tr th {\n",
       "        vertical-align: top;\n",
       "    }\n",
       "\n",
       "    .dataframe thead th {\n",
       "        text-align: right;\n",
       "    }\n",
       "</style>\n",
       "<table border=\"1\" class=\"dataframe\">\n",
       "  <thead>\n",
       "    <tr style=\"text-align: right;\">\n",
       "      <th></th>\n",
       "      <th>name</th>\n",
       "      <th>platform</th>\n",
       "      <th>year_of_release</th>\n",
       "      <th>genre</th>\n",
       "      <th>na_sales</th>\n",
       "      <th>eu_sales</th>\n",
       "      <th>jp_sales</th>\n",
       "      <th>other_sales</th>\n",
       "      <th>critic_score</th>\n",
       "      <th>user_score</th>\n",
       "      <th>rating</th>\n",
       "    </tr>\n",
       "  </thead>\n",
       "  <tbody>\n",
       "    <tr>\n",
       "      <th>12805</th>\n",
       "      <td>Sonic the Hedgehog</td>\n",
       "      <td>X360</td>\n",
       "      <td>2006.0</td>\n",
       "      <td>Platform</td>\n",
       "      <td>0.44</td>\n",
       "      <td>0.48</td>\n",
       "      <td>0.00</td>\n",
       "      <td>0.11</td>\n",
       "      <td>46.0</td>\n",
       "      <td>4.4</td>\n",
       "      <td>E10+</td>\n",
       "    </tr>\n",
       "    <tr>\n",
       "      <th>12807</th>\n",
       "      <td>Sonic the Hedgehog</td>\n",
       "      <td>PS3</td>\n",
       "      <td>2006.0</td>\n",
       "      <td>Platform</td>\n",
       "      <td>0.41</td>\n",
       "      <td>0.06</td>\n",
       "      <td>0.04</td>\n",
       "      <td>0.66</td>\n",
       "      <td>43.0</td>\n",
       "      <td>4.1</td>\n",
       "      <td>E10+</td>\n",
       "    </tr>\n",
       "    <tr>\n",
       "      <th>12808</th>\n",
       "      <td>Sonic the Hedgehog</td>\n",
       "      <td>GEN</td>\n",
       "      <td>1991.0</td>\n",
       "      <td>Platform</td>\n",
       "      <td>3.03</td>\n",
       "      <td>0.91</td>\n",
       "      <td>0.26</td>\n",
       "      <td>0.13</td>\n",
       "      <td>NaN</td>\n",
       "      <td>NaN</td>\n",
       "      <td>NaN</td>\n",
       "    </tr>\n",
       "  </tbody>\n",
       "</table>\n",
       "</div>"
      ],
      "text/plain": [
       "                     name platform  year_of_release     genre  na_sales  \\\n",
       "12805  Sonic the Hedgehog     X360           2006.0  Platform      0.44   \n",
       "12807  Sonic the Hedgehog      PS3           2006.0  Platform      0.41   \n",
       "12808  Sonic the Hedgehog      GEN           1991.0  Platform      3.03   \n",
       "\n",
       "       eu_sales  jp_sales  other_sales  critic_score user_score rating  \n",
       "12805      0.48      0.00         0.11          46.0        4.4   E10+  \n",
       "12807      0.06      0.04         0.66          43.0        4.1   E10+  \n",
       "12808      0.91      0.26         0.13           NaN        NaN    NaN  "
      ]
     },
     "metadata": {},
     "output_type": "display_data"
    }
   ],
   "source": [
    "#удаляем выбранные строки и отображаем для контроля удаления\n",
    "data.drop(index=7776,axis=0,inplace=True)\n",
    "data.drop(index=12806,axis=0,inplace=True)\n",
    "display(data.query('name == \"Madden NFL 13\"'))\n",
    "display(data.query('name == \"Sonic the Hedgehog\"'))"
   ]
  },
  {
   "cell_type": "code",
   "execution_count": 7,
   "metadata": {
    "scrolled": false
   },
   "outputs": [
    {
     "data": {
      "text/html": [
       "<div>\n",
       "<style scoped>\n",
       "    .dataframe tbody tr th:only-of-type {\n",
       "        vertical-align: middle;\n",
       "    }\n",
       "\n",
       "    .dataframe tbody tr th {\n",
       "        vertical-align: top;\n",
       "    }\n",
       "\n",
       "    .dataframe thead th {\n",
       "        text-align: right;\n",
       "    }\n",
       "</style>\n",
       "<table border=\"1\" class=\"dataframe\">\n",
       "  <thead>\n",
       "    <tr style=\"text-align: right;\">\n",
       "      <th></th>\n",
       "      <th>name</th>\n",
       "      <th>platform</th>\n",
       "      <th>year_of_release</th>\n",
       "      <th>genre</th>\n",
       "      <th>na_sales</th>\n",
       "      <th>eu_sales</th>\n",
       "      <th>jp_sales</th>\n",
       "      <th>other_sales</th>\n",
       "      <th>critic_score</th>\n",
       "      <th>user_score</th>\n",
       "      <th>rating</th>\n",
       "      <th>all_sales</th>\n",
       "    </tr>\n",
       "  </thead>\n",
       "  <tbody>\n",
       "    <tr>\n",
       "      <th>0</th>\n",
       "      <td>Beyblade Burst</td>\n",
       "      <td>3DS</td>\n",
       "      <td>2016.0</td>\n",
       "      <td>Role-Playing</td>\n",
       "      <td>0.00</td>\n",
       "      <td>0.00</td>\n",
       "      <td>0.03</td>\n",
       "      <td>0.00</td>\n",
       "      <td>NaN</td>\n",
       "      <td>NaN</td>\n",
       "      <td>NaN</td>\n",
       "      <td>0.03</td>\n",
       "    </tr>\n",
       "    <tr>\n",
       "      <th>1</th>\n",
       "      <td>Fire Emblem Fates</td>\n",
       "      <td>3DS</td>\n",
       "      <td>2015.0</td>\n",
       "      <td>Role-Playing</td>\n",
       "      <td>0.81</td>\n",
       "      <td>0.23</td>\n",
       "      <td>0.52</td>\n",
       "      <td>0.11</td>\n",
       "      <td>NaN</td>\n",
       "      <td>NaN</td>\n",
       "      <td>NaN</td>\n",
       "      <td>1.67</td>\n",
       "    </tr>\n",
       "    <tr>\n",
       "      <th>2</th>\n",
       "      <td>Frozen: Olaf's Quest</td>\n",
       "      <td>3DS</td>\n",
       "      <td>2013.0</td>\n",
       "      <td>Platform</td>\n",
       "      <td>0.27</td>\n",
       "      <td>0.27</td>\n",
       "      <td>0.00</td>\n",
       "      <td>0.05</td>\n",
       "      <td>NaN</td>\n",
       "      <td>NaN</td>\n",
       "      <td>NaN</td>\n",
       "      <td>0.59</td>\n",
       "    </tr>\n",
       "    <tr>\n",
       "      <th>3</th>\n",
       "      <td>Frozen: Olaf's Quest</td>\n",
       "      <td>DS</td>\n",
       "      <td>2013.0</td>\n",
       "      <td>Platform</td>\n",
       "      <td>0.21</td>\n",
       "      <td>0.26</td>\n",
       "      <td>0.00</td>\n",
       "      <td>0.04</td>\n",
       "      <td>NaN</td>\n",
       "      <td>NaN</td>\n",
       "      <td>NaN</td>\n",
       "      <td>0.51</td>\n",
       "    </tr>\n",
       "    <tr>\n",
       "      <th>4</th>\n",
       "      <td>Haikyu!! Cross Team Match!</td>\n",
       "      <td>3DS</td>\n",
       "      <td>2016.0</td>\n",
       "      <td>Adventure</td>\n",
       "      <td>0.00</td>\n",
       "      <td>0.00</td>\n",
       "      <td>0.04</td>\n",
       "      <td>0.00</td>\n",
       "      <td>NaN</td>\n",
       "      <td>NaN</td>\n",
       "      <td>NaN</td>\n",
       "      <td>0.04</td>\n",
       "    </tr>\n",
       "  </tbody>\n",
       "</table>\n",
       "</div>"
      ],
      "text/plain": [
       "                          name platform  year_of_release         genre  \\\n",
       "0               Beyblade Burst      3DS           2016.0  Role-Playing   \n",
       "1            Fire Emblem Fates      3DS           2015.0  Role-Playing   \n",
       "2         Frozen: Olaf's Quest      3DS           2013.0      Platform   \n",
       "3         Frozen: Olaf's Quest       DS           2013.0      Platform   \n",
       "4   Haikyu!! Cross Team Match!      3DS           2016.0     Adventure   \n",
       "\n",
       "   na_sales  eu_sales  jp_sales  other_sales  critic_score user_score rating  \\\n",
       "0      0.00      0.00      0.03         0.00           NaN        NaN    NaN   \n",
       "1      0.81      0.23      0.52         0.11           NaN        NaN    NaN   \n",
       "2      0.27      0.27      0.00         0.05           NaN        NaN    NaN   \n",
       "3      0.21      0.26      0.00         0.04           NaN        NaN    NaN   \n",
       "4      0.00      0.00      0.04         0.00           NaN        NaN    NaN   \n",
       "\n",
       "   all_sales  \n",
       "0       0.03  \n",
       "1       1.67  \n",
       "2       0.59  \n",
       "3       0.51  \n",
       "4       0.04  "
      ]
     },
     "metadata": {},
     "output_type": "display_data"
    },
    {
     "data": {
      "text/plain": [
       "name                  2\n",
       "platform              0\n",
       "year_of_release     268\n",
       "genre                 2\n",
       "na_sales              0\n",
       "eu_sales              0\n",
       "jp_sales              0\n",
       "other_sales           0\n",
       "critic_score       8578\n",
       "user_score         6701\n",
       "rating             6766\n",
       "all_sales             0\n",
       "dtype: int64"
      ]
     },
     "execution_count": 7,
     "metadata": {},
     "output_type": "execute_result"
    }
   ],
   "source": [
    "#считаем суммарные продажи во всех регионах и записываем в отдельный столбец\n",
    "data['all_sales'] = data['na_sales']+data['eu_sales']+data['jp_sales']+data['other_sales']\n",
    "display(data.head())\n",
    "\n",
    "data.isna().sum()"
   ]
  },
  {
   "cell_type": "code",
   "execution_count": 8,
   "metadata": {
    "scrolled": false
   },
   "outputs": [],
   "source": [
    "#удаляем строки не содержащие сведений о наименовании видеоигры и жанре\n",
    "data = data.dropna(subset=['name'])\n",
    "#сбрасываем индексацию\n",
    "data.reset_index(drop=True,inplace=True)"
   ]
  },
  {
   "cell_type": "code",
   "execution_count": 9,
   "metadata": {
    "scrolled": true
   },
   "outputs": [
    {
     "data": {
      "text/html": [
       "<div>\n",
       "<style scoped>\n",
       "    .dataframe tbody tr th:only-of-type {\n",
       "        vertical-align: middle;\n",
       "    }\n",
       "\n",
       "    .dataframe tbody tr th {\n",
       "        vertical-align: top;\n",
       "    }\n",
       "\n",
       "    .dataframe thead th {\n",
       "        text-align: right;\n",
       "    }\n",
       "</style>\n",
       "<table border=\"1\" class=\"dataframe\">\n",
       "  <thead>\n",
       "    <tr style=\"text-align: right;\">\n",
       "      <th></th>\n",
       "      <th>name</th>\n",
       "      <th>platform</th>\n",
       "      <th>year_of_release</th>\n",
       "      <th>genre</th>\n",
       "      <th>na_sales</th>\n",
       "      <th>eu_sales</th>\n",
       "      <th>jp_sales</th>\n",
       "      <th>other_sales</th>\n",
       "      <th>critic_score</th>\n",
       "      <th>user_score</th>\n",
       "      <th>rating</th>\n",
       "      <th>all_sales</th>\n",
       "    </tr>\n",
       "  </thead>\n",
       "  <tbody>\n",
       "    <tr>\n",
       "      <th>0</th>\n",
       "      <td>Beyblade Burst</td>\n",
       "      <td>3DS</td>\n",
       "      <td>2016.0</td>\n",
       "      <td>Role-Playing</td>\n",
       "      <td>0.00</td>\n",
       "      <td>0.00</td>\n",
       "      <td>0.03</td>\n",
       "      <td>0.00</td>\n",
       "      <td>NaN</td>\n",
       "      <td>NaN</td>\n",
       "      <td>undefined</td>\n",
       "      <td>0.03</td>\n",
       "    </tr>\n",
       "    <tr>\n",
       "      <th>1</th>\n",
       "      <td>Fire Emblem Fates</td>\n",
       "      <td>3DS</td>\n",
       "      <td>2015.0</td>\n",
       "      <td>Role-Playing</td>\n",
       "      <td>0.81</td>\n",
       "      <td>0.23</td>\n",
       "      <td>0.52</td>\n",
       "      <td>0.11</td>\n",
       "      <td>NaN</td>\n",
       "      <td>NaN</td>\n",
       "      <td>undefined</td>\n",
       "      <td>1.67</td>\n",
       "    </tr>\n",
       "    <tr>\n",
       "      <th>2</th>\n",
       "      <td>Frozen: Olaf's Quest</td>\n",
       "      <td>3DS</td>\n",
       "      <td>2013.0</td>\n",
       "      <td>Platform</td>\n",
       "      <td>0.27</td>\n",
       "      <td>0.27</td>\n",
       "      <td>0.00</td>\n",
       "      <td>0.05</td>\n",
       "      <td>NaN</td>\n",
       "      <td>NaN</td>\n",
       "      <td>undefined</td>\n",
       "      <td>0.59</td>\n",
       "    </tr>\n",
       "    <tr>\n",
       "      <th>3</th>\n",
       "      <td>Frozen: Olaf's Quest</td>\n",
       "      <td>DS</td>\n",
       "      <td>2013.0</td>\n",
       "      <td>Platform</td>\n",
       "      <td>0.21</td>\n",
       "      <td>0.26</td>\n",
       "      <td>0.00</td>\n",
       "      <td>0.04</td>\n",
       "      <td>NaN</td>\n",
       "      <td>NaN</td>\n",
       "      <td>undefined</td>\n",
       "      <td>0.51</td>\n",
       "    </tr>\n",
       "    <tr>\n",
       "      <th>4</th>\n",
       "      <td>Haikyu!! Cross Team Match!</td>\n",
       "      <td>3DS</td>\n",
       "      <td>2016.0</td>\n",
       "      <td>Adventure</td>\n",
       "      <td>0.00</td>\n",
       "      <td>0.00</td>\n",
       "      <td>0.04</td>\n",
       "      <td>0.00</td>\n",
       "      <td>NaN</td>\n",
       "      <td>NaN</td>\n",
       "      <td>undefined</td>\n",
       "      <td>0.04</td>\n",
       "    </tr>\n",
       "  </tbody>\n",
       "</table>\n",
       "</div>"
      ],
      "text/plain": [
       "                          name platform  year_of_release         genre  \\\n",
       "0               Beyblade Burst      3DS           2016.0  Role-Playing   \n",
       "1            Fire Emblem Fates      3DS           2015.0  Role-Playing   \n",
       "2         Frozen: Olaf's Quest      3DS           2013.0      Platform   \n",
       "3         Frozen: Olaf's Quest       DS           2013.0      Platform   \n",
       "4   Haikyu!! Cross Team Match!      3DS           2016.0     Adventure   \n",
       "\n",
       "   na_sales  eu_sales  jp_sales  other_sales  critic_score user_score  \\\n",
       "0      0.00      0.00      0.03         0.00           NaN        NaN   \n",
       "1      0.81      0.23      0.52         0.11           NaN        NaN   \n",
       "2      0.27      0.27      0.00         0.05           NaN        NaN   \n",
       "3      0.21      0.26      0.00         0.04           NaN        NaN   \n",
       "4      0.00      0.00      0.04         0.00           NaN        NaN   \n",
       "\n",
       "      rating  all_sales  \n",
       "0  undefined       0.03  \n",
       "1  undefined       1.67  \n",
       "2  undefined       0.59  \n",
       "3  undefined       0.51  \n",
       "4  undefined       0.04  "
      ]
     },
     "metadata": {},
     "output_type": "display_data"
    }
   ],
   "source": [
    "#заменяем пропуски в столбце rating на значение 'undefined'\n",
    "data['rating'] = data['rating'].fillna('undefined')\n",
    "display(data.head())"
   ]
  },
  {
   "cell_type": "code",
   "execution_count": 10,
   "metadata": {},
   "outputs": [
    {
     "data": {
      "text/plain": [
       "array([nan, '7.9', '8.5', '8.9', '8.7', '4.6', '7.5', '7.1', '6.6', '6.3',\n",
       "       '6.7', '3.2', '6.2', '6', '5.8', '8.3', '5.7', '6.8', '8', '6.9',\n",
       "       '9', '7.7', '5.6', '7.4', '7.8', '8.1', '4.3', '4.4', '8.2', '4.9',\n",
       "       '7.2', '6.4', '5.9', '5.2', '4', '5.3', '1.1', '4.2', '8.4', '9.1',\n",
       "       '9.4', '6.5', '3', '7', '6.1', '7.3', '5.5', '3.8', '3.6', '3.5',\n",
       "       '7.6', '9.2', '8.8', '8.6', '5.4', '4.8', '4.5', '5.1', '2', '2.8',\n",
       "       '3.7', '2.5', '5', '2.7', '3.1', '1.3', '4.1', '1.7', '4.7', '3.4',\n",
       "       '1.4', '2.1', '0.3', '1.5', '9.6', '2.2', '9.7', '2.4', '1.8',\n",
       "       '2.6', '3.3', '0.5', '9.5', '1.9', '9.3', '0.9', '2.9', '3.9',\n",
       "       '1.6', '1', '2.3', '0.6', '0.7', '0.2', '1.2', '0'], dtype=object)"
      ]
     },
     "metadata": {},
     "output_type": "display_data"
    },
    {
     "name": "stdout",
     "output_type": "stream",
     "text": [
      "<class 'pandas.core.frame.DataFrame'>\n",
      "RangeIndex: 16711 entries, 0 to 16710\n",
      "Data columns (total 12 columns):\n",
      " #   Column           Non-Null Count  Dtype  \n",
      "---  ------           --------------  -----  \n",
      " 0   name             16711 non-null  object \n",
      " 1   platform         16711 non-null  object \n",
      " 2   year_of_release  16443 non-null  float64\n",
      " 3   genre            16711 non-null  object \n",
      " 4   na_sales         16711 non-null  float64\n",
      " 5   eu_sales         16711 non-null  float64\n",
      " 6   jp_sales         16711 non-null  float64\n",
      " 7   other_sales      16711 non-null  float64\n",
      " 8   critic_score     8135 non-null   float64\n",
      " 9   user_score       7588 non-null   float64\n",
      " 10  rating           16711 non-null  object \n",
      " 11  all_sales        16711 non-null  float64\n",
      "dtypes: float64(8), object(4)\n",
      "memory usage: 1.5+ MB\n"
     ]
    }
   ],
   "source": [
    "#в столбце user_score заменим значение 'tbd' на NaN\n",
    "data['user_score'] = data['user_score'].replace('tbd',np.NaN)\n",
    "display(data['user_score'].unique())\n",
    "#преобразуем тип данных в столбце user_score на числовой\n",
    "data['user_score'] = data['user_score'].astype('float')\n",
    "data.info()"
   ]
  },
  {
   "cell_type": "markdown",
   "metadata": {},
   "source": [
    "### Вывод\n",
    "Таблица содержит 16715 записей о продажах видеоигр для различных платформ за период времени с 1980 по 2016 год. Таблица содержит пропуски по наименованию видеоигры по 2 строкам, году выпуска по 269 строкам, жанру по 2 строкам, оценке критиков по 8578 строкам, оценке пользователей по 6701 строке, рейтингу по 6766 строкам. Строки с пропусками по наименованию видеоигры и жанру это одни и те же строки, которые были удалены. \n",
    "Явные дубликаты в таблице отсутствуют. Дополнительно, был проведен поиск по одновременному совпадению наименования игры и платформы. Выявлено два дубликата, которые были удалены после анализа.\n",
    "\n",
    "Названия столбцов приведены к нижнему регистру. Посчитаны суммарные продажи во всех регионах и записаны в столбец  'all_sales'.\n",
    "\n",
    "Пропуски в столбце 'rating' заполнены значением 'undefined'.\n",
    "\n",
    "Аббревиатура tbd обозначает что рейтинг игре будет присвоен позже. Данные значения были заменены на np.nan и формат данных в  столбце 'user_score' был изменен на числовой."
   ]
  },
  {
   "cell_type": "markdown",
   "metadata": {},
   "source": [
    "## Анализ данных в целом"
   ]
  },
  {
   "cell_type": "code",
   "execution_count": 11,
   "metadata": {
    "scrolled": false
   },
   "outputs": [
    {
     "data": {
      "text/html": [
       "<div>\n",
       "<style scoped>\n",
       "    .dataframe tbody tr th:only-of-type {\n",
       "        vertical-align: middle;\n",
       "    }\n",
       "\n",
       "    .dataframe tbody tr th {\n",
       "        vertical-align: top;\n",
       "    }\n",
       "\n",
       "    .dataframe thead th {\n",
       "        text-align: right;\n",
       "    }\n",
       "</style>\n",
       "<table border=\"1\" class=\"dataframe\">\n",
       "  <thead>\n",
       "    <tr style=\"text-align: right;\">\n",
       "      <th></th>\n",
       "      <th>year_of_release</th>\n",
       "      <th>value</th>\n",
       "    </tr>\n",
       "  </thead>\n",
       "  <tbody>\n",
       "    <tr>\n",
       "      <th>0</th>\n",
       "      <td>1980.0</td>\n",
       "      <td>9</td>\n",
       "    </tr>\n",
       "    <tr>\n",
       "      <th>1</th>\n",
       "      <td>1981.0</td>\n",
       "      <td>46</td>\n",
       "    </tr>\n",
       "    <tr>\n",
       "      <th>2</th>\n",
       "      <td>1982.0</td>\n",
       "      <td>36</td>\n",
       "    </tr>\n",
       "    <tr>\n",
       "      <th>3</th>\n",
       "      <td>1983.0</td>\n",
       "      <td>17</td>\n",
       "    </tr>\n",
       "    <tr>\n",
       "      <th>4</th>\n",
       "      <td>1984.0</td>\n",
       "      <td>14</td>\n",
       "    </tr>\n",
       "    <tr>\n",
       "      <th>5</th>\n",
       "      <td>1985.0</td>\n",
       "      <td>14</td>\n",
       "    </tr>\n",
       "    <tr>\n",
       "      <th>6</th>\n",
       "      <td>1986.0</td>\n",
       "      <td>21</td>\n",
       "    </tr>\n",
       "    <tr>\n",
       "      <th>7</th>\n",
       "      <td>1987.0</td>\n",
       "      <td>16</td>\n",
       "    </tr>\n",
       "    <tr>\n",
       "      <th>8</th>\n",
       "      <td>1988.0</td>\n",
       "      <td>15</td>\n",
       "    </tr>\n",
       "    <tr>\n",
       "      <th>9</th>\n",
       "      <td>1989.0</td>\n",
       "      <td>17</td>\n",
       "    </tr>\n",
       "    <tr>\n",
       "      <th>10</th>\n",
       "      <td>1990.0</td>\n",
       "      <td>16</td>\n",
       "    </tr>\n",
       "    <tr>\n",
       "      <th>11</th>\n",
       "      <td>1991.0</td>\n",
       "      <td>40</td>\n",
       "    </tr>\n",
       "    <tr>\n",
       "      <th>12</th>\n",
       "      <td>1992.0</td>\n",
       "      <td>41</td>\n",
       "    </tr>\n",
       "    <tr>\n",
       "      <th>13</th>\n",
       "      <td>1993.0</td>\n",
       "      <td>59</td>\n",
       "    </tr>\n",
       "    <tr>\n",
       "      <th>14</th>\n",
       "      <td>1994.0</td>\n",
       "      <td>117</td>\n",
       "    </tr>\n",
       "    <tr>\n",
       "      <th>15</th>\n",
       "      <td>1995.0</td>\n",
       "      <td>215</td>\n",
       "    </tr>\n",
       "    <tr>\n",
       "      <th>16</th>\n",
       "      <td>1996.0</td>\n",
       "      <td>258</td>\n",
       "    </tr>\n",
       "    <tr>\n",
       "      <th>17</th>\n",
       "      <td>1997.0</td>\n",
       "      <td>282</td>\n",
       "    </tr>\n",
       "    <tr>\n",
       "      <th>18</th>\n",
       "      <td>1998.0</td>\n",
       "      <td>364</td>\n",
       "    </tr>\n",
       "    <tr>\n",
       "      <th>19</th>\n",
       "      <td>1999.0</td>\n",
       "      <td>326</td>\n",
       "    </tr>\n",
       "    <tr>\n",
       "      <th>20</th>\n",
       "      <td>2000.0</td>\n",
       "      <td>325</td>\n",
       "    </tr>\n",
       "    <tr>\n",
       "      <th>21</th>\n",
       "      <td>2001.0</td>\n",
       "      <td>428</td>\n",
       "    </tr>\n",
       "    <tr>\n",
       "      <th>22</th>\n",
       "      <td>2002.0</td>\n",
       "      <td>631</td>\n",
       "    </tr>\n",
       "    <tr>\n",
       "      <th>23</th>\n",
       "      <td>2003.0</td>\n",
       "      <td>546</td>\n",
       "    </tr>\n",
       "    <tr>\n",
       "      <th>24</th>\n",
       "      <td>2004.0</td>\n",
       "      <td>550</td>\n",
       "    </tr>\n",
       "    <tr>\n",
       "      <th>25</th>\n",
       "      <td>2005.0</td>\n",
       "      <td>657</td>\n",
       "    </tr>\n",
       "    <tr>\n",
       "      <th>26</th>\n",
       "      <td>2006.0</td>\n",
       "      <td>773</td>\n",
       "    </tr>\n",
       "    <tr>\n",
       "      <th>27</th>\n",
       "      <td>2007.0</td>\n",
       "      <td>884</td>\n",
       "    </tr>\n",
       "    <tr>\n",
       "      <th>28</th>\n",
       "      <td>2008.0</td>\n",
       "      <td>1039</td>\n",
       "    </tr>\n",
       "    <tr>\n",
       "      <th>29</th>\n",
       "      <td>2009.0</td>\n",
       "      <td>1001</td>\n",
       "    </tr>\n",
       "    <tr>\n",
       "      <th>30</th>\n",
       "      <td>2010.0</td>\n",
       "      <td>900</td>\n",
       "    </tr>\n",
       "    <tr>\n",
       "      <th>31</th>\n",
       "      <td>2011.0</td>\n",
       "      <td>779</td>\n",
       "    </tr>\n",
       "    <tr>\n",
       "      <th>32</th>\n",
       "      <td>2012.0</td>\n",
       "      <td>446</td>\n",
       "    </tr>\n",
       "    <tr>\n",
       "      <th>33</th>\n",
       "      <td>2013.0</td>\n",
       "      <td>335</td>\n",
       "    </tr>\n",
       "    <tr>\n",
       "      <th>34</th>\n",
       "      <td>2014.0</td>\n",
       "      <td>319</td>\n",
       "    </tr>\n",
       "    <tr>\n",
       "      <th>35</th>\n",
       "      <td>2015.0</td>\n",
       "      <td>362</td>\n",
       "    </tr>\n",
       "    <tr>\n",
       "      <th>36</th>\n",
       "      <td>2016.0</td>\n",
       "      <td>297</td>\n",
       "    </tr>\n",
       "  </tbody>\n",
       "</table>\n",
       "</div>"
      ],
      "text/plain": [
       "    year_of_release  value\n",
       "0            1980.0      9\n",
       "1            1981.0     46\n",
       "2            1982.0     36\n",
       "3            1983.0     17\n",
       "4            1984.0     14\n",
       "5            1985.0     14\n",
       "6            1986.0     21\n",
       "7            1987.0     16\n",
       "8            1988.0     15\n",
       "9            1989.0     17\n",
       "10           1990.0     16\n",
       "11           1991.0     40\n",
       "12           1992.0     41\n",
       "13           1993.0     59\n",
       "14           1994.0    117\n",
       "15           1995.0    215\n",
       "16           1996.0    258\n",
       "17           1997.0    282\n",
       "18           1998.0    364\n",
       "19           1999.0    326\n",
       "20           2000.0    325\n",
       "21           2001.0    428\n",
       "22           2002.0    631\n",
       "23           2003.0    546\n",
       "24           2004.0    550\n",
       "25           2005.0    657\n",
       "26           2006.0    773\n",
       "27           2007.0    884\n",
       "28           2008.0   1039\n",
       "29           2009.0   1001\n",
       "30           2010.0    900\n",
       "31           2011.0    779\n",
       "32           2012.0    446\n",
       "33           2013.0    335\n",
       "34           2014.0    319\n",
       "35           2015.0    362\n",
       "36           2016.0    297"
      ]
     },
     "metadata": {},
     "output_type": "display_data"
    },
    {
     "data": {
      "image/png": "[encoded data removed]",
      "text/plain": [
       "<Figure size 432x288 with 1 Axes>"
      ]
     },
     "metadata": {
      "needs_background": "light"
     },
     "output_type": "display_data"
    }
   ],
   "source": [
    "#формируем таблицу по количеству игр, выпущенных в разные годы\n",
    "data_name = pd.DataFrame(columns=['name','year_of_release'])\n",
    "data_name['name'] = data['name']\n",
    "data_name['year_of_release'] = data['year_of_release']\n",
    "#убираем дубликаты, игры выпущенные на разных платформах в один год\n",
    "data_name = data_name.drop_duplicates().reset_index(drop=True)\n",
    "#строим сводную таблицу, отображающую количество уникальных игр, выпущенных по годам\n",
    "pivot_1 = data_name.pivot_table(index='year_of_release',values='year_of_release',aggfunc='count')\n",
    "#индексируем сводную таблицу\n",
    "pivot_1.reset_index(inplace=True)\n",
    "#переименовываем столбцы\n",
    "pivot_1.columns = ['year_of_release','value']\n",
    "display(pivot_1)\n",
    "#строим график для наглядности\n",
    "pivot_1.plot(x='year_of_release', y='value', kind='scatter')\n",
    "plt.title(\"График выпуска видеоигр по годам\")\n",
    "plt.xlabel(\"Год выпуска\")\n",
    "plt.ylabel(\"Количество видеоигр\")\n",
    "plt.show()"
   ]
  },
  {
   "cell_type": "markdown",
   "metadata": {},
   "source": [
    "### Вывод\n",
    "Построена сводная таблица выпуска видеигр по годам и график, отображающий наглядно данные сводной таблицы. Значительный рост количества выпускаемых видеоигр начался в 1998 году, рост продолжался до 2008 года, когда было выпущено 1039 игр, после этого началось падение. В 2016 году было выпущено 297 игр. Практически двухкратное падение произошло в 2012 году по сравнению с 2011 годом. После этого рынок стабилизировался. Таким образом, для дальнейшего анализа и прогноза на 2017 год можно рассматривать период времени с 2012 года по 2016 год."
   ]
  },
  {
   "cell_type": "code",
   "execution_count": 12,
   "metadata": {
    "scrolled": false
   },
   "outputs": [
    {
     "data": {
      "text/html": [
       "<div>\n",
       "<style scoped>\n",
       "    .dataframe tbody tr th:only-of-type {\n",
       "        vertical-align: middle;\n",
       "    }\n",
       "\n",
       "    .dataframe tbody tr th {\n",
       "        vertical-align: top;\n",
       "    }\n",
       "\n",
       "    .dataframe thead th {\n",
       "        text-align: right;\n",
       "    }\n",
       "</style>\n",
       "<table border=\"1\" class=\"dataframe\">\n",
       "  <thead>\n",
       "    <tr style=\"text-align: right;\">\n",
       "      <th></th>\n",
       "      <th>all_sales</th>\n",
       "    </tr>\n",
       "    <tr>\n",
       "      <th>platform</th>\n",
       "      <th></th>\n",
       "    </tr>\n",
       "  </thead>\n",
       "  <tbody>\n",
       "    <tr>\n",
       "      <th>PS2</th>\n",
       "      <td>1255.77</td>\n",
       "    </tr>\n",
       "    <tr>\n",
       "      <th>X360</th>\n",
       "      <td>971.42</td>\n",
       "    </tr>\n",
       "    <tr>\n",
       "      <th>PS3</th>\n",
       "      <td>939.16</td>\n",
       "    </tr>\n",
       "    <tr>\n",
       "      <th>Wii</th>\n",
       "      <td>907.51</td>\n",
       "    </tr>\n",
       "    <tr>\n",
       "      <th>DS</th>\n",
       "      <td>806.12</td>\n",
       "    </tr>\n",
       "    <tr>\n",
       "      <th>PS</th>\n",
       "      <td>730.86</td>\n",
       "    </tr>\n",
       "    <tr>\n",
       "      <th>GBA</th>\n",
       "      <td>317.85</td>\n",
       "    </tr>\n",
       "    <tr>\n",
       "      <th>PS4</th>\n",
       "      <td>314.14</td>\n",
       "    </tr>\n",
       "    <tr>\n",
       "      <th>PSP</th>\n",
       "      <td>294.05</td>\n",
       "    </tr>\n",
       "    <tr>\n",
       "      <th>PC</th>\n",
       "      <td>259.52</td>\n",
       "    </tr>\n",
       "    <tr>\n",
       "      <th>3DS</th>\n",
       "      <td>259.00</td>\n",
       "    </tr>\n",
       "    <tr>\n",
       "      <th>XB</th>\n",
       "      <td>257.74</td>\n",
       "    </tr>\n",
       "    <tr>\n",
       "      <th>GB</th>\n",
       "      <td>255.46</td>\n",
       "    </tr>\n",
       "    <tr>\n",
       "      <th>NES</th>\n",
       "      <td>251.05</td>\n",
       "    </tr>\n",
       "    <tr>\n",
       "      <th>N64</th>\n",
       "      <td>218.68</td>\n",
       "    </tr>\n",
       "    <tr>\n",
       "      <th>SNES</th>\n",
       "      <td>200.04</td>\n",
       "    </tr>\n",
       "    <tr>\n",
       "      <th>GC</th>\n",
       "      <td>198.93</td>\n",
       "    </tr>\n",
       "    <tr>\n",
       "      <th>XOne</th>\n",
       "      <td>159.32</td>\n",
       "    </tr>\n",
       "    <tr>\n",
       "      <th>2600</th>\n",
       "      <td>96.98</td>\n",
       "    </tr>\n",
       "    <tr>\n",
       "      <th>WiiU</th>\n",
       "      <td>82.19</td>\n",
       "    </tr>\n",
       "    <tr>\n",
       "      <th>PSV</th>\n",
       "      <td>54.07</td>\n",
       "    </tr>\n",
       "    <tr>\n",
       "      <th>SAT</th>\n",
       "      <td>33.59</td>\n",
       "    </tr>\n",
       "    <tr>\n",
       "      <th>GEN</th>\n",
       "      <td>28.35</td>\n",
       "    </tr>\n",
       "    <tr>\n",
       "      <th>DC</th>\n",
       "      <td>15.95</td>\n",
       "    </tr>\n",
       "    <tr>\n",
       "      <th>SCD</th>\n",
       "      <td>1.86</td>\n",
       "    </tr>\n",
       "    <tr>\n",
       "      <th>NG</th>\n",
       "      <td>1.44</td>\n",
       "    </tr>\n",
       "    <tr>\n",
       "      <th>WS</th>\n",
       "      <td>1.42</td>\n",
       "    </tr>\n",
       "    <tr>\n",
       "      <th>TG16</th>\n",
       "      <td>0.16</td>\n",
       "    </tr>\n",
       "    <tr>\n",
       "      <th>3DO</th>\n",
       "      <td>0.10</td>\n",
       "    </tr>\n",
       "    <tr>\n",
       "      <th>GG</th>\n",
       "      <td>0.04</td>\n",
       "    </tr>\n",
       "    <tr>\n",
       "      <th>PCFX</th>\n",
       "      <td>0.03</td>\n",
       "    </tr>\n",
       "  </tbody>\n",
       "</table>\n",
       "</div>"
      ],
      "text/plain": [
       "          all_sales\n",
       "platform           \n",
       "PS2         1255.77\n",
       "X360         971.42\n",
       "PS3          939.16\n",
       "Wii          907.51\n",
       "DS           806.12\n",
       "PS           730.86\n",
       "GBA          317.85\n",
       "PS4          314.14\n",
       "PSP          294.05\n",
       "PC           259.52\n",
       "3DS          259.00\n",
       "XB           257.74\n",
       "GB           255.46\n",
       "NES          251.05\n",
       "N64          218.68\n",
       "SNES         200.04\n",
       "GC           198.93\n",
       "XOne         159.32\n",
       "2600          96.98\n",
       "WiiU          82.19\n",
       "PSV           54.07\n",
       "SAT           33.59\n",
       "GEN           28.35\n",
       "DC            15.95\n",
       "SCD            1.86\n",
       "NG             1.44\n",
       "WS             1.42\n",
       "TG16           0.16\n",
       "3DO            0.10\n",
       "GG             0.04\n",
       "PCFX           0.03"
      ]
     },
     "metadata": {},
     "output_type": "display_data"
    },
    {
     "name": "stdout",
     "output_type": "stream",
     "text": [
      "200.04000000000008\n",
      "287.50967741935426\n"
     ]
    },
    {
     "data": {
      "text/html": [
       "<div>\n",
       "<style scoped>\n",
       "    .dataframe tbody tr th:only-of-type {\n",
       "        vertical-align: middle;\n",
       "    }\n",
       "\n",
       "    .dataframe tbody tr th {\n",
       "        vertical-align: top;\n",
       "    }\n",
       "\n",
       "    .dataframe thead th {\n",
       "        text-align: right;\n",
       "    }\n",
       "</style>\n",
       "<table border=\"1\" class=\"dataframe\">\n",
       "  <thead>\n",
       "    <tr style=\"text-align: right;\">\n",
       "      <th>year_of_release</th>\n",
       "      <th>platform</th>\n",
       "      <th>1980.0</th>\n",
       "      <th>1981.0</th>\n",
       "      <th>1982.0</th>\n",
       "      <th>1983.0</th>\n",
       "      <th>1984.0</th>\n",
       "      <th>1985.0</th>\n",
       "      <th>1986.0</th>\n",
       "      <th>1987.0</th>\n",
       "      <th>1988.0</th>\n",
       "      <th>...</th>\n",
       "      <th>2008.0</th>\n",
       "      <th>2009.0</th>\n",
       "      <th>2010.0</th>\n",
       "      <th>2011.0</th>\n",
       "      <th>2012.0</th>\n",
       "      <th>2013.0</th>\n",
       "      <th>2014.0</th>\n",
       "      <th>2015.0</th>\n",
       "      <th>2016.0</th>\n",
       "      <th>count</th>\n",
       "    </tr>\n",
       "  </thead>\n",
       "  <tbody>\n",
       "    <tr>\n",
       "      <th>0</th>\n",
       "      <td>2600</td>\n",
       "      <td>11.38</td>\n",
       "      <td>35.68</td>\n",
       "      <td>28.88</td>\n",
       "      <td>5.84</td>\n",
       "      <td>0.27</td>\n",
       "      <td>0.45</td>\n",
       "      <td>0.67</td>\n",
       "      <td>1.94</td>\n",
       "      <td>0.74</td>\n",
       "      <td>...</td>\n",
       "      <td>NaN</td>\n",
       "      <td>NaN</td>\n",
       "      <td>NaN</td>\n",
       "      <td>NaN</td>\n",
       "      <td>NaN</td>\n",
       "      <td>NaN</td>\n",
       "      <td>NaN</td>\n",
       "      <td>NaN</td>\n",
       "      <td>NaN</td>\n",
       "      <td>10.0</td>\n",
       "    </tr>\n",
       "    <tr>\n",
       "      <th>1</th>\n",
       "      <td>3DS</td>\n",
       "      <td>NaN</td>\n",
       "      <td>NaN</td>\n",
       "      <td>NaN</td>\n",
       "      <td>NaN</td>\n",
       "      <td>NaN</td>\n",
       "      <td>NaN</td>\n",
       "      <td>NaN</td>\n",
       "      <td>NaN</td>\n",
       "      <td>NaN</td>\n",
       "      <td>...</td>\n",
       "      <td>NaN</td>\n",
       "      <td>NaN</td>\n",
       "      <td>NaN</td>\n",
       "      <td>63.20</td>\n",
       "      <td>51.36</td>\n",
       "      <td>56.57</td>\n",
       "      <td>43.76</td>\n",
       "      <td>27.78</td>\n",
       "      <td>15.14</td>\n",
       "      <td>6.0</td>\n",
       "    </tr>\n",
       "    <tr>\n",
       "      <th>2</th>\n",
       "      <td>DS</td>\n",
       "      <td>NaN</td>\n",
       "      <td>NaN</td>\n",
       "      <td>NaN</td>\n",
       "      <td>NaN</td>\n",
       "      <td>NaN</td>\n",
       "      <td>0.02</td>\n",
       "      <td>NaN</td>\n",
       "      <td>NaN</td>\n",
       "      <td>NaN</td>\n",
       "      <td>...</td>\n",
       "      <td>145.31</td>\n",
       "      <td>119.54</td>\n",
       "      <td>85.02</td>\n",
       "      <td>26.18</td>\n",
       "      <td>11.01</td>\n",
       "      <td>1.54</td>\n",
       "      <td>NaN</td>\n",
       "      <td>NaN</td>\n",
       "      <td>NaN</td>\n",
       "      <td>11.0</td>\n",
       "    </tr>\n",
       "    <tr>\n",
       "      <th>3</th>\n",
       "      <td>GB</td>\n",
       "      <td>NaN</td>\n",
       "      <td>NaN</td>\n",
       "      <td>NaN</td>\n",
       "      <td>NaN</td>\n",
       "      <td>NaN</td>\n",
       "      <td>NaN</td>\n",
       "      <td>NaN</td>\n",
       "      <td>NaN</td>\n",
       "      <td>1.43</td>\n",
       "      <td>...</td>\n",
       "      <td>NaN</td>\n",
       "      <td>NaN</td>\n",
       "      <td>NaN</td>\n",
       "      <td>NaN</td>\n",
       "      <td>NaN</td>\n",
       "      <td>NaN</td>\n",
       "      <td>NaN</td>\n",
       "      <td>NaN</td>\n",
       "      <td>NaN</td>\n",
       "      <td>13.0</td>\n",
       "    </tr>\n",
       "    <tr>\n",
       "      <th>4</th>\n",
       "      <td>GBA</td>\n",
       "      <td>NaN</td>\n",
       "      <td>NaN</td>\n",
       "      <td>NaN</td>\n",
       "      <td>NaN</td>\n",
       "      <td>NaN</td>\n",
       "      <td>NaN</td>\n",
       "      <td>NaN</td>\n",
       "      <td>NaN</td>\n",
       "      <td>NaN</td>\n",
       "      <td>...</td>\n",
       "      <td>NaN</td>\n",
       "      <td>NaN</td>\n",
       "      <td>NaN</td>\n",
       "      <td>NaN</td>\n",
       "      <td>NaN</td>\n",
       "      <td>NaN</td>\n",
       "      <td>NaN</td>\n",
       "      <td>NaN</td>\n",
       "      <td>NaN</td>\n",
       "      <td>8.0</td>\n",
       "    </tr>\n",
       "    <tr>\n",
       "      <th>5</th>\n",
       "      <td>GC</td>\n",
       "      <td>NaN</td>\n",
       "      <td>NaN</td>\n",
       "      <td>NaN</td>\n",
       "      <td>NaN</td>\n",
       "      <td>NaN</td>\n",
       "      <td>NaN</td>\n",
       "      <td>NaN</td>\n",
       "      <td>NaN</td>\n",
       "      <td>NaN</td>\n",
       "      <td>...</td>\n",
       "      <td>NaN</td>\n",
       "      <td>NaN</td>\n",
       "      <td>NaN</td>\n",
       "      <td>NaN</td>\n",
       "      <td>NaN</td>\n",
       "      <td>NaN</td>\n",
       "      <td>NaN</td>\n",
       "      <td>NaN</td>\n",
       "      <td>NaN</td>\n",
       "      <td>7.0</td>\n",
       "    </tr>\n",
       "    <tr>\n",
       "      <th>6</th>\n",
       "      <td>N64</td>\n",
       "      <td>NaN</td>\n",
       "      <td>NaN</td>\n",
       "      <td>NaN</td>\n",
       "      <td>NaN</td>\n",
       "      <td>NaN</td>\n",
       "      <td>NaN</td>\n",
       "      <td>NaN</td>\n",
       "      <td>NaN</td>\n",
       "      <td>NaN</td>\n",
       "      <td>...</td>\n",
       "      <td>NaN</td>\n",
       "      <td>NaN</td>\n",
       "      <td>NaN</td>\n",
       "      <td>NaN</td>\n",
       "      <td>NaN</td>\n",
       "      <td>NaN</td>\n",
       "      <td>NaN</td>\n",
       "      <td>NaN</td>\n",
       "      <td>NaN</td>\n",
       "      <td>7.0</td>\n",
       "    </tr>\n",
       "    <tr>\n",
       "      <th>7</th>\n",
       "      <td>NES</td>\n",
       "      <td>NaN</td>\n",
       "      <td>NaN</td>\n",
       "      <td>NaN</td>\n",
       "      <td>10.96</td>\n",
       "      <td>50.08</td>\n",
       "      <td>53.44</td>\n",
       "      <td>36.41</td>\n",
       "      <td>19.76</td>\n",
       "      <td>45.01</td>\n",
       "      <td>...</td>\n",
       "      <td>NaN</td>\n",
       "      <td>NaN</td>\n",
       "      <td>NaN</td>\n",
       "      <td>NaN</td>\n",
       "      <td>NaN</td>\n",
       "      <td>NaN</td>\n",
       "      <td>NaN</td>\n",
       "      <td>NaN</td>\n",
       "      <td>NaN</td>\n",
       "      <td>12.0</td>\n",
       "    </tr>\n",
       "    <tr>\n",
       "      <th>8</th>\n",
       "      <td>PC</td>\n",
       "      <td>NaN</td>\n",
       "      <td>NaN</td>\n",
       "      <td>NaN</td>\n",
       "      <td>NaN</td>\n",
       "      <td>NaN</td>\n",
       "      <td>0.04</td>\n",
       "      <td>NaN</td>\n",
       "      <td>NaN</td>\n",
       "      <td>0.03</td>\n",
       "      <td>...</td>\n",
       "      <td>12.42</td>\n",
       "      <td>16.91</td>\n",
       "      <td>24.28</td>\n",
       "      <td>35.03</td>\n",
       "      <td>23.22</td>\n",
       "      <td>12.38</td>\n",
       "      <td>13.28</td>\n",
       "      <td>8.52</td>\n",
       "      <td>5.25</td>\n",
       "      <td>26.0</td>\n",
       "    </tr>\n",
       "    <tr>\n",
       "      <th>9</th>\n",
       "      <td>PS</td>\n",
       "      <td>NaN</td>\n",
       "      <td>NaN</td>\n",
       "      <td>NaN</td>\n",
       "      <td>NaN</td>\n",
       "      <td>NaN</td>\n",
       "      <td>NaN</td>\n",
       "      <td>NaN</td>\n",
       "      <td>NaN</td>\n",
       "      <td>NaN</td>\n",
       "      <td>...</td>\n",
       "      <td>NaN</td>\n",
       "      <td>NaN</td>\n",
       "      <td>NaN</td>\n",
       "      <td>NaN</td>\n",
       "      <td>NaN</td>\n",
       "      <td>NaN</td>\n",
       "      <td>NaN</td>\n",
       "      <td>NaN</td>\n",
       "      <td>NaN</td>\n",
       "      <td>10.0</td>\n",
       "    </tr>\n",
       "    <tr>\n",
       "      <th>10</th>\n",
       "      <td>PS2</td>\n",
       "      <td>NaN</td>\n",
       "      <td>NaN</td>\n",
       "      <td>NaN</td>\n",
       "      <td>NaN</td>\n",
       "      <td>NaN</td>\n",
       "      <td>NaN</td>\n",
       "      <td>NaN</td>\n",
       "      <td>NaN</td>\n",
       "      <td>NaN</td>\n",
       "      <td>...</td>\n",
       "      <td>53.90</td>\n",
       "      <td>26.40</td>\n",
       "      <td>5.64</td>\n",
       "      <td>0.45</td>\n",
       "      <td>NaN</td>\n",
       "      <td>NaN</td>\n",
       "      <td>NaN</td>\n",
       "      <td>NaN</td>\n",
       "      <td>NaN</td>\n",
       "      <td>12.0</td>\n",
       "    </tr>\n",
       "    <tr>\n",
       "      <th>11</th>\n",
       "      <td>PS3</td>\n",
       "      <td>NaN</td>\n",
       "      <td>NaN</td>\n",
       "      <td>NaN</td>\n",
       "      <td>NaN</td>\n",
       "      <td>NaN</td>\n",
       "      <td>NaN</td>\n",
       "      <td>NaN</td>\n",
       "      <td>NaN</td>\n",
       "      <td>NaN</td>\n",
       "      <td>...</td>\n",
       "      <td>118.52</td>\n",
       "      <td>130.93</td>\n",
       "      <td>142.17</td>\n",
       "      <td>156.78</td>\n",
       "      <td>107.35</td>\n",
       "      <td>113.25</td>\n",
       "      <td>47.76</td>\n",
       "      <td>16.82</td>\n",
       "      <td>3.60</td>\n",
       "      <td>11.0</td>\n",
       "    </tr>\n",
       "    <tr>\n",
       "      <th>12</th>\n",
       "      <td>PS4</td>\n",
       "      <td>NaN</td>\n",
       "      <td>NaN</td>\n",
       "      <td>NaN</td>\n",
       "      <td>NaN</td>\n",
       "      <td>NaN</td>\n",
       "      <td>NaN</td>\n",
       "      <td>NaN</td>\n",
       "      <td>NaN</td>\n",
       "      <td>NaN</td>\n",
       "      <td>...</td>\n",
       "      <td>NaN</td>\n",
       "      <td>NaN</td>\n",
       "      <td>NaN</td>\n",
       "      <td>NaN</td>\n",
       "      <td>NaN</td>\n",
       "      <td>25.99</td>\n",
       "      <td>100.00</td>\n",
       "      <td>118.90</td>\n",
       "      <td>69.25</td>\n",
       "      <td>4.0</td>\n",
       "    </tr>\n",
       "    <tr>\n",
       "      <th>13</th>\n",
       "      <td>PSP</td>\n",
       "      <td>NaN</td>\n",
       "      <td>NaN</td>\n",
       "      <td>NaN</td>\n",
       "      <td>NaN</td>\n",
       "      <td>NaN</td>\n",
       "      <td>NaN</td>\n",
       "      <td>NaN</td>\n",
       "      <td>NaN</td>\n",
       "      <td>NaN</td>\n",
       "      <td>...</td>\n",
       "      <td>34.55</td>\n",
       "      <td>37.78</td>\n",
       "      <td>35.04</td>\n",
       "      <td>17.82</td>\n",
       "      <td>7.69</td>\n",
       "      <td>3.14</td>\n",
       "      <td>0.24</td>\n",
       "      <td>0.12</td>\n",
       "      <td>NaN</td>\n",
       "      <td>12.0</td>\n",
       "    </tr>\n",
       "    <tr>\n",
       "      <th>14</th>\n",
       "      <td>PSV</td>\n",
       "      <td>NaN</td>\n",
       "      <td>NaN</td>\n",
       "      <td>NaN</td>\n",
       "      <td>NaN</td>\n",
       "      <td>NaN</td>\n",
       "      <td>NaN</td>\n",
       "      <td>NaN</td>\n",
       "      <td>NaN</td>\n",
       "      <td>NaN</td>\n",
       "      <td>...</td>\n",
       "      <td>NaN</td>\n",
       "      <td>NaN</td>\n",
       "      <td>NaN</td>\n",
       "      <td>4.63</td>\n",
       "      <td>16.19</td>\n",
       "      <td>10.59</td>\n",
       "      <td>11.90</td>\n",
       "      <td>6.25</td>\n",
       "      <td>4.25</td>\n",
       "      <td>6.0</td>\n",
       "    </tr>\n",
       "    <tr>\n",
       "      <th>15</th>\n",
       "      <td>SNES</td>\n",
       "      <td>NaN</td>\n",
       "      <td>NaN</td>\n",
       "      <td>NaN</td>\n",
       "      <td>NaN</td>\n",
       "      <td>NaN</td>\n",
       "      <td>NaN</td>\n",
       "      <td>NaN</td>\n",
       "      <td>NaN</td>\n",
       "      <td>NaN</td>\n",
       "      <td>...</td>\n",
       "      <td>NaN</td>\n",
       "      <td>NaN</td>\n",
       "      <td>NaN</td>\n",
       "      <td>NaN</td>\n",
       "      <td>NaN</td>\n",
       "      <td>NaN</td>\n",
       "      <td>NaN</td>\n",
       "      <td>NaN</td>\n",
       "      <td>NaN</td>\n",
       "      <td>10.0</td>\n",
       "    </tr>\n",
       "    <tr>\n",
       "      <th>16</th>\n",
       "      <td>Wii</td>\n",
       "      <td>NaN</td>\n",
       "      <td>NaN</td>\n",
       "      <td>NaN</td>\n",
       "      <td>NaN</td>\n",
       "      <td>NaN</td>\n",
       "      <td>NaN</td>\n",
       "      <td>NaN</td>\n",
       "      <td>NaN</td>\n",
       "      <td>NaN</td>\n",
       "      <td>...</td>\n",
       "      <td>171.32</td>\n",
       "      <td>206.97</td>\n",
       "      <td>127.95</td>\n",
       "      <td>59.65</td>\n",
       "      <td>21.71</td>\n",
       "      <td>8.59</td>\n",
       "      <td>3.75</td>\n",
       "      <td>1.14</td>\n",
       "      <td>0.18</td>\n",
       "      <td>11.0</td>\n",
       "    </tr>\n",
       "    <tr>\n",
       "      <th>17</th>\n",
       "      <td>WiiU</td>\n",
       "      <td>NaN</td>\n",
       "      <td>NaN</td>\n",
       "      <td>NaN</td>\n",
       "      <td>NaN</td>\n",
       "      <td>NaN</td>\n",
       "      <td>NaN</td>\n",
       "      <td>NaN</td>\n",
       "      <td>NaN</td>\n",
       "      <td>NaN</td>\n",
       "      <td>...</td>\n",
       "      <td>NaN</td>\n",
       "      <td>NaN</td>\n",
       "      <td>NaN</td>\n",
       "      <td>NaN</td>\n",
       "      <td>17.56</td>\n",
       "      <td>21.65</td>\n",
       "      <td>22.03</td>\n",
       "      <td>16.35</td>\n",
       "      <td>4.60</td>\n",
       "      <td>5.0</td>\n",
       "    </tr>\n",
       "    <tr>\n",
       "      <th>18</th>\n",
       "      <td>X360</td>\n",
       "      <td>NaN</td>\n",
       "      <td>NaN</td>\n",
       "      <td>NaN</td>\n",
       "      <td>NaN</td>\n",
       "      <td>NaN</td>\n",
       "      <td>NaN</td>\n",
       "      <td>NaN</td>\n",
       "      <td>NaN</td>\n",
       "      <td>NaN</td>\n",
       "      <td>...</td>\n",
       "      <td>135.26</td>\n",
       "      <td>120.29</td>\n",
       "      <td>170.03</td>\n",
       "      <td>143.84</td>\n",
       "      <td>99.74</td>\n",
       "      <td>88.58</td>\n",
       "      <td>34.74</td>\n",
       "      <td>11.96</td>\n",
       "      <td>1.52</td>\n",
       "      <td>12.0</td>\n",
       "    </tr>\n",
       "    <tr>\n",
       "      <th>19</th>\n",
       "      <td>XB</td>\n",
       "      <td>NaN</td>\n",
       "      <td>NaN</td>\n",
       "      <td>NaN</td>\n",
       "      <td>NaN</td>\n",
       "      <td>NaN</td>\n",
       "      <td>NaN</td>\n",
       "      <td>NaN</td>\n",
       "      <td>NaN</td>\n",
       "      <td>NaN</td>\n",
       "      <td>...</td>\n",
       "      <td>0.18</td>\n",
       "      <td>NaN</td>\n",
       "      <td>NaN</td>\n",
       "      <td>NaN</td>\n",
       "      <td>NaN</td>\n",
       "      <td>NaN</td>\n",
       "      <td>NaN</td>\n",
       "      <td>NaN</td>\n",
       "      <td>NaN</td>\n",
       "      <td>9.0</td>\n",
       "    </tr>\n",
       "    <tr>\n",
       "      <th>20</th>\n",
       "      <td>XOne</td>\n",
       "      <td>NaN</td>\n",
       "      <td>NaN</td>\n",
       "      <td>NaN</td>\n",
       "      <td>NaN</td>\n",
       "      <td>NaN</td>\n",
       "      <td>NaN</td>\n",
       "      <td>NaN</td>\n",
       "      <td>NaN</td>\n",
       "      <td>NaN</td>\n",
       "      <td>...</td>\n",
       "      <td>NaN</td>\n",
       "      <td>NaN</td>\n",
       "      <td>NaN</td>\n",
       "      <td>NaN</td>\n",
       "      <td>NaN</td>\n",
       "      <td>18.96</td>\n",
       "      <td>54.07</td>\n",
       "      <td>60.14</td>\n",
       "      <td>26.15</td>\n",
       "      <td>4.0</td>\n",
       "    </tr>\n",
       "  </tbody>\n",
       "</table>\n",
       "<p>21 rows × 39 columns</p>\n",
       "</div>"
      ],
      "text/plain": [
       "year_of_release platform  1980.0  1981.0  1982.0  1983.0  1984.0  1985.0  \\\n",
       "0                   2600   11.38   35.68   28.88    5.84    0.27    0.45   \n",
       "1                    3DS     NaN     NaN     NaN     NaN     NaN     NaN   \n",
       "2                     DS     NaN     NaN     NaN     NaN     NaN    0.02   \n",
       "3                     GB     NaN     NaN     NaN     NaN     NaN     NaN   \n",
       "4                    GBA     NaN     NaN     NaN     NaN     NaN     NaN   \n",
       "5                     GC     NaN     NaN     NaN     NaN     NaN     NaN   \n",
       "6                    N64     NaN     NaN     NaN     NaN     NaN     NaN   \n",
       "7                    NES     NaN     NaN     NaN   10.96   50.08   53.44   \n",
       "8                     PC     NaN     NaN     NaN     NaN     NaN    0.04   \n",
       "9                     PS     NaN     NaN     NaN     NaN     NaN     NaN   \n",
       "10                   PS2     NaN     NaN     NaN     NaN     NaN     NaN   \n",
       "11                   PS3     NaN     NaN     NaN     NaN     NaN     NaN   \n",
       "12                   PS4     NaN     NaN     NaN     NaN     NaN     NaN   \n",
       "13                   PSP     NaN     NaN     NaN     NaN     NaN     NaN   \n",
       "14                   PSV     NaN     NaN     NaN     NaN     NaN     NaN   \n",
       "15                  SNES     NaN     NaN     NaN     NaN     NaN     NaN   \n",
       "16                   Wii     NaN     NaN     NaN     NaN     NaN     NaN   \n",
       "17                  WiiU     NaN     NaN     NaN     NaN     NaN     NaN   \n",
       "18                  X360     NaN     NaN     NaN     NaN     NaN     NaN   \n",
       "19                    XB     NaN     NaN     NaN     NaN     NaN     NaN   \n",
       "20                  XOne     NaN     NaN     NaN     NaN     NaN     NaN   \n",
       "\n",
       "year_of_release  1986.0  1987.0  1988.0  ...  2008.0  2009.0  2010.0  2011.0  \\\n",
       "0                  0.67    1.94    0.74  ...     NaN     NaN     NaN     NaN   \n",
       "1                   NaN     NaN     NaN  ...     NaN     NaN     NaN   63.20   \n",
       "2                   NaN     NaN     NaN  ...  145.31  119.54   85.02   26.18   \n",
       "3                   NaN     NaN    1.43  ...     NaN     NaN     NaN     NaN   \n",
       "4                   NaN     NaN     NaN  ...     NaN     NaN     NaN     NaN   \n",
       "5                   NaN     NaN     NaN  ...     NaN     NaN     NaN     NaN   \n",
       "6                   NaN     NaN     NaN  ...     NaN     NaN     NaN     NaN   \n",
       "7                 36.41   19.76   45.01  ...     NaN     NaN     NaN     NaN   \n",
       "8                   NaN     NaN    0.03  ...   12.42   16.91   24.28   35.03   \n",
       "9                   NaN     NaN     NaN  ...     NaN     NaN     NaN     NaN   \n",
       "10                  NaN     NaN     NaN  ...   53.90   26.40    5.64    0.45   \n",
       "11                  NaN     NaN     NaN  ...  118.52  130.93  142.17  156.78   \n",
       "12                  NaN     NaN     NaN  ...     NaN     NaN     NaN     NaN   \n",
       "13                  NaN     NaN     NaN  ...   34.55   37.78   35.04   17.82   \n",
       "14                  NaN     NaN     NaN  ...     NaN     NaN     NaN    4.63   \n",
       "15                  NaN     NaN     NaN  ...     NaN     NaN     NaN     NaN   \n",
       "16                  NaN     NaN     NaN  ...  171.32  206.97  127.95   59.65   \n",
       "17                  NaN     NaN     NaN  ...     NaN     NaN     NaN     NaN   \n",
       "18                  NaN     NaN     NaN  ...  135.26  120.29  170.03  143.84   \n",
       "19                  NaN     NaN     NaN  ...    0.18     NaN     NaN     NaN   \n",
       "20                  NaN     NaN     NaN  ...     NaN     NaN     NaN     NaN   \n",
       "\n",
       "year_of_release  2012.0  2013.0  2014.0  2015.0  2016.0  count  \n",
       "0                   NaN     NaN     NaN     NaN     NaN   10.0  \n",
       "1                 51.36   56.57   43.76   27.78   15.14    6.0  \n",
       "2                 11.01    1.54     NaN     NaN     NaN   11.0  \n",
       "3                   NaN     NaN     NaN     NaN     NaN   13.0  \n",
       "4                   NaN     NaN     NaN     NaN     NaN    8.0  \n",
       "5                   NaN     NaN     NaN     NaN     NaN    7.0  \n",
       "6                   NaN     NaN     NaN     NaN     NaN    7.0  \n",
       "7                   NaN     NaN     NaN     NaN     NaN   12.0  \n",
       "8                 23.22   12.38   13.28    8.52    5.25   26.0  \n",
       "9                   NaN     NaN     NaN     NaN     NaN   10.0  \n",
       "10                  NaN     NaN     NaN     NaN     NaN   12.0  \n",
       "11               107.35  113.25   47.76   16.82    3.60   11.0  \n",
       "12                  NaN   25.99  100.00  118.90   69.25    4.0  \n",
       "13                 7.69    3.14    0.24    0.12     NaN   12.0  \n",
       "14                16.19   10.59   11.90    6.25    4.25    6.0  \n",
       "15                  NaN     NaN     NaN     NaN     NaN   10.0  \n",
       "16                21.71    8.59    3.75    1.14    0.18   11.0  \n",
       "17                17.56   21.65   22.03   16.35    4.60    5.0  \n",
       "18                99.74   88.58   34.74   11.96    1.52   12.0  \n",
       "19                  NaN     NaN     NaN     NaN     NaN    9.0  \n",
       "20                  NaN   18.96   54.07   60.14   26.15    4.0  \n",
       "\n",
       "[21 rows x 39 columns]"
      ]
     },
     "metadata": {},
     "output_type": "display_data"
    },
    {
     "name": "stdout",
     "output_type": "stream",
     "text": [
      "10.0\n",
      "9.80952380952381\n"
     ]
    }
   ],
   "source": [
    "#строим сводную таблицу продаж по платформам\n",
    "pivot_2 = data.pivot_table(index='platform', values='all_sales',aggfunc='sum')\n",
    "display(pivot_2.sort_values(by='all_sales',ascending=False))\n",
    "#определяем медиану и среднее всех продаж по платформам\n",
    "print(pivot_2['all_sales'].median())\n",
    "print(pivot_2['all_sales'].mean())\n",
    "\n",
    "#определяем платформы с наибольшими суммарными продажами\n",
    "platforms = ['PS2','X360','PS3','Wii','DS','PS','PS4','GBA','PSP','PC','3DS','XB','GB','NES','N64','SNES','GC','XOne','2600','WiiU','PSV']\n",
    "#формируем новую таблицу, включающую только сведения по вышеопределенным платформам\n",
    "data_platform = data.query('platform in @platforms')\n",
    "\n",
    "#строим сводную таблицу продаж по годам в разрезе определенных платформ\n",
    "pivot_3 = data_platform.pivot_table(index='platform',columns='year_of_release',values='all_sales',aggfunc='sum')\n",
    "#индексируем сводную таблицу\n",
    "pivot_3.reset_index(inplace=True)\n",
    "#считаем количество лет нахождения на рынке для каждой платформы\n",
    "for index in range(len(pivot_3)):\n",
    "    pivot_3.loc[index,'count'] = pivot_3.loc[index,1980:2016].count()\n",
    "display(pivot_3)\n",
    "#создаем сокращенную таблицу\n",
    "count_pivot = pd.DataFrame(columns=['platform','count'])\n",
    "count_pivot['platform'] = pivot_3['platform']\n",
    "count_pivot['count'] = pivot_3['count']\n",
    "\n",
    "#определяем медиану и среднее количество лет нахождения на рынке для каждой платформы\n",
    "print(pivot_3['count'].median())\n",
    "print(pivot_3['count'].mean())"
   ]
  },
  {
   "cell_type": "code",
   "execution_count": 13,
   "metadata": {},
   "outputs": [
    {
     "data": {
      "text/html": [
       "<div>\n",
       "<style scoped>\n",
       "    .dataframe tbody tr th:only-of-type {\n",
       "        vertical-align: middle;\n",
       "    }\n",
       "\n",
       "    .dataframe tbody tr th {\n",
       "        vertical-align: top;\n",
       "    }\n",
       "\n",
       "    .dataframe thead th {\n",
       "        text-align: right;\n",
       "    }\n",
       "</style>\n",
       "<table border=\"1\" class=\"dataframe\">\n",
       "  <thead>\n",
       "    <tr style=\"text-align: right;\">\n",
       "      <th></th>\n",
       "      <th>platform</th>\n",
       "      <th>2012.0</th>\n",
       "      <th>2013.0</th>\n",
       "      <th>2014.0</th>\n",
       "      <th>2015.0</th>\n",
       "      <th>2016.0</th>\n",
       "      <th>count</th>\n",
       "    </tr>\n",
       "  </thead>\n",
       "  <tbody>\n",
       "    <tr>\n",
       "      <th>0</th>\n",
       "      <td>3DS</td>\n",
       "      <td>51.36</td>\n",
       "      <td>56.57</td>\n",
       "      <td>43.76</td>\n",
       "      <td>27.78</td>\n",
       "      <td>15.14</td>\n",
       "      <td>6.0</td>\n",
       "    </tr>\n",
       "    <tr>\n",
       "      <th>1</th>\n",
       "      <td>PC</td>\n",
       "      <td>23.22</td>\n",
       "      <td>12.38</td>\n",
       "      <td>13.28</td>\n",
       "      <td>8.52</td>\n",
       "      <td>5.25</td>\n",
       "      <td>26.0</td>\n",
       "    </tr>\n",
       "    <tr>\n",
       "      <th>2</th>\n",
       "      <td>PS3</td>\n",
       "      <td>107.35</td>\n",
       "      <td>113.25</td>\n",
       "      <td>47.76</td>\n",
       "      <td>16.82</td>\n",
       "      <td>3.60</td>\n",
       "      <td>11.0</td>\n",
       "    </tr>\n",
       "    <tr>\n",
       "      <th>3</th>\n",
       "      <td>PS4</td>\n",
       "      <td>NaN</td>\n",
       "      <td>25.99</td>\n",
       "      <td>100.00</td>\n",
       "      <td>118.90</td>\n",
       "      <td>69.25</td>\n",
       "      <td>4.0</td>\n",
       "    </tr>\n",
       "    <tr>\n",
       "      <th>4</th>\n",
       "      <td>PSV</td>\n",
       "      <td>16.19</td>\n",
       "      <td>10.59</td>\n",
       "      <td>11.90</td>\n",
       "      <td>6.25</td>\n",
       "      <td>4.25</td>\n",
       "      <td>6.0</td>\n",
       "    </tr>\n",
       "    <tr>\n",
       "      <th>5</th>\n",
       "      <td>Wii</td>\n",
       "      <td>21.71</td>\n",
       "      <td>8.59</td>\n",
       "      <td>3.75</td>\n",
       "      <td>1.14</td>\n",
       "      <td>0.18</td>\n",
       "      <td>11.0</td>\n",
       "    </tr>\n",
       "    <tr>\n",
       "      <th>6</th>\n",
       "      <td>WiiU</td>\n",
       "      <td>17.56</td>\n",
       "      <td>21.65</td>\n",
       "      <td>22.03</td>\n",
       "      <td>16.35</td>\n",
       "      <td>4.60</td>\n",
       "      <td>5.0</td>\n",
       "    </tr>\n",
       "    <tr>\n",
       "      <th>7</th>\n",
       "      <td>X360</td>\n",
       "      <td>99.74</td>\n",
       "      <td>88.58</td>\n",
       "      <td>34.74</td>\n",
       "      <td>11.96</td>\n",
       "      <td>1.52</td>\n",
       "      <td>12.0</td>\n",
       "    </tr>\n",
       "    <tr>\n",
       "      <th>8</th>\n",
       "      <td>XOne</td>\n",
       "      <td>NaN</td>\n",
       "      <td>18.96</td>\n",
       "      <td>54.07</td>\n",
       "      <td>60.14</td>\n",
       "      <td>26.15</td>\n",
       "      <td>4.0</td>\n",
       "    </tr>\n",
       "  </tbody>\n",
       "</table>\n",
       "</div>"
      ],
      "text/plain": [
       "  platform  2012.0  2013.0  2014.0  2015.0  2016.0  count\n",
       "0      3DS   51.36   56.57   43.76   27.78   15.14    6.0\n",
       "1       PC   23.22   12.38   13.28    8.52    5.25   26.0\n",
       "2      PS3  107.35  113.25   47.76   16.82    3.60   11.0\n",
       "3      PS4     NaN   25.99  100.00  118.90   69.25    4.0\n",
       "4      PSV   16.19   10.59   11.90    6.25    4.25    6.0\n",
       "5      Wii   21.71    8.59    3.75    1.14    0.18   11.0\n",
       "6     WiiU   17.56   21.65   22.03   16.35    4.60    5.0\n",
       "7     X360   99.74   88.58   34.74   11.96    1.52   12.0\n",
       "8     XOne     NaN   18.96   54.07   60.14   26.15    4.0"
      ]
     },
     "metadata": {},
     "output_type": "display_data"
    }
   ],
   "source": [
    "#определяем интересующий период и существующие на 2016 год платформы\n",
    "years = [2012,2013,2014,2015,2016]\n",
    "platforms_1 = ['3DS', 'PC', 'PS3', 'PS4', 'PSV', 'Wii', 'WiiU', 'X360', 'XOne']\n",
    "#формируем таблицу по периоду и платформам\n",
    "data_select = data.query('platform in @platforms_1 and year_of_release in @years')\n",
    "#строим сводную таблицу продаж по анализируемому периоду в разрезе выбранных платформ\n",
    "pivot_4 = data_select.pivot_table(index='platform',columns='year_of_release',values='all_sales',aggfunc='sum')\n",
    "#индексируем сводную таблицу\n",
    "pivot_4.reset_index(inplace=True)\n",
    "#добавляем к полученной таблице сведения о сроке жизни платформ\n",
    "data_all = pivot_4.merge(count_pivot, on='platform', how='left')\n",
    "display(data_all)"
   ]
  },
  {
   "cell_type": "markdown",
   "metadata": {},
   "source": [
    "### Вывод\n",
    "Построена сводная таблица по суммарным продажам видеоигр в разрезе платформ. Наибольшие продажи на платформе PS2 это 1233 млн. проданных копий, наименьшие на платформе PCFX это 0,03 млн. проданных копий. Медианное значение совокупных продаж за период с 1980 по 2016 год составляет 200 млн. проданных копий, среднее значение 284 млн. проданных копий.\n",
    "\n",
    "Выбраны платформы с наибольшими суммарными продажами, для них построено распределение продаж по годам. Платформы существуют от 4 до 13 лет, PC существует весь рассматриваемый период 26 лет, но это не игровая платформа в чистом виде. Медианное и среднее время существования платформы близки к 10 годам.\n",
    "\n",
    "Актуальный период для возможности прогнозирования на 2017 год ранее принят с 2012 по 2016 год. \n",
    "\n",
    "По состоянию на 2016 год продажи осуществляются на 9 платформах. Это 3DS, PC, PS3, PS4, PSV, Wii, WiiU, X360, XOne. Если смотреть на тренд продаж, то он снижающийся на всех платформах. Ни одна из платформ не показывает рост продаж в 2016 году по сравнению с 2015 или с 2014. Это может быть связано с тем, что данные за 2016 год неполные. Четыре платформы, а именно PS3, Wii, X360, 3DS находятся в конце жизненного цикла, их время существования близко к 10 годам или больше. Платформы в начале и середине жизненного цикла это PS4, PSV, WiiU и XOne, их показатели будут в анализе. Платформа PC не теряет актуальности все 26 лет и будет рассматриваться при дальнейшем анализе."
   ]
  },
  {
   "cell_type": "code",
   "execution_count": 14,
   "metadata": {
    "scrolled": false
   },
   "outputs": [
    {
     "data": {
      "text/plain": [
       "<function matplotlib.pyplot.show(close=None, block=None)>"
      ]
     },
     "execution_count": 14,
     "metadata": {},
     "output_type": "execute_result"
    },
    {
     "data": {
      "image/png": "[encoded data removed]",
      "text/plain": [
       "<Figure size 432x288 with 1 Axes>"
      ]
     },
     "metadata": {
      "needs_background": "light"
     },
     "output_type": "display_data"
    },
    {
     "data": {
      "image/png": "[encoded data removed]",
      "text/plain": [
       "<Figure size 432x288 with 1 Axes>"
      ]
     },
     "metadata": {
      "needs_background": "light"
     },
     "output_type": "display_data"
    }
   ],
   "source": [
    "#определяем платформы для выборки из общей таблицы\n",
    "platforms = ['PS4','PC','XOne','WiiU','PSV']\n",
    "#формируем новую таблицу, включающую только сведения по вышеопределенным платформам\n",
    "data_platform = data.query('platform in @platforms')\n",
    "#формируем новую таблицу, включающую информацию для построения графика\n",
    "data_platform_1 = pd.DataFrame(columns=['platform','all_sales'])\n",
    "data_platform_1['platform'] = data_platform['platform']\n",
    "data_platform_1['all_sales'] = data_platform['all_sales']\n",
    "#строим график \"ящик с усами\" в разрезе платформ\n",
    "data_platform_1.boxplot(by='platform')\n",
    "plt.xlabel(\"Платформа\")\n",
    "plt.show\n",
    "\n",
    "#строим повторно график \"ящик с усами\" с ограничением по оси y\n",
    "data_platform_1.boxplot(by='platform')\n",
    "plt.xlabel(\"Платформа\")\n",
    "plt.ylim(0,1.75)\n",
    "plt.show"
   ]
  },
  {
   "cell_type": "markdown",
   "metadata": {},
   "source": [
    "### Вывод\n",
    "\n",
    "Построен график \"ящик с усами\" в разрезе платформ PC, PS4, PSV, WiiU, XOne за актуальный период с 2012 по 2016 год. На графике наблюдаются значительное количество выбросов. Для более детального изучения графика ограничим значение по оси Y правым усом на платформе PS4, это значение примерно 1,75.\n",
    "\n",
    "Исходя из вновь построенного графика, можно сказать что медианное значение продаж одной игры составляет около 0,2 млн для платформ PS4, WiiU, XOne, для платформ PC, PSV медианное значение значительно ниже и равно примерно 0,05 млн.\n",
    "Левый ус для всех платформ равен 0,01 млн, правый ус для PS4 равен 1,71, для платформы XOne - 1,58 млн, для платформы WiiU - 1,2 млн, платформы PC - 0,39 млн, платформы PSV - 0,29 млн.\n",
    "\n",
    "Таким образом, нормальное значение общих продаж на рассматриваемых платформах ограничено диапазоном от 0,01 млн до 1,71 млн."
   ]
  },
  {
   "cell_type": "code",
   "execution_count": 15,
   "metadata": {
    "scrolled": false
   },
   "outputs": [
    {
     "name": "stdout",
     "output_type": "stream",
     "text": [
      "Коэффициент корреляции между суммарными продажами и оценкой пользователей -0.031957110204556355\n",
      "Коэффициент корреляции между суммарными продажами и оценкой критиков 0.40656790206178134\n"
     ]
    },
    {
     "data": {
      "text/plain": [
       "<function matplotlib.pyplot.show(close=None, block=None)>"
      ]
     },
     "execution_count": 15,
     "metadata": {},
     "output_type": "execute_result"
    },
    {
     "data": {
      "image/png": "[encoded data removed]",
      "text/plain": [
       "<Figure size 432x288 with 1 Axes>"
      ]
     },
     "metadata": {
      "needs_background": "light"
     },
     "output_type": "display_data"
    },
    {
     "data": {
      "image/png": "[encoded data removed]",
      "text/plain": [
       "<Figure size 432x288 with 1 Axes>"
      ]
     },
     "metadata": {
      "needs_background": "light"
     },
     "output_type": "display_data"
    }
   ],
   "source": [
    "#создаем выборку данных по платформе PS4\n",
    "data_PS4 = data_platform.query('platform == \"PS4\"')\n",
    "\n",
    "#оцениваем взяимосвязь суммарных продаж и оценок пользователей с помощью коэффициента Пирсона\n",
    "print(\n",
    "    'Коэффициент корреляции между суммарными продажами и оценкой пользователей', \n",
    "    data_PS4['user_score'].corr(data_PS4['all_sales']))\n",
    "#строим диаграмму для наглядного отображения зависимости\n",
    "data_PS4.plot(x='user_score',y='all_sales',kind='scatter')\n",
    "plt.title(\"Диаграмма рассеяния суммарных продаж платформы PS4 и оценок пользователей\")\n",
    "plt.xlabel(\"Оценка пользователей\")\n",
    "plt.ylabel(\"Суммарные продажи\")\n",
    "plt.show\n",
    "\n",
    "#оцениваем взяимосвязь суммарных продаж и оценок критиков с помощью коэффициента Пирсона\n",
    "print(\n",
    "    'Коэффициент корреляции между суммарными продажами и оценкой критиков',\n",
    "    data_PS4['critic_score'].corr(data_PS4['all_sales']))\n",
    "#строим диаграмму для наглядного отображения зависимости\n",
    "data_PS4.plot(x='critic_score',y='all_sales',kind='scatter')\n",
    "plt.title(\"Диаграмма рассеяния суммарных продаж платформы PS4 и оценок критиков\")\n",
    "plt.xlabel(\"Оценка критиков\")\n",
    "plt.ylabel(\"Суммарные продажи\")\n",
    "plt.show"
   ]
  },
  {
   "cell_type": "markdown",
   "metadata": {},
   "source": [
    "### Вывод\n",
    "Для платформы PS4 получены следующие значения:\n",
    "- Коэффициент корреляции между суммарными продажами и оценкой пользователей -0.031\n",
    "- Коэффициент корреляции между суммарными продажами и оценкой критиков 0.406\n",
    "\n",
    "Исходя из полученных результатов, между оценкой пользователей и суммарными продажами линейная связь отсутствует. Между оценкой критиков и суммарными продажами установлена положительная взаимосвязь средней силы. Таким образом, можно сделать вывод о возможности влияния на продажи путем выставления положительных оценок критиков. Проведем аналогичный анализ для остальных платформ."
   ]
  },
  {
   "cell_type": "code",
   "execution_count": 16,
   "metadata": {},
   "outputs": [
    {
     "name": "stdout",
     "output_type": "stream",
     "text": [
      "Коэффициент корреляции между суммарными продажами и оценкой пользователей 0.010475684621486436\n",
      "Коэффициент корреляции между суммарными продажами и оценкой критиков 0.25688673789482097\n"
     ]
    },
    {
     "data": {
      "text/plain": [
       "<function matplotlib.pyplot.show(close=None, block=None)>"
      ]
     },
     "execution_count": 16,
     "metadata": {},
     "output_type": "execute_result"
    },
    {
     "data": {
      "image/png": "[encoded data removed]",
      "text/plain": [
       "<Figure size 432x288 with 1 Axes>"
      ]
     },
     "metadata": {
      "needs_background": "light"
     },
     "output_type": "display_data"
    },
    {
     "data": {
      "image/png": "[encoded data removed]",
      "text/plain": [
       "<Figure size 432x288 with 1 Axes>"
      ]
     },
     "metadata": {
      "needs_background": "light"
     },
     "output_type": "display_data"
    }
   ],
   "source": [
    "#создаем выборку данных по платформе PC\n",
    "data_PC = data_platform.query('platform == \"PC\"')\n",
    "#оцениваем взяимосвязь суммарных продаж и оценок пользователей с помощью коэффициента Пирсона\n",
    "print(\n",
    "    'Коэффициент корреляции между суммарными продажами и оценкой пользователей', \n",
    "    data_PC['user_score'].corr(data_PC['all_sales']))\n",
    "#строим диаграмму для наглядного отображения зависимости\n",
    "data_PC.plot(x='user_score',y='all_sales',kind='scatter')\n",
    "plt.title(\"Диаграмма рассеяния суммарных продаж платформы PC и оценок пользователей\")\n",
    "plt.xlabel(\"Оценка пользователей\")\n",
    "plt.ylabel(\"Суммарные продажи\")\n",
    "plt.show\n",
    "\n",
    "#оцениваем взяимосвязь суммарных продаж и оценок критиков с помощью коэффициента Пирсона\n",
    "print(\n",
    "    'Коэффициент корреляции между суммарными продажами и оценкой критиков',\n",
    "    data_PC['critic_score'].corr(data_PC['all_sales']))\n",
    "#строим диаграмму для наглядного отображения зависимости\n",
    "data_PC.plot(x='critic_score',y='all_sales',kind='scatter')\n",
    "plt.title(\"Диаграмма рассеяния суммарных продаж платформы PC и оценок критиков\")\n",
    "plt.xlabel(\"Оценка критиков\")\n",
    "plt.ylabel(\"Суммарные продажи\")\n",
    "plt.show"
   ]
  },
  {
   "cell_type": "code",
   "execution_count": 17,
   "metadata": {},
   "outputs": [
    {
     "name": "stdout",
     "output_type": "stream",
     "text": [
      "Коэффициент корреляции между суммарными продажами и оценкой пользователей -0.06892505328279423\n",
      "Коэффициент корреляции между суммарными продажами и оценкой критиков 0.416998328008402\n"
     ]
    },
    {
     "data": {
      "text/plain": [
       "<function matplotlib.pyplot.show(close=None, block=None)>"
      ]
     },
     "execution_count": 17,
     "metadata": {},
     "output_type": "execute_result"
    },
    {
     "data": {
      "image/png": "[encoded data removed]",
      "text/plain": [
       "<Figure size 432x288 with 1 Axes>"
      ]
     },
     "metadata": {
      "needs_background": "light"
     },
     "output_type": "display_data"
    },
    {
     "data": {
      "image/png": "[encoded data removed]",
      "text/plain": [
       "<Figure size 432x288 with 1 Axes>"
      ]
     },
     "metadata": {
      "needs_background": "light"
     },
     "output_type": "display_data"
    }
   ],
   "source": [
    "#создаем выборку данных по платформе XOne\n",
    "data_XOne = data_platform.query('platform == \"XOne\"')\n",
    "#оцениваем взяимосвязь суммарных продаж и оценок пользователей с помощью коэффициента Пирсона\n",
    "print(\n",
    "    'Коэффициент корреляции между суммарными продажами и оценкой пользователей',\n",
    "    data_XOne['user_score'].corr(data_XOne['all_sales']))\n",
    "#строим диаграмму для наглядного отображения зависимости\n",
    "data_XOne.plot(x='user_score',y='all_sales',kind='scatter')\n",
    "plt.title(\"Диаграмма рассеяния суммарных продаж платформы XOne и оценок пользователей\")\n",
    "plt.xlabel(\"Оценка пользователей\")\n",
    "plt.ylabel(\"Суммарные продажи\")    \n",
    "plt.show    \n",
    "\n",
    "#оцениваем взяимосвязь суммарных продаж и оценок критиков с помощью коэффициента Пирсона\n",
    "print(\n",
    "    'Коэффициент корреляции между суммарными продажами и оценкой критиков',\n",
    "    data_XOne['critic_score'].corr(data_XOne['all_sales']))\n",
    "#строим диаграмму для наглядного отображения зависимости\n",
    "data_XOne.plot(x='critic_score',y='all_sales',kind='scatter')\n",
    "plt.title(\"Диаграмма рассеяния суммарных продаж платформы XOne и оценок критиков\")\n",
    "plt.xlabel(\"Оценка критиков\")\n",
    "plt.ylabel(\"Суммарные продажи\")    \n",
    "plt.show"
   ]
  },
  {
   "cell_type": "code",
   "execution_count": 18,
   "metadata": {},
   "outputs": [
    {
     "name": "stdout",
     "output_type": "stream",
     "text": [
      "Коэффициент корреляции между суммарными продажами и оценкой пользователей 0.4002190202148619\n",
      "Коэффициент корреляции между суммарными продажами и оценкой критиков 0.34837976012017496\n"
     ]
    },
    {
     "data": {
      "text/plain": [
       "<function matplotlib.pyplot.show(close=None, block=None)>"
      ]
     },
     "execution_count": 18,
     "metadata": {},
     "output_type": "execute_result"
    },
    {
     "data": {
      "image/png": "[encoded data removed]",
      "text/plain": [
       "<Figure size 432x288 with 1 Axes>"
      ]
     },
     "metadata": {
      "needs_background": "light"
     },
     "output_type": "display_data"
    },
    {
     "data": {
      "image/png": "[encoded data removed]",
      "text/plain": [
       "<Figure size 432x288 with 1 Axes>"
      ]
     },
     "metadata": {
      "needs_background": "light"
     },
     "output_type": "display_data"
    }
   ],
   "source": [
    "#создаем выборку данных по платформе WiiU\n",
    "data_WiiU = data_platform.query('platform == \"WiiU\"')\n",
    "#оцениваем взяимосвязь суммарных продаж и оценок пользователей с помощью коэффициента Пирсона\n",
    "print(\n",
    "    'Коэффициент корреляции между суммарными продажами и оценкой пользователей',\n",
    "    data_WiiU['user_score'].corr(data_WiiU['all_sales']))\n",
    "#строим диаграмму для наглядного отображения зависимости\n",
    "data_WiiU.plot(x='user_score',y='all_sales',kind='scatter')\n",
    "plt.title(\"Диаграмма рассеяния суммарных продаж платформы WiiU и оценок пользователей\")\n",
    "plt.xlabel(\"Оценка пользователей\")\n",
    "plt.ylabel(\"Суммарные продажи\")\n",
    "plt.show\n",
    "#оцениваем взяимосвязь суммарных продаж и оценок критиков с помощью коэффициента Пирсона\n",
    "print(\n",
    "    'Коэффициент корреляции между суммарными продажами и оценкой критиков',\n",
    "    data_WiiU['critic_score'].corr(data_WiiU['all_sales']))\n",
    "#строим диаграмму для наглядного отображения зависимости\n",
    "data_WiiU.plot(x='critic_score',y='all_sales',kind='scatter')\n",
    "plt.title(\"Диаграмма рассеяния суммарных продаж платформы WiiU и оценок критиков\")\n",
    "plt.xlabel(\"Оценка критиков\")\n",
    "plt.ylabel(\"Суммарные продажи\")\n",
    "plt.show"
   ]
  },
  {
   "cell_type": "code",
   "execution_count": 19,
   "metadata": {
    "scrolled": false
   },
   "outputs": [
    {
     "name": "stdout",
     "output_type": "stream",
     "text": [
      "Коэффициент корреляции между суммарными продажами и оценкой пользователей 0.013579522883028895\n",
      "Коэффициент корреляции между суммарными продажами и оценкой критиков 0.13151672154292654\n"
     ]
    },
    {
     "data": {
      "text/plain": [
       "<function matplotlib.pyplot.show(close=None, block=None)>"
      ]
     },
     "execution_count": 19,
     "metadata": {},
     "output_type": "execute_result"
    },
    {
     "data": {
      "image/png": "[encoded data removed]",
      "text/plain": [
       "<Figure size 432x288 with 1 Axes>"
      ]
     },
     "metadata": {
      "needs_background": "light"
     },
     "output_type": "display_data"
    },
    {
     "data": {
      "image/png": "[encoded data removed]",
      "text/plain": [
       "<Figure size 432x288 with 1 Axes>"
      ]
     },
     "metadata": {
      "needs_background": "light"
     },
     "output_type": "display_data"
    }
   ],
   "source": [
    "#создаем выборку данных по платформе PSV\n",
    "data_PSV = data_platform.query('platform == \"PSV\"')\n",
    "#оцениваем взяимосвязь суммарных продаж и оценок пользователей с помощью коэффициента Пирсона\n",
    "print(\n",
    "    'Коэффициент корреляции между суммарными продажами и оценкой пользователей',\n",
    "    data_PSV['user_score'].corr(data_PSV['all_sales']))\n",
    "#строим диаграмму для наглядного отображения зависимости\n",
    "data_PSV.plot(x='user_score',y='all_sales',kind='scatter')\n",
    "plt.title(\"Диаграмма рассеяния суммарных продаж платформы PSV и оценок пользователей\")\n",
    "plt.xlabel(\"Оценка пользователей\")\n",
    "plt.ylabel(\"Суммарные продажи\")\n",
    "plt.show\n",
    "#оцениваем взяимосвязь суммарных продаж и оценок критиков с помощью коэффициента Пирсона\n",
    "print(\n",
    "    'Коэффициент корреляции между суммарными продажами и оценкой критиков',\n",
    "    data_PSV['critic_score'].corr(data_PSV['all_sales']))\n",
    "#строим диаграмму для наглядного отображения зависимости\n",
    "data_PSV.plot(x='critic_score',y='all_sales',kind='scatter')\n",
    "plt.title(\"Диаграмма рассеяния суммарных продаж платформы PSV и оценок критиков\")\n",
    "plt.xlabel(\"Оценка критиков\")\n",
    "plt.ylabel(\"Суммарные продажи\")\n",
    "plt.show"
   ]
  },
  {
   "cell_type": "markdown",
   "metadata": {},
   "source": [
    "### Вывод\n",
    "Для платформы PC получены следующие значения:\n",
    "- Коэффициент корреляции между суммарными продажами и оценкой пользователей 0.009\n",
    "- Коэффициент корреляции между суммарными продажами и оценкой критиков 0.255\n",
    "\n",
    "Для платформы XOne получены следующие значения:\n",
    "- Коэффициент корреляции между суммарными продажами и оценкой пользователей -0.068\n",
    "- Коэффициент корреляции между суммарными продажами и оценкой критиков 0.412\n",
    "\n",
    "Для платформы PSV получены следующие значения:\n",
    "- Коэффициент корреляции между суммарными продажами и оценкой пользователей 0.013\n",
    "- Коэффициент корреляции между суммарными продажами и оценкой критиков 0.131\n",
    "\n",
    "Для платформ XOne подтвержден тот же характер взаимосвязей, что и для платформы PS4, а именно отсутствие свяи между суммарными продажами и оценкой пользователей и связь средней силы между суммарными продажами и оценкой критиков. Для платформы PC  отсутствие свяи между суммарными продажами и оценкой пользователей и слабая связь между суммарными продажами и оценкой критиков. У платформы PSV вообще не наблюдается связь между суммарными продажами и оценкой пользователей и между суммарными продажами и оценкой критиков.\n",
    "\n",
    "Для платформы WiiU получены следующие значения:\n",
    "- Коэффициент корреляции между суммарными продажами и оценкой пользователей 0.400\n",
    "- Коэффициент корреляции между суммарными продажами и оценкой критиков 0.350\n",
    "\n",
    "Установлена связь средней силы между суммарными продажами и оценкой пользователей и связь средней силы между суммарными продажами и оценкой критиков. Это единственная платформа из рассматриваемых, для которой существует взаимная корреляция между оценками пользователей и оценками критиков. Необходимо внимательно рассмотреть регион распространения платформ."
   ]
  },
  {
   "cell_type": "code",
   "execution_count": 20,
   "metadata": {},
   "outputs": [
    {
     "data": {
      "text/html": [
       "<div>\n",
       "<style scoped>\n",
       "    .dataframe tbody tr th:only-of-type {\n",
       "        vertical-align: middle;\n",
       "    }\n",
       "\n",
       "    .dataframe tbody tr th {\n",
       "        vertical-align: top;\n",
       "    }\n",
       "\n",
       "    .dataframe thead th {\n",
       "        text-align: right;\n",
       "    }\n",
       "</style>\n",
       "<table border=\"1\" class=\"dataframe\">\n",
       "  <thead>\n",
       "    <tr style=\"text-align: right;\">\n",
       "      <th></th>\n",
       "      <th>count</th>\n",
       "      <th>mean</th>\n",
       "      <th>sum</th>\n",
       "    </tr>\n",
       "    <tr>\n",
       "      <th>genre</th>\n",
       "      <th></th>\n",
       "      <th></th>\n",
       "      <th></th>\n",
       "    </tr>\n",
       "  </thead>\n",
       "  <tbody>\n",
       "    <tr>\n",
       "      <th>Action</th>\n",
       "      <td>953</td>\n",
       "      <td>0.457020</td>\n",
       "      <td>435.54</td>\n",
       "    </tr>\n",
       "    <tr>\n",
       "      <th>Shooter</th>\n",
       "      <td>235</td>\n",
       "      <td>1.296723</td>\n",
       "      <td>304.73</td>\n",
       "    </tr>\n",
       "    <tr>\n",
       "      <th>Role-Playing</th>\n",
       "      <td>339</td>\n",
       "      <td>0.533658</td>\n",
       "      <td>180.91</td>\n",
       "    </tr>\n",
       "    <tr>\n",
       "      <th>Sports</th>\n",
       "      <td>255</td>\n",
       "      <td>0.704078</td>\n",
       "      <td>179.54</td>\n",
       "    </tr>\n",
       "    <tr>\n",
       "      <th>Misc</th>\n",
       "      <td>180</td>\n",
       "      <td>0.467500</td>\n",
       "      <td>84.15</td>\n",
       "    </tr>\n",
       "    <tr>\n",
       "      <th>Platform</th>\n",
       "      <td>83</td>\n",
       "      <td>0.726627</td>\n",
       "      <td>60.31</td>\n",
       "    </tr>\n",
       "    <tr>\n",
       "      <th>Racing</th>\n",
       "      <td>115</td>\n",
       "      <td>0.465217</td>\n",
       "      <td>53.50</td>\n",
       "    </tr>\n",
       "    <tr>\n",
       "      <th>Fighting</th>\n",
       "      <td>105</td>\n",
       "      <td>0.420286</td>\n",
       "      <td>44.13</td>\n",
       "    </tr>\n",
       "    <tr>\n",
       "      <th>Simulation</th>\n",
       "      <td>78</td>\n",
       "      <td>0.446795</td>\n",
       "      <td>34.85</td>\n",
       "    </tr>\n",
       "    <tr>\n",
       "      <th>Adventure</th>\n",
       "      <td>247</td>\n",
       "      <td>0.112146</td>\n",
       "      <td>27.70</td>\n",
       "    </tr>\n",
       "    <tr>\n",
       "      <th>Strategy</th>\n",
       "      <td>67</td>\n",
       "      <td>0.188507</td>\n",
       "      <td>12.63</td>\n",
       "    </tr>\n",
       "    <tr>\n",
       "      <th>Puzzle</th>\n",
       "      <td>24</td>\n",
       "      <td>0.199583</td>\n",
       "      <td>4.79</td>\n",
       "    </tr>\n",
       "  </tbody>\n",
       "</table>\n",
       "</div>"
      ],
      "text/plain": [
       "              count      mean     sum\n",
       "genre                                \n",
       "Action          953  0.457020  435.54\n",
       "Shooter         235  1.296723  304.73\n",
       "Role-Playing    339  0.533658  180.91\n",
       "Sports          255  0.704078  179.54\n",
       "Misc            180  0.467500   84.15\n",
       "Platform         83  0.726627   60.31\n",
       "Racing          115  0.465217   53.50\n",
       "Fighting        105  0.420286   44.13\n",
       "Simulation       78  0.446795   34.85\n",
       "Adventure       247  0.112146   27.70\n",
       "Strategy         67  0.188507   12.63\n",
       "Puzzle           24  0.199583    4.79"
      ]
     },
     "metadata": {},
     "output_type": "display_data"
    }
   ],
   "source": [
    "#рассматриваются данные по всем действующим платформам за период с 2012 по 2016 год\n",
    "pivot_6 = data_select.pivot_table(index='genre',values='all_sales',aggfunc=('sum','count', 'mean'))\n",
    "display(pivot_6.sort_values(by='sum',ascending=False))"
   ]
  },
  {
   "cell_type": "markdown",
   "metadata": {},
   "source": [
    "### Вывод\n",
    "Исходя из данных о продажах, можно выделить три группы жанров:\n",
    "- высокие продажи это Action, Shooter, Role-Playing, Sports\n",
    "- средние продажи это Misc, Platform, Racing, Fighting, Simulation, Adventure\n",
    "- низкие продажи включают Strategy, Puzzle\n",
    "\n",
    "По показателю среднее можно оценить эффективность игр, сколько продаж обеспечивает одна игра определенного жанра. Исходя из данного показателя игры жанра Shooter наиболее эффективны, а наименее эффективны игры жанра Adventure. В порядке убывания, наиболее прибыльны игры следующих жанров:\n",
    "- Shooter, Platform, Sports, Role-Playing, Racing"
   ]
  },
  {
   "cell_type": "markdown",
   "metadata": {},
   "source": [
    "## Анализ данных по регионам"
   ]
  },
  {
   "cell_type": "code",
   "execution_count": 21,
   "metadata": {
    "scrolled": false
   },
   "outputs": [
    {
     "data": {
      "text/html": [
       "<div>\n",
       "<style scoped>\n",
       "    .dataframe tbody tr th:only-of-type {\n",
       "        vertical-align: middle;\n",
       "    }\n",
       "\n",
       "    .dataframe tbody tr th {\n",
       "        vertical-align: top;\n",
       "    }\n",
       "\n",
       "    .dataframe thead th {\n",
       "        text-align: right;\n",
       "    }\n",
       "</style>\n",
       "<table border=\"1\" class=\"dataframe\">\n",
       "  <thead>\n",
       "    <tr style=\"text-align: right;\">\n",
       "      <th></th>\n",
       "      <th>name</th>\n",
       "      <th>platform</th>\n",
       "      <th>year_of_release</th>\n",
       "      <th>genre</th>\n",
       "      <th>na_sales</th>\n",
       "      <th>eu_sales</th>\n",
       "      <th>jp_sales</th>\n",
       "      <th>other_sales</th>\n",
       "      <th>critic_score</th>\n",
       "      <th>user_score</th>\n",
       "      <th>rating</th>\n",
       "      <th>all_sales</th>\n",
       "    </tr>\n",
       "  </thead>\n",
       "  <tbody>\n",
       "    <tr>\n",
       "      <th>0</th>\n",
       "      <td>Beyblade Burst</td>\n",
       "      <td>3DS</td>\n",
       "      <td>2016.0</td>\n",
       "      <td>Role-Playing</td>\n",
       "      <td>0.00</td>\n",
       "      <td>0.00</td>\n",
       "      <td>0.03</td>\n",
       "      <td>0.00</td>\n",
       "      <td>NaN</td>\n",
       "      <td>NaN</td>\n",
       "      <td>undefined</td>\n",
       "      <td>0.03</td>\n",
       "    </tr>\n",
       "    <tr>\n",
       "      <th>1</th>\n",
       "      <td>Fire Emblem Fates</td>\n",
       "      <td>3DS</td>\n",
       "      <td>2015.0</td>\n",
       "      <td>Role-Playing</td>\n",
       "      <td>0.81</td>\n",
       "      <td>0.23</td>\n",
       "      <td>0.52</td>\n",
       "      <td>0.11</td>\n",
       "      <td>NaN</td>\n",
       "      <td>NaN</td>\n",
       "      <td>undefined</td>\n",
       "      <td>1.67</td>\n",
       "    </tr>\n",
       "    <tr>\n",
       "      <th>2</th>\n",
       "      <td>Frozen: Olaf's Quest</td>\n",
       "      <td>3DS</td>\n",
       "      <td>2013.0</td>\n",
       "      <td>Platform</td>\n",
       "      <td>0.27</td>\n",
       "      <td>0.27</td>\n",
       "      <td>0.00</td>\n",
       "      <td>0.05</td>\n",
       "      <td>NaN</td>\n",
       "      <td>NaN</td>\n",
       "      <td>undefined</td>\n",
       "      <td>0.59</td>\n",
       "    </tr>\n",
       "    <tr>\n",
       "      <th>4</th>\n",
       "      <td>Haikyu!! Cross Team Match!</td>\n",
       "      <td>3DS</td>\n",
       "      <td>2016.0</td>\n",
       "      <td>Adventure</td>\n",
       "      <td>0.00</td>\n",
       "      <td>0.00</td>\n",
       "      <td>0.04</td>\n",
       "      <td>0.00</td>\n",
       "      <td>NaN</td>\n",
       "      <td>NaN</td>\n",
       "      <td>undefined</td>\n",
       "      <td>0.04</td>\n",
       "    </tr>\n",
       "    <tr>\n",
       "      <th>5</th>\n",
       "      <td>Tales of Xillia 2</td>\n",
       "      <td>PS3</td>\n",
       "      <td>2012.0</td>\n",
       "      <td>Role-Playing</td>\n",
       "      <td>0.20</td>\n",
       "      <td>0.12</td>\n",
       "      <td>0.45</td>\n",
       "      <td>0.07</td>\n",
       "      <td>71.0</td>\n",
       "      <td>7.9</td>\n",
       "      <td>T</td>\n",
       "      <td>0.84</td>\n",
       "    </tr>\n",
       "  </tbody>\n",
       "</table>\n",
       "</div>"
      ],
      "text/plain": [
       "                          name platform  year_of_release         genre  \\\n",
       "0               Beyblade Burst      3DS           2016.0  Role-Playing   \n",
       "1            Fire Emblem Fates      3DS           2015.0  Role-Playing   \n",
       "2         Frozen: Olaf's Quest      3DS           2013.0      Platform   \n",
       "4   Haikyu!! Cross Team Match!      3DS           2016.0     Adventure   \n",
       "5            Tales of Xillia 2      PS3           2012.0  Role-Playing   \n",
       "\n",
       "   na_sales  eu_sales  jp_sales  other_sales  critic_score  user_score  \\\n",
       "0      0.00      0.00      0.03         0.00           NaN         NaN   \n",
       "1      0.81      0.23      0.52         0.11           NaN         NaN   \n",
       "2      0.27      0.27      0.00         0.05           NaN         NaN   \n",
       "4      0.00      0.00      0.04         0.00           NaN         NaN   \n",
       "5      0.20      0.12      0.45         0.07          71.0         7.9   \n",
       "\n",
       "      rating  all_sales  \n",
       "0  undefined       0.03  \n",
       "1  undefined       1.67  \n",
       "2  undefined       0.59  \n",
       "4  undefined       0.04  \n",
       "5          T       0.84  "
      ]
     },
     "metadata": {},
     "output_type": "display_data"
    },
    {
     "data": {
      "text/html": [
       "<div>\n",
       "<style scoped>\n",
       "    .dataframe tbody tr th:only-of-type {\n",
       "        vertical-align: middle;\n",
       "    }\n",
       "\n",
       "    .dataframe tbody tr th {\n",
       "        vertical-align: top;\n",
       "    }\n",
       "\n",
       "    .dataframe thead th {\n",
       "        text-align: right;\n",
       "    }\n",
       "</style>\n",
       "<table border=\"1\" class=\"dataframe\">\n",
       "  <thead>\n",
       "    <tr style=\"text-align: right;\">\n",
       "      <th></th>\n",
       "      <th>count</th>\n",
       "      <th>sum</th>\n",
       "    </tr>\n",
       "    <tr>\n",
       "      <th>platform</th>\n",
       "      <th></th>\n",
       "      <th></th>\n",
       "    </tr>\n",
       "  </thead>\n",
       "  <tbody>\n",
       "    <tr>\n",
       "      <th>X360</th>\n",
       "      <td>292</td>\n",
       "      <td>140.05</td>\n",
       "    </tr>\n",
       "    <tr>\n",
       "      <th>PS4</th>\n",
       "      <td>392</td>\n",
       "      <td>108.74</td>\n",
       "    </tr>\n",
       "    <tr>\n",
       "      <th>PS3</th>\n",
       "      <td>492</td>\n",
       "      <td>103.38</td>\n",
       "    </tr>\n",
       "    <tr>\n",
       "      <th>XOne</th>\n",
       "      <td>247</td>\n",
       "      <td>93.12</td>\n",
       "    </tr>\n",
       "    <tr>\n",
       "      <th>3DS</th>\n",
       "      <td>396</td>\n",
       "      <td>55.31</td>\n",
       "    </tr>\n",
       "    <tr>\n",
       "      <th>WiiU</th>\n",
       "      <td>147</td>\n",
       "      <td>38.10</td>\n",
       "    </tr>\n",
       "    <tr>\n",
       "      <th>PC</th>\n",
       "      <td>250</td>\n",
       "      <td>19.12</td>\n",
       "    </tr>\n",
       "    <tr>\n",
       "      <th>Wii</th>\n",
       "      <td>54</td>\n",
       "      <td>17.45</td>\n",
       "    </tr>\n",
       "    <tr>\n",
       "      <th>PSV</th>\n",
       "      <td>411</td>\n",
       "      <td>10.98</td>\n",
       "    </tr>\n",
       "  </tbody>\n",
       "</table>\n",
       "</div>"
      ],
      "text/plain": [
       "          count     sum\n",
       "platform               \n",
       "X360        292  140.05\n",
       "PS4         392  108.74\n",
       "PS3         492  103.38\n",
       "XOne        247   93.12\n",
       "3DS         396   55.31\n",
       "WiiU        147   38.10\n",
       "PC          250   19.12\n",
       "Wii          54   17.45\n",
       "PSV         411   10.98"
      ]
     },
     "metadata": {},
     "output_type": "display_data"
    },
    {
     "data": {
      "text/html": [
       "<div>\n",
       "<style scoped>\n",
       "    .dataframe tbody tr th:only-of-type {\n",
       "        vertical-align: middle;\n",
       "    }\n",
       "\n",
       "    .dataframe tbody tr th {\n",
       "        vertical-align: top;\n",
       "    }\n",
       "\n",
       "    .dataframe thead th {\n",
       "        text-align: right;\n",
       "    }\n",
       "</style>\n",
       "<table border=\"1\" class=\"dataframe\">\n",
       "  <thead>\n",
       "    <tr style=\"text-align: right;\">\n",
       "      <th></th>\n",
       "      <th>count</th>\n",
       "      <th>sum</th>\n",
       "    </tr>\n",
       "    <tr>\n",
       "      <th>genre</th>\n",
       "      <th></th>\n",
       "      <th></th>\n",
       "    </tr>\n",
       "  </thead>\n",
       "  <tbody>\n",
       "    <tr>\n",
       "      <th>Action</th>\n",
       "      <td>953</td>\n",
       "      <td>177.00</td>\n",
       "    </tr>\n",
       "    <tr>\n",
       "      <th>Shooter</th>\n",
       "      <td>235</td>\n",
       "      <td>144.77</td>\n",
       "    </tr>\n",
       "    <tr>\n",
       "      <th>Sports</th>\n",
       "      <td>255</td>\n",
       "      <td>81.38</td>\n",
       "    </tr>\n",
       "    <tr>\n",
       "      <th>Role-Playing</th>\n",
       "      <td>339</td>\n",
       "      <td>60.65</td>\n",
       "    </tr>\n",
       "    <tr>\n",
       "      <th>Misc</th>\n",
       "      <td>180</td>\n",
       "      <td>38.13</td>\n",
       "    </tr>\n",
       "    <tr>\n",
       "      <th>Platform</th>\n",
       "      <td>83</td>\n",
       "      <td>25.17</td>\n",
       "    </tr>\n",
       "    <tr>\n",
       "      <th>Fighting</th>\n",
       "      <td>105</td>\n",
       "      <td>19.79</td>\n",
       "    </tr>\n",
       "    <tr>\n",
       "      <th>Racing</th>\n",
       "      <td>115</td>\n",
       "      <td>17.22</td>\n",
       "    </tr>\n",
       "    <tr>\n",
       "      <th>Adventure</th>\n",
       "      <td>247</td>\n",
       "      <td>8.92</td>\n",
       "    </tr>\n",
       "    <tr>\n",
       "      <th>Simulation</th>\n",
       "      <td>78</td>\n",
       "      <td>7.86</td>\n",
       "    </tr>\n",
       "    <tr>\n",
       "      <th>Strategy</th>\n",
       "      <td>67</td>\n",
       "      <td>4.23</td>\n",
       "    </tr>\n",
       "    <tr>\n",
       "      <th>Puzzle</th>\n",
       "      <td>24</td>\n",
       "      <td>1.13</td>\n",
       "    </tr>\n",
       "  </tbody>\n",
       "</table>\n",
       "</div>"
      ],
      "text/plain": [
       "              count     sum\n",
       "genre                      \n",
       "Action          953  177.00\n",
       "Shooter         235  144.77\n",
       "Sports          255   81.38\n",
       "Role-Playing    339   60.65\n",
       "Misc            180   38.13\n",
       "Platform         83   25.17\n",
       "Fighting        105   19.79\n",
       "Racing          115   17.22\n",
       "Adventure       247    8.92\n",
       "Simulation       78    7.86\n",
       "Strategy         67    4.23\n",
       "Puzzle           24    1.13"
      ]
     },
     "metadata": {},
     "output_type": "display_data"
    },
    {
     "data": {
      "text/html": [
       "<div>\n",
       "<style scoped>\n",
       "    .dataframe tbody tr th:only-of-type {\n",
       "        vertical-align: middle;\n",
       "    }\n",
       "\n",
       "    .dataframe tbody tr th {\n",
       "        vertical-align: top;\n",
       "    }\n",
       "\n",
       "    .dataframe thead th {\n",
       "        text-align: right;\n",
       "    }\n",
       "</style>\n",
       "<table border=\"1\" class=\"dataframe\">\n",
       "  <thead>\n",
       "    <tr style=\"text-align: right;\">\n",
       "      <th></th>\n",
       "      <th>count</th>\n",
       "      <th>sum</th>\n",
       "    </tr>\n",
       "    <tr>\n",
       "      <th>rating</th>\n",
       "      <th></th>\n",
       "      <th></th>\n",
       "    </tr>\n",
       "  </thead>\n",
       "  <tbody>\n",
       "    <tr>\n",
       "      <th>E</th>\n",
       "      <td>379</td>\n",
       "      <td>113.44</td>\n",
       "    </tr>\n",
       "    <tr>\n",
       "      <th>E10+</th>\n",
       "      <td>301</td>\n",
       "      <td>75.09</td>\n",
       "    </tr>\n",
       "    <tr>\n",
       "      <th>M</th>\n",
       "      <td>498</td>\n",
       "      <td>231.57</td>\n",
       "    </tr>\n",
       "    <tr>\n",
       "      <th>T</th>\n",
       "      <td>410</td>\n",
       "      <td>66.02</td>\n",
       "    </tr>\n",
       "    <tr>\n",
       "      <th>undefined</th>\n",
       "      <td>1093</td>\n",
       "      <td>100.13</td>\n",
       "    </tr>\n",
       "  </tbody>\n",
       "</table>\n",
       "</div>"
      ],
      "text/plain": [
       "           count     sum\n",
       "rating                  \n",
       "E            379  113.44\n",
       "E10+         301   75.09\n",
       "M            498  231.57\n",
       "T            410   66.02\n",
       "undefined   1093  100.13"
      ]
     },
     "metadata": {},
     "output_type": "display_data"
    },
    {
     "name": "stdout",
     "output_type": "stream",
     "text": [
      "Коэффициент корреляции между количеством игр и продажами в разрезе рейтингов ESRB 0.036197095705486446\n"
     ]
    }
   ],
   "source": [
    "#рассматриваются данные по всем действующим платформам за период с 2012 по 2016 год\n",
    "display(data_select.head())\n",
    "#рассматриваем результаты продаж и популярные жанры в регионе NA\n",
    "pivot_NA_s = data_select.pivot_table(index='platform', values='na_sales', aggfunc=('sum','count'))\n",
    "display(pivot_NA_s.sort_values(by='sum',ascending=False))\n",
    "\n",
    "pivot_NA_g = data_select.pivot_table(index='genre', values='na_sales', aggfunc=('sum','count'))\n",
    "display(pivot_NA_g.sort_values(by='sum',ascending=False))\n",
    "\n",
    "pivot_NA_r = data_select.pivot_table(index='rating', values='na_sales', aggfunc=('sum','count'))\n",
    "display(pivot_NA_r)\n",
    "\n",
    "#оцениваем взяимосвязь с помощью коэффициента Пирсона\n",
    "print(\n",
    "    'Коэффициент корреляции между количеством игр и продажами в разрезе рейтингов ESRB',\n",
    "    pivot_NA_r['sum'].corr(pivot_NA_r['count']))"
   ]
  },
  {
   "cell_type": "markdown",
   "metadata": {},
   "source": [
    "### Вывод\n",
    "В регионе Северная Америка наиболее популярные 5 платформ это:\n",
    "- X360, PS4, PS3, XOne, 3DS. Наиболее популярной является платформа Microsoft, для которой Северная Америка это домашний регион. Но в совокупности, среди топ-5 платформ, суммарные продажи больше у производителей Японии.\n",
    "\n",
    "Наиболее популярные жанры по количеству проданных копий это:\n",
    "- Action, Shooter, Sports, Role-Playing, Misc. Причина популярности этих жанров в том, что среди топ-5 платформ наибольший вес продаж обеспечивают игры указанных жанров. Жанр Role-Playing обеспечивается продажами в основном на платформе 3DS.\n",
    "\n",
    "В регионе Северная Америка отсутствует корреляция между количеством игр и продажами в разрезе рейтингов ESRB."
   ]
  },
  {
   "cell_type": "code",
   "execution_count": 22,
   "metadata": {
    "scrolled": false
   },
   "outputs": [
    {
     "data": {
      "text/html": [
       "<div>\n",
       "<style scoped>\n",
       "    .dataframe tbody tr th:only-of-type {\n",
       "        vertical-align: middle;\n",
       "    }\n",
       "\n",
       "    .dataframe tbody tr th {\n",
       "        vertical-align: top;\n",
       "    }\n",
       "\n",
       "    .dataframe thead th {\n",
       "        text-align: right;\n",
       "    }\n",
       "</style>\n",
       "<table border=\"1\" class=\"dataframe\">\n",
       "  <thead>\n",
       "    <tr style=\"text-align: right;\">\n",
       "      <th></th>\n",
       "      <th>count</th>\n",
       "      <th>sum</th>\n",
       "    </tr>\n",
       "    <tr>\n",
       "      <th>platform</th>\n",
       "      <th></th>\n",
       "      <th></th>\n",
       "    </tr>\n",
       "  </thead>\n",
       "  <tbody>\n",
       "    <tr>\n",
       "      <th>PS4</th>\n",
       "      <td>392</td>\n",
       "      <td>141.09</td>\n",
       "    </tr>\n",
       "    <tr>\n",
       "      <th>PS3</th>\n",
       "      <td>492</td>\n",
       "      <td>106.85</td>\n",
       "    </tr>\n",
       "    <tr>\n",
       "      <th>X360</th>\n",
       "      <td>292</td>\n",
       "      <td>74.52</td>\n",
       "    </tr>\n",
       "    <tr>\n",
       "      <th>XOne</th>\n",
       "      <td>247</td>\n",
       "      <td>51.59</td>\n",
       "    </tr>\n",
       "    <tr>\n",
       "      <th>3DS</th>\n",
       "      <td>396</td>\n",
       "      <td>42.64</td>\n",
       "    </tr>\n",
       "    <tr>\n",
       "      <th>PC</th>\n",
       "      <td>250</td>\n",
       "      <td>37.76</td>\n",
       "    </tr>\n",
       "    <tr>\n",
       "      <th>WiiU</th>\n",
       "      <td>147</td>\n",
       "      <td>25.13</td>\n",
       "    </tr>\n",
       "    <tr>\n",
       "      <th>Wii</th>\n",
       "      <td>54</td>\n",
       "      <td>11.92</td>\n",
       "    </tr>\n",
       "    <tr>\n",
       "      <th>PSV</th>\n",
       "      <td>411</td>\n",
       "      <td>11.36</td>\n",
       "    </tr>\n",
       "  </tbody>\n",
       "</table>\n",
       "</div>"
      ],
      "text/plain": [
       "          count     sum\n",
       "platform               \n",
       "PS4         392  141.09\n",
       "PS3         492  106.85\n",
       "X360        292   74.52\n",
       "XOne        247   51.59\n",
       "3DS         396   42.64\n",
       "PC          250   37.76\n",
       "WiiU        147   25.13\n",
       "Wii          54   11.92\n",
       "PSV         411   11.36"
      ]
     },
     "metadata": {},
     "output_type": "display_data"
    },
    {
     "data": {
      "text/html": [
       "<div>\n",
       "<style scoped>\n",
       "    .dataframe tbody tr th:only-of-type {\n",
       "        vertical-align: middle;\n",
       "    }\n",
       "\n",
       "    .dataframe tbody tr th {\n",
       "        vertical-align: top;\n",
       "    }\n",
       "\n",
       "    .dataframe thead th {\n",
       "        text-align: right;\n",
       "    }\n",
       "</style>\n",
       "<table border=\"1\" class=\"dataframe\">\n",
       "  <thead>\n",
       "    <tr style=\"text-align: right;\">\n",
       "      <th></th>\n",
       "      <th>count</th>\n",
       "      <th>sum</th>\n",
       "    </tr>\n",
       "    <tr>\n",
       "      <th>genre</th>\n",
       "      <th></th>\n",
       "      <th></th>\n",
       "    </tr>\n",
       "  </thead>\n",
       "  <tbody>\n",
       "    <tr>\n",
       "      <th>Action</th>\n",
       "      <td>953</td>\n",
       "      <td>158.43</td>\n",
       "    </tr>\n",
       "    <tr>\n",
       "      <th>Shooter</th>\n",
       "      <td>235</td>\n",
       "      <td>113.47</td>\n",
       "    </tr>\n",
       "    <tr>\n",
       "      <th>Sports</th>\n",
       "      <td>255</td>\n",
       "      <td>68.83</td>\n",
       "    </tr>\n",
       "    <tr>\n",
       "      <th>Role-Playing</th>\n",
       "      <td>339</td>\n",
       "      <td>46.76</td>\n",
       "    </tr>\n",
       "    <tr>\n",
       "      <th>Racing</th>\n",
       "      <td>115</td>\n",
       "      <td>27.29</td>\n",
       "    </tr>\n",
       "    <tr>\n",
       "      <th>Misc</th>\n",
       "      <td>180</td>\n",
       "      <td>25.95</td>\n",
       "    </tr>\n",
       "    <tr>\n",
       "      <th>Platform</th>\n",
       "      <td>83</td>\n",
       "      <td>20.98</td>\n",
       "    </tr>\n",
       "    <tr>\n",
       "      <th>Simulation</th>\n",
       "      <td>78</td>\n",
       "      <td>14.47</td>\n",
       "    </tr>\n",
       "    <tr>\n",
       "      <th>Fighting</th>\n",
       "      <td>105</td>\n",
       "      <td>10.79</td>\n",
       "    </tr>\n",
       "    <tr>\n",
       "      <th>Adventure</th>\n",
       "      <td>247</td>\n",
       "      <td>9.41</td>\n",
       "    </tr>\n",
       "    <tr>\n",
       "      <th>Strategy</th>\n",
       "      <td>67</td>\n",
       "      <td>5.17</td>\n",
       "    </tr>\n",
       "    <tr>\n",
       "      <th>Puzzle</th>\n",
       "      <td>24</td>\n",
       "      <td>1.31</td>\n",
       "    </tr>\n",
       "  </tbody>\n",
       "</table>\n",
       "</div>"
      ],
      "text/plain": [
       "              count     sum\n",
       "genre                      \n",
       "Action          953  158.43\n",
       "Shooter         235  113.47\n",
       "Sports          255   68.83\n",
       "Role-Playing    339   46.76\n",
       "Racing          115   27.29\n",
       "Misc            180   25.95\n",
       "Platform         83   20.98\n",
       "Simulation       78   14.47\n",
       "Fighting        105   10.79\n",
       "Adventure       247    9.41\n",
       "Strategy         67    5.17\n",
       "Puzzle           24    1.31"
      ]
     },
     "metadata": {},
     "output_type": "display_data"
    },
    {
     "data": {
      "text/html": [
       "<div>\n",
       "<style scoped>\n",
       "    .dataframe tbody tr th:only-of-type {\n",
       "        vertical-align: middle;\n",
       "    }\n",
       "\n",
       "    .dataframe tbody tr th {\n",
       "        vertical-align: top;\n",
       "    }\n",
       "\n",
       "    .dataframe thead th {\n",
       "        text-align: right;\n",
       "    }\n",
       "</style>\n",
       "<table border=\"1\" class=\"dataframe\">\n",
       "  <thead>\n",
       "    <tr style=\"text-align: right;\">\n",
       "      <th></th>\n",
       "      <th>count</th>\n",
       "      <th>sum</th>\n",
       "    </tr>\n",
       "    <tr>\n",
       "      <th>rating</th>\n",
       "      <th></th>\n",
       "      <th></th>\n",
       "    </tr>\n",
       "  </thead>\n",
       "  <tbody>\n",
       "    <tr>\n",
       "      <th>E</th>\n",
       "      <td>379</td>\n",
       "      <td>111.78</td>\n",
       "    </tr>\n",
       "    <tr>\n",
       "      <th>E10+</th>\n",
       "      <td>301</td>\n",
       "      <td>54.84</td>\n",
       "    </tr>\n",
       "    <tr>\n",
       "      <th>M</th>\n",
       "      <td>498</td>\n",
       "      <td>193.96</td>\n",
       "    </tr>\n",
       "    <tr>\n",
       "      <th>T</th>\n",
       "      <td>410</td>\n",
       "      <td>52.96</td>\n",
       "    </tr>\n",
       "    <tr>\n",
       "      <th>undefined</th>\n",
       "      <td>1093</td>\n",
       "      <td>89.32</td>\n",
       "    </tr>\n",
       "  </tbody>\n",
       "</table>\n",
       "</div>"
      ],
      "text/plain": [
       "           count     sum\n",
       "rating                  \n",
       "E            379  111.78\n",
       "E10+         301   54.84\n",
       "M            498  193.96\n",
       "T            410   52.96\n",
       "undefined   1093   89.32"
      ]
     },
     "metadata": {},
     "output_type": "display_data"
    },
    {
     "name": "stdout",
     "output_type": "stream",
     "text": [
      "Коэффициент корреляции между количеством игр и продажами в разрезе рейтингов ESRB 0.07015242675876412\n"
     ]
    }
   ],
   "source": [
    "#рассматриваем результаты продаж и популярные жанры в регионе EU\n",
    "pivot_EU_s = data_select.pivot_table(index='platform', values='eu_sales', aggfunc=('sum','count'))\n",
    "display(pivot_EU_s.sort_values(by='sum',ascending=False))\n",
    "\n",
    "pivot_EU_g = data_select.pivot_table(index='genre', values='eu_sales', aggfunc=('sum','count'))\n",
    "display(pivot_EU_g.sort_values(by='sum',ascending=False))\n",
    "\n",
    "pivot_EU_r = data_select.pivot_table(index='rating', values='eu_sales', aggfunc=('sum','count'))\n",
    "display(pivot_EU_r)\n",
    "\n",
    "#оцениваем взяимосвязь с помощью коэффициента Пирсона\n",
    "print(\n",
    "    'Коэффициент корреляции между количеством игр и продажами в разрезе рейтингов ESRB',\n",
    "    pivot_EU_r['sum'].corr(pivot_EU_r['count']))"
   ]
  },
  {
   "cell_type": "markdown",
   "metadata": {},
   "source": [
    "### Вывод\n",
    "В регионе Европа наиболее популярные 5 платформ это:\n",
    "- PS4, PS3, X360, XOne, 3DS. Топ-5 платформ в регионе Европа тот же самый, но наиболее популярной платформой является PS4 и в этом регионе по совокупным продажам производители из Японии значительно превосходят платформы Microsoft.\n",
    "\n",
    "Наиболее популярные жанры по количеству проданных копий это:\n",
    "- Action, Shooter, Sports, Role-Playing, Racing. В этом регионе наиболее популярные жанры те же, что и в Северной Америке, но вместо жанра Misc входит жанр Racing.\n",
    "\n",
    "В региона Европа не обнаружена связь между между количеством игр и продажами в разрезе рейтингов ESRB."
   ]
  },
  {
   "cell_type": "code",
   "execution_count": 23,
   "metadata": {
    "scrolled": false
   },
   "outputs": [
    {
     "data": {
      "text/html": [
       "<div>\n",
       "<style scoped>\n",
       "    .dataframe tbody tr th:only-of-type {\n",
       "        vertical-align: middle;\n",
       "    }\n",
       "\n",
       "    .dataframe tbody tr th {\n",
       "        vertical-align: top;\n",
       "    }\n",
       "\n",
       "    .dataframe thead th {\n",
       "        text-align: right;\n",
       "    }\n",
       "</style>\n",
       "<table border=\"1\" class=\"dataframe\">\n",
       "  <thead>\n",
       "    <tr style=\"text-align: right;\">\n",
       "      <th></th>\n",
       "      <th>count</th>\n",
       "      <th>sum</th>\n",
       "    </tr>\n",
       "    <tr>\n",
       "      <th>platform</th>\n",
       "      <th></th>\n",
       "      <th></th>\n",
       "    </tr>\n",
       "  </thead>\n",
       "  <tbody>\n",
       "    <tr>\n",
       "      <th>3DS</th>\n",
       "      <td>396</td>\n",
       "      <td>87.79</td>\n",
       "    </tr>\n",
       "    <tr>\n",
       "      <th>PS3</th>\n",
       "      <td>492</td>\n",
       "      <td>35.29</td>\n",
       "    </tr>\n",
       "    <tr>\n",
       "      <th>PSV</th>\n",
       "      <td>411</td>\n",
       "      <td>21.04</td>\n",
       "    </tr>\n",
       "    <tr>\n",
       "      <th>PS4</th>\n",
       "      <td>392</td>\n",
       "      <td>15.96</td>\n",
       "    </tr>\n",
       "    <tr>\n",
       "      <th>WiiU</th>\n",
       "      <td>147</td>\n",
       "      <td>13.01</td>\n",
       "    </tr>\n",
       "    <tr>\n",
       "      <th>Wii</th>\n",
       "      <td>54</td>\n",
       "      <td>3.39</td>\n",
       "    </tr>\n",
       "    <tr>\n",
       "      <th>X360</th>\n",
       "      <td>292</td>\n",
       "      <td>1.57</td>\n",
       "    </tr>\n",
       "    <tr>\n",
       "      <th>XOne</th>\n",
       "      <td>247</td>\n",
       "      <td>0.34</td>\n",
       "    </tr>\n",
       "    <tr>\n",
       "      <th>PC</th>\n",
       "      <td>250</td>\n",
       "      <td>0.00</td>\n",
       "    </tr>\n",
       "  </tbody>\n",
       "</table>\n",
       "</div>"
      ],
      "text/plain": [
       "          count    sum\n",
       "platform              \n",
       "3DS         396  87.79\n",
       "PS3         492  35.29\n",
       "PSV         411  21.04\n",
       "PS4         392  15.96\n",
       "WiiU        147  13.01\n",
       "Wii          54   3.39\n",
       "X360        292   1.57\n",
       "XOne        247   0.34\n",
       "PC          250   0.00"
      ]
     },
     "metadata": {},
     "output_type": "display_data"
    },
    {
     "data": {
      "text/html": [
       "<div>\n",
       "<style scoped>\n",
       "    .dataframe tbody tr th:only-of-type {\n",
       "        vertical-align: middle;\n",
       "    }\n",
       "\n",
       "    .dataframe tbody tr th {\n",
       "        vertical-align: top;\n",
       "    }\n",
       "\n",
       "    .dataframe thead th {\n",
       "        text-align: right;\n",
       "    }\n",
       "</style>\n",
       "<table border=\"1\" class=\"dataframe\">\n",
       "  <thead>\n",
       "    <tr style=\"text-align: right;\">\n",
       "      <th></th>\n",
       "      <th>count</th>\n",
       "      <th>sum</th>\n",
       "    </tr>\n",
       "    <tr>\n",
       "      <th>genre</th>\n",
       "      <th></th>\n",
       "      <th></th>\n",
       "    </tr>\n",
       "  </thead>\n",
       "  <tbody>\n",
       "    <tr>\n",
       "      <th>Role-Playing</th>\n",
       "      <td>339</td>\n",
       "      <td>59.12</td>\n",
       "    </tr>\n",
       "    <tr>\n",
       "      <th>Action</th>\n",
       "      <td>953</td>\n",
       "      <td>49.18</td>\n",
       "    </tr>\n",
       "    <tr>\n",
       "      <th>Misc</th>\n",
       "      <td>180</td>\n",
       "      <td>12.45</td>\n",
       "    </tr>\n",
       "    <tr>\n",
       "      <th>Simulation</th>\n",
       "      <td>78</td>\n",
       "      <td>10.35</td>\n",
       "    </tr>\n",
       "    <tr>\n",
       "      <th>Shooter</th>\n",
       "      <td>235</td>\n",
       "      <td>9.23</td>\n",
       "    </tr>\n",
       "    <tr>\n",
       "      <th>Fighting</th>\n",
       "      <td>105</td>\n",
       "      <td>9.08</td>\n",
       "    </tr>\n",
       "    <tr>\n",
       "      <th>Platform</th>\n",
       "      <td>83</td>\n",
       "      <td>8.63</td>\n",
       "    </tr>\n",
       "    <tr>\n",
       "      <th>Sports</th>\n",
       "      <td>255</td>\n",
       "      <td>6.98</td>\n",
       "    </tr>\n",
       "    <tr>\n",
       "      <th>Adventure</th>\n",
       "      <td>247</td>\n",
       "      <td>6.56</td>\n",
       "    </tr>\n",
       "    <tr>\n",
       "      <th>Racing</th>\n",
       "      <td>115</td>\n",
       "      <td>2.50</td>\n",
       "    </tr>\n",
       "    <tr>\n",
       "      <th>Strategy</th>\n",
       "      <td>67</td>\n",
       "      <td>2.17</td>\n",
       "    </tr>\n",
       "    <tr>\n",
       "      <th>Puzzle</th>\n",
       "      <td>24</td>\n",
       "      <td>2.14</td>\n",
       "    </tr>\n",
       "  </tbody>\n",
       "</table>\n",
       "</div>"
      ],
      "text/plain": [
       "              count    sum\n",
       "genre                     \n",
       "Role-Playing    339  59.12\n",
       "Action          953  49.18\n",
       "Misc            180  12.45\n",
       "Simulation       78  10.35\n",
       "Shooter         235   9.23\n",
       "Fighting        105   9.08\n",
       "Platform         83   8.63\n",
       "Sports          255   6.98\n",
       "Adventure       247   6.56\n",
       "Racing          115   2.50\n",
       "Strategy         67   2.17\n",
       "Puzzle           24   2.14"
      ]
     },
     "metadata": {},
     "output_type": "display_data"
    },
    {
     "data": {
      "text/html": [
       "<div>\n",
       "<style scoped>\n",
       "    .dataframe tbody tr th:only-of-type {\n",
       "        vertical-align: middle;\n",
       "    }\n",
       "\n",
       "    .dataframe tbody tr th {\n",
       "        vertical-align: top;\n",
       "    }\n",
       "\n",
       "    .dataframe thead th {\n",
       "        text-align: right;\n",
       "    }\n",
       "</style>\n",
       "<table border=\"1\" class=\"dataframe\">\n",
       "  <thead>\n",
       "    <tr style=\"text-align: right;\">\n",
       "      <th>genre</th>\n",
       "      <th>Action</th>\n",
       "      <th>Adventure</th>\n",
       "      <th>Fighting</th>\n",
       "      <th>Misc</th>\n",
       "      <th>Platform</th>\n",
       "      <th>Puzzle</th>\n",
       "      <th>Racing</th>\n",
       "      <th>Role-Playing</th>\n",
       "      <th>Shooter</th>\n",
       "      <th>Simulation</th>\n",
       "      <th>Sports</th>\n",
       "      <th>Strategy</th>\n",
       "    </tr>\n",
       "    <tr>\n",
       "      <th>platform</th>\n",
       "      <th></th>\n",
       "      <th></th>\n",
       "      <th></th>\n",
       "      <th></th>\n",
       "      <th></th>\n",
       "      <th></th>\n",
       "      <th></th>\n",
       "      <th></th>\n",
       "      <th></th>\n",
       "      <th></th>\n",
       "      <th></th>\n",
       "      <th></th>\n",
       "    </tr>\n",
       "  </thead>\n",
       "  <tbody>\n",
       "    <tr>\n",
       "      <th>3DS</th>\n",
       "      <td>20.51</td>\n",
       "      <td>2.73</td>\n",
       "      <td>2.97</td>\n",
       "      <td>5.36</td>\n",
       "      <td>4.32</td>\n",
       "      <td>1.17</td>\n",
       "      <td>0.00</td>\n",
       "      <td>38.93</td>\n",
       "      <td>0.07</td>\n",
       "      <td>9.39</td>\n",
       "      <td>1.63</td>\n",
       "      <td>0.71</td>\n",
       "    </tr>\n",
       "    <tr>\n",
       "      <th>PC</th>\n",
       "      <td>0.00</td>\n",
       "      <td>0.00</td>\n",
       "      <td>0.00</td>\n",
       "      <td>0.00</td>\n",
       "      <td>0.00</td>\n",
       "      <td>0.00</td>\n",
       "      <td>0.00</td>\n",
       "      <td>0.00</td>\n",
       "      <td>0.00</td>\n",
       "      <td>0.00</td>\n",
       "      <td>0.00</td>\n",
       "      <td>0.00</td>\n",
       "    </tr>\n",
       "    <tr>\n",
       "      <th>PS3</th>\n",
       "      <td>13.95</td>\n",
       "      <td>1.03</td>\n",
       "      <td>3.52</td>\n",
       "      <td>0.78</td>\n",
       "      <td>0.08</td>\n",
       "      <td>0.04</td>\n",
       "      <td>0.73</td>\n",
       "      <td>6.86</td>\n",
       "      <td>4.02</td>\n",
       "      <td>0.61</td>\n",
       "      <td>2.95</td>\n",
       "      <td>0.72</td>\n",
       "    </tr>\n",
       "    <tr>\n",
       "      <th>PS4</th>\n",
       "      <td>5.90</td>\n",
       "      <td>0.45</td>\n",
       "      <td>0.75</td>\n",
       "      <td>0.42</td>\n",
       "      <td>0.49</td>\n",
       "      <td>0.00</td>\n",
       "      <td>0.26</td>\n",
       "      <td>3.55</td>\n",
       "      <td>2.81</td>\n",
       "      <td>0.18</td>\n",
       "      <td>0.99</td>\n",
       "      <td>0.16</td>\n",
       "    </tr>\n",
       "    <tr>\n",
       "      <th>PSV</th>\n",
       "      <td>6.71</td>\n",
       "      <td>2.28</td>\n",
       "      <td>0.66</td>\n",
       "      <td>2.29</td>\n",
       "      <td>0.06</td>\n",
       "      <td>0.05</td>\n",
       "      <td>0.10</td>\n",
       "      <td>7.68</td>\n",
       "      <td>0.11</td>\n",
       "      <td>0.04</td>\n",
       "      <td>0.79</td>\n",
       "      <td>0.27</td>\n",
       "    </tr>\n",
       "    <tr>\n",
       "      <th>Wii</th>\n",
       "      <td>0.43</td>\n",
       "      <td>0.00</td>\n",
       "      <td>NaN</td>\n",
       "      <td>1.10</td>\n",
       "      <td>0.00</td>\n",
       "      <td>0.66</td>\n",
       "      <td>0.00</td>\n",
       "      <td>1.06</td>\n",
       "      <td>NaN</td>\n",
       "      <td>0.08</td>\n",
       "      <td>0.06</td>\n",
       "      <td>0.00</td>\n",
       "    </tr>\n",
       "    <tr>\n",
       "      <th>WiiU</th>\n",
       "      <td>1.09</td>\n",
       "      <td>0.00</td>\n",
       "      <td>1.01</td>\n",
       "      <td>2.45</td>\n",
       "      <td>3.68</td>\n",
       "      <td>0.22</td>\n",
       "      <td>1.30</td>\n",
       "      <td>0.89</td>\n",
       "      <td>1.54</td>\n",
       "      <td>0.00</td>\n",
       "      <td>0.52</td>\n",
       "      <td>0.31</td>\n",
       "    </tr>\n",
       "    <tr>\n",
       "      <th>X360</th>\n",
       "      <td>0.54</td>\n",
       "      <td>0.04</td>\n",
       "      <td>0.16</td>\n",
       "      <td>0.04</td>\n",
       "      <td>0.00</td>\n",
       "      <td>NaN</td>\n",
       "      <td>0.06</td>\n",
       "      <td>0.14</td>\n",
       "      <td>0.52</td>\n",
       "      <td>0.05</td>\n",
       "      <td>0.02</td>\n",
       "      <td>0.00</td>\n",
       "    </tr>\n",
       "    <tr>\n",
       "      <th>XOne</th>\n",
       "      <td>0.05</td>\n",
       "      <td>0.03</td>\n",
       "      <td>0.01</td>\n",
       "      <td>0.01</td>\n",
       "      <td>0.00</td>\n",
       "      <td>NaN</td>\n",
       "      <td>0.05</td>\n",
       "      <td>0.01</td>\n",
       "      <td>0.16</td>\n",
       "      <td>0.00</td>\n",
       "      <td>0.02</td>\n",
       "      <td>0.00</td>\n",
       "    </tr>\n",
       "  </tbody>\n",
       "</table>\n",
       "</div>"
      ],
      "text/plain": [
       "genre     Action  Adventure  Fighting  Misc  Platform  Puzzle  Racing  \\\n",
       "platform                                                                \n",
       "3DS        20.51       2.73      2.97  5.36      4.32    1.17    0.00   \n",
       "PC          0.00       0.00      0.00  0.00      0.00    0.00    0.00   \n",
       "PS3        13.95       1.03      3.52  0.78      0.08    0.04    0.73   \n",
       "PS4         5.90       0.45      0.75  0.42      0.49    0.00    0.26   \n",
       "PSV         6.71       2.28      0.66  2.29      0.06    0.05    0.10   \n",
       "Wii         0.43       0.00       NaN  1.10      0.00    0.66    0.00   \n",
       "WiiU        1.09       0.00      1.01  2.45      3.68    0.22    1.30   \n",
       "X360        0.54       0.04      0.16  0.04      0.00     NaN    0.06   \n",
       "XOne        0.05       0.03      0.01  0.01      0.00     NaN    0.05   \n",
       "\n",
       "genre     Role-Playing  Shooter  Simulation  Sports  Strategy  \n",
       "platform                                                       \n",
       "3DS              38.93     0.07        9.39    1.63      0.71  \n",
       "PC                0.00     0.00        0.00    0.00      0.00  \n",
       "PS3               6.86     4.02        0.61    2.95      0.72  \n",
       "PS4               3.55     2.81        0.18    0.99      0.16  \n",
       "PSV               7.68     0.11        0.04    0.79      0.27  \n",
       "Wii               1.06      NaN        0.08    0.06      0.00  \n",
       "WiiU              0.89     1.54        0.00    0.52      0.31  \n",
       "X360              0.14     0.52        0.05    0.02      0.00  \n",
       "XOne              0.01     0.16        0.00    0.02      0.00  "
      ]
     },
     "metadata": {},
     "output_type": "display_data"
    },
    {
     "data": {
      "text/html": [
       "<div>\n",
       "<style scoped>\n",
       "    .dataframe tbody tr th:only-of-type {\n",
       "        vertical-align: middle;\n",
       "    }\n",
       "\n",
       "    .dataframe tbody tr th {\n",
       "        vertical-align: top;\n",
       "    }\n",
       "\n",
       "    .dataframe thead th {\n",
       "        text-align: right;\n",
       "    }\n",
       "</style>\n",
       "<table border=\"1\" class=\"dataframe\">\n",
       "  <thead>\n",
       "    <tr style=\"text-align: right;\">\n",
       "      <th></th>\n",
       "      <th>count</th>\n",
       "      <th>sum</th>\n",
       "    </tr>\n",
       "    <tr>\n",
       "      <th>rating</th>\n",
       "      <th></th>\n",
       "      <th></th>\n",
       "    </tr>\n",
       "  </thead>\n",
       "  <tbody>\n",
       "    <tr>\n",
       "      <th>E</th>\n",
       "      <td>379</td>\n",
       "      <td>27.62</td>\n",
       "    </tr>\n",
       "    <tr>\n",
       "      <th>E10+</th>\n",
       "      <td>301</td>\n",
       "      <td>8.19</td>\n",
       "    </tr>\n",
       "    <tr>\n",
       "      <th>M</th>\n",
       "      <td>498</td>\n",
       "      <td>21.20</td>\n",
       "    </tr>\n",
       "    <tr>\n",
       "      <th>T</th>\n",
       "      <td>410</td>\n",
       "      <td>25.76</td>\n",
       "    </tr>\n",
       "    <tr>\n",
       "      <th>undefined</th>\n",
       "      <td>1093</td>\n",
       "      <td>95.62</td>\n",
       "    </tr>\n",
       "  </tbody>\n",
       "</table>\n",
       "</div>"
      ],
      "text/plain": [
       "           count    sum\n",
       "rating                 \n",
       "E            379  27.62\n",
       "E10+         301   8.19\n",
       "M            498  21.20\n",
       "T            410  25.76\n",
       "undefined   1093  95.62"
      ]
     },
     "metadata": {},
     "output_type": "display_data"
    },
    {
     "name": "stdout",
     "output_type": "stream",
     "text": [
      "Коэффициент корреляции между количеством игр и продажами в разрезе рейтингов ESRB 0.9783777457268167\n"
     ]
    }
   ],
   "source": [
    "#рассматриваем результаты продаж и популярные жанры в регионе JP\n",
    "pivot_JP_s = data_select.pivot_table(index='platform', values='jp_sales', aggfunc=('sum','count'))\n",
    "display(pivot_JP_s.sort_values(by='sum',ascending=False))\n",
    "\n",
    "pivot_JP_g = data_select.pivot_table(index='genre', values='jp_sales', aggfunc=('sum','count'))\n",
    "display(pivot_JP_g.sort_values(by='sum',ascending=False))\n",
    "\n",
    "pivot_g_jp = data_select.pivot_table(index='platform', columns='genre', values='jp_sales', aggfunc='sum')\n",
    "display(pivot_g_jp)\n",
    "\n",
    "pivot_JP_r = data_select.pivot_table(index='rating', values='jp_sales', aggfunc=('sum','count'))\n",
    "display(pivot_JP_r)\n",
    "\n",
    "#оцениваем взяимосвязь с помощью коэффициента Пирсона\n",
    "print(\n",
    "    'Коэффициент корреляции между количеством игр и продажами в разрезе рейтингов ESRB',\n",
    "    pivot_JP_r['sum'].corr(pivot_JP_r['count']))"
   ]
  },
  {
   "cell_type": "markdown",
   "metadata": {},
   "source": [
    "### Вывод\n",
    "В регионе Япония наиболее популярные 5 платформ это:\n",
    "- 3DS, PS3, PSV, PS4, WiiU. В этом регионе все позиции топ-5 заняты местными производителями. Доля продаж Microsoft значительно ниже.\n",
    "\n",
    "Наиболее популярные жанры по количеству проданных копий это:\n",
    "- Role-Playing, Action, Misc, Simulation, Fighting\n",
    "Этот регион кардинально отличается от двух рассмотренных ранее. В топ-5 жанров входят жанры Misc, Simulation и Fighting. Распределение жанров почти полностью повторяет продажи платформы 3DS, занимающей первое место в топ-5.  \n",
    "\n",
    "Исходя из имеющихся данных, существует очень сильная связь между количеством игр и продажами в разрезе рейтингов ESRB. Можно утверждать, что рейтинг ESRB оказывает влияние на продажи в регионе Япония. По сравнению с другими рассмотренными регионами, наибольшие продажи в регионе Япония обеспечили игры не имеющие рейтинга ESRB."
   ]
  },
  {
   "cell_type": "markdown",
   "metadata": {},
   "source": [
    "## Проверка гипотез"
   ]
  },
  {
   "cell_type": "code",
   "execution_count": 24,
   "metadata": {
    "scrolled": false
   },
   "outputs": [
    {
     "name": "stdout",
     "output_type": "stream",
     "text": [
      "p-значение:  0.5489537965134987\n"
     ]
    }
   ],
   "source": [
    "#проверяем гипотезу о равенстве средних пользовательских рейтингов платформ Xbox One и PC\n",
    "#готовим таблицу для проверки гипотезы\n",
    "data_select = data_select.fillna('0')\n",
    "data_select['user_score'] = data_select['user_score'].astype('float')\n",
    "\n",
    "#формируем отдельные таблицы для платформ XOne и PC\n",
    "data_select_xb = data_select.query('platform == \"XOne\" and user_score > 0')\n",
    "data_select_pc = data_select.query('platform == \"PC\" and user_score > 0')\n",
    "\n",
    "#проверяем гипотезу о равенстве средних пользовательских рейтингов платформ Xbox One и PC для уровня значимости 5%\n",
    "#альтернативная гипотеза о неравенстве средних пользовательских рейтингов платформ Xbox One и PC\n",
    "\n",
    "sample_1 = data_select_xb['user_score']\n",
    "sample_2 = data_select_pc['user_score']\n",
    "\n",
    "results = st.ttest_ind(sample_1, sample_2, equal_var = False)\n",
    "print('p-значение: ', results.pvalue)"
   ]
  },
  {
   "cell_type": "markdown",
   "metadata": {},
   "source": [
    "### Вывод\n",
    "Полученное значение уровня значимости значительно больше выбранного уровня значимости 5%, соответственно гипотеза о равенстве средних пользовательских рейтингов платформ Xbox One и PC не может быть отвергнута. Следовательно, альтернативная гипотеза о неравенстве средних пользовательских рейтингов платформ Xbox One и PC отвергается."
   ]
  },
  {
   "cell_type": "code",
   "execution_count": 25,
   "metadata": {},
   "outputs": [
    {
     "name": "stdout",
     "output_type": "stream",
     "text": [
      "p-значение:  7.312394745169519e-20\n"
     ]
    }
   ],
   "source": [
    "#формируем отдельные таблицы для жанров Action и Sports\n",
    "data_select_act = data_select.query('genre == \"Action\" and user_score > 0')\n",
    "data_select_sp = data_select.query('genre == \"Sports\" and user_score > 0')\n",
    "\n",
    "#проверяем гипотезу о равенстве средних пользовательских рейтингов жанров Action и Sports для уровня значимости 5%\n",
    "#альтернативная гипотеза о неравенстве средних пользовательских рейтингов жанров Action и Sports\n",
    "\n",
    "sample_1 = data_select_act['user_score']\n",
    "sample_2 = data_select_sp['user_score']\n",
    "\n",
    "results = st.ttest_ind(sample_1, sample_2, equal_var = False)\n",
    "print('p-значение: ', results.pvalue)"
   ]
  },
  {
   "cell_type": "markdown",
   "metadata": {},
   "source": [
    "### Вывод\n",
    "Полученное значение уровня значимости значительно меньше выбранного уровня значимости 5%, соответственно гипотеза о равенстве средних пользовательских рейтингов жанров Action и Sports может быть отвергнута. Следовательно, принимается достоверной альтернативная гипотеза о неравенстве средних пользовательских рейтингов жанров Action и Sports."
   ]
  },
  {
   "cell_type": "markdown",
   "metadata": {
    "scrolled": false
   },
   "source": [
    "## Общий вывод\n",
    "Исходные данные включают 16715 записей о продажах видеоигр для различных платформ за период времени с 1980 по 2016 год.\n",
    "\n",
    "Значительный рост количества выпускаемых видеоигр начался в 1998 году, рост продолжался до 2008 года, когда было выпущено 1039 игр, после этого началось падение. В 2016 году было выпущено 297 игр. Практически двухкратное падение произошло в 2012 году по сравнению с 2011 годом. После этого рынок стабилизировался.\n",
    "\n",
    "Наибольшие продажи за весь период наблюдения у платформы PS2 это 1247 млн. проданных копий, наименьшие на платформе PCFX это 0,03 млн. проданных копий. Медианное значение совокупных продаж за период с 1980 по 2016 год составляет 200 млн. проданных копий, среднее значение 286 млн. проданных копий.\n",
    "\n",
    "Для платформ с наибольшими суммарными продажами построено распределение продаж по годам. Платформы существуют от 4 до 13 лет, PC существует весь рассматриваемый период 26 лет, но это не игровая платформа в чистом виде. Медианное и среднее время существования платформы равны 10 годам.\n",
    "\n",
    "Актуальный период для возможности прогнозирования на 2017 год принят с 2012 по 2016 год. \n",
    "\n",
    "По состоянию на 2016 год продажи осуществляются на 9 платформах. Это 3DS, PC, PS3, PS4, PSV, Wii, WiiU, X360, XOne. Если смотреть на тренд продаж, то он снижающийся на всех платформах. Ни одна из платформ не показывает рост продаж в 2016 году по сравнению с 2015 или с 2014, это связано с неполными данными за 2016 год. Четыре платформы, а именно PS3, Wii, X360, 3DS находятся в конце жизненного цикла, их время существования близко к 10 годам или больше. Платформы в начале и середине жизненного цикла это PS4, PSV, WiiU и XOne. Платформа PC не теряет актуальности все 26 лет.\n",
    "\n",
    "Проведен анализ зависимости между суммарными продажами и оценкой пользователей и между суммарными продажами и оценкой критиков для платформ PS4, PSV, WiiU, XOne и PC. \n",
    "\n",
    "Исходя из полученных результатов, для платформ PS4, XOne необходимо обращать на оценки критиков, поскольку для этих платформ установлена связь между суммарными продажами и оценкой критиков. Для платформ PC и PSV оценки критиков никак не влияют на суммарные продажи. Суммарные продажи вышеперечисленных платформ не коррелируют с оценкой пользователей.\n",
    "\n",
    "Платформа WiiU это единственная платформа из рассматриваемых, для которой оценки критиков и оценки пользователей влияют на суммарные продажи, что следует учитывать при планировании продаж в данном регионе.\n",
    "\n",
    "При разработке игр необходимо учитывать региональные особенности.\n",
    "\n",
    "В регионе Северная Америка наиболее популярные 5 платформ это:\n",
    "- X360, PS4, PS3, XOne, 3DS. \n",
    "\n",
    "Наиболее популярные жанры в Северной Америеа по количеству проданных копий это:\n",
    "- Action, Shooter, Sports, Role-Playing, Misc.\n",
    "\n",
    "В регионе Европа наиболее популярные 5 платформ это:\n",
    "- PS4, PS3, X360, XOne, 3DS. \n",
    "\n",
    "Наиболее популярные жанры в Европе по количеству проданных копий это:\n",
    "- Action, Shooter, Sports, Role-Playing, Racing.\n",
    "\n",
    "В регионе Япония наиболее популярные 5 платформ это:\n",
    "- 3DS, PS3, PSV, PS4, WiiU.\n",
    "\n",
    "Наиболее популярные жанры в Японии по количеству проданных копий это:\n",
    "- Role-Playing, Action, Misc, Simulation, Fighting\n",
    "\n",
    "Этот регион кардинально отличается от двух рассмотренных ранее. В топ-5 жанров входят жанры Misc, Simulation и Fighting. Распределение жанров почти полностью повторяет продажи платформы 3DS, занимающей первое место в топ-5.\n",
    "\n",
    "Также следует учесть эффективность игр, сколько продаж обеспечивает одна игра определенного жанра. Исходя из данного показателя игры жанра Shooter наиболее эффективны, а наименее эффективны игры жанра Adventure. В порядке убывания, наиболее прибыльны игры следующих жанров:\n",
    "- Shooter, Platform, Sports, Role-Playing, Racing\n",
    "\n",
    "При планировании предстоящих доходов можно исходить из того, что медианное значение продаж одной игры составляет около 0,2 млн для платформ PS4, WiiU, XOne, для платформ PC, PSV медианное значение значительно ниже и равно примерно 0,05 млн. Нормальное значение общих продаж на рассматриваемых платформах ограничено диапазоном от 0,01 млн до 1,71 млн.\n",
    "\n",
    "Исходя из имеющихся данных, можно утверждать, что рейтинг ESRB оказывает сильное влияние на продажи в регионе Япония, для региона Северная Америка и Европа данная связь отсутствует.\n",
    "\n",
    "Гипотеза о равенстве средних пользовательских рейтингов платформ Xbox One и PC не может быть отвергнута.\n",
    "Гипотеза о неравенстве средних пользовательских рейтингов жанров Action и Sports может быть признана достоверной."
   ]
  }
 ],
 "metadata": {
  "ExecuteTimeLog": [
   {
    "duration": 490,
    "start_time": "2022-06-08T07:58:06.241Z"
   },
   {
    "duration": 9,
    "start_time": "2022-06-08T07:58:21.615Z"
   },
   {
    "duration": 467,
    "start_time": "2022-06-08T07:59:56.604Z"
   },
   {
    "duration": 104,
    "start_time": "2022-06-08T08:00:37.852Z"
   },
   {
    "duration": 65,
    "start_time": "2022-06-08T08:00:57.348Z"
   },
   {
    "duration": 107,
    "start_time": "2022-06-08T08:01:32.060Z"
   },
   {
    "duration": 47,
    "start_time": "2022-06-09T04:59:01.754Z"
   },
   {
    "duration": 726,
    "start_time": "2022-06-09T04:59:09.626Z"
   },
   {
    "duration": 206,
    "start_time": "2022-06-09T04:59:10.354Z"
   },
   {
    "duration": 99,
    "start_time": "2022-06-09T04:59:23.456Z"
   },
   {
    "duration": 91,
    "start_time": "2022-06-09T04:59:31.471Z"
   },
   {
    "duration": 90,
    "start_time": "2022-06-09T04:59:47.911Z"
   },
   {
    "duration": 145,
    "start_time": "2022-06-09T05:05:09.022Z"
   },
   {
    "duration": 597,
    "start_time": "2022-06-09T05:05:53.047Z"
   },
   {
    "duration": 157,
    "start_time": "2022-06-09T05:05:53.646Z"
   },
   {
    "duration": 77,
    "start_time": "2022-06-09T05:06:26.001Z"
   },
   {
    "duration": 80,
    "start_time": "2022-06-09T05:10:16.870Z"
   },
   {
    "duration": 91,
    "start_time": "2022-06-09T05:12:46.462Z"
   },
   {
    "duration": 241,
    "start_time": "2022-06-09T05:32:59.896Z"
   },
   {
    "duration": 103,
    "start_time": "2022-06-09T05:33:26.912Z"
   },
   {
    "duration": 113,
    "start_time": "2022-06-09T05:34:11.263Z"
   },
   {
    "duration": 104,
    "start_time": "2022-06-09T05:34:38.695Z"
   },
   {
    "duration": 7,
    "start_time": "2022-06-09T05:35:00.161Z"
   },
   {
    "duration": 8,
    "start_time": "2022-06-09T05:35:47.629Z"
   },
   {
    "duration": 9,
    "start_time": "2022-06-09T05:36:00.994Z"
   },
   {
    "duration": 93,
    "start_time": "2022-06-09T05:36:23.620Z"
   },
   {
    "duration": 8,
    "start_time": "2022-06-09T05:36:41.557Z"
   },
   {
    "duration": 9,
    "start_time": "2022-06-09T05:51:30.589Z"
   },
   {
    "duration": 6,
    "start_time": "2022-06-09T05:51:49.650Z"
   },
   {
    "duration": 606,
    "start_time": "2022-06-09T05:52:21.595Z"
   },
   {
    "duration": 92,
    "start_time": "2022-06-09T05:52:22.203Z"
   },
   {
    "duration": 6,
    "start_time": "2022-06-09T05:52:22.297Z"
   },
   {
    "duration": 88,
    "start_time": "2022-06-09T05:52:55.053Z"
   },
   {
    "duration": 7,
    "start_time": "2022-06-09T06:51:40.469Z"
   },
   {
    "duration": 5,
    "start_time": "2022-06-09T07:29:37.601Z"
   },
   {
    "duration": 8,
    "start_time": "2022-06-09T07:30:27.368Z"
   },
   {
    "duration": 5,
    "start_time": "2022-06-09T07:30:34.032Z"
   },
   {
    "duration": 10,
    "start_time": "2022-06-09T08:00:09.964Z"
   },
   {
    "duration": 43,
    "start_time": "2022-06-09T08:36:36.183Z"
   },
   {
    "duration": 20,
    "start_time": "2022-06-09T08:37:03.982Z"
   },
   {
    "duration": 87,
    "start_time": "2022-06-09T08:37:36.297Z"
   },
   {
    "duration": 21,
    "start_time": "2022-06-09T08:37:49.630Z"
   },
   {
    "duration": 16,
    "start_time": "2022-06-09T08:38:11.758Z"
   },
   {
    "duration": 34,
    "start_time": "2022-06-09T08:38:33.446Z"
   },
   {
    "duration": 11,
    "start_time": "2022-06-09T08:38:56.837Z"
   },
   {
    "duration": 108,
    "start_time": "2022-06-09T08:43:10.869Z"
   },
   {
    "duration": 115,
    "start_time": "2022-06-09T08:43:34.876Z"
   },
   {
    "duration": 19,
    "start_time": "2022-06-09T08:45:55.418Z"
   },
   {
    "duration": 19,
    "start_time": "2022-06-09T08:47:44.177Z"
   },
   {
    "duration": 41,
    "start_time": "2022-06-09T08:48:17.058Z"
   },
   {
    "duration": 45,
    "start_time": "2022-06-09T08:48:45.985Z"
   },
   {
    "duration": 95,
    "start_time": "2022-06-09T08:50:25.666Z"
   },
   {
    "duration": 43,
    "start_time": "2022-06-09T08:50:38.181Z"
   },
   {
    "duration": 57,
    "start_time": "2022-06-09T08:51:28.488Z"
   },
   {
    "duration": 52,
    "start_time": "2022-06-09T08:51:53.882Z"
   },
   {
    "duration": 24,
    "start_time": "2022-06-09T08:52:29.623Z"
   },
   {
    "duration": 26,
    "start_time": "2022-06-09T08:54:12.701Z"
   },
   {
    "duration": 27,
    "start_time": "2022-06-09T08:55:03.291Z"
   },
   {
    "duration": 75,
    "start_time": "2022-06-09T08:56:55.123Z"
   },
   {
    "duration": 49,
    "start_time": "2022-06-09T09:02:57.696Z"
   },
   {
    "duration": 46,
    "start_time": "2022-06-09T09:03:29.056Z"
   },
   {
    "duration": 56,
    "start_time": "2022-06-09T09:04:06.959Z"
   },
   {
    "duration": 60,
    "start_time": "2022-06-09T09:04:17.743Z"
   },
   {
    "duration": 23,
    "start_time": "2022-06-09T09:04:44.743Z"
   },
   {
    "duration": 118,
    "start_time": "2022-06-09T10:18:34.051Z"
   },
   {
    "duration": 107,
    "start_time": "2022-06-09T10:18:51.203Z"
   },
   {
    "duration": 122,
    "start_time": "2022-06-09T10:23:36.370Z"
   },
   {
    "duration": 97,
    "start_time": "2022-06-09T10:28:31.352Z"
   },
   {
    "duration": 34,
    "start_time": "2022-06-09T10:29:48.152Z"
   },
   {
    "duration": 26,
    "start_time": "2022-06-09T10:30:06.455Z"
   },
   {
    "duration": 113,
    "start_time": "2022-06-09T10:30:41.271Z"
   },
   {
    "duration": 101,
    "start_time": "2022-06-09T10:30:53.726Z"
   },
   {
    "duration": 104,
    "start_time": "2022-06-09T10:45:11.326Z"
   },
   {
    "duration": 108,
    "start_time": "2022-06-09T10:45:22.173Z"
   },
   {
    "duration": 105,
    "start_time": "2022-06-09T10:45:44.448Z"
   },
   {
    "duration": 110,
    "start_time": "2022-06-09T10:46:04.924Z"
   },
   {
    "duration": 115,
    "start_time": "2022-06-09T10:46:24.589Z"
   },
   {
    "duration": 96,
    "start_time": "2022-06-09T10:47:02.220Z"
   },
   {
    "duration": 129,
    "start_time": "2022-06-09T10:47:22.356Z"
   },
   {
    "duration": 35,
    "start_time": "2022-06-09T10:47:55.683Z"
   },
   {
    "duration": 125,
    "start_time": "2022-06-09T11:02:17.526Z"
   },
   {
    "duration": 29,
    "start_time": "2022-06-09T11:02:34.346Z"
   },
   {
    "duration": 43,
    "start_time": "2022-06-09T11:03:11.753Z"
   },
   {
    "duration": 62,
    "start_time": "2022-06-09T11:03:30.693Z"
   },
   {
    "duration": 47,
    "start_time": "2022-06-09T11:03:48.087Z"
   },
   {
    "duration": 83,
    "start_time": "2022-06-09T11:04:55.204Z"
   },
   {
    "duration": 72,
    "start_time": "2022-06-09T11:06:08.787Z"
   },
   {
    "duration": 94,
    "start_time": "2022-06-09T11:07:07.790Z"
   },
   {
    "duration": 135,
    "start_time": "2022-06-09T11:08:32.129Z"
   },
   {
    "duration": 128,
    "start_time": "2022-06-09T11:09:48.930Z"
   },
   {
    "duration": 118,
    "start_time": "2022-06-09T11:18:56.747Z"
   },
   {
    "duration": 146,
    "start_time": "2022-06-09T11:19:23.403Z"
   },
   {
    "duration": 60,
    "start_time": "2022-06-09T11:57:10.698Z"
   },
   {
    "duration": 51,
    "start_time": "2022-06-09T11:57:20.523Z"
   },
   {
    "duration": 37,
    "start_time": "2022-06-09T11:57:34.696Z"
   },
   {
    "duration": 27,
    "start_time": "2022-06-09T11:58:19.784Z"
   },
   {
    "duration": 29,
    "start_time": "2022-06-09T11:58:35.266Z"
   },
   {
    "duration": 44,
    "start_time": "2022-06-09T11:59:01.832Z"
   },
   {
    "duration": 35,
    "start_time": "2022-06-09T12:01:11.342Z"
   },
   {
    "duration": 30,
    "start_time": "2022-06-09T12:01:24.206Z"
   },
   {
    "duration": 23,
    "start_time": "2022-06-09T12:01:46.789Z"
   },
   {
    "duration": 626,
    "start_time": "2022-06-09T12:02:01.146Z"
   },
   {
    "duration": 129,
    "start_time": "2022-06-09T12:02:01.773Z"
   },
   {
    "duration": 7,
    "start_time": "2022-06-09T12:02:01.903Z"
   },
   {
    "duration": 43,
    "start_time": "2022-06-09T12:03:04.801Z"
   },
   {
    "duration": 568,
    "start_time": "2022-06-09T12:03:26.359Z"
   },
   {
    "duration": 111,
    "start_time": "2022-06-09T12:03:26.929Z"
   },
   {
    "duration": 5,
    "start_time": "2022-06-09T12:03:27.041Z"
   },
   {
    "duration": 5,
    "start_time": "2022-06-09T12:03:40.281Z"
   },
   {
    "duration": 97,
    "start_time": "2022-06-09T12:03:59.873Z"
   },
   {
    "duration": 27,
    "start_time": "2022-06-09T12:04:39.010Z"
   },
   {
    "duration": 31,
    "start_time": "2022-06-09T12:04:58.768Z"
   },
   {
    "duration": 26,
    "start_time": "2022-06-09T12:06:50.743Z"
   },
   {
    "duration": 46,
    "start_time": "2022-06-09T12:15:04.417Z"
   },
   {
    "duration": 107,
    "start_time": "2022-06-09T12:15:56.849Z"
   },
   {
    "duration": 34,
    "start_time": "2022-06-09T12:16:42.209Z"
   },
   {
    "duration": 45,
    "start_time": "2022-06-09T12:18:49.274Z"
   },
   {
    "duration": 50,
    "start_time": "2022-06-09T12:22:48.716Z"
   },
   {
    "duration": 49,
    "start_time": "2022-06-09T17:47:54.708Z"
   },
   {
    "duration": 813,
    "start_time": "2022-06-09T17:47:59.957Z"
   },
   {
    "duration": 147,
    "start_time": "2022-06-09T17:48:00.772Z"
   },
   {
    "duration": 52,
    "start_time": "2022-06-09T17:48:00.920Z"
   },
   {
    "duration": 109,
    "start_time": "2022-06-09T17:55:33.653Z"
   },
   {
    "duration": 70,
    "start_time": "2022-06-09T17:56:08.523Z"
   },
   {
    "duration": 88,
    "start_time": "2022-06-09T17:56:56.839Z"
   },
   {
    "duration": 110,
    "start_time": "2022-06-09T18:02:31.540Z"
   },
   {
    "duration": 567,
    "start_time": "2022-06-09T18:03:05.486Z"
   },
   {
    "duration": 186,
    "start_time": "2022-06-09T18:03:06.055Z"
   },
   {
    "duration": 0,
    "start_time": "2022-06-09T18:03:06.242Z"
   },
   {
    "duration": 104,
    "start_time": "2022-06-09T18:03:36.086Z"
   },
   {
    "duration": 98,
    "start_time": "2022-06-09T18:04:56.492Z"
   },
   {
    "duration": 84,
    "start_time": "2022-06-09T18:05:01.120Z"
   },
   {
    "duration": 54,
    "start_time": "2022-06-09T18:05:39.646Z"
   },
   {
    "duration": 65,
    "start_time": "2022-06-09T18:06:29.918Z"
   },
   {
    "duration": 77,
    "start_time": "2022-06-09T18:07:07.793Z"
   },
   {
    "duration": 48,
    "start_time": "2022-06-10T06:29:26.591Z"
   },
   {
    "duration": 7,
    "start_time": "2022-06-10T06:56:36.995Z"
   },
   {
    "duration": 814,
    "start_time": "2022-06-10T06:57:00.129Z"
   },
   {
    "duration": 248,
    "start_time": "2022-06-10T06:57:00.946Z"
   },
   {
    "duration": 0,
    "start_time": "2022-06-10T06:57:01.196Z"
   },
   {
    "duration": 101,
    "start_time": "2022-06-10T06:57:18.407Z"
   },
   {
    "duration": 72,
    "start_time": "2022-06-10T06:57:23.957Z"
   },
   {
    "duration": 59,
    "start_time": "2022-06-10T06:57:46.462Z"
   },
   {
    "duration": 74,
    "start_time": "2022-06-10T07:02:18.235Z"
   },
   {
    "duration": 121,
    "start_time": "2022-06-10T07:02:50.050Z"
   },
   {
    "duration": 116,
    "start_time": "2022-06-10T07:03:32.939Z"
   },
   {
    "duration": 625,
    "start_time": "2022-06-10T07:03:47.176Z"
   },
   {
    "duration": 129,
    "start_time": "2022-06-10T07:03:47.803Z"
   },
   {
    "duration": 113,
    "start_time": "2022-06-10T07:03:47.934Z"
   },
   {
    "duration": 6,
    "start_time": "2022-06-10T07:04:46.493Z"
   },
   {
    "duration": 31,
    "start_time": "2022-06-10T07:05:15.899Z"
   },
   {
    "duration": 2225,
    "start_time": "2022-06-10T07:05:30.538Z"
   },
   {
    "duration": 109,
    "start_time": "2022-06-10T07:06:03.042Z"
   },
   {
    "duration": 166,
    "start_time": "2022-06-10T07:06:45.381Z"
   },
   {
    "duration": 195,
    "start_time": "2022-06-10T07:06:59.974Z"
   },
   {
    "duration": 128,
    "start_time": "2022-06-10T07:09:01.103Z"
   },
   {
    "duration": 86,
    "start_time": "2022-06-10T07:09:23.675Z"
   },
   {
    "duration": 117,
    "start_time": "2022-06-10T07:10:07.134Z"
   },
   {
    "duration": 671,
    "start_time": "2022-06-14T01:06:52.912Z"
   },
   {
    "duration": 135,
    "start_time": "2022-06-14T01:06:53.585Z"
   },
   {
    "duration": 93,
    "start_time": "2022-06-14T01:06:53.722Z"
   },
   {
    "duration": 86,
    "start_time": "2022-06-14T01:09:15.595Z"
   },
   {
    "duration": 53,
    "start_time": "2022-06-14T04:24:17.324Z"
   },
   {
    "duration": 736,
    "start_time": "2022-06-14T04:24:31.894Z"
   },
   {
    "duration": 219,
    "start_time": "2022-06-14T04:24:32.633Z"
   },
   {
    "duration": 0,
    "start_time": "2022-06-14T04:24:32.854Z"
   },
   {
    "duration": 94,
    "start_time": "2022-06-14T04:25:59.451Z"
   },
   {
    "duration": 106,
    "start_time": "2022-06-14T04:26:42.683Z"
   },
   {
    "duration": 99,
    "start_time": "2022-06-14T04:26:50.201Z"
   },
   {
    "duration": 118,
    "start_time": "2022-06-14T05:11:11.556Z"
   },
   {
    "duration": 101,
    "start_time": "2022-06-14T05:11:41.644Z"
   },
   {
    "duration": 116,
    "start_time": "2022-06-14T05:45:23.386Z"
   },
   {
    "duration": 39,
    "start_time": "2022-06-14T17:24:14.647Z"
   },
   {
    "duration": 53,
    "start_time": "2022-06-14T17:24:34.908Z"
   },
   {
    "duration": 911,
    "start_time": "2022-06-14T17:24:49.419Z"
   },
   {
    "duration": 194,
    "start_time": "2022-06-14T17:24:50.333Z"
   },
   {
    "duration": 4843,
    "start_time": "2022-06-14T17:24:50.529Z"
   },
   {
    "duration": 5030,
    "start_time": "2022-06-14T17:26:20.124Z"
   },
   {
    "duration": 127,
    "start_time": "2022-06-14T17:56:11.912Z"
   },
   {
    "duration": 141,
    "start_time": "2022-06-14T17:56:30.645Z"
   },
   {
    "duration": 127,
    "start_time": "2022-06-14T18:02:42.526Z"
   },
   {
    "duration": 37,
    "start_time": "2022-06-14T18:04:03.543Z"
   },
   {
    "duration": 137,
    "start_time": "2022-06-14T18:04:20.748Z"
   },
   {
    "duration": 135,
    "start_time": "2022-06-14T18:05:16.289Z"
   },
   {
    "duration": 146,
    "start_time": "2022-06-14T18:05:46.014Z"
   },
   {
    "duration": 180,
    "start_time": "2022-06-14T18:10:26.730Z"
   },
   {
    "duration": 140,
    "start_time": "2022-06-14T18:10:53.522Z"
   },
   {
    "duration": 642,
    "start_time": "2022-06-14T18:11:25.224Z"
   },
   {
    "duration": 140,
    "start_time": "2022-06-14T18:11:25.868Z"
   },
   {
    "duration": 164,
    "start_time": "2022-06-14T18:11:26.009Z"
   },
   {
    "duration": 215,
    "start_time": "2022-06-14T18:13:13.191Z"
   },
   {
    "duration": 136,
    "start_time": "2022-06-14T18:13:46.646Z"
   },
   {
    "duration": 152,
    "start_time": "2022-06-14T18:14:13.459Z"
   },
   {
    "duration": 501,
    "start_time": "2022-06-14T18:19:13.653Z"
   },
   {
    "duration": 606,
    "start_time": "2022-06-14T18:20:33.743Z"
   },
   {
    "duration": 134,
    "start_time": "2022-06-14T18:20:34.351Z"
   },
   {
    "duration": 492,
    "start_time": "2022-06-14T18:20:34.486Z"
   },
   {
    "duration": 633,
    "start_time": "2022-06-14T18:21:42.710Z"
   },
   {
    "duration": 116,
    "start_time": "2022-06-14T18:21:43.345Z"
   },
   {
    "duration": 475,
    "start_time": "2022-06-14T18:21:43.462Z"
   },
   {
    "duration": 485,
    "start_time": "2022-06-14T18:23:34.467Z"
   },
   {
    "duration": 552,
    "start_time": "2022-06-14T18:25:18.789Z"
   },
   {
    "duration": 481,
    "start_time": "2022-06-14T18:28:22.489Z"
   },
   {
    "duration": 508,
    "start_time": "2022-06-14T18:29:33.624Z"
   },
   {
    "duration": 485,
    "start_time": "2022-06-14T18:33:49.692Z"
   },
   {
    "duration": 599,
    "start_time": "2022-06-14T18:35:05.957Z"
   },
   {
    "duration": 121,
    "start_time": "2022-06-14T18:35:06.558Z"
   },
   {
    "duration": 502,
    "start_time": "2022-06-14T18:35:06.681Z"
   },
   {
    "duration": 529,
    "start_time": "2022-06-14T18:36:05.512Z"
   },
   {
    "duration": 521,
    "start_time": "2022-06-14T18:37:43.151Z"
   },
   {
    "duration": 547,
    "start_time": "2022-06-14T18:40:23.990Z"
   },
   {
    "duration": 643,
    "start_time": "2022-06-14T18:40:39.010Z"
   },
   {
    "duration": 122,
    "start_time": "2022-06-14T18:40:39.655Z"
   },
   {
    "duration": 539,
    "start_time": "2022-06-14T18:40:39.778Z"
   },
   {
    "duration": 479,
    "start_time": "2022-06-14T18:41:25.105Z"
   },
   {
    "duration": 552,
    "start_time": "2022-06-14T18:41:48.998Z"
   },
   {
    "duration": 571,
    "start_time": "2022-06-14T18:42:08.887Z"
   },
   {
    "duration": 789,
    "start_time": "2022-06-15T05:23:59.938Z"
   },
   {
    "duration": 170,
    "start_time": "2022-06-15T05:24:00.728Z"
   },
   {
    "duration": 479,
    "start_time": "2022-06-15T05:24:00.900Z"
   },
   {
    "duration": 506,
    "start_time": "2022-06-15T05:25:14.558Z"
   },
   {
    "duration": 116,
    "start_time": "2022-06-15T05:26:27.775Z"
   },
   {
    "duration": 534,
    "start_time": "2022-06-15T05:27:20.165Z"
   },
   {
    "duration": 424,
    "start_time": "2022-06-15T05:27:55.956Z"
   },
   {
    "duration": 582,
    "start_time": "2022-06-15T05:28:43.192Z"
   },
   {
    "duration": 130,
    "start_time": "2022-06-15T05:28:43.776Z"
   },
   {
    "duration": 389,
    "start_time": "2022-06-15T05:28:43.908Z"
   },
   {
    "duration": 106,
    "start_time": "2022-06-15T05:28:44.300Z"
   },
   {
    "duration": 381,
    "start_time": "2022-06-15T05:29:20.576Z"
   },
   {
    "duration": 337,
    "start_time": "2022-06-15T05:29:39.940Z"
   },
   {
    "duration": 340,
    "start_time": "2022-06-15T05:29:49.983Z"
   },
   {
    "duration": 331,
    "start_time": "2022-06-15T05:30:53.062Z"
   },
   {
    "duration": 336,
    "start_time": "2022-06-15T05:31:59.789Z"
   },
   {
    "duration": 431,
    "start_time": "2022-06-15T05:35:22.243Z"
   },
   {
    "duration": 338,
    "start_time": "2022-06-15T05:35:51.330Z"
   },
   {
    "duration": 334,
    "start_time": "2022-06-15T05:36:36.787Z"
   },
   {
    "duration": 367,
    "start_time": "2022-06-15T05:37:37.811Z"
   },
   {
    "duration": 396,
    "start_time": "2022-06-15T05:38:07.339Z"
   },
   {
    "duration": 348,
    "start_time": "2022-06-15T05:38:28.458Z"
   },
   {
    "duration": 339,
    "start_time": "2022-06-15T05:38:50.874Z"
   },
   {
    "duration": 336,
    "start_time": "2022-06-15T05:39:11.042Z"
   },
   {
    "duration": 350,
    "start_time": "2022-06-15T05:39:32.465Z"
   },
   {
    "duration": 352,
    "start_time": "2022-06-15T05:39:56.425Z"
   },
   {
    "duration": 30,
    "start_time": "2022-06-15T05:48:54.899Z"
   },
   {
    "duration": 171,
    "start_time": "2022-06-15T05:49:15.041Z"
   },
   {
    "duration": 99,
    "start_time": "2022-06-15T05:50:53.378Z"
   },
   {
    "duration": 248,
    "start_time": "2022-06-15T05:54:55.383Z"
   },
   {
    "duration": 38,
    "start_time": "2022-06-15T05:55:28.469Z"
   },
   {
    "duration": 42,
    "start_time": "2022-06-15T05:56:37.133Z"
   },
   {
    "duration": 224,
    "start_time": "2022-06-15T05:56:49.693Z"
   },
   {
    "duration": 32,
    "start_time": "2022-06-15T05:58:05.845Z"
   },
   {
    "duration": 187,
    "start_time": "2022-06-15T05:58:30.899Z"
   },
   {
    "duration": 172,
    "start_time": "2022-06-15T05:58:56.732Z"
   },
   {
    "duration": 207,
    "start_time": "2022-06-15T05:59:47.732Z"
   },
   {
    "duration": 173,
    "start_time": "2022-06-15T06:01:41.089Z"
   },
   {
    "duration": 584,
    "start_time": "2022-06-15T06:06:21.610Z"
   },
   {
    "duration": 133,
    "start_time": "2022-06-15T06:06:22.196Z"
   },
   {
    "duration": 219,
    "start_time": "2022-06-15T06:06:22.331Z"
   },
   {
    "duration": 115,
    "start_time": "2022-06-15T06:06:22.553Z"
   },
   {
    "duration": 601,
    "start_time": "2022-06-15T06:07:11.977Z"
   },
   {
    "duration": 122,
    "start_time": "2022-06-15T06:07:12.580Z"
   },
   {
    "duration": 231,
    "start_time": "2022-06-15T06:07:12.704Z"
   },
   {
    "duration": 101,
    "start_time": "2022-06-15T06:07:12.937Z"
   },
   {
    "duration": 617,
    "start_time": "2022-06-15T06:08:37.421Z"
   },
   {
    "duration": 117,
    "start_time": "2022-06-15T06:08:38.040Z"
   },
   {
    "duration": 335,
    "start_time": "2022-06-15T06:08:38.158Z"
   },
   {
    "duration": 112,
    "start_time": "2022-06-15T06:08:38.495Z"
   },
   {
    "duration": 263,
    "start_time": "2022-06-15T06:11:09.394Z"
   },
   {
    "duration": 278,
    "start_time": "2022-06-15T06:16:08.158Z"
   },
   {
    "duration": 605,
    "start_time": "2022-06-15T06:16:18.418Z"
   },
   {
    "duration": 129,
    "start_time": "2022-06-15T06:16:19.026Z"
   },
   {
    "duration": 304,
    "start_time": "2022-06-15T06:16:19.157Z"
   },
   {
    "duration": 102,
    "start_time": "2022-06-15T06:16:19.465Z"
   },
   {
    "duration": 233,
    "start_time": "2022-06-15T06:23:47.805Z"
   },
   {
    "duration": 634,
    "start_time": "2022-06-15T06:24:01.484Z"
   },
   {
    "duration": 125,
    "start_time": "2022-06-15T06:24:02.120Z"
   },
   {
    "duration": 305,
    "start_time": "2022-06-15T06:24:02.247Z"
   },
   {
    "duration": 111,
    "start_time": "2022-06-15T06:24:02.554Z"
   },
   {
    "duration": 96,
    "start_time": "2022-06-15T06:25:05.728Z"
   },
   {
    "duration": 116,
    "start_time": "2022-06-15T06:25:48.712Z"
   },
   {
    "duration": 118,
    "start_time": "2022-06-15T06:26:50.999Z"
   },
   {
    "duration": 184,
    "start_time": "2022-06-15T08:11:48.017Z"
   },
   {
    "duration": 96,
    "start_time": "2022-06-15T08:45:58.350Z"
   },
   {
    "duration": 372,
    "start_time": "2022-06-15T08:57:47.602Z"
   },
   {
    "duration": 268,
    "start_time": "2022-06-15T08:58:02.756Z"
   },
   {
    "duration": 627,
    "start_time": "2022-06-15T08:58:20.434Z"
   },
   {
    "duration": 125,
    "start_time": "2022-06-15T08:58:21.063Z"
   },
   {
    "duration": 305,
    "start_time": "2022-06-15T08:58:21.190Z"
   },
   {
    "duration": 134,
    "start_time": "2022-06-15T08:58:21.497Z"
   },
   {
    "duration": 567,
    "start_time": "2022-06-15T08:59:53.023Z"
   },
   {
    "duration": 127,
    "start_time": "2022-06-15T08:59:53.592Z"
   },
   {
    "duration": 328,
    "start_time": "2022-06-15T08:59:53.721Z"
   },
   {
    "duration": 157,
    "start_time": "2022-06-15T08:59:54.051Z"
   },
   {
    "duration": 203,
    "start_time": "2022-06-15T09:23:04.577Z"
   },
   {
    "duration": 110,
    "start_time": "2022-06-15T09:23:26.480Z"
   },
   {
    "duration": 123,
    "start_time": "2022-06-15T09:24:43.960Z"
   },
   {
    "duration": 58,
    "start_time": "2022-06-15T10:41:34.222Z"
   },
   {
    "duration": 800,
    "start_time": "2022-06-15T10:41:55.252Z"
   },
   {
    "duration": 156,
    "start_time": "2022-06-15T10:41:56.054Z"
   },
   {
    "duration": 174,
    "start_time": "2022-06-15T10:41:56.212Z"
   },
   {
    "duration": 0,
    "start_time": "2022-06-15T10:41:56.389Z"
   },
   {
    "duration": 705,
    "start_time": "2022-06-15T10:43:14.051Z"
   },
   {
    "duration": 129,
    "start_time": "2022-06-15T10:43:14.758Z"
   },
   {
    "duration": 520,
    "start_time": "2022-06-15T10:43:14.889Z"
   },
   {
    "duration": 172,
    "start_time": "2022-06-15T10:43:15.411Z"
   },
   {
    "duration": 353,
    "start_time": "2022-06-15T10:43:57.139Z"
   },
   {
    "duration": 319,
    "start_time": "2022-06-15T11:13:55.485Z"
   },
   {
    "duration": 713,
    "start_time": "2022-06-15T11:19:08.594Z"
   },
   {
    "duration": 140,
    "start_time": "2022-06-15T11:19:09.311Z"
   },
   {
    "duration": 1261,
    "start_time": "2022-06-15T11:19:09.454Z"
   },
   {
    "duration": 212,
    "start_time": "2022-06-15T11:19:10.717Z"
   },
   {
    "duration": 853,
    "start_time": "2022-06-15T11:19:37.905Z"
   },
   {
    "duration": 674,
    "start_time": "2022-06-15T11:19:52.648Z"
   },
   {
    "duration": 120,
    "start_time": "2022-06-15T11:19:53.324Z"
   },
   {
    "duration": 1257,
    "start_time": "2022-06-15T11:19:53.446Z"
   },
   {
    "duration": 147,
    "start_time": "2022-06-15T11:19:54.705Z"
   },
   {
    "duration": 754,
    "start_time": "2022-06-15T11:30:20.195Z"
   },
   {
    "duration": 150,
    "start_time": "2022-06-15T11:30:20.952Z"
   },
   {
    "duration": 1256,
    "start_time": "2022-06-15T11:30:21.104Z"
   },
   {
    "duration": 163,
    "start_time": "2022-06-15T11:30:22.365Z"
   },
   {
    "duration": 988,
    "start_time": "2022-06-15T11:34:05.934Z"
   },
   {
    "duration": 627,
    "start_time": "2022-06-15T11:34:43.793Z"
   },
   {
    "duration": 117,
    "start_time": "2022-06-15T11:34:44.422Z"
   },
   {
    "duration": 1374,
    "start_time": "2022-06-15T11:34:44.541Z"
   },
   {
    "duration": 0,
    "start_time": "2022-06-15T11:34:45.917Z"
   },
   {
    "duration": 713,
    "start_time": "2022-06-15T11:39:44.745Z"
   },
   {
    "duration": 129,
    "start_time": "2022-06-15T11:39:45.460Z"
   },
   {
    "duration": 1317,
    "start_time": "2022-06-15T11:39:45.590Z"
   },
   {
    "duration": 0,
    "start_time": "2022-06-15T11:39:46.909Z"
   },
   {
    "duration": 0,
    "start_time": "2022-06-15T11:39:46.910Z"
   },
   {
    "duration": 633,
    "start_time": "2022-06-15T11:41:57.680Z"
   },
   {
    "duration": 120,
    "start_time": "2022-06-15T11:41:58.315Z"
   },
   {
    "duration": 1450,
    "start_time": "2022-06-15T11:41:58.437Z"
   },
   {
    "duration": 0,
    "start_time": "2022-06-15T11:41:59.890Z"
   },
   {
    "duration": 1,
    "start_time": "2022-06-15T11:41:59.891Z"
   },
   {
    "duration": 941,
    "start_time": "2022-06-15T11:43:28.401Z"
   },
   {
    "duration": 815,
    "start_time": "2022-06-15T11:44:42.657Z"
   },
   {
    "duration": 836,
    "start_time": "2022-06-15T11:45:46.841Z"
   },
   {
    "duration": 1154,
    "start_time": "2022-06-15T12:00:31.555Z"
   },
   {
    "duration": 1071,
    "start_time": "2022-06-15T12:01:17.330Z"
   },
   {
    "duration": 668,
    "start_time": "2022-06-15T12:04:43.090Z"
   },
   {
    "duration": 127,
    "start_time": "2022-06-15T12:04:43.761Z"
   },
   {
    "duration": 1522,
    "start_time": "2022-06-15T12:04:43.891Z"
   },
   {
    "duration": 108,
    "start_time": "2022-06-15T12:04:45.417Z"
   },
   {
    "duration": 0,
    "start_time": "2022-06-15T12:04:45.527Z"
   },
   {
    "duration": 810,
    "start_time": "2022-06-15T12:06:46.515Z"
   },
   {
    "duration": 684,
    "start_time": "2022-06-15T12:12:00.737Z"
   },
   {
    "duration": 119,
    "start_time": "2022-06-15T12:12:01.423Z"
   },
   {
    "duration": 1418,
    "start_time": "2022-06-15T12:12:01.544Z"
   },
   {
    "duration": 0,
    "start_time": "2022-06-15T12:12:02.967Z"
   },
   {
    "duration": 0,
    "start_time": "2022-06-15T12:12:02.967Z"
   },
   {
    "duration": 924,
    "start_time": "2022-06-15T12:18:13.282Z"
   },
   {
    "duration": 1157,
    "start_time": "2022-06-15T12:18:28.996Z"
   },
   {
    "duration": 153,
    "start_time": "2022-06-15T12:18:30.155Z"
   },
   {
    "duration": 1597,
    "start_time": "2022-06-15T12:18:30.310Z"
   },
   {
    "duration": 745,
    "start_time": "2022-06-15T12:18:31.909Z"
   },
   {
    "duration": 171,
    "start_time": "2022-06-15T12:18:32.656Z"
   },
   {
    "duration": 630,
    "start_time": "2022-06-15T12:23:02.706Z"
   },
   {
    "duration": 123,
    "start_time": "2022-06-15T12:23:03.338Z"
   },
   {
    "duration": 479,
    "start_time": "2022-06-15T12:23:03.463Z"
   },
   {
    "duration": 0,
    "start_time": "2022-06-15T12:23:03.944Z"
   },
   {
    "duration": 0,
    "start_time": "2022-06-15T12:23:03.945Z"
   },
   {
    "duration": 332,
    "start_time": "2022-06-15T12:24:08.103Z"
   },
   {
    "duration": 359,
    "start_time": "2022-06-15T12:24:41.311Z"
   },
   {
    "duration": 633,
    "start_time": "2022-06-15T12:39:52.697Z"
   },
   {
    "duration": 159,
    "start_time": "2022-06-15T12:39:53.332Z"
   },
   {
    "duration": 528,
    "start_time": "2022-06-15T12:39:53.494Z"
   },
   {
    "duration": 0,
    "start_time": "2022-06-15T12:39:54.024Z"
   },
   {
    "duration": 0,
    "start_time": "2022-06-15T12:39:54.025Z"
   },
   {
    "duration": 749,
    "start_time": "2022-06-15T16:34:39.104Z"
   },
   {
    "duration": 229,
    "start_time": "2022-06-15T16:34:39.856Z"
   },
   {
    "duration": 427,
    "start_time": "2022-06-15T16:34:40.087Z"
   },
   {
    "duration": 0,
    "start_time": "2022-06-15T16:34:40.516Z"
   },
   {
    "duration": 0,
    "start_time": "2022-06-15T16:34:40.517Z"
   },
   {
    "duration": 544,
    "start_time": "2022-06-15T17:27:48.883Z"
   },
   {
    "duration": 86,
    "start_time": "2022-06-15T17:27:49.428Z"
   },
   {
    "duration": 355,
    "start_time": "2022-06-15T17:27:49.516Z"
   },
   {
    "duration": 0,
    "start_time": "2022-06-15T17:27:49.873Z"
   },
   {
    "duration": 0,
    "start_time": "2022-06-15T17:27:49.874Z"
   },
   {
    "duration": 266,
    "start_time": "2022-06-15T17:30:22.510Z"
   },
   {
    "duration": 1517,
    "start_time": "2022-06-15T17:32:20.515Z"
   },
   {
    "duration": 1583,
    "start_time": "2022-06-15T17:33:06.746Z"
   },
   {
    "duration": 512,
    "start_time": "2022-06-15T17:33:14.931Z"
   },
   {
    "duration": 105,
    "start_time": "2022-06-15T17:33:15.445Z"
   },
   {
    "duration": 748,
    "start_time": "2022-06-15T17:33:15.552Z"
   },
   {
    "duration": 533,
    "start_time": "2022-06-15T17:33:16.302Z"
   },
   {
    "duration": 145,
    "start_time": "2022-06-15T17:33:16.837Z"
   },
   {
    "duration": 933,
    "start_time": "2022-06-15T17:36:54.400Z"
   },
   {
    "duration": 511,
    "start_time": "2022-06-15T17:37:43.047Z"
   },
   {
    "duration": 90,
    "start_time": "2022-06-15T17:37:43.561Z"
   },
   {
    "duration": 1017,
    "start_time": "2022-06-15T17:37:43.653Z"
   },
   {
    "duration": 544,
    "start_time": "2022-06-15T17:37:44.673Z"
   },
   {
    "duration": 118,
    "start_time": "2022-06-15T17:37:45.219Z"
   },
   {
    "duration": 782,
    "start_time": "2022-06-15T17:42:56.361Z"
   },
   {
    "duration": 739,
    "start_time": "2022-06-15T17:45:57.110Z"
   },
   {
    "duration": 893,
    "start_time": "2022-06-15T17:46:25.448Z"
   },
   {
    "duration": 552,
    "start_time": "2022-06-15T17:46:44.994Z"
   },
   {
    "duration": 90,
    "start_time": "2022-06-15T17:46:45.548Z"
   },
   {
    "duration": 1131,
    "start_time": "2022-06-15T17:46:45.640Z"
   },
   {
    "duration": 585,
    "start_time": "2022-06-15T17:46:46.772Z"
   },
   {
    "duration": 114,
    "start_time": "2022-06-15T17:46:47.360Z"
   },
   {
    "duration": 505,
    "start_time": "2022-06-15T17:48:43.354Z"
   },
   {
    "duration": 88,
    "start_time": "2022-06-15T17:48:43.861Z"
   },
   {
    "duration": 10,
    "start_time": "2022-06-15T17:48:43.952Z"
   },
   {
    "duration": 0,
    "start_time": "2022-06-15T17:48:43.963Z"
   },
   {
    "duration": 0,
    "start_time": "2022-06-15T17:48:43.965Z"
   },
   {
    "duration": 1257,
    "start_time": "2022-06-15T17:51:00.187Z"
   },
   {
    "duration": 509,
    "start_time": "2022-06-15T17:52:06.313Z"
   },
   {
    "duration": 87,
    "start_time": "2022-06-15T17:52:06.824Z"
   },
   {
    "duration": 1185,
    "start_time": "2022-06-15T17:52:06.913Z"
   },
   {
    "duration": 529,
    "start_time": "2022-06-15T17:52:08.099Z"
   },
   {
    "duration": 105,
    "start_time": "2022-06-15T17:52:08.630Z"
   },
   {
    "duration": 905,
    "start_time": "2022-06-15T17:53:25.439Z"
   },
   {
    "duration": 718,
    "start_time": "2022-06-15T17:53:55.181Z"
   },
   {
    "duration": 557,
    "start_time": "2022-06-15T17:56:15.976Z"
   },
   {
    "duration": 87,
    "start_time": "2022-06-15T17:56:16.535Z"
   },
   {
    "duration": 1086,
    "start_time": "2022-06-15T17:56:16.624Z"
   },
   {
    "duration": 0,
    "start_time": "2022-06-15T17:56:17.711Z"
   },
   {
    "duration": 0,
    "start_time": "2022-06-15T17:56:17.712Z"
   },
   {
    "duration": 253,
    "start_time": "2022-06-15T17:59:32.055Z"
   },
   {
    "duration": 251,
    "start_time": "2022-06-15T17:59:55.572Z"
   },
   {
    "duration": 545,
    "start_time": "2022-06-15T18:01:00.668Z"
   },
   {
    "duration": 88,
    "start_time": "2022-06-15T18:01:01.214Z"
   },
   {
    "duration": 1052,
    "start_time": "2022-06-15T18:01:01.304Z"
   },
   {
    "duration": 0,
    "start_time": "2022-06-15T18:01:02.358Z"
   },
   {
    "duration": 0,
    "start_time": "2022-06-15T18:01:02.360Z"
   },
   {
    "duration": 3009,
    "start_time": "2022-06-16T06:02:07.540Z"
   },
   {
    "duration": 334,
    "start_time": "2022-06-16T06:02:10.554Z"
   },
   {
    "duration": 1823,
    "start_time": "2022-06-16T06:02:10.895Z"
   },
   {
    "duration": 0,
    "start_time": "2022-06-16T06:02:12.720Z"
   },
   {
    "duration": 0,
    "start_time": "2022-06-16T06:02:12.722Z"
   },
   {
    "duration": 953,
    "start_time": "2022-06-16T06:02:39.336Z"
   },
   {
    "duration": 259,
    "start_time": "2022-06-16T06:02:40.302Z"
   },
   {
    "duration": 1706,
    "start_time": "2022-06-16T06:02:40.566Z"
   },
   {
    "duration": 990,
    "start_time": "2022-06-16T06:02:42.279Z"
   },
   {
    "duration": 241,
    "start_time": "2022-06-16T06:02:43.278Z"
   },
   {
    "duration": 133,
    "start_time": "2022-06-16T06:03:44.470Z"
   },
   {
    "duration": 883,
    "start_time": "2022-06-16T06:03:56.536Z"
   },
   {
    "duration": 961,
    "start_time": "2022-06-16T06:04:28.366Z"
   },
   {
    "duration": 1079,
    "start_time": "2022-06-16T06:04:57.848Z"
   },
   {
    "duration": 878,
    "start_time": "2022-06-16T06:05:36.412Z"
   },
   {
    "duration": 233,
    "start_time": "2022-06-16T06:05:37.292Z"
   },
   {
    "duration": 1773,
    "start_time": "2022-06-16T06:05:37.530Z"
   },
   {
    "duration": 1074,
    "start_time": "2022-06-16T06:05:39.309Z"
   },
   {
    "duration": 200,
    "start_time": "2022-06-16T06:05:40.389Z"
   },
   {
    "duration": 1065,
    "start_time": "2022-06-16T06:06:16.347Z"
   },
   {
    "duration": 813,
    "start_time": "2022-06-16T06:07:10.587Z"
   },
   {
    "duration": 144,
    "start_time": "2022-06-16T06:07:11.407Z"
   },
   {
    "duration": 1473,
    "start_time": "2022-06-16T06:07:11.556Z"
   },
   {
    "duration": 986,
    "start_time": "2022-06-16T06:07:13.034Z"
   },
   {
    "duration": 224,
    "start_time": "2022-06-16T06:07:14.024Z"
   },
   {
    "duration": 133,
    "start_time": "2022-06-16T06:08:09.700Z"
   },
   {
    "duration": 825,
    "start_time": "2022-06-16T06:09:58.163Z"
   },
   {
    "duration": 856,
    "start_time": "2022-06-16T06:13:08.582Z"
   },
   {
    "duration": 94,
    "start_time": "2022-06-16T06:15:35.887Z"
   },
   {
    "duration": 46,
    "start_time": "2022-06-16T06:20:44.426Z"
   },
   {
    "duration": 22,
    "start_time": "2022-06-16T06:21:41.256Z"
   },
   {
    "duration": 10,
    "start_time": "2022-06-16T07:04:17.986Z"
   },
   {
    "duration": 163,
    "start_time": "2022-06-16T07:05:22.055Z"
   },
   {
    "duration": 113,
    "start_time": "2022-06-16T07:05:31.467Z"
   },
   {
    "duration": 658,
    "start_time": "2022-06-16T07:07:52.529Z"
   },
   {
    "duration": 673,
    "start_time": "2022-06-16T07:08:08.895Z"
   },
   {
    "duration": 696,
    "start_time": "2022-06-16T07:08:30.021Z"
   },
   {
    "duration": 148,
    "start_time": "2022-06-16T07:08:30.719Z"
   },
   {
    "duration": 1298,
    "start_time": "2022-06-16T07:08:30.871Z"
   },
   {
    "duration": 680,
    "start_time": "2022-06-16T07:08:32.171Z"
   },
   {
    "duration": 146,
    "start_time": "2022-06-16T07:08:32.860Z"
   },
   {
    "duration": 694,
    "start_time": "2022-06-16T07:09:25.555Z"
   },
   {
    "duration": 750,
    "start_time": "2022-06-16T07:09:40.397Z"
   },
   {
    "duration": 660,
    "start_time": "2022-06-16T07:11:24.946Z"
   },
   {
    "duration": 857,
    "start_time": "2022-06-16T07:13:15.793Z"
   },
   {
    "duration": 106,
    "start_time": "2022-06-16T07:13:56.301Z"
   },
   {
    "duration": 46,
    "start_time": "2022-06-16T07:26:56.761Z"
   },
   {
    "duration": 807,
    "start_time": "2022-06-16T07:27:30.265Z"
   },
   {
    "duration": 2830,
    "start_time": "2022-06-16T07:28:06.383Z"
   },
   {
    "duration": 921,
    "start_time": "2022-06-16T07:28:56.351Z"
   },
   {
    "duration": 2569,
    "start_time": "2022-06-16T07:31:50.456Z"
   },
   {
    "duration": 4816,
    "start_time": "2022-06-16T07:33:39.671Z"
   },
   {
    "duration": 3837,
    "start_time": "2022-06-16T07:41:20.924Z"
   },
   {
    "duration": 181,
    "start_time": "2022-06-16T07:49:08.997Z"
   },
   {
    "duration": 168,
    "start_time": "2022-06-16T07:49:34.177Z"
   },
   {
    "duration": 162,
    "start_time": "2022-06-16T07:49:48.226Z"
   },
   {
    "duration": 164,
    "start_time": "2022-06-16T07:49:54.269Z"
   },
   {
    "duration": 4428,
    "start_time": "2022-06-16T07:55:29.960Z"
   },
   {
    "duration": 261,
    "start_time": "2022-06-16T07:56:07.212Z"
   },
   {
    "duration": 1510,
    "start_time": "2022-06-16T08:00:22.760Z"
   },
   {
    "duration": 704,
    "start_time": "2022-06-16T08:00:53.082Z"
   },
   {
    "duration": 137,
    "start_time": "2022-06-16T08:00:53.787Z"
   },
   {
    "duration": 1355,
    "start_time": "2022-06-16T08:00:53.926Z"
   },
   {
    "duration": 4511,
    "start_time": "2022-06-16T08:00:55.283Z"
   },
   {
    "duration": 163,
    "start_time": "2022-06-16T08:00:59.796Z"
   },
   {
    "duration": 664,
    "start_time": "2022-06-16T08:02:32.666Z"
   },
   {
    "duration": 179,
    "start_time": "2022-06-16T08:02:33.332Z"
   },
   {
    "duration": 1311,
    "start_time": "2022-06-16T08:02:33.514Z"
   },
   {
    "duration": 4647,
    "start_time": "2022-06-16T08:02:34.828Z"
   },
   {
    "duration": 179,
    "start_time": "2022-06-16T08:02:39.476Z"
   },
   {
    "duration": 3499,
    "start_time": "2022-06-16T08:06:28.742Z"
   },
   {
    "duration": 3722,
    "start_time": "2022-06-16T08:06:55.257Z"
   },
   {
    "duration": 94,
    "start_time": "2022-06-16T10:09:28.317Z"
   },
   {
    "duration": 12,
    "start_time": "2022-06-16T10:09:56.054Z"
   },
   {
    "duration": 640,
    "start_time": "2022-06-16T10:10:51.226Z"
   },
   {
    "duration": 123,
    "start_time": "2022-06-16T10:10:51.870Z"
   },
   {
    "duration": 1163,
    "start_time": "2022-06-16T10:10:51.995Z"
   },
   {
    "duration": 4363,
    "start_time": "2022-06-16T10:10:53.160Z"
   },
   {
    "duration": 123,
    "start_time": "2022-06-16T10:10:57.529Z"
   },
   {
    "duration": 667,
    "start_time": "2022-06-16T10:11:14.712Z"
   },
   {
    "duration": 122,
    "start_time": "2022-06-16T10:11:15.381Z"
   },
   {
    "duration": 1279,
    "start_time": "2022-06-16T10:11:15.505Z"
   },
   {
    "duration": 4243,
    "start_time": "2022-06-16T10:11:16.786Z"
   },
   {
    "duration": 85,
    "start_time": "2022-06-16T10:11:21.031Z"
   },
   {
    "duration": 114,
    "start_time": "2022-06-16T10:13:04.466Z"
   },
   {
    "duration": 145,
    "start_time": "2022-06-16T10:13:32.690Z"
   },
   {
    "duration": 13,
    "start_time": "2022-06-16T10:13:56.787Z"
   },
   {
    "duration": 151,
    "start_time": "2022-06-16T10:14:11.201Z"
   },
   {
    "duration": 486,
    "start_time": "2022-06-16T10:15:38.128Z"
   },
   {
    "duration": 34,
    "start_time": "2022-06-16T10:16:22.361Z"
   },
   {
    "duration": 27,
    "start_time": "2022-06-16T10:17:16.903Z"
   },
   {
    "duration": 23,
    "start_time": "2022-06-16T10:17:42.058Z"
   },
   {
    "duration": 22,
    "start_time": "2022-06-16T10:17:58.079Z"
   },
   {
    "duration": 117,
    "start_time": "2022-06-16T10:18:34.166Z"
   },
   {
    "duration": 131,
    "start_time": "2022-06-16T10:19:33.519Z"
   },
   {
    "duration": 131,
    "start_time": "2022-06-16T10:20:01.776Z"
   },
   {
    "duration": 119,
    "start_time": "2022-06-16T10:20:30.344Z"
   },
   {
    "duration": 147,
    "start_time": "2022-06-16T10:22:21.407Z"
   },
   {
    "duration": 121,
    "start_time": "2022-06-16T10:22:36.680Z"
   },
   {
    "duration": 34,
    "start_time": "2022-06-16T10:24:07.260Z"
   },
   {
    "duration": 153,
    "start_time": "2022-06-16T10:24:28.460Z"
   },
   {
    "duration": 31,
    "start_time": "2022-06-16T10:28:30.418Z"
   },
   {
    "duration": 58,
    "start_time": "2022-06-16T18:25:03.603Z"
   },
   {
    "duration": 841,
    "start_time": "2022-06-16T18:25:10.520Z"
   },
   {
    "duration": 182,
    "start_time": "2022-06-16T18:25:11.363Z"
   },
   {
    "duration": 1141,
    "start_time": "2022-06-16T18:25:11.547Z"
   },
   {
    "duration": 4314,
    "start_time": "2022-06-16T18:25:12.691Z"
   },
   {
    "duration": 37,
    "start_time": "2022-06-16T18:25:17.007Z"
   },
   {
    "duration": 127,
    "start_time": "2022-06-16T18:25:17.046Z"
   },
   {
    "duration": 762,
    "start_time": "2022-06-25T17:13:19.621Z"
   },
   {
    "duration": 150,
    "start_time": "2022-06-25T17:13:20.385Z"
   },
   {
    "duration": 1022,
    "start_time": "2022-06-25T17:13:20.537Z"
   },
   {
    "duration": 3609,
    "start_time": "2022-06-25T17:13:21.561Z"
   },
   {
    "duration": 22,
    "start_time": "2022-06-25T17:13:25.171Z"
   },
   {
    "duration": 122,
    "start_time": "2022-06-25T17:13:25.195Z"
   },
   {
    "duration": 14,
    "start_time": "2022-06-25T17:22:18.936Z"
   },
   {
    "duration": 84,
    "start_time": "2022-06-25T17:31:39.326Z"
   },
   {
    "duration": 15,
    "start_time": "2022-06-25T17:32:50.049Z"
   },
   {
    "duration": 60,
    "start_time": "2022-06-27T11:40:49.175Z"
   },
   {
    "duration": 921,
    "start_time": "2022-06-27T11:40:56.018Z"
   },
   {
    "duration": 267,
    "start_time": "2022-06-27T11:40:56.941Z"
   },
   {
    "duration": 1148,
    "start_time": "2022-06-27T11:40:57.210Z"
   },
   {
    "duration": 4112,
    "start_time": "2022-06-27T11:40:58.360Z"
   },
   {
    "duration": 30,
    "start_time": "2022-06-27T11:41:02.474Z"
   },
   {
    "duration": 42,
    "start_time": "2022-06-27T11:41:02.506Z"
   },
   {
    "duration": 52,
    "start_time": "2022-06-27T11:41:02.550Z"
   },
   {
    "duration": 1888,
    "start_time": "2022-06-27T11:45:22.074Z"
   },
   {
    "duration": 669,
    "start_time": "2022-06-27T11:47:55.553Z"
   },
   {
    "duration": 124,
    "start_time": "2022-06-27T11:47:56.224Z"
   },
   {
    "duration": 1231,
    "start_time": "2022-06-27T11:47:56.350Z"
   },
   {
    "duration": 4144,
    "start_time": "2022-06-27T11:47:57.583Z"
   },
   {
    "duration": 698,
    "start_time": "2022-06-27T11:49:11.821Z"
   },
   {
    "duration": 121,
    "start_time": "2022-06-27T11:49:12.522Z"
   },
   {
    "duration": 1153,
    "start_time": "2022-06-27T11:49:12.645Z"
   },
   {
    "duration": 4144,
    "start_time": "2022-06-27T11:49:13.800Z"
   },
   {
    "duration": 708,
    "start_time": "2022-06-27T11:50:44.809Z"
   },
   {
    "duration": 150,
    "start_time": "2022-06-27T11:50:45.519Z"
   },
   {
    "duration": 1354,
    "start_time": "2022-06-27T11:50:45.671Z"
   },
   {
    "duration": 4432,
    "start_time": "2022-06-27T11:50:47.028Z"
   },
   {
    "duration": 29,
    "start_time": "2022-06-27T11:50:51.462Z"
   },
   {
    "duration": 19,
    "start_time": "2022-06-27T11:50:51.493Z"
   },
   {
    "duration": 92,
    "start_time": "2022-06-27T11:50:51.514Z"
   },
   {
    "duration": 102,
    "start_time": "2022-06-27T11:52:11.601Z"
   },
   {
    "duration": 83,
    "start_time": "2022-06-27T11:52:36.551Z"
   },
   {
    "duration": 137,
    "start_time": "2022-06-27T11:52:52.231Z"
   },
   {
    "duration": 89,
    "start_time": "2022-06-27T11:53:06.320Z"
   },
   {
    "duration": 718,
    "start_time": "2022-06-27T11:53:18.845Z"
   },
   {
    "duration": 121,
    "start_time": "2022-06-27T11:53:19.565Z"
   },
   {
    "duration": 1155,
    "start_time": "2022-06-27T11:53:19.688Z"
   },
   {
    "duration": 4122,
    "start_time": "2022-06-27T11:53:20.845Z"
   },
   {
    "duration": 89,
    "start_time": "2022-06-27T11:53:24.969Z"
   },
   {
    "duration": 0,
    "start_time": "2022-06-27T11:53:25.060Z"
   },
   {
    "duration": 0,
    "start_time": "2022-06-27T11:53:25.061Z"
   },
   {
    "duration": 1597,
    "start_time": "2022-06-27T11:53:52.802Z"
   },
   {
    "duration": 50,
    "start_time": "2022-06-27T11:55:07.883Z"
   },
   {
    "duration": 50,
    "start_time": "2022-06-27T11:55:33.682Z"
   },
   {
    "duration": 1355,
    "start_time": "2022-06-27T11:55:54.690Z"
   },
   {
    "duration": 361,
    "start_time": "2022-06-27T11:58:28.665Z"
   },
   {
    "duration": 327,
    "start_time": "2022-06-27T11:59:11.225Z"
   },
   {
    "duration": 558,
    "start_time": "2022-06-27T12:00:02.086Z"
   },
   {
    "duration": 1553,
    "start_time": "2022-06-27T12:00:41.894Z"
   },
   {
    "duration": 163,
    "start_time": "2022-06-27T12:01:33.118Z"
   },
   {
    "duration": 223,
    "start_time": "2022-06-27T12:04:06.429Z"
   },
   {
    "duration": 180,
    "start_time": "2022-06-27T12:04:25.733Z"
   },
   {
    "duration": 171,
    "start_time": "2022-06-27T12:09:33.113Z"
   },
   {
    "duration": 23,
    "start_time": "2022-06-27T12:16:55.660Z"
   },
   {
    "duration": 31,
    "start_time": "2022-06-27T12:30:39.894Z"
   },
   {
    "duration": 44,
    "start_time": "2022-06-27T12:33:05.691Z"
   },
   {
    "duration": 71,
    "start_time": "2022-06-27T12:33:28.738Z"
   },
   {
    "duration": 65,
    "start_time": "2022-06-27T12:35:41.290Z"
   },
   {
    "duration": 777,
    "start_time": "2022-06-28T05:36:09.863Z"
   },
   {
    "duration": 262,
    "start_time": "2022-06-28T05:36:10.642Z"
   },
   {
    "duration": 1151,
    "start_time": "2022-06-28T05:36:10.906Z"
   },
   {
    "duration": 4329,
    "start_time": "2022-06-28T05:36:12.060Z"
   },
   {
    "duration": 199,
    "start_time": "2022-06-28T05:36:16.390Z"
   },
   {
    "duration": 84,
    "start_time": "2022-06-28T05:36:16.590Z"
   },
   {
    "duration": 66,
    "start_time": "2022-06-28T05:36:16.676Z"
   },
   {
    "duration": 337,
    "start_time": "2022-06-28T08:48:41.634Z"
   },
   {
    "duration": 281,
    "start_time": "2022-06-28T08:49:28.136Z"
   },
   {
    "duration": 86,
    "start_time": "2022-06-28T08:50:54.877Z"
   },
   {
    "duration": 283,
    "start_time": "2022-06-28T08:51:29.707Z"
   },
   {
    "duration": 158,
    "start_time": "2022-06-28T08:52:34.661Z"
   },
   {
    "duration": 68,
    "start_time": "2022-06-28T08:52:48.418Z"
   },
   {
    "duration": 59,
    "start_time": "2022-06-28T09:06:04.868Z"
   },
   {
    "duration": 124,
    "start_time": "2022-06-28T09:06:38.451Z"
   },
   {
    "duration": 73,
    "start_time": "2022-06-28T09:09:21.913Z"
   },
   {
    "duration": 695,
    "start_time": "2022-06-28T09:12:57.974Z"
   },
   {
    "duration": 1529,
    "start_time": "2022-06-28T09:15:39.196Z"
   },
   {
    "duration": 48,
    "start_time": "2022-06-28T09:21:45.393Z"
   },
   {
    "duration": 1214,
    "start_time": "2022-06-28T09:22:04.833Z"
   },
   {
    "duration": 44,
    "start_time": "2022-06-28T09:26:30.022Z"
   },
   {
    "duration": 57,
    "start_time": "2022-06-28T09:28:23.012Z"
   },
   {
    "duration": 45,
    "start_time": "2022-06-28T09:39:43.678Z"
   },
   {
    "duration": 40,
    "start_time": "2022-06-28T09:41:30.167Z"
   },
   {
    "duration": 47,
    "start_time": "2022-06-28T09:41:45.237Z"
   },
   {
    "duration": 1393,
    "start_time": "2022-06-28T09:44:18.027Z"
   },
   {
    "duration": 62,
    "start_time": "2022-06-28T09:44:55.851Z"
   },
   {
    "duration": 1653,
    "start_time": "2022-06-28T09:46:05.922Z"
   },
   {
    "duration": 69,
    "start_time": "2022-06-28T09:47:05.305Z"
   },
   {
    "duration": 1223,
    "start_time": "2022-06-28T09:48:12.336Z"
   },
   {
    "duration": 1465,
    "start_time": "2022-06-28T09:48:34.242Z"
   },
   {
    "duration": 68,
    "start_time": "2022-06-28T09:48:47.048Z"
   },
   {
    "duration": 80,
    "start_time": "2022-06-28T09:49:21.592Z"
   },
   {
    "duration": 84,
    "start_time": "2022-06-28T09:50:33.641Z"
   },
   {
    "duration": 73,
    "start_time": "2022-06-28T11:54:47.772Z"
   },
   {
    "duration": 590,
    "start_time": "2022-06-28T11:55:05.288Z"
   },
   {
    "duration": 106,
    "start_time": "2022-06-28T11:55:05.880Z"
   },
   {
    "duration": 1179,
    "start_time": "2022-06-28T11:55:05.988Z"
   },
   {
    "duration": 3999,
    "start_time": "2022-06-28T11:55:07.169Z"
   },
   {
    "duration": 195,
    "start_time": "2022-06-28T11:55:11.170Z"
   },
   {
    "duration": 89,
    "start_time": "2022-06-28T11:55:11.366Z"
   },
   {
    "duration": 81,
    "start_time": "2022-06-28T11:55:11.457Z"
   },
   {
    "duration": 62,
    "start_time": "2022-06-28T11:57:45.365Z"
   },
   {
    "duration": 86,
    "start_time": "2022-06-28T11:58:14.883Z"
   },
   {
    "duration": 98,
    "start_time": "2022-06-28T11:58:43.773Z"
   },
   {
    "duration": 95,
    "start_time": "2022-06-28T12:01:12.154Z"
   },
   {
    "duration": 111,
    "start_time": "2022-06-28T12:05:45.783Z"
   },
   {
    "duration": 133,
    "start_time": "2022-06-28T12:06:42.570Z"
   },
   {
    "duration": 139,
    "start_time": "2022-06-28T12:07:32.007Z"
   },
   {
    "duration": 126,
    "start_time": "2022-06-28T12:07:47.878Z"
   },
   {
    "duration": 173,
    "start_time": "2022-06-28T12:20:30.463Z"
   },
   {
    "duration": 133,
    "start_time": "2022-06-28T12:21:09.397Z"
   },
   {
    "duration": 120,
    "start_time": "2022-06-28T12:21:38.391Z"
   },
   {
    "duration": 101,
    "start_time": "2022-06-28T12:23:25.468Z"
   },
   {
    "duration": 105,
    "start_time": "2022-06-28T12:24:14.720Z"
   },
   {
    "duration": 80,
    "start_time": "2022-06-28T12:32:08.518Z"
   },
   {
    "duration": 118,
    "start_time": "2022-06-28T12:32:16.803Z"
   },
   {
    "duration": 1422,
    "start_time": "2022-06-28T12:33:28.684Z"
   },
   {
    "duration": 139,
    "start_time": "2022-06-28T12:33:46.196Z"
   },
   {
    "duration": 744,
    "start_time": "2022-06-30T16:54:51.654Z"
   },
   {
    "duration": 134,
    "start_time": "2022-06-30T16:54:52.400Z"
   },
   {
    "duration": 965,
    "start_time": "2022-06-30T16:54:52.535Z"
   },
   {
    "duration": 3404,
    "start_time": "2022-06-30T16:54:53.502Z"
   },
   {
    "duration": 159,
    "start_time": "2022-06-30T16:54:56.907Z"
   },
   {
    "duration": 119,
    "start_time": "2022-06-30T16:54:57.068Z"
   },
   {
    "duration": 42,
    "start_time": "2022-06-30T16:54:57.188Z"
   },
   {
    "duration": 129,
    "start_time": "2022-06-30T16:57:45.102Z"
   },
   {
    "duration": 110,
    "start_time": "2022-06-30T16:59:32.376Z"
   },
   {
    "duration": 127,
    "start_time": "2022-06-30T16:59:53.329Z"
   },
   {
    "duration": 574,
    "start_time": "2022-06-30T17:13:18.766Z"
   },
   {
    "duration": 88,
    "start_time": "2022-06-30T17:13:19.342Z"
   },
   {
    "duration": 972,
    "start_time": "2022-06-30T17:13:19.431Z"
   },
   {
    "duration": 3449,
    "start_time": "2022-06-30T17:13:20.405Z"
   },
   {
    "duration": 163,
    "start_time": "2022-06-30T17:13:23.856Z"
   },
   {
    "duration": 110,
    "start_time": "2022-06-30T17:13:24.020Z"
   },
   {
    "duration": 57,
    "start_time": "2022-06-30T17:13:24.132Z"
   },
   {
    "duration": 85,
    "start_time": "2022-06-30T17:27:25.812Z"
   },
   {
    "duration": 100,
    "start_time": "2022-06-30T17:27:58.996Z"
   },
   {
    "duration": 551,
    "start_time": "2022-06-30T17:28:19.509Z"
   },
   {
    "duration": 95,
    "start_time": "2022-06-30T17:28:20.061Z"
   },
   {
    "duration": 985,
    "start_time": "2022-06-30T17:28:20.157Z"
   },
   {
    "duration": 3560,
    "start_time": "2022-06-30T17:28:21.144Z"
   },
   {
    "duration": 179,
    "start_time": "2022-06-30T17:28:24.706Z"
   },
   {
    "duration": 117,
    "start_time": "2022-06-30T17:28:24.887Z"
   },
   {
    "duration": 63,
    "start_time": "2022-06-30T17:28:25.006Z"
   },
   {
    "duration": 130,
    "start_time": "2022-06-30T17:30:29.571Z"
   },
   {
    "duration": 90,
    "start_time": "2022-06-30T17:32:09.831Z"
   },
   {
    "duration": 71,
    "start_time": "2022-06-30T17:39:34.293Z"
   },
   {
    "duration": 21,
    "start_time": "2022-06-30T17:39:41.893Z"
   },
   {
    "duration": 22,
    "start_time": "2022-06-30T17:43:12.317Z"
   },
   {
    "duration": 25,
    "start_time": "2022-06-30T17:43:29.900Z"
   },
   {
    "duration": 23,
    "start_time": "2022-06-30T17:43:48.435Z"
   },
   {
    "duration": 579,
    "start_time": "2022-06-30T17:43:56.752Z"
   },
   {
    "duration": 91,
    "start_time": "2022-06-30T17:43:57.333Z"
   },
   {
    "duration": 969,
    "start_time": "2022-06-30T17:43:57.425Z"
   },
   {
    "duration": 3488,
    "start_time": "2022-06-30T17:43:58.396Z"
   },
   {
    "duration": 161,
    "start_time": "2022-06-30T17:44:01.886Z"
   },
   {
    "duration": 73,
    "start_time": "2022-06-30T17:44:02.051Z"
   },
   {
    "duration": 40,
    "start_time": "2022-06-30T17:44:02.126Z"
   },
   {
    "duration": 44,
    "start_time": "2022-06-30T17:44:02.168Z"
   },
   {
    "duration": 79,
    "start_time": "2022-06-30T17:44:27.214Z"
   },
   {
    "duration": 25,
    "start_time": "2022-06-30T17:44:36.180Z"
   },
   {
    "duration": 24,
    "start_time": "2022-06-30T17:45:13.988Z"
   },
   {
    "duration": 27,
    "start_time": "2022-06-30T18:05:01.320Z"
   },
   {
    "duration": 38,
    "start_time": "2022-06-30T18:05:12.264Z"
   },
   {
    "duration": 40,
    "start_time": "2022-06-30T18:18:31.797Z"
   },
   {
    "duration": 1085,
    "start_time": "2022-07-01T06:38:11.199Z"
   },
   {
    "duration": 158,
    "start_time": "2022-07-01T06:38:12.287Z"
   },
   {
    "duration": 1313,
    "start_time": "2022-07-01T06:38:12.447Z"
   },
   {
    "duration": 3972,
    "start_time": "2022-07-01T06:38:13.763Z"
   },
   {
    "duration": 281,
    "start_time": "2022-07-01T06:38:17.737Z"
   },
   {
    "duration": 106,
    "start_time": "2022-07-01T06:38:18.025Z"
   },
   {
    "duration": 62,
    "start_time": "2022-07-01T06:38:18.133Z"
   },
   {
    "duration": 99,
    "start_time": "2022-07-01T06:38:18.197Z"
   },
   {
    "duration": 68,
    "start_time": "2022-07-01T06:39:05.976Z"
   },
   {
    "duration": 674,
    "start_time": "2022-07-01T06:39:27.012Z"
   },
   {
    "duration": 109,
    "start_time": "2022-07-01T06:39:27.688Z"
   },
   {
    "duration": 1125,
    "start_time": "2022-07-01T06:39:27.799Z"
   },
   {
    "duration": 4219,
    "start_time": "2022-07-01T06:39:28.927Z"
   },
   {
    "duration": 211,
    "start_time": "2022-07-01T06:39:33.148Z"
   },
   {
    "duration": 102,
    "start_time": "2022-07-01T06:39:33.360Z"
   },
   {
    "duration": 63,
    "start_time": "2022-07-01T06:39:33.464Z"
   },
   {
    "duration": 97,
    "start_time": "2022-07-01T06:39:33.529Z"
   },
   {
    "duration": 55,
    "start_time": "2022-07-01T06:40:17.662Z"
   },
   {
    "duration": 75,
    "start_time": "2022-07-01T06:40:36.903Z"
   },
   {
    "duration": 83,
    "start_time": "2022-07-01T06:40:45.399Z"
   },
   {
    "duration": 62,
    "start_time": "2022-07-01T06:40:55.654Z"
   },
   {
    "duration": 45,
    "start_time": "2022-07-01T06:41:09.078Z"
   },
   {
    "duration": 64,
    "start_time": "2022-07-01T06:41:18.438Z"
   },
   {
    "duration": 48,
    "start_time": "2022-07-01T06:41:30.014Z"
   },
   {
    "duration": 50,
    "start_time": "2022-07-01T06:41:41.733Z"
   },
   {
    "duration": 59,
    "start_time": "2022-07-01T06:41:58.758Z"
   },
   {
    "duration": 50,
    "start_time": "2022-07-01T06:42:09.661Z"
   },
   {
    "duration": 37,
    "start_time": "2022-07-01T06:43:18.709Z"
   },
   {
    "duration": 43,
    "start_time": "2022-07-01T06:46:53.628Z"
   },
   {
    "duration": 55,
    "start_time": "2022-07-01T06:51:12.918Z"
   },
   {
    "duration": 41,
    "start_time": "2022-07-01T06:51:22.648Z"
   },
   {
    "duration": 636,
    "start_time": "2022-07-01T07:10:50.118Z"
   },
   {
    "duration": 106,
    "start_time": "2022-07-01T07:10:50.756Z"
   },
   {
    "duration": 1165,
    "start_time": "2022-07-01T07:10:50.864Z"
   },
   {
    "duration": 4019,
    "start_time": "2022-07-01T07:10:52.037Z"
   },
   {
    "duration": 189,
    "start_time": "2022-07-01T07:10:56.058Z"
   },
   {
    "duration": 84,
    "start_time": "2022-07-01T07:10:56.252Z"
   },
   {
    "duration": 36,
    "start_time": "2022-07-01T07:10:56.337Z"
   },
   {
    "duration": 74,
    "start_time": "2022-07-01T07:10:56.374Z"
   },
   {
    "duration": 29,
    "start_time": "2022-07-01T07:11:53.750Z"
   },
   {
    "duration": 40,
    "start_time": "2022-07-01T07:11:56.620Z"
   },
   {
    "duration": 28,
    "start_time": "2022-07-01T07:14:11.143Z"
   },
   {
    "duration": 123,
    "start_time": "2022-07-01T07:15:06.531Z"
   },
   {
    "duration": 80,
    "start_time": "2022-07-01T07:15:40.736Z"
   },
   {
    "duration": 36,
    "start_time": "2022-07-01T07:16:36.393Z"
   },
   {
    "duration": 38,
    "start_time": "2022-07-01T07:16:49.314Z"
   },
   {
    "duration": 32,
    "start_time": "2022-07-01T07:17:11.976Z"
   },
   {
    "duration": 35,
    "start_time": "2022-07-01T07:18:07.985Z"
   },
   {
    "duration": 30,
    "start_time": "2022-07-01T07:18:39.815Z"
   },
   {
    "duration": 94,
    "start_time": "2022-07-01T07:19:33.375Z"
   },
   {
    "duration": 32,
    "start_time": "2022-07-01T07:19:48.072Z"
   },
   {
    "duration": 32,
    "start_time": "2022-07-01T07:20:00.775Z"
   },
   {
    "duration": 26,
    "start_time": "2022-07-01T07:23:50.284Z"
   },
   {
    "duration": 1043,
    "start_time": "2022-07-01T07:24:30.683Z"
   },
   {
    "duration": 864,
    "start_time": "2022-07-01T07:24:49.635Z"
   },
   {
    "duration": 26,
    "start_time": "2022-07-01T07:25:15.772Z"
   },
   {
    "duration": 26,
    "start_time": "2022-07-01T07:26:53.419Z"
   },
   {
    "duration": 29,
    "start_time": "2022-07-01T07:27:10.393Z"
   },
   {
    "duration": 34,
    "start_time": "2022-07-01T07:33:35.102Z"
   },
   {
    "duration": 32,
    "start_time": "2022-07-01T07:34:38.076Z"
   },
   {
    "duration": 32,
    "start_time": "2022-07-01T07:35:26.684Z"
   },
   {
    "duration": 37,
    "start_time": "2022-07-01T07:35:45.507Z"
   },
   {
    "duration": 32,
    "start_time": "2022-07-01T07:38:23.296Z"
   },
   {
    "duration": 1230,
    "start_time": "2022-07-01T07:40:03.234Z"
   },
   {
    "duration": 846,
    "start_time": "2022-07-01T07:40:49.192Z"
   },
   {
    "duration": 90,
    "start_time": "2022-07-01T07:55:30.679Z"
   },
   {
    "duration": 84,
    "start_time": "2022-07-01T07:58:07.606Z"
   },
   {
    "duration": 85,
    "start_time": "2022-07-01T07:58:32.854Z"
   },
   {
    "duration": 934,
    "start_time": "2022-07-01T07:59:40.366Z"
   },
   {
    "duration": 836,
    "start_time": "2022-07-01T08:00:10.116Z"
   },
   {
    "duration": 90,
    "start_time": "2022-07-01T08:00:40.237Z"
   },
   {
    "duration": 85,
    "start_time": "2022-07-01T08:00:58.356Z"
   },
   {
    "duration": 24,
    "start_time": "2022-07-01T08:02:54.426Z"
   },
   {
    "duration": 625,
    "start_time": "2022-07-01T08:03:27.095Z"
   },
   {
    "duration": 99,
    "start_time": "2022-07-01T08:03:27.722Z"
   },
   {
    "duration": 1078,
    "start_time": "2022-07-01T08:03:27.823Z"
   },
   {
    "duration": 3866,
    "start_time": "2022-07-01T08:03:28.904Z"
   },
   {
    "duration": 189,
    "start_time": "2022-07-01T08:03:32.772Z"
   },
   {
    "duration": 88,
    "start_time": "2022-07-01T08:03:32.963Z"
   },
   {
    "duration": 29,
    "start_time": "2022-07-01T08:03:33.053Z"
   },
   {
    "duration": 64,
    "start_time": "2022-07-01T08:03:33.083Z"
   },
   {
    "duration": 30,
    "start_time": "2022-07-01T08:03:49.884Z"
   },
   {
    "duration": 86,
    "start_time": "2022-07-01T08:05:09.797Z"
   },
   {
    "duration": 32,
    "start_time": "2022-07-01T08:05:19.412Z"
   },
   {
    "duration": 30,
    "start_time": "2022-07-01T08:05:59.468Z"
   },
   {
    "duration": 7,
    "start_time": "2022-07-01T09:12:47.792Z"
   },
   {
    "duration": 17,
    "start_time": "2022-07-01T09:14:43.896Z"
   },
   {
    "duration": 113,
    "start_time": "2022-07-01T09:37:06.656Z"
   },
   {
    "duration": 111,
    "start_time": "2022-07-01T09:39:36.559Z"
   },
   {
    "duration": 668,
    "start_time": "2022-07-01T10:26:29.798Z"
   },
   {
    "duration": 99,
    "start_time": "2022-07-01T10:26:30.468Z"
   },
   {
    "duration": 1016,
    "start_time": "2022-07-01T10:26:30.571Z"
   },
   {
    "duration": 3748,
    "start_time": "2022-07-01T10:26:31.588Z"
   },
   {
    "duration": 175,
    "start_time": "2022-07-01T10:26:35.337Z"
   },
   {
    "duration": 90,
    "start_time": "2022-07-01T10:26:35.514Z"
   },
   {
    "duration": 45,
    "start_time": "2022-07-01T10:26:35.605Z"
   },
   {
    "duration": 129,
    "start_time": "2022-07-01T10:26:35.652Z"
   },
   {
    "duration": 58,
    "start_time": "2022-07-01T10:26:35.784Z"
   },
   {
    "duration": 21,
    "start_time": "2022-07-01T11:16:05.707Z"
   },
   {
    "duration": 14,
    "start_time": "2022-07-01T11:16:36.371Z"
   },
   {
    "duration": 30796,
    "start_time": "2022-07-01T11:34:58.147Z"
   },
   {
    "duration": 142,
    "start_time": "2022-07-01T11:37:29.235Z"
   },
   {
    "duration": 7390,
    "start_time": "2022-07-01T11:38:08.324Z"
   },
   {
    "duration": 8366,
    "start_time": "2022-07-01T11:38:52.490Z"
   },
   {
    "duration": 425,
    "start_time": "2022-07-01T11:40:27.433Z"
   },
   {
    "duration": 454,
    "start_time": "2022-07-01T11:41:00.912Z"
   },
   {
    "duration": 694,
    "start_time": "2022-07-01T11:55:07.094Z"
   },
   {
    "duration": 705,
    "start_time": "2022-07-01T11:55:29.138Z"
   },
   {
    "duration": 615,
    "start_time": "2022-07-01T12:01:10.638Z"
   },
   {
    "duration": 727,
    "start_time": "2022-07-01T12:01:53.163Z"
   },
   {
    "duration": 667,
    "start_time": "2022-07-01T12:02:04.684Z"
   },
   {
    "duration": 789,
    "start_time": "2022-07-01T12:03:19.054Z"
   },
   {
    "duration": 1372,
    "start_time": "2022-07-01T12:04:18.173Z"
   },
   {
    "duration": 689,
    "start_time": "2022-07-01T12:05:20.239Z"
   },
   {
    "duration": 57,
    "start_time": "2022-07-01T12:05:46.862Z"
   },
   {
    "duration": 857,
    "start_time": "2022-07-01T12:05:58.002Z"
   },
   {
    "duration": 611,
    "start_time": "2022-07-01T12:06:17.359Z"
   },
   {
    "duration": 1210,
    "start_time": "2022-07-01T12:07:03.479Z"
   },
   {
    "duration": 1384,
    "start_time": "2022-07-01T12:07:36.295Z"
   },
   {
    "duration": 1068,
    "start_time": "2022-07-01T12:07:53.850Z"
   },
   {
    "duration": 144,
    "start_time": "2022-07-01T12:07:54.919Z"
   },
   {
    "duration": 1245,
    "start_time": "2022-07-01T12:07:55.064Z"
   },
   {
    "duration": 4383,
    "start_time": "2022-07-01T12:07:56.311Z"
   },
   {
    "duration": 226,
    "start_time": "2022-07-01T12:08:00.696Z"
   },
   {
    "duration": 101,
    "start_time": "2022-07-01T12:08:00.931Z"
   },
   {
    "duration": 43,
    "start_time": "2022-07-01T12:08:01.035Z"
   },
   {
    "duration": 154,
    "start_time": "2022-07-01T12:08:01.079Z"
   },
   {
    "duration": 1338,
    "start_time": "2022-07-01T12:08:01.236Z"
   },
   {
    "duration": 85,
    "start_time": "2022-07-01T12:08:02.576Z"
   },
   {
    "duration": 711,
    "start_time": "2022-07-01T12:10:17.292Z"
   },
   {
    "duration": 790,
    "start_time": "2022-07-01T12:19:59.292Z"
   },
   {
    "duration": 822,
    "start_time": "2022-07-01T12:20:45.194Z"
   },
   {
    "duration": 616,
    "start_time": "2022-07-01T12:21:14.028Z"
   },
   {
    "duration": 95,
    "start_time": "2022-07-01T12:21:14.646Z"
   },
   {
    "duration": 1049,
    "start_time": "2022-07-01T12:21:14.743Z"
   },
   {
    "duration": 3810,
    "start_time": "2022-07-01T12:21:15.794Z"
   },
   {
    "duration": 186,
    "start_time": "2022-07-01T12:21:19.605Z"
   },
   {
    "duration": 97,
    "start_time": "2022-07-01T12:21:19.794Z"
   },
   {
    "duration": 39,
    "start_time": "2022-07-01T12:21:19.893Z"
   },
   {
    "duration": 132,
    "start_time": "2022-07-01T12:21:19.933Z"
   },
   {
    "duration": 839,
    "start_time": "2022-07-01T12:21:20.067Z"
   },
   {
    "duration": 0,
    "start_time": "2022-07-01T12:21:20.908Z"
   },
   {
    "duration": 707,
    "start_time": "2022-07-01T12:21:43.091Z"
   },
   {
    "duration": 218,
    "start_time": "2022-07-01T12:21:57.721Z"
   },
   {
    "duration": 211,
    "start_time": "2022-07-01T12:22:40.639Z"
   },
   {
    "duration": 213,
    "start_time": "2022-07-01T12:23:33.246Z"
   },
   {
    "duration": 871,
    "start_time": "2022-07-01T12:36:17.011Z"
   },
   {
    "duration": 121,
    "start_time": "2022-07-01T12:36:17.884Z"
   },
   {
    "duration": 9866,
    "start_time": "2022-07-01T12:36:18.007Z"
   },
   {
    "duration": 0,
    "start_time": "2022-07-01T12:36:27.875Z"
   },
   {
    "duration": 0,
    "start_time": "2022-07-01T12:36:27.877Z"
   },
   {
    "duration": 0,
    "start_time": "2022-07-01T12:36:27.878Z"
   },
   {
    "duration": 0,
    "start_time": "2022-07-01T12:36:27.879Z"
   },
   {
    "duration": 0,
    "start_time": "2022-07-01T12:36:27.880Z"
   },
   {
    "duration": 1,
    "start_time": "2022-07-01T12:36:27.881Z"
   },
   {
    "duration": 0,
    "start_time": "2022-07-01T12:36:27.883Z"
   },
   {
    "duration": 641,
    "start_time": "2022-07-01T12:38:16.488Z"
   },
   {
    "duration": 103,
    "start_time": "2022-07-01T12:38:17.131Z"
   },
   {
    "duration": 184,
    "start_time": "2022-07-01T12:38:17.236Z"
   },
   {
    "duration": 1108,
    "start_time": "2022-07-01T12:38:17.423Z"
   },
   {
    "duration": 98,
    "start_time": "2022-07-01T12:38:18.533Z"
   },
   {
    "duration": 31,
    "start_time": "2022-07-01T12:38:18.633Z"
   },
   {
    "duration": 142,
    "start_time": "2022-07-01T12:38:18.666Z"
   },
   {
    "duration": 288,
    "start_time": "2022-07-01T12:38:18.810Z"
   },
   {
    "duration": 0,
    "start_time": "2022-07-01T12:38:19.100Z"
   },
   {
    "duration": 0,
    "start_time": "2022-07-01T12:38:19.101Z"
   },
   {
    "duration": 621,
    "start_time": "2022-07-01T12:39:12.681Z"
   },
   {
    "duration": 102,
    "start_time": "2022-07-01T12:39:13.304Z"
   },
   {
    "duration": 1036,
    "start_time": "2022-07-01T12:39:13.408Z"
   },
   {
    "duration": 177,
    "start_time": "2022-07-01T12:39:14.446Z"
   },
   {
    "duration": 80,
    "start_time": "2022-07-01T12:39:14.626Z"
   },
   {
    "duration": 29,
    "start_time": "2022-07-01T12:39:14.722Z"
   },
   {
    "duration": 131,
    "start_time": "2022-07-01T12:39:14.753Z"
   },
   {
    "duration": 624,
    "start_time": "2022-07-01T12:39:14.886Z"
   },
   {
    "duration": 0,
    "start_time": "2022-07-01T12:39:15.511Z"
   },
   {
    "duration": 0,
    "start_time": "2022-07-01T12:39:15.513Z"
   },
   {
    "duration": 10,
    "start_time": "2022-07-01T12:45:59.805Z"
   },
   {
    "duration": 18,
    "start_time": "2022-07-01T12:46:21.365Z"
   },
   {
    "duration": 32,
    "start_time": "2022-07-01T12:47:19.658Z"
   },
   {
    "duration": 327,
    "start_time": "2022-07-01T12:47:53.244Z"
   },
   {
    "duration": 298,
    "start_time": "2022-07-01T12:49:36.989Z"
   },
   {
    "duration": 440,
    "start_time": "2022-07-01T12:50:59.766Z"
   },
   {
    "duration": 544,
    "start_time": "2022-07-01T12:52:07.025Z"
   },
   {
    "duration": 297,
    "start_time": "2022-07-01T12:53:34.392Z"
   },
   {
    "duration": 836,
    "start_time": "2022-07-02T04:19:44.906Z"
   },
   {
    "duration": 140,
    "start_time": "2022-07-02T04:19:45.744Z"
   },
   {
    "duration": 325,
    "start_time": "2022-07-02T04:19:45.885Z"
   },
   {
    "duration": 183,
    "start_time": "2022-07-02T04:19:46.212Z"
   },
   {
    "duration": 102,
    "start_time": "2022-07-02T04:19:46.397Z"
   },
   {
    "duration": 43,
    "start_time": "2022-07-02T04:19:46.501Z"
   },
   {
    "duration": 113,
    "start_time": "2022-07-02T04:19:46.546Z"
   },
   {
    "duration": 289,
    "start_time": "2022-07-02T04:19:46.660Z"
   },
   {
    "duration": 283,
    "start_time": "2022-07-02T04:19:46.951Z"
   },
   {
    "duration": 338,
    "start_time": "2022-07-02T04:19:47.236Z"
   },
   {
    "duration": 276,
    "start_time": "2022-07-02T04:19:47.576Z"
   },
   {
    "duration": 291,
    "start_time": "2022-07-02T04:19:47.854Z"
   },
   {
    "duration": 49,
    "start_time": "2022-07-02T04:19:48.146Z"
   },
   {
    "duration": 76,
    "start_time": "2022-07-02T04:19:48.196Z"
   },
   {
    "duration": 3418,
    "start_time": "2022-07-02T04:20:00.491Z"
   },
   {
    "duration": 275,
    "start_time": "2022-07-02T04:21:56.172Z"
   },
   {
    "duration": 655,
    "start_time": "2022-07-02T04:22:20.404Z"
   },
   {
    "duration": 98,
    "start_time": "2022-07-02T04:22:21.061Z"
   },
   {
    "duration": 325,
    "start_time": "2022-07-02T04:22:21.160Z"
   },
   {
    "duration": 188,
    "start_time": "2022-07-02T04:22:21.488Z"
   },
   {
    "duration": 91,
    "start_time": "2022-07-02T04:22:21.677Z"
   },
   {
    "duration": 28,
    "start_time": "2022-07-02T04:22:21.770Z"
   },
   {
    "duration": 128,
    "start_time": "2022-07-02T04:22:21.800Z"
   },
   {
    "duration": 300,
    "start_time": "2022-07-02T04:22:21.929Z"
   },
   {
    "duration": 281,
    "start_time": "2022-07-02T04:22:22.230Z"
   },
   {
    "duration": 343,
    "start_time": "2022-07-02T04:22:22.513Z"
   },
   {
    "duration": 276,
    "start_time": "2022-07-02T04:22:22.857Z"
   },
   {
    "duration": 278,
    "start_time": "2022-07-02T04:22:23.134Z"
   },
   {
    "duration": 52,
    "start_time": "2022-07-02T04:22:23.414Z"
   },
   {
    "duration": 2519,
    "start_time": "2022-07-02T04:22:23.467Z"
   },
   {
    "duration": 319,
    "start_time": "2022-07-02T04:29:20.440Z"
   },
   {
    "duration": 309,
    "start_time": "2022-07-02T04:31:29.630Z"
   },
   {
    "duration": 397,
    "start_time": "2022-07-02T04:43:50.482Z"
   },
   {
    "duration": 300,
    "start_time": "2022-07-02T04:45:11.557Z"
   },
   {
    "duration": 315,
    "start_time": "2022-07-02T04:47:02.362Z"
   },
   {
    "duration": 316,
    "start_time": "2022-07-02T04:47:49.948Z"
   },
   {
    "duration": 326,
    "start_time": "2022-07-02T04:48:48.888Z"
   },
   {
    "duration": 417,
    "start_time": "2022-07-02T04:58:09.894Z"
   },
   {
    "duration": 354,
    "start_time": "2022-07-02T04:59:39.539Z"
   },
   {
    "duration": 635,
    "start_time": "2022-07-02T05:00:23.966Z"
   },
   {
    "duration": 100,
    "start_time": "2022-07-02T05:00:24.603Z"
   },
   {
    "duration": 341,
    "start_time": "2022-07-02T05:00:24.705Z"
   },
   {
    "duration": 185,
    "start_time": "2022-07-02T05:00:25.048Z"
   },
   {
    "duration": 100,
    "start_time": "2022-07-02T05:00:25.234Z"
   },
   {
    "duration": 31,
    "start_time": "2022-07-02T05:00:25.336Z"
   },
   {
    "duration": 140,
    "start_time": "2022-07-02T05:00:25.369Z"
   },
   {
    "duration": 350,
    "start_time": "2022-07-02T05:00:25.511Z"
   },
   {
    "duration": 351,
    "start_time": "2022-07-02T05:00:25.862Z"
   },
   {
    "duration": 347,
    "start_time": "2022-07-02T05:00:26.216Z"
   },
   {
    "duration": 312,
    "start_time": "2022-07-02T05:00:26.565Z"
   },
   {
    "duration": 318,
    "start_time": "2022-07-02T05:00:26.879Z"
   },
   {
    "duration": 55,
    "start_time": "2022-07-02T05:00:27.198Z"
   },
   {
    "duration": 1815,
    "start_time": "2022-07-02T05:00:27.255Z"
   },
   {
    "duration": 355,
    "start_time": "2022-07-02T05:01:32.186Z"
   },
   {
    "duration": 36,
    "start_time": "2022-07-02T05:01:51.677Z"
   },
   {
    "duration": 47,
    "start_time": "2022-07-02T05:03:40.878Z"
   },
   {
    "duration": 372,
    "start_time": "2022-07-02T05:04:12.697Z"
   },
   {
    "duration": 363,
    "start_time": "2022-07-02T05:04:37.138Z"
   },
   {
    "duration": 341,
    "start_time": "2022-07-02T05:07:58.829Z"
   },
   {
    "duration": 328,
    "start_time": "2022-07-02T05:11:29.354Z"
   },
   {
    "duration": 363,
    "start_time": "2022-07-02T05:12:10.378Z"
   },
   {
    "duration": 742,
    "start_time": "2022-07-02T05:12:50.744Z"
   },
   {
    "duration": 120,
    "start_time": "2022-07-02T05:12:51.492Z"
   },
   {
    "duration": 388,
    "start_time": "2022-07-02T05:12:51.615Z"
   },
   {
    "duration": 208,
    "start_time": "2022-07-02T05:12:52.004Z"
   },
   {
    "duration": 117,
    "start_time": "2022-07-02T05:12:52.215Z"
   },
   {
    "duration": 35,
    "start_time": "2022-07-02T05:12:52.334Z"
   },
   {
    "duration": 138,
    "start_time": "2022-07-02T05:12:52.370Z"
   },
   {
    "duration": 376,
    "start_time": "2022-07-02T05:12:52.510Z"
   },
   {
    "duration": 373,
    "start_time": "2022-07-02T05:12:52.889Z"
   },
   {
    "duration": 388,
    "start_time": "2022-07-02T05:12:53.264Z"
   },
   {
    "duration": 344,
    "start_time": "2022-07-02T05:12:53.654Z"
   },
   {
    "duration": 325,
    "start_time": "2022-07-02T05:12:54.000Z"
   },
   {
    "duration": 59,
    "start_time": "2022-07-02T05:12:54.327Z"
   },
   {
    "duration": 2920,
    "start_time": "2022-07-02T05:12:54.387Z"
   },
   {
    "duration": 422,
    "start_time": "2022-07-02T05:14:40.702Z"
   },
   {
    "duration": 329,
    "start_time": "2022-07-02T05:15:18.988Z"
   },
   {
    "duration": 397,
    "start_time": "2022-07-02T05:16:24.283Z"
   },
   {
    "duration": 307,
    "start_time": "2022-07-02T05:39:45.702Z"
   },
   {
    "duration": 352,
    "start_time": "2022-07-02T05:41:06.435Z"
   },
   {
    "duration": 389,
    "start_time": "2022-07-02T05:46:34.360Z"
   },
   {
    "duration": 54,
    "start_time": "2022-07-02T05:46:55.440Z"
   },
   {
    "duration": 314,
    "start_time": "2022-07-02T05:47:14.936Z"
   },
   {
    "duration": 410,
    "start_time": "2022-07-02T05:50:57.281Z"
   },
   {
    "duration": 330,
    "start_time": "2022-07-02T05:51:36.444Z"
   },
   {
    "duration": 348,
    "start_time": "2022-07-02T05:54:46.812Z"
   },
   {
    "duration": 55,
    "start_time": "2022-07-02T06:02:04.134Z"
   },
   {
    "duration": 18,
    "start_time": "2022-07-02T06:02:25.186Z"
   },
   {
    "duration": 459,
    "start_time": "2022-07-02T06:02:44.217Z"
   },
   {
    "duration": 7,
    "start_time": "2022-07-02T06:47:28.759Z"
   },
   {
    "duration": 6,
    "start_time": "2022-07-02T06:50:09.280Z"
   },
   {
    "duration": 24,
    "start_time": "2022-07-02T06:50:53.172Z"
   },
   {
    "duration": 14,
    "start_time": "2022-07-02T06:52:15.356Z"
   },
   {
    "duration": 17,
    "start_time": "2022-07-02T06:52:36.520Z"
   },
   {
    "duration": 16,
    "start_time": "2022-07-02T06:53:02.598Z"
   },
   {
    "duration": 16,
    "start_time": "2022-07-02T06:54:10.924Z"
   },
   {
    "duration": 20,
    "start_time": "2022-07-02T07:00:27.326Z"
   },
   {
    "duration": 84,
    "start_time": "2022-07-02T07:10:32.500Z"
   },
   {
    "duration": 26,
    "start_time": "2022-07-02T07:10:47.481Z"
   },
   {
    "duration": 26,
    "start_time": "2022-07-02T07:11:57.319Z"
   },
   {
    "duration": 20,
    "start_time": "2022-07-02T07:12:13.658Z"
   },
   {
    "duration": 22,
    "start_time": "2022-07-02T07:12:54.241Z"
   },
   {
    "duration": 55,
    "start_time": "2022-07-02T12:13:32.118Z"
   },
   {
    "duration": 892,
    "start_time": "2022-07-02T12:13:39.131Z"
   },
   {
    "duration": 161,
    "start_time": "2022-07-02T12:13:40.026Z"
   },
   {
    "duration": 400,
    "start_time": "2022-07-02T12:13:40.189Z"
   },
   {
    "duration": 218,
    "start_time": "2022-07-02T12:13:40.592Z"
   },
   {
    "duration": 98,
    "start_time": "2022-07-02T12:13:40.812Z"
   },
   {
    "duration": 50,
    "start_time": "2022-07-02T12:13:40.911Z"
   },
   {
    "duration": 135,
    "start_time": "2022-07-02T12:13:40.963Z"
   },
   {
    "duration": 399,
    "start_time": "2022-07-02T12:13:41.100Z"
   },
   {
    "duration": 401,
    "start_time": "2022-07-02T12:13:41.502Z"
   },
   {
    "duration": 453,
    "start_time": "2022-07-02T12:13:41.906Z"
   },
   {
    "duration": 358,
    "start_time": "2022-07-02T12:13:42.361Z"
   },
   {
    "duration": 383,
    "start_time": "2022-07-02T12:13:42.726Z"
   },
   {
    "duration": 40,
    "start_time": "2022-07-02T12:13:43.111Z"
   },
   {
    "duration": 89,
    "start_time": "2022-07-02T12:13:43.153Z"
   },
   {
    "duration": 1980,
    "start_time": "2022-07-02T12:13:43.244Z"
   },
   {
    "duration": 26,
    "start_time": "2022-07-02T12:14:10.750Z"
   },
   {
    "duration": 32,
    "start_time": "2022-07-02T12:23:23.730Z"
   },
   {
    "duration": 15,
    "start_time": "2022-07-02T12:26:23.542Z"
   },
   {
    "duration": 20,
    "start_time": "2022-07-02T12:29:09.296Z"
   },
   {
    "duration": 33,
    "start_time": "2022-07-02T12:30:20.258Z"
   },
   {
    "duration": 54,
    "start_time": "2022-07-02T12:32:47.288Z"
   },
   {
    "duration": 54,
    "start_time": "2022-07-02T12:38:58.715Z"
   },
   {
    "duration": 44,
    "start_time": "2022-07-02T12:43:20.073Z"
   },
   {
    "duration": 241,
    "start_time": "2022-07-02T13:14:45.819Z"
   },
   {
    "duration": 179,
    "start_time": "2022-07-02T13:15:43.390Z"
   },
   {
    "duration": 542,
    "start_time": "2022-07-02T13:16:07.684Z"
   },
   {
    "duration": 164,
    "start_time": "2022-07-02T13:27:42.785Z"
   },
   {
    "duration": 180,
    "start_time": "2022-07-02T13:29:35.217Z"
   },
   {
    "duration": 165,
    "start_time": "2022-07-02T13:31:35.195Z"
   },
   {
    "duration": 51,
    "start_time": "2022-07-02T13:32:16.230Z"
   },
   {
    "duration": 60,
    "start_time": "2022-07-02T13:32:37.019Z"
   },
   {
    "duration": 148,
    "start_time": "2022-07-02T13:32:58.360Z"
   },
   {
    "duration": 31,
    "start_time": "2022-07-02T13:35:49.615Z"
   },
   {
    "duration": 252,
    "start_time": "2022-07-02T13:37:55.716Z"
   },
   {
    "duration": 174,
    "start_time": "2022-07-02T13:38:05.373Z"
   },
   {
    "duration": 178,
    "start_time": "2022-07-02T13:39:28.829Z"
   },
   {
    "duration": 41,
    "start_time": "2022-07-02T13:40:28.832Z"
   },
   {
    "duration": 165,
    "start_time": "2022-07-02T13:53:06.139Z"
   },
   {
    "duration": 68,
    "start_time": "2022-07-02T13:53:54.313Z"
   },
   {
    "duration": 51,
    "start_time": "2022-07-02T13:54:08.347Z"
   },
   {
    "duration": 223,
    "start_time": "2022-07-02T13:54:39.888Z"
   },
   {
    "duration": 227,
    "start_time": "2022-07-02T13:55:34.436Z"
   },
   {
    "duration": 184,
    "start_time": "2022-07-02T13:56:02.784Z"
   },
   {
    "duration": 58,
    "start_time": "2022-07-02T13:59:22.626Z"
   },
   {
    "duration": 70,
    "start_time": "2022-07-02T14:00:40.207Z"
   },
   {
    "duration": 62,
    "start_time": "2022-07-02T14:07:00.321Z"
   },
   {
    "duration": 51,
    "start_time": "2022-07-02T14:07:18.656Z"
   },
   {
    "duration": 66,
    "start_time": "2022-07-02T14:08:26.274Z"
   },
   {
    "duration": 58,
    "start_time": "2022-07-02T14:09:13.855Z"
   },
   {
    "duration": 66,
    "start_time": "2022-07-02T14:13:54.505Z"
   },
   {
    "duration": 54,
    "start_time": "2022-07-02T14:14:22.820Z"
   },
   {
    "duration": 59,
    "start_time": "2022-07-02T14:14:41.943Z"
   },
   {
    "duration": 63,
    "start_time": "2022-07-02T14:15:11.755Z"
   },
   {
    "duration": 51,
    "start_time": "2022-07-02T14:15:25.947Z"
   },
   {
    "duration": 93,
    "start_time": "2022-07-02T14:15:43.285Z"
   },
   {
    "duration": 77,
    "start_time": "2022-07-02T14:18:19.605Z"
   },
   {
    "duration": 88,
    "start_time": "2022-07-02T14:19:17.494Z"
   },
   {
    "duration": 83,
    "start_time": "2022-07-02T15:37:52.102Z"
   },
   {
    "duration": 73,
    "start_time": "2022-07-02T15:38:04.221Z"
   },
   {
    "duration": 74,
    "start_time": "2022-07-02T15:38:24.176Z"
   },
   {
    "duration": 74,
    "start_time": "2022-07-02T15:38:54.115Z"
   },
   {
    "duration": 173,
    "start_time": "2022-07-02T15:43:29.257Z"
   },
   {
    "duration": 200,
    "start_time": "2022-07-02T15:44:10.490Z"
   },
   {
    "duration": 288,
    "start_time": "2022-07-02T15:48:06.707Z"
   },
   {
    "duration": 45351,
    "start_time": "2022-07-02T15:48:44.058Z"
   },
   {
    "duration": 258,
    "start_time": "2022-07-02T15:50:23.043Z"
   },
   {
    "duration": 2247,
    "start_time": "2022-07-02T15:53:13.759Z"
   },
   {
    "duration": 200,
    "start_time": "2022-07-02T15:58:42.548Z"
   },
   {
    "duration": 172,
    "start_time": "2022-07-02T15:59:35.084Z"
   },
   {
    "duration": 419,
    "start_time": "2022-07-02T16:01:05.152Z"
   },
   {
    "duration": 656,
    "start_time": "2022-07-02T16:01:19.236Z"
   },
   {
    "duration": 107,
    "start_time": "2022-07-02T16:01:19.894Z"
   },
   {
    "duration": 360,
    "start_time": "2022-07-02T16:01:20.003Z"
   },
   {
    "duration": 207,
    "start_time": "2022-07-02T16:01:20.366Z"
   },
   {
    "duration": 122,
    "start_time": "2022-07-02T16:01:20.575Z"
   },
   {
    "duration": 56,
    "start_time": "2022-07-02T16:01:20.699Z"
   },
   {
    "duration": 136,
    "start_time": "2022-07-02T16:01:20.757Z"
   },
   {
    "duration": 354,
    "start_time": "2022-07-02T16:01:20.895Z"
   },
   {
    "duration": 400,
    "start_time": "2022-07-02T16:01:21.252Z"
   },
   {
    "duration": 388,
    "start_time": "2022-07-02T16:01:21.656Z"
   },
   {
    "duration": 354,
    "start_time": "2022-07-02T16:01:22.046Z"
   },
   {
    "duration": 405,
    "start_time": "2022-07-02T16:01:22.402Z"
   },
   {
    "duration": 42,
    "start_time": "2022-07-02T16:01:22.810Z"
   },
   {
    "duration": 79,
    "start_time": "2022-07-02T16:01:22.854Z"
   },
   {
    "duration": 62,
    "start_time": "2022-07-02T16:01:22.935Z"
   },
   {
    "duration": 297,
    "start_time": "2022-07-02T16:01:22.999Z"
   },
   {
    "duration": 0,
    "start_time": "2022-07-02T16:01:23.297Z"
   },
   {
    "duration": 0,
    "start_time": "2022-07-02T16:01:23.299Z"
   },
   {
    "duration": 68,
    "start_time": "2022-07-02T16:07:46.705Z"
   },
   {
    "duration": 49,
    "start_time": "2022-07-02T16:10:51.531Z"
   },
   {
    "duration": 397,
    "start_time": "2022-07-02T16:11:56.240Z"
   },
   {
    "duration": 340,
    "start_time": "2022-07-02T16:12:30.108Z"
   },
   {
    "duration": 388,
    "start_time": "2022-07-02T16:20:52.796Z"
   },
   {
    "duration": 437,
    "start_time": "2022-07-02T16:22:38.377Z"
   },
   {
    "duration": 398,
    "start_time": "2022-07-02T16:23:06.002Z"
   },
   {
    "duration": 67,
    "start_time": "2022-07-02T16:23:20.022Z"
   },
   {
    "duration": 199,
    "start_time": "2022-07-02T16:25:20.649Z"
   },
   {
    "duration": 49,
    "start_time": "2022-07-03T04:08:27.280Z"
   },
   {
    "duration": 742,
    "start_time": "2022-07-03T04:08:34.262Z"
   },
   {
    "duration": 137,
    "start_time": "2022-07-03T04:08:35.006Z"
   },
   {
    "duration": 363,
    "start_time": "2022-07-03T04:08:35.145Z"
   },
   {
    "duration": 198,
    "start_time": "2022-07-03T04:08:35.510Z"
   },
   {
    "duration": 81,
    "start_time": "2022-07-03T04:08:35.718Z"
   },
   {
    "duration": 42,
    "start_time": "2022-07-03T04:08:35.801Z"
   },
   {
    "duration": 122,
    "start_time": "2022-07-03T04:08:35.845Z"
   },
   {
    "duration": 369,
    "start_time": "2022-07-03T04:08:35.968Z"
   },
   {
    "duration": 332,
    "start_time": "2022-07-03T04:08:36.339Z"
   },
   {
    "duration": 367,
    "start_time": "2022-07-03T04:08:36.673Z"
   },
   {
    "duration": 333,
    "start_time": "2022-07-03T04:08:37.042Z"
   },
   {
    "duration": 327,
    "start_time": "2022-07-03T04:08:37.377Z"
   },
   {
    "duration": 34,
    "start_time": "2022-07-03T04:08:37.705Z"
   },
   {
    "duration": 102,
    "start_time": "2022-07-03T04:08:37.742Z"
   },
   {
    "duration": 43,
    "start_time": "2022-07-03T04:08:37.846Z"
   },
   {
    "duration": 83,
    "start_time": "2022-07-03T04:08:37.890Z"
   },
   {
    "duration": 28,
    "start_time": "2022-07-03T04:08:37.975Z"
   },
   {
    "duration": 1750,
    "start_time": "2022-07-03T04:08:38.027Z"
   },
   {
    "duration": 75,
    "start_time": "2022-07-03T04:10:56.410Z"
   },
   {
    "duration": 74,
    "start_time": "2022-07-03T04:14:31.495Z"
   },
   {
    "duration": 64,
    "start_time": "2022-07-03T04:14:45.353Z"
   },
   {
    "duration": 90,
    "start_time": "2022-07-03T04:27:25.038Z"
   },
   {
    "duration": 98,
    "start_time": "2022-07-03T04:56:42.237Z"
   },
   {
    "duration": 80,
    "start_time": "2022-07-03T04:57:33.348Z"
   },
   {
    "duration": 83,
    "start_time": "2022-07-03T04:57:59.147Z"
   },
   {
    "duration": 54,
    "start_time": "2022-07-04T05:05:50.487Z"
   },
   {
    "duration": 829,
    "start_time": "2022-07-04T05:05:58.032Z"
   },
   {
    "duration": 250,
    "start_time": "2022-07-04T05:05:58.863Z"
   },
   {
    "duration": 368,
    "start_time": "2022-07-04T05:05:59.114Z"
   },
   {
    "duration": 209,
    "start_time": "2022-07-04T05:05:59.485Z"
   },
   {
    "duration": 110,
    "start_time": "2022-07-04T05:05:59.696Z"
   },
   {
    "duration": 47,
    "start_time": "2022-07-04T05:05:59.808Z"
   },
   {
    "duration": 138,
    "start_time": "2022-07-04T05:05:59.857Z"
   },
   {
    "duration": 370,
    "start_time": "2022-07-04T05:05:59.997Z"
   },
   {
    "duration": 370,
    "start_time": "2022-07-04T05:06:00.369Z"
   },
   {
    "duration": 406,
    "start_time": "2022-07-04T05:06:00.743Z"
   },
   {
    "duration": 343,
    "start_time": "2022-07-04T05:06:01.151Z"
   },
   {
    "duration": 364,
    "start_time": "2022-07-04T05:06:01.496Z"
   },
   {
    "duration": 22,
    "start_time": "2022-07-04T05:06:01.862Z"
   },
   {
    "duration": 102,
    "start_time": "2022-07-04T05:06:01.885Z"
   },
   {
    "duration": 103,
    "start_time": "2022-07-04T05:06:01.989Z"
   },
   {
    "duration": 113,
    "start_time": "2022-07-04T05:06:02.093Z"
   },
   {
    "duration": 48,
    "start_time": "2022-07-04T05:06:02.208Z"
   },
   {
    "duration": 2783,
    "start_time": "2022-07-04T05:06:02.258Z"
   },
   {
    "duration": 80,
    "start_time": "2022-07-04T05:10:39.150Z"
   },
   {
    "duration": 86,
    "start_time": "2022-07-04T05:11:56.737Z"
   },
   {
    "duration": 77,
    "start_time": "2022-07-04T05:12:04.169Z"
   },
   {
    "duration": 592,
    "start_time": "2022-07-04T05:57:23.593Z"
   },
   {
    "duration": 99,
    "start_time": "2022-07-04T05:58:52.397Z"
   },
   {
    "duration": 107,
    "start_time": "2022-07-04T05:59:06.250Z"
   },
   {
    "duration": 124,
    "start_time": "2022-07-04T06:05:43.395Z"
   },
   {
    "duration": 124,
    "start_time": "2022-07-04T06:06:04.433Z"
   },
   {
    "duration": 122,
    "start_time": "2022-07-04T06:06:27.578Z"
   },
   {
    "duration": 122,
    "start_time": "2022-07-04T06:06:40.154Z"
   },
   {
    "duration": 131,
    "start_time": "2022-07-04T06:06:49.673Z"
   },
   {
    "duration": 119,
    "start_time": "2022-07-04T06:07:01.617Z"
   },
   {
    "duration": 158,
    "start_time": "2022-07-04T06:11:56.551Z"
   },
   {
    "duration": 147,
    "start_time": "2022-07-04T06:12:09.910Z"
   },
   {
    "duration": 192,
    "start_time": "2022-07-04T06:12:45.790Z"
   },
   {
    "duration": 360,
    "start_time": "2022-07-04T06:13:11.278Z"
   },
   {
    "duration": 161,
    "start_time": "2022-07-04T06:13:34.521Z"
   },
   {
    "duration": 206,
    "start_time": "2022-07-04T06:14:05.605Z"
   },
   {
    "duration": 159,
    "start_time": "2022-07-04T06:25:12.214Z"
   },
   {
    "duration": 140,
    "start_time": "2022-07-04T06:25:18.535Z"
   },
   {
    "duration": 19,
    "start_time": "2022-07-04T06:26:25.503Z"
   },
   {
    "duration": 37,
    "start_time": "2022-07-04T06:27:41.302Z"
   },
   {
    "duration": 46,
    "start_time": "2022-07-04T06:28:11.199Z"
   },
   {
    "duration": 28,
    "start_time": "2022-07-04T06:29:28.686Z"
   },
   {
    "duration": 19,
    "start_time": "2022-07-04T06:31:26.006Z"
   },
   {
    "duration": 22,
    "start_time": "2022-07-04T06:33:49.268Z"
   },
   {
    "duration": 22,
    "start_time": "2022-07-04T06:43:31.358Z"
   },
   {
    "duration": 42,
    "start_time": "2022-07-04T06:43:57.558Z"
   },
   {
    "duration": 54,
    "start_time": "2022-07-04T06:44:26.727Z"
   },
   {
    "duration": 60,
    "start_time": "2022-07-04T06:45:02.925Z"
   },
   {
    "duration": 22,
    "start_time": "2022-07-04T06:45:58.749Z"
   },
   {
    "duration": 774,
    "start_time": "2022-07-04T07:20:16.070Z"
   },
   {
    "duration": 159,
    "start_time": "2022-07-04T07:20:16.846Z"
   },
   {
    "duration": 394,
    "start_time": "2022-07-04T07:20:17.007Z"
   },
   {
    "duration": 216,
    "start_time": "2022-07-04T07:20:17.406Z"
   },
   {
    "duration": 99,
    "start_time": "2022-07-04T07:20:17.624Z"
   },
   {
    "duration": 41,
    "start_time": "2022-07-04T07:20:17.725Z"
   },
   {
    "duration": 132,
    "start_time": "2022-07-04T07:20:17.768Z"
   },
   {
    "duration": 370,
    "start_time": "2022-07-04T07:20:17.902Z"
   },
   {
    "duration": 367,
    "start_time": "2022-07-04T07:20:18.274Z"
   },
   {
    "duration": 395,
    "start_time": "2022-07-04T07:20:18.644Z"
   },
   {
    "duration": 362,
    "start_time": "2022-07-04T07:20:19.041Z"
   },
   {
    "duration": 403,
    "start_time": "2022-07-04T07:20:19.405Z"
   },
   {
    "duration": 40,
    "start_time": "2022-07-04T07:20:19.810Z"
   },
   {
    "duration": 107,
    "start_time": "2022-07-04T07:20:19.852Z"
   },
   {
    "duration": 98,
    "start_time": "2022-07-04T07:20:19.960Z"
   },
   {
    "duration": 127,
    "start_time": "2022-07-04T07:20:20.061Z"
   },
   {
    "duration": 457,
    "start_time": "2022-07-04T07:20:20.190Z"
   },
   {
    "duration": 21,
    "start_time": "2022-07-04T07:20:20.649Z"
   },
   {
    "duration": 772,
    "start_time": "2022-07-04T09:35:18.313Z"
   },
   {
    "duration": 125,
    "start_time": "2022-07-04T09:35:19.087Z"
   },
   {
    "duration": 318,
    "start_time": "2022-07-04T09:35:19.214Z"
   },
   {
    "duration": 175,
    "start_time": "2022-07-04T09:35:19.534Z"
   },
   {
    "duration": 90,
    "start_time": "2022-07-04T09:35:19.711Z"
   },
   {
    "duration": 28,
    "start_time": "2022-07-04T09:35:19.802Z"
   },
   {
    "duration": 128,
    "start_time": "2022-07-04T09:35:19.832Z"
   },
   {
    "duration": 315,
    "start_time": "2022-07-04T09:35:19.962Z"
   },
   {
    "duration": 315,
    "start_time": "2022-07-04T09:35:20.279Z"
   },
   {
    "duration": 409,
    "start_time": "2022-07-04T09:35:20.596Z"
   },
   {
    "duration": 300,
    "start_time": "2022-07-04T09:35:21.007Z"
   },
   {
    "duration": 315,
    "start_time": "2022-07-04T09:35:21.309Z"
   },
   {
    "duration": 20,
    "start_time": "2022-07-04T09:35:21.626Z"
   },
   {
    "duration": 69,
    "start_time": "2022-07-04T09:35:21.647Z"
   },
   {
    "duration": 73,
    "start_time": "2022-07-04T09:35:21.718Z"
   },
   {
    "duration": 77,
    "start_time": "2022-07-04T09:35:21.793Z"
   },
   {
    "duration": 371,
    "start_time": "2022-07-04T09:35:21.871Z"
   },
   {
    "duration": 24,
    "start_time": "2022-07-04T09:35:22.244Z"
   },
   {
    "duration": 4,
    "start_time": "2022-07-04T15:11:19.193Z"
   },
   {
    "duration": 652,
    "start_time": "2022-07-04T20:48:24.495Z"
   },
   {
    "duration": 127,
    "start_time": "2022-07-04T20:48:25.149Z"
   },
   {
    "duration": 328,
    "start_time": "2022-07-04T20:48:25.278Z"
   },
   {
    "duration": 184,
    "start_time": "2022-07-04T20:48:25.608Z"
   },
   {
    "duration": 86,
    "start_time": "2022-07-04T20:48:25.794Z"
   },
   {
    "duration": 46,
    "start_time": "2022-07-04T20:48:25.882Z"
   },
   {
    "duration": 122,
    "start_time": "2022-07-04T20:48:25.930Z"
   },
   {
    "duration": 318,
    "start_time": "2022-07-04T20:48:26.054Z"
   },
   {
    "duration": 317,
    "start_time": "2022-07-04T20:48:26.373Z"
   },
   {
    "duration": 361,
    "start_time": "2022-07-04T20:48:26.693Z"
   },
   {
    "duration": 302,
    "start_time": "2022-07-04T20:48:27.056Z"
   },
   {
    "duration": 312,
    "start_time": "2022-07-04T20:48:27.359Z"
   },
   {
    "duration": 19,
    "start_time": "2022-07-04T20:48:27.673Z"
   },
   {
    "duration": 74,
    "start_time": "2022-07-04T20:48:27.693Z"
   },
   {
    "duration": 69,
    "start_time": "2022-07-04T20:48:27.769Z"
   },
   {
    "duration": 84,
    "start_time": "2022-07-04T20:48:27.839Z"
   },
   {
    "duration": 393,
    "start_time": "2022-07-04T20:48:27.925Z"
   },
   {
    "duration": 20,
    "start_time": "2022-07-04T20:48:28.322Z"
   },
   {
    "duration": 20,
    "start_time": "2022-07-04T21:12:31.386Z"
   },
   {
    "duration": 4,
    "start_time": "2022-07-04T21:12:40.590Z"
   },
   {
    "duration": 21,
    "start_time": "2022-07-04T21:13:08.097Z"
   },
   {
    "duration": 22,
    "start_time": "2022-07-04T21:18:38.965Z"
   },
   {
    "duration": 1288,
    "start_time": "2022-07-05T09:06:11.724Z"
   },
   {
    "duration": 145,
    "start_time": "2022-07-05T09:06:13.014Z"
   },
   {
    "duration": 363,
    "start_time": "2022-07-05T09:06:13.161Z"
   },
   {
    "duration": 196,
    "start_time": "2022-07-05T09:06:13.526Z"
   },
   {
    "duration": 98,
    "start_time": "2022-07-05T09:06:13.723Z"
   },
   {
    "duration": 47,
    "start_time": "2022-07-05T09:06:13.823Z"
   },
   {
    "duration": 145,
    "start_time": "2022-07-05T09:06:13.872Z"
   },
   {
    "duration": 344,
    "start_time": "2022-07-05T09:06:14.019Z"
   },
   {
    "duration": 353,
    "start_time": "2022-07-05T09:06:14.365Z"
   },
   {
    "duration": 371,
    "start_time": "2022-07-05T09:06:14.720Z"
   },
   {
    "duration": 386,
    "start_time": "2022-07-05T09:06:15.093Z"
   },
   {
    "duration": 368,
    "start_time": "2022-07-05T09:06:15.481Z"
   },
   {
    "duration": 22,
    "start_time": "2022-07-05T09:06:15.851Z"
   },
   {
    "duration": 89,
    "start_time": "2022-07-05T09:06:15.875Z"
   },
   {
    "duration": 60,
    "start_time": "2022-07-05T09:06:15.965Z"
   },
   {
    "duration": 88,
    "start_time": "2022-07-05T09:06:16.027Z"
   },
   {
    "duration": 46,
    "start_time": "2022-07-05T09:06:16.117Z"
   },
   {
    "duration": 19,
    "start_time": "2022-07-05T09:06:16.165Z"
   },
   {
    "duration": 1072,
    "start_time": "2022-07-05T09:06:43.722Z"
   },
   {
    "duration": 99,
    "start_time": "2022-07-05T09:06:44.796Z"
   },
   {
    "duration": 359,
    "start_time": "2022-07-05T09:06:44.896Z"
   },
   {
    "duration": 200,
    "start_time": "2022-07-05T09:06:45.257Z"
   },
   {
    "duration": 103,
    "start_time": "2022-07-05T09:06:45.459Z"
   },
   {
    "duration": 32,
    "start_time": "2022-07-05T09:06:45.564Z"
   },
   {
    "duration": 125,
    "start_time": "2022-07-05T09:06:45.598Z"
   },
   {
    "duration": 325,
    "start_time": "2022-07-05T09:06:45.725Z"
   },
   {
    "duration": 376,
    "start_time": "2022-07-05T09:06:46.051Z"
   },
   {
    "duration": 320,
    "start_time": "2022-07-05T09:06:46.430Z"
   },
   {
    "duration": 329,
    "start_time": "2022-07-05T09:06:46.753Z"
   },
   {
    "duration": 337,
    "start_time": "2022-07-05T09:06:47.084Z"
   },
   {
    "duration": 28,
    "start_time": "2022-07-05T09:06:47.423Z"
   },
   {
    "duration": 66,
    "start_time": "2022-07-05T09:06:47.453Z"
   },
   {
    "duration": 85,
    "start_time": "2022-07-05T09:06:47.521Z"
   },
   {
    "duration": 100,
    "start_time": "2022-07-05T09:06:47.608Z"
   },
   {
    "duration": 45,
    "start_time": "2022-07-05T09:06:47.709Z"
   },
   {
    "duration": 18,
    "start_time": "2022-07-05T09:06:47.756Z"
   },
   {
    "duration": 62,
    "start_time": "2022-07-05T09:54:39.314Z"
   },
   {
    "duration": 42,
    "start_time": "2022-07-05T09:55:24.667Z"
   },
   {
    "duration": 58,
    "start_time": "2022-07-05T10:20:20.840Z"
   },
   {
    "duration": 60,
    "start_time": "2022-07-05T10:31:17.793Z"
   },
   {
    "duration": 1346,
    "start_time": "2022-07-06T04:37:03.581Z"
   },
   {
    "duration": 137,
    "start_time": "2022-07-06T04:37:04.929Z"
   },
   {
    "duration": 15,
    "start_time": "2022-07-06T04:37:05.068Z"
   },
   {
    "duration": 89,
    "start_time": "2022-07-06T04:37:05.085Z"
   },
   {
    "duration": 461,
    "start_time": "2022-07-06T04:37:05.176Z"
   },
   {
    "duration": 221,
    "start_time": "2022-07-06T04:37:05.638Z"
   },
   {
    "duration": 116,
    "start_time": "2022-07-06T04:37:05.861Z"
   },
   {
    "duration": 58,
    "start_time": "2022-07-06T04:37:05.978Z"
   },
   {
    "duration": 129,
    "start_time": "2022-07-06T04:37:06.038Z"
   },
   {
    "duration": 393,
    "start_time": "2022-07-06T04:37:06.169Z"
   },
   {
    "duration": 415,
    "start_time": "2022-07-06T04:37:06.564Z"
   },
   {
    "duration": 397,
    "start_time": "2022-07-06T04:37:06.981Z"
   },
   {
    "duration": 408,
    "start_time": "2022-07-06T04:37:07.380Z"
   },
   {
    "duration": 387,
    "start_time": "2022-07-06T04:37:07.790Z"
   },
   {
    "duration": 38,
    "start_time": "2022-07-06T04:37:08.180Z"
   },
   {
    "duration": 94,
    "start_time": "2022-07-06T04:37:08.224Z"
   },
   {
    "duration": 63,
    "start_time": "2022-07-06T04:37:08.327Z"
   },
   {
    "duration": 86,
    "start_time": "2022-07-06T04:37:08.391Z"
   },
   {
    "duration": 51,
    "start_time": "2022-07-06T04:37:08.478Z"
   },
   {
    "duration": 22,
    "start_time": "2022-07-06T04:37:08.538Z"
   },
   {
    "duration": 19,
    "start_time": "2022-07-06T04:52:38.362Z"
   },
   {
    "duration": 17,
    "start_time": "2022-07-06T04:59:23.757Z"
   },
   {
    "duration": 37,
    "start_time": "2022-07-06T04:59:27.997Z"
   },
   {
    "duration": 33,
    "start_time": "2022-07-06T04:59:55.358Z"
   },
   {
    "duration": 80,
    "start_time": "2022-07-06T05:10:01.751Z"
   },
   {
    "duration": 148,
    "start_time": "2022-07-06T05:10:17.426Z"
   },
   {
    "duration": 585,
    "start_time": "2022-07-06T05:12:22.607Z"
   },
   {
    "duration": 600,
    "start_time": "2022-07-06T05:13:09.764Z"
   },
   {
    "duration": 28,
    "start_time": "2022-07-06T05:14:59.355Z"
   },
   {
    "duration": 643,
    "start_time": "2022-07-06T05:19:40.193Z"
   },
   {
    "duration": 627,
    "start_time": "2022-07-06T05:39:50.288Z"
   },
   {
    "duration": 380,
    "start_time": "2022-07-06T05:40:31.391Z"
   },
   {
    "duration": 60,
    "start_time": "2022-07-06T05:41:39.670Z"
   },
   {
    "duration": 32,
    "start_time": "2022-07-06T05:41:49.159Z"
   },
   {
    "duration": 311,
    "start_time": "2022-07-06T05:43:47.470Z"
   },
   {
    "duration": 47,
    "start_time": "2022-07-06T05:47:09.635Z"
   },
   {
    "duration": 30,
    "start_time": "2022-07-06T05:47:22.283Z"
   },
   {
    "duration": 278,
    "start_time": "2022-07-06T05:49:13.586Z"
   },
   {
    "duration": 272,
    "start_time": "2022-07-06T05:49:54.865Z"
   },
   {
    "duration": 276,
    "start_time": "2022-07-06T05:52:53.256Z"
   },
   {
    "duration": 54,
    "start_time": "2022-07-06T05:53:31.392Z"
   },
   {
    "duration": 61,
    "start_time": "2022-07-06T05:54:09.079Z"
   },
   {
    "duration": 48,
    "start_time": "2022-07-06T05:54:32.798Z"
   },
   {
    "duration": 34,
    "start_time": "2022-07-06T05:54:50.031Z"
   },
   {
    "duration": 59,
    "start_time": "2022-07-06T05:55:04.855Z"
   },
   {
    "duration": 37,
    "start_time": "2022-07-06T05:55:28.950Z"
   },
   {
    "duration": 38,
    "start_time": "2022-07-06T05:55:36.174Z"
   },
   {
    "duration": 308,
    "start_time": "2022-07-06T05:57:13.861Z"
   },
   {
    "duration": 33,
    "start_time": "2022-07-06T05:58:08.102Z"
   },
   {
    "duration": 31,
    "start_time": "2022-07-06T06:00:01.821Z"
   },
   {
    "duration": 8,
    "start_time": "2022-07-06T06:07:02.968Z"
   },
   {
    "duration": 15,
    "start_time": "2022-07-06T06:19:44.482Z"
   },
   {
    "duration": 14,
    "start_time": "2022-07-06T06:19:58.043Z"
   },
   {
    "duration": 22,
    "start_time": "2022-07-06T06:20:12.753Z"
   },
   {
    "duration": 25,
    "start_time": "2022-07-06T06:20:31.273Z"
   },
   {
    "duration": 26,
    "start_time": "2022-07-06T06:20:46.521Z"
   },
   {
    "duration": 1138,
    "start_time": "2022-07-06T06:20:51.889Z"
   },
   {
    "duration": 80,
    "start_time": "2022-07-06T06:20:53.029Z"
   },
   {
    "duration": 26,
    "start_time": "2022-07-06T06:20:53.114Z"
   },
   {
    "duration": 386,
    "start_time": "2022-07-06T06:20:53.142Z"
   },
   {
    "duration": 35,
    "start_time": "2022-07-06T06:20:53.533Z"
   },
   {
    "duration": 48,
    "start_time": "2022-07-06T06:20:53.571Z"
   },
   {
    "duration": 36,
    "start_time": "2022-07-06T06:20:53.620Z"
   },
   {
    "duration": 457,
    "start_time": "2022-07-06T06:20:53.658Z"
   },
   {
    "duration": 216,
    "start_time": "2022-07-06T06:20:54.120Z"
   },
   {
    "duration": 103,
    "start_time": "2022-07-06T06:20:54.340Z"
   },
   {
    "duration": 32,
    "start_time": "2022-07-06T06:20:54.445Z"
   },
   {
    "duration": 168,
    "start_time": "2022-07-06T06:20:54.479Z"
   },
   {
    "duration": 365,
    "start_time": "2022-07-06T06:20:54.650Z"
   },
   {
    "duration": 454,
    "start_time": "2022-07-06T06:20:55.019Z"
   },
   {
    "duration": 461,
    "start_time": "2022-07-06T06:20:55.476Z"
   },
   {
    "duration": 396,
    "start_time": "2022-07-06T06:20:55.939Z"
   },
   {
    "duration": 455,
    "start_time": "2022-07-06T06:20:56.339Z"
   },
   {
    "duration": 33,
    "start_time": "2022-07-06T06:20:56.800Z"
   },
   {
    "duration": 95,
    "start_time": "2022-07-06T06:20:56.835Z"
   },
   {
    "duration": 106,
    "start_time": "2022-07-06T06:20:56.932Z"
   },
   {
    "duration": 117,
    "start_time": "2022-07-06T06:20:57.040Z"
   },
   {
    "duration": 32,
    "start_time": "2022-07-06T06:20:57.159Z"
   },
   {
    "duration": 34,
    "start_time": "2022-07-06T06:20:57.207Z"
   },
   {
    "duration": 37,
    "start_time": "2022-07-06T06:23:02.788Z"
   },
   {
    "duration": 275,
    "start_time": "2022-07-06T06:29:52.120Z"
   },
   {
    "duration": 58,
    "start_time": "2022-07-06T06:29:59.552Z"
   },
   {
    "duration": 23,
    "start_time": "2022-07-06T06:30:05.159Z"
   },
   {
    "duration": 289,
    "start_time": "2022-07-06T06:30:10.166Z"
   },
   {
    "duration": 32,
    "start_time": "2022-07-06T06:30:15.446Z"
   },
   {
    "duration": 34,
    "start_time": "2022-07-06T06:31:30.798Z"
   },
   {
    "duration": 32,
    "start_time": "2022-07-06T06:31:46.662Z"
   },
   {
    "duration": 42,
    "start_time": "2022-07-06T06:31:50.767Z"
   },
   {
    "duration": 39,
    "start_time": "2022-07-06T06:36:40.524Z"
   },
   {
    "duration": 45,
    "start_time": "2022-07-06T06:36:48.973Z"
   },
   {
    "duration": 1063,
    "start_time": "2022-07-06T06:37:46.683Z"
   },
   {
    "duration": 67,
    "start_time": "2022-07-06T06:37:47.748Z"
   },
   {
    "duration": 16,
    "start_time": "2022-07-06T06:37:47.817Z"
   },
   {
    "duration": 298,
    "start_time": "2022-07-06T06:37:47.835Z"
   },
   {
    "duration": 33,
    "start_time": "2022-07-06T06:37:48.135Z"
   },
   {
    "duration": 59,
    "start_time": "2022-07-06T06:37:48.170Z"
   },
   {
    "duration": 25,
    "start_time": "2022-07-06T06:37:48.231Z"
   },
   {
    "duration": 377,
    "start_time": "2022-07-06T06:37:48.258Z"
   },
   {
    "duration": 208,
    "start_time": "2022-07-06T06:37:48.637Z"
   },
   {
    "duration": 108,
    "start_time": "2022-07-06T06:37:48.848Z"
   },
   {
    "duration": 47,
    "start_time": "2022-07-06T06:37:48.958Z"
   },
   {
    "duration": 136,
    "start_time": "2022-07-06T06:37:49.007Z"
   },
   {
    "duration": 360,
    "start_time": "2022-07-06T06:37:49.145Z"
   },
   {
    "duration": 343,
    "start_time": "2022-07-06T06:37:49.507Z"
   },
   {
    "duration": 330,
    "start_time": "2022-07-06T06:37:49.852Z"
   },
   {
    "duration": 323,
    "start_time": "2022-07-06T06:37:50.184Z"
   },
   {
    "duration": 378,
    "start_time": "2022-07-06T06:37:50.509Z"
   },
   {
    "duration": 27,
    "start_time": "2022-07-06T06:37:50.889Z"
   },
   {
    "duration": 84,
    "start_time": "2022-07-06T06:37:50.917Z"
   },
   {
    "duration": 57,
    "start_time": "2022-07-06T06:37:51.002Z"
   },
   {
    "duration": 126,
    "start_time": "2022-07-06T06:37:51.061Z"
   },
   {
    "duration": 39,
    "start_time": "2022-07-06T06:37:51.200Z"
   },
   {
    "duration": 29,
    "start_time": "2022-07-06T06:37:51.241Z"
   },
   {
    "duration": 45,
    "start_time": "2022-07-06T06:38:43.424Z"
   },
   {
    "duration": 34,
    "start_time": "2022-07-06T06:39:35.017Z"
   },
   {
    "duration": 44,
    "start_time": "2022-07-06T06:40:45.544Z"
   },
   {
    "duration": 33,
    "start_time": "2022-07-06T06:40:58.134Z"
   },
   {
    "duration": 38,
    "start_time": "2022-07-06T06:41:13.581Z"
   },
   {
    "duration": 38,
    "start_time": "2022-07-06T06:41:22.693Z"
   },
   {
    "duration": 38,
    "start_time": "2022-07-06T06:41:44.533Z"
   },
   {
    "duration": 34,
    "start_time": "2022-07-06T06:43:15.549Z"
   },
   {
    "duration": 34,
    "start_time": "2022-07-06T06:43:34.340Z"
   },
   {
    "duration": 34,
    "start_time": "2022-07-06T06:43:39.156Z"
   },
   {
    "duration": 26,
    "start_time": "2022-07-06T06:43:47.541Z"
   },
   {
    "duration": 115,
    "start_time": "2022-07-06T06:44:35.721Z"
   },
   {
    "duration": 314,
    "start_time": "2022-07-06T06:44:52.043Z"
   },
   {
    "duration": 69,
    "start_time": "2022-07-06T06:44:57.111Z"
   },
   {
    "duration": 17,
    "start_time": "2022-07-06T06:45:04.370Z"
   },
   {
    "duration": 299,
    "start_time": "2022-07-06T06:45:09.019Z"
   },
   {
    "duration": 29,
    "start_time": "2022-07-06T06:45:14.139Z"
   },
   {
    "duration": 14,
    "start_time": "2022-07-06T06:45:19.346Z"
   },
   {
    "duration": 19,
    "start_time": "2022-07-06T06:45:53.594Z"
   },
   {
    "duration": 14,
    "start_time": "2022-07-06T06:46:01.814Z"
   },
   {
    "duration": 31,
    "start_time": "2022-07-06T06:46:19.122Z"
   },
   {
    "duration": 11,
    "start_time": "2022-07-06T06:47:06.788Z"
   },
   {
    "duration": 39,
    "start_time": "2022-07-06T06:47:23.930Z"
   },
   {
    "duration": 10,
    "start_time": "2022-07-06T07:12:38.873Z"
   },
   {
    "duration": 14,
    "start_time": "2022-07-06T07:12:50.457Z"
   },
   {
    "duration": 65,
    "start_time": "2022-07-06T07:13:07.361Z"
   },
   {
    "duration": 22,
    "start_time": "2022-07-06T07:13:10.338Z"
   },
   {
    "duration": 326,
    "start_time": "2022-07-06T07:13:12.481Z"
   },
   {
    "duration": 43,
    "start_time": "2022-07-06T07:13:15.969Z"
   },
   {
    "duration": 43,
    "start_time": "2022-07-06T07:13:18.033Z"
   },
   {
    "duration": 42,
    "start_time": "2022-07-06T07:20:39.703Z"
   },
   {
    "duration": 32,
    "start_time": "2022-07-06T07:21:14.644Z"
   },
   {
    "duration": 26,
    "start_time": "2022-07-06T07:21:54.068Z"
   },
   {
    "duration": 26,
    "start_time": "2022-07-06T07:22:29.716Z"
   },
   {
    "duration": 10,
    "start_time": "2022-07-06T07:32:08.716Z"
   },
   {
    "duration": 5,
    "start_time": "2022-07-06T07:33:28.260Z"
   },
   {
    "duration": 15,
    "start_time": "2022-07-06T07:33:45.821Z"
   },
   {
    "duration": 10,
    "start_time": "2022-07-06T07:34:03.963Z"
   },
   {
    "duration": 1011,
    "start_time": "2022-07-06T07:34:16.909Z"
   },
   {
    "duration": 62,
    "start_time": "2022-07-06T07:34:17.922Z"
   },
   {
    "duration": 16,
    "start_time": "2022-07-06T07:34:17.985Z"
   },
   {
    "duration": 275,
    "start_time": "2022-07-06T07:34:18.003Z"
   },
   {
    "duration": 33,
    "start_time": "2022-07-06T07:34:18.280Z"
   },
   {
    "duration": 30,
    "start_time": "2022-07-06T07:34:18.315Z"
   },
   {
    "duration": 24,
    "start_time": "2022-07-06T07:34:18.347Z"
   },
   {
    "duration": 34,
    "start_time": "2022-07-06T07:34:18.372Z"
   },
   {
    "duration": 99,
    "start_time": "2022-07-06T07:34:18.408Z"
   },
   {
    "duration": 0,
    "start_time": "2022-07-06T07:34:18.510Z"
   },
   {
    "duration": 0,
    "start_time": "2022-07-06T07:34:18.511Z"
   },
   {
    "duration": 0,
    "start_time": "2022-07-06T07:34:18.512Z"
   },
   {
    "duration": 0,
    "start_time": "2022-07-06T07:34:18.513Z"
   },
   {
    "duration": 0,
    "start_time": "2022-07-06T07:34:18.514Z"
   },
   {
    "duration": 0,
    "start_time": "2022-07-06T07:34:18.515Z"
   },
   {
    "duration": 0,
    "start_time": "2022-07-06T07:34:18.517Z"
   },
   {
    "duration": 0,
    "start_time": "2022-07-06T07:34:18.518Z"
   },
   {
    "duration": 0,
    "start_time": "2022-07-06T07:34:18.519Z"
   },
   {
    "duration": 0,
    "start_time": "2022-07-06T07:34:18.520Z"
   },
   {
    "duration": 0,
    "start_time": "2022-07-06T07:34:18.521Z"
   },
   {
    "duration": 0,
    "start_time": "2022-07-06T07:34:18.522Z"
   },
   {
    "duration": 0,
    "start_time": "2022-07-06T07:34:18.523Z"
   },
   {
    "duration": 0,
    "start_time": "2022-07-06T07:34:18.524Z"
   },
   {
    "duration": 0,
    "start_time": "2022-07-06T07:34:18.524Z"
   },
   {
    "duration": 11,
    "start_time": "2022-07-06T07:35:30.043Z"
   },
   {
    "duration": 11,
    "start_time": "2022-07-06T07:35:35.267Z"
   },
   {
    "duration": 991,
    "start_time": "2022-07-06T07:35:42.255Z"
   },
   {
    "duration": 62,
    "start_time": "2022-07-06T07:35:43.248Z"
   },
   {
    "duration": 14,
    "start_time": "2022-07-06T07:35:43.312Z"
   },
   {
    "duration": 295,
    "start_time": "2022-07-06T07:35:43.329Z"
   },
   {
    "duration": 31,
    "start_time": "2022-07-06T07:35:43.626Z"
   },
   {
    "duration": 50,
    "start_time": "2022-07-06T07:35:43.659Z"
   },
   {
    "duration": 25,
    "start_time": "2022-07-06T07:35:43.711Z"
   },
   {
    "duration": 9,
    "start_time": "2022-07-06T07:35:43.738Z"
   },
   {
    "duration": 114,
    "start_time": "2022-07-06T07:35:43.749Z"
   },
   {
    "duration": 0,
    "start_time": "2022-07-06T07:35:43.865Z"
   },
   {
    "duration": 0,
    "start_time": "2022-07-06T07:35:43.866Z"
   },
   {
    "duration": 0,
    "start_time": "2022-07-06T07:35:43.868Z"
   },
   {
    "duration": 0,
    "start_time": "2022-07-06T07:35:43.870Z"
   },
   {
    "duration": 0,
    "start_time": "2022-07-06T07:35:43.871Z"
   },
   {
    "duration": 0,
    "start_time": "2022-07-06T07:35:43.872Z"
   },
   {
    "duration": 0,
    "start_time": "2022-07-06T07:35:43.874Z"
   },
   {
    "duration": 0,
    "start_time": "2022-07-06T07:35:43.876Z"
   },
   {
    "duration": 0,
    "start_time": "2022-07-06T07:35:43.877Z"
   },
   {
    "duration": 0,
    "start_time": "2022-07-06T07:35:43.878Z"
   },
   {
    "duration": 0,
    "start_time": "2022-07-06T07:35:43.878Z"
   },
   {
    "duration": 0,
    "start_time": "2022-07-06T07:35:43.879Z"
   },
   {
    "duration": 0,
    "start_time": "2022-07-06T07:35:43.901Z"
   },
   {
    "duration": 0,
    "start_time": "2022-07-06T07:35:43.902Z"
   },
   {
    "duration": 0,
    "start_time": "2022-07-06T07:35:43.904Z"
   },
   {
    "duration": 11,
    "start_time": "2022-07-06T07:37:31.539Z"
   },
   {
    "duration": 1024,
    "start_time": "2022-07-06T07:37:38.724Z"
   },
   {
    "duration": 63,
    "start_time": "2022-07-06T07:37:39.750Z"
   },
   {
    "duration": 14,
    "start_time": "2022-07-06T07:37:39.814Z"
   },
   {
    "duration": 283,
    "start_time": "2022-07-06T07:37:39.830Z"
   },
   {
    "duration": 30,
    "start_time": "2022-07-06T07:37:40.115Z"
   },
   {
    "duration": 31,
    "start_time": "2022-07-06T07:37:40.147Z"
   },
   {
    "duration": 40,
    "start_time": "2022-07-06T07:37:40.180Z"
   },
   {
    "duration": 6,
    "start_time": "2022-07-06T07:37:40.222Z"
   },
   {
    "duration": 109,
    "start_time": "2022-07-06T07:37:40.230Z"
   },
   {
    "duration": 0,
    "start_time": "2022-07-06T07:37:40.341Z"
   },
   {
    "duration": 0,
    "start_time": "2022-07-06T07:37:40.342Z"
   },
   {
    "duration": 0,
    "start_time": "2022-07-06T07:37:40.343Z"
   },
   {
    "duration": 0,
    "start_time": "2022-07-06T07:37:40.344Z"
   },
   {
    "duration": 0,
    "start_time": "2022-07-06T07:37:40.345Z"
   },
   {
    "duration": 0,
    "start_time": "2022-07-06T07:37:40.346Z"
   },
   {
    "duration": 0,
    "start_time": "2022-07-06T07:37:40.347Z"
   },
   {
    "duration": 0,
    "start_time": "2022-07-06T07:37:40.348Z"
   },
   {
    "duration": 0,
    "start_time": "2022-07-06T07:37:40.349Z"
   },
   {
    "duration": 0,
    "start_time": "2022-07-06T07:37:40.350Z"
   },
   {
    "duration": 0,
    "start_time": "2022-07-06T07:37:40.351Z"
   },
   {
    "duration": 0,
    "start_time": "2022-07-06T07:37:40.352Z"
   },
   {
    "duration": 0,
    "start_time": "2022-07-06T07:37:40.354Z"
   },
   {
    "duration": 0,
    "start_time": "2022-07-06T07:37:40.355Z"
   },
   {
    "duration": 0,
    "start_time": "2022-07-06T07:37:40.356Z"
   },
   {
    "duration": 12,
    "start_time": "2022-07-06T07:39:48.936Z"
   },
   {
    "duration": 1007,
    "start_time": "2022-07-06T07:39:55.730Z"
   },
   {
    "duration": 63,
    "start_time": "2022-07-06T07:39:56.739Z"
   },
   {
    "duration": 14,
    "start_time": "2022-07-06T07:39:56.804Z"
   },
   {
    "duration": 292,
    "start_time": "2022-07-06T07:39:56.820Z"
   },
   {
    "duration": 29,
    "start_time": "2022-07-06T07:39:57.114Z"
   },
   {
    "duration": 34,
    "start_time": "2022-07-06T07:39:57.145Z"
   },
   {
    "duration": 23,
    "start_time": "2022-07-06T07:39:57.200Z"
   },
   {
    "duration": 7,
    "start_time": "2022-07-06T07:39:57.225Z"
   },
   {
    "duration": 8,
    "start_time": "2022-07-06T07:39:57.233Z"
   },
   {
    "duration": 115,
    "start_time": "2022-07-06T07:39:57.243Z"
   },
   {
    "duration": 0,
    "start_time": "2022-07-06T07:39:57.360Z"
   },
   {
    "duration": 0,
    "start_time": "2022-07-06T07:39:57.361Z"
   },
   {
    "duration": 0,
    "start_time": "2022-07-06T07:39:57.363Z"
   },
   {
    "duration": 0,
    "start_time": "2022-07-06T07:39:57.364Z"
   },
   {
    "duration": 0,
    "start_time": "2022-07-06T07:39:57.365Z"
   },
   {
    "duration": 0,
    "start_time": "2022-07-06T07:39:57.365Z"
   },
   {
    "duration": 0,
    "start_time": "2022-07-06T07:39:57.367Z"
   },
   {
    "duration": 0,
    "start_time": "2022-07-06T07:39:57.368Z"
   },
   {
    "duration": 0,
    "start_time": "2022-07-06T07:39:57.369Z"
   },
   {
    "duration": 0,
    "start_time": "2022-07-06T07:39:57.370Z"
   },
   {
    "duration": 0,
    "start_time": "2022-07-06T07:39:57.371Z"
   },
   {
    "duration": 0,
    "start_time": "2022-07-06T07:39:57.372Z"
   },
   {
    "duration": 0,
    "start_time": "2022-07-06T07:39:57.373Z"
   },
   {
    "duration": 0,
    "start_time": "2022-07-06T07:39:57.374Z"
   },
   {
    "duration": 9,
    "start_time": "2022-07-06T07:41:26.828Z"
   },
   {
    "duration": 1086,
    "start_time": "2022-07-06T07:41:32.393Z"
   },
   {
    "duration": 71,
    "start_time": "2022-07-06T07:41:33.481Z"
   },
   {
    "duration": 14,
    "start_time": "2022-07-06T07:41:33.554Z"
   },
   {
    "duration": 320,
    "start_time": "2022-07-06T07:41:33.570Z"
   },
   {
    "duration": 46,
    "start_time": "2022-07-06T07:41:33.892Z"
   },
   {
    "duration": 37,
    "start_time": "2022-07-06T07:41:33.940Z"
   },
   {
    "duration": 51,
    "start_time": "2022-07-06T07:41:33.978Z"
   },
   {
    "duration": 8,
    "start_time": "2022-07-06T07:41:34.030Z"
   },
   {
    "duration": 30,
    "start_time": "2022-07-06T07:41:34.040Z"
   },
   {
    "duration": 193,
    "start_time": "2022-07-06T07:41:34.072Z"
   },
   {
    "duration": 97,
    "start_time": "2022-07-06T07:41:34.267Z"
   },
   {
    "duration": 41,
    "start_time": "2022-07-06T07:41:34.366Z"
   },
   {
    "duration": 134,
    "start_time": "2022-07-06T07:41:34.409Z"
   },
   {
    "duration": 369,
    "start_time": "2022-07-06T07:41:34.545Z"
   },
   {
    "duration": 361,
    "start_time": "2022-07-06T07:41:34.916Z"
   },
   {
    "duration": 416,
    "start_time": "2022-07-06T07:41:35.279Z"
   },
   {
    "duration": 366,
    "start_time": "2022-07-06T07:41:35.696Z"
   },
   {
    "duration": 780,
    "start_time": "2022-07-06T07:41:36.064Z"
   },
   {
    "duration": 86,
    "start_time": "2022-07-06T07:41:36.845Z"
   },
   {
    "duration": 185,
    "start_time": "2022-07-06T07:41:36.933Z"
   },
   {
    "duration": 127,
    "start_time": "2022-07-06T07:41:37.120Z"
   },
   {
    "duration": 193,
    "start_time": "2022-07-06T07:41:37.248Z"
   },
   {
    "duration": 91,
    "start_time": "2022-07-06T07:41:37.443Z"
   },
   {
    "duration": 75,
    "start_time": "2022-07-06T07:41:37.536Z"
   },
   {
    "duration": 20,
    "start_time": "2022-07-06T07:42:08.518Z"
   },
   {
    "duration": 7,
    "start_time": "2022-07-06T07:48:34.735Z"
   },
   {
    "duration": 23,
    "start_time": "2022-07-06T07:48:54.528Z"
   },
   {
    "duration": 17,
    "start_time": "2022-07-06T07:50:07.944Z"
   },
   {
    "duration": 15,
    "start_time": "2022-07-06T07:51:10.270Z"
   },
   {
    "duration": 17,
    "start_time": "2022-07-06T07:51:22.638Z"
   },
   {
    "duration": 18,
    "start_time": "2022-07-06T07:51:49.054Z"
   },
   {
    "duration": 17,
    "start_time": "2022-07-06T07:51:56.645Z"
   },
   {
    "duration": 1051,
    "start_time": "2022-07-06T07:52:48.051Z"
   },
   {
    "duration": 75,
    "start_time": "2022-07-06T07:52:49.104Z"
   },
   {
    "duration": 27,
    "start_time": "2022-07-06T07:52:49.181Z"
   },
   {
    "duration": 299,
    "start_time": "2022-07-06T07:52:49.210Z"
   },
   {
    "duration": 32,
    "start_time": "2022-07-06T07:52:49.511Z"
   },
   {
    "duration": 32,
    "start_time": "2022-07-06T07:52:49.545Z"
   },
   {
    "duration": 24,
    "start_time": "2022-07-06T07:52:49.601Z"
   },
   {
    "duration": 9,
    "start_time": "2022-07-06T07:52:49.626Z"
   },
   {
    "duration": 22,
    "start_time": "2022-07-06T07:52:49.636Z"
   },
   {
    "duration": 40,
    "start_time": "2022-07-06T07:52:49.661Z"
   },
   {
    "duration": 179,
    "start_time": "2022-07-06T07:52:49.703Z"
   },
   {
    "duration": 88,
    "start_time": "2022-07-06T07:52:49.884Z"
   },
   {
    "duration": 47,
    "start_time": "2022-07-06T07:52:49.974Z"
   },
   {
    "duration": 118,
    "start_time": "2022-07-06T07:52:50.023Z"
   },
   {
    "duration": 332,
    "start_time": "2022-07-06T07:52:50.143Z"
   },
   {
    "duration": 326,
    "start_time": "2022-07-06T07:52:50.477Z"
   },
   {
    "duration": 315,
    "start_time": "2022-07-06T07:52:50.805Z"
   },
   {
    "duration": 315,
    "start_time": "2022-07-06T07:52:51.122Z"
   },
   {
    "duration": 348,
    "start_time": "2022-07-06T07:52:51.438Z"
   },
   {
    "duration": 29,
    "start_time": "2022-07-06T07:52:51.788Z"
   },
   {
    "duration": 86,
    "start_time": "2022-07-06T07:52:51.819Z"
   },
   {
    "duration": 58,
    "start_time": "2022-07-06T07:52:51.907Z"
   },
   {
    "duration": 97,
    "start_time": "2022-07-06T07:52:51.966Z"
   },
   {
    "duration": 43,
    "start_time": "2022-07-06T07:52:52.065Z"
   },
   {
    "duration": 18,
    "start_time": "2022-07-06T07:52:52.110Z"
   },
   {
    "duration": 199,
    "start_time": "2022-07-06T08:02:45.460Z"
   },
   {
    "duration": 107,
    "start_time": "2022-07-06T08:08:02.599Z"
   },
   {
    "duration": 189,
    "start_time": "2022-07-06T09:01:52.976Z"
   },
   {
    "duration": 1645,
    "start_time": "2022-07-06T09:02:55.096Z"
   },
   {
    "duration": 102,
    "start_time": "2022-07-06T09:03:55.903Z"
   },
   {
    "duration": 132940,
    "start_time": "2022-07-06T09:04:15.806Z"
   },
   {
    "duration": 1499,
    "start_time": "2022-07-06T09:15:51.255Z"
   },
   {
    "duration": 165,
    "start_time": "2022-07-06T09:20:30.461Z"
   },
   {
    "duration": 176,
    "start_time": "2022-07-06T09:23:32.283Z"
   },
   {
    "duration": 139,
    "start_time": "2022-07-06T09:39:56.457Z"
   },
   {
    "duration": 204,
    "start_time": "2022-07-06T09:40:04.643Z"
   },
   {
    "duration": 429,
    "start_time": "2022-07-06T09:42:05.560Z"
   },
   {
    "duration": 82,
    "start_time": "2022-07-06T09:44:36.742Z"
   },
   {
    "duration": 365,
    "start_time": "2022-07-06T09:44:42.757Z"
   },
   {
    "duration": 372,
    "start_time": "2022-07-06T09:52:39.856Z"
   },
   {
    "duration": 364,
    "start_time": "2022-07-06T09:53:02.217Z"
   },
   {
    "duration": 366,
    "start_time": "2022-07-06T09:54:34.577Z"
   },
   {
    "duration": 1058,
    "start_time": "2022-07-06T16:26:57.459Z"
   },
   {
    "duration": 64,
    "start_time": "2022-07-06T16:26:58.519Z"
   },
   {
    "duration": 15,
    "start_time": "2022-07-06T16:26:58.585Z"
   },
   {
    "duration": 287,
    "start_time": "2022-07-06T16:26:58.603Z"
   },
   {
    "duration": 32,
    "start_time": "2022-07-06T16:26:58.892Z"
   },
   {
    "duration": 54,
    "start_time": "2022-07-06T16:26:58.926Z"
   },
   {
    "duration": 25,
    "start_time": "2022-07-06T16:26:58.982Z"
   },
   {
    "duration": 9,
    "start_time": "2022-07-06T16:26:59.008Z"
   },
   {
    "duration": 17,
    "start_time": "2022-07-06T16:26:59.018Z"
   },
   {
    "duration": 22,
    "start_time": "2022-07-06T16:26:59.065Z"
   },
   {
    "duration": 180,
    "start_time": "2022-07-06T16:26:59.089Z"
   },
   {
    "duration": 94,
    "start_time": "2022-07-06T16:26:59.271Z"
   },
   {
    "duration": 31,
    "start_time": "2022-07-06T16:26:59.367Z"
   },
   {
    "duration": 322,
    "start_time": "2022-07-06T16:26:59.400Z"
   },
   {
    "duration": 318,
    "start_time": "2022-07-06T16:26:59.724Z"
   },
   {
    "duration": 337,
    "start_time": "2022-07-06T16:27:00.044Z"
   },
   {
    "duration": 333,
    "start_time": "2022-07-06T16:27:00.391Z"
   },
   {
    "duration": 321,
    "start_time": "2022-07-06T16:27:00.727Z"
   },
   {
    "duration": 346,
    "start_time": "2022-07-06T16:27:01.050Z"
   },
   {
    "duration": 21,
    "start_time": "2022-07-06T16:27:01.398Z"
   },
   {
    "duration": 84,
    "start_time": "2022-07-06T16:27:01.421Z"
   },
   {
    "duration": 74,
    "start_time": "2022-07-06T16:27:01.506Z"
   },
   {
    "duration": 90,
    "start_time": "2022-07-06T16:27:01.582Z"
   },
   {
    "duration": 27,
    "start_time": "2022-07-06T16:27:01.673Z"
   },
   {
    "duration": 16,
    "start_time": "2022-07-06T16:27:01.702Z"
   },
   {
    "duration": 168,
    "start_time": "2022-07-06T16:27:53.280Z"
   },
   {
    "duration": 81,
    "start_time": "2022-07-06T16:28:18.886Z"
   },
   {
    "duration": 153,
    "start_time": "2022-07-06T16:29:17.507Z"
   },
   {
    "duration": 32,
    "start_time": "2022-07-06T16:30:05.016Z"
   },
   {
    "duration": 29,
    "start_time": "2022-07-06T16:30:19.760Z"
   },
   {
    "duration": 28,
    "start_time": "2022-07-06T16:33:24.164Z"
   },
   {
    "duration": 27,
    "start_time": "2022-07-06T16:33:37.100Z"
   },
   {
    "duration": 339,
    "start_time": "2022-07-06T16:42:27.709Z"
   },
   {
    "duration": 328,
    "start_time": "2022-07-06T16:42:45.028Z"
   },
   {
    "duration": 320,
    "start_time": "2022-07-06T16:43:06.334Z"
   },
   {
    "duration": 328,
    "start_time": "2022-07-06T16:44:54.461Z"
   },
   {
    "duration": 337,
    "start_time": "2022-07-06T16:45:16.620Z"
   },
   {
    "duration": 431,
    "start_time": "2022-07-06T16:57:58.059Z"
   },
   {
    "duration": 327,
    "start_time": "2022-07-06T16:59:50.885Z"
   },
   {
    "duration": 334,
    "start_time": "2022-07-06T17:00:56.246Z"
   },
   {
    "duration": 314,
    "start_time": "2022-07-06T17:02:57.748Z"
   },
   {
    "duration": 318,
    "start_time": "2022-07-06T17:04:48.086Z"
   },
   {
    "duration": 326,
    "start_time": "2022-07-06T17:04:55.925Z"
   },
   {
    "duration": 441,
    "start_time": "2022-07-06T17:06:05.293Z"
   },
   {
    "duration": 346,
    "start_time": "2022-07-06T17:06:14.568Z"
   },
   {
    "duration": 316,
    "start_time": "2022-07-06T17:08:42.764Z"
   },
   {
    "duration": 309,
    "start_time": "2022-07-06T17:09:43.999Z"
   },
   {
    "duration": 332,
    "start_time": "2022-07-06T17:10:39.268Z"
   },
   {
    "duration": 304,
    "start_time": "2022-07-06T17:11:39.799Z"
   },
   {
    "duration": 438,
    "start_time": "2022-07-06T17:12:16.122Z"
   },
   {
    "duration": 302,
    "start_time": "2022-07-06T17:12:36.296Z"
   },
   {
    "duration": 295,
    "start_time": "2022-07-06T17:13:03.585Z"
   },
   {
    "duration": 316,
    "start_time": "2022-07-06T17:13:22.816Z"
   },
   {
    "duration": 45,
    "start_time": "2022-07-06T17:14:17.896Z"
   },
   {
    "duration": 61,
    "start_time": "2022-07-06T17:15:41.796Z"
   },
   {
    "duration": 50,
    "start_time": "2022-07-06T17:18:47.101Z"
   },
   {
    "duration": 45,
    "start_time": "2022-07-06T17:29:55.630Z"
   },
   {
    "duration": 351,
    "start_time": "2022-07-06T17:30:48.693Z"
   },
   {
    "duration": 21,
    "start_time": "2022-07-06T17:31:52.971Z"
   },
   {
    "duration": 17,
    "start_time": "2022-07-06T17:32:03.699Z"
   },
   {
    "duration": 17,
    "start_time": "2022-07-06T17:32:17.866Z"
   },
   {
    "duration": 19,
    "start_time": "2022-07-06T17:32:22.817Z"
   },
   {
    "duration": 16,
    "start_time": "2022-07-06T17:32:31.314Z"
   },
   {
    "duration": 15,
    "start_time": "2022-07-06T17:33:13.625Z"
   },
   {
    "duration": 13,
    "start_time": "2022-07-06T17:33:37.873Z"
   },
   {
    "duration": 15,
    "start_time": "2022-07-06T17:34:32.416Z"
   },
   {
    "duration": 24,
    "start_time": "2022-07-06T17:34:39.593Z"
   },
   {
    "duration": 15,
    "start_time": "2022-07-06T17:35:01.055Z"
   },
   {
    "duration": 13,
    "start_time": "2022-07-06T17:35:24.661Z"
   },
   {
    "duration": 33,
    "start_time": "2022-07-06T17:35:48.584Z"
   },
   {
    "duration": 61,
    "start_time": "2022-07-06T17:36:14.505Z"
   },
   {
    "duration": 13,
    "start_time": "2022-07-06T17:36:49.848Z"
   },
   {
    "duration": 1136,
    "start_time": "2022-07-06T18:03:10.963Z"
   },
   {
    "duration": 68,
    "start_time": "2022-07-06T18:03:12.101Z"
   },
   {
    "duration": 19,
    "start_time": "2022-07-06T18:03:12.172Z"
   },
   {
    "duration": 301,
    "start_time": "2022-07-06T18:03:12.193Z"
   },
   {
    "duration": 33,
    "start_time": "2022-07-06T18:03:12.495Z"
   },
   {
    "duration": 63,
    "start_time": "2022-07-06T18:03:12.530Z"
   },
   {
    "duration": 33,
    "start_time": "2022-07-06T18:03:12.595Z"
   },
   {
    "duration": 9,
    "start_time": "2022-07-06T18:03:12.630Z"
   },
   {
    "duration": 27,
    "start_time": "2022-07-06T18:03:12.663Z"
   },
   {
    "duration": 38,
    "start_time": "2022-07-06T18:03:12.693Z"
   },
   {
    "duration": 210,
    "start_time": "2022-07-06T18:03:12.734Z"
   },
   {
    "duration": 94,
    "start_time": "2022-07-06T18:03:12.946Z"
   },
   {
    "duration": 43,
    "start_time": "2022-07-06T18:03:13.041Z"
   },
   {
    "duration": 367,
    "start_time": "2022-07-06T18:03:13.086Z"
   },
   {
    "duration": 341,
    "start_time": "2022-07-06T18:03:13.463Z"
   },
   {
    "duration": 350,
    "start_time": "2022-07-06T18:03:13.806Z"
   },
   {
    "duration": 335,
    "start_time": "2022-07-06T18:03:14.157Z"
   },
   {
    "duration": 338,
    "start_time": "2022-07-06T18:03:14.494Z"
   },
   {
    "duration": 357,
    "start_time": "2022-07-06T18:03:14.834Z"
   },
   {
    "duration": 22,
    "start_time": "2022-07-06T18:03:15.193Z"
   },
   {
    "duration": 92,
    "start_time": "2022-07-06T18:03:15.216Z"
   },
   {
    "duration": 69,
    "start_time": "2022-07-06T18:03:15.310Z"
   },
   {
    "duration": 103,
    "start_time": "2022-07-06T18:03:15.381Z"
   },
   {
    "duration": 342,
    "start_time": "2022-07-06T18:03:15.486Z"
   },
   {
    "duration": 0,
    "start_time": "2022-07-06T18:03:15.830Z"
   },
   {
    "duration": 305,
    "start_time": "2022-07-06T18:06:21.005Z"
   },
   {
    "duration": 14,
    "start_time": "2022-07-06T18:07:20.076Z"
   },
   {
    "duration": 13,
    "start_time": "2022-07-06T18:07:31.298Z"
   },
   {
    "duration": 10,
    "start_time": "2022-07-06T18:07:48.608Z"
   },
   {
    "duration": 12,
    "start_time": "2022-07-06T18:07:56.051Z"
   },
   {
    "duration": 1114,
    "start_time": "2022-07-06T18:08:01.098Z"
   },
   {
    "duration": 76,
    "start_time": "2022-07-06T18:08:02.214Z"
   },
   {
    "duration": 15,
    "start_time": "2022-07-06T18:08:02.292Z"
   },
   {
    "duration": 328,
    "start_time": "2022-07-06T18:08:02.309Z"
   },
   {
    "duration": 59,
    "start_time": "2022-07-06T18:08:02.640Z"
   },
   {
    "duration": 43,
    "start_time": "2022-07-06T18:08:02.701Z"
   },
   {
    "duration": 50,
    "start_time": "2022-07-06T18:08:02.747Z"
   },
   {
    "duration": 11,
    "start_time": "2022-07-06T18:08:02.798Z"
   },
   {
    "duration": 25,
    "start_time": "2022-07-06T18:08:02.811Z"
   },
   {
    "duration": 51,
    "start_time": "2022-07-06T18:08:02.838Z"
   },
   {
    "duration": 214,
    "start_time": "2022-07-06T18:08:02.890Z"
   },
   {
    "duration": 95,
    "start_time": "2022-07-06T18:08:03.105Z"
   },
   {
    "duration": 28,
    "start_time": "2022-07-06T18:08:03.201Z"
   },
   {
    "duration": 388,
    "start_time": "2022-07-06T18:08:03.232Z"
   },
   {
    "duration": 355,
    "start_time": "2022-07-06T18:08:03.622Z"
   },
   {
    "duration": 353,
    "start_time": "2022-07-06T18:08:03.980Z"
   },
   {
    "duration": 351,
    "start_time": "2022-07-06T18:08:04.335Z"
   },
   {
    "duration": 347,
    "start_time": "2022-07-06T18:08:04.689Z"
   },
   {
    "duration": 385,
    "start_time": "2022-07-06T18:08:05.038Z"
   },
   {
    "duration": 23,
    "start_time": "2022-07-06T18:08:05.425Z"
   },
   {
    "duration": 85,
    "start_time": "2022-07-06T18:08:05.449Z"
   },
   {
    "duration": 77,
    "start_time": "2022-07-06T18:08:05.536Z"
   },
   {
    "duration": 109,
    "start_time": "2022-07-06T18:08:05.615Z"
   },
   {
    "duration": 44,
    "start_time": "2022-07-06T18:08:05.726Z"
   },
   {
    "duration": 15,
    "start_time": "2022-07-06T18:08:05.772Z"
   },
   {
    "duration": 73,
    "start_time": "2022-07-06T18:15:48.410Z"
   },
   {
    "duration": 1167,
    "start_time": "2022-07-07T10:05:04.493Z"
   },
   {
    "duration": 105,
    "start_time": "2022-07-07T10:05:05.662Z"
   },
   {
    "duration": 14,
    "start_time": "2022-07-07T10:05:05.769Z"
   },
   {
    "duration": 307,
    "start_time": "2022-07-07T10:05:05.785Z"
   },
   {
    "duration": 38,
    "start_time": "2022-07-07T10:05:06.094Z"
   },
   {
    "duration": 32,
    "start_time": "2022-07-07T10:05:06.133Z"
   },
   {
    "duration": 46,
    "start_time": "2022-07-07T10:05:06.167Z"
   },
   {
    "duration": 8,
    "start_time": "2022-07-07T10:05:06.215Z"
   },
   {
    "duration": 55,
    "start_time": "2022-07-07T10:05:06.225Z"
   },
   {
    "duration": 29,
    "start_time": "2022-07-07T10:05:06.282Z"
   },
   {
    "duration": 185,
    "start_time": "2022-07-07T10:05:06.313Z"
   },
   {
    "duration": 91,
    "start_time": "2022-07-07T10:05:06.500Z"
   },
   {
    "duration": 34,
    "start_time": "2022-07-07T10:05:06.604Z"
   },
   {
    "duration": 388,
    "start_time": "2022-07-07T10:05:06.639Z"
   },
   {
    "duration": 385,
    "start_time": "2022-07-07T10:05:07.029Z"
   },
   {
    "duration": 391,
    "start_time": "2022-07-07T10:05:07.416Z"
   },
   {
    "duration": 330,
    "start_time": "2022-07-07T10:05:07.816Z"
   },
   {
    "duration": 334,
    "start_time": "2022-07-07T10:05:08.148Z"
   },
   {
    "duration": 379,
    "start_time": "2022-07-07T10:05:08.484Z"
   },
   {
    "duration": 26,
    "start_time": "2022-07-07T10:05:08.864Z"
   },
   {
    "duration": 72,
    "start_time": "2022-07-07T10:05:08.900Z"
   },
   {
    "duration": 75,
    "start_time": "2022-07-07T10:05:08.973Z"
   },
   {
    "duration": 88,
    "start_time": "2022-07-07T10:05:09.050Z"
   },
   {
    "duration": 22,
    "start_time": "2022-07-07T10:05:09.139Z"
   },
   {
    "duration": 16,
    "start_time": "2022-07-07T10:05:09.162Z"
   },
   {
    "duration": 23,
    "start_time": "2022-07-07T10:12:43.009Z"
   },
   {
    "duration": 33,
    "start_time": "2022-07-07T10:12:58.822Z"
   }
  ],
  "celltoolbar": "Необработанный формат ячейки",
  "kernelspec": {
   "display_name": "Python 3 (ipykernel)",
   "language": "python",
   "name": "python3"
  },
  "language_info": {
   "codemirror_mode": {
    "name": "ipython",
    "version": 3
   },
   "file_extension": ".py",
   "mimetype": "text/x-python",
   "name": "python",
   "nbconvert_exporter": "python",
   "pygments_lexer": "ipython3",
   "version": "3.9.12"
  },
  "toc": {
   "base_numbering": 1,
   "nav_menu": {
    "height": "336px",
    "width": "245px"
   },
   "number_sections": true,
   "sideBar": true,
   "skip_h1_title": true,
   "title_cell": "Table of Contents",
   "title_sidebar": "Contents",
   "toc_cell": true,
   "toc_position": {
    "height": "calc(100% - 180px)",
    "left": "10px",
    "top": "150px",
    "width": "316.391px"
   },
   "toc_section_display": true,
   "toc_window_display": false
  }
 },
 "nbformat": 4,
 "nbformat_minor": 2
}
