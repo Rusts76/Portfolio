{
 "cells": [
  {
   "cell_type": "markdown",
   "id": "d3fee766",
   "metadata": {},
   "source": [
    "## **Комментарий ревьюера**\n",
    "\n",
    "Привет, Рустем 👋\n",
    "\n",
    "Меня зовут Кузьмич Валентин, и я буду проверять твой проект. Предлагаю сразу договориться общаться на «ты», если для тебя это не уместно, то дай, пожалуйста, знать, будем общаться на «вы».\n",
    "\n",
    "### **Краткое резюме по ревью**\n",
    "\n",
    "<div style=\"border-radius: 15px; box-shadow: 2px 2px 4px; border: 1px solid; background:Gainsboro; padding: 20px\">\n",
    "    \n",
    "Видны твои старания при работе над данным проектом. Большинство основных этапов в работе сделано хорошо:\n",
    "- есть много сильных и интересных алгоритмов 🤩\n",
    "- детально изучены многие тонкости данных\n",
    "- здорово сделана предобработка данных\n",
    "- качественно исследованы данные\n",
    "- сделано много верных промежуточных выводов, основанных на полученных данных\n",
    "\n",
    "Твоего внимания требует:\n",
    "- дополнение предобработки данных\n",
    "- корректный отброс дублей\n",
    "- пересмотр вывода\n",
    "\n",
    "\n",
    "Я описал их в комментариях, которые помечены цветом(красным, желтым), после их доработки я смогу принять работу.\n",
    "    \n",
    "Спасибо тебе за твой труд! Я на все 100% уверен, что у тебя все получится, и с нетерпением буду ждать твою работу на повторное ревью 😉\n",
    "\n",
    "</div>\n",
    "\n",
    "### **PS:**\n",
    "\n",
    "Я бы очень хотел помочь тебе в достижении финальной цели, поэтому будет здорово, если ты поделишься со мной — для чего тебе нужен данный курс?\n",
    "\n",
    "Если ты не против, то опиши, пожалуйста, свои цели в ячейке ниже, оформленной как «Комментарий от студента», я постараюсь дать тебе максимум полезных советов в достижении твоих целей **в рамках данного проекта** 😃\n",
    "\n",
    "### **Правила оформления:**\n",
    "\n",
    "По ходу тетрадки ты найдешь комментарии к проекту, они будут в отдельных ячейках Markdown с заголовком «Комментарий ревьюера». Постарайся учесть эти комментарии для дальнейших проектов. Я использую заголовки в комментариях, они изменят твое оглавление. Но тебе будет удобно перемещаться от комментария к комментарию. А перед перемещением проекта в портфолио просто уберешь данные комментарии.\n",
    "\n",
    "Пожалуйста, **не перемещай, не изменяй и не удаляй мои комментарии**. Всё это поможет выполнить повторную проверку твоего проекта быстрее.\n",
    "\n",
    "Я буду красить комментарии цветом:\n",
    "\n",
    "<div class=\"alert alert-danger\"; style=\"border-left: 7px solid FireBrick\">\n",
    "<h4> ❌ <font color=\"FireBrick\">Комментарий ревьюера (красный)</font></h4>\n",
    "\n",
    "Такой комментарий нужно исправить обязательно, он критически влияет на удачное выполнение проекта.\n",
    "\n",
    "Также жду от тебя комментарии, где вкратце опишешь изменения, которые были внесены.\n",
    "</div>\n",
    "\n",
    "<div class=\"alert alert-warning\"; style=\"border-left: 7px solid Gold\">\n",
    "<h4> ⚠️ <font color=\"DarkGoldenRod\">Комментарий ревьюера (желтый)</font></h4>\n",
    "\n",
    "Такой комментарий является рекомендацией или советом. Можешь использовать их на своё усмотрение.\n",
    "    \n",
    "В случае изменений кода, опиши, пожалуйста, вкратце то, что изменилось. Если изменений не было, то просто опиши свои мысли на эту тему.\n",
    "</div>\n",
    "\n",
    "<div class=\"alert alert-success\"; style=\"border-left: 7px solid green\">\n",
    "<h4> ✔️ <font color=\"green\">Комментарий ревьюера (зеленый)</font></h4>\n",
    "\n",
    "Такой комментарий говорит о том, что было сделано что-то качественное и правильное 😃\n",
    "    \n",
    "Я не буду ждать твоего комментария, но буду ему очень рад 🤗\n",
    "</div>\n",
    "\n",
    "Чтобы мы были на одной волне, рекомендую общаться в том же стиле 😊 Твои ответы на мои комментарии будут подкрашиваться в синий цвет.\n",
    "\n",
    "Ниже я оформил образец для твоего удобства, тебе остается только добавить после моего комментария ячейку с типом **Markdown**, скопировать туда код(чтобы увидеть код дважды, кликни на ячейку) из образца и написать свои мысли по поводу комментария."
   ]
  },
  {
   "cell_type": "markdown",
   "id": "fb6d11cc",
   "metadata": {},
   "source": [
    "<div class=\"alert alert-info\"; style=\"border-left: 7px solid SteelBlue\">\n",
    "<h5>🎓 <font color=\"SteelBlue\">Комментарий от студента (синий)</font></h5>    \n",
    "\n",
    "Привет, Валентин.\n",
    "    Спасибо за проверку и замечания. Я прохожу обучение, потому что я хочу сменить сферу деятельности. Анализ данных мне очень интересен.\n",
    "\n",
    "</div>"
   ]
  },
  {
   "cell_type": "markdown",
   "id": "b2db34f6",
   "metadata": {},
   "source": [
    "## **Комментарий ревьюера v2**\n",
    "\n",
    "### **Советы ревьюера**\n",
    "\n",
    "Рад, что тобою был выбран данный курс, уверен, он поможет тебе в достижении твоих целей.\n",
    "\n",
    "Чтобы было проще начать карьеру пройди курс проф-ориентации в Я.Практикуме, у тебя он будет бесплатно, поможет грамотно составить резюме и сопроводительное, это тебе сильно поможет. И не бойся, если сразу не все получится, искать первую работу 3-4 месяца нормально)\n",
    "\n",
    "### **Краткое резюме по ревью**\n",
    "<div style=\"border-radius: 15px; box-shadow: 2px 2px 4px; border: 1px solid; background:Gainsboro; padding: 20px\">\n",
    "\n",
    "Молодец, исправлено:\n",
    "- дополнение предобработки данных\n",
    "- корректный отброс дублей\n",
    "- пересмотр вывода\n",
    "\n",
    "Спасибо тебе за твой труд! Я готов принять работу. Успехов в дальнейшем обучении!\n",
    "\n",
    "</div>"
   ]
  },
  {
   "cell_type": "markdown",
   "id": "ca333c09",
   "metadata": {},
   "source": [
    "# Исследование надежности заемщиков."
   ]
  },
  {
   "cell_type": "markdown",
   "id": "93a1f4dc",
   "metadata": {},
   "source": [
    "### Шаг 1. Обзор данных"
   ]
  },
  {
   "cell_type": "code",
   "execution_count": 1,
   "id": "2bc384df",
   "metadata": {},
   "outputs": [
    {
     "name": "stdout",
     "output_type": "stream",
     "text": [
      "<class 'pandas.core.frame.DataFrame'>\n",
      "RangeIndex: 21525 entries, 0 to 21524\n",
      "Data columns (total 12 columns):\n",
      " #   Column            Non-Null Count  Dtype  \n",
      "---  ------            --------------  -----  \n",
      " 0   children          21525 non-null  int64  \n",
      " 1   days_employed     19351 non-null  float64\n",
      " 2   dob_years         21525 non-null  int64  \n",
      " 3   education         21525 non-null  object \n",
      " 4   education_id      21525 non-null  int64  \n",
      " 5   family_status     21525 non-null  object \n",
      " 6   family_status_id  21525 non-null  int64  \n",
      " 7   gender            21525 non-null  object \n",
      " 8   income_type       21525 non-null  object \n",
      " 9   debt              21525 non-null  int64  \n",
      " 10  total_income      19351 non-null  float64\n",
      " 11  purpose           21525 non-null  object \n",
      "dtypes: float64(2), int64(5), object(5)\n",
      "memory usage: 2.0+ MB\n"
     ]
    }
   ],
   "source": [
    "import pandas as pd\n",
    "data = pd.read_csv('/datasets/data.csv')\n",
    "data.info()"
   ]
  },
  {
   "cell_type": "markdown",
   "id": "79a1e265",
   "metadata": {},
   "source": [
    "<div class=\"alert alert-warning\"; style=\"border-left: 7px solid Gold\">\n",
    "<h5> ⚠️ <font color=\"DarkGoldenRod\">Комментарий ревьюера (желтый)</font></h5>\n",
    "\n",
    "Стоит загружать все библиотеки в начале проекта, лучше в одной ячейке. Так тебе будет сложней случайно удалить ячейку с загрузкой нужной библиотеки и сделать код не работающим. А получатель твоего отчета сразу поймет, какие библиотеки ты используешь и какие ему нужно установить для запуска твоего проекта.\n",
    "\n",
    "</div>"
   ]
  },
  {
   "cell_type": "markdown",
   "id": "d4171998",
   "metadata": {},
   "source": [
    "<div class=\"alert alert-info\"; style=\"border-left: 7px solid SteelBlue\">\n",
    "<h5>🎓 <font color=\"SteelBlue\">Комментарий от студента (синий)</font></h5>    \n",
    "\n",
    "Спасибо за совет, буду использовать это в дальнейших проектах.\n",
    "\n",
    "</div>"
   ]
  },
  {
   "cell_type": "markdown",
   "id": "b7f50d3f",
   "metadata": {},
   "source": [
    "### Шаг 2.1 Заполнение пропусков"
   ]
  },
  {
   "cell_type": "code",
   "execution_count": 2,
   "id": "c53d3d65",
   "metadata": {},
   "outputs": [],
   "source": [
    "total_income_median = data['total_income'].median()\n",
    "data['total_income'] = data['total_income'].fillna(total_income_median)"
   ]
  },
  {
   "cell_type": "markdown",
   "id": "8248013e",
   "metadata": {},
   "source": [
    "В столбце total_income обнаружены пропущенные данные, пропуски в 2174 строках, это составляет 10% от общего количества записей. В столбце days_employed количество пропусков равно также 2174, или 10% от общего объема.\n",
    "Если пропуск в столбце days_employed, то пропуск и в столбце total_income. Скорее всего, это связано с тем, что информация в этих столбцах не обязательна для заполнения.\n",
    "Заполнение пропусков в столбце total_income наиболее корректно медианным значением, поскольку выгрузка банка включает сведения о большом количестве клиентов с очень различающимся уровнем дохода. Среднее арифметическое в данной ситуации значительно выше медианного значения. Удаление строк с пропусками нецелесообразно, потому что эти строки содержат информацию, необходимую для проверки основной гипотезы."
   ]
  },
  {
   "cell_type": "markdown",
   "id": "f05abc68",
   "metadata": {},
   "source": [
    "<div class=\"alert alert-success\"; style=\"border-left: 7px solid green\">\n",
    "<h5> ✔️ <font color=\"green\">Комментарий ревьюера (зеленый)</font></h5>\n",
    "\n",
    "Спасибо, пропуски заполнены корректно!\n",
    "\n",
    "</div>"
   ]
  },
  {
   "cell_type": "markdown",
   "id": "a187f843",
   "metadata": {},
   "source": [
    "### Шаг 2.2 Проверка данных на аномалии и исправления."
   ]
  },
  {
   "cell_type": "code",
   "execution_count": 3,
   "id": "353b9131",
   "metadata": {},
   "outputs": [
    {
     "data": {
      "text/html": [
       "<div>\n",
       "<style scoped>\n",
       "    .dataframe tbody tr th:only-of-type {\n",
       "        vertical-align: middle;\n",
       "    }\n",
       "\n",
       "    .dataframe tbody tr th {\n",
       "        vertical-align: top;\n",
       "    }\n",
       "\n",
       "    .dataframe thead th {\n",
       "        text-align: right;\n",
       "    }\n",
       "</style>\n",
       "<table border=\"1\" class=\"dataframe\">\n",
       "  <thead>\n",
       "    <tr style=\"text-align: right;\">\n",
       "      <th></th>\n",
       "      <th>children</th>\n",
       "      <th>days_employed</th>\n",
       "      <th>dob_years</th>\n",
       "      <th>education</th>\n",
       "      <th>education_id</th>\n",
       "      <th>family_status</th>\n",
       "      <th>family_status_id</th>\n",
       "      <th>gender</th>\n",
       "      <th>income_type</th>\n",
       "      <th>debt</th>\n",
       "      <th>total_income</th>\n",
       "      <th>purpose</th>\n",
       "    </tr>\n",
       "  </thead>\n",
       "  <tbody>\n",
       "    <tr>\n",
       "      <th>99</th>\n",
       "      <td>0.0</td>\n",
       "      <td>14439.234121</td>\n",
       "      <td>0</td>\n",
       "      <td>Среднее</td>\n",
       "      <td>1</td>\n",
       "      <td>женат / замужем</td>\n",
       "      <td>0</td>\n",
       "      <td>F</td>\n",
       "      <td>пенсионер</td>\n",
       "      <td>0</td>\n",
       "      <td>71291.522491</td>\n",
       "      <td>автомобиль</td>\n",
       "    </tr>\n",
       "    <tr>\n",
       "      <th>149</th>\n",
       "      <td>0.0</td>\n",
       "      <td>2664.273168</td>\n",
       "      <td>0</td>\n",
       "      <td>среднее</td>\n",
       "      <td>1</td>\n",
       "      <td>в разводе</td>\n",
       "      <td>3</td>\n",
       "      <td>F</td>\n",
       "      <td>сотрудник</td>\n",
       "      <td>0</td>\n",
       "      <td>70176.435951</td>\n",
       "      <td>операции с жильем</td>\n",
       "    </tr>\n",
       "    <tr>\n",
       "      <th>270</th>\n",
       "      <td>3.0</td>\n",
       "      <td>1872.663186</td>\n",
       "      <td>0</td>\n",
       "      <td>среднее</td>\n",
       "      <td>1</td>\n",
       "      <td>женат / замужем</td>\n",
       "      <td>0</td>\n",
       "      <td>F</td>\n",
       "      <td>сотрудник</td>\n",
       "      <td>0</td>\n",
       "      <td>102166.458894</td>\n",
       "      <td>ремонт жилью</td>\n",
       "    </tr>\n",
       "    <tr>\n",
       "      <th>578</th>\n",
       "      <td>0.0</td>\n",
       "      <td>16577.356876</td>\n",
       "      <td>0</td>\n",
       "      <td>среднее</td>\n",
       "      <td>1</td>\n",
       "      <td>женат / замужем</td>\n",
       "      <td>0</td>\n",
       "      <td>F</td>\n",
       "      <td>пенсионер</td>\n",
       "      <td>0</td>\n",
       "      <td>97620.687042</td>\n",
       "      <td>строительство собственной недвижимости</td>\n",
       "    </tr>\n",
       "    <tr>\n",
       "      <th>1040</th>\n",
       "      <td>0.0</td>\n",
       "      <td>1158.029561</td>\n",
       "      <td>0</td>\n",
       "      <td>высшее</td>\n",
       "      <td>0</td>\n",
       "      <td>в разводе</td>\n",
       "      <td>3</td>\n",
       "      <td>F</td>\n",
       "      <td>компаньон</td>\n",
       "      <td>0</td>\n",
       "      <td>303994.134987</td>\n",
       "      <td>свой автомобиль</td>\n",
       "    </tr>\n",
       "    <tr>\n",
       "      <th>...</th>\n",
       "      <td>...</td>\n",
       "      <td>...</td>\n",
       "      <td>...</td>\n",
       "      <td>...</td>\n",
       "      <td>...</td>\n",
       "      <td>...</td>\n",
       "      <td>...</td>\n",
       "      <td>...</td>\n",
       "      <td>...</td>\n",
       "      <td>...</td>\n",
       "      <td>...</td>\n",
       "      <td>...</td>\n",
       "    </tr>\n",
       "    <tr>\n",
       "      <th>19829</th>\n",
       "      <td>0.0</td>\n",
       "      <td>2194.220567</td>\n",
       "      <td>0</td>\n",
       "      <td>среднее</td>\n",
       "      <td>1</td>\n",
       "      <td>женат / замужем</td>\n",
       "      <td>0</td>\n",
       "      <td>F</td>\n",
       "      <td>сотрудник</td>\n",
       "      <td>0</td>\n",
       "      <td>145017.937533</td>\n",
       "      <td>жилье</td>\n",
       "    </tr>\n",
       "    <tr>\n",
       "      <th>20462</th>\n",
       "      <td>0.0</td>\n",
       "      <td>14113.952856</td>\n",
       "      <td>0</td>\n",
       "      <td>среднее</td>\n",
       "      <td>1</td>\n",
       "      <td>женат / замужем</td>\n",
       "      <td>0</td>\n",
       "      <td>F</td>\n",
       "      <td>пенсионер</td>\n",
       "      <td>0</td>\n",
       "      <td>259193.920299</td>\n",
       "      <td>покупка своего жилья</td>\n",
       "    </tr>\n",
       "    <tr>\n",
       "      <th>20577</th>\n",
       "      <td>0.0</td>\n",
       "      <td>13822.552977</td>\n",
       "      <td>0</td>\n",
       "      <td>среднее</td>\n",
       "      <td>1</td>\n",
       "      <td>Не женат / не замужем</td>\n",
       "      <td>4</td>\n",
       "      <td>F</td>\n",
       "      <td>пенсионер</td>\n",
       "      <td>0</td>\n",
       "      <td>129788.762899</td>\n",
       "      <td>недвижимость</td>\n",
       "    </tr>\n",
       "    <tr>\n",
       "      <th>21179</th>\n",
       "      <td>2.0</td>\n",
       "      <td>108.967042</td>\n",
       "      <td>0</td>\n",
       "      <td>высшее</td>\n",
       "      <td>0</td>\n",
       "      <td>женат / замужем</td>\n",
       "      <td>0</td>\n",
       "      <td>M</td>\n",
       "      <td>компаньон</td>\n",
       "      <td>0</td>\n",
       "      <td>240702.007382</td>\n",
       "      <td>строительство жилой недвижимости</td>\n",
       "    </tr>\n",
       "    <tr>\n",
       "      <th>21313</th>\n",
       "      <td>0.0</td>\n",
       "      <td>1268.487728</td>\n",
       "      <td>0</td>\n",
       "      <td>среднее</td>\n",
       "      <td>1</td>\n",
       "      <td>Не женат / не замужем</td>\n",
       "      <td>4</td>\n",
       "      <td>M</td>\n",
       "      <td>сотрудник</td>\n",
       "      <td>0</td>\n",
       "      <td>152419.184851</td>\n",
       "      <td>операции с жильем</td>\n",
       "    </tr>\n",
       "  </tbody>\n",
       "</table>\n",
       "<p>101 rows × 12 columns</p>\n",
       "</div>"
      ],
      "text/plain": [
       "       children  days_employed  dob_years education  education_id  \\\n",
       "99          0.0   14439.234121          0   Среднее             1   \n",
       "149         0.0    2664.273168          0   среднее             1   \n",
       "270         3.0    1872.663186          0   среднее             1   \n",
       "578         0.0   16577.356876          0   среднее             1   \n",
       "1040        0.0    1158.029561          0    высшее             0   \n",
       "...         ...            ...        ...       ...           ...   \n",
       "19829       0.0    2194.220567          0   среднее             1   \n",
       "20462       0.0   14113.952856          0   среднее             1   \n",
       "20577       0.0   13822.552977          0   среднее             1   \n",
       "21179       2.0     108.967042          0    высшее             0   \n",
       "21313       0.0    1268.487728          0   среднее             1   \n",
       "\n",
       "               family_status  family_status_id gender income_type  debt  \\\n",
       "99           женат / замужем                 0      F   пенсионер     0   \n",
       "149                в разводе                 3      F   сотрудник     0   \n",
       "270          женат / замужем                 0      F   сотрудник     0   \n",
       "578          женат / замужем                 0      F   пенсионер     0   \n",
       "1040               в разводе                 3      F   компаньон     0   \n",
       "...                      ...               ...    ...         ...   ...   \n",
       "19829        женат / замужем                 0      F   сотрудник     0   \n",
       "20462        женат / замужем                 0      F   пенсионер     0   \n",
       "20577  Не женат / не замужем                 4      F   пенсионер     0   \n",
       "21179        женат / замужем                 0      M   компаньон     0   \n",
       "21313  Не женат / не замужем                 4      M   сотрудник     0   \n",
       "\n",
       "        total_income                                 purpose  \n",
       "99      71291.522491                              автомобиль  \n",
       "149     70176.435951                       операции с жильем  \n",
       "270    102166.458894                            ремонт жилью  \n",
       "578     97620.687042  строительство собственной недвижимости  \n",
       "1040   303994.134987                         свой автомобиль  \n",
       "...              ...                                     ...  \n",
       "19829  145017.937533                                   жилье  \n",
       "20462  259193.920299                    покупка своего жилья  \n",
       "20577  129788.762899                            недвижимость  \n",
       "21179  240702.007382        строительство жилой недвижимости  \n",
       "21313  152419.184851                       операции с жильем  \n",
       "\n",
       "[101 rows x 12 columns]"
      ]
     },
     "metadata": {},
     "output_type": "display_data"
    },
    {
     "data": {
      "text/html": [
       "<div>\n",
       "<style scoped>\n",
       "    .dataframe tbody tr th:only-of-type {\n",
       "        vertical-align: middle;\n",
       "    }\n",
       "\n",
       "    .dataframe tbody tr th {\n",
       "        vertical-align: top;\n",
       "    }\n",
       "\n",
       "    .dataframe thead th {\n",
       "        text-align: right;\n",
       "    }\n",
       "</style>\n",
       "<table border=\"1\" class=\"dataframe\">\n",
       "  <thead>\n",
       "    <tr style=\"text-align: right;\">\n",
       "      <th></th>\n",
       "      <th>children</th>\n",
       "      <th>days_employed</th>\n",
       "      <th>dob_years</th>\n",
       "      <th>education</th>\n",
       "      <th>education_id</th>\n",
       "      <th>family_status</th>\n",
       "      <th>family_status_id</th>\n",
       "      <th>gender</th>\n",
       "      <th>income_type</th>\n",
       "      <th>debt</th>\n",
       "      <th>total_income</th>\n",
       "      <th>purpose</th>\n",
       "    </tr>\n",
       "  </thead>\n",
       "  <tbody>\n",
       "    <tr>\n",
       "      <th>10701</th>\n",
       "      <td>0.0</td>\n",
       "      <td>2358.600502</td>\n",
       "      <td>24</td>\n",
       "      <td>неоконченное высшее</td>\n",
       "      <td>2</td>\n",
       "      <td>гражданский брак</td>\n",
       "      <td>1</td>\n",
       "      <td>XNA</td>\n",
       "      <td>компаньон</td>\n",
       "      <td>0</td>\n",
       "      <td>203905.157261</td>\n",
       "      <td>покупка недвижимости</td>\n",
       "    </tr>\n",
       "  </tbody>\n",
       "</table>\n",
       "</div>"
      ],
      "text/plain": [
       "       children  days_employed  dob_years            education  education_id  \\\n",
       "10701       0.0    2358.600502         24  неоконченное высшее             2   \n",
       "\n",
       "          family_status  family_status_id gender income_type  debt  \\\n",
       "10701  гражданский брак                 1    XNA   компаньон     0   \n",
       "\n",
       "        total_income               purpose  \n",
       "10701  203905.157261  покупка недвижимости  "
      ]
     },
     "metadata": {},
     "output_type": "display_data"
    }
   ],
   "source": [
    "#в столбце days_employed есть данные положительные, но очень большие.\n",
    "#встречаются и отрицательные, но не настолько большие, если сравнение чисел по модулю.\n",
    "#отрицательные значения преобразованы в положительные путем умножения на -1.\n",
    "rows = data['days_employed'] < 0\n",
    "data.loc[rows, 'days_employed'] = data.loc[rows, 'days_employed'] * -1\n",
    "#для больших положительных значений, значение days_employed перобразовано путем деления исходного значения на 24.\n",
    "rows = data['days_employed'] > 29200\n",
    "data.loc[rows, 'days_employed'] = data.loc[rows, 'days_employed'] / 24\n",
    "\n",
    "#gо полученным данным рассчитано медианное значение трудового стажа в днях, которым заполнены пропуски в столбце days_employed.\n",
    "days_employed_median = data['days_employed'].median()\n",
    "data['days_employed'] = data['days_employed'].fillna(days_employed_median)\n",
    "\n",
    "#в столбце data['children'] обнаружены отрицательные данные. это ошибка, исправляем умножением на -1\n",
    "rows = data['children'] < 0\n",
    "data.loc[rows, 'children'] = data.loc[rows, 'children'] * -1\n",
    "#в столбце data['children'] обнаружены данные о 20 детях. это ошибка, лишний 0, исправляем делением на 10\n",
    "rows = data['children'] == 20\n",
    "data.loc[rows, 'children'] = data.loc[rows, 'children'] / 10\n",
    "\n",
    "#в столбце data['dob_years'] обнаружено значение возраста, равное 0\n",
    "rows = data['dob_years'] == 0\n",
    "null = data.loc[rows]\n",
    "display(null)\n",
    "\n",
    "#в столбце data['gender'] обнаружено некорректное значение пола, равное XNA\n",
    "rows = data['gender'] == 'XNA'\n",
    "XNA = data.loc[rows]\n",
    "display(XNA)\n",
    "\n",
    "#изменение типа данных столбцов data['days_employed'] и data['children'] на целочисленный\n",
    "data['days_employed'] = data['days_employed'].astype('int')\n",
    "data['children'] = data['children'].astype('int')"
   ]
  },
  {
   "cell_type": "markdown",
   "id": "656dd8a0",
   "metadata": {},
   "source": [
    "<div class=\"alert alert-warning\"; style=\"border-left: 7px solid Gold\">\n",
    "<h5> ⚠️ <font color=\"DarkGoldenRod\">Комментарий ревьюера (желтый)</font></h5>\n",
    "\n",
    "Спасибо, правильно и кропотливо обработаны аномалии в `days_employed`\n",
    "    \n",
    "Приведение к типу данных лучше вынести в отдельный блок, чтобы были видны преобразования сразу по всем колонкам в одном месте.\n",
    "\n",
    "</div>"
   ]
  },
  {
   "cell_type": "markdown",
   "id": "abc9d2de",
   "metadata": {},
   "source": [
    "<div class=\"alert alert-info\"; style=\"border-left: 7px solid SteelBlue\">\n",
    "<h5>🎓 <font color=\"SteelBlue\">Комментарий от студента (синий)</font></h5>    \n",
    "\n",
    "Вынес преобразование типа данных в отдельный блок.\n",
    "\n",
    "</div>"
   ]
  },
  {
   "cell_type": "markdown",
   "id": "b7d02078",
   "metadata": {},
   "source": [
    "<div class=\"alert alert-success\"; style=\"border-left: 7px solid green\">\n",
    "<h5> ✔️ <font color=\"green\">v2 Комментарий ревьюера (зеленый)</font></h5>\n",
    "\n",
    "✅ Верное исправление 👍\n",
    "\n",
    "</div>"
   ]
  },
  {
   "cell_type": "markdown",
   "id": "ba8244c3",
   "metadata": {},
   "source": [
    "В столбце days_employed\tесть данные положительные, но очень большие. И отрицательные, но не настолько большие, если сравнение чисел по модулю. Отрицательные значения, скорее всего, возникли из-за ошибок внесения. Для больших положительных значений, скорее всего, указан трудовой стаж в часах. Поэтому для таких больших положительных значений, значение days_employed перобразовано путем деления исходного значения на 24. Отрицательные значения преобразованы в положительные путем умножения на -1. По полученным данным рассчитано медианное значение трудового стажа в днях, которым заполнены пропуски в столбце days_employed."
   ]
  },
  {
   "cell_type": "markdown",
   "id": "9ac18023",
   "metadata": {},
   "source": [
    "<div class=\"alert alert-danger\"; style=\"border-left: 7px solid FireBrick\">\n",
    "<h5> ❌ <font color=\"FireBrick\">Комментарий ревьюера (красный)</font></h5>\n",
    "\n",
    "Изучи еще, пожалуйста `children`, `dob_years`, `gender` на наличие анамалий.\n",
    "    \n",
    "\n",
    "</div>"
   ]
  },
  {
   "cell_type": "markdown",
   "id": "18b74fdb",
   "metadata": {},
   "source": [
    "<div class=\"alert alert-info\"; style=\"border-left: 7px solid SteelBlue\">\n",
    "<h5>🎓 <font color=\"SteelBlue\">Комментарий от студента (синий)</font></h5>    \n",
    "\n",
    "Обработал аномалии в столбце children. Поскольку дальнейший анализ предполагает установление зависимости от данного параметра, выполнил преобразование некорректных значений.\n",
    "    \n",
    "В столбце dob_years обраружено 101 значение возраста равное 0. В анализе данный параметр не используется, поэтому значения равное 0 изменять не стал, оставил как есть. Теоретически, можно для заполнения использовать параметр income_type, например для пенсионера, заполнить медианное значение возраста пенсионера или же использовать параметр days_employed и построить зависимость между этим параметром и dob_years.\n",
    "    \n",
    "В столбце gender обнаружена одна аномалия. Возможно ее удаление, но данный параметр не используется в дальнейшем анализе, поэтому оставляем данную строку.\n",
    "\n",
    "</div>"
   ]
  },
  {
   "cell_type": "markdown",
   "id": "a911a8a5",
   "metadata": {},
   "source": [
    "<div class=\"alert alert-success\"; style=\"border-left: 7px solid green\">\n",
    "<h5> ✔️ <font color=\"green\">v2 Комментарий ревьюера (зеленый)</font></h5>\n",
    "\n",
    "✅ Верное исправление 👍\n",
    "    \n",
    "Спасибо за корректную аргументацию!\n",
    "\n",
    "</div>"
   ]
  },
  {
   "cell_type": "markdown",
   "id": "2692c688",
   "metadata": {},
   "source": [
    "### Шаг 2.3. Изменение типов данных."
   ]
  },
  {
   "cell_type": "code",
   "execution_count": 4,
   "id": "fd91ec60",
   "metadata": {},
   "outputs": [],
   "source": [
    "#изменение типа данных столбца data['total_income'] на целочисленный\n",
    "data['total_income'] = data['total_income'].astype('int')"
   ]
  },
  {
   "cell_type": "markdown",
   "id": "e4ee31d6",
   "metadata": {},
   "source": [
    "### Шаг 2.4. Удаление дубликатов."
   ]
  },
  {
   "cell_type": "code",
   "execution_count": 5,
   "id": "2bdbd467",
   "metadata": {
    "scrolled": true
   },
   "outputs": [
    {
     "name": "stdout",
     "output_type": "stream",
     "text": [
      "среднее                15233\n",
      "высшее                  5260\n",
      "неоконченное высшее      744\n",
      "начальное                282\n",
      "ученая степень             6\n",
      "Name: education, dtype: int64\n",
      "Количество дубликатов 71\n",
      "Количество дубликатов 0\n"
     ]
    }
   ],
   "source": [
    "#приводим к единому формату отображения, строчному регистру все записи в столбце education\n",
    "data['education'] = data['education'].str.lower()\n",
    "#выводим на экран полученный результат\n",
    "print(data['education'].value_counts())\n",
    "#считаем количество дубликатов\n",
    "print('Количество дубликатов', data.duplicated().sum())\n",
    "#удаляем дубликаты и выводим на экран проверочный текст\n",
    "data = data.drop_duplicates()\n",
    "print('Количество дубликатов', data.duplicated().sum())"
   ]
  },
  {
   "cell_type": "markdown",
   "id": "4b5eb8a0",
   "metadata": {},
   "source": [
    "<div class=\"alert alert-danger\"; style=\"border-left: 7px solid FireBrick\">\n",
    "<h5> ❌ <font color=\"FireBrick\">Комментарий ревьюера (красный)</font></h5>\n",
    "\n",
    "Удалять дибли необходимо после применения метода `lower`\n",
    "    \n",
    "\n",
    "</div>"
   ]
  },
  {
   "cell_type": "markdown",
   "id": "ed3e6d63",
   "metadata": {},
   "source": [
    "<div class=\"alert alert-info\"; style=\"border-left: 7px solid SteelBlue\">\n",
    "<h5>🎓 <font color=\"SteelBlue\">Комментарий от студента (синий)</font></h5>\n",
    "    \n",
    "Исправил замечание, расписал последовательность действий\n",
    "    "
   ]
  },
  {
   "cell_type": "markdown",
   "id": "3a41b60e",
   "metadata": {},
   "source": [
    "<div class=\"alert alert-success\"; style=\"border-left: 7px solid green\">\n",
    "<h5> ✔️ <font color=\"green\">v2 Комментарий ревьюера (зеленый)</font></h5>\n",
    "\n",
    "✅ Верное исправление 👍\n",
    "\n",
    "</div>"
   ]
  },
  {
   "cell_type": "markdown",
   "id": "aeec1be2",
   "metadata": {},
   "source": [
    "В столбце education были представлены написанные в различном регистре записи уровня образования. Методом str.lower() эти записи были приведены к единому варианту отображения.\n",
    "\n",
    "Поиск строк дубликатов проводился методом data.duplicated(), количество считалось методом sum(). Выявлены 71 строки дубликата. Удаление явных дубликатов проводилось методом drop_duplicates().\n",
    "\n",
    "Возможная причина появления строк дубликатов это обращение одного клиента несколько раз. В столбце education различные варианты написания одного слова могут быть причиной отсутствия стандарта и ошибок операторов, вносивших сведения."
   ]
  },
  {
   "cell_type": "markdown",
   "id": "aeed5d61",
   "metadata": {},
   "source": [
    "### Шаг 2.5. Формирование дополнительных датафреймов словарей, декомпозиция исходного датафрейма."
   ]
  },
  {
   "cell_type": "code",
   "execution_count": 6,
   "id": "2ff37f53",
   "metadata": {},
   "outputs": [
    {
     "name": "stdout",
     "output_type": "stream",
     "text": [
      "             education  education_id\n",
      "0               высшее             0\n",
      "1              среднее             1\n",
      "2  неоконченное высшее             2\n",
      "3            начальное             3\n",
      "4       ученая степень             4\n",
      "           family_status  family_status_id\n",
      "0        женат / замужем                 0\n",
      "1       гражданский брак                 1\n",
      "2         вдовец / вдова                 2\n",
      "3              в разводе                 3\n",
      "4  Не женат / не замужем                 4\n"
     ]
    }
   ],
   "source": [
    "#создание датафрейма словаря уровня образования\n",
    "education_log = data[['education', 'education_id']]\n",
    "#удаление дубликатов в полученном словаре уровня образования и сброс индексов\n",
    "education_log = education_log.drop_duplicates().reset_index(drop=True)\n",
    "#вывод на экран полученного словаря уровня образования\n",
    "print(education_log)\n",
    "#удаление столбца data['education']\n",
    "del data['education']\n",
    "#создание датафрейма словаря семейного статуса\n",
    "family_status_log = data[['family_status', 'family_status_id']]\n",
    "#удаление дубликатов в полученном словаре семейного статуса и сброс индексов\n",
    "family_status_log = family_status_log.drop_duplicates().reset_index(drop=True)\n",
    "#вывод на экран полученного словаря семейного статуса\n",
    "print(family_status_log)\n",
    "#удаление столбца data['family_status']\n",
    "del data['family_status']"
   ]
  },
  {
   "cell_type": "markdown",
   "id": "3a662232",
   "metadata": {},
   "source": [
    "<div class=\"alert alert-success\"; style=\"border-left: 7px solid green\">\n",
    "<h5> ✔️ <font color=\"green\">Комментарий ревьюера (зеленый)</font></h5>\n",
    "\n",
    "Правильно созданы новые таблицы!\n",
    "\n",
    "</div>"
   ]
  },
  {
   "cell_type": "markdown",
   "id": "c9decbff",
   "metadata": {},
   "source": [
    "### Шаг 2.6. Категоризация дохода."
   ]
  },
  {
   "cell_type": "code",
   "execution_count": 7,
   "id": "c243a5c6",
   "metadata": {},
   "outputs": [
    {
     "name": "stdout",
     "output_type": "stream",
     "text": [
      "C    16016\n",
      "B     5041\n",
      "D      350\n",
      "A       25\n",
      "E       22\n",
      "Name: total_income_category, dtype: int64\n"
     ]
    }
   ],
   "source": [
    "#создание функции, которая проводит категоризацию дохода\n",
    "def total_income_category(total_income): \n",
    "    if 0 <= total_income <= 30000:\n",
    "        return 'E'\n",
    "    if 30001 <= total_income <= 50000:\n",
    "        return 'D'\n",
    "    if 50001 <= total_income <= 200000:\n",
    "        return 'C'\n",
    "    if 200001 <= total_income <= 1000000:\n",
    "        return 'B'\n",
    "    else:\n",
    "        return 'A'\n",
    "#применение функции методом apply() к данныем из столбца data['total_income'] и внесение итогового результата в столбец\n",
    "#data['total_income_category']\n",
    "data['total_income_category'] = data['total_income'].apply(total_income_category)\n",
    "#проверка и вывод на экран результата категоризации дохода\n",
    "print(data['total_income_category'].value_counts())"
   ]
  },
  {
   "cell_type": "markdown",
   "id": "04b5823c",
   "metadata": {},
   "source": [
    "<div class=\"alert alert-success\"; style=\"border-left: 7px solid green\">\n",
    "<h5> ✔️ <font color=\"green\">Комментарий ревьюера (зеленый)</font></h5>\n",
    "\n",
    "Рад видеть правильно примененный метод .apply()\n",
    "\n",
    "</div>"
   ]
  },
  {
   "cell_type": "markdown",
   "id": "04a8386e",
   "metadata": {},
   "source": [
    "### Шаг 2.7. Категоризация целей кредита."
   ]
  },
  {
   "cell_type": "code",
   "execution_count": 8,
   "id": "fdb51357",
   "metadata": {},
   "outputs": [
    {
     "name": "stdout",
     "output_type": "stream",
     "text": [
      "свадьба                                   791\n",
      "на проведение свадьбы                     768\n",
      "сыграть свадьбу                           765\n",
      "операции с недвижимостью                  675\n",
      "покупка коммерческой недвижимости         661\n",
      "операции с жильем                         652\n",
      "покупка жилья для сдачи                   651\n",
      "операции с коммерческой недвижимостью     650\n",
      "покупка жилья                             646\n",
      "жилье                                     646\n",
      "покупка жилья для семьи                   638\n",
      "строительство собственной недвижимости    635\n",
      "недвижимость                              633\n",
      "операции со своей недвижимостью           627\n",
      "строительство жилой недвижимости          624\n",
      "покупка недвижимости                      621\n",
      "покупка своего жилья                      620\n",
      "строительство недвижимости                619\n",
      "ремонт жилью                              607\n",
      "покупка жилой недвижимости                606\n",
      "на покупку своего автомобиля              505\n",
      "заняться высшим образованием              496\n",
      "автомобиль                                494\n",
      "сделка с подержанным автомобилем          486\n",
      "свой автомобиль                           478\n",
      "автомобили                                478\n",
      "на покупку подержанного автомобиля        478\n",
      "на покупку автомобиля                     471\n",
      "приобретение автомобиля                   461\n",
      "дополнительное образование                460\n",
      "сделка с автомобилем                      455\n",
      "высшее образование                        452\n",
      "образование                               447\n",
      "получение дополнительного образования     446\n",
      "получение образования                     442\n",
      "профильное образование                    436\n",
      "получение высшего образования             426\n",
      "заняться образованием                     408\n",
      "Name: purpose, dtype: int64\n",
      "операции с недвижимостью    10811\n",
      "операции с автомобилем       4306\n",
      "получение образования        4013\n",
      "проведение свадьбы           2324\n",
      "Name: purpose_category, dtype: int64\n"
     ]
    },
    {
     "data": {
      "text/html": [
       "<div>\n",
       "<style scoped>\n",
       "    .dataframe tbody tr th:only-of-type {\n",
       "        vertical-align: middle;\n",
       "    }\n",
       "\n",
       "    .dataframe tbody tr th {\n",
       "        vertical-align: top;\n",
       "    }\n",
       "\n",
       "    .dataframe thead th {\n",
       "        text-align: right;\n",
       "    }\n",
       "</style>\n",
       "<table border=\"1\" class=\"dataframe\">\n",
       "  <thead>\n",
       "    <tr style=\"text-align: right;\">\n",
       "      <th></th>\n",
       "      <th>children</th>\n",
       "      <th>days_employed</th>\n",
       "      <th>dob_years</th>\n",
       "      <th>education_id</th>\n",
       "      <th>family_status_id</th>\n",
       "      <th>gender</th>\n",
       "      <th>income_type</th>\n",
       "      <th>debt</th>\n",
       "      <th>total_income</th>\n",
       "      <th>purpose</th>\n",
       "      <th>total_income_category</th>\n",
       "      <th>purpose_category</th>\n",
       "    </tr>\n",
       "  </thead>\n",
       "  <tbody>\n",
       "    <tr>\n",
       "      <th>0</th>\n",
       "      <td>1</td>\n",
       "      <td>8437</td>\n",
       "      <td>42</td>\n",
       "      <td>0</td>\n",
       "      <td>0</td>\n",
       "      <td>F</td>\n",
       "      <td>сотрудник</td>\n",
       "      <td>0</td>\n",
       "      <td>253875</td>\n",
       "      <td>покупка жилья</td>\n",
       "      <td>B</td>\n",
       "      <td>операции с недвижимостью</td>\n",
       "    </tr>\n",
       "    <tr>\n",
       "      <th>1</th>\n",
       "      <td>1</td>\n",
       "      <td>4024</td>\n",
       "      <td>36</td>\n",
       "      <td>1</td>\n",
       "      <td>0</td>\n",
       "      <td>F</td>\n",
       "      <td>сотрудник</td>\n",
       "      <td>0</td>\n",
       "      <td>112080</td>\n",
       "      <td>приобретение автомобиля</td>\n",
       "      <td>C</td>\n",
       "      <td>операции с автомобилем</td>\n",
       "    </tr>\n",
       "    <tr>\n",
       "      <th>2</th>\n",
       "      <td>0</td>\n",
       "      <td>5623</td>\n",
       "      <td>33</td>\n",
       "      <td>1</td>\n",
       "      <td>0</td>\n",
       "      <td>M</td>\n",
       "      <td>сотрудник</td>\n",
       "      <td>0</td>\n",
       "      <td>145885</td>\n",
       "      <td>покупка жилья</td>\n",
       "      <td>C</td>\n",
       "      <td>операции с недвижимостью</td>\n",
       "    </tr>\n",
       "    <tr>\n",
       "      <th>3</th>\n",
       "      <td>3</td>\n",
       "      <td>4124</td>\n",
       "      <td>32</td>\n",
       "      <td>1</td>\n",
       "      <td>0</td>\n",
       "      <td>M</td>\n",
       "      <td>сотрудник</td>\n",
       "      <td>0</td>\n",
       "      <td>267628</td>\n",
       "      <td>дополнительное образование</td>\n",
       "      <td>B</td>\n",
       "      <td>получение образования</td>\n",
       "    </tr>\n",
       "    <tr>\n",
       "      <th>4</th>\n",
       "      <td>0</td>\n",
       "      <td>14177</td>\n",
       "      <td>53</td>\n",
       "      <td>1</td>\n",
       "      <td>1</td>\n",
       "      <td>F</td>\n",
       "      <td>пенсионер</td>\n",
       "      <td>0</td>\n",
       "      <td>158616</td>\n",
       "      <td>сыграть свадьбу</td>\n",
       "      <td>C</td>\n",
       "      <td>проведение свадьбы</td>\n",
       "    </tr>\n",
       "    <tr>\n",
       "      <th>5</th>\n",
       "      <td>0</td>\n",
       "      <td>926</td>\n",
       "      <td>27</td>\n",
       "      <td>0</td>\n",
       "      <td>1</td>\n",
       "      <td>M</td>\n",
       "      <td>компаньон</td>\n",
       "      <td>0</td>\n",
       "      <td>255763</td>\n",
       "      <td>покупка жилья</td>\n",
       "      <td>B</td>\n",
       "      <td>операции с недвижимостью</td>\n",
       "    </tr>\n",
       "    <tr>\n",
       "      <th>6</th>\n",
       "      <td>0</td>\n",
       "      <td>2879</td>\n",
       "      <td>43</td>\n",
       "      <td>0</td>\n",
       "      <td>0</td>\n",
       "      <td>F</td>\n",
       "      <td>компаньон</td>\n",
       "      <td>0</td>\n",
       "      <td>240525</td>\n",
       "      <td>операции с жильем</td>\n",
       "      <td>B</td>\n",
       "      <td>операции с недвижимостью</td>\n",
       "    </tr>\n",
       "    <tr>\n",
       "      <th>7</th>\n",
       "      <td>0</td>\n",
       "      <td>152</td>\n",
       "      <td>50</td>\n",
       "      <td>1</td>\n",
       "      <td>0</td>\n",
       "      <td>M</td>\n",
       "      <td>сотрудник</td>\n",
       "      <td>0</td>\n",
       "      <td>135823</td>\n",
       "      <td>образование</td>\n",
       "      <td>C</td>\n",
       "      <td>получение образования</td>\n",
       "    </tr>\n",
       "    <tr>\n",
       "      <th>8</th>\n",
       "      <td>2</td>\n",
       "      <td>6929</td>\n",
       "      <td>35</td>\n",
       "      <td>0</td>\n",
       "      <td>1</td>\n",
       "      <td>F</td>\n",
       "      <td>сотрудник</td>\n",
       "      <td>0</td>\n",
       "      <td>95856</td>\n",
       "      <td>на проведение свадьбы</td>\n",
       "      <td>C</td>\n",
       "      <td>проведение свадьбы</td>\n",
       "    </tr>\n",
       "    <tr>\n",
       "      <th>9</th>\n",
       "      <td>0</td>\n",
       "      <td>2188</td>\n",
       "      <td>41</td>\n",
       "      <td>1</td>\n",
       "      <td>0</td>\n",
       "      <td>M</td>\n",
       "      <td>сотрудник</td>\n",
       "      <td>0</td>\n",
       "      <td>144425</td>\n",
       "      <td>покупка жилья для семьи</td>\n",
       "      <td>C</td>\n",
       "      <td>операции с недвижимостью</td>\n",
       "    </tr>\n",
       "    <tr>\n",
       "      <th>10</th>\n",
       "      <td>2</td>\n",
       "      <td>4171</td>\n",
       "      <td>36</td>\n",
       "      <td>0</td>\n",
       "      <td>0</td>\n",
       "      <td>M</td>\n",
       "      <td>компаньон</td>\n",
       "      <td>0</td>\n",
       "      <td>113943</td>\n",
       "      <td>покупка недвижимости</td>\n",
       "      <td>C</td>\n",
       "      <td>операции с недвижимостью</td>\n",
       "    </tr>\n",
       "    <tr>\n",
       "      <th>11</th>\n",
       "      <td>0</td>\n",
       "      <td>792</td>\n",
       "      <td>40</td>\n",
       "      <td>1</td>\n",
       "      <td>0</td>\n",
       "      <td>F</td>\n",
       "      <td>сотрудник</td>\n",
       "      <td>0</td>\n",
       "      <td>77069</td>\n",
       "      <td>покупка коммерческой недвижимости</td>\n",
       "      <td>C</td>\n",
       "      <td>операции с недвижимостью</td>\n",
       "    </tr>\n",
       "    <tr>\n",
       "      <th>12</th>\n",
       "      <td>0</td>\n",
       "      <td>2194</td>\n",
       "      <td>65</td>\n",
       "      <td>1</td>\n",
       "      <td>1</td>\n",
       "      <td>M</td>\n",
       "      <td>пенсионер</td>\n",
       "      <td>0</td>\n",
       "      <td>145017</td>\n",
       "      <td>сыграть свадьбу</td>\n",
       "      <td>C</td>\n",
       "      <td>проведение свадьбы</td>\n",
       "    </tr>\n",
       "    <tr>\n",
       "      <th>13</th>\n",
       "      <td>0</td>\n",
       "      <td>1846</td>\n",
       "      <td>54</td>\n",
       "      <td>2</td>\n",
       "      <td>0</td>\n",
       "      <td>F</td>\n",
       "      <td>сотрудник</td>\n",
       "      <td>0</td>\n",
       "      <td>130458</td>\n",
       "      <td>приобретение автомобиля</td>\n",
       "      <td>C</td>\n",
       "      <td>операции с автомобилем</td>\n",
       "    </tr>\n",
       "    <tr>\n",
       "      <th>14</th>\n",
       "      <td>0</td>\n",
       "      <td>1844</td>\n",
       "      <td>56</td>\n",
       "      <td>0</td>\n",
       "      <td>1</td>\n",
       "      <td>F</td>\n",
       "      <td>компаньон</td>\n",
       "      <td>1</td>\n",
       "      <td>165127</td>\n",
       "      <td>покупка жилой недвижимости</td>\n",
       "      <td>C</td>\n",
       "      <td>операции с недвижимостью</td>\n",
       "    </tr>\n",
       "    <tr>\n",
       "      <th>15</th>\n",
       "      <td>1</td>\n",
       "      <td>972</td>\n",
       "      <td>26</td>\n",
       "      <td>1</td>\n",
       "      <td>0</td>\n",
       "      <td>F</td>\n",
       "      <td>сотрудник</td>\n",
       "      <td>0</td>\n",
       "      <td>116820</td>\n",
       "      <td>строительство собственной недвижимости</td>\n",
       "      <td>C</td>\n",
       "      <td>операции с недвижимостью</td>\n",
       "    </tr>\n",
       "    <tr>\n",
       "      <th>16</th>\n",
       "      <td>0</td>\n",
       "      <td>1719</td>\n",
       "      <td>35</td>\n",
       "      <td>1</td>\n",
       "      <td>0</td>\n",
       "      <td>F</td>\n",
       "      <td>сотрудник</td>\n",
       "      <td>0</td>\n",
       "      <td>289202</td>\n",
       "      <td>недвижимость</td>\n",
       "      <td>B</td>\n",
       "      <td>операции с недвижимостью</td>\n",
       "    </tr>\n",
       "    <tr>\n",
       "      <th>17</th>\n",
       "      <td>0</td>\n",
       "      <td>2369</td>\n",
       "      <td>33</td>\n",
       "      <td>0</td>\n",
       "      <td>1</td>\n",
       "      <td>M</td>\n",
       "      <td>сотрудник</td>\n",
       "      <td>0</td>\n",
       "      <td>90410</td>\n",
       "      <td>строительство недвижимости</td>\n",
       "      <td>C</td>\n",
       "      <td>операции с недвижимостью</td>\n",
       "    </tr>\n",
       "    <tr>\n",
       "      <th>18</th>\n",
       "      <td>0</td>\n",
       "      <td>16678</td>\n",
       "      <td>53</td>\n",
       "      <td>1</td>\n",
       "      <td>2</td>\n",
       "      <td>F</td>\n",
       "      <td>пенсионер</td>\n",
       "      <td>0</td>\n",
       "      <td>56823</td>\n",
       "      <td>на покупку подержанного автомобиля</td>\n",
       "      <td>C</td>\n",
       "      <td>операции с автомобилем</td>\n",
       "    </tr>\n",
       "    <tr>\n",
       "      <th>19</th>\n",
       "      <td>0</td>\n",
       "      <td>10038</td>\n",
       "      <td>48</td>\n",
       "      <td>1</td>\n",
       "      <td>3</td>\n",
       "      <td>F</td>\n",
       "      <td>сотрудник</td>\n",
       "      <td>0</td>\n",
       "      <td>242831</td>\n",
       "      <td>на покупку своего автомобиля</td>\n",
       "      <td>B</td>\n",
       "      <td>операции с автомобилем</td>\n",
       "    </tr>\n",
       "    <tr>\n",
       "      <th>20</th>\n",
       "      <td>1</td>\n",
       "      <td>1311</td>\n",
       "      <td>36</td>\n",
       "      <td>1</td>\n",
       "      <td>0</td>\n",
       "      <td>M</td>\n",
       "      <td>сотрудник</td>\n",
       "      <td>0</td>\n",
       "      <td>209552</td>\n",
       "      <td>недвижимость</td>\n",
       "      <td>B</td>\n",
       "      <td>операции с недвижимостью</td>\n",
       "    </tr>\n",
       "    <tr>\n",
       "      <th>21</th>\n",
       "      <td>1</td>\n",
       "      <td>253</td>\n",
       "      <td>33</td>\n",
       "      <td>1</td>\n",
       "      <td>1</td>\n",
       "      <td>F</td>\n",
       "      <td>сотрудник</td>\n",
       "      <td>0</td>\n",
       "      <td>131812</td>\n",
       "      <td>приобретение автомобиля</td>\n",
       "      <td>C</td>\n",
       "      <td>операции с автомобилем</td>\n",
       "    </tr>\n",
       "    <tr>\n",
       "      <th>22</th>\n",
       "      <td>1</td>\n",
       "      <td>1766</td>\n",
       "      <td>24</td>\n",
       "      <td>1</td>\n",
       "      <td>1</td>\n",
       "      <td>F</td>\n",
       "      <td>сотрудник</td>\n",
       "      <td>0</td>\n",
       "      <td>149681</td>\n",
       "      <td>на покупку подержанного автомобиля</td>\n",
       "      <td>C</td>\n",
       "      <td>операции с автомобилем</td>\n",
       "    </tr>\n",
       "    <tr>\n",
       "      <th>23</th>\n",
       "      <td>0</td>\n",
       "      <td>272</td>\n",
       "      <td>21</td>\n",
       "      <td>0</td>\n",
       "      <td>1</td>\n",
       "      <td>M</td>\n",
       "      <td>сотрудник</td>\n",
       "      <td>0</td>\n",
       "      <td>128265</td>\n",
       "      <td>сыграть свадьбу</td>\n",
       "      <td>C</td>\n",
       "      <td>проведение свадьбы</td>\n",
       "    </tr>\n",
       "    <tr>\n",
       "      <th>24</th>\n",
       "      <td>1</td>\n",
       "      <td>14106</td>\n",
       "      <td>57</td>\n",
       "      <td>1</td>\n",
       "      <td>4</td>\n",
       "      <td>F</td>\n",
       "      <td>пенсионер</td>\n",
       "      <td>0</td>\n",
       "      <td>290547</td>\n",
       "      <td>операции с коммерческой недвижимостью</td>\n",
       "      <td>B</td>\n",
       "      <td>операции с недвижимостью</td>\n",
       "    </tr>\n",
       "    <tr>\n",
       "      <th>25</th>\n",
       "      <td>0</td>\n",
       "      <td>15147</td>\n",
       "      <td>67</td>\n",
       "      <td>1</td>\n",
       "      <td>0</td>\n",
       "      <td>M</td>\n",
       "      <td>пенсионер</td>\n",
       "      <td>0</td>\n",
       "      <td>55112</td>\n",
       "      <td>покупка недвижимости</td>\n",
       "      <td>C</td>\n",
       "      <td>операции с недвижимостью</td>\n",
       "    </tr>\n",
       "    <tr>\n",
       "      <th>26</th>\n",
       "      <td>0</td>\n",
       "      <td>2194</td>\n",
       "      <td>41</td>\n",
       "      <td>1</td>\n",
       "      <td>0</td>\n",
       "      <td>M</td>\n",
       "      <td>госслужащий</td>\n",
       "      <td>0</td>\n",
       "      <td>145017</td>\n",
       "      <td>образование</td>\n",
       "      <td>C</td>\n",
       "      <td>получение образования</td>\n",
       "    </tr>\n",
       "    <tr>\n",
       "      <th>27</th>\n",
       "      <td>0</td>\n",
       "      <td>529</td>\n",
       "      <td>28</td>\n",
       "      <td>0</td>\n",
       "      <td>0</td>\n",
       "      <td>M</td>\n",
       "      <td>сотрудник</td>\n",
       "      <td>0</td>\n",
       "      <td>308848</td>\n",
       "      <td>строительство собственной недвижимости</td>\n",
       "      <td>B</td>\n",
       "      <td>операции с недвижимостью</td>\n",
       "    </tr>\n",
       "    <tr>\n",
       "      <th>28</th>\n",
       "      <td>1</td>\n",
       "      <td>717</td>\n",
       "      <td>26</td>\n",
       "      <td>0</td>\n",
       "      <td>0</td>\n",
       "      <td>F</td>\n",
       "      <td>сотрудник</td>\n",
       "      <td>0</td>\n",
       "      <td>187863</td>\n",
       "      <td>строительство собственной недвижимости</td>\n",
       "      <td>C</td>\n",
       "      <td>операции с недвижимостью</td>\n",
       "    </tr>\n",
       "    <tr>\n",
       "      <th>29</th>\n",
       "      <td>0</td>\n",
       "      <td>2194</td>\n",
       "      <td>63</td>\n",
       "      <td>1</td>\n",
       "      <td>4</td>\n",
       "      <td>F</td>\n",
       "      <td>пенсионер</td>\n",
       "      <td>0</td>\n",
       "      <td>145017</td>\n",
       "      <td>строительство жилой недвижимости</td>\n",
       "      <td>C</td>\n",
       "      <td>операции с недвижимостью</td>\n",
       "    </tr>\n",
       "    <tr>\n",
       "      <th>30</th>\n",
       "      <td>1</td>\n",
       "      <td>13982</td>\n",
       "      <td>62</td>\n",
       "      <td>1</td>\n",
       "      <td>0</td>\n",
       "      <td>F</td>\n",
       "      <td>пенсионер</td>\n",
       "      <td>0</td>\n",
       "      <td>171456</td>\n",
       "      <td>операции с коммерческой недвижимостью</td>\n",
       "      <td>C</td>\n",
       "      <td>операции с недвижимостью</td>\n",
       "    </tr>\n",
       "    <tr>\n",
       "      <th>31</th>\n",
       "      <td>0</td>\n",
       "      <td>1682</td>\n",
       "      <td>47</td>\n",
       "      <td>3</td>\n",
       "      <td>0</td>\n",
       "      <td>F</td>\n",
       "      <td>сотрудник</td>\n",
       "      <td>0</td>\n",
       "      <td>275485</td>\n",
       "      <td>жилье</td>\n",
       "      <td>B</td>\n",
       "      <td>операции с недвижимостью</td>\n",
       "    </tr>\n",
       "    <tr>\n",
       "      <th>32</th>\n",
       "      <td>0</td>\n",
       "      <td>4649</td>\n",
       "      <td>34</td>\n",
       "      <td>1</td>\n",
       "      <td>1</td>\n",
       "      <td>F</td>\n",
       "      <td>сотрудник</td>\n",
       "      <td>1</td>\n",
       "      <td>139057</td>\n",
       "      <td>на проведение свадьбы</td>\n",
       "      <td>C</td>\n",
       "      <td>проведение свадьбы</td>\n",
       "    </tr>\n",
       "    <tr>\n",
       "      <th>33</th>\n",
       "      <td>0</td>\n",
       "      <td>1548</td>\n",
       "      <td>48</td>\n",
       "      <td>1</td>\n",
       "      <td>0</td>\n",
       "      <td>F</td>\n",
       "      <td>компаньон</td>\n",
       "      <td>0</td>\n",
       "      <td>157245</td>\n",
       "      <td>покупка жилья</td>\n",
       "      <td>C</td>\n",
       "      <td>операции с недвижимостью</td>\n",
       "    </tr>\n",
       "    <tr>\n",
       "      <th>34</th>\n",
       "      <td>0</td>\n",
       "      <td>4488</td>\n",
       "      <td>35</td>\n",
       "      <td>1</td>\n",
       "      <td>0</td>\n",
       "      <td>F</td>\n",
       "      <td>сотрудник</td>\n",
       "      <td>0</td>\n",
       "      <td>104660</td>\n",
       "      <td>операции со своей недвижимостью</td>\n",
       "      <td>C</td>\n",
       "      <td>операции с недвижимостью</td>\n",
       "    </tr>\n",
       "    <tr>\n",
       "      <th>35</th>\n",
       "      <td>0</td>\n",
       "      <td>16417</td>\n",
       "      <td>68</td>\n",
       "      <td>1</td>\n",
       "      <td>1</td>\n",
       "      <td>M</td>\n",
       "      <td>пенсионер</td>\n",
       "      <td>0</td>\n",
       "      <td>77805</td>\n",
       "      <td>на проведение свадьбы</td>\n",
       "      <td>C</td>\n",
       "      <td>проведение свадьбы</td>\n",
       "    </tr>\n",
       "    <tr>\n",
       "      <th>36</th>\n",
       "      <td>0</td>\n",
       "      <td>176</td>\n",
       "      <td>33</td>\n",
       "      <td>1</td>\n",
       "      <td>4</td>\n",
       "      <td>M</td>\n",
       "      <td>сотрудник</td>\n",
       "      <td>0</td>\n",
       "      <td>138830</td>\n",
       "      <td>автомобили</td>\n",
       "      <td>C</td>\n",
       "      <td>операции с автомобилем</td>\n",
       "    </tr>\n",
       "    <tr>\n",
       "      <th>37</th>\n",
       "      <td>0</td>\n",
       "      <td>6448</td>\n",
       "      <td>43</td>\n",
       "      <td>0</td>\n",
       "      <td>1</td>\n",
       "      <td>F</td>\n",
       "      <td>компаньон</td>\n",
       "      <td>0</td>\n",
       "      <td>154128</td>\n",
       "      <td>приобретение автомобиля</td>\n",
       "      <td>C</td>\n",
       "      <td>операции с автомобилем</td>\n",
       "    </tr>\n",
       "    <tr>\n",
       "      <th>38</th>\n",
       "      <td>0</td>\n",
       "      <td>597</td>\n",
       "      <td>25</td>\n",
       "      <td>0</td>\n",
       "      <td>4</td>\n",
       "      <td>M</td>\n",
       "      <td>сотрудник</td>\n",
       "      <td>1</td>\n",
       "      <td>192247</td>\n",
       "      <td>образование</td>\n",
       "      <td>C</td>\n",
       "      <td>получение образования</td>\n",
       "    </tr>\n",
       "    <tr>\n",
       "      <th>39</th>\n",
       "      <td>0</td>\n",
       "      <td>650</td>\n",
       "      <td>31</td>\n",
       "      <td>0</td>\n",
       "      <td>1</td>\n",
       "      <td>F</td>\n",
       "      <td>компаньон</td>\n",
       "      <td>0</td>\n",
       "      <td>754240</td>\n",
       "      <td>заняться образованием</td>\n",
       "      <td>B</td>\n",
       "      <td>получение образования</td>\n",
       "    </tr>\n",
       "    <tr>\n",
       "      <th>40</th>\n",
       "      <td>0</td>\n",
       "      <td>1030</td>\n",
       "      <td>30</td>\n",
       "      <td>1</td>\n",
       "      <td>4</td>\n",
       "      <td>M</td>\n",
       "      <td>компаньон</td>\n",
       "      <td>0</td>\n",
       "      <td>142865</td>\n",
       "      <td>покупка недвижимости</td>\n",
       "      <td>C</td>\n",
       "      <td>операции с недвижимостью</td>\n",
       "    </tr>\n",
       "    <tr>\n",
       "      <th>41</th>\n",
       "      <td>0</td>\n",
       "      <td>2194</td>\n",
       "      <td>50</td>\n",
       "      <td>1</td>\n",
       "      <td>0</td>\n",
       "      <td>F</td>\n",
       "      <td>госслужащий</td>\n",
       "      <td>0</td>\n",
       "      <td>145017</td>\n",
       "      <td>сделка с подержанным автомобилем</td>\n",
       "      <td>C</td>\n",
       "      <td>операции с автомобилем</td>\n",
       "    </tr>\n",
       "    <tr>\n",
       "      <th>42</th>\n",
       "      <td>0</td>\n",
       "      <td>1257</td>\n",
       "      <td>20</td>\n",
       "      <td>2</td>\n",
       "      <td>4</td>\n",
       "      <td>F</td>\n",
       "      <td>сотрудник</td>\n",
       "      <td>0</td>\n",
       "      <td>82065</td>\n",
       "      <td>получение образования</td>\n",
       "      <td>C</td>\n",
       "      <td>получение образования</td>\n",
       "    </tr>\n",
       "    <tr>\n",
       "      <th>43</th>\n",
       "      <td>0</td>\n",
       "      <td>4375</td>\n",
       "      <td>43</td>\n",
       "      <td>2</td>\n",
       "      <td>3</td>\n",
       "      <td>F</td>\n",
       "      <td>компаньон</td>\n",
       "      <td>0</td>\n",
       "      <td>272957</td>\n",
       "      <td>приобретение автомобиля</td>\n",
       "      <td>B</td>\n",
       "      <td>операции с автомобилем</td>\n",
       "    </tr>\n",
       "    <tr>\n",
       "      <th>44</th>\n",
       "      <td>1</td>\n",
       "      <td>1362</td>\n",
       "      <td>26</td>\n",
       "      <td>1</td>\n",
       "      <td>0</td>\n",
       "      <td>F</td>\n",
       "      <td>сотрудник</td>\n",
       "      <td>0</td>\n",
       "      <td>100780</td>\n",
       "      <td>на покупку своего автомобиля</td>\n",
       "      <td>C</td>\n",
       "      <td>операции с автомобилем</td>\n",
       "    </tr>\n",
       "    <tr>\n",
       "      <th>45</th>\n",
       "      <td>1</td>\n",
       "      <td>1039</td>\n",
       "      <td>49</td>\n",
       "      <td>1</td>\n",
       "      <td>4</td>\n",
       "      <td>F</td>\n",
       "      <td>сотрудник</td>\n",
       "      <td>0</td>\n",
       "      <td>106385</td>\n",
       "      <td>заняться образованием</td>\n",
       "      <td>C</td>\n",
       "      <td>получение образования</td>\n",
       "    </tr>\n",
       "    <tr>\n",
       "      <th>46</th>\n",
       "      <td>2</td>\n",
       "      <td>2262</td>\n",
       "      <td>37</td>\n",
       "      <td>1</td>\n",
       "      <td>0</td>\n",
       "      <td>F</td>\n",
       "      <td>компаньон</td>\n",
       "      <td>0</td>\n",
       "      <td>182682</td>\n",
       "      <td>сделка с подержанным автомобилем</td>\n",
       "      <td>C</td>\n",
       "      <td>операции с автомобилем</td>\n",
       "    </tr>\n",
       "    <tr>\n",
       "      <th>47</th>\n",
       "      <td>1</td>\n",
       "      <td>2689</td>\n",
       "      <td>33</td>\n",
       "      <td>0</td>\n",
       "      <td>1</td>\n",
       "      <td>M</td>\n",
       "      <td>госслужащий</td>\n",
       "      <td>0</td>\n",
       "      <td>356277</td>\n",
       "      <td>на проведение свадьбы</td>\n",
       "      <td>B</td>\n",
       "      <td>проведение свадьбы</td>\n",
       "    </tr>\n",
       "    <tr>\n",
       "      <th>48</th>\n",
       "      <td>0</td>\n",
       "      <td>3341</td>\n",
       "      <td>45</td>\n",
       "      <td>1</td>\n",
       "      <td>0</td>\n",
       "      <td>F</td>\n",
       "      <td>сотрудник</td>\n",
       "      <td>0</td>\n",
       "      <td>162065</td>\n",
       "      <td>строительство собственной недвижимости</td>\n",
       "      <td>C</td>\n",
       "      <td>операции с недвижимостью</td>\n",
       "    </tr>\n",
       "    <tr>\n",
       "      <th>49</th>\n",
       "      <td>0</td>\n",
       "      <td>1181</td>\n",
       "      <td>54</td>\n",
       "      <td>1</td>\n",
       "      <td>0</td>\n",
       "      <td>F</td>\n",
       "      <td>сотрудник</td>\n",
       "      <td>0</td>\n",
       "      <td>44591</td>\n",
       "      <td>автомобиль</td>\n",
       "      <td>D</td>\n",
       "      <td>операции с автомобилем</td>\n",
       "    </tr>\n",
       "  </tbody>\n",
       "</table>\n",
       "</div>"
      ],
      "text/plain": [
       "    children  days_employed  dob_years  education_id  family_status_id gender  \\\n",
       "0          1           8437         42             0                 0      F   \n",
       "1          1           4024         36             1                 0      F   \n",
       "2          0           5623         33             1                 0      M   \n",
       "3          3           4124         32             1                 0      M   \n",
       "4          0          14177         53             1                 1      F   \n",
       "5          0            926         27             0                 1      M   \n",
       "6          0           2879         43             0                 0      F   \n",
       "7          0            152         50             1                 0      M   \n",
       "8          2           6929         35             0                 1      F   \n",
       "9          0           2188         41             1                 0      M   \n",
       "10         2           4171         36             0                 0      M   \n",
       "11         0            792         40             1                 0      F   \n",
       "12         0           2194         65             1                 1      M   \n",
       "13         0           1846         54             2                 0      F   \n",
       "14         0           1844         56             0                 1      F   \n",
       "15         1            972         26             1                 0      F   \n",
       "16         0           1719         35             1                 0      F   \n",
       "17         0           2369         33             0                 1      M   \n",
       "18         0          16678         53             1                 2      F   \n",
       "19         0          10038         48             1                 3      F   \n",
       "20         1           1311         36             1                 0      M   \n",
       "21         1            253         33             1                 1      F   \n",
       "22         1           1766         24             1                 1      F   \n",
       "23         0            272         21             0                 1      M   \n",
       "24         1          14106         57             1                 4      F   \n",
       "25         0          15147         67             1                 0      M   \n",
       "26         0           2194         41             1                 0      M   \n",
       "27         0            529         28             0                 0      M   \n",
       "28         1            717         26             0                 0      F   \n",
       "29         0           2194         63             1                 4      F   \n",
       "30         1          13982         62             1                 0      F   \n",
       "31         0           1682         47             3                 0      F   \n",
       "32         0           4649         34             1                 1      F   \n",
       "33         0           1548         48             1                 0      F   \n",
       "34         0           4488         35             1                 0      F   \n",
       "35         0          16417         68             1                 1      M   \n",
       "36         0            176         33             1                 4      M   \n",
       "37         0           6448         43             0                 1      F   \n",
       "38         0            597         25             0                 4      M   \n",
       "39         0            650         31             0                 1      F   \n",
       "40         0           1030         30             1                 4      M   \n",
       "41         0           2194         50             1                 0      F   \n",
       "42         0           1257         20             2                 4      F   \n",
       "43         0           4375         43             2                 3      F   \n",
       "44         1           1362         26             1                 0      F   \n",
       "45         1           1039         49             1                 4      F   \n",
       "46         2           2262         37             1                 0      F   \n",
       "47         1           2689         33             0                 1      M   \n",
       "48         0           3341         45             1                 0      F   \n",
       "49         0           1181         54             1                 0      F   \n",
       "\n",
       "    income_type  debt  total_income                                 purpose  \\\n",
       "0     сотрудник     0        253875                           покупка жилья   \n",
       "1     сотрудник     0        112080                 приобретение автомобиля   \n",
       "2     сотрудник     0        145885                           покупка жилья   \n",
       "3     сотрудник     0        267628              дополнительное образование   \n",
       "4     пенсионер     0        158616                         сыграть свадьбу   \n",
       "5     компаньон     0        255763                           покупка жилья   \n",
       "6     компаньон     0        240525                       операции с жильем   \n",
       "7     сотрудник     0        135823                             образование   \n",
       "8     сотрудник     0         95856                   на проведение свадьбы   \n",
       "9     сотрудник     0        144425                 покупка жилья для семьи   \n",
       "10    компаньон     0        113943                    покупка недвижимости   \n",
       "11    сотрудник     0         77069       покупка коммерческой недвижимости   \n",
       "12    пенсионер     0        145017                         сыграть свадьбу   \n",
       "13    сотрудник     0        130458                 приобретение автомобиля   \n",
       "14    компаньон     1        165127              покупка жилой недвижимости   \n",
       "15    сотрудник     0        116820  строительство собственной недвижимости   \n",
       "16    сотрудник     0        289202                            недвижимость   \n",
       "17    сотрудник     0         90410              строительство недвижимости   \n",
       "18    пенсионер     0         56823      на покупку подержанного автомобиля   \n",
       "19    сотрудник     0        242831            на покупку своего автомобиля   \n",
       "20    сотрудник     0        209552                            недвижимость   \n",
       "21    сотрудник     0        131812                 приобретение автомобиля   \n",
       "22    сотрудник     0        149681      на покупку подержанного автомобиля   \n",
       "23    сотрудник     0        128265                         сыграть свадьбу   \n",
       "24    пенсионер     0        290547   операции с коммерческой недвижимостью   \n",
       "25    пенсионер     0         55112                    покупка недвижимости   \n",
       "26  госслужащий     0        145017                             образование   \n",
       "27    сотрудник     0        308848  строительство собственной недвижимости   \n",
       "28    сотрудник     0        187863  строительство собственной недвижимости   \n",
       "29    пенсионер     0        145017        строительство жилой недвижимости   \n",
       "30    пенсионер     0        171456   операции с коммерческой недвижимостью   \n",
       "31    сотрудник     0        275485                                   жилье   \n",
       "32    сотрудник     1        139057                   на проведение свадьбы   \n",
       "33    компаньон     0        157245                           покупка жилья   \n",
       "34    сотрудник     0        104660         операции со своей недвижимостью   \n",
       "35    пенсионер     0         77805                   на проведение свадьбы   \n",
       "36    сотрудник     0        138830                              автомобили   \n",
       "37    компаньон     0        154128                 приобретение автомобиля   \n",
       "38    сотрудник     1        192247                             образование   \n",
       "39    компаньон     0        754240                   заняться образованием   \n",
       "40    компаньон     0        142865                    покупка недвижимости   \n",
       "41  госслужащий     0        145017        сделка с подержанным автомобилем   \n",
       "42    сотрудник     0         82065                   получение образования   \n",
       "43    компаньон     0        272957                 приобретение автомобиля   \n",
       "44    сотрудник     0        100780            на покупку своего автомобиля   \n",
       "45    сотрудник     0        106385                   заняться образованием   \n",
       "46    компаньон     0        182682        сделка с подержанным автомобилем   \n",
       "47  госслужащий     0        356277                   на проведение свадьбы   \n",
       "48    сотрудник     0        162065  строительство собственной недвижимости   \n",
       "49    сотрудник     0         44591                              автомобиль   \n",
       "\n",
       "   total_income_category          purpose_category  \n",
       "0                      B  операции с недвижимостью  \n",
       "1                      C    операции с автомобилем  \n",
       "2                      C  операции с недвижимостью  \n",
       "3                      B     получение образования  \n",
       "4                      C        проведение свадьбы  \n",
       "5                      B  операции с недвижимостью  \n",
       "6                      B  операции с недвижимостью  \n",
       "7                      C     получение образования  \n",
       "8                      C        проведение свадьбы  \n",
       "9                      C  операции с недвижимостью  \n",
       "10                     C  операции с недвижимостью  \n",
       "11                     C  операции с недвижимостью  \n",
       "12                     C        проведение свадьбы  \n",
       "13                     C    операции с автомобилем  \n",
       "14                     C  операции с недвижимостью  \n",
       "15                     C  операции с недвижимостью  \n",
       "16                     B  операции с недвижимостью  \n",
       "17                     C  операции с недвижимостью  \n",
       "18                     C    операции с автомобилем  \n",
       "19                     B    операции с автомобилем  \n",
       "20                     B  операции с недвижимостью  \n",
       "21                     C    операции с автомобилем  \n",
       "22                     C    операции с автомобилем  \n",
       "23                     C        проведение свадьбы  \n",
       "24                     B  операции с недвижимостью  \n",
       "25                     C  операции с недвижимостью  \n",
       "26                     C     получение образования  \n",
       "27                     B  операции с недвижимостью  \n",
       "28                     C  операции с недвижимостью  \n",
       "29                     C  операции с недвижимостью  \n",
       "30                     C  операции с недвижимостью  \n",
       "31                     B  операции с недвижимостью  \n",
       "32                     C        проведение свадьбы  \n",
       "33                     C  операции с недвижимостью  \n",
       "34                     C  операции с недвижимостью  \n",
       "35                     C        проведение свадьбы  \n",
       "36                     C    операции с автомобилем  \n",
       "37                     C    операции с автомобилем  \n",
       "38                     C     получение образования  \n",
       "39                     B     получение образования  \n",
       "40                     C  операции с недвижимостью  \n",
       "41                     C    операции с автомобилем  \n",
       "42                     C     получение образования  \n",
       "43                     B    операции с автомобилем  \n",
       "44                     C    операции с автомобилем  \n",
       "45                     C     получение образования  \n",
       "46                     C    операции с автомобилем  \n",
       "47                     B        проведение свадьбы  \n",
       "48                     C  операции с недвижимостью  \n",
       "49                     D    операции с автомобилем  "
      ]
     },
     "metadata": {},
     "output_type": "display_data"
    }
   ],
   "source": [
    "#сначала ознакомимся с набором данных в столбце data['purpose']\n",
    "print(data['purpose'].value_counts())\n",
    "#создаем функцию, которая проводит категоризацию цели получения кредита\n",
    "#подстроки 'свадьб', 'авто', 'образован', 'недвиж', 'жиль' помогут правильно определить категорию\n",
    "def purpose_category(purpose):\n",
    "    if 'свадьб' in purpose:\n",
    "        return 'проведение свадьбы'\n",
    "    if 'авто' in purpose:\n",
    "        return 'операции с автомобилем'\n",
    "    if 'образован' in purpose:\n",
    "        return 'получение образования'\n",
    "    if 'недвиж' or 'жиль' in purpose:\n",
    "        return 'операции с недвижимостью'\n",
    "#применение функции методом apply() к данныем из столбца data['purpose'] и внесение итогового результата в столбец\n",
    "#data['purpose_category']\n",
    "data['purpose_category'] = data['purpose'].apply(purpose_category)\n",
    "#проверка и вывод на экран результата категоризации цели получения кредита\n",
    "print(data['purpose_category'].value_counts())\n",
    "display(data.head(50))"
   ]
  },
  {
   "cell_type": "markdown",
   "id": "6a31f2c1",
   "metadata": {},
   "source": [
    "<div class=\"alert alert-success\"; style=\"border-left: 7px solid green\">\n",
    "<h5> ✔️ <font color=\"green\">Комментарий ревьюера (зеленый)</font></h5>\n",
    "\n",
    "Верно разбиты клиенты по категориям целей получения кредита!\n",
    "\n",
    "</div>"
   ]
  },
  {
   "cell_type": "markdown",
   "id": "10c29d37",
   "metadata": {},
   "source": [
    "### Ответы на вопросы."
   ]
  },
  {
   "cell_type": "markdown",
   "id": "46a598e8",
   "metadata": {},
   "source": [
    "##### Вопрос 1: Есть ли зависимость между количеством детей и возвратом кредита в срок?"
   ]
  },
  {
   "cell_type": "code",
   "execution_count": 9,
   "id": "01afc58a",
   "metadata": {},
   "outputs": [
    {
     "name": "stdout",
     "output_type": "stream",
     "text": [
      "0    19713\n",
      "1     1741\n",
      "Name: debt, dtype: int64\n"
     ]
    },
    {
     "data": {
      "text/html": [
       "<div>\n",
       "<style scoped>\n",
       "    .dataframe tbody tr th:only-of-type {\n",
       "        vertical-align: middle;\n",
       "    }\n",
       "\n",
       "    .dataframe tbody tr th {\n",
       "        vertical-align: top;\n",
       "    }\n",
       "\n",
       "    .dataframe thead th {\n",
       "        text-align: right;\n",
       "    }\n",
       "</style>\n",
       "<table border=\"1\" class=\"dataframe\">\n",
       "  <thead>\n",
       "    <tr style=\"text-align: right;\">\n",
       "      <th></th>\n",
       "      <th>debt</th>\n",
       "    </tr>\n",
       "    <tr>\n",
       "      <th>children</th>\n",
       "      <th></th>\n",
       "    </tr>\n",
       "  </thead>\n",
       "  <tbody>\n",
       "    <tr>\n",
       "      <th>0</th>\n",
       "      <td>7.543822</td>\n",
       "    </tr>\n",
       "    <tr>\n",
       "      <th>1</th>\n",
       "      <td>9.165808</td>\n",
       "    </tr>\n",
       "    <tr>\n",
       "      <th>2</th>\n",
       "      <td>9.492481</td>\n",
       "    </tr>\n",
       "    <tr>\n",
       "      <th>3</th>\n",
       "      <td>8.181818</td>\n",
       "    </tr>\n",
       "    <tr>\n",
       "      <th>4</th>\n",
       "      <td>9.756098</td>\n",
       "    </tr>\n",
       "    <tr>\n",
       "      <th>5</th>\n",
       "      <td>0.000000</td>\n",
       "    </tr>\n",
       "  </tbody>\n",
       "</table>\n",
       "</div>"
      ],
      "text/plain": [
       "              debt\n",
       "children          \n",
       "0         7.543822\n",
       "1         9.165808\n",
       "2         9.492481\n",
       "3         8.181818\n",
       "4         9.756098\n",
       "5         0.000000"
      ]
     },
     "metadata": {},
     "output_type": "display_data"
    }
   ],
   "source": [
    "print(data['debt'].value_counts())\n",
    "\n",
    "data_group_1 = data.groupby(['children']).agg({'debt':'sum'})\n",
    "data_group_2 = data.groupby(['children']).agg({'debt':'count'})\n",
    "data_group_3 = data_group_1 / data_group_2 * 100\n",
    "display(data_group_3)\n",
    "\n",
    "#data_pivot_1 = data.pivot_table(index='children', values = 'debt', aggfunc='sum')\n",
    "#data_pivot_2 = data.pivot_table(index='children', values = 'debt', aggfunc='count')"
   ]
  },
  {
   "cell_type": "markdown",
   "id": "35cd77e8",
   "metadata": {},
   "source": [
    "Исходя из полученной информации, можно сделать вывод, что выдача кредита клиенту без детей менее рискованна, чем выдача кредита клиенту с детьми. Процент клиентов без детей, не вернувших кредит в срок, равен 7,5%. При наличии одного ребенка, процент невозвративших кредит в срок составит уже 9,17% или на 21% больше, чем у бездетных Для клиентов с двумя детьми,  процент невозвративших кредит в срок составит 9,5% или на 26% больше, чем у бездетных. Для клиентов с тремя детьми 8,18%, что все равно выше, чем у бездетных. Для клиентов с четыремя детьми уже 9,76%. Для клиента с 5 детьми вывод сделать невозможно, слишком мало информации."
   ]
  },
  {
   "cell_type": "markdown",
   "id": "ed104aba",
   "metadata": {},
   "source": [
    "<div class=\"alert alert-warning\"; style=\"border-left: 7px solid Gold\">\n",
    "<h5> ⚠️ <font color=\"DarkGoldenRod\">Комментарий ревьюера (желтый)</font></h5>\n",
    "\n",
    "Такой комментарий является рекомендацией или советом. Можешь использовать их на своё усмотрение.\n",
    "    \n",
    "В случае изменений кода, опиши, пожалуйста, вкратце то, что изменилось. Если изменений не было, то просто опиши свои мысли наф эту тему. \n",
    "\n",
    "</div>"
   ]
  },
  {
   "cell_type": "markdown",
   "id": "2ac4aece",
   "metadata": {},
   "source": [
    "<div class=\"alert alert-info\"; style=\"border-left: 7px solid SteelBlue\">\n",
    "<h5>🎓 <font color=\"SteelBlue\">Комментарий от студента (синий)</font></h5>    \n",
    "\n",
    "Перенес часть кода по столбцу data['children'] в раздел проверки данных на аномалии и исправления.\n",
    "\n",
    "</div>"
   ]
  },
  {
   "cell_type": "markdown",
   "id": "05455359",
   "metadata": {},
   "source": [
    "<div class=\"alert alert-success\"; style=\"border-left: 7px solid green\">\n",
    "<h5> ✔️ <font color=\"green\">v2 Комментарий ревьюера (зеленый)</font></h5>\n",
    "\n",
    "✅ Верное исправление 👍\n",
    "\n",
    "</div>"
   ]
  },
  {
   "cell_type": "markdown",
   "id": "21306eff",
   "metadata": {},
   "source": [
    "##### Вывод 1: На возврат кредита в срок, количество детей оказывает незначительное влияние. Влияние оказывает факт наличия детей. Клиент без детей возвращает кредит более добросовестно."
   ]
  },
  {
   "cell_type": "markdown",
   "id": "ea5eb91c",
   "metadata": {},
   "source": [
    "##### Вопрос 2: Есть ли зависимость между семейным положением и возвратом кредита в срок?"
   ]
  },
  {
   "cell_type": "code",
   "execution_count": 10,
   "id": "b89fda7d",
   "metadata": {},
   "outputs": [
    {
     "data": {
      "text/html": [
       "<div>\n",
       "<style scoped>\n",
       "    .dataframe tbody tr th:only-of-type {\n",
       "        vertical-align: middle;\n",
       "    }\n",
       "\n",
       "    .dataframe tbody tr th {\n",
       "        vertical-align: top;\n",
       "    }\n",
       "\n",
       "    .dataframe thead th {\n",
       "        text-align: right;\n",
       "    }\n",
       "</style>\n",
       "<table border=\"1\" class=\"dataframe\">\n",
       "  <thead>\n",
       "    <tr style=\"text-align: right;\">\n",
       "      <th></th>\n",
       "      <th>debt</th>\n",
       "    </tr>\n",
       "    <tr>\n",
       "      <th>family_status_id</th>\n",
       "      <th></th>\n",
       "    </tr>\n",
       "  </thead>\n",
       "  <tbody>\n",
       "    <tr>\n",
       "      <th>0</th>\n",
       "      <td>7.545182</td>\n",
       "    </tr>\n",
       "    <tr>\n",
       "      <th>1</th>\n",
       "      <td>9.347145</td>\n",
       "    </tr>\n",
       "    <tr>\n",
       "      <th>2</th>\n",
       "      <td>6.569343</td>\n",
       "    </tr>\n",
       "    <tr>\n",
       "      <th>3</th>\n",
       "      <td>7.112971</td>\n",
       "    </tr>\n",
       "    <tr>\n",
       "      <th>4</th>\n",
       "      <td>9.750890</td>\n",
       "    </tr>\n",
       "  </tbody>\n",
       "</table>\n",
       "</div>"
      ],
      "text/plain": [
       "                      debt\n",
       "family_status_id          \n",
       "0                 7.545182\n",
       "1                 9.347145\n",
       "2                 6.569343\n",
       "3                 7.112971\n",
       "4                 9.750890"
      ]
     },
     "metadata": {},
     "output_type": "display_data"
    }
   ],
   "source": [
    "data_group_1 = data.groupby(['family_status_id']).agg({'debt':'sum'})\n",
    "data_group_2 = data.groupby(['family_status_id']).agg({'debt':'count'})\n",
    "data_group_3 = data_group_1 / data_group_2 * 100\n",
    "display(data_group_3)"
   ]
  },
  {
   "cell_type": "markdown",
   "id": "5613b541",
   "metadata": {},
   "source": [
    "##### Вывод 2: Зависимость есть, наибольший процент невозврата кредита в срок у клиентов имеющих статус \"Не женат / не замужем\"  и \"гражданский брак\". Наиболее добросовестные плательщики это клиенты со статусом \"вдовец / вдова\", \"в разводе\" и \"женат / замужем\". Те клиенты, которые узаконили свои отношения - наиболее добросовестные плательщики."
   ]
  },
  {
   "cell_type": "markdown",
   "id": "ea83043b",
   "metadata": {},
   "source": [
    "<div class=\"alert alert-success\"; style=\"border-left: 7px solid green\">\n",
    "<h5> ✔️ <font color=\"green\">Комментарий ревьюера (зеленый)</font></h5>\n",
    "\n",
    "Хорошее обоснование!\n",
    "\n",
    "</div>"
   ]
  },
  {
   "cell_type": "markdown",
   "id": "fc2f211c",
   "metadata": {},
   "source": [
    "##### Вопрос 3: Есть ли зависимость между уровнем дохода и возвратом кредита в срок?"
   ]
  },
  {
   "cell_type": "code",
   "execution_count": 11,
   "id": "3349e1d3",
   "metadata": {},
   "outputs": [
    {
     "data": {
      "text/html": [
       "<div>\n",
       "<style scoped>\n",
       "    .dataframe tbody tr th:only-of-type {\n",
       "        vertical-align: middle;\n",
       "    }\n",
       "\n",
       "    .dataframe tbody tr th {\n",
       "        vertical-align: top;\n",
       "    }\n",
       "\n",
       "    .dataframe thead th {\n",
       "        text-align: right;\n",
       "    }\n",
       "</style>\n",
       "<table border=\"1\" class=\"dataframe\">\n",
       "  <thead>\n",
       "    <tr style=\"text-align: right;\">\n",
       "      <th></th>\n",
       "      <th>debt</th>\n",
       "    </tr>\n",
       "    <tr>\n",
       "      <th>total_income_category</th>\n",
       "      <th></th>\n",
       "    </tr>\n",
       "  </thead>\n",
       "  <tbody>\n",
       "    <tr>\n",
       "      <th>A</th>\n",
       "      <td>8.000000</td>\n",
       "    </tr>\n",
       "    <tr>\n",
       "      <th>B</th>\n",
       "      <td>7.062091</td>\n",
       "    </tr>\n",
       "    <tr>\n",
       "      <th>C</th>\n",
       "      <td>8.491508</td>\n",
       "    </tr>\n",
       "    <tr>\n",
       "      <th>D</th>\n",
       "      <td>6.000000</td>\n",
       "    </tr>\n",
       "    <tr>\n",
       "      <th>E</th>\n",
       "      <td>9.090909</td>\n",
       "    </tr>\n",
       "  </tbody>\n",
       "</table>\n",
       "</div>"
      ],
      "text/plain": [
       "                           debt\n",
       "total_income_category          \n",
       "A                      8.000000\n",
       "B                      7.062091\n",
       "C                      8.491508\n",
       "D                      6.000000\n",
       "E                      9.090909"
      ]
     },
     "metadata": {},
     "output_type": "display_data"
    }
   ],
   "source": [
    "# группируем данные методами groupby() и agg(), сначала получаем клиентов невозвративших кредит, а затем общее количество\n",
    "# клиентов в каждой группе по доходу\n",
    "data_group_1 = data.groupby(['total_income_category']).agg({'debt':'sum'})\n",
    "data_group_2 = data.groupby(['total_income_category']).agg({'debt':'count'})\n",
    "# делим информацию по полученным столбцам и умножаем на 100, получаем долю в процентном выражении\n",
    "data_group_3 = data_group_1 / data_group_2 * 100\n",
    "#выводим на экран результаты\n",
    "#display(data_group_1)\n",
    "#display(data_group_2)\n",
    "display(data_group_3)"
   ]
  },
  {
   "cell_type": "markdown",
   "id": "b4743cd8",
   "metadata": {},
   "source": [
    "##### Вывод 3: Зависимость есть, наибольший процент невозврата кредита в подгруппе E, затем в A, С, B, и наименьший процент невозврата кредита у клиентов из подгруппы D. Промежуточный вывод - самые богатые, самые бедные и клиенты со средним уровнем дохода возвращают кредит хуже чем другие группы. Лучше всего платят за кредит не самые богатые и не самые бедные."
   ]
  },
  {
   "cell_type": "markdown",
   "id": "00d60530",
   "metadata": {},
   "source": [
    "##### Вопрос 4: Как разные цели кредита влияют на его возврат в срок?"
   ]
  },
  {
   "cell_type": "code",
   "execution_count": 12,
   "id": "4e6fda67",
   "metadata": {
    "scrolled": true
   },
   "outputs": [
    {
     "data": {
      "text/html": [
       "<div>\n",
       "<style scoped>\n",
       "    .dataframe tbody tr th:only-of-type {\n",
       "        vertical-align: middle;\n",
       "    }\n",
       "\n",
       "    .dataframe tbody tr th {\n",
       "        vertical-align: top;\n",
       "    }\n",
       "\n",
       "    .dataframe thead th {\n",
       "        text-align: right;\n",
       "    }\n",
       "</style>\n",
       "<table border=\"1\" class=\"dataframe\">\n",
       "  <thead>\n",
       "    <tr style=\"text-align: right;\">\n",
       "      <th></th>\n",
       "      <th>debt</th>\n",
       "    </tr>\n",
       "    <tr>\n",
       "      <th>purpose_category</th>\n",
       "      <th></th>\n",
       "    </tr>\n",
       "  </thead>\n",
       "  <tbody>\n",
       "    <tr>\n",
       "      <th>операции с автомобилем</th>\n",
       "      <td>9.359034</td>\n",
       "    </tr>\n",
       "    <tr>\n",
       "      <th>операции с недвижимостью</th>\n",
       "      <td>7.233373</td>\n",
       "    </tr>\n",
       "    <tr>\n",
       "      <th>получение образования</th>\n",
       "      <td>9.220035</td>\n",
       "    </tr>\n",
       "    <tr>\n",
       "      <th>проведение свадьбы</th>\n",
       "      <td>8.003442</td>\n",
       "    </tr>\n",
       "  </tbody>\n",
       "</table>\n",
       "</div>"
      ],
      "text/plain": [
       "                              debt\n",
       "purpose_category                  \n",
       "операции с автомобилем    9.359034\n",
       "операции с недвижимостью  7.233373\n",
       "получение образования     9.220035\n",
       "проведение свадьбы        8.003442"
      ]
     },
     "metadata": {},
     "output_type": "display_data"
    }
   ],
   "source": [
    "# группируем данные методами groupby() и agg(), сначала получаем клиентов невозвративших кредит, а затем общее количество\n",
    "# клиентов в каждой группе по цели кредита\n",
    "data_group_1 = data.groupby(['purpose_category']).agg({'debt':'sum'})\n",
    "data_group_2 = data.groupby(['purpose_category']).agg({'debt':'count'})\n",
    "# делим информацию по полученным столбцам и умножаем на 100, получаем долю в процентном выражении\n",
    "data_group_3 = data_group_1 / data_group_2 * 100\n",
    "#выводим на экран результаты\n",
    "#display(data_group_1)\n",
    "#display(data_group_2)\n",
    "display(data_group_3)"
   ]
  },
  {
   "cell_type": "markdown",
   "id": "e4febf74",
   "metadata": {},
   "source": [
    "##### Вывод 4: Зависимость возврата кредита в срок от цели кредита достаточно заметная. Промежуточный вывод - наиболее безопасный кредит - \"операции с недвижимостью\", затем \"проведение свадьбы\", \"получение образования\" и наибольший процент проблем у кредита \"операции с автомобилем\"."
   ]
  },
  {
   "cell_type": "markdown",
   "id": "ee35b267",
   "metadata": {},
   "source": [
    "<div class=\"alert alert-success\"; style=\"border-left: 7px solid green\">\n",
    "<h5> ✔️ <font color=\"green\">Комментарий ревьюера (зеленый)</font></h5>\n",
    "\n",
    "Спасибо за интересные наблюдения!\n",
    "\n",
    "</div>"
   ]
  },
  {
   "cell_type": "markdown",
   "id": "a8c762df",
   "metadata": {},
   "source": [
    "## Общий вывод:"
   ]
  },
  {
   "cell_type": "markdown",
   "id": "9c9852fb",
   "metadata": {},
   "source": [
    "Процент клиентов без детей, не вернувших кредит в срок, равен 7,5%. При наличии одного ребенка, процент невозвративших кредит в срок составит уже 9,17% или на 21% больше, чем у бездетных Для клиентов с двумя детьми,  процент невозвративших кредит в срок составит 9,5% или на 26% больше, чем у бездетных. Для клиентов с тремя детьми 8,18%, что все равно выше, чем у бездетных. Для клиентов с четыремя детьми уже 9,76%. Для клиента с 5 детьми вывод сделать невозможно, слишком мало информации.\n",
    "Вывод - выдача кредита клиенту без детей менее рискованна, чем выдача кредита клиенту с детьми.\n",
    "\n",
    "Есть зависимость между семейным положением и погашением кредита в срок, наибольший процент невозврата кредита в срок у клиентов имеющих статус \"Не женат / не замужем\"  и \"гражданский брак\", более 9,3% таких клиентов не погашают кредит в срок. Наиболее добросовестные плательщики это клиенты со статусом \"вдовец / вдова\", \"в разводе\" и \"женат / замужем\". Для таких клиентов процент допускающих просрочку от 6,5% до 7,5%\n",
    "Вывод - клиенты, узаконившие свои отношения - наиболее добросовестные плательщики.\n",
    "\n",
    "Зависимость между уровнем дохода погашением кредит в срок наблюдается. Наибольший процент 9 % невозврата кредита в подгруппе E (самых высокий доход), затем 8% в A (самый низкий доход), С - 8,5% (группа со средним доходом), B - 7% (группа между низким и средним доходом), и наименьший процент невозврата кредита у клиентов из подгруппы D - 6% (группа между средним и высоким доходом). \n",
    "Вывод - самые богатые, самые бедные и клиенты со средним уровнем дохода возвращают кредит хуже чем другие группы. Лучше всего платят за кредит не самые богатые и не самые бедные.\n",
    "\n",
    "Зависимость возврата кредита в срок от цели кредита достаточно заметная. Для кредита \"операции с недвижимостью\" процент невозврата - 7,2% , \"проведение свадьбы\" - 8%, \"получение образования\" - 9,2% и наибольший процент проблем у кредита \"операции с автомобилем\" - 9,35%.\n",
    "Вывод - наиболее безопасный кредит - \"операции с недвижимостью\", наиболее рискованный - \"операции с автомобилем\"."
   ]
  },
  {
   "cell_type": "markdown",
   "id": "21e19f88",
   "metadata": {},
   "source": [
    "<div class=\"alert alert-danger\"; style=\"border-left: 7px solid FireBrick\">\n",
    "<h5> ❌ <font color=\"FireBrick\">Комментарий ревьюера (красный)</font></h5>\n",
    "\n",
    "В общем выводе хочется тезисно видеть все промежуточные выводы с цифрами. Это очень важно, поскольку топ-менеджеры, в большинстве своем, смотрят сразу сюда и только сюда...\n",
    "    \n",
    "\n",
    "</div>"
   ]
  },
  {
   "cell_type": "markdown",
   "id": "dc93e151",
   "metadata": {},
   "source": [
    "<div class=\"alert alert-info\"; style=\"border-left: 7px solid SteelBlue\">\n",
    "<h5>🎓 <font color=\"SteelBlue\">Комментарий от студента (синий)</font></h5>    \n",
    "\n",
    "Изменил общий вывод в соответствии с замечаниями.\n",
    "    \n",
    "</div>"
   ]
  },
  {
   "cell_type": "markdown",
   "id": "0a9857b1",
   "metadata": {},
   "source": [
    "<div class=\"alert alert-success\"; style=\"border-left: 7px solid green\">\n",
    "<h5> ✔️ <font color=\"green\">v2 Комментарий ревьюера (зеленый)</font></h5>\n",
    "\n",
    "✅ Верное исправление 👍\n",
    "\n",
    "</div>"
   ]
  }
 ],
 "metadata": {
  "ExecuteTimeLog": [
   {
    "duration": 583,
    "start_time": "2022-04-05T08:48:52.202Z"
   },
   {
    "duration": 106,
    "start_time": "2022-04-05T08:50:08.191Z"
   },
   {
    "duration": 113,
    "start_time": "2022-04-05T08:54:44.133Z"
   },
   {
    "duration": 95,
    "start_time": "2022-04-05T08:54:55.932Z"
   },
   {
    "duration": 499,
    "start_time": "2022-04-05T17:28:17.777Z"
   },
   {
    "duration": 7,
    "start_time": "2022-04-05T17:34:53.689Z"
   },
   {
    "duration": 4,
    "start_time": "2022-04-05T17:35:14.495Z"
   },
   {
    "duration": 21,
    "start_time": "2022-04-05T17:41:31.709Z"
   },
   {
    "duration": 65,
    "start_time": "2022-04-05T17:44:02.004Z"
   },
   {
    "duration": 5,
    "start_time": "2022-04-05T17:44:29.086Z"
   },
   {
    "duration": 77,
    "start_time": "2022-04-05T17:48:56.446Z"
   },
   {
    "duration": 119,
    "start_time": "2022-04-05T17:49:08.551Z"
   },
   {
    "duration": 81,
    "start_time": "2022-04-05T17:49:53.600Z"
   },
   {
    "duration": 111,
    "start_time": "2022-04-05T17:50:20.916Z"
   },
   {
    "duration": 98,
    "start_time": "2022-04-05T18:00:12.297Z"
   },
   {
    "duration": 4,
    "start_time": "2022-04-05T18:11:12.857Z"
   },
   {
    "duration": 4,
    "start_time": "2022-04-05T18:49:03.449Z"
   },
   {
    "duration": 46,
    "start_time": "2022-04-07T17:11:20.483Z"
   },
   {
    "duration": 461,
    "start_time": "2022-04-07T17:11:28.669Z"
   },
   {
    "duration": 5,
    "start_time": "2022-04-07T17:11:29.132Z"
   },
   {
    "duration": 29,
    "start_time": "2022-04-07T17:11:29.138Z"
   },
   {
    "duration": 21,
    "start_time": "2022-04-07T17:12:21.050Z"
   },
   {
    "duration": 15,
    "start_time": "2022-04-07T17:19:36.752Z"
   },
   {
    "duration": 11,
    "start_time": "2022-04-07T17:20:19.307Z"
   },
   {
    "duration": 21,
    "start_time": "2022-04-07T17:22:00.993Z"
   },
   {
    "duration": 85,
    "start_time": "2022-04-07T17:22:17.944Z"
   },
   {
    "duration": 4,
    "start_time": "2022-04-07T17:22:18.032Z"
   },
   {
    "duration": 25,
    "start_time": "2022-04-07T17:22:18.038Z"
   },
   {
    "duration": 71,
    "start_time": "2022-04-07T17:23:48.344Z"
   },
   {
    "duration": 20,
    "start_time": "2022-04-07T17:23:56.770Z"
   },
   {
    "duration": 10,
    "start_time": "2022-04-07T17:24:27.876Z"
   },
   {
    "duration": 21,
    "start_time": "2022-04-07T17:24:54.934Z"
   },
   {
    "duration": 12,
    "start_time": "2022-04-07T17:25:04.278Z"
   },
   {
    "duration": 67,
    "start_time": "2022-04-08T07:24:52.002Z"
   },
   {
    "duration": 461,
    "start_time": "2022-04-08T07:25:02.618Z"
   },
   {
    "duration": 5,
    "start_time": "2022-04-08T07:25:03.081Z"
   },
   {
    "duration": 20,
    "start_time": "2022-04-08T07:25:03.087Z"
   },
   {
    "duration": 31,
    "start_time": "2022-04-08T07:26:37.335Z"
   },
   {
    "duration": 21,
    "start_time": "2022-04-08T07:29:14.974Z"
   },
   {
    "duration": 83,
    "start_time": "2022-04-08T07:29:20.126Z"
   },
   {
    "duration": 3,
    "start_time": "2022-04-08T07:29:20.211Z"
   },
   {
    "duration": 22,
    "start_time": "2022-04-08T07:29:20.216Z"
   },
   {
    "duration": 33,
    "start_time": "2022-04-08T07:33:03.971Z"
   },
   {
    "duration": 20,
    "start_time": "2022-04-08T07:33:25.026Z"
   },
   {
    "duration": 22,
    "start_time": "2022-04-08T07:35:07.522Z"
   },
   {
    "duration": 24,
    "start_time": "2022-04-08T07:36:08.963Z"
   },
   {
    "duration": 10,
    "start_time": "2022-04-08T07:37:36.928Z"
   },
   {
    "duration": 26,
    "start_time": "2022-04-08T07:38:19.904Z"
   },
   {
    "duration": 2064,
    "start_time": "2022-04-08T07:39:10.368Z"
   },
   {
    "duration": 20,
    "start_time": "2022-04-08T07:40:02.550Z"
   },
   {
    "duration": 10,
    "start_time": "2022-04-08T07:40:18.373Z"
   },
   {
    "duration": 11,
    "start_time": "2022-04-08T07:40:28.325Z"
   },
   {
    "duration": 10,
    "start_time": "2022-04-08T07:42:36.341Z"
   },
   {
    "duration": 25,
    "start_time": "2022-04-08T07:43:23.563Z"
   },
   {
    "duration": 7,
    "start_time": "2022-04-08T07:43:54.637Z"
   },
   {
    "duration": 2114,
    "start_time": "2022-04-08T07:44:37.587Z"
   },
   {
    "duration": 7,
    "start_time": "2022-04-08T07:45:04.635Z"
   },
   {
    "duration": 8,
    "start_time": "2022-04-08T07:45:38.810Z"
   },
   {
    "duration": 23,
    "start_time": "2022-04-08T07:45:46.930Z"
   },
   {
    "duration": 8,
    "start_time": "2022-04-08T07:46:21.450Z"
   },
   {
    "duration": 2037,
    "start_time": "2022-04-08T07:46:43.785Z"
   },
   {
    "duration": 1999,
    "start_time": "2022-04-08T07:56:55.770Z"
   },
   {
    "duration": 1929,
    "start_time": "2022-04-08T07:57:10.859Z"
   },
   {
    "duration": 1926,
    "start_time": "2022-04-08T07:57:35.867Z"
   },
   {
    "duration": 84,
    "start_time": "2022-04-08T07:58:11.085Z"
   },
   {
    "duration": 4,
    "start_time": "2022-04-08T07:58:11.171Z"
   },
   {
    "duration": 6,
    "start_time": "2022-04-08T07:58:11.176Z"
   },
   {
    "duration": 200,
    "start_time": "2022-04-08T08:02:10.474Z"
   },
   {
    "duration": 10,
    "start_time": "2022-04-08T08:02:50.631Z"
   },
   {
    "duration": 11,
    "start_time": "2022-04-08T08:07:36.629Z"
   },
   {
    "duration": 2283,
    "start_time": "2022-04-08T08:08:55.453Z"
   },
   {
    "duration": 15,
    "start_time": "2022-04-08T08:11:03.738Z"
   },
   {
    "duration": 10,
    "start_time": "2022-04-08T08:11:17.146Z"
   },
   {
    "duration": 7,
    "start_time": "2022-04-08T08:12:22.522Z"
   },
   {
    "duration": 9,
    "start_time": "2022-04-08T08:13:53.473Z"
   },
   {
    "duration": 83,
    "start_time": "2022-04-08T08:14:22.643Z"
   },
   {
    "duration": 4,
    "start_time": "2022-04-08T08:14:22.728Z"
   },
   {
    "duration": 10,
    "start_time": "2022-04-08T08:14:22.733Z"
   },
   {
    "duration": 4,
    "start_time": "2022-04-08T08:14:37.337Z"
   },
   {
    "duration": 10,
    "start_time": "2022-04-08T08:14:41.488Z"
   },
   {
    "duration": 18,
    "start_time": "2022-04-08T08:14:53.697Z"
   },
   {
    "duration": 11,
    "start_time": "2022-04-08T08:15:20.873Z"
   },
   {
    "duration": 10,
    "start_time": "2022-04-08T08:16:06.552Z"
   },
   {
    "duration": 10,
    "start_time": "2022-04-08T08:16:14.087Z"
   },
   {
    "duration": 84,
    "start_time": "2022-04-08T08:16:17.610Z"
   },
   {
    "duration": 4,
    "start_time": "2022-04-08T08:16:17.695Z"
   },
   {
    "duration": 13,
    "start_time": "2022-04-08T08:16:17.701Z"
   },
   {
    "duration": 10,
    "start_time": "2022-04-08T08:16:35.311Z"
   },
   {
    "duration": 13,
    "start_time": "2022-04-08T08:17:44.918Z"
   },
   {
    "duration": 20,
    "start_time": "2022-04-08T08:17:56.054Z"
   },
   {
    "duration": 8,
    "start_time": "2022-04-08T08:39:37.594Z"
   },
   {
    "duration": 21,
    "start_time": "2022-04-08T08:41:09.095Z"
   },
   {
    "duration": 23,
    "start_time": "2022-04-08T08:43:27.975Z"
   },
   {
    "duration": 22,
    "start_time": "2022-04-08T08:44:44.270Z"
   },
   {
    "duration": 725,
    "start_time": "2022-04-08T08:58:33.507Z"
   },
   {
    "duration": 4,
    "start_time": "2022-04-08T08:59:20.084Z"
   },
   {
    "duration": 23,
    "start_time": "2022-04-08T09:00:51.444Z"
   },
   {
    "duration": 96,
    "start_time": "2022-04-08T09:00:58.716Z"
   },
   {
    "duration": 4,
    "start_time": "2022-04-08T09:00:58.814Z"
   },
   {
    "duration": 28,
    "start_time": "2022-04-08T09:00:58.820Z"
   },
   {
    "duration": 3,
    "start_time": "2022-04-08T09:00:58.850Z"
   },
   {
    "duration": 16,
    "start_time": "2022-04-08T10:29:23.041Z"
   },
   {
    "duration": 38,
    "start_time": "2022-04-08T10:30:25.273Z"
   },
   {
    "duration": 88,
    "start_time": "2022-04-08T10:30:37.067Z"
   },
   {
    "duration": 4,
    "start_time": "2022-04-08T10:30:37.157Z"
   },
   {
    "duration": 39,
    "start_time": "2022-04-08T10:30:37.162Z"
   },
   {
    "duration": 3,
    "start_time": "2022-04-08T10:30:37.203Z"
   },
   {
    "duration": 29,
    "start_time": "2022-04-08T10:30:37.207Z"
   },
   {
    "duration": 27,
    "start_time": "2022-04-08T10:33:23.783Z"
   },
   {
    "duration": 17,
    "start_time": "2022-04-08T10:36:49.206Z"
   },
   {
    "duration": 4,
    "start_time": "2022-04-08T10:37:08.118Z"
   },
   {
    "duration": 29,
    "start_time": "2022-04-08T10:38:45.621Z"
   },
   {
    "duration": 281,
    "start_time": "2022-04-08T10:40:34.579Z"
   },
   {
    "duration": 17,
    "start_time": "2022-04-08T10:40:49.578Z"
   },
   {
    "duration": 85,
    "start_time": "2022-04-08T10:40:54.853Z"
   },
   {
    "duration": 4,
    "start_time": "2022-04-08T10:40:54.939Z"
   },
   {
    "duration": 38,
    "start_time": "2022-04-08T10:40:54.944Z"
   },
   {
    "duration": 3,
    "start_time": "2022-04-08T10:40:54.984Z"
   },
   {
    "duration": 18,
    "start_time": "2022-04-08T10:40:54.989Z"
   },
   {
    "duration": 10,
    "start_time": "2022-04-08T10:41:09.923Z"
   },
   {
    "duration": 15,
    "start_time": "2022-04-08T10:41:21.090Z"
   },
   {
    "duration": 15,
    "start_time": "2022-04-08T10:41:39.251Z"
   },
   {
    "duration": 22,
    "start_time": "2022-04-08T10:42:15.418Z"
   },
   {
    "duration": 32,
    "start_time": "2022-04-08T10:42:32.953Z"
   },
   {
    "duration": 27,
    "start_time": "2022-04-08T10:46:00.263Z"
   },
   {
    "duration": 29,
    "start_time": "2022-04-08T10:46:13.607Z"
   },
   {
    "duration": 41,
    "start_time": "2022-04-08T10:46:32.767Z"
   },
   {
    "duration": 66,
    "start_time": "2022-04-08T10:47:14.199Z"
   },
   {
    "duration": 514,
    "start_time": "2022-04-11T16:43:50.946Z"
   },
   {
    "duration": 6,
    "start_time": "2022-04-11T16:43:51.462Z"
   },
   {
    "duration": 61,
    "start_time": "2022-04-11T16:43:51.470Z"
   },
   {
    "duration": 5,
    "start_time": "2022-04-11T16:43:51.534Z"
   },
   {
    "duration": 67,
    "start_time": "2022-04-11T16:43:51.542Z"
   },
   {
    "duration": 77,
    "start_time": "2022-04-11T16:43:51.610Z"
   },
   {
    "duration": 1585,
    "start_time": "2022-04-11T16:50:01.033Z"
   },
   {
    "duration": 8,
    "start_time": "2022-04-11T16:50:22.196Z"
   },
   {
    "duration": 6,
    "start_time": "2022-04-11T16:50:44.018Z"
   },
   {
    "duration": 10,
    "start_time": "2022-04-11T16:52:15.264Z"
   },
   {
    "duration": 19,
    "start_time": "2022-04-11T16:55:19.382Z"
   },
   {
    "duration": 16,
    "start_time": "2022-04-11T16:56:15.566Z"
   },
   {
    "duration": 24,
    "start_time": "2022-04-11T17:14:42.331Z"
   },
   {
    "duration": 22,
    "start_time": "2022-04-11T17:15:48.289Z"
   },
   {
    "duration": 114,
    "start_time": "2022-04-11T17:16:03.356Z"
   },
   {
    "duration": 99,
    "start_time": "2022-04-11T17:16:28.157Z"
   },
   {
    "duration": 24,
    "start_time": "2022-04-11T17:16:37.300Z"
   },
   {
    "duration": 25,
    "start_time": "2022-04-11T17:16:53.217Z"
   },
   {
    "duration": 19,
    "start_time": "2022-04-11T17:19:24.953Z"
   },
   {
    "duration": 24,
    "start_time": "2022-04-11T17:20:39.765Z"
   },
   {
    "duration": 11,
    "start_time": "2022-04-11T17:23:07.038Z"
   },
   {
    "duration": 10,
    "start_time": "2022-04-11T17:24:41.434Z"
   },
   {
    "duration": 11,
    "start_time": "2022-04-11T17:25:03.448Z"
   },
   {
    "duration": 85,
    "start_time": "2022-04-11T17:25:16.381Z"
   },
   {
    "duration": 4,
    "start_time": "2022-04-11T17:25:16.468Z"
   },
   {
    "duration": 42,
    "start_time": "2022-04-11T17:25:16.474Z"
   },
   {
    "duration": 5,
    "start_time": "2022-04-11T17:25:16.518Z"
   },
   {
    "duration": 66,
    "start_time": "2022-04-11T17:25:16.525Z"
   },
   {
    "duration": 32,
    "start_time": "2022-04-11T17:25:16.593Z"
   },
   {
    "duration": 25,
    "start_time": "2022-04-11T17:25:28.165Z"
   },
   {
    "duration": 18,
    "start_time": "2022-04-11T17:25:39.454Z"
   },
   {
    "duration": 13,
    "start_time": "2022-04-11T17:26:37.331Z"
   },
   {
    "duration": 83,
    "start_time": "2022-04-11T17:26:41.568Z"
   },
   {
    "duration": 4,
    "start_time": "2022-04-11T17:26:41.653Z"
   },
   {
    "duration": 26,
    "start_time": "2022-04-11T17:26:41.658Z"
   },
   {
    "duration": 24,
    "start_time": "2022-04-11T17:26:41.686Z"
   },
   {
    "duration": 44,
    "start_time": "2022-04-11T17:26:41.711Z"
   },
   {
    "duration": 25,
    "start_time": "2022-04-11T17:26:41.756Z"
   },
   {
    "duration": 513,
    "start_time": "2022-04-12T10:08:40.083Z"
   },
   {
    "duration": 5,
    "start_time": "2022-04-12T10:08:40.598Z"
   },
   {
    "duration": 29,
    "start_time": "2022-04-12T10:08:40.604Z"
   },
   {
    "duration": 3,
    "start_time": "2022-04-12T10:08:40.635Z"
   },
   {
    "duration": 46,
    "start_time": "2022-04-12T10:08:40.640Z"
   },
   {
    "duration": 42,
    "start_time": "2022-04-12T10:08:40.688Z"
   },
   {
    "duration": 1512,
    "start_time": "2022-04-12T10:10:06.398Z"
   },
   {
    "duration": 3,
    "start_time": "2022-04-12T10:12:36.581Z"
   },
   {
    "duration": 13,
    "start_time": "2022-04-12T10:12:53.229Z"
   },
   {
    "duration": 104,
    "start_time": "2022-04-12T10:17:45.411Z"
   },
   {
    "duration": 90,
    "start_time": "2022-04-12T10:22:51.159Z"
   },
   {
    "duration": 12,
    "start_time": "2022-04-12T10:24:07.639Z"
   },
   {
    "duration": 11,
    "start_time": "2022-04-12T10:27:42.141Z"
   },
   {
    "duration": 10,
    "start_time": "2022-04-12T10:29:38.844Z"
   },
   {
    "duration": 9,
    "start_time": "2022-04-12T10:31:29.763Z"
   },
   {
    "duration": 23,
    "start_time": "2022-04-12T10:32:27.777Z"
   },
   {
    "duration": 88,
    "start_time": "2022-04-12T10:32:42.267Z"
   },
   {
    "duration": 4,
    "start_time": "2022-04-12T10:32:42.357Z"
   },
   {
    "duration": 25,
    "start_time": "2022-04-12T10:32:42.365Z"
   },
   {
    "duration": 18,
    "start_time": "2022-04-12T10:32:42.392Z"
   },
   {
    "duration": 47,
    "start_time": "2022-04-12T10:32:42.412Z"
   },
   {
    "duration": 24,
    "start_time": "2022-04-12T10:32:42.461Z"
   },
   {
    "duration": 34,
    "start_time": "2022-04-12T10:32:42.486Z"
   },
   {
    "duration": 9,
    "start_time": "2022-04-12T10:33:08.137Z"
   },
   {
    "duration": 13,
    "start_time": "2022-04-12T10:33:27.937Z"
   },
   {
    "duration": 102,
    "start_time": "2022-04-12T10:35:52.527Z"
   },
   {
    "duration": 114,
    "start_time": "2022-04-12T10:36:24.775Z"
   },
   {
    "duration": 81,
    "start_time": "2022-04-12T10:38:36.478Z"
   },
   {
    "duration": 89,
    "start_time": "2022-04-12T10:39:10.070Z"
   },
   {
    "duration": 134,
    "start_time": "2022-04-12T10:39:22.182Z"
   },
   {
    "duration": 101,
    "start_time": "2022-04-12T10:41:06.666Z"
   },
   {
    "duration": 9,
    "start_time": "2022-04-12T10:41:25.365Z"
   },
   {
    "duration": 8,
    "start_time": "2022-04-12T10:44:11.211Z"
   },
   {
    "duration": 9,
    "start_time": "2022-04-12T10:44:28.954Z"
   },
   {
    "duration": 12,
    "start_time": "2022-04-12T10:44:48.890Z"
   },
   {
    "duration": 10,
    "start_time": "2022-04-12T10:46:50.049Z"
   },
   {
    "duration": 13,
    "start_time": "2022-04-12T10:48:35.904Z"
   },
   {
    "duration": 12,
    "start_time": "2022-04-12T10:49:52.239Z"
   },
   {
    "duration": 16,
    "start_time": "2022-04-12T10:50:21.198Z"
   },
   {
    "duration": 24,
    "start_time": "2022-04-12T10:52:35.821Z"
   },
   {
    "duration": 23,
    "start_time": "2022-04-12T10:53:19.444Z"
   },
   {
    "duration": 90,
    "start_time": "2022-04-12T10:54:59.116Z"
   },
   {
    "duration": 22,
    "start_time": "2022-04-12T10:55:46.650Z"
   },
   {
    "duration": 113,
    "start_time": "2022-04-12T11:01:09.694Z"
   },
   {
    "duration": 109,
    "start_time": "2022-04-12T11:01:21.263Z"
   },
   {
    "duration": 26,
    "start_time": "2022-04-12T11:01:41.351Z"
   },
   {
    "duration": 13,
    "start_time": "2022-04-12T11:02:34.205Z"
   },
   {
    "duration": 84,
    "start_time": "2022-04-12T11:02:38.487Z"
   },
   {
    "duration": 4,
    "start_time": "2022-04-12T11:02:38.573Z"
   },
   {
    "duration": 39,
    "start_time": "2022-04-12T11:02:38.579Z"
   },
   {
    "duration": 4,
    "start_time": "2022-04-12T11:02:38.620Z"
   },
   {
    "duration": 43,
    "start_time": "2022-04-12T11:02:38.625Z"
   },
   {
    "duration": 49,
    "start_time": "2022-04-12T11:02:38.670Z"
   },
   {
    "duration": 11,
    "start_time": "2022-04-12T11:02:38.721Z"
   },
   {
    "duration": 30,
    "start_time": "2022-04-12T11:04:17.216Z"
   },
   {
    "duration": 16,
    "start_time": "2022-04-12T11:07:41.740Z"
   },
   {
    "duration": 7,
    "start_time": "2022-04-12T11:08:15.931Z"
   },
   {
    "duration": 7,
    "start_time": "2022-04-12T11:28:44.566Z"
   },
   {
    "duration": 12,
    "start_time": "2022-04-12T11:29:45.718Z"
   },
   {
    "duration": 31,
    "start_time": "2022-04-12T11:30:16.909Z"
   },
   {
    "duration": 25,
    "start_time": "2022-04-12T11:30:28.134Z"
   },
   {
    "duration": 27,
    "start_time": "2022-04-12T11:31:21.654Z"
   },
   {
    "duration": 372,
    "start_time": "2022-04-12T11:33:56.660Z"
   },
   {
    "duration": 44,
    "start_time": "2022-04-12T11:35:48.646Z"
   },
   {
    "duration": 15,
    "start_time": "2022-04-12T11:36:50.423Z"
   },
   {
    "duration": 30,
    "start_time": "2022-04-12T11:38:03.102Z"
   },
   {
    "duration": 31,
    "start_time": "2022-04-12T11:38:46.534Z"
   },
   {
    "duration": 97,
    "start_time": "2022-04-12T11:39:44.702Z"
   },
   {
    "duration": 5,
    "start_time": "2022-04-12T11:39:44.801Z"
   },
   {
    "duration": 27,
    "start_time": "2022-04-12T11:39:44.808Z"
   },
   {
    "duration": 3,
    "start_time": "2022-04-12T11:39:44.837Z"
   },
   {
    "duration": 45,
    "start_time": "2022-04-12T11:39:44.843Z"
   },
   {
    "duration": 41,
    "start_time": "2022-04-12T11:39:44.890Z"
   },
   {
    "duration": 14,
    "start_time": "2022-04-12T11:39:44.932Z"
   },
   {
    "duration": 31,
    "start_time": "2022-04-12T11:39:44.948Z"
   },
   {
    "duration": 88,
    "start_time": "2022-04-12T11:39:57.276Z"
   },
   {
    "duration": 4,
    "start_time": "2022-04-12T11:39:57.366Z"
   },
   {
    "duration": 38,
    "start_time": "2022-04-12T11:39:57.372Z"
   },
   {
    "duration": 3,
    "start_time": "2022-04-12T11:39:57.412Z"
   },
   {
    "duration": 40,
    "start_time": "2022-04-12T11:39:57.418Z"
   },
   {
    "duration": 51,
    "start_time": "2022-04-12T11:39:57.460Z"
   },
   {
    "duration": 15,
    "start_time": "2022-04-12T11:39:57.513Z"
   },
   {
    "duration": 38,
    "start_time": "2022-04-12T11:39:57.529Z"
   },
   {
    "duration": 29,
    "start_time": "2022-04-12T11:41:03.764Z"
   },
   {
    "duration": 442,
    "start_time": "2022-04-12T11:45:27.481Z"
   },
   {
    "duration": 364,
    "start_time": "2022-04-12T11:45:48.009Z"
   },
   {
    "duration": 29,
    "start_time": "2022-04-12T11:47:20.464Z"
   },
   {
    "duration": 29,
    "start_time": "2022-04-12T11:48:26.087Z"
   },
   {
    "duration": 27,
    "start_time": "2022-04-12T11:53:50.223Z"
   },
   {
    "duration": 30,
    "start_time": "2022-04-12T11:54:21.334Z"
   },
   {
    "duration": 32,
    "start_time": "2022-04-12T11:57:07.156Z"
   },
   {
    "duration": 32,
    "start_time": "2022-04-12T11:58:38.579Z"
   },
   {
    "duration": 161,
    "start_time": "2022-04-12T11:59:00.108Z"
   },
   {
    "duration": 33,
    "start_time": "2022-04-12T11:59:10.018Z"
   },
   {
    "duration": 34,
    "start_time": "2022-04-12T12:08:01.478Z"
   },
   {
    "duration": 34,
    "start_time": "2022-04-12T12:08:10.319Z"
   },
   {
    "duration": 30,
    "start_time": "2022-04-12T12:13:14.203Z"
   },
   {
    "duration": 28,
    "start_time": "2022-04-12T12:13:50.148Z"
   },
   {
    "duration": 27,
    "start_time": "2022-04-12T12:14:12.211Z"
   },
   {
    "duration": 28,
    "start_time": "2022-04-12T12:14:24.195Z"
   },
   {
    "duration": 28,
    "start_time": "2022-04-12T12:14:36.564Z"
   },
   {
    "duration": 29,
    "start_time": "2022-04-12T12:16:36.090Z"
   },
   {
    "duration": 32,
    "start_time": "2022-04-12T12:18:22.656Z"
   },
   {
    "duration": 33,
    "start_time": "2022-04-12T12:28:22.640Z"
   },
   {
    "duration": 27,
    "start_time": "2022-04-12T12:28:32.674Z"
   },
   {
    "duration": 29,
    "start_time": "2022-04-12T12:29:05.313Z"
   },
   {
    "duration": 30,
    "start_time": "2022-04-12T12:29:33.497Z"
   },
   {
    "duration": 83,
    "start_time": "2022-04-12T12:32:32.335Z"
   },
   {
    "duration": 4,
    "start_time": "2022-04-12T12:32:32.420Z"
   },
   {
    "duration": 27,
    "start_time": "2022-04-12T12:32:32.426Z"
   },
   {
    "duration": 3,
    "start_time": "2022-04-12T12:32:32.455Z"
   },
   {
    "duration": 62,
    "start_time": "2022-04-12T12:32:32.460Z"
   },
   {
    "duration": 24,
    "start_time": "2022-04-12T12:32:32.524Z"
   },
   {
    "duration": 14,
    "start_time": "2022-04-12T12:32:32.549Z"
   },
   {
    "duration": 54,
    "start_time": "2022-04-12T12:32:32.565Z"
   },
   {
    "duration": 27,
    "start_time": "2022-04-12T12:34:25.363Z"
   },
   {
    "duration": 29,
    "start_time": "2022-04-12T12:35:15.383Z"
   },
   {
    "duration": 80,
    "start_time": "2022-04-12T12:36:05.453Z"
   },
   {
    "duration": 4,
    "start_time": "2022-04-12T12:36:05.535Z"
   },
   {
    "duration": 26,
    "start_time": "2022-04-12T12:36:05.541Z"
   },
   {
    "duration": 3,
    "start_time": "2022-04-12T12:36:05.569Z"
   },
   {
    "duration": 58,
    "start_time": "2022-04-12T12:36:05.574Z"
   },
   {
    "duration": 24,
    "start_time": "2022-04-12T12:36:05.634Z"
   },
   {
    "duration": 14,
    "start_time": "2022-04-12T12:36:05.659Z"
   },
   {
    "duration": 49,
    "start_time": "2022-04-12T12:36:05.674Z"
   },
   {
    "duration": 27,
    "start_time": "2022-04-12T12:37:05.834Z"
   },
   {
    "duration": 16,
    "start_time": "2022-04-12T12:38:26.483Z"
   },
   {
    "duration": 12,
    "start_time": "2022-04-12T12:39:33.584Z"
   },
   {
    "duration": 12,
    "start_time": "2022-04-12T12:42:24.149Z"
   },
   {
    "duration": 81,
    "start_time": "2022-04-12T12:42:31.495Z"
   },
   {
    "duration": 4,
    "start_time": "2022-04-12T12:42:31.579Z"
   },
   {
    "duration": 35,
    "start_time": "2022-04-12T12:42:31.584Z"
   },
   {
    "duration": 3,
    "start_time": "2022-04-12T12:42:31.621Z"
   },
   {
    "duration": 43,
    "start_time": "2022-04-12T12:42:31.626Z"
   },
   {
    "duration": 17,
    "start_time": "2022-04-12T12:42:31.671Z"
   },
   {
    "duration": 15,
    "start_time": "2022-04-12T12:42:31.708Z"
   },
   {
    "duration": 19,
    "start_time": "2022-04-12T12:42:31.724Z"
   },
   {
    "duration": 475,
    "start_time": "2022-04-12T16:58:03.753Z"
   },
   {
    "duration": 6,
    "start_time": "2022-04-12T16:58:04.230Z"
   },
   {
    "duration": 51,
    "start_time": "2022-04-12T16:58:04.238Z"
   },
   {
    "duration": 4,
    "start_time": "2022-04-12T16:58:04.292Z"
   },
   {
    "duration": 54,
    "start_time": "2022-04-12T16:58:04.298Z"
   },
   {
    "duration": 20,
    "start_time": "2022-04-12T16:58:04.354Z"
   },
   {
    "duration": 33,
    "start_time": "2022-04-12T16:58:04.376Z"
   },
   {
    "duration": 26,
    "start_time": "2022-04-12T16:58:04.417Z"
   },
   {
    "duration": 19,
    "start_time": "2022-04-12T16:58:37.381Z"
   },
   {
    "duration": 11,
    "start_time": "2022-04-12T17:04:04.459Z"
   },
   {
    "duration": 18,
    "start_time": "2022-04-12T17:08:16.543Z"
   },
   {
    "duration": 27,
    "start_time": "2022-04-12T18:02:30.056Z"
   },
   {
    "duration": 66,
    "start_time": "2022-04-12T18:05:28.096Z"
   },
   {
    "duration": 12,
    "start_time": "2022-04-12T18:05:56.874Z"
   },
   {
    "duration": 9,
    "start_time": "2022-04-12T18:06:10.926Z"
   },
   {
    "duration": 21,
    "start_time": "2022-04-12T18:11:30.119Z"
   },
   {
    "duration": 39,
    "start_time": "2022-04-12T18:12:28.479Z"
   },
   {
    "duration": 16,
    "start_time": "2022-04-12T18:14:07.800Z"
   },
   {
    "duration": 22,
    "start_time": "2022-04-12T18:17:00.335Z"
   },
   {
    "duration": 7,
    "start_time": "2022-04-12T18:21:40.118Z"
   },
   {
    "duration": 2152,
    "start_time": "2022-04-13T10:57:19.633Z"
   },
   {
    "duration": 85,
    "start_time": "2022-04-13T10:57:27.433Z"
   },
   {
    "duration": 6,
    "start_time": "2022-04-13T10:57:27.521Z"
   },
   {
    "duration": 34,
    "start_time": "2022-04-13T10:57:27.529Z"
   },
   {
    "duration": 5,
    "start_time": "2022-04-13T10:57:27.566Z"
   },
   {
    "duration": 80,
    "start_time": "2022-04-13T10:57:27.573Z"
   },
   {
    "duration": 30,
    "start_time": "2022-04-13T10:57:27.655Z"
   },
   {
    "duration": 41,
    "start_time": "2022-04-13T10:57:27.687Z"
   },
   {
    "duration": 81,
    "start_time": "2022-04-13T10:57:27.730Z"
   },
   {
    "duration": 15,
    "start_time": "2022-04-13T10:57:27.813Z"
   },
   {
    "duration": 119,
    "start_time": "2022-04-13T11:00:31.662Z"
   },
   {
    "duration": 27,
    "start_time": "2022-04-13T11:05:56.747Z"
   },
   {
    "duration": 26,
    "start_time": "2022-04-13T11:06:39.147Z"
   },
   {
    "duration": 28,
    "start_time": "2022-04-13T11:06:57.546Z"
   },
   {
    "duration": 25,
    "start_time": "2022-04-13T11:07:35.394Z"
   },
   {
    "duration": 22,
    "start_time": "2022-04-13T11:07:51.978Z"
   },
   {
    "duration": 37,
    "start_time": "2022-04-13T11:08:14.146Z"
   },
   {
    "duration": 40,
    "start_time": "2022-04-13T11:09:49.536Z"
   },
   {
    "duration": 23,
    "start_time": "2022-04-13T11:11:17.983Z"
   },
   {
    "duration": 24,
    "start_time": "2022-04-13T11:11:51.904Z"
   },
   {
    "duration": 20,
    "start_time": "2022-04-13T11:13:31.719Z"
   },
   {
    "duration": 24,
    "start_time": "2022-04-13T11:15:02.444Z"
   },
   {
    "duration": 19,
    "start_time": "2022-04-13T11:15:20.244Z"
   },
   {
    "duration": 20,
    "start_time": "2022-04-13T11:18:42.466Z"
   },
   {
    "duration": 18,
    "start_time": "2022-04-13T11:19:01.490Z"
   },
   {
    "duration": 14,
    "start_time": "2022-04-13T11:44:45.850Z"
   },
   {
    "duration": 13,
    "start_time": "2022-04-13T11:45:09.841Z"
   },
   {
    "duration": 84,
    "start_time": "2022-04-13T11:45:31.563Z"
   },
   {
    "duration": 5,
    "start_time": "2022-04-13T11:45:31.650Z"
   },
   {
    "duration": 31,
    "start_time": "2022-04-13T11:45:31.658Z"
   },
   {
    "duration": 14,
    "start_time": "2022-04-13T11:45:31.692Z"
   },
   {
    "duration": 85,
    "start_time": "2022-04-13T11:45:31.709Z"
   },
   {
    "duration": 31,
    "start_time": "2022-04-13T11:45:31.796Z"
   },
   {
    "duration": 25,
    "start_time": "2022-04-13T11:45:31.830Z"
   },
   {
    "duration": 80,
    "start_time": "2022-04-13T11:45:31.857Z"
   },
   {
    "duration": 15,
    "start_time": "2022-04-13T11:45:31.940Z"
   },
   {
    "duration": 18,
    "start_time": "2022-04-13T11:50:03.510Z"
   },
   {
    "duration": 17,
    "start_time": "2022-04-13T11:50:24.306Z"
   },
   {
    "duration": 85,
    "start_time": "2022-04-13T11:50:28.961Z"
   },
   {
    "duration": 6,
    "start_time": "2022-04-13T11:50:29.049Z"
   },
   {
    "duration": 19,
    "start_time": "2022-04-13T11:50:29.058Z"
   },
   {
    "duration": 5,
    "start_time": "2022-04-13T11:50:29.080Z"
   },
   {
    "duration": 89,
    "start_time": "2022-04-13T11:50:29.089Z"
   },
   {
    "duration": 26,
    "start_time": "2022-04-13T11:50:29.180Z"
   },
   {
    "duration": 21,
    "start_time": "2022-04-13T11:50:29.224Z"
   },
   {
    "duration": 78,
    "start_time": "2022-04-13T11:50:29.247Z"
   },
   {
    "duration": 23,
    "start_time": "2022-04-13T11:50:29.328Z"
   },
   {
    "duration": 17,
    "start_time": "2022-04-13T11:51:45.013Z"
   },
   {
    "duration": 36,
    "start_time": "2022-04-13T12:03:25.978Z"
   },
   {
    "duration": 47,
    "start_time": "2022-04-13T12:04:26.392Z"
   },
   {
    "duration": 37,
    "start_time": "2022-04-13T12:04:54.798Z"
   },
   {
    "duration": 35,
    "start_time": "2022-04-13T12:10:23.970Z"
   },
   {
    "duration": 34,
    "start_time": "2022-04-13T12:10:43.099Z"
   },
   {
    "duration": 40,
    "start_time": "2022-04-13T12:11:30.706Z"
   },
   {
    "duration": 43,
    "start_time": "2022-04-13T12:11:49.354Z"
   },
   {
    "duration": 85,
    "start_time": "2022-04-13T12:12:22.130Z"
   },
   {
    "duration": 11,
    "start_time": "2022-04-13T12:12:22.218Z"
   },
   {
    "duration": 14,
    "start_time": "2022-04-13T12:12:22.231Z"
   },
   {
    "duration": 13,
    "start_time": "2022-04-13T12:12:22.248Z"
   },
   {
    "duration": 84,
    "start_time": "2022-04-13T12:12:22.264Z"
   },
   {
    "duration": 27,
    "start_time": "2022-04-13T12:12:22.350Z"
   },
   {
    "duration": 47,
    "start_time": "2022-04-13T12:12:22.380Z"
   },
   {
    "duration": 95,
    "start_time": "2022-04-13T12:12:22.430Z"
   },
   {
    "duration": 50,
    "start_time": "2022-04-13T12:12:22.528Z"
   },
   {
    "duration": 45,
    "start_time": "2022-04-13T12:13:08.417Z"
   },
   {
    "duration": 43,
    "start_time": "2022-04-13T12:13:37.240Z"
   },
   {
    "duration": 43,
    "start_time": "2022-04-13T12:24:11.619Z"
   },
   {
    "duration": 69,
    "start_time": "2022-04-13T12:25:14.610Z"
   },
   {
    "duration": 68,
    "start_time": "2022-04-13T12:26:54.177Z"
   },
   {
    "duration": 48,
    "start_time": "2022-04-13T12:27:55.201Z"
   },
   {
    "duration": 50,
    "start_time": "2022-04-13T12:28:34.225Z"
   },
   {
    "duration": 153,
    "start_time": "2022-04-13T12:28:49.912Z"
   },
   {
    "duration": 76,
    "start_time": "2022-04-13T12:29:02.383Z"
   },
   {
    "duration": 5,
    "start_time": "2022-04-13T12:49:37.609Z"
   },
   {
    "duration": 91,
    "start_time": "2022-04-13T12:50:45.636Z"
   },
   {
    "duration": 5,
    "start_time": "2022-04-13T12:50:45.731Z"
   },
   {
    "duration": 13,
    "start_time": "2022-04-13T12:50:45.739Z"
   },
   {
    "duration": 5,
    "start_time": "2022-04-13T12:50:45.754Z"
   },
   {
    "duration": 97,
    "start_time": "2022-04-13T12:50:45.763Z"
   },
   {
    "duration": 41,
    "start_time": "2022-04-13T12:50:45.863Z"
   },
   {
    "duration": 40,
    "start_time": "2022-04-13T12:50:45.907Z"
   },
   {
    "duration": 77,
    "start_time": "2022-04-13T12:50:45.950Z"
   },
   {
    "duration": 103,
    "start_time": "2022-04-13T12:50:46.030Z"
   },
   {
    "duration": 420,
    "start_time": "2022-04-13T15:46:14.886Z"
   },
   {
    "duration": 5,
    "start_time": "2022-04-13T15:46:15.307Z"
   },
   {
    "duration": 9,
    "start_time": "2022-04-13T15:46:15.313Z"
   },
   {
    "duration": 2,
    "start_time": "2022-04-13T15:46:15.324Z"
   },
   {
    "duration": 55,
    "start_time": "2022-04-13T15:46:15.328Z"
   },
   {
    "duration": 18,
    "start_time": "2022-04-13T15:46:15.385Z"
   },
   {
    "duration": 12,
    "start_time": "2022-04-13T15:46:15.404Z"
   },
   {
    "duration": 63,
    "start_time": "2022-04-13T15:46:15.418Z"
   },
   {
    "duration": 41,
    "start_time": "2022-04-13T15:46:15.483Z"
   },
   {
    "duration": 32,
    "start_time": "2022-04-13T17:45:56.194Z"
   },
   {
    "duration": 410,
    "start_time": "2022-04-14T06:49:28.379Z"
   },
   {
    "duration": 4,
    "start_time": "2022-04-14T06:49:28.791Z"
   },
   {
    "duration": 40,
    "start_time": "2022-04-14T06:49:28.796Z"
   },
   {
    "duration": 18,
    "start_time": "2022-04-14T06:49:28.838Z"
   },
   {
    "duration": 66,
    "start_time": "2022-04-14T06:49:28.857Z"
   },
   {
    "duration": 21,
    "start_time": "2022-04-14T06:49:28.924Z"
   },
   {
    "duration": 52,
    "start_time": "2022-04-14T06:49:28.946Z"
   },
   {
    "duration": 76,
    "start_time": "2022-04-14T06:49:28.999Z"
   },
   {
    "duration": 71,
    "start_time": "2022-04-14T06:49:29.076Z"
   },
   {
    "duration": 40,
    "start_time": "2022-04-14T06:49:29.149Z"
   },
   {
    "duration": 139,
    "start_time": "2022-04-14T06:52:38.980Z"
   },
   {
    "duration": 41,
    "start_time": "2022-04-14T06:52:49.605Z"
   },
   {
    "duration": 55,
    "start_time": "2022-04-14T06:52:54.822Z"
   },
   {
    "duration": 4,
    "start_time": "2022-04-14T06:52:54.878Z"
   },
   {
    "duration": 9,
    "start_time": "2022-04-14T06:52:54.883Z"
   },
   {
    "duration": 3,
    "start_time": "2022-04-14T06:52:54.894Z"
   },
   {
    "duration": 55,
    "start_time": "2022-04-14T06:52:54.899Z"
   },
   {
    "duration": 16,
    "start_time": "2022-04-14T06:52:54.955Z"
   },
   {
    "duration": 13,
    "start_time": "2022-04-14T06:52:54.973Z"
   },
   {
    "duration": 50,
    "start_time": "2022-04-14T06:52:54.987Z"
   },
   {
    "duration": 40,
    "start_time": "2022-04-14T06:52:55.038Z"
   },
   {
    "duration": 51,
    "start_time": "2022-04-14T06:52:55.079Z"
   },
   {
    "duration": 100,
    "start_time": "2022-04-14T06:57:42.674Z"
   },
   {
    "duration": 98,
    "start_time": "2022-04-14T06:58:12.746Z"
   },
   {
    "duration": 33,
    "start_time": "2022-04-14T06:58:34.306Z"
   },
   {
    "duration": 1695,
    "start_time": "2022-04-14T06:59:23.041Z"
   },
   {
    "duration": 35,
    "start_time": "2022-04-14T07:01:07.897Z"
   },
   {
    "duration": 30,
    "start_time": "2022-04-14T07:42:16.597Z"
   },
   {
    "duration": 28,
    "start_time": "2022-04-14T07:43:54.245Z"
   },
   {
    "duration": 35,
    "start_time": "2022-04-14T08:06:46.005Z"
   },
   {
    "duration": 22,
    "start_time": "2022-04-14T08:09:45.141Z"
   },
   {
    "duration": 22,
    "start_time": "2022-04-14T08:09:59.076Z"
   },
   {
    "duration": 13,
    "start_time": "2022-04-14T08:11:04.917Z"
   },
   {
    "duration": 25,
    "start_time": "2022-04-14T08:13:01.137Z"
   },
   {
    "duration": 39,
    "start_time": "2022-04-14T08:13:13.595Z"
   },
   {
    "duration": 18,
    "start_time": "2022-04-14T08:15:00.586Z"
   },
   {
    "duration": 24,
    "start_time": "2022-04-14T08:24:54.283Z"
   },
   {
    "duration": 20,
    "start_time": "2022-04-14T08:25:23.940Z"
   },
   {
    "duration": 34,
    "start_time": "2022-04-14T08:49:01.390Z"
   },
   {
    "duration": 57,
    "start_time": "2022-04-14T08:49:21.477Z"
   },
   {
    "duration": 16,
    "start_time": "2022-04-14T08:50:05.677Z"
   },
   {
    "duration": 18,
    "start_time": "2022-04-14T08:50:17.188Z"
   },
   {
    "duration": 58,
    "start_time": "2022-04-14T09:07:12.064Z"
   },
   {
    "duration": 4,
    "start_time": "2022-04-14T09:07:12.125Z"
   },
   {
    "duration": 16,
    "start_time": "2022-04-14T09:07:12.131Z"
   },
   {
    "duration": 4,
    "start_time": "2022-04-14T09:07:12.149Z"
   },
   {
    "duration": 39,
    "start_time": "2022-04-14T09:07:12.154Z"
   },
   {
    "duration": 40,
    "start_time": "2022-04-14T09:07:12.194Z"
   },
   {
    "duration": 15,
    "start_time": "2022-04-14T09:07:12.236Z"
   },
   {
    "duration": 45,
    "start_time": "2022-04-14T09:07:12.252Z"
   },
   {
    "duration": 65,
    "start_time": "2022-04-14T09:07:12.299Z"
   },
   {
    "duration": 11,
    "start_time": "2022-04-14T09:07:12.366Z"
   },
   {
    "duration": 14,
    "start_time": "2022-04-14T09:07:12.379Z"
   },
   {
    "duration": 22,
    "start_time": "2022-04-14T09:08:25.753Z"
   },
   {
    "duration": 51,
    "start_time": "2022-04-14T09:08:57.385Z"
   },
   {
    "duration": 20,
    "start_time": "2022-04-14T09:10:11.065Z"
   },
   {
    "duration": 12,
    "start_time": "2022-04-14T09:12:02.198Z"
   },
   {
    "duration": 492,
    "start_time": "2022-04-23T16:17:42.661Z"
   },
   {
    "duration": 6,
    "start_time": "2022-04-23T16:17:43.155Z"
   },
   {
    "duration": 15,
    "start_time": "2022-04-23T16:17:43.163Z"
   },
   {
    "duration": 4,
    "start_time": "2022-04-23T16:17:43.181Z"
   },
   {
    "duration": 87,
    "start_time": "2022-04-23T16:17:43.188Z"
   },
   {
    "duration": 26,
    "start_time": "2022-04-23T16:17:43.277Z"
   },
   {
    "duration": 21,
    "start_time": "2022-04-23T16:17:43.305Z"
   },
   {
    "duration": 56,
    "start_time": "2022-04-23T16:17:43.348Z"
   },
   {
    "duration": 42,
    "start_time": "2022-04-23T16:17:43.406Z"
   },
   {
    "duration": 12,
    "start_time": "2022-04-23T16:17:43.451Z"
   },
   {
    "duration": 14,
    "start_time": "2022-04-23T16:17:43.465Z"
   },
   {
    "duration": 21,
    "start_time": "2022-04-23T16:17:43.480Z"
   },
   {
    "duration": 511,
    "start_time": "2022-04-25T17:00:46.078Z"
   },
   {
    "duration": 5,
    "start_time": "2022-04-25T17:00:46.591Z"
   },
   {
    "duration": 12,
    "start_time": "2022-04-25T17:00:46.597Z"
   },
   {
    "duration": 3,
    "start_time": "2022-04-25T17:00:46.611Z"
   },
   {
    "duration": 45,
    "start_time": "2022-04-25T17:00:46.616Z"
   },
   {
    "duration": 46,
    "start_time": "2022-04-25T17:00:46.663Z"
   },
   {
    "duration": 14,
    "start_time": "2022-04-25T17:00:46.712Z"
   },
   {
    "duration": 40,
    "start_time": "2022-04-25T17:00:46.728Z"
   },
   {
    "duration": 47,
    "start_time": "2022-04-25T17:00:46.770Z"
   },
   {
    "duration": 11,
    "start_time": "2022-04-25T17:00:46.820Z"
   },
   {
    "duration": 14,
    "start_time": "2022-04-25T17:00:46.833Z"
   },
   {
    "duration": 17,
    "start_time": "2022-04-25T17:00:46.849Z"
   },
   {
    "duration": 20,
    "start_time": "2022-04-25T17:45:49.899Z"
   },
   {
    "duration": 17,
    "start_time": "2022-04-25T17:46:55.108Z"
   },
   {
    "duration": 20,
    "start_time": "2022-04-25T17:49:11.346Z"
   },
   {
    "duration": 118,
    "start_time": "2022-04-25T17:51:40.746Z"
   },
   {
    "duration": 91,
    "start_time": "2022-04-25T17:52:40.519Z"
   },
   {
    "duration": 28,
    "start_time": "2022-04-25T17:52:49.881Z"
   },
   {
    "duration": 1660,
    "start_time": "2022-04-25T17:55:18.027Z"
   },
   {
    "duration": 73,
    "start_time": "2022-04-25T17:55:45.647Z"
   },
   {
    "duration": 5,
    "start_time": "2022-04-25T17:55:45.722Z"
   },
   {
    "duration": 29,
    "start_time": "2022-04-25T17:55:45.729Z"
   },
   {
    "duration": 3,
    "start_time": "2022-04-25T17:55:45.761Z"
   },
   {
    "duration": 72,
    "start_time": "2022-04-25T17:55:45.767Z"
   },
   {
    "duration": 18,
    "start_time": "2022-04-25T17:55:45.841Z"
   },
   {
    "duration": 15,
    "start_time": "2022-04-25T17:55:45.861Z"
   },
   {
    "duration": 57,
    "start_time": "2022-04-25T17:55:45.877Z"
   },
   {
    "duration": 19,
    "start_time": "2022-04-25T17:55:45.936Z"
   },
   {
    "duration": 15,
    "start_time": "2022-04-25T17:55:45.958Z"
   },
   {
    "duration": 50,
    "start_time": "2022-04-25T17:55:45.975Z"
   },
   {
    "duration": 23,
    "start_time": "2022-04-25T17:55:46.027Z"
   },
   {
    "duration": 100,
    "start_time": "2022-04-25T18:27:01.654Z"
   },
   {
    "duration": 780,
    "start_time": "2022-04-25T18:27:47.223Z"
   },
   {
    "duration": 70,
    "start_time": "2022-04-25T18:28:42.228Z"
   },
   {
    "duration": 5,
    "start_time": "2022-04-25T18:28:42.300Z"
   },
   {
    "duration": 902,
    "start_time": "2022-04-25T18:28:42.307Z"
   },
   {
    "duration": 0,
    "start_time": "2022-04-25T18:28:43.212Z"
   },
   {
    "duration": 0,
    "start_time": "2022-04-25T18:28:43.214Z"
   },
   {
    "duration": 0,
    "start_time": "2022-04-25T18:28:43.215Z"
   },
   {
    "duration": 0,
    "start_time": "2022-04-25T18:28:43.216Z"
   },
   {
    "duration": 0,
    "start_time": "2022-04-25T18:28:43.218Z"
   },
   {
    "duration": 0,
    "start_time": "2022-04-25T18:28:43.219Z"
   },
   {
    "duration": 0,
    "start_time": "2022-04-25T18:28:43.220Z"
   },
   {
    "duration": 0,
    "start_time": "2022-04-25T18:28:43.222Z"
   },
   {
    "duration": 1,
    "start_time": "2022-04-25T18:28:43.223Z"
   },
   {
    "duration": 23,
    "start_time": "2022-04-25T18:29:17.630Z"
   },
   {
    "duration": 69,
    "start_time": "2022-04-25T18:29:28.641Z"
   },
   {
    "duration": 4,
    "start_time": "2022-04-25T18:29:28.713Z"
   },
   {
    "duration": 725,
    "start_time": "2022-04-25T18:29:28.719Z"
   },
   {
    "duration": 0,
    "start_time": "2022-04-25T18:29:29.446Z"
   },
   {
    "duration": 0,
    "start_time": "2022-04-25T18:29:29.448Z"
   },
   {
    "duration": 0,
    "start_time": "2022-04-25T18:29:29.449Z"
   },
   {
    "duration": 0,
    "start_time": "2022-04-25T18:29:29.450Z"
   },
   {
    "duration": 0,
    "start_time": "2022-04-25T18:29:29.451Z"
   },
   {
    "duration": 0,
    "start_time": "2022-04-25T18:29:29.452Z"
   },
   {
    "duration": 0,
    "start_time": "2022-04-25T18:29:29.453Z"
   },
   {
    "duration": 0,
    "start_time": "2022-04-25T18:29:29.453Z"
   },
   {
    "duration": 0,
    "start_time": "2022-04-25T18:29:29.454Z"
   },
   {
    "duration": 67,
    "start_time": "2022-04-25T18:30:31.852Z"
   },
   {
    "duration": 5,
    "start_time": "2022-04-25T18:30:31.922Z"
   },
   {
    "duration": 27,
    "start_time": "2022-04-25T18:30:31.928Z"
   },
   {
    "duration": 4,
    "start_time": "2022-04-25T18:30:31.957Z"
   },
   {
    "duration": 74,
    "start_time": "2022-04-25T18:30:31.962Z"
   },
   {
    "duration": 17,
    "start_time": "2022-04-25T18:30:32.038Z"
   },
   {
    "duration": 15,
    "start_time": "2022-04-25T18:30:32.057Z"
   },
   {
    "duration": 62,
    "start_time": "2022-04-25T18:30:32.073Z"
   },
   {
    "duration": 15,
    "start_time": "2022-04-25T18:30:32.137Z"
   },
   {
    "duration": 13,
    "start_time": "2022-04-25T18:30:32.153Z"
   },
   {
    "duration": 49,
    "start_time": "2022-04-25T18:30:32.167Z"
   },
   {
    "duration": 17,
    "start_time": "2022-04-25T18:30:32.217Z"
   },
   {
    "duration": 94,
    "start_time": "2022-04-25T18:32:31.355Z"
   },
   {
    "duration": 734,
    "start_time": "2022-04-25T18:32:44.794Z"
   },
   {
    "duration": 6,
    "start_time": "2022-04-25T18:33:35.943Z"
   },
   {
    "duration": 82,
    "start_time": "2022-04-25T18:33:45.271Z"
   },
   {
    "duration": 174,
    "start_time": "2022-04-26T05:02:47.176Z"
   },
   {
    "duration": 606,
    "start_time": "2022-04-26T05:02:56.755Z"
   },
   {
    "duration": 175,
    "start_time": "2022-04-26T05:02:57.363Z"
   },
   {
    "duration": 0,
    "start_time": "2022-04-26T05:02:57.540Z"
   },
   {
    "duration": 0,
    "start_time": "2022-04-26T05:02:57.542Z"
   },
   {
    "duration": 0,
    "start_time": "2022-04-26T05:02:57.543Z"
   },
   {
    "duration": 0,
    "start_time": "2022-04-26T05:02:57.545Z"
   },
   {
    "duration": 0,
    "start_time": "2022-04-26T05:02:57.546Z"
   },
   {
    "duration": 0,
    "start_time": "2022-04-26T05:02:57.548Z"
   },
   {
    "duration": 0,
    "start_time": "2022-04-26T05:02:57.549Z"
   },
   {
    "duration": 0,
    "start_time": "2022-04-26T05:02:57.551Z"
   },
   {
    "duration": 0,
    "start_time": "2022-04-26T05:02:57.553Z"
   },
   {
    "duration": 0,
    "start_time": "2022-04-26T05:02:57.554Z"
   },
   {
    "duration": 0,
    "start_time": "2022-04-26T05:02:57.555Z"
   },
   {
    "duration": 161,
    "start_time": "2022-04-26T05:03:22.936Z"
   },
   {
    "duration": 46,
    "start_time": "2022-04-26T05:11:52.899Z"
   },
   {
    "duration": 44,
    "start_time": "2022-04-26T05:13:35.186Z"
   },
   {
    "duration": 43,
    "start_time": "2022-04-26T05:14:39.450Z"
   },
   {
    "duration": 45,
    "start_time": "2022-04-26T05:14:50.377Z"
   },
   {
    "duration": 43,
    "start_time": "2022-04-26T05:16:23.448Z"
   },
   {
    "duration": 42,
    "start_time": "2022-04-26T05:16:38.600Z"
   },
   {
    "duration": 46,
    "start_time": "2022-04-26T05:17:17.600Z"
   },
   {
    "duration": 42,
    "start_time": "2022-04-26T05:18:45.111Z"
   },
   {
    "duration": 46,
    "start_time": "2022-04-26T05:18:59.366Z"
   },
   {
    "duration": 110,
    "start_time": "2022-04-26T05:19:09.007Z"
   },
   {
    "duration": 7,
    "start_time": "2022-04-26T05:19:09.120Z"
   },
   {
    "duration": 66,
    "start_time": "2022-04-26T05:19:09.130Z"
   },
   {
    "duration": 6,
    "start_time": "2022-04-26T05:19:09.200Z"
   },
   {
    "duration": 68,
    "start_time": "2022-04-26T05:19:09.209Z"
   },
   {
    "duration": 32,
    "start_time": "2022-04-26T05:19:09.293Z"
   },
   {
    "duration": 19,
    "start_time": "2022-04-26T05:19:09.327Z"
   },
   {
    "duration": 114,
    "start_time": "2022-04-26T05:19:09.349Z"
   },
   {
    "duration": 41,
    "start_time": "2022-04-26T05:19:09.466Z"
   },
   {
    "duration": 25,
    "start_time": "2022-04-26T05:19:09.512Z"
   },
   {
    "duration": 59,
    "start_time": "2022-04-26T05:19:09.540Z"
   },
   {
    "duration": 25,
    "start_time": "2022-04-26T05:19:09.602Z"
   },
   {
    "duration": 113,
    "start_time": "2022-04-26T05:19:45.382Z"
   },
   {
    "duration": 173,
    "start_time": "2022-04-26T05:20:01.111Z"
   },
   {
    "duration": 46,
    "start_time": "2022-04-26T05:20:20.286Z"
   },
   {
    "duration": 65,
    "start_time": "2022-04-26T05:21:42.214Z"
   },
   {
    "duration": 53,
    "start_time": "2022-04-26T05:22:30.493Z"
   },
   {
    "duration": 42,
    "start_time": "2022-04-26T05:23:07.917Z"
   },
   {
    "duration": 40,
    "start_time": "2022-04-26T05:28:55.888Z"
   },
   {
    "duration": 3080,
    "start_time": "2022-04-26T05:46:24.240Z"
   },
   {
    "duration": 97,
    "start_time": "2022-04-26T05:46:48.783Z"
   },
   {
    "duration": 5,
    "start_time": "2022-04-26T05:46:48.882Z"
   },
   {
    "duration": 40,
    "start_time": "2022-04-26T05:46:48.889Z"
   },
   {
    "duration": 4,
    "start_time": "2022-04-26T05:46:48.932Z"
   },
   {
    "duration": 121,
    "start_time": "2022-04-26T05:46:48.938Z"
   },
   {
    "duration": 35,
    "start_time": "2022-04-26T05:46:49.061Z"
   },
   {
    "duration": 19,
    "start_time": "2022-04-26T05:46:49.098Z"
   },
   {
    "duration": 74,
    "start_time": "2022-04-26T05:46:49.119Z"
   },
   {
    "duration": 21,
    "start_time": "2022-04-26T05:46:49.195Z"
   },
   {
    "duration": 16,
    "start_time": "2022-04-26T05:46:49.219Z"
   },
   {
    "duration": 19,
    "start_time": "2022-04-26T05:46:49.238Z"
   },
   {
    "duration": 24,
    "start_time": "2022-04-26T05:46:49.293Z"
   },
   {
    "duration": 2666,
    "start_time": "2022-04-26T05:47:23.908Z"
   },
   {
    "duration": 88,
    "start_time": "2022-04-26T05:47:41.815Z"
   },
   {
    "duration": 7,
    "start_time": "2022-04-26T05:47:41.906Z"
   },
   {
    "duration": 42,
    "start_time": "2022-04-26T05:47:41.915Z"
   },
   {
    "duration": 5,
    "start_time": "2022-04-26T05:47:41.959Z"
   },
   {
    "duration": 64,
    "start_time": "2022-04-26T05:47:41.993Z"
   },
   {
    "duration": 46,
    "start_time": "2022-04-26T05:47:42.059Z"
   },
   {
    "duration": 23,
    "start_time": "2022-04-26T05:47:42.108Z"
   },
   {
    "duration": 80,
    "start_time": "2022-04-26T05:47:42.133Z"
   },
   {
    "duration": 19,
    "start_time": "2022-04-26T05:47:42.215Z"
   },
   {
    "duration": 17,
    "start_time": "2022-04-26T05:47:42.237Z"
   },
   {
    "duration": 51,
    "start_time": "2022-04-26T05:47:42.256Z"
   },
   {
    "duration": 22,
    "start_time": "2022-04-26T05:47:42.309Z"
   },
   {
    "duration": 101,
    "start_time": "2022-04-26T06:03:36.053Z"
   },
   {
    "duration": 5,
    "start_time": "2022-04-26T06:03:36.157Z"
   },
   {
    "duration": 57,
    "start_time": "2022-04-26T06:03:36.164Z"
   },
   {
    "duration": 4,
    "start_time": "2022-04-26T06:03:36.225Z"
   },
   {
    "duration": 81,
    "start_time": "2022-04-26T06:03:36.231Z"
   },
   {
    "duration": 23,
    "start_time": "2022-04-26T06:03:36.315Z"
   },
   {
    "duration": 20,
    "start_time": "2022-04-26T06:03:36.340Z"
   },
   {
    "duration": 77,
    "start_time": "2022-04-26T06:03:36.362Z"
   },
   {
    "duration": 30,
    "start_time": "2022-04-26T06:03:36.442Z"
   },
   {
    "duration": 17,
    "start_time": "2022-04-26T06:03:36.494Z"
   },
   {
    "duration": 20,
    "start_time": "2022-04-26T06:03:36.514Z"
   },
   {
    "duration": 22,
    "start_time": "2022-04-26T06:03:36.536Z"
   },
   {
    "duration": 95,
    "start_time": "2022-04-26T06:04:51.325Z"
   },
   {
    "duration": 5,
    "start_time": "2022-04-26T06:04:51.423Z"
   },
   {
    "duration": 46,
    "start_time": "2022-04-26T06:04:51.431Z"
   },
   {
    "duration": 15,
    "start_time": "2022-04-26T06:04:51.480Z"
   },
   {
    "duration": 96,
    "start_time": "2022-04-26T06:04:51.497Z"
   },
   {
    "duration": 24,
    "start_time": "2022-04-26T06:04:51.595Z"
   },
   {
    "duration": 20,
    "start_time": "2022-04-26T06:04:51.621Z"
   },
   {
    "duration": 84,
    "start_time": "2022-04-26T06:04:51.643Z"
   },
   {
    "duration": 20,
    "start_time": "2022-04-26T06:04:51.729Z"
   },
   {
    "duration": 45,
    "start_time": "2022-04-26T06:04:51.752Z"
   },
   {
    "duration": 20,
    "start_time": "2022-04-26T06:04:51.799Z"
   },
   {
    "duration": 22,
    "start_time": "2022-04-26T06:04:51.821Z"
   },
   {
    "duration": 86,
    "start_time": "2022-04-26T06:06:35.595Z"
   },
   {
    "duration": 5,
    "start_time": "2022-04-26T06:06:35.684Z"
   },
   {
    "duration": 41,
    "start_time": "2022-04-26T06:06:35.692Z"
   },
   {
    "duration": 4,
    "start_time": "2022-04-26T06:06:35.736Z"
   },
   {
    "duration": 156,
    "start_time": "2022-04-26T06:06:35.742Z"
   },
   {
    "duration": 0,
    "start_time": "2022-04-26T06:06:35.900Z"
   },
   {
    "duration": 0,
    "start_time": "2022-04-26T06:06:35.901Z"
   },
   {
    "duration": 0,
    "start_time": "2022-04-26T06:06:35.903Z"
   },
   {
    "duration": 0,
    "start_time": "2022-04-26T06:06:35.904Z"
   },
   {
    "duration": 0,
    "start_time": "2022-04-26T06:06:35.905Z"
   },
   {
    "duration": 0,
    "start_time": "2022-04-26T06:06:35.906Z"
   },
   {
    "duration": 0,
    "start_time": "2022-04-26T06:06:35.908Z"
   },
   {
    "duration": 85,
    "start_time": "2022-04-26T06:07:01.923Z"
   },
   {
    "duration": 5,
    "start_time": "2022-04-26T06:07:02.011Z"
   },
   {
    "duration": 43,
    "start_time": "2022-04-26T06:07:02.018Z"
   },
   {
    "duration": 5,
    "start_time": "2022-04-26T06:07:02.064Z"
   },
   {
    "duration": 133,
    "start_time": "2022-04-26T06:07:02.070Z"
   },
   {
    "duration": 24,
    "start_time": "2022-04-26T06:07:02.205Z"
   },
   {
    "duration": 19,
    "start_time": "2022-04-26T06:07:02.232Z"
   },
   {
    "duration": 112,
    "start_time": "2022-04-26T06:07:02.253Z"
   },
   {
    "duration": 36,
    "start_time": "2022-04-26T06:07:02.367Z"
   },
   {
    "duration": 16,
    "start_time": "2022-04-26T06:07:02.406Z"
   },
   {
    "duration": 21,
    "start_time": "2022-04-26T06:07:02.424Z"
   },
   {
    "duration": 58,
    "start_time": "2022-04-26T06:07:02.447Z"
   },
   {
    "duration": 98,
    "start_time": "2022-04-26T06:14:42.160Z"
   },
   {
    "duration": 7,
    "start_time": "2022-04-26T06:14:42.261Z"
   },
   {
    "duration": 59,
    "start_time": "2022-04-26T06:14:42.271Z"
   },
   {
    "duration": 5,
    "start_time": "2022-04-26T06:14:42.334Z"
   },
   {
    "duration": 116,
    "start_time": "2022-04-26T06:14:42.342Z"
   },
   {
    "duration": 45,
    "start_time": "2022-04-26T06:14:42.461Z"
   },
   {
    "duration": 22,
    "start_time": "2022-04-26T06:14:42.509Z"
   },
   {
    "duration": 72,
    "start_time": "2022-04-26T06:14:42.533Z"
   },
   {
    "duration": 20,
    "start_time": "2022-04-26T06:14:42.607Z"
   },
   {
    "duration": 17,
    "start_time": "2022-04-26T06:14:42.630Z"
   },
   {
    "duration": 61,
    "start_time": "2022-04-26T06:14:42.649Z"
   },
   {
    "duration": 22,
    "start_time": "2022-04-26T06:14:42.712Z"
   },
   {
    "duration": 2904,
    "start_time": "2022-04-26T06:15:19.340Z"
   },
   {
    "duration": 89,
    "start_time": "2022-04-26T06:15:29.334Z"
   },
   {
    "duration": 6,
    "start_time": "2022-04-26T06:15:29.425Z"
   },
   {
    "duration": 65,
    "start_time": "2022-04-26T06:15:29.433Z"
   },
   {
    "duration": 5,
    "start_time": "2022-04-26T06:15:29.502Z"
   },
   {
    "duration": 144,
    "start_time": "2022-04-26T06:15:29.510Z"
   },
   {
    "duration": 51,
    "start_time": "2022-04-26T06:15:29.657Z"
   },
   {
    "duration": 32,
    "start_time": "2022-04-26T06:15:29.711Z"
   },
   {
    "duration": 80,
    "start_time": "2022-04-26T06:15:29.747Z"
   },
   {
    "duration": 22,
    "start_time": "2022-04-26T06:15:29.830Z"
   },
   {
    "duration": 48,
    "start_time": "2022-04-26T06:15:29.857Z"
   },
   {
    "duration": 21,
    "start_time": "2022-04-26T06:15:29.907Z"
   },
   {
    "duration": 22,
    "start_time": "2022-04-26T06:15:29.930Z"
   },
   {
    "duration": 27,
    "start_time": "2022-04-26T06:17:36.891Z"
   },
   {
    "duration": 450,
    "start_time": "2022-04-26T06:20:29.976Z"
   },
   {
    "duration": 182,
    "start_time": "2022-04-26T06:20:44.288Z"
   },
   {
    "duration": 100,
    "start_time": "2022-04-26T06:58:02.515Z"
   },
   {
    "duration": 5,
    "start_time": "2022-04-26T06:58:02.618Z"
   },
   {
    "duration": 46,
    "start_time": "2022-04-26T06:58:02.625Z"
   },
   {
    "duration": 5,
    "start_time": "2022-04-26T06:58:02.694Z"
   },
   {
    "duration": 94,
    "start_time": "2022-04-26T06:58:02.701Z"
   },
   {
    "duration": 27,
    "start_time": "2022-04-26T06:58:02.798Z"
   },
   {
    "duration": 21,
    "start_time": "2022-04-26T06:58:02.827Z"
   },
   {
    "duration": 92,
    "start_time": "2022-04-26T06:58:02.850Z"
   },
   {
    "duration": 22,
    "start_time": "2022-04-26T06:58:02.944Z"
   },
   {
    "duration": 22,
    "start_time": "2022-04-26T06:58:02.992Z"
   },
   {
    "duration": 30,
    "start_time": "2022-04-26T06:58:03.017Z"
   },
   {
    "duration": 65,
    "start_time": "2022-04-26T06:58:03.050Z"
   },
   {
    "duration": 87,
    "start_time": "2022-04-26T07:00:26.586Z"
   },
   {
    "duration": 6,
    "start_time": "2022-04-26T07:00:26.676Z"
   },
   {
    "duration": 60,
    "start_time": "2022-04-26T07:00:26.693Z"
   },
   {
    "duration": 5,
    "start_time": "2022-04-26T07:00:26.756Z"
   },
   {
    "duration": 108,
    "start_time": "2022-04-26T07:00:26.763Z"
   },
   {
    "duration": 38,
    "start_time": "2022-04-26T07:00:26.873Z"
   },
   {
    "duration": 20,
    "start_time": "2022-04-26T07:00:26.913Z"
   },
   {
    "duration": 75,
    "start_time": "2022-04-26T07:00:26.936Z"
   },
   {
    "duration": 21,
    "start_time": "2022-04-26T07:00:27.013Z"
   },
   {
    "duration": 17,
    "start_time": "2022-04-26T07:00:27.037Z"
   },
   {
    "duration": 53,
    "start_time": "2022-04-26T07:00:27.056Z"
   },
   {
    "duration": 23,
    "start_time": "2022-04-26T07:00:27.111Z"
   },
   {
    "duration": 643,
    "start_time": "2022-04-26T09:25:00.852Z"
   },
   {
    "duration": 7,
    "start_time": "2022-04-26T09:25:01.499Z"
   },
   {
    "duration": 101,
    "start_time": "2022-04-26T09:25:01.509Z"
   },
   {
    "duration": 5,
    "start_time": "2022-04-26T09:25:01.613Z"
   },
   {
    "duration": 133,
    "start_time": "2022-04-26T09:25:01.620Z"
   },
   {
    "duration": 43,
    "start_time": "2022-04-26T09:25:01.756Z"
   },
   {
    "duration": 72,
    "start_time": "2022-04-26T09:25:01.802Z"
   },
   {
    "duration": 69,
    "start_time": "2022-04-26T09:25:01.876Z"
   },
   {
    "duration": 46,
    "start_time": "2022-04-26T09:25:01.947Z"
   },
   {
    "duration": 18,
    "start_time": "2022-04-26T09:25:01.997Z"
   },
   {
    "duration": 53,
    "start_time": "2022-04-26T09:25:02.017Z"
   },
   {
    "duration": 36,
    "start_time": "2022-04-26T09:25:02.072Z"
   },
   {
    "duration": 638,
    "start_time": "2022-04-26T09:25:43.131Z"
   },
   {
    "duration": 6,
    "start_time": "2022-04-26T09:25:43.772Z"
   },
   {
    "duration": 80,
    "start_time": "2022-04-26T09:25:43.780Z"
   },
   {
    "duration": 5,
    "start_time": "2022-04-26T09:25:43.863Z"
   },
   {
    "duration": 106,
    "start_time": "2022-04-26T09:25:43.870Z"
   },
   {
    "duration": 26,
    "start_time": "2022-04-26T09:25:43.992Z"
   },
   {
    "duration": 22,
    "start_time": "2022-04-26T09:25:44.020Z"
   },
   {
    "duration": 78,
    "start_time": "2022-04-26T09:25:44.047Z"
   },
   {
    "duration": 20,
    "start_time": "2022-04-26T09:25:44.127Z"
   },
   {
    "duration": 50,
    "start_time": "2022-04-26T09:25:44.150Z"
   },
   {
    "duration": 19,
    "start_time": "2022-04-26T09:25:44.202Z"
   },
   {
    "duration": 23,
    "start_time": "2022-04-26T09:25:44.223Z"
   }
  ],
  "kernelspec": {
   "display_name": "Python 3 (ipykernel)",
   "language": "python",
   "name": "python3"
  },
  "language_info": {
   "codemirror_mode": {
    "name": "ipython",
    "version": 3
   },
   "file_extension": ".py",
   "mimetype": "text/x-python",
   "name": "python",
   "nbconvert_exporter": "python",
   "pygments_lexer": "ipython3",
   "version": "3.9.5"
  },
  "toc": {
   "base_numbering": 1,
   "nav_menu": {},
   "number_sections": true,
   "sideBar": true,
   "skip_h1_title": true,
   "title_cell": "Table of Contents",
   "title_sidebar": "Contents",
   "toc_cell": false,
   "toc_position": {
    "height": "calc(100% - 180px)",
    "left": "10px",
    "top": "150px",
    "width": "289.6px"
   },
   "toc_section_display": true,
   "toc_window_display": false
  }
 },
 "nbformat": 4,
 "nbformat_minor": 5
}
